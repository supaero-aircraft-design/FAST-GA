{
 "cells": [
  {
   "cell_type": "markdown",
   "metadata": {},
   "source": [
    "<div class=\"row\">\n",
    "  <div class=\"column\">\n",
    "    <img src=\"./img/logo-onera.png\" width=\"200\">\n",
    "  </div>\n",
    "  <div class=\"column\">\n",
    "    <img src=\"./img/logo-ISAE_SUPAERO.png\" width=\"200\">\n",
    "  </div>\n",
    "</div>"
   ]
  },
  {
   "cell_type": "markdown",
   "metadata": {},
   "source": [
    "# FAST-OAD-GA Tutorial"
   ]
  },
  {
   "cell_type": "markdown",
   "metadata": {},
   "source": [
    "FAST-OAD-GA is an add-on package for [FAST-OAD framework](https://github.com/fast-aircraft-design/FAST-OAD) for performing rapid Overall Aircraft Design in the category General Aviation (GA). The computational core of FAST-OAD being based on the  [OpenMDAO framework](https://openmdao.org/)."
   ]
  },
  {
   "cell_type": "code",
   "execution_count": 23,
   "metadata": {},
   "outputs": [],
   "source": [
    "import warnings\n",
    "\n",
    "warnings.filterwarnings(action=\"ignore\")"
   ]
  },
  {
   "cell_type": "markdown",
   "metadata": {},
   "source": [
    "## 1. Setting up and analyzing the initial problem"
   ]
  },
  {
   "cell_type": "markdown",
   "metadata": {},
   "source": [
    "To organize our work, we propose to use two user folders `data/` and `workdir/`. For instance, in `data/` we store a XML file which describes the Beechcraft Duchess. In `workdir/`, we store files generated or modified by FAST-OAD."
   ]
  },
  {
   "cell_type": "code",
   "execution_count": 24,
   "metadata": {},
   "outputs": [
    {
     "data": {
      "text/html": [
       "<style>.container { width:95% !important; }</style>"
      ],
      "text/plain": [
       "<IPython.core.display.HTML object>"
      ]
     },
     "metadata": {},
     "output_type": "display_data"
    }
   ],
   "source": [
    "import os.path as pth\n",
    "import os\n",
    "import openmdao.api as om\n",
    "from fastoad import api as api_cs25\n",
    "from fastga.command import api as api_cs23\n",
    "import logging\n",
    "from fastoad.gui import VariableViewer\n",
    "import shutil\n",
    "\n",
    "# Define relative path\n",
    "DATA_FOLDER_PATH = \"data\"\n",
    "WORK_FOLDER_PATH = \"workdir\"\n",
    "\n",
    "# Remove work folder\n",
    "shutil.rmtree(WORK_FOLDER_PATH, ignore_errors=True)\n",
    "\n",
    "# Define files\n",
    "CONFIGURATION_FILE = pth.join(WORK_FOLDER_PATH, \"oad_process.yml\")\n",
    "SOURCE_FILE = pth.join(DATA_FOLDER_PATH, \"beechcraft_76.xml\")\n",
    "\n",
    "# For having log messages on screen\n",
    "logging.basicConfig(level=logging.INFO, format=\"%(levelname)-8s: %(message)s\")\n",
    "\n",
    "# For using all screen width\n",
    "from IPython.core.display import display, HTML\n",
    "\n",
    "display(HTML(\"<style>.container { width:95% !important; }</style>\"))"
   ]
  },
  {
   "cell_type": "markdown",
   "metadata": {},
   "source": [
    "After defining a configuration file name, we can ask FAST-GA to generate a default configuration file based on the default OAD model implemented in the framework:"
   ]
  },
  {
   "cell_type": "code",
   "execution_count": 25,
   "metadata": {},
   "outputs": [
    {
     "name": "stderr",
     "output_type": "stream",
     "text": [
      "INFO    : Sample configuration written in \"C:\\Users\\88690\\Documents\\GitHub\\FAST-GA\\FAST-OAD_notebooks\\fast-oad-cs23\\tutorial\\workdir\\oad_process.yml\".\n"
     ]
    },
    {
     "data": {
      "text/plain": [
       "'C:\\\\Users\\\\88690\\\\Documents\\\\GitHub\\\\FAST-GA\\\\FAST-OAD_notebooks\\\\fast-oad-cs23\\\\tutorial\\\\workdir\\\\oad_process.yml'"
      ]
     },
     "execution_count": 25,
     "metadata": {},
     "output_type": "execute_result"
    }
   ],
   "source": [
    "api_cs25.generate_configuration_file(\n",
    "    CONFIGURATION_FILE,\n",
    "    overwrite=True,\n",
    "    distribution_name=\"fast-oad-cs23\",\n",
    "    sample_file_name=\"fastga.yml\",\n",
    ")"
   ]
  },
  {
   "cell_type": "markdown",
   "metadata": {},
   "source": [
    "You can now checkout the generated [configuration file](./workdir/oad_process.yml). In this configuration file, we have specified an input file name 'problem_inputs.xml'. We can ask FAST-OAD to generate the inputs of the default model with the CeRAS parameters as default values:"
   ]
  },
  {
   "cell_type": "code",
   "execution_count": 26,
   "metadata": {},
   "outputs": [
    {
     "name": "stderr",
     "output_type": "stream",
     "text": [
      "INFO    : Problem inputs written in C:\\Users\\88690\\Documents\\GitHub\\FAST-GA\\FAST-OAD_notebooks\\fast-oad-cs23\\tutorial\\workdir\\problem_inputs.xml\n"
     ]
    },
    {
     "data": {
      "text/plain": [
       "'C:\\\\Users\\\\88690\\\\Documents\\\\GitHub\\\\FAST-GA\\\\FAST-OAD_notebooks\\\\fast-oad-cs23\\\\tutorial\\\\workdir\\\\problem_inputs.xml'"
      ]
     },
     "execution_count": 26,
     "metadata": {},
     "output_type": "execute_result"
    }
   ],
   "source": [
    "api_cs25.generate_inputs(CONFIGURATION_FILE, SOURCE_FILE, overwrite=True)"
   ]
  },
  {
   "cell_type": "markdown",
   "metadata": {},
   "source": [
    "You can now checkout the generated [input file](./workdir/problem_inputs.xml). As shown previously in the user file architecture, the values in this file can be modified by the user and will be considered by FAST-OAD when executing a computational process."
   ]
  },
  {
   "cell_type": "markdown",
   "metadata": {},
   "source": [
    "A useful feature that FAST-OAD provides is to list the outputs of the model defined in the configuration file:"
   ]
  },
  {
   "cell_type": "code",
   "execution_count": 45,
   "metadata": {},
   "outputs": [
    {
     "data": {
      "text/html": [
       "<table border=\"1\" class=\"dataframe\">\n",
       "  <thead>\n",
       "    <tr style=\"text-align: right;\">\n",
       "      <th>NAME</th>\n",
       "      <th>I/O</th>\n",
       "      <th>DESCRIPTION</th>\n",
       "    </tr>\n",
       "  </thead>\n",
       "  <tbody>\n",
       "    <tr>\n",
       "      <td>data:TLAR:NPAX_design</td>\n",
       "      <td>IN</td>\n",
       "      <td>design number of passengers (two pilots are included de facto, meaning for a 2 seater, NPAX_design is equal to 0)</td>\n",
       "    </tr>\n",
       "    <tr>\n",
       "      <td>data:TLAR:luggage_mass_design</td>\n",
       "      <td>IN</td>\n",
       "      <td>luggage design mass</td>\n",
       "    </tr>\n",
       "    <tr>\n",
       "      <td>data:TLAR:range</td>\n",
       "      <td>IN</td>\n",
       "      <td>design range</td>\n",
       "    </tr>\n",
       "    <tr>\n",
       "      <td>data:TLAR:v_approach</td>\n",
       "      <td>IN</td>\n",
       "      <td>approach speed</td>\n",
       "    </tr>\n",
       "    <tr>\n",
       "      <td>data:TLAR:v_cruise</td>\n",
       "      <td>IN</td>\n",
       "      <td>cruise speed</td>\n",
       "    </tr>\n",
       "    <tr>\n",
       "      <td>data:TLAR:v_max_sl</td>\n",
       "      <td>IN</td>\n",
       "      <td>maximum speed at sea level</td>\n",
       "    </tr>\n",
       "    <tr>\n",
       "      <td>data:aerodynamics:cooling:cruise:CD0</td>\n",
       "      <td>IN</td>\n",
       "      <td>profile drag due to cooling in cruise conditions</td>\n",
       "    </tr>\n",
       "    <tr>\n",
       "      <td>data:aerodynamics:cooling:low_speed:CD0</td>\n",
       "      <td>IN</td>\n",
       "      <td>profile drag due to cooling in low speed conditions</td>\n",
       "    </tr>\n",
       "    <tr>\n",
       "      <td>data:aerodynamics:propeller:mach</td>\n",
       "      <td>IN</td>\n",
       "      <td>mach number used to compute the polar of the airfoil used in the propeller computation</td>\n",
       "    </tr>\n",
       "    <tr>\n",
       "      <td>data:aerodynamics:propeller:reynolds</td>\n",
       "      <td>IN</td>\n",
       "      <td>reynolds number used to compute the polar of the airfoil used in the propeller computation</td>\n",
       "    </tr>\n",
       "    <tr>\n",
       "      <td>data:aerodynamics:vertical_tail:efficiency</td>\n",
       "      <td>IN</td>\n",
       "      <td></td>\n",
       "    </tr>\n",
       "    <tr>\n",
       "      <td>data:geometry:cabin:aisle_width</td>\n",
       "      <td>IN</td>\n",
       "      <td>width of the aisle</td>\n",
       "    </tr>\n",
       "    <tr>\n",
       "      <td>data:geometry:cabin:luggage:mass_max</td>\n",
       "      <td>IN</td>\n",
       "      <td>maximum luggage mass</td>\n",
       "    </tr>\n",
       "    <tr>\n",
       "      <td>data:geometry:cabin:seats:passenger:NPAX_max</td>\n",
       "      <td>IN</td>\n",
       "      <td>maximum number of passengers in the aircraft</td>\n",
       "    </tr>\n",
       "    <tr>\n",
       "      <td>data:geometry:cabin:seats:passenger:count_by_row</td>\n",
       "      <td>IN</td>\n",
       "      <td>number of passenger seats per row</td>\n",
       "    </tr>\n",
       "    <tr>\n",
       "      <td>data:geometry:cabin:seats:passenger:length</td>\n",
       "      <td>IN</td>\n",
       "      <td>passenger seats length</td>\n",
       "    </tr>\n",
       "    <tr>\n",
       "      <td>data:geometry:cabin:seats:passenger:width</td>\n",
       "      <td>IN</td>\n",
       "      <td>width of passenger seats</td>\n",
       "    </tr>\n",
       "    <tr>\n",
       "      <td>data:geometry:cabin:seats:pilot:length</td>\n",
       "      <td>IN</td>\n",
       "      <td>pilot seats length</td>\n",
       "    </tr>\n",
       "    <tr>\n",
       "      <td>data:geometry:cabin:seats:pilot:width</td>\n",
       "      <td>IN</td>\n",
       "      <td>width of pilot seats</td>\n",
       "    </tr>\n",
       "    <tr>\n",
       "      <td>data:geometry:flap:chord_ratio</td>\n",
       "      <td>IN</td>\n",
       "      <td>flap chord as a percentage of the wing chord</td>\n",
       "    </tr>\n",
       "    <tr>\n",
       "      <td>data:geometry:flap:span_ratio</td>\n",
       "      <td>IN</td>\n",
       "      <td>flap span as a percentage of the wing span</td>\n",
       "    </tr>\n",
       "    <tr>\n",
       "      <td>data:geometry:flap_type</td>\n",
       "      <td>IN</td>\n",
       "      <td>flap type (0.0 - plain flap, 2.0 - single slotted flap, 3.0 - split flap)</td>\n",
       "    </tr>\n",
       "    <tr>\n",
       "      <td>data:geometry:has_T_tail</td>\n",
       "      <td>IN</td>\n",
       "      <td>0=horizontal tail is attached to fuselage / 1=horizontal tail is attached to top of vertical tail</td>\n",
       "    </tr>\n",
       "    <tr>\n",
       "      <td>data:geometry:horizontal_tail:MAC:at25percent:x:from_wingMAC25</td>\n",
       "      <td>IN</td>\n",
       "      <td>distance along X between 25% MAC of wing and 25% MAC of horizontal tail</td>\n",
       "    </tr>\n",
       "    <tr>\n",
       "      <td>data:geometry:horizontal_tail:aspect_ratio</td>\n",
       "      <td>IN</td>\n",
       "      <td>horizontal tail aspect ratio</td>\n",
       "    </tr>\n",
       "    <tr>\n",
       "      <td>data:geometry:horizontal_tail:elevator_chord_ratio</td>\n",
       "      <td>IN</td>\n",
       "      <td>elevator chord ratio</td>\n",
       "    </tr>\n",
       "    <tr>\n",
       "      <td>data:geometry:horizontal_tail:sweep_25</td>\n",
       "      <td>IN</td>\n",
       "      <td>sweep angle at 25% chord of horizontal tail</td>\n",
       "    </tr>\n",
       "    <tr>\n",
       "      <td>data:geometry:horizontal_tail:taper_ratio</td>\n",
       "      <td>IN</td>\n",
       "      <td>taper ratio of horizontal tail</td>\n",
       "    </tr>\n",
       "    <tr>\n",
       "      <td>data:geometry:horizontal_tail:thickness_ratio</td>\n",
       "      <td>IN</td>\n",
       "      <td>thickness ratio of horizontal tail</td>\n",
       "    </tr>\n",
       "    <tr>\n",
       "      <td>data:geometry:landing_gear:type</td>\n",
       "      <td>IN</td>\n",
       "      <td>0=non-retractable / 1=retractable</td>\n",
       "    </tr>\n",
       "    <tr>\n",
       "      <td>data:geometry:propeller:average_rpm</td>\n",
       "      <td>IN</td>\n",
       "      <td>average rotation speed of the propeller</td>\n",
       "    </tr>\n",
       "    <tr>\n",
       "      <td>data:geometry:propeller:blades_number</td>\n",
       "      <td>IN</td>\n",
       "      <td>number of blades on the propeller</td>\n",
       "    </tr>\n",
       "    <tr>\n",
       "      <td>data:geometry:propeller:chord_vect</td>\n",
       "      <td>IN</td>\n",
       "      <td>blade chord at the station along the radius stored in radius_ratio_vect</td>\n",
       "    </tr>\n",
       "    <tr>\n",
       "      <td>data:geometry:propeller:depth</td>\n",
       "      <td>IN</td>\n",
       "      <td>depth of the propeller</td>\n",
       "    </tr>\n",
       "    <tr>\n",
       "      <td>data:geometry:propeller:diameter</td>\n",
       "      <td>IN</td>\n",
       "      <td>propeller diameter</td>\n",
       "    </tr>\n",
       "    <tr>\n",
       "      <td>data:geometry:propeller:hub_diameter</td>\n",
       "      <td>IN</td>\n",
       "      <td>propeller hub diameter</td>\n",
       "    </tr>\n",
       "    <tr>\n",
       "      <td>data:geometry:propeller:radius_ratio_vect</td>\n",
       "      <td>IN</td>\n",
       "      <td>blade station at which blade geometric properties are sampled, as a percent of blade radius</td>\n",
       "    </tr>\n",
       "    <tr>\n",
       "      <td>data:geometry:propeller:sweep_vect</td>\n",
       "      <td>IN</td>\n",
       "      <td>blade sweep at the station along the radius stored in radius_ratio_vect</td>\n",
       "    </tr>\n",
       "    <tr>\n",
       "      <td>data:geometry:propeller:twist_vect</td>\n",
       "      <td>IN</td>\n",
       "      <td>blade twist at the station along the radius stored in radius_ratio_vect</td>\n",
       "    </tr>\n",
       "    <tr>\n",
       "      <td>data:geometry:propulsion:engine:count</td>\n",
       "      <td>IN</td>\n",
       "      <td>number of engine</td>\n",
       "    </tr>\n",
       "    <tr>\n",
       "      <td>data:geometry:propulsion:engine:layout</td>\n",
       "      <td>IN</td>\n",
       "      <td>position of engines (1=under the wing / 2=rear fuselage / 3=nose)</td>\n",
       "    </tr>\n",
       "    <tr>\n",
       "      <td>data:geometry:propulsion:engine:y_ratio</td>\n",
       "      <td>IN</td>\n",
       "      <td>engine position along wing span (if layout=1-2)</td>\n",
       "    </tr>\n",
       "    <tr>\n",
       "      <td>data:geometry:vertical_tail:aspect_ratio</td>\n",
       "      <td>IN</td>\n",
       "      <td>vertical tail aspect ratio</td>\n",
       "    </tr>\n",
       "    <tr>\n",
       "      <td>data:geometry:vertical_tail:max_thickness:x_ratio</td>\n",
       "      <td>IN</td>\n",
       "      <td>position of the point of maximum thickness as a ratio of vertical tail chord</td>\n",
       "    </tr>\n",
       "    <tr>\n",
       "      <td>data:geometry:vertical_tail:rudder:chord_ratio</td>\n",
       "      <td>IN</td>\n",
       "      <td>flap rudder as a percentage of the wing chord</td>\n",
       "    </tr>\n",
       "    <tr>\n",
       "      <td>data:geometry:vertical_tail:rudder:max_deflection</td>\n",
       "      <td>IN</td>\n",
       "      <td>rudder maximum deflection</td>\n",
       "    </tr>\n",
       "    <tr>\n",
       "      <td>data:geometry:vertical_tail:sweep_25</td>\n",
       "      <td>IN</td>\n",
       "      <td>sweep angle at 25% chord of vertical tail</td>\n",
       "    </tr>\n",
       "    <tr>\n",
       "      <td>data:geometry:vertical_tail:taper_ratio</td>\n",
       "      <td>IN</td>\n",
       "      <td>taper ratio of vertical tail</td>\n",
       "    </tr>\n",
       "    <tr>\n",
       "      <td>data:geometry:vertical_tail:thickness_ratio</td>\n",
       "      <td>IN</td>\n",
       "      <td>thickness ratio of vertical tail</td>\n",
       "    </tr>\n",
       "    <tr>\n",
       "      <td>data:geometry:wing:aspect_ratio</td>\n",
       "      <td>IN</td>\n",
       "      <td>wing aspect ratio</td>\n",
       "    </tr>\n",
       "    <tr>\n",
       "      <td>data:geometry:wing:dihedral</td>\n",
       "      <td>IN</td>\n",
       "      <td></td>\n",
       "    </tr>\n",
       "    <tr>\n",
       "      <td>data:geometry:wing:kink:span_ratio</td>\n",
       "      <td>IN</td>\n",
       "      <td>ratio (Y-position of kink)/(semi-span)</td>\n",
       "    </tr>\n",
       "    <tr>\n",
       "      <td>data:geometry:wing:sweep_25</td>\n",
       "      <td>IN</td>\n",
       "      <td>sweep angle at 25% chord of wing</td>\n",
       "    </tr>\n",
       "    <tr>\n",
       "      <td>data:geometry:wing:taper_ratio</td>\n",
       "      <td>IN</td>\n",
       "      <td>taper ratio of wing</td>\n",
       "    </tr>\n",
       "    <tr>\n",
       "      <td>data:geometry:wing:thickness_ratio</td>\n",
       "      <td>IN</td>\n",
       "      <td>mean thickness ratio of wing</td>\n",
       "    </tr>\n",
       "    <tr>\n",
       "      <td>data:geometry:wing:twist</td>\n",
       "      <td>IN</td>\n",
       "      <td>Negative twist means tip AOA is smaller than root</td>\n",
       "    </tr>\n",
       "    <tr>\n",
       "      <td>data:geometry:wing_configuration</td>\n",
       "      <td>IN</td>\n",
       "      <td>1=low wing configuration / 2=mid wing configuration / 3=high wing configuration</td>\n",
       "    </tr>\n",
       "    <tr>\n",
       "      <td>data:handling_qualities:static_margin:target</td>\n",
       "      <td>IN</td>\n",
       "      <td>static margin we want to achieve</td>\n",
       "    </tr>\n",
       "    <tr>\n",
       "      <td>data:mission:sizing:cs23:characteristic_speed:vd</td>\n",
       "      <td>IN</td>\n",
       "      <td>limit speed</td>\n",
       "    </tr>\n",
       "    <tr>\n",
       "      <td>data:mission:sizing:cs23:sizing_factor:ultimate_aircraft</td>\n",
       "      <td>IN</td>\n",
       "      <td>ultimate load factor that the aircraft will experience (default value is 5.7)</td>\n",
       "    </tr>\n",
       "    <tr>\n",
       "      <td>data:mission:sizing:landing:elevator_angle</td>\n",
       "      <td>IN</td>\n",
       "      <td>position of the elevator during landing</td>\n",
       "    </tr>\n",
       "    <tr>\n",
       "      <td>data:mission:sizing:landing:flap_angle</td>\n",
       "      <td>IN</td>\n",
       "      <td>position of the flaps during landing</td>\n",
       "    </tr>\n",
       "    <tr>\n",
       "      <td>data:mission:sizing:landing:target_sideslip</td>\n",
       "      <td>IN</td>\n",
       "      <td></td>\n",
       "    </tr>\n",
       "    <tr>\n",
       "      <td>data:mission:sizing:main_route:climb:climb_rate:cruise_level</td>\n",
       "      <td>IN</td>\n",
       "      <td>target climb rate at the end of climb</td>\n",
       "    </tr>\n",
       "    <tr>\n",
       "      <td>data:mission:sizing:main_route:climb:climb_rate:sea_level</td>\n",
       "      <td>IN</td>\n",
       "      <td>target climb rate at sea level</td>\n",
       "    </tr>\n",
       "    <tr>\n",
       "      <td>data:mission:sizing:main_route:cruise:altitude</td>\n",
       "      <td>IN</td>\n",
       "      <td>main route cruise phase altitude</td>\n",
       "    </tr>\n",
       "    <tr>\n",
       "      <td>data:mission:sizing:main_route:descent:descent_rate</td>\n",
       "      <td>IN</td>\n",
       "      <td>target descent rate for the aircraft</td>\n",
       "    </tr>\n",
       "    <tr>\n",
       "      <td>data:mission:sizing:main_route:reserve:duration</td>\n",
       "      <td>IN</td>\n",
       "      <td>duration of the reserve segment</td>\n",
       "    </tr>\n",
       "    <tr>\n",
       "      <td>data:mission:sizing:takeoff:elevator_angle</td>\n",
       "      <td>IN</td>\n",
       "      <td>position of the elevator during takeoff</td>\n",
       "    </tr>\n",
       "    <tr>\n",
       "      <td>data:mission:sizing:takeoff:flap_angle</td>\n",
       "      <td>IN</td>\n",
       "      <td>position of the flaps during takeoff</td>\n",
       "    </tr>\n",
       "    <tr>\n",
       "      <td>data:mission:sizing:takeoff:friction_coefficient_no_brake</td>\n",
       "      <td>IN</td>\n",
       "      <td>friction coefficient used during the computation of the takeoff phase</td>\n",
       "    </tr>\n",
       "    <tr>\n",
       "      <td>data:mission:sizing:takeoff:thrust_rate</td>\n",
       "      <td>IN</td>\n",
       "      <td>thrust rate during takeoff phase</td>\n",
       "    </tr>\n",
       "    <tr>\n",
       "      <td>data:mission:sizing:taxi_in:duration</td>\n",
       "      <td>IN</td>\n",
       "      <td>duration of taxi in phase</td>\n",
       "    </tr>\n",
       "    <tr>\n",
       "      <td>data:mission:sizing:taxi_in:speed</td>\n",
       "      <td>IN</td>\n",
       "      <td>ground velocity during taxi in phase</td>\n",
       "    </tr>\n",
       "    <tr>\n",
       "      <td>data:mission:sizing:taxi_in:thrust_rate</td>\n",
       "      <td>IN</td>\n",
       "      <td>thrust rate during taxi in phase</td>\n",
       "    </tr>\n",
       "    <tr>\n",
       "      <td>data:mission:sizing:taxi_out:duration</td>\n",
       "      <td>IN</td>\n",
       "      <td>duration of taxi out phase</td>\n",
       "    </tr>\n",
       "    <tr>\n",
       "      <td>data:mission:sizing:taxi_out:speed</td>\n",
       "      <td>IN</td>\n",
       "      <td>ground velocity during taxi out phase</td>\n",
       "    </tr>\n",
       "    <tr>\n",
       "      <td>data:mission:sizing:taxi_out:thrust_rate</td>\n",
       "      <td>IN</td>\n",
       "      <td>thrust rate during taxi out phase</td>\n",
       "    </tr>\n",
       "    <tr>\n",
       "      <td>data:propulsion:IC_engine:max_power</td>\n",
       "      <td>IN</td>\n",
       "      <td>maximum power of the engine</td>\n",
       "    </tr>\n",
       "    <tr>\n",
       "      <td>data:propulsion:IC_engine:strokes_nb</td>\n",
       "      <td>IN</td>\n",
       "      <td>number of strokes on the engine</td>\n",
       "    </tr>\n",
       "    <tr>\n",
       "      <td>data:propulsion:fuel_type</td>\n",
       "      <td>IN</td>\n",
       "      <td>engine fuel type (1.0 - gasoline, 2.0 - gasoil)</td>\n",
       "    </tr>\n",
       "    <tr>\n",
       "      <td>data:weight:airframe:fuselage:k_factor</td>\n",
       "      <td>IN</td>\n",
       "      <td>proportional corrective factor for fuselage mass</td>\n",
       "    </tr>\n",
       "    <tr>\n",
       "      <td>data:weight:airframe:horizontal_tail:k_factor</td>\n",
       "      <td>IN</td>\n",
       "      <td>proportional corrective factor for horizontal tail mass</td>\n",
       "    </tr>\n",
       "    <tr>\n",
       "      <td>data:weight:airframe:paint:mass</td>\n",
       "      <td>IN</td>\n",
       "      <td>Mass of the airframe_inp_data:weight:airframe:paint:mass</td>\n",
       "    </tr>\n",
       "    <tr>\n",
       "      <td>data:weight:airframe:vertical_tail:k_factor</td>\n",
       "      <td>IN</td>\n",
       "      <td>proportional corrective factor for vertical tail mass</td>\n",
       "    </tr>\n",
       "    <tr>\n",
       "      <td>data:weight:airframe:wing:k_factor</td>\n",
       "      <td>IN</td>\n",
       "      <td>proportional corrective factor for wing mass</td>\n",
       "    </tr>\n",
       "    <tr>\n",
       "      <td>settings:aerodynamics:aircraft:undesirable_drag:k_factor</td>\n",
       "      <td>IN</td>\n",
       "      <td>Correction coefficient to take into account the other undesirable drag, default is 1.25 as suggested in Gudmundsson</td>\n",
       "    </tr>\n",
       "    <tr>\n",
       "      <td>settings:aerodynamics:reference_flight_conditions:cruise:AOA</td>\n",
       "      <td>IN</td>\n",
       "      <td></td>\n",
       "    </tr>\n",
       "    <tr>\n",
       "      <td>settings:aerodynamics:reference_flight_conditions:low_speed:AOA</td>\n",
       "      <td>IN</td>\n",
       "      <td></td>\n",
       "    </tr>\n",
       "    <tr>\n",
       "      <td>settings:handling_qualities:rudder:safety_margin</td>\n",
       "      <td>IN</td>\n",
       "      <td>Ratio of the total rudder deflection not used in the computation of the VT area to leave a safety margin</td>\n",
       "    </tr>\n",
       "    <tr>\n",
       "      <td>settings:mission:sizing:main_route:reserve:k_factor</td>\n",
       "      <td>IN</td>\n",
       "      <td>fudge factor on the reserve computation, can be used to adjust the model mainly to take into account different speed and altitudes</td>\n",
       "    </tr>\n",
       "    <tr>\n",
       "      <td>settings:propulsion:IC_engine:k_factor_sfc</td>\n",
       "      <td>IN</td>\n",
       "      <td>k_factor that can be used to adjust the consumption on engine level to the aircraft level</td>\n",
       "    </tr>\n",
       "    <tr>\n",
       "      <td>settings:weight:aircraft:CG:aft:MAC_position:margin</td>\n",
       "      <td>IN</td>\n",
       "      <td>Added margin for getting most aft CG position, as ratio of mean aerodynamic chord</td>\n",
       "    </tr>\n",
       "    <tr>\n",
       "      <td>settings:weight:aircraft:CG:fwd:MAC_position:margin</td>\n",
       "      <td>IN</td>\n",
       "      <td>Added margin for getting most fwd CG position, as ratio of mean aerodynamic chord</td>\n",
       "    </tr>\n",
       "    <tr>\n",
       "      <td>settings:weight:aircraft:CG:range</td>\n",
       "      <td>IN</td>\n",
       "      <td>distance between front position and aft position of CG, as ratio of mean aerodynamic chord (allows to have front position of CG potentially fwd of the computed one, as currently, FAST-OAD uses the aft position of CG as a reference)</td>\n",
       "    </tr>\n",
       "    <tr>\n",
       "      <td>settings:weight:aircraft:MLW_MZFW_ratio</td>\n",
       "      <td>IN</td>\n",
       "      <td></td>\n",
       "    </tr>\n",
       "    <tr>\n",
       "      <td>settings:weight:aircraft:payload:design_mass_per_passenger</td>\n",
       "      <td>IN</td>\n",
       "      <td>Design value of mass per passenger</td>\n",
       "    </tr>\n",
       "    <tr>\n",
       "      <td>settings:weight:aircraft:payload:max_mass_per_passenger</td>\n",
       "      <td>IN</td>\n",
       "      <td>Maximum value of mass per passenger</td>\n",
       "    </tr>\n",
       "    <tr>\n",
       "      <td>settings:weight:airframe:landing_gear:front:front_fuselage_ratio</td>\n",
       "      <td>IN</td>\n",
       "      <td>Position of front landing gear expressed as fuselage front length ratio</td>\n",
       "    </tr>\n",
       "    <tr>\n",
       "      <td>settings:weight:airframe:landing_gear:front:weight_ratio</td>\n",
       "      <td>IN</td>\n",
       "      <td>part of aircraft weight that is supported by front landing gear, should not be lower than 0.08. Roskam</td>\n",
       "    </tr>\n",
       "    <tr>\n",
       "      <td>settings:weight:propulsion:engine:k_factor</td>\n",
       "      <td>IN</td>\n",
       "      <td>Engine weight tuning factor</td>\n",
       "    </tr>\n",
       "    <tr>\n",
       "      <td>settings:weight:propulsion:tank:CG:from_wingMAC25</td>\n",
       "      <td>IN</td>\n",
       "      <td>distance between the tank CG and 25 percent of wing MAC as a ratio of the wing MAC</td>\n",
       "    </tr>\n",
       "    <tr>\n",
       "      <td>data:aerodynamics:aircraft:cruise:CD0</td>\n",
       "      <td>OUT</td>\n",
       "      <td>profile drag coefficient for the complete aircraft in cruise conditions</td>\n",
       "    </tr>\n",
       "    <tr>\n",
       "      <td>data:aerodynamics:aircraft:cruise:Cn_beta</td>\n",
       "      <td>OUT</td>\n",
       "      <td></td>\n",
       "    </tr>\n",
       "    <tr>\n",
       "      <td>data:aerodynamics:aircraft:cruise:Cy_beta</td>\n",
       "      <td>OUT</td>\n",
       "      <td></td>\n",
       "    </tr>\n",
       "    <tr>\n",
       "      <td>data:aerodynamics:aircraft:cruise:L_D_max</td>\n",
       "      <td>OUT</td>\n",
       "      <td>profile drag coefficient for the complete aircraft in low speed conditions</td>\n",
       "    </tr>\n",
       "    <tr>\n",
       "      <td>data:aerodynamics:aircraft:cruise:optimal_CD</td>\n",
       "      <td>OUT</td>\n",
       "      <td>drag coefficient at maximum lift/drag ratio in cruise conditions</td>\n",
       "    </tr>\n",
       "    <tr>\n",
       "      <td>data:aerodynamics:aircraft:cruise:optimal_CL</td>\n",
       "      <td>OUT</td>\n",
       "      <td>lift coefficient at maximum lift/drag ratio in cruise conditions</td>\n",
       "    </tr>\n",
       "    <tr>\n",
       "      <td>data:aerodynamics:aircraft:cruise:optimal_alpha</td>\n",
       "      <td>OUT</td>\n",
       "      <td>wing angle of attack at maximum lift/drag ratio in cruise conditions</td>\n",
       "    </tr>\n",
       "    <tr>\n",
       "      <td>data:aerodynamics:aircraft:landing:CL_max</td>\n",
       "      <td>OUT</td>\n",
       "      <td>maximum lift coefficient at landing</td>\n",
       "    </tr>\n",
       "    <tr>\n",
       "      <td>data:aerodynamics:aircraft:low_speed:CD0</td>\n",
       "      <td>OUT</td>\n",
       "      <td>profile drag coefficient for the complete aircraft in low speed conditions</td>\n",
       "    </tr>\n",
       "    <tr>\n",
       "      <td>data:aerodynamics:aircraft:low_speed:Cn_beta</td>\n",
       "      <td>OUT</td>\n",
       "      <td></td>\n",
       "    </tr>\n",
       "    <tr>\n",
       "      <td>data:aerodynamics:aircraft:low_speed:Cy_beta</td>\n",
       "      <td>OUT</td>\n",
       "      <td></td>\n",
       "    </tr>\n",
       "    <tr>\n",
       "      <td>data:aerodynamics:aircraft:mach_interpolation:CL_alpha_vector</td>\n",
       "      <td>OUT</td>\n",
       "      <td>lift curve slope coefficients of the aircraft at the mach number given in mach_vector</td>\n",
       "    </tr>\n",
       "    <tr>\n",
       "      <td>data:aerodynamics:aircraft:mach_interpolation:mach_vector</td>\n",
       "      <td>OUT</td>\n",
       "      <td>mach numbers at which the aircraft lift curve slope in CL_alpha_vector was computed</td>\n",
       "    </tr>\n",
       "    <tr>\n",
       "      <td>data:aerodynamics:aircraft:takeoff:CL_max</td>\n",
       "      <td>OUT</td>\n",
       "      <td>maximum lift coefficient during take-off</td>\n",
       "    </tr>\n",
       "    <tr>\n",
       "      <td>data:aerodynamics:cruise:mach</td>\n",
       "      <td>OUT</td>\n",
       "      <td>mach number representative of high speed aerodynamics</td>\n",
       "    </tr>\n",
       "    <tr>\n",
       "      <td>data:aerodynamics:cruise:neutral_point:free_elevator_factor</td>\n",
       "      <td>OUT</td>\n",
       "      <td>free elevator factor for computation of stick free static margin in high speed</td>\n",
       "    </tr>\n",
       "    <tr>\n",
       "      <td>data:aerodynamics:cruise:neutral_point:stick_fixed:x</td>\n",
       "      <td>OUT</td>\n",
       "      <td>distance between the leading edge of the wing at the MAC and the stick fixed aerodynamic center</td>\n",
       "    </tr>\n",
       "    <tr>\n",
       "      <td>data:aerodynamics:cruise:neutral_point:stick_free:x</td>\n",
       "      <td>OUT</td>\n",
       "      <td>distance between the leading edge of the wing at the MAC and the stick free aerodynamic center</td>\n",
       "    </tr>\n",
       "    <tr>\n",
       "      <td>data:aerodynamics:cruise:unit_reynolds</td>\n",
       "      <td>OUT</td>\n",
       "      <td>unitary reynolds number representative of high speed aerodynamics</td>\n",
       "    </tr>\n",
       "    <tr>\n",
       "      <td>data:aerodynamics:elevator:low_speed:CD_delta</td>\n",
       "      <td>OUT</td>\n",
       "      <td>derivative of horizontal tail drag coefficient with respect to elevator command</td>\n",
       "    </tr>\n",
       "    <tr>\n",
       "      <td>data:aerodynamics:elevator:low_speed:CL_delta</td>\n",
       "      <td>OUT</td>\n",
       "      <td>derivative of horizontal tail lift coefficient with respect to elevator command</td>\n",
       "    </tr>\n",
       "    <tr>\n",
       "      <td>data:aerodynamics:flaps:landing:CD</td>\n",
       "      <td>OUT</td>\n",
       "      <td>additional drag coefficient due to flaps deployment in landing configuration</td>\n",
       "    </tr>\n",
       "    <tr>\n",
       "      <td>data:aerodynamics:flaps:landing:CD_2D</td>\n",
       "      <td>OUT</td>\n",
       "      <td>airfoil additional drag coefficient due to flaps deployment in landing configuration</td>\n",
       "    </tr>\n",
       "    <tr>\n",
       "      <td>data:aerodynamics:flaps:landing:CL</td>\n",
       "      <td>OUT</td>\n",
       "      <td>lift coefficient increment due to flaps deployment in landing configuration</td>\n",
       "    </tr>\n",
       "    <tr>\n",
       "      <td>data:aerodynamics:flaps:landing:CL_2D</td>\n",
       "      <td>OUT</td>\n",
       "      <td>airfoil additional lift coefficient due to flaps deployment in landing configuration</td>\n",
       "    </tr>\n",
       "    <tr>\n",
       "      <td>data:aerodynamics:flaps:landing:CL_max</td>\n",
       "      <td>OUT</td>\n",
       "      <td>maximum lift coefficient increment due to flaps deployment in landing configuration</td>\n",
       "    </tr>\n",
       "    <tr>\n",
       "      <td>data:aerodynamics:flaps:landing:CM</td>\n",
       "      <td>OUT</td>\n",
       "      <td>additional pitching moment coefficient ue to the deployment of flaps in landing configuration</td>\n",
       "    </tr>\n",
       "    <tr>\n",
       "      <td>data:aerodynamics:flaps:landing:CM_2D</td>\n",
       "      <td>OUT</td>\n",
       "      <td>airfoil additional pitching moment coefficient due to flaps deployment in landing configuration</td>\n",
       "    </tr>\n",
       "    <tr>\n",
       "      <td>data:aerodynamics:flaps:takeoff:CD</td>\n",
       "      <td>OUT</td>\n",
       "      <td>additional drag coefficient due to flaps deployment in takeoff configuration</td>\n",
       "    </tr>\n",
       "    <tr>\n",
       "      <td>data:aerodynamics:flaps:takeoff:CD_2D</td>\n",
       "      <td>OUT</td>\n",
       "      <td>airfoil additional drag coefficient due to flaps deployment in takeoff configuration</td>\n",
       "    </tr>\n",
       "    <tr>\n",
       "      <td>data:aerodynamics:flaps:takeoff:CL</td>\n",
       "      <td>OUT</td>\n",
       "      <td>lift coefficient increment due to flaps deployment in takeoff configuration</td>\n",
       "    </tr>\n",
       "    <tr>\n",
       "      <td>data:aerodynamics:flaps:takeoff:CL_2D</td>\n",
       "      <td>OUT</td>\n",
       "      <td>airfoil additional lift coefficient due to flaps deployment in takeoff configuration</td>\n",
       "    </tr>\n",
       "    <tr>\n",
       "      <td>data:aerodynamics:flaps:takeoff:CL_max</td>\n",
       "      <td>OUT</td>\n",
       "      <td>maximum lift coefficient increment due to flaps deployment in takeoff configuration</td>\n",
       "    </tr>\n",
       "    <tr>\n",
       "      <td>data:aerodynamics:flaps:takeoff:CM</td>\n",
       "      <td>OUT</td>\n",
       "      <td>additional pitching moment coefficient due to the deployment of flaps in takeoff configuration</td>\n",
       "    </tr>\n",
       "    <tr>\n",
       "      <td>data:aerodynamics:flaps:takeoff:CM_2D</td>\n",
       "      <td>OUT</td>\n",
       "      <td>airfoil additional pitching moment coefficient due to flaps deployment in takeoff configuration</td>\n",
       "    </tr>\n",
       "    <tr>\n",
       "      <td>data:aerodynamics:fuselage:Cn_beta</td>\n",
       "      <td>OUT</td>\n",
       "      <td>derivative of yawing moment against sideslip angle for fuselage in cruise conditions</td>\n",
       "    </tr>\n",
       "    <tr>\n",
       "      <td>data:aerodynamics:fuselage:Cy_beta</td>\n",
       "      <td>OUT</td>\n",
       "      <td></td>\n",
       "    </tr>\n",
       "    <tr>\n",
       "      <td>data:aerodynamics:fuselage:cm_alpha</td>\n",
       "      <td>OUT</td>\n",
       "      <td>derivative of fuselage pitching moment coefficient with respect to angle of attack</td>\n",
       "    </tr>\n",
       "    <tr>\n",
       "      <td>data:aerodynamics:fuselage:cruise:CD0</td>\n",
       "      <td>OUT</td>\n",
       "      <td>profile drag coefficient for fuselage in cruise conditions</td>\n",
       "    </tr>\n",
       "    <tr>\n",
       "      <td>data:aerodynamics:fuselage:low_speed:CD0</td>\n",
       "      <td>OUT</td>\n",
       "      <td>profile drag coefficient for fuselage in low speed conditions</td>\n",
       "    </tr>\n",
       "    <tr>\n",
       "      <td>data:aerodynamics:horizontal_tail:MAC:low_speed:reynolds</td>\n",
       "      <td>OUT</td>\n",
       "      <td>reynolds number at the horizontal tail mean aerodynamic chord in low speed conditions</td>\n",
       "    </tr>\n",
       "    <tr>\n",
       "      <td>data:aerodynamics:horizontal_tail:airfoil:CL_alpha</td>\n",
       "      <td>OUT</td>\n",
       "      <td>horizontal tail airfoil lift curve slope</td>\n",
       "    </tr>\n",
       "    <tr>\n",
       "      <td>data:aerodynamics:horizontal_tail:cruise:CD0</td>\n",
       "      <td>OUT</td>\n",
       "      <td>profile drag coefficient for horizontal tail in cruise conditions</td>\n",
       "    </tr>\n",
       "    <tr>\n",
       "      <td>data:aerodynamics:horizontal_tail:cruise:CDp</td>\n",
       "      <td>OUT</td>\n",
       "      <td>pressure drag coefficient of the horizontal tail profile for various angle of attack in cruise conditions</td>\n",
       "    </tr>\n",
       "    <tr>\n",
       "      <td>data:aerodynamics:horizontal_tail:cruise:CL</td>\n",
       "      <td>OUT</td>\n",
       "      <td>lift coefficient of the horizontal tail profile for various angle of attack in cruise conditions</td>\n",
       "    </tr>\n",
       "    <tr>\n",
       "      <td>data:aerodynamics:horizontal_tail:cruise:CL0</td>\n",
       "      <td>OUT</td>\n",
       "      <td>lift coefficient of the horizontal tail when aircraft AOA is null in cruise conditions</td>\n",
       "    </tr>\n",
       "    <tr>\n",
       "      <td>data:aerodynamics:horizontal_tail:cruise:CL_alpha</td>\n",
       "      <td>OUT</td>\n",
       "      <td>derivative of lift coefficient of horizontal tail with respect to aircraft angle of attack in cruise conditions</td>\n",
       "    </tr>\n",
       "    <tr>\n",
       "      <td>data:aerodynamics:horizontal_tail:cruise:CL_alpha_isolated</td>\n",
       "      <td>OUT</td>\n",
       "      <td>derivative of lift coefficient of horizontal tail with respect to local angle of attack in cruise conditions</td>\n",
       "    </tr>\n",
       "    <tr>\n",
       "      <td>data:aerodynamics:horizontal_tail:cruise:downwash_gradient</td>\n",
       "      <td>OUT</td>\n",
       "      <td></td>\n",
       "    </tr>\n",
       "    <tr>\n",
       "      <td>data:aerodynamics:horizontal_tail:cruise:hinge_moment:CH_alpha</td>\n",
       "      <td>OUT</td>\n",
       "      <td>derivative of 3D hinge moment coefficient with respect to the local angle of attack in cruise conditions</td>\n",
       "    </tr>\n",
       "    <tr>\n",
       "      <td>data:aerodynamics:horizontal_tail:cruise:hinge_moment:CH_alpha_2D</td>\n",
       "      <td>OUT</td>\n",
       "      <td>derivative of 2D hinge moment coefficient with respect to the local angle of attack in cruise conditions</td>\n",
       "    </tr>\n",
       "    <tr>\n",
       "      <td>data:aerodynamics:horizontal_tail:cruise:hinge_moment:CH_delta</td>\n",
       "      <td>OUT</td>\n",
       "      <td>derivative of 3D hinge moment coefficient with respect to elevator deflection in cruise conditions</td>\n",
       "    </tr>\n",
       "    <tr>\n",
       "      <td>data:aerodynamics:horizontal_tail:cruise:hinge_moment:CH_delta_2D</td>\n",
       "      <td>OUT</td>\n",
       "      <td>derivative of 2D hinge moment coefficient with respect to elevator deflection in cruise conditions</td>\n",
       "    </tr>\n",
       "    <tr>\n",
       "      <td>data:aerodynamics:horizontal_tail:cruise:induced_drag_coefficient</td>\n",
       "      <td>OUT</td>\n",
       "      <td>coefficient to multiply by the lift coefficient squared to get induced drag in cruise conditions</td>\n",
       "    </tr>\n",
       "    <tr>\n",
       "      <td>data:aerodynamics:horizontal_tail:cruise:reynolds</td>\n",
       "      <td>OUT</td>\n",
       "      <td>reynolds number on the horizontal tail in cruise conditions</td>\n",
       "    </tr>\n",
       "    <tr>\n",
       "      <td>data:aerodynamics:horizontal_tail:efficiency</td>\n",
       "      <td>OUT</td>\n",
       "      <td>ratio between the dynamic pressure at the tail and the free stream dynamic pressure</td>\n",
       "    </tr>\n",
       "    <tr>\n",
       "      <td>data:aerodynamics:horizontal_tail:low_speed:CD0</td>\n",
       "      <td>OUT</td>\n",
       "      <td>profile drag coefficient for horizontal tail in low speed conditions</td>\n",
       "    </tr>\n",
       "    <tr>\n",
       "      <td>data:aerodynamics:horizontal_tail:low_speed:CDp</td>\n",
       "      <td>OUT</td>\n",
       "      <td>pressure drag coefficient of the horizontal tail profile for various angle of attack in low speed conditions</td>\n",
       "    </tr>\n",
       "    <tr>\n",
       "      <td>data:aerodynamics:horizontal_tail:low_speed:CL</td>\n",
       "      <td>OUT</td>\n",
       "      <td>lift coefficient of the horizontal tail profile for various angle of attack in low speed conditions</td>\n",
       "    </tr>\n",
       "    <tr>\n",
       "      <td>data:aerodynamics:horizontal_tail:low_speed:CL0</td>\n",
       "      <td>OUT</td>\n",
       "      <td>lift coefficient of the horizontal tail when aircraft AOA is null in low speed conditions</td>\n",
       "    </tr>\n",
       "    <tr>\n",
       "      <td>data:aerodynamics:horizontal_tail:low_speed:CL_alpha</td>\n",
       "      <td>OUT</td>\n",
       "      <td>derivative of lift coefficient of horizontal tail with respect to aircraft angle of attack in low speed conditions</td>\n",
       "    </tr>\n",
       "    <tr>\n",
       "      <td>data:aerodynamics:horizontal_tail:low_speed:CL_alpha_isolated</td>\n",
       "      <td>OUT</td>\n",
       "      <td>derivative of lift coefficient of horizontal tail with respect to local angle of attack in low speed conditions</td>\n",
       "    </tr>\n",
       "    <tr>\n",
       "      <td>data:aerodynamics:horizontal_tail:low_speed:CL_max_clean</td>\n",
       "      <td>OUT</td>\n",
       "      <td>maximum horizontal tail lift coefficient in low speed altitude</td>\n",
       "    </tr>\n",
       "    <tr>\n",
       "      <td>data:aerodynamics:horizontal_tail:low_speed:CL_min_clean</td>\n",
       "      <td>OUT</td>\n",
       "      <td>minimum horizontal tail lift coefficient in low speed altitude</td>\n",
       "    </tr>\n",
       "    <tr>\n",
       "      <td>data:aerodynamics:horizontal_tail:low_speed:CL_ref</td>\n",
       "      <td>OUT</td>\n",
       "      <td>reference horizontal tail lift coefficient corresponding to the lift repartition in CL_vector</td>\n",
       "    </tr>\n",
       "    <tr>\n",
       "      <td>data:aerodynamics:horizontal_tail:low_speed:CL_vector</td>\n",
       "      <td>OUT</td>\n",
       "      <td>horizontal tail lift coefficient repartition along the span corresponding to the lift coefficient in CL_ref</td>\n",
       "    </tr>\n",
       "    <tr>\n",
       "      <td>data:aerodynamics:horizontal_tail:low_speed:Y_vector</td>\n",
       "      <td>OUT</td>\n",
       "      <td>point along the span at which the lift repartition on the horizontal tail is sampled</td>\n",
       "    </tr>\n",
       "    <tr>\n",
       "      <td>data:aerodynamics:horizontal_tail:low_speed:clean:alpha_aircraft_max</td>\n",
       "      <td>OUT</td>\n",
       "      <td>positive aircraft angle of attack that gives a stalled horizontal tail</td>\n",
       "    </tr>\n",
       "    <tr>\n",
       "      <td>data:aerodynamics:horizontal_tail:low_speed:clean:alpha_aircraft_min</td>\n",
       "      <td>OUT</td>\n",
       "      <td>negative aircraft angle of attack that gives a stalled horizontal tail</td>\n",
       "    </tr>\n",
       "    <tr>\n",
       "      <td>data:aerodynamics:horizontal_tail:low_speed:downwash_gradient</td>\n",
       "      <td>OUT</td>\n",
       "      <td></td>\n",
       "    </tr>\n",
       "    <tr>\n",
       "      <td>data:aerodynamics:horizontal_tail:low_speed:induced_drag_coefficient</td>\n",
       "      <td>OUT</td>\n",
       "      <td>coefficient to multiply by the lift coefficient squared to get induced drag in low speed conditions</td>\n",
       "    </tr>\n",
       "    <tr>\n",
       "      <td>data:aerodynamics:horizontal_tail:low_speed:reynolds</td>\n",
       "      <td>OUT</td>\n",
       "      <td>reynolds number on the horizontal tail in low speed conditions</td>\n",
       "    </tr>\n",
       "    <tr>\n",
       "      <td>data:aerodynamics:horizontal_tail:low_speed:root:CL_max_2D</td>\n",
       "      <td>OUT</td>\n",
       "      <td>maximum lift coefficient at the root section of the horizontal tail given with respect to the horizontal tail surface</td>\n",
       "    </tr>\n",
       "    <tr>\n",
       "      <td>data:aerodynamics:horizontal_tail:low_speed:root:CL_min_2D</td>\n",
       "      <td>OUT</td>\n",
       "      <td>minimum lift coefficient at the root section of the horizontal tail given with respect to the horizontal tail surface</td>\n",
       "    </tr>\n",
       "    <tr>\n",
       "      <td>data:aerodynamics:horizontal_tail:low_speed:tip:CL_max_2D</td>\n",
       "      <td>OUT</td>\n",
       "      <td>maximum lift coefficient at the tip section of the horizontal tail given with respect to the horizontal tail surface</td>\n",
       "    </tr>\n",
       "    <tr>\n",
       "      <td>data:aerodynamics:horizontal_tail:low_speed:tip:CL_min_2D</td>\n",
       "      <td>OUT</td>\n",
       "      <td>minimum lift coefficient at the tip section of the horizontal tail given with respect to the horizontal tail surface</td>\n",
       "    </tr>\n",
       "    <tr>\n",
       "      <td>data:aerodynamics:horizontal_tail:root:low_speed:reynolds</td>\n",
       "      <td>OUT</td>\n",
       "      <td>reynolds number at the horizontal tail root section in low speed conditions</td>\n",
       "    </tr>\n",
       "    <tr>\n",
       "      <td>data:aerodynamics:horizontal_tail:tip:low_speed:reynolds</td>\n",
       "      <td>OUT</td>\n",
       "      <td>reynolds number at the horizontal tail tip section in low speed conditions</td>\n",
       "    </tr>\n",
       "    <tr>\n",
       "      <td>data:aerodynamics:landing_gear:cruise:CD0</td>\n",
       "      <td>OUT</td>\n",
       "      <td>profile drag coefficient for landing gears in cruise conditions</td>\n",
       "    </tr>\n",
       "    <tr>\n",
       "      <td>data:aerodynamics:landing_gear:low_speed:CD0</td>\n",
       "      <td>OUT</td>\n",
       "      <td>profile drag coefficient for landing gears in low speed conditions</td>\n",
       "    </tr>\n",
       "    <tr>\n",
       "      <td>data:aerodynamics:low_speed:mach</td>\n",
       "      <td>OUT</td>\n",
       "      <td>mach number representative of low speed aerodynamics</td>\n",
       "    </tr>\n",
       "    <tr>\n",
       "      <td>data:aerodynamics:low_speed:unit_reynolds</td>\n",
       "      <td>OUT</td>\n",
       "      <td>unitary reynolds number representative of low speed aerodynamics</td>\n",
       "    </tr>\n",
       "    <tr>\n",
       "      <td>data:aerodynamics:nacelles:cruise:CD0</td>\n",
       "      <td>OUT</td>\n",
       "      <td>profile drag coefficient for the nacelles in cruise conditions</td>\n",
       "    </tr>\n",
       "    <tr>\n",
       "      <td>data:aerodynamics:nacelles:low_speed:CD0</td>\n",
       "      <td>OUT</td>\n",
       "      <td>profile drag coefficient for the nacelles in low speed conditions</td>\n",
       "    </tr>\n",
       "    <tr>\n",
       "      <td>data:aerodynamics:other:cruise:CD0</td>\n",
       "      <td>OUT</td>\n",
       "      <td>profile drag coefficient for other systems in cruise conditions</td>\n",
       "    </tr>\n",
       "    <tr>\n",
       "      <td>data:aerodynamics:other:low_speed:CD0</td>\n",
       "      <td>OUT</td>\n",
       "      <td>profile drag coefficient for other systems in low speed conditions</td>\n",
       "    </tr>\n",
       "    <tr>\n",
       "      <td>data:aerodynamics:propeller:cruise_level:altitude</td>\n",
       "      <td>OUT</td>\n",
       "      <td>altitude at which the cruise level propeller efficiency map was computed</td>\n",
       "    </tr>\n",
       "    <tr>\n",
       "      <td>data:aerodynamics:propeller:cruise_level:efficiency</td>\n",
       "      <td>OUT</td>\n",
       "      <td>2D matrix containing the efficiencies of the propeller in different speed conditions and for different thrust requirement at cruise level</td>\n",
       "    </tr>\n",
       "    <tr>\n",
       "      <td>data:aerodynamics:propeller:cruise_level:speed</td>\n",
       "      <td>OUT</td>\n",
       "      <td>speed at which the efficiencies of the propeller at cruise level are computed</td>\n",
       "    </tr>\n",
       "    <tr>\n",
       "      <td>data:aerodynamics:propeller:cruise_level:thrust</td>\n",
       "      <td>OUT</td>\n",
       "      <td>thrust produced by the propeller at cruise level and for which the efficiencies are given</td>\n",
       "    </tr>\n",
       "    <tr>\n",
       "      <td>data:aerodynamics:propeller:cruise_level:thrust_limit</td>\n",
       "      <td>OUT</td>\n",
       "      <td>maximum thrust output of the propeller at cruise level for varying velocities</td>\n",
       "    </tr>\n",
       "    <tr>\n",
       "      <td>data:aerodynamics:propeller:installation_effect:effective_advance_ratio</td>\n",
       "      <td>OUT</td>\n",
       "      <td>Value to multiply the flight advance ration with to obtain the effective advance ratio due to the presence of cowling (fuselage or nacelle) behind the propeller</td>\n",
       "    </tr>\n",
       "    <tr>\n",
       "      <td>data:aerodynamics:propeller:installation_effect:effective_efficiency:cruise</td>\n",
       "      <td>OUT</td>\n",
       "      <td>Value to multiply the uninstalled efficiency with to obtain the effective efficiency due to the presence of cowling (fuselage or nacelle) behind the propeller</td>\n",
       "    </tr>\n",
       "    <tr>\n",
       "      <td>data:aerodynamics:propeller:installation_effect:effective_efficiency:low_speed</td>\n",
       "      <td>OUT</td>\n",
       "      <td>Value to multiply the uninstalled efficiency with to obtain the effective efficiency due to the presence of cowling (fuselage or nacelle) behind the propeller</td>\n",
       "    </tr>\n",
       "    <tr>\n",
       "      <td>data:aerodynamics:propeller:sea_level:efficiency</td>\n",
       "      <td>OUT</td>\n",
       "      <td>2D matrix containing the efficiencies of the propeller in different speed conditions and for different thrust requirement at sea level</td>\n",
       "    </tr>\n",
       "    <tr>\n",
       "      <td>data:aerodynamics:propeller:sea_level:speed</td>\n",
       "      <td>OUT</td>\n",
       "      <td>speed at which the efficiencies of the propeller at sea level are computed</td>\n",
       "    </tr>\n",
       "    <tr>\n",
       "      <td>data:aerodynamics:propeller:sea_level:thrust</td>\n",
       "      <td>OUT</td>\n",
       "      <td>thrust produced by the propeller at sea level and for which the efficiencies are given</td>\n",
       "    </tr>\n",
       "    <tr>\n",
       "      <td>data:aerodynamics:propeller:sea_level:thrust_limit</td>\n",
       "      <td>OUT</td>\n",
       "      <td>maximum thrust output of the propeller at sea level for varying velocities</td>\n",
       "    </tr>\n",
       "    <tr>\n",
       "      <td>data:aerodynamics:rudder:cruise:Cy_delta_r</td>\n",
       "      <td>OUT</td>\n",
       "      <td>derivative of the side force coefficient with respect to the rudder command in cruise conditions</td>\n",
       "    </tr>\n",
       "    <tr>\n",
       "      <td>data:aerodynamics:rudder:low_speed:Cy_delta_r</td>\n",
       "      <td>OUT</td>\n",
       "      <td>derivative of the side force coefficient with respect to the rudder command in low speed conditions</td>\n",
       "    </tr>\n",
       "    <tr>\n",
       "      <td>data:aerodynamics:vertical_tail:MAC:low_speed:reynolds</td>\n",
       "      <td>OUT</td>\n",
       "      <td>reynolds number at the horizontal tail in cruise conditions</td>\n",
       "    </tr>\n",
       "    <tr>\n",
       "      <td>data:aerodynamics:vertical_tail:airfoil:CL_alpha</td>\n",
       "      <td>OUT</td>\n",
       "      <td>vertical tail airfoil lift curve slope</td>\n",
       "    </tr>\n",
       "    <tr>\n",
       "      <td>data:aerodynamics:vertical_tail:cruise:CD0</td>\n",
       "      <td>OUT</td>\n",
       "      <td>profile drag coefficient for vertical tail in cruise conditions</td>\n",
       "    </tr>\n",
       "    <tr>\n",
       "      <td>data:aerodynamics:vertical_tail:cruise:CL_alpha</td>\n",
       "      <td>OUT</td>\n",
       "      <td>derivative of the vertical tail side force coefficient with respect to the local sideslip angle in cruise conditions</td>\n",
       "    </tr>\n",
       "    <tr>\n",
       "      <td>data:aerodynamics:vertical_tail:cruise:Cn_beta</td>\n",
       "      <td>OUT</td>\n",
       "      <td></td>\n",
       "    </tr>\n",
       "    <tr>\n",
       "      <td>data:aerodynamics:vertical_tail:cruise:Cy_beta</td>\n",
       "      <td>OUT</td>\n",
       "      <td></td>\n",
       "    </tr>\n",
       "    <tr>\n",
       "      <td>data:aerodynamics:vertical_tail:k_ar_effective</td>\n",
       "      <td>OUT</td>\n",
       "      <td>coefficient to multiply the vertical tail aspect ratio to get the effective aspect ratio which includes fuselage and horizontal tail end-plate effect</td>\n",
       "    </tr>\n",
       "    <tr>\n",
       "      <td>data:aerodynamics:vertical_tail:low_speed:CD0</td>\n",
       "      <td>OUT</td>\n",
       "      <td>profile drag coefficient for vertical tail in low speed conditions</td>\n",
       "    </tr>\n",
       "    <tr>\n",
       "      <td>data:aerodynamics:vertical_tail:low_speed:CL_alpha</td>\n",
       "      <td>OUT</td>\n",
       "      <td>derivative of the vertical tail side force coefficient with respect to the local sideslip angle in low speed conditions</td>\n",
       "    </tr>\n",
       "    <tr>\n",
       "      <td>data:aerodynamics:vertical_tail:low_speed:Cn_beta</td>\n",
       "      <td>OUT</td>\n",
       "      <td></td>\n",
       "    </tr>\n",
       "    <tr>\n",
       "      <td>data:aerodynamics:vertical_tail:low_speed:Cy_beta</td>\n",
       "      <td>OUT</td>\n",
       "      <td></td>\n",
       "    </tr>\n",
       "    <tr>\n",
       "      <td>data:aerodynamics:wing:Cy_beta</td>\n",
       "      <td>OUT</td>\n",
       "      <td></td>\n",
       "    </tr>\n",
       "    <tr>\n",
       "      <td>data:aerodynamics:wing:MAC:low_speed:reynolds</td>\n",
       "      <td>OUT</td>\n",
       "      <td>wing reynolds number in low speed conditions at the mean aerodynamic chord</td>\n",
       "    </tr>\n",
       "    <tr>\n",
       "      <td>data:aerodynamics:wing:airfoil:CL_alpha</td>\n",
       "      <td>OUT</td>\n",
       "      <td>wing tail airfoil lift curve slope</td>\n",
       "    </tr>\n",
       "    <tr>\n",
       "      <td>data:aerodynamics:wing:cruise:CD0</td>\n",
       "      <td>OUT</td>\n",
       "      <td>profile drag coefficient for wing in cruise conditions</td>\n",
       "    </tr>\n",
       "    <tr>\n",
       "      <td>data:aerodynamics:wing:cruise:CDp</td>\n",
       "      <td>OUT</td>\n",
       "      <td>pressure drag coefficient of the wing profile for various angle of attack in cruise conditions</td>\n",
       "    </tr>\n",
       "    <tr>\n",
       "      <td>data:aerodynamics:wing:cruise:CL</td>\n",
       "      <td>OUT</td>\n",
       "      <td>lift coefficient of the wing profile for various angle of attack in cruise conditions</td>\n",
       "    </tr>\n",
       "    <tr>\n",
       "      <td>data:aerodynamics:wing:cruise:CL0_clean</td>\n",
       "      <td>OUT</td>\n",
       "      <td>wing lift coefficient at zero aircraft angle of attack in cruise conditions and with no flaps deployed</td>\n",
       "    </tr>\n",
       "    <tr>\n",
       "      <td>data:aerodynamics:wing:cruise:CL_alpha</td>\n",
       "      <td>OUT</td>\n",
       "      <td>wing lift coefficient slope with respect to aircraft angle of attack in cruise conditions</td>\n",
       "    </tr>\n",
       "    <tr>\n",
       "      <td>data:aerodynamics:wing:cruise:CL_ref</td>\n",
       "      <td>OUT</td>\n",
       "      <td></td>\n",
       "    </tr>\n",
       "    <tr>\n",
       "      <td>data:aerodynamics:wing:cruise:CM0_clean</td>\n",
       "      <td>OUT</td>\n",
       "      <td>wing pitching moment coefficient in cruise conditions and with no flaps deployed</td>\n",
       "    </tr>\n",
       "    <tr>\n",
       "      <td>data:aerodynamics:wing:cruise:induced_drag_coefficient</td>\n",
       "      <td>OUT</td>\n",
       "      <td>coefficient to multiply by the lift coefficient squared to get wing induced drag in cruise conditions</td>\n",
       "    </tr>\n",
       "    <tr>\n",
       "      <td>data:aerodynamics:wing:cruise:reynolds</td>\n",
       "      <td>OUT</td>\n",
       "      <td>reynolds number on the wing in cruise conditions</td>\n",
       "    </tr>\n",
       "    <tr>\n",
       "      <td>data:aerodynamics:wing:low_speed:CD0</td>\n",
       "      <td>OUT</td>\n",
       "      <td>profile drag coefficient for wing in low speed conditions</td>\n",
       "    </tr>\n",
       "    <tr>\n",
       "      <td>data:aerodynamics:wing:low_speed:CDp</td>\n",
       "      <td>OUT</td>\n",
       "      <td>pressure drag coefficient of the wing profile for various angle of attack in low speed conditions</td>\n",
       "    </tr>\n",
       "    <tr>\n",
       "      <td>data:aerodynamics:wing:low_speed:CL</td>\n",
       "      <td>OUT</td>\n",
       "      <td>lift coefficient of the wing profile for various angle of attack in low speed conditions</td>\n",
       "    </tr>\n",
       "    <tr>\n",
       "      <td>data:aerodynamics:wing:low_speed:CL0_clean</td>\n",
       "      <td>OUT</td>\n",
       "      <td>wing lift coefficient at zero aircraft angle of attack in low speed conditions and with no flaps deployed</td>\n",
       "    </tr>\n",
       "    <tr>\n",
       "      <td>data:aerodynamics:wing:low_speed:CL_alpha</td>\n",
       "      <td>OUT</td>\n",
       "      <td>wing lift coefficient slope with respect to aircraft angle of attack in low speed conditions</td>\n",
       "    </tr>\n",
       "    <tr>\n",
       "      <td>data:aerodynamics:wing:low_speed:CL_max_clean</td>\n",
       "      <td>OUT</td>\n",
       "      <td>wing maximum lift coefficient for positive angle of attack</td>\n",
       "    </tr>\n",
       "    <tr>\n",
       "      <td>data:aerodynamics:wing:low_speed:CL_min_clean</td>\n",
       "      <td>OUT</td>\n",
       "      <td>wing maximum lift coefficient for negative angle of attack</td>\n",
       "    </tr>\n",
       "    <tr>\n",
       "      <td>data:aerodynamics:wing:low_speed:CL_ref</td>\n",
       "      <td>OUT</td>\n",
       "      <td></td>\n",
       "    </tr>\n",
       "    <tr>\n",
       "      <td>data:aerodynamics:wing:low_speed:CL_vector</td>\n",
       "      <td>OUT</td>\n",
       "      <td>lift coefficient of the wing at the station along the wing span in Y_vector, the total corresponding wing lift coefficient is equal to CL0_clean</td>\n",
       "    </tr>\n",
       "    <tr>\n",
       "      <td>data:aerodynamics:wing:low_speed:CM0_clean</td>\n",
       "      <td>OUT</td>\n",
       "      <td>wing pitching moment coefficient in low speed conditions and with no flaps deployed</td>\n",
       "    </tr>\n",
       "    <tr>\n",
       "      <td>data:aerodynamics:wing:low_speed:Y_vector</td>\n",
       "      <td>OUT</td>\n",
       "      <td>wing station along the wing span at which chord_vector and Cl_vector are sampled</td>\n",
       "    </tr>\n",
       "    <tr>\n",
       "      <td>data:aerodynamics:wing:low_speed:chord_vector</td>\n",
       "      <td>OUT</td>\n",
       "      <td>wing chord length at the station along the wing span in Y_vector</td>\n",
       "    </tr>\n",
       "    <tr>\n",
       "      <td>data:aerodynamics:wing:low_speed:induced_drag_coefficient</td>\n",
       "      <td>OUT</td>\n",
       "      <td>coefficient to multiply by the lift coefficient squared to get wing induced drag in low speed conditions</td>\n",
       "    </tr>\n",
       "    <tr>\n",
       "      <td>data:aerodynamics:wing:low_speed:reynolds</td>\n",
       "      <td>OUT</td>\n",
       "      <td>reynolds number on the wing in low speed conditions</td>\n",
       "    </tr>\n",
       "    <tr>\n",
       "      <td>data:aerodynamics:wing:low_speed:root:CL_max_2D</td>\n",
       "      <td>OUT</td>\n",
       "      <td>wing root chord airfoil maximum lift coefficient for positive angle of attack</td>\n",
       "    </tr>\n",
       "    <tr>\n",
       "      <td>data:aerodynamics:wing:low_speed:root:CL_min_2D</td>\n",
       "      <td>OUT</td>\n",
       "      <td>wing root chord airfoil maximum lift coefficient for negative angle of attack</td>\n",
       "    </tr>\n",
       "    <tr>\n",
       "      <td>data:aerodynamics:wing:low_speed:tip:CL_max_2D</td>\n",
       "      <td>OUT</td>\n",
       "      <td>wing tip chord airfoil maximum lift coefficient for positive angle of attack</td>\n",
       "    </tr>\n",
       "    <tr>\n",
       "      <td>data:aerodynamics:wing:low_speed:tip:CL_min_2D</td>\n",
       "      <td>OUT</td>\n",
       "      <td>wing tip chord airfoil maximum lift coefficient for negative angle of attack</td>\n",
       "    </tr>\n",
       "    <tr>\n",
       "      <td>data:aerodynamics:wing:root:low_speed:reynolds</td>\n",
       "      <td>OUT</td>\n",
       "      <td>wing root chord reynolds in low speed conditions</td>\n",
       "    </tr>\n",
       "    <tr>\n",
       "      <td>data:aerodynamics:wing:tip:low_speed:reynolds</td>\n",
       "      <td>OUT</td>\n",
       "      <td>wing tip chord reynolds in low speed conditions</td>\n",
       "    </tr>\n",
       "    <tr>\n",
       "      <td>data:constraints:horizontal_tail:landing</td>\n",
       "      <td>OUT</td>\n",
       "      <td>margin on the horizontal tail area with respect to the landing constraint</td>\n",
       "    </tr>\n",
       "    <tr>\n",
       "      <td>data:constraints:horizontal_tail:takeoff_rotation</td>\n",
       "      <td>OUT</td>\n",
       "      <td>margin on the horizontal tail area with respect to the takeoff rotation constraint</td>\n",
       "    </tr>\n",
       "    <tr>\n",
       "      <td>data:constraints:vertical_tail:crosswind_landing</td>\n",
       "      <td>OUT</td>\n",
       "      <td>margin on the vertical tail area with respect to the constraint due to crosswind landing</td>\n",
       "    </tr>\n",
       "    <tr>\n",
       "      <td>data:constraints:vertical_tail:engine_out_climb</td>\n",
       "      <td>OUT</td>\n",
       "      <td>margin on the vertical tail area with respect to the climb with one engine out condition</td>\n",
       "    </tr>\n",
       "    <tr>\n",
       "      <td>data:constraints:vertical_tail:engine_out_landing</td>\n",
       "      <td>OUT</td>\n",
       "      <td>margin on the vertical tail area with respect to the landing with one engine out condition</td>\n",
       "    </tr>\n",
       "    <tr>\n",
       "      <td>data:constraints:vertical_tail:engine_out_takeoff</td>\n",
       "      <td>OUT</td>\n",
       "      <td>margin on the vertical tail area with respect to the takeoff with one engine out condition</td>\n",
       "    </tr>\n",
       "    <tr>\n",
       "      <td>data:constraints:vertical_tail:target_cruise_stability</td>\n",
       "      <td>OUT</td>\n",
       "      <td>margin on the vertical tail area with respect to the cruise stability constraint</td>\n",
       "    </tr>\n",
       "    <tr>\n",
       "      <td>data:constraints:wing:additional_CL_capacity</td>\n",
       "      <td>OUT</td>\n",
       "      <td>margin with respect to the conditions of maximum lift required</td>\n",
       "    </tr>\n",
       "    <tr>\n",
       "      <td>data:constraints:wing:additional_fuel_capacity</td>\n",
       "      <td>OUT</td>\n",
       "      <td>margin with respect to the conditions of maximum fuel stored in the wing required</td>\n",
       "    </tr>\n",
       "    <tr>\n",
       "      <td>data:geometry:aircraft:length</td>\n",
       "      <td>OUT</td>\n",
       "      <td>total length of the aircraft</td>\n",
       "    </tr>\n",
       "    <tr>\n",
       "      <td>data:geometry:aircraft:wet_area</td>\n",
       "      <td>OUT</td>\n",
       "      <td>aircraft total wet area</td>\n",
       "    </tr>\n",
       "    <tr>\n",
       "      <td>data:geometry:cabin:NPAX</td>\n",
       "      <td>OUT</td>\n",
       "      <td>maximum number of passenger that can be seated in the aircraft assuming a constant number of seats per row</td>\n",
       "    </tr>\n",
       "    <tr>\n",
       "      <td>data:geometry:cabin:length</td>\n",
       "      <td>OUT</td>\n",
       "      <td>cabin length</td>\n",
       "    </tr>\n",
       "    <tr>\n",
       "      <td>data:geometry:fuselage:PAX_length</td>\n",
       "      <td>OUT</td>\n",
       "      <td>length of the passenger compartment</td>\n",
       "    </tr>\n",
       "    <tr>\n",
       "      <td>data:geometry:fuselage:average_depth</td>\n",
       "      <td>OUT</td>\n",
       "      <td>Average fuselage depth at the vertical tail location</td>\n",
       "    </tr>\n",
       "    <tr>\n",
       "      <td>data:geometry:fuselage:front_length</td>\n",
       "      <td>OUT</td>\n",
       "      <td>length of the front cone of the aircraft</td>\n",
       "    </tr>\n",
       "    <tr>\n",
       "      <td>data:geometry:fuselage:length</td>\n",
       "      <td>OUT</td>\n",
       "      <td>total length of the fuselage</td>\n",
       "    </tr>\n",
       "    <tr>\n",
       "      <td>data:geometry:fuselage:luggage_length</td>\n",
       "      <td>OUT</td>\n",
       "      <td>length of the luggage compartment</td>\n",
       "    </tr>\n",
       "    <tr>\n",
       "      <td>data:geometry:fuselage:master_cross_section</td>\n",
       "      <td>OUT</td>\n",
       "      <td></td>\n",
       "    </tr>\n",
       "    <tr>\n",
       "      <td>data:geometry:fuselage:maximum_height</td>\n",
       "      <td>OUT</td>\n",
       "      <td>maximum height of the fuselage</td>\n",
       "    </tr>\n",
       "    <tr>\n",
       "      <td>data:geometry:fuselage:maximum_width</td>\n",
       "      <td>OUT</td>\n",
       "      <td>maximum width of the fuselage</td>\n",
       "    </tr>\n",
       "    <tr>\n",
       "      <td>data:geometry:fuselage:rear_length</td>\n",
       "      <td>OUT</td>\n",
       "      <td>length of the rear cone of the aircraft</td>\n",
       "    </tr>\n",
       "    <tr>\n",
       "      <td>data:geometry:fuselage:volume</td>\n",
       "      <td>OUT</td>\n",
       "      <td>Volume of the fuselage</td>\n",
       "    </tr>\n",
       "    <tr>\n",
       "      <td>data:geometry:fuselage:wet_area</td>\n",
       "      <td>OUT</td>\n",
       "      <td>fuselage wet area</td>\n",
       "    </tr>\n",
       "    <tr>\n",
       "      <td>data:geometry:horizontal_tail:MAC:at25percent:x:local</td>\n",
       "      <td>OUT</td>\n",
       "      <td>X-position of the 25% of mean aerodynamic chord of horizontal tail w.r.t. leading edge of root chord</td>\n",
       "    </tr>\n",
       "    <tr>\n",
       "      <td>data:geometry:horizontal_tail:MAC:length</td>\n",
       "      <td>OUT</td>\n",
       "      <td>mean aerodynamic chord length of horizontal tail</td>\n",
       "    </tr>\n",
       "    <tr>\n",
       "      <td>data:geometry:horizontal_tail:MAC:y</td>\n",
       "      <td>OUT</td>\n",
       "      <td>Y-position of mean aerodynamic chord of horizontal tail</td>\n",
       "    </tr>\n",
       "    <tr>\n",
       "      <td>data:geometry:horizontal_tail:area</td>\n",
       "      <td>OUT</td>\n",
       "      <td>horizontal tail area</td>\n",
       "    </tr>\n",
       "    <tr>\n",
       "      <td>data:geometry:horizontal_tail:root:chord</td>\n",
       "      <td>OUT</td>\n",
       "      <td>chord length at root of horizontal tail</td>\n",
       "    </tr>\n",
       "    <tr>\n",
       "      <td>data:geometry:horizontal_tail:span</td>\n",
       "      <td>OUT</td>\n",
       "      <td>horizontal tail span</td>\n",
       "    </tr>\n",
       "    <tr>\n",
       "      <td>data:geometry:horizontal_tail:sweep_0</td>\n",
       "      <td>OUT</td>\n",
       "      <td>sweep angle at leading edge of horizontal tail</td>\n",
       "    </tr>\n",
       "    <tr>\n",
       "      <td>data:geometry:horizontal_tail:sweep_100</td>\n",
       "      <td>OUT</td>\n",
       "      <td>sweep angle at trailing edge of horizontal tail</td>\n",
       "    </tr>\n",
       "    <tr>\n",
       "      <td>data:geometry:horizontal_tail:sweep_50</td>\n",
       "      <td>OUT</td>\n",
       "      <td></td>\n",
       "    </tr>\n",
       "    <tr>\n",
       "      <td>data:geometry:horizontal_tail:tip:chord</td>\n",
       "      <td>OUT</td>\n",
       "      <td>chord length at tip of horizontal tail</td>\n",
       "    </tr>\n",
       "    <tr>\n",
       "      <td>data:geometry:horizontal_tail:volume_coefficient</td>\n",
       "      <td>OUT</td>\n",
       "      <td></td>\n",
       "    </tr>\n",
       "    <tr>\n",
       "      <td>data:geometry:horizontal_tail:wet_area</td>\n",
       "      <td>OUT</td>\n",
       "      <td>wet area of horizontal tail</td>\n",
       "    </tr>\n",
       "    <tr>\n",
       "      <td>data:geometry:horizontal_tail:z:from_wingMAC25</td>\n",
       "      <td>OUT</td>\n",
       "      <td>Z-position of the horizontal tail w.r.t. 25% MAC of wing Z-position</td>\n",
       "    </tr>\n",
       "    <tr>\n",
       "      <td>data:geometry:landing_gear:height</td>\n",
       "      <td>OUT</td>\n",
       "      <td>height of the landing gear</td>\n",
       "    </tr>\n",
       "    <tr>\n",
       "      <td>data:geometry:landing_gear:y</td>\n",
       "      <td>OUT</td>\n",
       "      <td>landing gear position along the wing</td>\n",
       "    </tr>\n",
       "    <tr>\n",
       "      <td>data:geometry:propulsion:nacelle:from_LE</td>\n",
       "      <td>OUT</td>\n",
       "      <td></td>\n",
       "    </tr>\n",
       "    <tr>\n",
       "      <td>data:geometry:propulsion:nacelle:height</td>\n",
       "      <td>OUT</td>\n",
       "      <td>height of the nacelle</td>\n",
       "    </tr>\n",
       "    <tr>\n",
       "      <td>data:geometry:propulsion:nacelle:length</td>\n",
       "      <td>OUT</td>\n",
       "      <td>length of the nacelle</td>\n",
       "    </tr>\n",
       "    <tr>\n",
       "      <td>data:geometry:propulsion:nacelle:master_cross_section</td>\n",
       "      <td>OUT</td>\n",
       "      <td></td>\n",
       "    </tr>\n",
       "    <tr>\n",
       "      <td>data:geometry:propulsion:nacelle:wet_area</td>\n",
       "      <td>OUT</td>\n",
       "      <td>nacelle wet area</td>\n",
       "    </tr>\n",
       "    <tr>\n",
       "      <td>data:geometry:propulsion:nacelle:width</td>\n",
       "      <td>OUT</td>\n",
       "      <td>width of the nacelle</td>\n",
       "    </tr>\n",
       "    <tr>\n",
       "      <td>data:geometry:propulsion:nacelle:x</td>\n",
       "      <td>OUT</td>\n",
       "      <td>position, with respect to the aircraft nose, of the furthest point of the nacelle from the nose</td>\n",
       "    </tr>\n",
       "    <tr>\n",
       "      <td>data:geometry:propulsion:nacelle:y</td>\n",
       "      <td>OUT</td>\n",
       "      <td>position of the nacelles along the wing</td>\n",
       "    </tr>\n",
       "    <tr>\n",
       "      <td>data:geometry:vertical_tail:MAC:at25percent:x:from_wingMAC25</td>\n",
       "      <td>OUT</td>\n",
       "      <td>distance along X between 25% MAC of wing and 25% MAC of vertical tail</td>\n",
       "    </tr>\n",
       "    <tr>\n",
       "      <td>data:geometry:vertical_tail:MAC:at25percent:x:local</td>\n",
       "      <td>OUT</td>\n",
       "      <td>X-position of the 25% of mean aerodynamic chord of vertical tail w.r.t. leading edge of root chord</td>\n",
       "    </tr>\n",
       "    <tr>\n",
       "      <td>data:geometry:vertical_tail:MAC:length</td>\n",
       "      <td>OUT</td>\n",
       "      <td>mean aerodynamic chord length of vertical tail</td>\n",
       "    </tr>\n",
       "    <tr>\n",
       "      <td>data:geometry:vertical_tail:MAC:z</td>\n",
       "      <td>OUT</td>\n",
       "      <td>Z-position of mean aerodynamic chord of vertical tail</td>\n",
       "    </tr>\n",
       "    <tr>\n",
       "      <td>data:geometry:vertical_tail:area</td>\n",
       "      <td>OUT</td>\n",
       "      <td>vertical tail area</td>\n",
       "    </tr>\n",
       "    <tr>\n",
       "      <td>data:geometry:vertical_tail:root:chord</td>\n",
       "      <td>OUT</td>\n",
       "      <td>chord length at root of vertical tail</td>\n",
       "    </tr>\n",
       "    <tr>\n",
       "      <td>data:geometry:vertical_tail:span</td>\n",
       "      <td>OUT</td>\n",
       "      <td>vertical tail span</td>\n",
       "    </tr>\n",
       "    <tr>\n",
       "      <td>data:geometry:vertical_tail:sweep_0</td>\n",
       "      <td>OUT</td>\n",
       "      <td>sweep angle at leading edge of vertical tail</td>\n",
       "    </tr>\n",
       "    <tr>\n",
       "      <td>data:geometry:vertical_tail:sweep_100</td>\n",
       "      <td>OUT</td>\n",
       "      <td>sweep angle at trailing edge of vertical tail</td>\n",
       "    </tr>\n",
       "    <tr>\n",
       "      <td>data:geometry:vertical_tail:sweep_50</td>\n",
       "      <td>OUT</td>\n",
       "      <td></td>\n",
       "    </tr>\n",
       "    <tr>\n",
       "      <td>data:geometry:vertical_tail:tip:chord</td>\n",
       "      <td>OUT</td>\n",
       "      <td>chord length at tip of vertical tail</td>\n",
       "    </tr>\n",
       "    <tr>\n",
       "      <td>data:geometry:vertical_tail:wet_area</td>\n",
       "      <td>OUT</td>\n",
       "      <td>wet area of vertical tail</td>\n",
       "    </tr>\n",
       "    <tr>\n",
       "      <td>data:geometry:wing:MAC:at25percent:x</td>\n",
       "      <td>OUT</td>\n",
       "      <td>X-position of the 25% of mean aerodynamic chord of wing w.r.t. aircraft nose (drives position of wing along fuselage)</td>\n",
       "    </tr>\n",
       "    <tr>\n",
       "      <td>data:geometry:wing:MAC:leading_edge:x:absolute</td>\n",
       "      <td>OUT</td>\n",
       "      <td></td>\n",
       "    </tr>\n",
       "    <tr>\n",
       "      <td>data:geometry:wing:MAC:leading_edge:x:local</td>\n",
       "      <td>OUT</td>\n",
       "      <td>X-position of leading edge of mean aerodynamic chord w.r.t. leading edge of root chord</td>\n",
       "    </tr>\n",
       "    <tr>\n",
       "      <td>data:geometry:wing:MAC:length</td>\n",
       "      <td>OUT</td>\n",
       "      <td>length of mean aerodynamic chord of wing</td>\n",
       "    </tr>\n",
       "    <tr>\n",
       "      <td>data:geometry:wing:MAC:y</td>\n",
       "      <td>OUT</td>\n",
       "      <td>Y-position of mean aerodynamic chord of wing</td>\n",
       "    </tr>\n",
       "    <tr>\n",
       "      <td>data:geometry:wing:area</td>\n",
       "      <td>OUT</td>\n",
       "      <td>wing area</td>\n",
       "    </tr>\n",
       "    <tr>\n",
       "      <td>data:geometry:wing:b_50</td>\n",
       "      <td>OUT</td>\n",
       "      <td>actual length between root and tip along 50% of chord</td>\n",
       "    </tr>\n",
       "    <tr>\n",
       "      <td>data:geometry:wing:kink:chord</td>\n",
       "      <td>OUT</td>\n",
       "      <td>chord length at wing kink</td>\n",
       "    </tr>\n",
       "    <tr>\n",
       "      <td>data:geometry:wing:kink:leading_edge:x:local</td>\n",
       "      <td>OUT</td>\n",
       "      <td>X-position of leading edge at wing kink w.r.t. leading edge of root chord</td>\n",
       "    </tr>\n",
       "    <tr>\n",
       "      <td>data:geometry:wing:kink:thickness_ratio</td>\n",
       "      <td>OUT</td>\n",
       "      <td>thickness ratio at wing kink</td>\n",
       "    </tr>\n",
       "    <tr>\n",
       "      <td>data:geometry:wing:kink:y</td>\n",
       "      <td>OUT</td>\n",
       "      <td>Y-position of wing kink</td>\n",
       "    </tr>\n",
       "    <tr>\n",
       "      <td>data:geometry:wing:outer_area</td>\n",
       "      <td>OUT</td>\n",
       "      <td>wing area outside of fuselage</td>\n",
       "    </tr>\n",
       "    <tr>\n",
       "      <td>data:geometry:wing:root:chord</td>\n",
       "      <td>OUT</td>\n",
       "      <td>chord length at wing root</td>\n",
       "    </tr>\n",
       "    <tr>\n",
       "      <td>data:geometry:wing:root:thickness_ratio</td>\n",
       "      <td>OUT</td>\n",
       "      <td>thickness ratio at wing root</td>\n",
       "    </tr>\n",
       "    <tr>\n",
       "      <td>data:geometry:wing:root:virtual_chord</td>\n",
       "      <td>OUT</td>\n",
       "      <td>virtual chord length at wing root if sweep angle of trailing edge of outer wing part was on the whole wing (no kink)</td>\n",
       "    </tr>\n",
       "    <tr>\n",
       "      <td>data:geometry:wing:root:y</td>\n",
       "      <td>OUT</td>\n",
       "      <td>Y-position of wing root</td>\n",
       "    </tr>\n",
       "    <tr>\n",
       "      <td>data:geometry:wing:root:z</td>\n",
       "      <td>OUT</td>\n",
       "      <td>Distance between the wing aerodynamic center at the root and the fuselage centerline, taken positive when wing is below the fuselage centerline</td>\n",
       "    </tr>\n",
       "    <tr>\n",
       "      <td>data:geometry:wing:span</td>\n",
       "      <td>OUT</td>\n",
       "      <td>wing span</td>\n",
       "    </tr>\n",
       "    <tr>\n",
       "      <td>data:geometry:wing:sweep_0</td>\n",
       "      <td>OUT</td>\n",
       "      <td>sweep angle at leading edge of wing</td>\n",
       "    </tr>\n",
       "    <tr>\n",
       "      <td>data:geometry:wing:sweep_100_inner</td>\n",
       "      <td>OUT</td>\n",
       "      <td>sweep angle at trailing edge of wing (inner side of the kink)</td>\n",
       "    </tr>\n",
       "    <tr>\n",
       "      <td>data:geometry:wing:sweep_100_outer</td>\n",
       "      <td>OUT</td>\n",
       "      <td>sweep angle at trailing edge of wing (outer side of the kink)</td>\n",
       "    </tr>\n",
       "    <tr>\n",
       "      <td>data:geometry:wing:sweep_50</td>\n",
       "      <td>OUT</td>\n",
       "      <td></td>\n",
       "    </tr>\n",
       "    <tr>\n",
       "      <td>data:geometry:wing:tip:chord</td>\n",
       "      <td>OUT</td>\n",
       "      <td>chord length at wing tip</td>\n",
       "    </tr>\n",
       "    <tr>\n",
       "      <td>data:geometry:wing:tip:leading_edge:x:absolute</td>\n",
       "      <td>OUT</td>\n",
       "      <td></td>\n",
       "    </tr>\n",
       "    <tr>\n",
       "      <td>data:geometry:wing:tip:leading_edge:x:local</td>\n",
       "      <td>OUT</td>\n",
       "      <td>X-position of leading edge at wing tip w.r.t. leading edge of root chord</td>\n",
       "    </tr>\n",
       "    <tr>\n",
       "      <td>data:geometry:wing:tip:thickness_ratio</td>\n",
       "      <td>OUT</td>\n",
       "      <td>thickness ratio at wing tip</td>\n",
       "    </tr>\n",
       "    <tr>\n",
       "      <td>data:geometry:wing:tip:y</td>\n",
       "      <td>OUT</td>\n",
       "      <td>Y-position of wing tip</td>\n",
       "    </tr>\n",
       "    <tr>\n",
       "      <td>data:geometry:wing:tip:z</td>\n",
       "      <td>OUT</td>\n",
       "      <td>Distance between the wing aerodynamic center at the tip and the fuselage centerline, taken positive when wing is below the fuselage centerline</td>\n",
       "    </tr>\n",
       "    <tr>\n",
       "      <td>data:geometry:wing:wet_area</td>\n",
       "      <td>OUT</td>\n",
       "      <td>wet area of wing</td>\n",
       "    </tr>\n",
       "    <tr>\n",
       "      <td>data:handling_qualities:stick_fixed_static_margin</td>\n",
       "      <td>OUT</td>\n",
       "      <td>stick fixed static margin</td>\n",
       "    </tr>\n",
       "    <tr>\n",
       "      <td>data:handling_qualities:stick_free_static_margin</td>\n",
       "      <td>OUT</td>\n",
       "      <td>stick free static margin</td>\n",
       "    </tr>\n",
       "    <tr>\n",
       "      <td>data:mission:sizing:fuel</td>\n",
       "      <td>OUT</td>\n",
       "      <td></td>\n",
       "    </tr>\n",
       "    <tr>\n",
       "      <td>data:mission:sizing:initial_climb:fuel</td>\n",
       "      <td>OUT</td>\n",
       "      <td></td>\n",
       "    </tr>\n",
       "    <tr>\n",
       "      <td>data:mission:sizing:main_route:climb:distance</td>\n",
       "      <td>OUT</td>\n",
       "      <td></td>\n",
       "    </tr>\n",
       "    <tr>\n",
       "      <td>data:mission:sizing:main_route:climb:duration</td>\n",
       "      <td>OUT</td>\n",
       "      <td></td>\n",
       "    </tr>\n",
       "    <tr>\n",
       "      <td>data:mission:sizing:main_route:climb:fuel</td>\n",
       "      <td>OUT</td>\n",
       "      <td></td>\n",
       "    </tr>\n",
       "    <tr>\n",
       "      <td>data:mission:sizing:main_route:climb:v_cas</td>\n",
       "      <td>OUT</td>\n",
       "      <td></td>\n",
       "    </tr>\n",
       "    <tr>\n",
       "      <td>data:mission:sizing:main_route:cruise:distance</td>\n",
       "      <td>OUT</td>\n",
       "      <td></td>\n",
       "    </tr>\n",
       "    <tr>\n",
       "      <td>data:mission:sizing:main_route:cruise:duration</td>\n",
       "      <td>OUT</td>\n",
       "      <td></td>\n",
       "    </tr>\n",
       "    <tr>\n",
       "      <td>data:mission:sizing:main_route:cruise:fuel</td>\n",
       "      <td>OUT</td>\n",
       "      <td></td>\n",
       "    </tr>\n",
       "    <tr>\n",
       "      <td>data:mission:sizing:main_route:descent:distance</td>\n",
       "      <td>OUT</td>\n",
       "      <td></td>\n",
       "    </tr>\n",
       "    <tr>\n",
       "      <td>data:mission:sizing:main_route:descent:duration</td>\n",
       "      <td>OUT</td>\n",
       "      <td></td>\n",
       "    </tr>\n",
       "    <tr>\n",
       "      <td>data:mission:sizing:main_route:descent:fuel</td>\n",
       "      <td>OUT</td>\n",
       "      <td></td>\n",
       "    </tr>\n",
       "    <tr>\n",
       "      <td>data:mission:sizing:main_route:descent:v_cas</td>\n",
       "      <td>OUT</td>\n",
       "      <td></td>\n",
       "    </tr>\n",
       "    <tr>\n",
       "      <td>data:mission:sizing:main_route:reserve:fuel</td>\n",
       "      <td>OUT</td>\n",
       "      <td></td>\n",
       "    </tr>\n",
       "    <tr>\n",
       "      <td>data:mission:sizing:takeoff:TOFL</td>\n",
       "      <td>OUT</td>\n",
       "      <td></td>\n",
       "    </tr>\n",
       "    <tr>\n",
       "      <td>data:mission:sizing:takeoff:V2</td>\n",
       "      <td>OUT</td>\n",
       "      <td></td>\n",
       "    </tr>\n",
       "    <tr>\n",
       "      <td>data:mission:sizing:takeoff:VLOF</td>\n",
       "      <td>OUT</td>\n",
       "      <td></td>\n",
       "    </tr>\n",
       "    <tr>\n",
       "      <td>data:mission:sizing:takeoff:VR</td>\n",
       "      <td>OUT</td>\n",
       "      <td></td>\n",
       "    </tr>\n",
       "    <tr>\n",
       "      <td>data:mission:sizing:takeoff:climb_gradient</td>\n",
       "      <td>OUT</td>\n",
       "      <td></td>\n",
       "    </tr>\n",
       "    <tr>\n",
       "      <td>data:mission:sizing:takeoff:duration</td>\n",
       "      <td>OUT</td>\n",
       "      <td></td>\n",
       "    </tr>\n",
       "    <tr>\n",
       "      <td>data:mission:sizing:takeoff:fuel</td>\n",
       "      <td>OUT</td>\n",
       "      <td></td>\n",
       "    </tr>\n",
       "    <tr>\n",
       "      <td>data:mission:sizing:takeoff:ground_roll</td>\n",
       "      <td>OUT</td>\n",
       "      <td></td>\n",
       "    </tr>\n",
       "    <tr>\n",
       "      <td>data:mission:sizing:taxi_in:fuel</td>\n",
       "      <td>OUT</td>\n",
       "      <td></td>\n",
       "    </tr>\n",
       "    <tr>\n",
       "      <td>data:mission:sizing:taxi_out:fuel</td>\n",
       "      <td>OUT</td>\n",
       "      <td></td>\n",
       "    </tr>\n",
       "    <tr>\n",
       "      <td>data:weight:aircraft:CG:aft:MAC_position</td>\n",
       "      <td>OUT</td>\n",
       "      <td>most aft X-position of center of gravity as ratio of mean aerodynamic chord</td>\n",
       "    </tr>\n",
       "    <tr>\n",
       "      <td>data:weight:aircraft:CG:aft:x</td>\n",
       "      <td>OUT</td>\n",
       "      <td>most aft X-position of aircraft center of gravity</td>\n",
       "    </tr>\n",
       "    <tr>\n",
       "      <td>data:weight:aircraft:CG:flight_condition:max:MAC_position</td>\n",
       "      <td>OUT</td>\n",
       "      <td>most aft position of the CG with respect to the mean aerodynamic chord based on all possible flight loading case</td>\n",
       "    </tr>\n",
       "    <tr>\n",
       "      <td>data:weight:aircraft:CG:flight_condition:min:MAC_position</td>\n",
       "      <td>OUT</td>\n",
       "      <td>most fwd position of the CG with respect to the mean aerodynamic chord based on all possible flight loading case</td>\n",
       "    </tr>\n",
       "    <tr>\n",
       "      <td>data:weight:aircraft:CG:fwd:MAC_position</td>\n",
       "      <td>OUT</td>\n",
       "      <td>most fwd X-position of center of gravity as ratio of mean aerodynamic chord</td>\n",
       "    </tr>\n",
       "    <tr>\n",
       "      <td>data:weight:aircraft:CG:fwd:x</td>\n",
       "      <td>OUT</td>\n",
       "      <td>most fwd X-position of center of gravity</td>\n",
       "    </tr>\n",
       "    <tr>\n",
       "      <td>data:weight:aircraft:CG:ground_condition:max:MAC_position</td>\n",
       "      <td>OUT</td>\n",
       "      <td>most aft X-position of center of gravity as ratio of mean aerodynamic chord for ground conditions</td>\n",
       "    </tr>\n",
       "    <tr>\n",
       "      <td>data:weight:aircraft:CG:ground_condition:min:MAC_position</td>\n",
       "      <td>OUT</td>\n",
       "      <td>most fwd X-position of center of gravity as ratio of mean aerodynamic chord for ground conditions</td>\n",
       "    </tr>\n",
       "    <tr>\n",
       "      <td>data:weight:aircraft:MFW</td>\n",
       "      <td>OUT</td>\n",
       "      <td>maximum fuel weight</td>\n",
       "    </tr>\n",
       "    <tr>\n",
       "      <td>data:weight:aircraft:MLW</td>\n",
       "      <td>OUT</td>\n",
       "      <td>maximum landing weight</td>\n",
       "    </tr>\n",
       "    <tr>\n",
       "      <td>data:weight:aircraft:MTOW</td>\n",
       "      <td>OUT</td>\n",
       "      <td>maximum takeoff weight of the aircraft</td>\n",
       "    </tr>\n",
       "    <tr>\n",
       "      <td>data:weight:aircraft:MZFW</td>\n",
       "      <td>OUT</td>\n",
       "      <td>maximum zero fuel weight</td>\n",
       "    </tr>\n",
       "    <tr>\n",
       "      <td>data:weight:aircraft:OWE</td>\n",
       "      <td>OUT</td>\n",
       "      <td>Mass of aircraft</td>\n",
       "    </tr>\n",
       "    <tr>\n",
       "      <td>data:weight:aircraft:ZFW</td>\n",
       "      <td>OUT</td>\n",
       "      <td>aircraft mass with payload, without fuel</td>\n",
       "    </tr>\n",
       "    <tr>\n",
       "      <td>data:weight:aircraft:empty:CG:MAC_position</td>\n",
       "      <td>OUT</td>\n",
       "      <td>X-position of center of gravity as ratio of mean aerodynamic chord for empty aircraft</td>\n",
       "    </tr>\n",
       "    <tr>\n",
       "      <td>data:weight:aircraft:in_flight_variation:fixed_mass_comp:equivalent_moment</td>\n",
       "      <td>OUT</td>\n",
       "      <td></td>\n",
       "    </tr>\n",
       "    <tr>\n",
       "      <td>data:weight:aircraft:in_flight_variation:fixed_mass_comp:mass</td>\n",
       "      <td>OUT</td>\n",
       "      <td></td>\n",
       "    </tr>\n",
       "    <tr>\n",
       "      <td>data:weight:aircraft:max_payload</td>\n",
       "      <td>OUT</td>\n",
       "      <td>max payload weight</td>\n",
       "    </tr>\n",
       "    <tr>\n",
       "      <td>data:weight:aircraft:payload</td>\n",
       "      <td>OUT</td>\n",
       "      <td>design payload weight</td>\n",
       "    </tr>\n",
       "    <tr>\n",
       "      <td>data:weight:aircraft_empty:CG:x</td>\n",
       "      <td>OUT</td>\n",
       "      <td>X-position center of gravity of empty aircraft</td>\n",
       "    </tr>\n",
       "    <tr>\n",
       "      <td>data:weight:aircraft_empty:CG:z</td>\n",
       "      <td>OUT</td>\n",
       "      <td>Z-position center of gravity of empty aircraft</td>\n",
       "    </tr>\n",
       "    <tr>\n",
       "      <td>data:weight:aircraft_empty:mass</td>\n",
       "      <td>OUT</td>\n",
       "      <td>mass of empty aircraft</td>\n",
       "    </tr>\n",
       "    <tr>\n",
       "      <td>data:weight:airframe:flight_controls:CG:x</td>\n",
       "      <td>OUT</td>\n",
       "      <td>X-position of center of gravity of the flight controls</td>\n",
       "    </tr>\n",
       "    <tr>\n",
       "      <td>data:weight:airframe:flight_controls:mass</td>\n",
       "      <td>OUT</td>\n",
       "      <td>Mass of the airframe_inp_data:weight:airframe:flight_controls:mass</td>\n",
       "    </tr>\n",
       "    <tr>\n",
       "      <td>data:weight:airframe:fuselage:CG:x</td>\n",
       "      <td>OUT</td>\n",
       "      <td>X-position of center of gravity of the fuselage</td>\n",
       "    </tr>\n",
       "    <tr>\n",
       "      <td>data:weight:airframe:fuselage:mass</td>\n",
       "      <td>OUT</td>\n",
       "      <td>Mass of the airframe_inp_data:weight:airframe:fuselage:mass</td>\n",
       "    </tr>\n",
       "    <tr>\n",
       "      <td>data:weight:airframe:horizontal_tail:CG:x</td>\n",
       "      <td>OUT</td>\n",
       "      <td>X-position of center of gravity of the horizontal tail</td>\n",
       "    </tr>\n",
       "    <tr>\n",
       "      <td>data:weight:airframe:horizontal_tail:mass</td>\n",
       "      <td>OUT</td>\n",
       "      <td>Mass of the airframe_inp_data:weight:airframe:horizontal_tail:mass</td>\n",
       "    </tr>\n",
       "    <tr>\n",
       "      <td>data:weight:airframe:landing_gear:front:CG:x</td>\n",
       "      <td>OUT</td>\n",
       "      <td>X-position of center of gravity of the front landing gear</td>\n",
       "    </tr>\n",
       "    <tr>\n",
       "      <td>data:weight:airframe:landing_gear:front:mass</td>\n",
       "      <td>OUT</td>\n",
       "      <td>Mass of the airframe_inp_data:weight:airframe:landing_gear:front:mass</td>\n",
       "    </tr>\n",
       "    <tr>\n",
       "      <td>data:weight:airframe:landing_gear:main:CG:x</td>\n",
       "      <td>OUT</td>\n",
       "      <td>X-position of center of gravity of the main landing gear</td>\n",
       "    </tr>\n",
       "    <tr>\n",
       "      <td>data:weight:airframe:landing_gear:main:mass</td>\n",
       "      <td>OUT</td>\n",
       "      <td>Mass of the airframe_inp_data:weight:airframe:landing_gear:main:mass</td>\n",
       "    </tr>\n",
       "    <tr>\n",
       "      <td>data:weight:airframe:mass</td>\n",
       "      <td>OUT</td>\n",
       "      <td>Mass of the airframe</td>\n",
       "    </tr>\n",
       "    <tr>\n",
       "      <td>data:weight:airframe:vertical_tail:CG:x</td>\n",
       "      <td>OUT</td>\n",
       "      <td>X-position of center of gravity of the vertical tail</td>\n",
       "    </tr>\n",
       "    <tr>\n",
       "      <td>data:weight:airframe:vertical_tail:mass</td>\n",
       "      <td>OUT</td>\n",
       "      <td>Mass of the airframe_inp_data:weight:airframe:vertical_tail:mass</td>\n",
       "    </tr>\n",
       "    <tr>\n",
       "      <td>data:weight:airframe:wing:CG:x</td>\n",
       "      <td>OUT</td>\n",
       "      <td>X-position of center of gravity of the wing</td>\n",
       "    </tr>\n",
       "    <tr>\n",
       "      <td>data:weight:airframe:wing:mass</td>\n",
       "      <td>OUT</td>\n",
       "      <td>Mass of the airframe_inp_data:weight:airframe:wing:mass</td>\n",
       "    </tr>\n",
       "    <tr>\n",
       "      <td>data:weight:furniture:mass</td>\n",
       "      <td>OUT</td>\n",
       "      <td>Mass of aircraft furniture</td>\n",
       "    </tr>\n",
       "    <tr>\n",
       "      <td>data:weight:furniture:passenger_seats:CG:x</td>\n",
       "      <td>OUT</td>\n",
       "      <td>X-position of center of gravity of the passenger/pilot seats</td>\n",
       "    </tr>\n",
       "    <tr>\n",
       "      <td>data:weight:furniture:passenger_seats:mass</td>\n",
       "      <td>OUT</td>\n",
       "      <td>Mass of aircraft furniture_inp_data:weight:furniture:passenger_seats:mass</td>\n",
       "    </tr>\n",
       "    <tr>\n",
       "      <td>data:weight:payload:PAX:CG:x</td>\n",
       "      <td>OUT</td>\n",
       "      <td>X-position of center of gravity of the passengers/pilots</td>\n",
       "    </tr>\n",
       "    <tr>\n",
       "      <td>data:weight:payload:front_fret:CG:x</td>\n",
       "      <td>OUT</td>\n",
       "      <td>X-position of center of gravity of the front fret</td>\n",
       "    </tr>\n",
       "    <tr>\n",
       "      <td>data:weight:payload:rear_fret:CG:x</td>\n",
       "      <td>OUT</td>\n",
       "      <td>X-position of center of gravity of the rear fret</td>\n",
       "    </tr>\n",
       "    <tr>\n",
       "      <td>data:weight:propulsion:CG:x</td>\n",
       "      <td>OUT</td>\n",
       "      <td></td>\n",
       "    </tr>\n",
       "    <tr>\n",
       "      <td>data:weight:propulsion:engine:CG:x</td>\n",
       "      <td>OUT</td>\n",
       "      <td>X-position of center of gravity of the engine(s)</td>\n",
       "    </tr>\n",
       "    <tr>\n",
       "      <td>data:weight:propulsion:engine:CG:z</td>\n",
       "      <td>OUT</td>\n",
       "      <td>Z-position of center of gravity of the engine(s)</td>\n",
       "    </tr>\n",
       "    <tr>\n",
       "      <td>data:weight:propulsion:engine:mass</td>\n",
       "      <td>OUT</td>\n",
       "      <td>Mass of the propulsion system_inp_data:weight:propulsion:engine:mass</td>\n",
       "    </tr>\n",
       "    <tr>\n",
       "      <td>data:weight:propulsion:fuel_lines:CG:x</td>\n",
       "      <td>OUT</td>\n",
       "      <td>X-position of center of gravity of the fuel lines</td>\n",
       "    </tr>\n",
       "    <tr>\n",
       "      <td>data:weight:propulsion:fuel_lines:mass</td>\n",
       "      <td>OUT</td>\n",
       "      <td>Mass of the propulsion system_inp_data:weight:propulsion:fuel_lines:mass</td>\n",
       "    </tr>\n",
       "    <tr>\n",
       "      <td>data:weight:propulsion:mass</td>\n",
       "      <td>OUT</td>\n",
       "      <td>Mass of the propulsion system</td>\n",
       "    </tr>\n",
       "    <tr>\n",
       "      <td>data:weight:propulsion:tank:CG:x</td>\n",
       "      <td>OUT</td>\n",
       "      <td>X-position of center of gravity of the tank</td>\n",
       "    </tr>\n",
       "    <tr>\n",
       "      <td>data:weight:propulsion:unusable_fuel:mass</td>\n",
       "      <td>OUT</td>\n",
       "      <td>total unusable fuel mass</td>\n",
       "    </tr>\n",
       "    <tr>\n",
       "      <td>data:weight:systems:avionics:CG:x</td>\n",
       "      <td>OUT</td>\n",
       "      <td>X-position of center of gravity of the navigation system</td>\n",
       "    </tr>\n",
       "    <tr>\n",
       "      <td>data:weight:systems:avionics:mass</td>\n",
       "      <td>OUT</td>\n",
       "      <td>Mass of aircraft systems_inp_data:weight:systems:avionics:mass</td>\n",
       "    </tr>\n",
       "    <tr>\n",
       "      <td>data:weight:systems:life_support:air_conditioning:CG:x</td>\n",
       "      <td>OUT</td>\n",
       "      <td>X-position of center of gravity of the air conditioning</td>\n",
       "    </tr>\n",
       "    <tr>\n",
       "      <td>data:weight:systems:life_support:air_conditioning:mass</td>\n",
       "      <td>OUT</td>\n",
       "      <td>Mass of aircraft systems_inp_data:weight:systems:life_support:air_conditioning:mass</td>\n",
       "    </tr>\n",
       "    <tr>\n",
       "      <td>data:weight:systems:life_support:de_icing:mass</td>\n",
       "      <td>OUT</td>\n",
       "      <td>Mass of aircraft systems_inp_data:weight:systems:life_support:de_icing:mass</td>\n",
       "    </tr>\n",
       "    <tr>\n",
       "      <td>data:weight:systems:life_support:fixed_oxygen:mass</td>\n",
       "      <td>OUT</td>\n",
       "      <td>Mass of aircraft systems_inp_data:weight:systems:life_support:fixed_oxygen:mass</td>\n",
       "    </tr>\n",
       "    <tr>\n",
       "      <td>data:weight:systems:life_support:insulation:mass</td>\n",
       "      <td>OUT</td>\n",
       "      <td>Mass of aircraft systems_inp_data:weight:systems:life_support:insulation:mass</td>\n",
       "    </tr>\n",
       "    <tr>\n",
       "      <td>data:weight:systems:life_support:internal_lighting:mass</td>\n",
       "      <td>OUT</td>\n",
       "      <td>Mass of aircraft systems_inp_data:weight:systems:life_support:internal_lighting:mass</td>\n",
       "    </tr>\n",
       "    <tr>\n",
       "      <td>data:weight:systems:life_support:seat_installation:mass</td>\n",
       "      <td>OUT</td>\n",
       "      <td>Mass of aircraft systems_inp_data:weight:systems:life_support:seat_installation:mass</td>\n",
       "    </tr>\n",
       "    <tr>\n",
       "      <td>data:weight:systems:life_support:security_kits:mass</td>\n",
       "      <td>OUT</td>\n",
       "      <td>Mass of aircraft systems_inp_data:weight:systems:life_support:security_kits:mass</td>\n",
       "    </tr>\n",
       "    <tr>\n",
       "      <td>data:weight:systems:mass</td>\n",
       "      <td>OUT</td>\n",
       "      <td>Mass of aircraft systems</td>\n",
       "    </tr>\n",
       "    <tr>\n",
       "      <td>data:weight:systems:power:electric_systems:CG:x</td>\n",
       "      <td>OUT</td>\n",
       "      <td>X-position of center of gravity of the electric power unit</td>\n",
       "    </tr>\n",
       "    <tr>\n",
       "      <td>data:weight:systems:power:electric_systems:mass</td>\n",
       "      <td>OUT</td>\n",
       "      <td>Mass of aircraft systems_inp_data:weight:systems:power:electric_systems:mass</td>\n",
       "    </tr>\n",
       "    <tr>\n",
       "      <td>data:weight:systems:power:hydraulic_systems:CG:x</td>\n",
       "      <td>OUT</td>\n",
       "      <td>X-position of center of gravity of the hydraulic power unit</td>\n",
       "    </tr>\n",
       "    <tr>\n",
       "      <td>data:weight:systems:power:hydraulic_systems:mass</td>\n",
       "      <td>OUT</td>\n",
       "      <td>Mass of aircraft systems_inp_data:weight:systems:power:hydraulic_systems:mass</td>\n",
       "    </tr>\n",
       "    <tr>\n",
       "      <td>data:weight:systems:recording:CG:x</td>\n",
       "      <td>OUT</td>\n",
       "      <td></td>\n",
       "    </tr>\n",
       "    <tr>\n",
       "      <td>data:weight:systems:recording:mass</td>\n",
       "      <td>OUT</td>\n",
       "      <td>Mass of aircraft systems_inp_data:weight:systems:recording:mass</td>\n",
       "    </tr>\n",
       "    <tr>\n",
       "      <td>xfoil:horizontal_tail:CL</td>\n",
       "      <td>OUT</td>\n",
       "      <td></td>\n",
       "    </tr>\n",
       "    <tr>\n",
       "      <td>xfoil:horizontal_tail:alpha</td>\n",
       "      <td>OUT</td>\n",
       "      <td></td>\n",
       "    </tr>\n",
       "    <tr>\n",
       "      <td>xfoil:vertical_tail:CL</td>\n",
       "      <td>OUT</td>\n",
       "      <td></td>\n",
       "    </tr>\n",
       "    <tr>\n",
       "      <td>xfoil:vertical_tail:alpha</td>\n",
       "      <td>OUT</td>\n",
       "      <td></td>\n",
       "    </tr>\n",
       "    <tr>\n",
       "      <td>xfoil:wing:CL</td>\n",
       "      <td>OUT</td>\n",
       "      <td></td>\n",
       "    </tr>\n",
       "    <tr>\n",
       "      <td>xfoil:wing:alpha</td>\n",
       "      <td>OUT</td>\n",
       "      <td></td>\n",
       "    </tr>\n",
       "  </tbody>\n",
       "</table>"
      ],
      "text/plain": [
       "<IPython.core.display.HTML object>"
      ]
     },
     "metadata": {},
     "output_type": "display_data"
    },
    {
     "data": {
      "application/vnd.jupyter.widget-view+json": {
       "model_id": "98e6f7e77bc447b68ded2ced411cf111",
       "version_major": 2,
       "version_minor": 0
      },
      "text/plain": [
       "VBox(children=(HBox(children=(Button(description='Load', icon='upload', style=ButtonStyle(), tooltip='Load the…"
      ]
     },
     "metadata": {},
     "output_type": "display_data"
    }
   ],
   "source": [
    "api_cs25.list_variables(CONFIGURATION_FILE)\n",
    "INPUT_FILE = pth.join(WORK_FOLDER_PATH, \"problem_inputs.xml\")\n",
    "api_cs25.variable_viewer(INPUT_FILE)"
   ]
  },
  {
   "cell_type": "markdown",
   "metadata": {},
   "source": [
    "Another useful feature is to list the modules of the model defined in the configuration file:"
   ]
  },
  {
   "cell_type": "code",
   "execution_count": 28,
   "metadata": {},
   "outputs": [
    {
     "data": {
      "text/html": [
       "<table>\n",
       "<tbody>\n",
       "<tr><td>AVAILABLE MODULE IDENTIFIERS                           </td><td>MODULE PATH                                                                                                                           </td></tr>\n",
       "<tr><td>fastga.aerodynamics.cl_cd_polar                        </td><td>C:\\Users\\88690\\Documents\\GitHub\\FAST-GA\\src\\fastga\\models\\aerodynamics\\compute_polar.py                                               </td></tr>\n",
       "<tr><td>fastga.aerodynamics.highspeed.legacy                   </td><td>C:\\Users\\88690\\Documents\\GitHub\\FAST-GA\\src\\fastga\\models\\aerodynamics\\aerodynamics_high_speed.py                                     </td></tr>\n",
       "<tr><td>fastga.aerodynamics.legacy                             </td><td>C:\\Users\\88690\\Documents\\GitHub\\FAST-GA\\src\\fastga\\models\\aerodynamics\\aerodynamics.py                                                </td></tr>\n",
       "<tr><td>fastga.aerodynamics.load_factor                        </td><td>C:\\Users\\88690\\Documents\\GitHub\\FAST-GA\\src\\fastga\\models\\aerodynamics\\load_factor.py                                                 </td></tr>\n",
       "<tr><td>fastga.aerodynamics.lowspeed.legacy                    </td><td>C:\\Users\\88690\\Documents\\GitHub\\FAST-GA\\src\\fastga\\models\\aerodynamics\\aerodynamics_low_speed.py                                      </td></tr>\n",
       "<tr><td>fastga.aerodynamics.propeller                          </td><td>C:\\Users\\88690\\Documents\\GitHub\\FAST-GA\\src\\fastga\\models\\aerodynamics\\external\\propeller_code\\compute_propeller_aero.py              </td></tr>\n",
       "<tr><td>fastga.aerodynamics.propeller.coeff_map                </td><td>C:\\Users\\88690\\Documents\\GitHub\\FAST-GA\\src\\fastga\\models\\aerodynamics\\external\\propeller_code\\compute_propeller_coefficient_map.py   </td></tr>\n",
       "<tr><td>fastga.aerodynamics.stability_derivatives.legacy       </td><td>C:\\Users\\88690\\Documents\\GitHub\\FAST-GA\\src\\fastga\\models\\aerodynamics\\aerodynamics_stability_derivatives.py                          </td></tr>\n",
       "<tr><td>fastga.geometry.alternate                              </td><td>C:\\Users\\88690\\Documents\\GitHub\\FAST-GA\\src\\fastga\\models\\geometry\\geometry.py                                                        </td></tr>\n",
       "<tr><td>fastga.geometry.legacy                                 </td><td>C:\\Users\\88690\\Documents\\GitHub\\FAST-GA\\src\\fastga\\models\\geometry\\geometry.py                                                        </td></tr>\n",
       "<tr><td>fastga.handling_qualities.all_handling_qualities       </td><td>C:\\Users\\88690\\Documents\\GitHub\\FAST-GA\\src\\fastga\\models\\handling_qualities\\handling_qualities.py                                    </td></tr>\n",
       "<tr><td>fastga.handling_qualities.static_margin                </td><td>C:\\Users\\88690\\Documents\\GitHub\\FAST-GA\\src\\fastga\\models\\handling_qualities\\compute_static_margin.py                                 </td></tr>\n",
       "<tr><td>fastga.handling_qualities.tail_sizing                  </td><td>C:\\Users\\88690\\Documents\\GitHub\\FAST-GA\\src\\fastga\\models\\handling_qualities\\tail_sizing\\update_tail_areas.py                         </td></tr>\n",
       "<tr><td>fastga.loads.wing                                      </td><td>C:\\Users\\88690\\Documents\\GitHub\\FAST-GA\\src\\fastga\\models\\load_analysis\\wing\\loads.py                                                 </td></tr>\n",
       "<tr><td>fastga.loop.mtow                                       </td><td>C:\\Users\\88690\\Documents\\GitHub\\FAST-GA\\src\\fastga\\models\\weight\\mass_breakdown\\update_mtow.py                                        </td></tr>\n",
       "<tr><td>fastga.loop.wing_area                                  </td><td>C:\\Users\\88690\\Documents\\GitHub\\FAST-GA\\src\\fastga\\models\\loops\\update_wing_area_group.py                                             </td></tr>\n",
       "<tr><td>fastga.loop.wing_position                              </td><td>C:\\Users\\88690\\Documents\\GitHub\\FAST-GA\\src\\fastga\\models\\loops\\update_wing_position.py                                               </td></tr>\n",
       "<tr><td>fastga.performances.mission                            </td><td>C:\\Users\\88690\\Documents\\GitHub\\FAST-GA\\src\\fastga\\models\\performances\\mission\\mission.py                                             </td></tr>\n",
       "<tr><td>fastga.performances.mission_builder_prep               </td><td>C:\\Users\\88690\\Documents\\GitHub\\FAST-GA\\src\\fastga\\models\\performances\\mission\\mission_builder_prep.py                                </td></tr>\n",
       "<tr><td>fastga.performances.mission_vector                     </td><td>C:\\Users\\88690\\Documents\\GitHub\\FAST-GA\\src\\fastga\\models\\performances\\mission_vector\\full_mission.py                                 </td></tr>\n",
       "<tr><td>fastga.performances.payload_range                      </td><td>C:\\Users\\88690\\Documents\\GitHub\\FAST-GA\\src\\fastga\\models\\performances\\payload_range\\payload_range.py                                 </td></tr>\n",
       "<tr><td>fastga.propulsion.turboprop_construction               </td><td>C:\\Users\\88690\\Documents\\GitHub\\FAST-GA\\src\\fastga\\models\\propulsion\\fuel_propulsion\\basicTurbo_prop_map\\basicTP_engine_constructor.py</td></tr>\n",
       "<tr><td>fastga.weight.legacy                                   </td><td>C:\\Users\\88690\\Documents\\GitHub\\FAST-GA\\src\\fastga\\models\\weight\\weight.py                                                            </td></tr>\n",
       "<tr><td>fastoad.mass_performances.compute_MTOW                 </td><td>D:\\anaconda3\\envs\\FAST-GA-Intern\\lib\\site-packages\\fastoad\\models\\performances\\mission\\openmdao\\link_mtow.py                          </td></tr>\n",
       "<tr><td>fastoad.performances.mission                           </td><td>D:\\anaconda3\\envs\\FAST-GA-Intern\\lib\\site-packages\\fastoad\\models\\performances\\mission\\openmdao\\mission.py                            </td></tr>\n",
       "<tr><td>fastoad.performances.payload_range                     </td><td>D:\\anaconda3\\envs\\FAST-GA-Intern\\lib\\site-packages\\fastoad\\models\\performances\\mission\\openmdao\\payload_range.py                      </td></tr>\n",
       "<tr><td>AVAILABLE PROPULSION WRAPPER IDENTIFIERS               </td><td>MODULE PATH                                                                                                                           </td></tr>\n",
       "<tr><td>fastga.wrapper.propulsion.basicIC_engine               </td><td>C:\\Users\\88690\\Documents\\GitHub\\FAST-GA\\src\\fastga\\models\\propulsion\\fuel_propulsion\\basicIC_engine\\openmdao.py                       </td></tr>\n",
       "<tr><td>fastga.wrapper.propulsion.basicTurboprop               </td><td>C:\\Users\\88690\\Documents\\GitHub\\FAST-GA\\src\\fastga\\models\\propulsion\\fuel_propulsion\\basicTurbo_prop\\openmdao.py                      </td></tr>\n",
       "<tr><td>fastga.wrapper.propulsion.basicTurbopropMapped         </td><td>C:\\Users\\88690\\Documents\\GitHub\\FAST-GA\\src\\fastga\\models\\propulsion\\fuel_propulsion\\basicTurbo_prop_map\\openmdao.py                  </td></tr>\n",
       "<tr><td>test.wrapper.aerodynamics.beechcraft.dummy_engine      </td><td>C:\\Users\\88690\\Documents\\GitHub\\FAST-GA\\src\\fastga\\models\\aerodynamics\\unitary_tests\\dummy_engines.py                                 </td></tr>\n",
       "<tr><td>test.wrapper.aerodynamics.cirrus.dummy_engine          </td><td>C:\\Users\\88690\\Documents\\GitHub\\FAST-GA\\src\\fastga\\models\\aerodynamics\\unitary_tests\\dummy_engines.py                                 </td></tr>\n",
       "<tr><td>test.wrapper.aerodynamics.daher.dummy_engine           </td><td>C:\\Users\\88690\\Documents\\GitHub\\FAST-GA\\src\\fastga\\models\\aerodynamics\\unitary_tests\\dummy_engines.py                                 </td></tr>\n",
       "<tr><td>test.wrapper.cg.beechcraft.dummy_engine                </td><td>C:\\Users\\88690\\Documents\\GitHub\\FAST-GA\\src\\fastga\\models\\weight\\cg\\unitary_tests\\dummy_engines.py                                    </td></tr>\n",
       "<tr><td>test.wrapper.cg.cirrus.dummy_engine                    </td><td>C:\\Users\\88690\\Documents\\GitHub\\FAST-GA\\src\\fastga\\models\\weight\\cg\\unitary_tests\\dummy_engines.py                                    </td></tr>\n",
       "<tr><td>test.wrapper.cg.daher.dummy_engine                     </td><td>C:\\Users\\88690\\Documents\\GitHub\\FAST-GA\\src\\fastga\\models\\weight\\cg\\unitary_tests\\dummy_engines.py                                    </td></tr>\n",
       "<tr><td>test.wrapper.geometry.beechcraft.dummy_engine          </td><td>C:\\Users\\88690\\Documents\\GitHub\\FAST-GA\\src\\fastga\\models\\geometry\\unitary_tests\\dummy_engines.py                                     </td></tr>\n",
       "<tr><td>test.wrapper.geometry.cirrus.dummy_engine              </td><td>C:\\Users\\88690\\Documents\\GitHub\\FAST-GA\\src\\fastga\\models\\geometry\\unitary_tests\\dummy_engines.py                                     </td></tr>\n",
       "<tr><td>test.wrapper.geometry.daher.dummy_engine               </td><td>C:\\Users\\88690\\Documents\\GitHub\\FAST-GA\\src\\fastga\\models\\geometry\\unitary_tests\\dummy_engines.py                                     </td></tr>\n",
       "<tr><td>test.wrapper.handling_qualities.beechcraft.dummy_engine</td><td>C:\\Users\\88690\\Documents\\GitHub\\FAST-GA\\src\\fastga\\models\\handling_qualities\\unitary_tests\\dummy_engines.py                           </td></tr>\n",
       "<tr><td>test.wrapper.handling_qualities.cirrus.dummy_engine    </td><td>C:\\Users\\88690\\Documents\\GitHub\\FAST-GA\\src\\fastga\\models\\handling_qualities\\unitary_tests\\dummy_engines.py                           </td></tr>\n",
       "<tr><td>test.wrapper.handling_qualities.daher.dummy_engine     </td><td>C:\\Users\\88690\\Documents\\GitHub\\FAST-GA\\src\\fastga\\models\\handling_qualities\\unitary_tests\\dummy_engines.py                           </td></tr>\n",
       "<tr><td>test.wrapper.load_analysis.beechcraft.dummy_engine     </td><td>C:\\Users\\88690\\Documents\\GitHub\\FAST-GA\\src\\fastga\\models\\load_analysis\\unitary_tests\\dummy_engines.py                                </td></tr>\n",
       "<tr><td>test.wrapper.load_analysis.cirrus.dummy_engine         </td><td>C:\\Users\\88690\\Documents\\GitHub\\FAST-GA\\src\\fastga\\models\\load_analysis\\unitary_tests\\dummy_engines.py                                </td></tr>\n",
       "<tr><td>test.wrapper.load_analysis.daher.dummy_engine          </td><td>C:\\Users\\88690\\Documents\\GitHub\\FAST-GA\\src\\fastga\\models\\load_analysis\\unitary_tests\\dummy_engines.py                                </td></tr>\n",
       "<tr><td>test.wrapper.mass_breakdown.beechcraft.dummy_engine    </td><td>C:\\Users\\88690\\Documents\\GitHub\\FAST-GA\\src\\fastga\\models\\weight\\mass_breakdown\\unitary_tests\\dummy_engines.py                        </td></tr>\n",
       "<tr><td>test.wrapper.mass_breakdown.cirrus.dummy_engine        </td><td>C:\\Users\\88690\\Documents\\GitHub\\FAST-GA\\src\\fastga\\models\\weight\\mass_breakdown\\unitary_tests\\dummy_engines.py                        </td></tr>\n",
       "<tr><td>test.wrapper.mass_breakdown.daher.dummy_engine         </td><td>C:\\Users\\88690\\Documents\\GitHub\\FAST-GA\\src\\fastga\\models\\weight\\mass_breakdown\\unitary_tests\\dummy_engines.py                        </td></tr>\n",
       "<tr><td>test.wrapper.performances.beechcraft.dummy_engine      </td><td>C:\\Users\\88690\\Documents\\GitHub\\FAST-GA\\src\\fastga\\models\\performances\\unitary_tests\\dummy_engines.py                                 </td></tr>\n",
       "<tr><td>test.wrapper.performances.cirrus.dummy_engine          </td><td>C:\\Users\\88690\\Documents\\GitHub\\FAST-GA\\src\\fastga\\models\\performances\\unitary_tests\\dummy_engines.py                                 </td></tr>\n",
       "<tr><td>test.wrapper.performances.daher.dummy_engine           </td><td>C:\\Users\\88690\\Documents\\GitHub\\FAST-GA\\src\\fastga\\models\\performances\\unitary_tests\\dummy_engines.py                                 </td></tr>\n",
       "</tbody>\n",
       "</table>"
      ],
      "text/plain": [
       "<IPython.core.display.HTML object>"
      ]
     },
     "metadata": {},
     "output_type": "display_data"
    }
   ],
   "source": [
    "api_cs25.list_modules(CONFIGURATION_FILE)"
   ]
  },
  {
   "cell_type": "markdown",
   "metadata": {},
   "source": [
    "Another useful feature is the [N2 diagram](http://openmdao.org/twodocs/versions/latest/basic_guide/make_n2.html) visualization available in OpenMDAO to see the structure of the model:"
   ]
  },
  {
   "cell_type": "code",
   "execution_count": 29,
   "metadata": {},
   "outputs": [
    {
     "name": "stderr",
     "output_type": "stream",
     "text": [
      "INFO    : N2 diagram written in C:\\Users\\88690\\Documents\\GitHub\\FAST-GA\\FAST-OAD_notebooks\\fast-oad-cs23\\tutorial\\workdir\\n2.html\n"
     ]
    },
    {
     "data": {
      "text/html": [
       "\n",
       "        <iframe\n",
       "            width=\"100%\"\n",
       "            height=\"500px\"\n",
       "            src=\"workdir\\n2.html\"\n",
       "            frameborder=\"0\"\n",
       "            allowfullscreen\n",
       "            \n",
       "        ></iframe>\n",
       "        "
      ],
      "text/plain": [
       "<IPython.lib.display.IFrame at 0x1df3b0a71c0>"
      ]
     },
     "execution_count": 29,
     "metadata": {},
     "output_type": "execute_result"
    }
   ],
   "source": [
    "N2_FILE = pth.join(WORK_FOLDER_PATH, \"n2.html\")\n",
    "api_cs25.write_n2(CONFIGURATION_FILE, N2_FILE, overwrite=True)\n",
    "from IPython.display import IFrame\n",
    "\n",
    "IFrame(src=N2_FILE, width=\"100%\", height=\"500px\")"
   ]
  },
  {
   "cell_type": "markdown",
   "metadata": {},
   "source": [
    "Alternatively, you can create a [WhatsOpt](https://github.com/OneraHub/WhatsOpt-Doc#whatsopt-documentation) account to generate the XDSM of the problem. If your account is created, you may uncomment next lines and run them (this should take ~ 1 min):"
   ]
  },
  {
   "cell_type": "code",
   "execution_count": 30,
   "metadata": {},
   "outputs": [
    {
     "name": "stdout",
     "output_type": "stream",
     "text": [
      "Analysis FASTOADModel pushed\u001b[0m\n"
     ]
    },
    {
     "data": {
      "text/html": [
       "\n",
       "        <iframe\n",
       "            width=\"100%\"\n",
       "            height=\"500px\"\n",
       "            src=\"workdir\\xdsm.html\"\n",
       "            frameborder=\"0\"\n",
       "            allowfullscreen\n",
       "            \n",
       "        ></iframe>\n",
       "        "
      ],
      "text/plain": [
       "<IPython.lib.display.IFrame at 0x1df3b077e50>"
      ]
     },
     "execution_count": 30,
     "metadata": {},
     "output_type": "execute_result"
    }
   ],
   "source": [
    "XDSM_FILE = pth.join(WORK_FOLDER_PATH, \"xdsm.html\")\n",
    "api_cs25.write_xdsm(CONFIGURATION_FILE, XDSM_FILE, overwrite=True)\n",
    "from IPython.display import IFrame\n",
    "\n",
    "IFrame(src=XDSM_FILE, width=\"100%\", height=\"500px\")"
   ]
  },
  {
   "cell_type": "markdown",
   "metadata": {},
   "source": [
    "## 2. Running your first MDA"
   ]
  },
  {
   "cell_type": "markdown",
   "metadata": {},
   "source": [
    "### Beechcraft\n",
    "Here we run an MDA, that is solving the multidisciplinary couplings using the different nested solvers in the model, without running the optimization problem even if it is defined in the configuration file."
   ]
  },
  {
   "cell_type": "code",
   "execution_count": 31,
   "metadata": {},
   "outputs": [
    {
     "name": "stdout",
     "output_type": "stream",
     "text": [
      "\n",
      "===============\n",
      "aircraft_sizing\n",
      "===============\n"
     ]
    },
    {
     "name": "stderr",
     "output_type": "stream",
     "text": [
      "INFO    : Entering mission computation\n",
      "INFO    : Failed to remove C:\\Users\\88690\\Documents\\GitHub\\FAST-GA\\FAST-OAD_notebooks\\fast-oad-cs23\\tutorial\\workdir\\./workdir/mda_mission_results.csv file!\n",
      "INFO    : Looping on wing area with new value equal to 13.875678\n"
     ]
    },
    {
     "name": "stdout",
     "output_type": "stream",
     "text": [
      "NL: NLBGS 1 ; 12528315.7 1\n"
     ]
    },
    {
     "name": "stderr",
     "output_type": "stream",
     "text": [
      "WARNING : Area ratio value outside of the range in Roskam's book, value clipped\n",
      "WARNING : Area ratio value outside of the range in Roskam's book, value clipped\n",
      "INFO    : Entering mission computation\n",
      "INFO    : Looping on wing area with new value equal to 14.985407\n"
     ]
    },
    {
     "name": "stdout",
     "output_type": "stream",
     "text": [
      "NL: NLBGS 2 ; 2145775.15 0.171274032\n"
     ]
    },
    {
     "name": "stderr",
     "output_type": "stream",
     "text": [
      "WARNING : Area ratio value outside of the range in Roskam's book, value clipped\n",
      "WARNING : Area ratio value outside of the range in Roskam's book, value clipped\n",
      "INFO    : Entering mission computation\n",
      "INFO    : Looping on wing area with new value equal to 15.055374\n"
     ]
    },
    {
     "name": "stdout",
     "output_type": "stream",
     "text": [
      "NL: NLBGS 3 ; 1077707.42 0.0860217321\n"
     ]
    },
    {
     "name": "stderr",
     "output_type": "stream",
     "text": [
      "WARNING : Area ratio value outside of the range in Roskam's book, value clipped\n",
      "WARNING : Area ratio value outside of the range in Roskam's book, value clipped\n",
      "INFO    : Entering mission computation\n",
      "INFO    : Looping on wing area with new value equal to 15.342948\n"
     ]
    },
    {
     "name": "stdout",
     "output_type": "stream",
     "text": [
      "NL: NLBGS 4 ; 462172.497 0.0368902338\n"
     ]
    },
    {
     "name": "stderr",
     "output_type": "stream",
     "text": [
      "WARNING : Area ratio value outside of the range in Roskam's book, value clipped\n",
      "WARNING : Area ratio value outside of the range in Roskam's book, value clipped\n",
      "INFO    : Entering mission computation\n",
      "INFO    : Looping on wing area with new value equal to 15.463506\n"
     ]
    },
    {
     "name": "stdout",
     "output_type": "stream",
     "text": [
      "NL: NLBGS 5 ; 96155.0828 0.00767502072\n"
     ]
    },
    {
     "name": "stderr",
     "output_type": "stream",
     "text": [
      "WARNING : Area ratio value outside of the range in Roskam's book, value clipped\n",
      "WARNING : Area ratio value outside of the range in Roskam's book, value clipped\n",
      "INFO    : Entering mission computation\n",
      "INFO    : Looping on wing area with new value equal to 15.507148\n"
     ]
    },
    {
     "name": "stdout",
     "output_type": "stream",
     "text": [
      "NL: NLBGS 6 ; 64925.6821 0.00518231528\n"
     ]
    },
    {
     "name": "stderr",
     "output_type": "stream",
     "text": [
      "WARNING : Area ratio value outside of the range in Roskam's book, value clipped\n",
      "WARNING : Area ratio value outside of the range in Roskam's book, value clipped\n",
      "INFO    : Entering mission computation\n",
      "INFO    : Looping on wing area with new value equal to 15.533623\n"
     ]
    },
    {
     "name": "stdout",
     "output_type": "stream",
     "text": [
      "NL: NLBGS 7 ; 32154.4649 0.00256654331\n"
     ]
    },
    {
     "name": "stderr",
     "output_type": "stream",
     "text": [
      "WARNING : Area ratio value outside of the range in Roskam's book, value clipped\n",
      "WARNING : Area ratio value outside of the range in Roskam's book, value clipped\n",
      "INFO    : Entering mission computation\n",
      "INFO    : Looping on wing area with new value equal to 15.546426\n"
     ]
    },
    {
     "name": "stdout",
     "output_type": "stream",
     "text": [
      "NL: NLBGS 8 ; 12023.8585 0.000959734631\n",
      "NL: NLBGS Converged\n"
     ]
    },
    {
     "name": "stderr",
     "output_type": "stream",
     "text": [
      "INFO    : Computation finished after 215.1 seconds\n",
      "INFO    : Problem outputs written in C:\\Users\\88690\\Documents\\GitHub\\FAST-GA\\FAST-OAD_notebooks\\fast-oad-cs23\\tutorial\\workdir\\problem_outputs.xml\n"
     ]
    }
   ],
   "source": [
    "eval_problem = api_cs25.evaluate_problem(CONFIGURATION_FILE, overwrite=True)"
   ]
  },
  {
   "cell_type": "markdown",
   "metadata": {},
   "source": [
    "Let's save these results. We will use them in the next workbook, that shows some post-processing utilities."
   ]
  },
  {
   "cell_type": "code",
   "execution_count": 32,
   "metadata": {},
   "outputs": [
    {
     "data": {
      "text/plain": [
       "'workdir\\\\problem_outputs_Beechcraft_800nm_mda.xml'"
      ]
     },
     "execution_count": 32,
     "metadata": {},
     "output_type": "execute_result"
    }
   ],
   "source": [
    "OUTPUT_FILE = pth.join(WORK_FOLDER_PATH, \"problem_outputs.xml\")\n",
    "Beechcraft_OUTPUT_FILE = pth.join(WORK_FOLDER_PATH, \"problem_outputs_Beechcraft_800nm_mda.xml\")\n",
    "shutil.copy(OUTPUT_FILE, Beechcraft_OUTPUT_FILE)"
   ]
  },
  {
   "cell_type": "markdown",
   "metadata": {},
   "source": [
    "The `variable-viewer` provides a way to inspect the content of the XML file. The dropdown lists above the table allow to filter the displayed variable."
   ]
  },
  {
   "cell_type": "code",
   "execution_count": 33,
   "metadata": {},
   "outputs": [
    {
     "data": {
      "application/vnd.jupyter.widget-view+json": {
       "model_id": "df6d048602ff40d8a967c12651856bb1",
       "version_major": 2,
       "version_minor": 0
      },
      "text/plain": [
       "VBox(children=(HBox(children=(Button(description='Load', icon='upload', style=ButtonStyle(), tooltip='Load the…"
      ]
     },
     "metadata": {},
     "output_type": "display_data"
    }
   ],
   "source": [
    "api_cs25.variable_viewer(OUTPUT_FILE)"
   ]
  },
  {
   "cell_type": "markdown",
   "metadata": {},
   "source": [
    "In particular, you may inspect the `data:handling_qualities:static_margin` variable.\n",
    "You will see that its value is equal to the value we set as the target meaning the MDA process converged correctly."
   ]
  },
  {
   "cell_type": "markdown",
   "metadata": {
    "jp-MarkdownHeadingCollapsed": true,
    "tags": []
   },
   "source": [
    "### Beechcraft for 1000 nm range\n",
    "Here we run an MDA but we change one of the Top Level Aircraft Requirement (TLAR): the range. We choose a 1000 nm range instead of 800 nm for the Beechcraft. For that we use the `VariableViewer` tool on the input file to change the range (do not forget to save!). Just like this:\n",
    "![variable_viewer](./img/variable_viewer_change_range.gif)"
   ]
  },
  {
   "cell_type": "code",
   "execution_count": 34,
   "metadata": {
    "scrolled": true
   },
   "outputs": [
    {
     "data": {
      "application/vnd.jupyter.widget-view+json": {
       "model_id": "4d51a2bdcf8f422bb1c8dfdedd58b56d",
       "version_major": 2,
       "version_minor": 0
      },
      "text/plain": [
       "VBox(children=(HBox(children=(Button(description='Load', icon='upload', style=ButtonStyle(), tooltip='Load the…"
      ]
     },
     "metadata": {},
     "output_type": "display_data"
    }
   ],
   "source": [
    "INPUT_FILE = pth.join(WORK_FOLDER_PATH, \"problem_inputs.xml\")\n",
    "api_cs25.variable_viewer(INPUT_FILE)"
   ]
  },
  {
   "cell_type": "markdown",
   "metadata": {},
   "source": [
    "Now that the range has been changed, we run again the MDA."
   ]
  },
  {
   "cell_type": "code",
   "execution_count": 35,
   "metadata": {},
   "outputs": [
    {
     "name": "stdout",
     "output_type": "stream",
     "text": [
      "\n",
      "===============\n",
      "aircraft_sizing\n",
      "===============\n"
     ]
    },
    {
     "name": "stderr",
     "output_type": "stream",
     "text": [
      "INFO    : Entering mission computation\n",
      "INFO    : Looping on wing area with new value equal to 13.875678\n"
     ]
    },
    {
     "name": "stdout",
     "output_type": "stream",
     "text": [
      "NL: NLBGS 1 ; 12528315.7 1\n"
     ]
    },
    {
     "name": "stderr",
     "output_type": "stream",
     "text": [
      "WARNING : Area ratio value outside of the range in Roskam's book, value clipped\n",
      "WARNING : Area ratio value outside of the range in Roskam's book, value clipped\n",
      "INFO    : Entering mission computation\n",
      "INFO    : Looping on wing area with new value equal to 14.985407\n"
     ]
    },
    {
     "name": "stdout",
     "output_type": "stream",
     "text": [
      "NL: NLBGS 2 ; 2145775.15 0.171274032\n"
     ]
    },
    {
     "name": "stderr",
     "output_type": "stream",
     "text": [
      "WARNING : Area ratio value outside of the range in Roskam's book, value clipped\n",
      "WARNING : Area ratio value outside of the range in Roskam's book, value clipped\n",
      "INFO    : Entering mission computation\n",
      "INFO    : Looping on wing area with new value equal to 15.055374\n"
     ]
    },
    {
     "name": "stdout",
     "output_type": "stream",
     "text": [
      "NL: NLBGS 3 ; 1077707.42 0.0860217321\n"
     ]
    },
    {
     "name": "stderr",
     "output_type": "stream",
     "text": [
      "WARNING : Area ratio value outside of the range in Roskam's book, value clipped\n",
      "WARNING : Area ratio value outside of the range in Roskam's book, value clipped\n",
      "INFO    : Entering mission computation\n",
      "INFO    : Looping on wing area with new value equal to 15.342948\n"
     ]
    },
    {
     "name": "stdout",
     "output_type": "stream",
     "text": [
      "NL: NLBGS 4 ; 462172.497 0.0368902338\n"
     ]
    },
    {
     "name": "stderr",
     "output_type": "stream",
     "text": [
      "WARNING : Area ratio value outside of the range in Roskam's book, value clipped\n",
      "WARNING : Area ratio value outside of the range in Roskam's book, value clipped\n",
      "INFO    : Entering mission computation\n",
      "INFO    : Looping on wing area with new value equal to 15.463506\n"
     ]
    },
    {
     "name": "stdout",
     "output_type": "stream",
     "text": [
      "NL: NLBGS 5 ; 96155.0828 0.00767502072\n"
     ]
    },
    {
     "name": "stderr",
     "output_type": "stream",
     "text": [
      "WARNING : Area ratio value outside of the range in Roskam's book, value clipped\n",
      "WARNING : Area ratio value outside of the range in Roskam's book, value clipped\n",
      "INFO    : Entering mission computation\n",
      "INFO    : Looping on wing area with new value equal to 15.507148\n"
     ]
    },
    {
     "name": "stdout",
     "output_type": "stream",
     "text": [
      "NL: NLBGS 6 ; 64925.6821 0.00518231528\n"
     ]
    },
    {
     "name": "stderr",
     "output_type": "stream",
     "text": [
      "WARNING : Area ratio value outside of the range in Roskam's book, value clipped\n",
      "WARNING : Area ratio value outside of the range in Roskam's book, value clipped\n",
      "INFO    : Entering mission computation\n",
      "INFO    : Looping on wing area with new value equal to 15.533623\n"
     ]
    },
    {
     "name": "stdout",
     "output_type": "stream",
     "text": [
      "NL: NLBGS 7 ; 32154.4649 0.00256654331\n"
     ]
    },
    {
     "name": "stderr",
     "output_type": "stream",
     "text": [
      "WARNING : Area ratio value outside of the range in Roskam's book, value clipped\n",
      "WARNING : Area ratio value outside of the range in Roskam's book, value clipped\n",
      "INFO    : Entering mission computation\n",
      "INFO    : Looping on wing area with new value equal to 15.546426\n"
     ]
    },
    {
     "name": "stdout",
     "output_type": "stream",
     "text": [
      "NL: NLBGS 8 ; 12023.8585 0.000959734631\n",
      "NL: NLBGS Converged\n"
     ]
    },
    {
     "name": "stderr",
     "output_type": "stream",
     "text": [
      "INFO    : Computation finished after 114.19 seconds\n",
      "INFO    : Problem outputs written in C:\\Users\\88690\\Documents\\GitHub\\FAST-GA\\FAST-OAD_notebooks\\fast-oad-cs23\\tutorial\\workdir\\problem_outputs.xml\n"
     ]
    }
   ],
   "source": [
    "eval_problem = api_cs25.evaluate_problem(CONFIGURATION_FILE, overwrite=True)"
   ]
  },
  {
   "cell_type": "markdown",
   "metadata": {},
   "source": [
    "Let's save again these new results, for post-processing them in next notebook."
   ]
  },
  {
   "cell_type": "code",
   "execution_count": 36,
   "metadata": {},
   "outputs": [
    {
     "data": {
      "text/plain": [
       "'workdir\\\\problem_outputs_Beechcraft_1000nm_mda.xml'"
      ]
     },
     "execution_count": 36,
     "metadata": {},
     "output_type": "execute_result"
    }
   ],
   "source": [
    "OUTPUT_FILE = pth.join(WORK_FOLDER_PATH, \"problem_outputs.xml\")\n",
    "Beechcraft_1000nm_OUTPUT_FILE = pth.join(\n",
    "    WORK_FOLDER_PATH, \"problem_outputs_Beechcraft_1000nm_mda.xml\"\n",
    ")\n",
    "shutil.copy(OUTPUT_FILE, Beechcraft_1000nm_OUTPUT_FILE)"
   ]
  },
  {
   "cell_type": "markdown",
   "metadata": {},
   "source": [
    "## 3. Running your first MDO\n",
    "\n",
    "## Beechcraft 800 nm optimization\n",
    "\n",
    "As seen earlier, the current aircraft configuration is estimated with a fixed distance between the wing aerodynamic center and the horizontal tail aerodynamic center. We will unlock this parameter using a simple optimization problem that will move horizontal tail position in order to minimize the mission consumption. \n",
    "\n",
    "The default configuration file defines this optimization problem that aims at:\n",
    "- minimizing the fuel consumption for the mission (objective),\n",
    "- with respect to the distance between the wing and the tail aerodynamic center (design variables): by extension the horizontal tail to wing distance,\n",
    "- subject to no additional constraint.\n",
    "\n",
    "However, running the MDO with the propeller performance estimation will take a very long time. Consequently, and since the propeller won't change from one MDO loop to another, we decided to use a different .yml file for the probleme definition and reuse the propeller performance map computed in the MDA's hence why the input file will be the output file of a previous MDA.\n",
    "\n",
    "*(This run should take approximately 20 minutes)*"
   ]
  },
  {
   "cell_type": "code",
   "execution_count": 37,
   "metadata": {},
   "outputs": [
    {
     "data": {
      "text/plain": [
       "'workdir\\\\oad_process_mdo.yml'"
      ]
     },
     "execution_count": 37,
     "metadata": {},
     "output_type": "execute_result"
    }
   ],
   "source": [
    "CONFIGURATION_FILE_MDO = pth.join(WORK_FOLDER_PATH, \"oad_process_mdo.yml\")\n",
    "SOURCE_FILE_MDO = pth.join(WORK_FOLDER_PATH, \"problem_outputs_Beechcraft_800nm_mda.xml\")\n",
    "shutil.copy(pth.join(DATA_FOLDER_PATH, \"fastga_mdo.yml\"), CONFIGURATION_FILE_MDO)"
   ]
  },
  {
   "cell_type": "code",
   "execution_count": 38,
   "metadata": {},
   "outputs": [
    {
     "name": "stderr",
     "output_type": "stream",
     "text": [
      "INFO    : Problem inputs written in C:\\Users\\88690\\Documents\\GitHub\\FAST-GA\\FAST-OAD_notebooks\\fast-oad-cs23\\tutorial\\workdir\\problem_inputs.xml\n"
     ]
    },
    {
     "data": {
      "text/plain": [
       "'C:\\\\Users\\\\88690\\\\Documents\\\\GitHub\\\\FAST-GA\\\\FAST-OAD_notebooks\\\\fast-oad-cs23\\\\tutorial\\\\workdir\\\\problem_inputs.xml'"
      ]
     },
     "execution_count": 38,
     "metadata": {},
     "output_type": "execute_result"
    }
   ],
   "source": [
    "# Set back the inputs from the reference Beechcraft 800 nm\n",
    "api_cs25.generate_inputs(CONFIGURATION_FILE_MDO, SOURCE_FILE_MDO, overwrite=True)"
   ]
  },
  {
   "cell_type": "markdown",
   "metadata": {},
   "source": [
    "To visualize and edit the optimization problem definition (present in the configuration file .toml) you can use the `optimization_viewer` tool. If design variables or constraints have active bounds they are yellow whereas they are red if they are violated. Modifiying the `Initial Value` will modify the input file defined in the configuration file .toml whereas `Value` corresponds to the value found in the output file defined in the configuration file (here it is the 800 nm MDA run)."
   ]
  },
  {
   "cell_type": "code",
   "execution_count": 39,
   "metadata": {},
   "outputs": [
    {
     "data": {
      "application/vnd.jupyter.widget-view+json": {
       "model_id": "3bbfb25c16e84661b55250726cf3bb76",
       "version_major": 2,
       "version_minor": 0
      },
      "text/plain": [
       "VBox(children=(HBox(children=(Button(description='Load', icon='upload', style=ButtonStyle(), tooltip='Load the…"
      ]
     },
     "metadata": {},
     "output_type": "display_data"
    }
   ],
   "source": [
    "api_cs25.optimization_viewer(CONFIGURATION_FILE_MDO)"
   ]
  },
  {
   "cell_type": "code",
   "execution_count": 40,
   "metadata": {},
   "outputs": [
    {
     "name": "stderr",
     "output_type": "stream",
     "text": [
      "INFO    : Entering mission computation\n",
      "INFO    : Looping on wing area with new value equal to 13.875678\n"
     ]
    },
    {
     "name": "stdout",
     "output_type": "stream",
     "text": [
      "NL: NLBGS 1 ; 12528315.7 1\n"
     ]
    },
    {
     "name": "stderr",
     "output_type": "stream",
     "text": [
      "WARNING : Area ratio value outside of the range in Roskam's book, value clipped\n",
      "WARNING : Area ratio value outside of the range in Roskam's book, value clipped\n",
      "INFO    : Entering mission computation\n",
      "INFO    : Looping on wing area with new value equal to 14.985407\n"
     ]
    },
    {
     "name": "stdout",
     "output_type": "stream",
     "text": [
      "NL: NLBGS 2 ; 2145775.15 0.171274032\n"
     ]
    },
    {
     "name": "stderr",
     "output_type": "stream",
     "text": [
      "WARNING : Area ratio value outside of the range in Roskam's book, value clipped\n",
      "WARNING : Area ratio value outside of the range in Roskam's book, value clipped\n",
      "INFO    : Entering mission computation\n",
      "INFO    : Looping on wing area with new value equal to 15.055374\n"
     ]
    },
    {
     "name": "stdout",
     "output_type": "stream",
     "text": [
      "NL: NLBGS 3 ; 1077707.42 0.0860217321\n"
     ]
    },
    {
     "name": "stderr",
     "output_type": "stream",
     "text": [
      "WARNING : Area ratio value outside of the range in Roskam's book, value clipped\n",
      "WARNING : Area ratio value outside of the range in Roskam's book, value clipped\n",
      "INFO    : Entering mission computation\n",
      "INFO    : Looping on wing area with new value equal to 15.342948\n"
     ]
    },
    {
     "name": "stdout",
     "output_type": "stream",
     "text": [
      "NL: NLBGS 4 ; 462172.497 0.0368902338\n"
     ]
    },
    {
     "name": "stderr",
     "output_type": "stream",
     "text": [
      "WARNING : Area ratio value outside of the range in Roskam's book, value clipped\n",
      "WARNING : Area ratio value outside of the range in Roskam's book, value clipped\n",
      "INFO    : Entering mission computation\n",
      "INFO    : Looping on wing area with new value equal to 15.463506\n"
     ]
    },
    {
     "name": "stdout",
     "output_type": "stream",
     "text": [
      "NL: NLBGS 5 ; 96155.0828 0.00767502072\n"
     ]
    },
    {
     "name": "stderr",
     "output_type": "stream",
     "text": [
      "WARNING : Area ratio value outside of the range in Roskam's book, value clipped\n",
      "WARNING : Area ratio value outside of the range in Roskam's book, value clipped\n",
      "INFO    : Entering mission computation\n",
      "INFO    : Looping on wing area with new value equal to 15.507148\n"
     ]
    },
    {
     "name": "stdout",
     "output_type": "stream",
     "text": [
      "NL: NLBGS 6 ; 64925.6821 0.00518231528\n"
     ]
    },
    {
     "name": "stderr",
     "output_type": "stream",
     "text": [
      "WARNING : Area ratio value outside of the range in Roskam's book, value clipped\n",
      "WARNING : Area ratio value outside of the range in Roskam's book, value clipped\n",
      "INFO    : Entering mission computation\n",
      "INFO    : Looping on wing area with new value equal to 15.533623\n"
     ]
    },
    {
     "name": "stdout",
     "output_type": "stream",
     "text": [
      "NL: NLBGS 7 ; 32154.4649 0.00256654331\n"
     ]
    },
    {
     "name": "stderr",
     "output_type": "stream",
     "text": [
      "WARNING : Area ratio value outside of the range in Roskam's book, value clipped\n",
      "WARNING : Area ratio value outside of the range in Roskam's book, value clipped\n",
      "INFO    : Entering mission computation\n",
      "INFO    : Looping on wing area with new value equal to 15.546426\n"
     ]
    },
    {
     "name": "stdout",
     "output_type": "stream",
     "text": [
      "NL: NLBGS 8 ; 12023.8585 0.000959734631\n",
      "NL: NLBGS Converged\n"
     ]
    },
    {
     "name": "stderr",
     "output_type": "stream",
     "text": [
      "WARNING : Area ratio value outside of the range in Roskam's book, value clipped\n",
      "WARNING : Area ratio value outside of the range in Roskam's book, value clipped\n",
      "INFO    : Entering mission computation\n",
      "INFO    : Looping on wing area with new value equal to 15.552226\n"
     ]
    },
    {
     "name": "stdout",
     "output_type": "stream",
     "text": [
      "NL: NLBGS 1 ; 6425.03945 1\n"
     ]
    },
    {
     "name": "stderr",
     "output_type": "stream",
     "text": [
      "WARNING : Area ratio value outside of the range in Roskam's book, value clipped\n",
      "WARNING : Area ratio value outside of the range in Roskam's book, value clipped\n",
      "INFO    : Entering mission computation\n",
      "INFO    : Looping on wing area with new value equal to 15.555099\n"
     ]
    },
    {
     "name": "stdout",
     "output_type": "stream",
     "text": [
      "NL: NLBGS 2 ; 3146.67749 0.489752244\n"
     ]
    },
    {
     "name": "stderr",
     "output_type": "stream",
     "text": [
      "WARNING : Area ratio value outside of the range in Roskam's book, value clipped\n",
      "WARNING : Area ratio value outside of the range in Roskam's book, value clipped\n",
      "INFO    : Entering mission computation\n",
      "INFO    : Looping on wing area with new value equal to 15.556483\n"
     ]
    },
    {
     "name": "stdout",
     "output_type": "stream",
     "text": [
      "NL: NLBGS 3 ; 1433.84334 0.223164908\n"
     ]
    },
    {
     "name": "stderr",
     "output_type": "stream",
     "text": [
      "WARNING : Area ratio value outside of the range in Roskam's book, value clipped\n",
      "WARNING : Area ratio value outside of the range in Roskam's book, value clipped\n",
      "INFO    : Entering mission computation\n",
      "INFO    : Looping on wing area with new value equal to 15.557136\n"
     ]
    },
    {
     "name": "stdout",
     "output_type": "stream",
     "text": [
      "NL: NLBGS 4 ; 696.234132 0.108362624\n"
     ]
    },
    {
     "name": "stderr",
     "output_type": "stream",
     "text": [
      "WARNING : Area ratio value outside of the range in Roskam's book, value clipped\n",
      "WARNING : Area ratio value outside of the range in Roskam's book, value clipped\n",
      "INFO    : Entering mission computation\n",
      "INFO    : Looping on wing area with new value equal to 15.557449\n"
     ]
    },
    {
     "name": "stdout",
     "output_type": "stream",
     "text": [
      "NL: NLBGS 5 ; 334.151525 0.0520077001\n"
     ]
    },
    {
     "name": "stderr",
     "output_type": "stream",
     "text": [
      "WARNING : Area ratio value outside of the range in Roskam's book, value clipped\n",
      "WARNING : Area ratio value outside of the range in Roskam's book, value clipped\n",
      "INFO    : Entering mission computation\n",
      "INFO    : Looping on wing area with new value equal to 15.557598\n"
     ]
    },
    {
     "name": "stdout",
     "output_type": "stream",
     "text": [
      "NL: NLBGS 6 ; 157.213914 0.0244689415\n"
     ]
    },
    {
     "name": "stderr",
     "output_type": "stream",
     "text": [
      "WARNING : Area ratio value outside of the range in Roskam's book, value clipped\n",
      "WARNING : Area ratio value outside of the range in Roskam's book, value clipped\n",
      "INFO    : Entering mission computation\n",
      "INFO    : Looping on wing area with new value equal to 15.557669\n"
     ]
    },
    {
     "name": "stdout",
     "output_type": "stream",
     "text": [
      "NL: NLBGS 7 ; 74.6094242 0.0116122904\n"
     ]
    },
    {
     "name": "stderr",
     "output_type": "stream",
     "text": [
      "WARNING : Area ratio value outside of the range in Roskam's book, value clipped\n",
      "WARNING : Area ratio value outside of the range in Roskam's book, value clipped\n",
      "INFO    : Entering mission computation\n",
      "INFO    : Looping on wing area with new value equal to 15.557702\n"
     ]
    },
    {
     "name": "stdout",
     "output_type": "stream",
     "text": [
      "NL: NLBGS 8 ; 35.4050861 0.00551048539\n"
     ]
    },
    {
     "name": "stderr",
     "output_type": "stream",
     "text": [
      "WARNING : Area ratio value outside of the range in Roskam's book, value clipped\n",
      "WARNING : Area ratio value outside of the range in Roskam's book, value clipped\n",
      "INFO    : Entering mission computation\n",
      "INFO    : Looping on wing area with new value equal to 15.557718\n"
     ]
    },
    {
     "name": "stdout",
     "output_type": "stream",
     "text": [
      "NL: NLBGS 9 ; 16.6513935 0.00259164066\n"
     ]
    },
    {
     "name": "stderr",
     "output_type": "stream",
     "text": [
      "WARNING : Area ratio value outside of the range in Roskam's book, value clipped\n",
      "WARNING : Area ratio value outside of the range in Roskam's book, value clipped\n",
      "INFO    : Entering mission computation\n",
      "INFO    : Looping on wing area with new value equal to 15.557725\n"
     ]
    },
    {
     "name": "stdout",
     "output_type": "stream",
     "text": [
      "NL: NLBGS 10 ; 7.83024675 0.00121870796\n"
     ]
    },
    {
     "name": "stderr",
     "output_type": "stream",
     "text": [
      "WARNING : Area ratio value outside of the range in Roskam's book, value clipped\n",
      "WARNING : Area ratio value outside of the range in Roskam's book, value clipped\n",
      "INFO    : Entering mission computation\n",
      "INFO    : Looping on wing area with new value equal to 15.557729\n"
     ]
    },
    {
     "name": "stdout",
     "output_type": "stream",
     "text": [
      "NL: NLBGS 11 ; 3.65698751 0.00056917744\n",
      "NL: NLBGS Converged\n"
     ]
    },
    {
     "name": "stderr",
     "output_type": "stream",
     "text": [
      "WARNING : Ratio of span on fuselage depth outside of the range in Roskam's book, value clipped\n",
      "WARNING : Area ratio value outside of the range in Roskam's book, value clipped\n",
      "WARNING : Ratio of span on fuselage depth outside of the range in Roskam's book, value clipped\n",
      "WARNING : Area ratio value outside of the range in Roskam's book, value clipped\n",
      "INFO    : Entering mission computation\n",
      "INFO    : Looping on wing area with new value equal to 15.557730\n"
     ]
    },
    {
     "name": "stdout",
     "output_type": "stream",
     "text": [
      "NL: NLBGS 1 ; 219.616889 1\n"
     ]
    },
    {
     "name": "stderr",
     "output_type": "stream",
     "text": [
      "WARNING : Area ratio value outside of the range in Roskam's book, value clipped\n",
      "WARNING : Area ratio value outside of the range in Roskam's book, value clipped\n",
      "INFO    : Entering mission computation\n",
      "INFO    : Looping on wing area with new value equal to 15.744288\n"
     ]
    },
    {
     "name": "stdout",
     "output_type": "stream",
     "text": [
      "NL: NLBGS 2 ; 695712.485 3167.84601\n"
     ]
    },
    {
     "name": "stderr",
     "output_type": "stream",
     "text": [
      "WARNING : Ratio of span on fuselage depth outside of the range in Roskam's book, value clipped\n",
      "WARNING : Area ratio value outside of the range in Roskam's book, value clipped\n",
      "WARNING : Ratio of span on fuselage depth outside of the range in Roskam's book, value clipped\n",
      "WARNING : Area ratio value outside of the range in Roskam's book, value clipped\n",
      "INFO    : Entering mission computation\n",
      "INFO    : Looping on wing area with new value equal to 15.696411\n"
     ]
    },
    {
     "name": "stdout",
     "output_type": "stream",
     "text": [
      "NL: NLBGS 3 ; 65462.4994 298.075889\n"
     ]
    },
    {
     "name": "stderr",
     "output_type": "stream",
     "text": [
      "WARNING : Ratio of span on fuselage depth outside of the range in Roskam's book, value clipped\n",
      "WARNING : Area ratio value outside of the range in Roskam's book, value clipped\n",
      "WARNING : Ratio of span on fuselage depth outside of the range in Roskam's book, value clipped\n",
      "WARNING : Area ratio value outside of the range in Roskam's book, value clipped\n",
      "INFO    : Entering mission computation\n",
      "INFO    : Looping on wing area with new value equal to 15.718298\n"
     ]
    },
    {
     "name": "stdout",
     "output_type": "stream",
     "text": [
      "NL: NLBGS 4 ; 131005.796 596.51968\n"
     ]
    },
    {
     "name": "stderr",
     "output_type": "stream",
     "text": [
      "WARNING : Ratio of span on fuselage depth outside of the range in Roskam's book, value clipped\n",
      "WARNING : Area ratio value outside of the range in Roskam's book, value clipped\n",
      "WARNING : Ratio of span on fuselage depth outside of the range in Roskam's book, value clipped\n",
      "WARNING : Area ratio value outside of the range in Roskam's book, value clipped\n",
      "INFO    : Entering mission computation\n",
      "INFO    : Looping on wing area with new value equal to 15.743569\n"
     ]
    },
    {
     "name": "stdout",
     "output_type": "stream",
     "text": [
      "NL: NLBGS 5 ; 26576.6023 121.013472\n"
     ]
    },
    {
     "name": "stderr",
     "output_type": "stream",
     "text": [
      "WARNING : Ratio of span on fuselage depth outside of the range in Roskam's book, value clipped\n",
      "WARNING : Area ratio value outside of the range in Roskam's book, value clipped\n",
      "WARNING : Ratio of span on fuselage depth outside of the range in Roskam's book, value clipped\n",
      "WARNING : Area ratio value outside of the range in Roskam's book, value clipped\n",
      "INFO    : Entering mission computation\n",
      "INFO    : Looping on wing area with new value equal to 15.756271\n"
     ]
    },
    {
     "name": "stdout",
     "output_type": "stream",
     "text": [
      "NL: NLBGS 6 ; 16698.9449 76.0367062\n"
     ]
    },
    {
     "name": "stderr",
     "output_type": "stream",
     "text": [
      "WARNING : Ratio of span on fuselage depth outside of the range in Roskam's book, value clipped\n",
      "WARNING : Area ratio value outside of the range in Roskam's book, value clipped\n",
      "WARNING : Ratio of span on fuselage depth outside of the range in Roskam's book, value clipped\n",
      "WARNING : Area ratio value outside of the range in Roskam's book, value clipped\n",
      "INFO    : Entering mission computation\n",
      "INFO    : Looping on wing area with new value equal to 15.764449\n"
     ]
    },
    {
     "name": "stdout",
     "output_type": "stream",
     "text": [
      "NL: NLBGS 7 ; 11685.7551 53.2097287\n"
     ]
    },
    {
     "name": "stderr",
     "output_type": "stream",
     "text": [
      "WARNING : Ratio of span on fuselage depth outside of the range in Roskam's book, value clipped\n",
      "WARNING : Area ratio value outside of the range in Roskam's book, value clipped\n",
      "WARNING : Ratio of span on fuselage depth outside of the range in Roskam's book, value clipped\n",
      "WARNING : Area ratio value outside of the range in Roskam's book, value clipped\n",
      "INFO    : Entering mission computation\n",
      "INFO    : Looping on wing area with new value equal to 15.769362\n"
     ]
    },
    {
     "name": "stdout",
     "output_type": "stream",
     "text": [
      "NL: NLBGS 8 ; 5659.86956 25.7715588\n"
     ]
    },
    {
     "name": "stderr",
     "output_type": "stream",
     "text": [
      "WARNING : Ratio of span on fuselage depth outside of the range in Roskam's book, value clipped\n",
      "WARNING : Area ratio value outside of the range in Roskam's book, value clipped\n",
      "WARNING : Ratio of span on fuselage depth outside of the range in Roskam's book, value clipped\n",
      "WARNING : Area ratio value outside of the range in Roskam's book, value clipped\n",
      "INFO    : Entering mission computation\n",
      "INFO    : Looping on wing area with new value equal to 15.772030\n"
     ]
    },
    {
     "name": "stdout",
     "output_type": "stream",
     "text": [
      "NL: NLBGS 9 ; 3014.72107 13.7271823\n"
     ]
    },
    {
     "name": "stderr",
     "output_type": "stream",
     "text": [
      "WARNING : Ratio of span on fuselage depth outside of the range in Roskam's book, value clipped\n",
      "WARNING : Area ratio value outside of the range in Roskam's book, value clipped\n",
      "WARNING : Ratio of span on fuselage depth outside of the range in Roskam's book, value clipped\n",
      "WARNING : Area ratio value outside of the range in Roskam's book, value clipped\n",
      "INFO    : Entering mission computation\n",
      "INFO    : Looping on wing area with new value equal to 15.773477\n"
     ]
    },
    {
     "name": "stdout",
     "output_type": "stream",
     "text": [
      "NL: NLBGS 10 ; 1633.77593 7.43920897\n"
     ]
    },
    {
     "name": "stderr",
     "output_type": "stream",
     "text": [
      "WARNING : Ratio of span on fuselage depth outside of the range in Roskam's book, value clipped\n",
      "WARNING : Area ratio value outside of the range in Roskam's book, value clipped\n",
      "WARNING : Ratio of span on fuselage depth outside of the range in Roskam's book, value clipped\n",
      "WARNING : Area ratio value outside of the range in Roskam's book, value clipped\n",
      "INFO    : Entering mission computation\n",
      "INFO    : Looping on wing area with new value equal to 15.774250\n"
     ]
    },
    {
     "name": "stdout",
     "output_type": "stream",
     "text": [
      "NL: NLBGS 11 ; 839.356099 3.82191052\n"
     ]
    },
    {
     "name": "stderr",
     "output_type": "stream",
     "text": [
      "WARNING : Ratio of span on fuselage depth outside of the range in Roskam's book, value clipped\n",
      "WARNING : Area ratio value outside of the range in Roskam's book, value clipped\n",
      "WARNING : Ratio of span on fuselage depth outside of the range in Roskam's book, value clipped\n",
      "WARNING : Area ratio value outside of the range in Roskam's book, value clipped\n",
      "INFO    : Entering mission computation\n",
      "INFO    : Looping on wing area with new value equal to 15.774653\n"
     ]
    },
    {
     "name": "stdout",
     "output_type": "stream",
     "text": [
      "NL: NLBGS 12 ; 430.224775 1.95897855\n"
     ]
    },
    {
     "name": "stderr",
     "output_type": "stream",
     "text": [
      "WARNING : Ratio of span on fuselage depth outside of the range in Roskam's book, value clipped\n",
      "WARNING : Area ratio value outside of the range in Roskam's book, value clipped\n",
      "WARNING : Ratio of span on fuselage depth outside of the range in Roskam's book, value clipped\n",
      "WARNING : Area ratio value outside of the range in Roskam's book, value clipped\n",
      "INFO    : Entering mission computation\n",
      "INFO    : Looping on wing area with new value equal to 15.774860\n"
     ]
    },
    {
     "name": "stdout",
     "output_type": "stream",
     "text": [
      "NL: NLBGS 13 ; 219.474922 0.999353572\n"
     ]
    },
    {
     "name": "stderr",
     "output_type": "stream",
     "text": [
      "WARNING : Ratio of span on fuselage depth outside of the range in Roskam's book, value clipped\n",
      "WARNING : Area ratio value outside of the range in Roskam's book, value clipped\n",
      "WARNING : Ratio of span on fuselage depth outside of the range in Roskam's book, value clipped\n",
      "WARNING : Area ratio value outside of the range in Roskam's book, value clipped\n",
      "INFO    : Entering mission computation\n",
      "INFO    : Looping on wing area with new value equal to 15.774966\n"
     ]
    },
    {
     "name": "stdout",
     "output_type": "stream",
     "text": [
      "NL: NLBGS 14 ; 110.469193 0.503008641\n"
     ]
    },
    {
     "name": "stderr",
     "output_type": "stream",
     "text": [
      "WARNING : Ratio of span on fuselage depth outside of the range in Roskam's book, value clipped\n",
      "WARNING : Area ratio value outside of the range in Roskam's book, value clipped\n",
      "WARNING : Ratio of span on fuselage depth outside of the range in Roskam's book, value clipped\n",
      "WARNING : Area ratio value outside of the range in Roskam's book, value clipped\n",
      "INFO    : Entering mission computation\n",
      "INFO    : Looping on wing area with new value equal to 15.775019\n"
     ]
    },
    {
     "name": "stdout",
     "output_type": "stream",
     "text": [
      "NL: NLBGS 15 ; 55.199008 0.251342273\n"
     ]
    },
    {
     "name": "stderr",
     "output_type": "stream",
     "text": [
      "WARNING : Ratio of span on fuselage depth outside of the range in Roskam's book, value clipped\n",
      "WARNING : Area ratio value outside of the range in Roskam's book, value clipped\n",
      "WARNING : Ratio of span on fuselage depth outside of the range in Roskam's book, value clipped\n",
      "WARNING : Area ratio value outside of the range in Roskam's book, value clipped\n",
      "INFO    : Entering mission computation\n",
      "INFO    : Looping on wing area with new value equal to 15.775046\n"
     ]
    },
    {
     "name": "stdout",
     "output_type": "stream",
     "text": [
      "NL: NLBGS 16 ; 27.32286 0.12441147\n"
     ]
    },
    {
     "name": "stderr",
     "output_type": "stream",
     "text": [
      "WARNING : Ratio of span on fuselage depth outside of the range in Roskam's book, value clipped\n",
      "WARNING : Area ratio value outside of the range in Roskam's book, value clipped\n",
      "WARNING : Ratio of span on fuselage depth outside of the range in Roskam's book, value clipped\n",
      "WARNING : Area ratio value outside of the range in Roskam's book, value clipped\n",
      "INFO    : Entering mission computation\n",
      "INFO    : Looping on wing area with new value equal to 15.775059\n"
     ]
    },
    {
     "name": "stdout",
     "output_type": "stream",
     "text": [
      "NL: NLBGS 17 ; 13.5033175 0.0614857883\n"
     ]
    },
    {
     "name": "stderr",
     "output_type": "stream",
     "text": [
      "WARNING : Ratio of span on fuselage depth outside of the range in Roskam's book, value clipped\n",
      "WARNING : Area ratio value outside of the range in Roskam's book, value clipped\n",
      "WARNING : Ratio of span on fuselage depth outside of the range in Roskam's book, value clipped\n",
      "WARNING : Area ratio value outside of the range in Roskam's book, value clipped\n",
      "INFO    : Entering mission computation\n",
      "INFO    : Looping on wing area with new value equal to 15.775065\n"
     ]
    },
    {
     "name": "stdout",
     "output_type": "stream",
     "text": [
      "NL: NLBGS 18 ; 6.60220922 0.030062393\n"
     ]
    },
    {
     "name": "stderr",
     "output_type": "stream",
     "text": [
      "WARNING : Ratio of span on fuselage depth outside of the range in Roskam's book, value clipped\n",
      "WARNING : Area ratio value outside of the range in Roskam's book, value clipped\n",
      "WARNING : Ratio of span on fuselage depth outside of the range in Roskam's book, value clipped\n",
      "WARNING : Area ratio value outside of the range in Roskam's book, value clipped\n",
      "INFO    : Entering mission computation\n",
      "INFO    : Looping on wing area with new value equal to 15.775069\n"
     ]
    },
    {
     "name": "stdout",
     "output_type": "stream",
     "text": [
      "NL: NLBGS 19 ; 3.14421743 0.0143168289\n"
     ]
    },
    {
     "name": "stderr",
     "output_type": "stream",
     "text": [
      "WARNING : Ratio of span on fuselage depth outside of the range in Roskam's book, value clipped\n",
      "WARNING : Area ratio value outside of the range in Roskam's book, value clipped\n",
      "WARNING : Ratio of span on fuselage depth outside of the range in Roskam's book, value clipped\n",
      "WARNING : Area ratio value outside of the range in Roskam's book, value clipped\n",
      "INFO    : Entering mission computation\n",
      "INFO    : Looping on wing area with new value equal to 15.775070\n"
     ]
    },
    {
     "name": "stdout",
     "output_type": "stream",
     "text": [
      "NL: NLBGS 20 ; 1.63939102 0.00746477662\n"
     ]
    },
    {
     "name": "stderr",
     "output_type": "stream",
     "text": [
      "WARNING : Ratio of span on fuselage depth outside of the range in Roskam's book, value clipped\n",
      "WARNING : Area ratio value outside of the range in Roskam's book, value clipped\n",
      "WARNING : Ratio of span on fuselage depth outside of the range in Roskam's book, value clipped\n",
      "WARNING : Area ratio value outside of the range in Roskam's book, value clipped\n",
      "INFO    : Entering mission computation\n",
      "INFO    : Looping on wing area with new value equal to 15.775071\n"
     ]
    },
    {
     "name": "stdout",
     "output_type": "stream",
     "text": [
      "NL: NLBGS 21 ; 0.690739044 0.00314520002\n"
     ]
    },
    {
     "name": "stderr",
     "output_type": "stream",
     "text": [
      "WARNING : Ratio of span on fuselage depth outside of the range in Roskam's book, value clipped\n",
      "WARNING : Area ratio value outside of the range in Roskam's book, value clipped\n",
      "WARNING : Ratio of span on fuselage depth outside of the range in Roskam's book, value clipped\n",
      "WARNING : Area ratio value outside of the range in Roskam's book, value clipped\n",
      "INFO    : Entering mission computation\n",
      "INFO    : Looping on wing area with new value equal to 15.775071\n"
     ]
    },
    {
     "name": "stdout",
     "output_type": "stream",
     "text": [
      "NL: NLBGS 22 ; 0.404469166 0.00184170338\n"
     ]
    },
    {
     "name": "stderr",
     "output_type": "stream",
     "text": [
      "WARNING : Ratio of span on fuselage depth outside of the range in Roskam's book, value clipped\n",
      "WARNING : Area ratio value outside of the range in Roskam's book, value clipped\n",
      "WARNING : Ratio of span on fuselage depth outside of the range in Roskam's book, value clipped\n",
      "WARNING : Area ratio value outside of the range in Roskam's book, value clipped\n",
      "INFO    : Entering mission computation\n",
      "INFO    : Looping on wing area with new value equal to 15.775071\n"
     ]
    },
    {
     "name": "stdout",
     "output_type": "stream",
     "text": [
      "NL: NLBGS 23 ; 0.156053148 0.000710569888\n",
      "NL: NLBGS Converged\n"
     ]
    },
    {
     "name": "stderr",
     "output_type": "stream",
     "text": [
      "WARNING : Ratio of span on fuselage depth outside of the range in Roskam's book, value clipped\n",
      "WARNING : Area ratio value outside of the range in Roskam's book, value clipped\n",
      "WARNING : Ratio of span on fuselage depth outside of the range in Roskam's book, value clipped\n",
      "WARNING : Area ratio value outside of the range in Roskam's book, value clipped\n",
      "INFO    : Entering mission computation\n",
      "INFO    : Looping on wing area with new value equal to 15.775071\n"
     ]
    },
    {
     "name": "stdout",
     "output_type": "stream",
     "text": [
      "NL: NLBGS 1 ; 297.786748 1\n"
     ]
    },
    {
     "name": "stderr",
     "output_type": "stream",
     "text": [
      "WARNING : Ratio of span on fuselage depth outside of the range in Roskam's book, value clipped\n",
      "WARNING : Area ratio value outside of the range in Roskam's book, value clipped\n",
      "WARNING : Ratio of span on fuselage depth outside of the range in Roskam's book, value clipped\n",
      "WARNING : Area ratio value outside of the range in Roskam's book, value clipped\n",
      "INFO    : Entering mission computation\n",
      "INFO    : Looping on wing area with new value equal to 15.970448\n"
     ]
    },
    {
     "name": "stdout",
     "output_type": "stream",
     "text": [
      "NL: NLBGS 2 ; 523071.851 1756.53166\n"
     ]
    },
    {
     "name": "stderr",
     "output_type": "stream",
     "text": [
      "WARNING : Ratio of span on fuselage depth outside of the range in Roskam's book, value clipped\n",
      "WARNING : Area ratio value outside of the range in Roskam's book, value clipped\n",
      "WARNING : Ratio of span on fuselage depth outside of the range in Roskam's book, value clipped\n",
      "WARNING : Area ratio value outside of the range in Roskam's book, value clipped\n",
      "INFO    : Entering mission computation\n",
      "INFO    : Looping on wing area with new value equal to 15.951643\n"
     ]
    },
    {
     "name": "stdout",
     "output_type": "stream",
     "text": [
      "NL: NLBGS 3 ; 61629.8797 206.959779\n"
     ]
    },
    {
     "name": "stderr",
     "output_type": "stream",
     "text": [
      "WARNING : Ratio of span on fuselage depth outside of the range in Roskam's book, value clipped\n",
      "WARNING : Area ratio value outside of the range in Roskam's book, value clipped\n",
      "WARNING : Ratio of span on fuselage depth outside of the range in Roskam's book, value clipped\n",
      "WARNING : Area ratio value outside of the range in Roskam's book, value clipped\n",
      "INFO    : Entering mission computation\n",
      "INFO    : Looping on wing area with new value equal to 15.982975\n"
     ]
    },
    {
     "name": "stdout",
     "output_type": "stream",
     "text": [
      "NL: NLBGS 4 ; 123797 415.723671\n"
     ]
    },
    {
     "name": "stderr",
     "output_type": "stream",
     "text": [
      "WARNING : Ratio of span on fuselage depth outside of the range in Roskam's book, value clipped\n",
      "WARNING : Area ratio value outside of the range in Roskam's book, value clipped\n",
      "WARNING : Ratio of span on fuselage depth outside of the range in Roskam's book, value clipped\n",
      "WARNING : Area ratio value outside of the range in Roskam's book, value clipped\n",
      "INFO    : Entering mission computation\n",
      "INFO    : Looping on wing area with new value equal to 16.012157\n"
     ]
    },
    {
     "name": "stdout",
     "output_type": "stream",
     "text": [
      "NL: NLBGS 5 ; 28039.8808 94.1609423\n"
     ]
    },
    {
     "name": "stderr",
     "output_type": "stream",
     "text": [
      "WARNING : Ratio of span on fuselage depth outside of the range in Roskam's book, value clipped\n",
      "WARNING : Area ratio value outside of the range in Roskam's book, value clipped\n",
      "WARNING : Ratio of span on fuselage depth outside of the range in Roskam's book, value clipped\n",
      "WARNING : Area ratio value outside of the range in Roskam's book, value clipped\n",
      "INFO    : Entering mission computation\n",
      "INFO    : Looping on wing area with new value equal to 16.027012\n"
     ]
    },
    {
     "name": "stdout",
     "output_type": "stream",
     "text": [
      "NL: NLBGS 6 ; 17493.8994 58.7463997\n"
     ]
    },
    {
     "name": "stderr",
     "output_type": "stream",
     "text": [
      "WARNING : Ratio of span on fuselage depth outside of the range in Roskam's book, value clipped\n",
      "WARNING : Area ratio value outside of the range in Roskam's book, value clipped\n",
      "WARNING : Ratio of span on fuselage depth outside of the range in Roskam's book, value clipped\n",
      "WARNING : Area ratio value outside of the range in Roskam's book, value clipped\n",
      "INFO    : Entering mission computation\n",
      "INFO    : Looping on wing area with new value equal to 16.036145\n"
     ]
    },
    {
     "name": "stdout",
     "output_type": "stream",
     "text": [
      "NL: NLBGS 7 ; 11621.3366 39.0257011\n"
     ]
    },
    {
     "name": "stderr",
     "output_type": "stream",
     "text": [
      "WARNING : Ratio of span on fuselage depth outside of the range in Roskam's book, value clipped\n",
      "WARNING : Area ratio value outside of the range in Roskam's book, value clipped\n",
      "WARNING : Ratio of span on fuselage depth outside of the range in Roskam's book, value clipped\n",
      "WARNING : Area ratio value outside of the range in Roskam's book, value clipped\n",
      "INFO    : Entering mission computation\n",
      "INFO    : Looping on wing area with new value equal to 16.041460\n"
     ]
    },
    {
     "name": "stdout",
     "output_type": "stream",
     "text": [
      "NL: NLBGS 8 ; 5610.10315 18.8393311\n"
     ]
    },
    {
     "name": "stderr",
     "output_type": "stream",
     "text": [
      "WARNING : Ratio of span on fuselage depth outside of the range in Roskam's book, value clipped\n",
      "WARNING : Area ratio value outside of the range in Roskam's book, value clipped\n",
      "WARNING : Ratio of span on fuselage depth outside of the range in Roskam's book, value clipped\n",
      "WARNING : Area ratio value outside of the range in Roskam's book, value clipped\n",
      "INFO    : Entering mission computation\n",
      "INFO    : Looping on wing area with new value equal to 16.044298\n"
     ]
    },
    {
     "name": "stdout",
     "output_type": "stream",
     "text": [
      "NL: NLBGS 9 ; 2961.28886 9.94432719\n"
     ]
    },
    {
     "name": "stderr",
     "output_type": "stream",
     "text": [
      "WARNING : Ratio of span on fuselage depth outside of the range in Roskam's book, value clipped\n",
      "WARNING : Area ratio value outside of the range in Roskam's book, value clipped\n",
      "WARNING : Ratio of span on fuselage depth outside of the range in Roskam's book, value clipped\n",
      "WARNING : Area ratio value outside of the range in Roskam's book, value clipped\n",
      "INFO    : Entering mission computation\n",
      "INFO    : Looping on wing area with new value equal to 16.045814\n"
     ]
    },
    {
     "name": "stdout",
     "output_type": "stream",
     "text": [
      "NL: NLBGS 10 ; 1579.8395 5.30527134\n"
     ]
    },
    {
     "name": "stderr",
     "output_type": "stream",
     "text": [
      "WARNING : Ratio of span on fuselage depth outside of the range in Roskam's book, value clipped\n",
      "WARNING : Area ratio value outside of the range in Roskam's book, value clipped\n",
      "WARNING : Ratio of span on fuselage depth outside of the range in Roskam's book, value clipped\n",
      "WARNING : Area ratio value outside of the range in Roskam's book, value clipped\n",
      "INFO    : Entering mission computation\n",
      "INFO    : Looping on wing area with new value equal to 16.046611\n"
     ]
    },
    {
     "name": "stdout",
     "output_type": "stream",
     "text": [
      "NL: NLBGS 11 ; 801.444281 2.69133628\n"
     ]
    },
    {
     "name": "stderr",
     "output_type": "stream",
     "text": [
      "WARNING : Ratio of span on fuselage depth outside of the range in Roskam's book, value clipped\n",
      "WARNING : Area ratio value outside of the range in Roskam's book, value clipped\n",
      "WARNING : Ratio of span on fuselage depth outside of the range in Roskam's book, value clipped\n",
      "WARNING : Area ratio value outside of the range in Roskam's book, value clipped\n",
      "INFO    : Entering mission computation\n",
      "INFO    : Looping on wing area with new value equal to 16.047021\n"
     ]
    },
    {
     "name": "stdout",
     "output_type": "stream",
     "text": [
      "NL: NLBGS 12 ; 406.170288 1.36396361\n"
     ]
    },
    {
     "name": "stderr",
     "output_type": "stream",
     "text": [
      "WARNING : Ratio of span on fuselage depth outside of the range in Roskam's book, value clipped\n",
      "WARNING : Area ratio value outside of the range in Roskam's book, value clipped\n",
      "WARNING : Ratio of span on fuselage depth outside of the range in Roskam's book, value clipped\n",
      "WARNING : Area ratio value outside of the range in Roskam's book, value clipped\n",
      "INFO    : Entering mission computation\n",
      "INFO    : Looping on wing area with new value equal to 16.047229\n"
     ]
    },
    {
     "name": "stdout",
     "output_type": "stream",
     "text": [
      "NL: NLBGS 13 ; 204.695672 0.68739013\n"
     ]
    },
    {
     "name": "stderr",
     "output_type": "stream",
     "text": [
      "WARNING : Ratio of span on fuselage depth outside of the range in Roskam's book, value clipped\n",
      "WARNING : Area ratio value outside of the range in Roskam's book, value clipped\n",
      "WARNING : Ratio of span on fuselage depth outside of the range in Roskam's book, value clipped\n",
      "WARNING : Area ratio value outside of the range in Roskam's book, value clipped\n",
      "INFO    : Entering mission computation\n",
      "INFO    : Looping on wing area with new value equal to 16.047334\n"
     ]
    },
    {
     "name": "stdout",
     "output_type": "stream",
     "text": [
      "NL: NLBGS 14 ; 101.752453 0.341695705\n"
     ]
    },
    {
     "name": "stderr",
     "output_type": "stream",
     "text": [
      "WARNING : Ratio of span on fuselage depth outside of the range in Roskam's book, value clipped\n",
      "WARNING : Area ratio value outside of the range in Roskam's book, value clipped\n",
      "WARNING : Ratio of span on fuselage depth outside of the range in Roskam's book, value clipped\n",
      "WARNING : Area ratio value outside of the range in Roskam's book, value clipped\n",
      "INFO    : Entering mission computation\n",
      "INFO    : Looping on wing area with new value equal to 16.047386\n"
     ]
    },
    {
     "name": "stdout",
     "output_type": "stream",
     "text": [
      "NL: NLBGS 15 ; 50.179959 0.168509711\n"
     ]
    },
    {
     "name": "stderr",
     "output_type": "stream",
     "text": [
      "WARNING : Ratio of span on fuselage depth outside of the range in Roskam's book, value clipped\n",
      "WARNING : Area ratio value outside of the range in Roskam's book, value clipped\n",
      "WARNING : Ratio of span on fuselage depth outside of the range in Roskam's book, value clipped\n",
      "WARNING : Area ratio value outside of the range in Roskam's book, value clipped\n",
      "INFO    : Entering mission computation\n",
      "INFO    : Looping on wing area with new value equal to 16.047412\n"
     ]
    },
    {
     "name": "stdout",
     "output_type": "stream",
     "text": [
      "NL: NLBGS 16 ; 24.6662478 0.0828319188\n"
     ]
    },
    {
     "name": "stderr",
     "output_type": "stream",
     "text": [
      "WARNING : Ratio of span on fuselage depth outside of the range in Roskam's book, value clipped\n",
      "WARNING : Area ratio value outside of the range in Roskam's book, value clipped\n",
      "WARNING : Ratio of span on fuselage depth outside of the range in Roskam's book, value clipped\n",
      "WARNING : Area ratio value outside of the range in Roskam's book, value clipped\n",
      "INFO    : Entering mission computation\n",
      "INFO    : Looping on wing area with new value equal to 16.047424\n"
     ]
    },
    {
     "name": "stdout",
     "output_type": "stream",
     "text": [
      "NL: NLBGS 17 ; 11.8465488 0.0397819878\n"
     ]
    },
    {
     "name": "stderr",
     "output_type": "stream",
     "text": [
      "WARNING : Ratio of span on fuselage depth outside of the range in Roskam's book, value clipped\n",
      "WARNING : Area ratio value outside of the range in Roskam's book, value clipped\n",
      "WARNING : Ratio of span on fuselage depth outside of the range in Roskam's book, value clipped\n",
      "WARNING : Area ratio value outside of the range in Roskam's book, value clipped\n",
      "INFO    : Entering mission computation\n",
      "INFO    : Looping on wing area with new value equal to 16.047430\n"
     ]
    },
    {
     "name": "stdout",
     "output_type": "stream",
     "text": [
      "NL: NLBGS 18 ; 5.76126184 0.0193469383\n"
     ]
    },
    {
     "name": "stderr",
     "output_type": "stream",
     "text": [
      "WARNING : Ratio of span on fuselage depth outside of the range in Roskam's book, value clipped\n",
      "WARNING : Area ratio value outside of the range in Roskam's book, value clipped\n",
      "WARNING : Ratio of span on fuselage depth outside of the range in Roskam's book, value clipped\n",
      "WARNING : Area ratio value outside of the range in Roskam's book, value clipped\n",
      "INFO    : Entering mission computation\n",
      "INFO    : Looping on wing area with new value equal to 16.047433\n"
     ]
    },
    {
     "name": "stdout",
     "output_type": "stream",
     "text": [
      "NL: NLBGS 19 ; 2.84446043 0.00955200475\n"
     ]
    },
    {
     "name": "stderr",
     "output_type": "stream",
     "text": [
      "WARNING : Ratio of span on fuselage depth outside of the range in Roskam's book, value clipped\n",
      "WARNING : Area ratio value outside of the range in Roskam's book, value clipped\n",
      "WARNING : Ratio of span on fuselage depth outside of the range in Roskam's book, value clipped\n",
      "WARNING : Area ratio value outside of the range in Roskam's book, value clipped\n",
      "INFO    : Entering mission computation\n",
      "INFO    : Looping on wing area with new value equal to 16.047435\n"
     ]
    },
    {
     "name": "stdout",
     "output_type": "stream",
     "text": [
      "NL: NLBGS 20 ; 1.24318051 0.00417473415\n"
     ]
    },
    {
     "name": "stderr",
     "output_type": "stream",
     "text": [
      "WARNING : Ratio of span on fuselage depth outside of the range in Roskam's book, value clipped\n",
      "WARNING : Area ratio value outside of the range in Roskam's book, value clipped\n",
      "WARNING : Ratio of span on fuselage depth outside of the range in Roskam's book, value clipped\n",
      "WARNING : Area ratio value outside of the range in Roskam's book, value clipped\n",
      "INFO    : Entering mission computation\n",
      "INFO    : Looping on wing area with new value equal to 16.047435\n"
     ]
    },
    {
     "name": "stdout",
     "output_type": "stream",
     "text": [
      "NL: NLBGS 21 ; 0.701495365 0.00235569705\n"
     ]
    },
    {
     "name": "stderr",
     "output_type": "stream",
     "text": [
      "WARNING : Ratio of span on fuselage depth outside of the range in Roskam's book, value clipped\n",
      "WARNING : Area ratio value outside of the range in Roskam's book, value clipped\n",
      "WARNING : Ratio of span on fuselage depth outside of the range in Roskam's book, value clipped\n",
      "WARNING : Area ratio value outside of the range in Roskam's book, value clipped\n",
      "INFO    : Entering mission computation\n",
      "INFO    : Looping on wing area with new value equal to 16.047436\n"
     ]
    },
    {
     "name": "stdout",
     "output_type": "stream",
     "text": [
      "NL: NLBGS 22 ; 0.292160192 0.000981105417\n",
      "NL: NLBGS Converged\n"
     ]
    },
    {
     "name": "stderr",
     "output_type": "stream",
     "text": [
      "WARNING : Ratio of span on fuselage depth outside of the range in Roskam's book, value clipped\n",
      "WARNING : Area ratio value outside of the range in Roskam's book, value clipped\n",
      "WARNING : Ratio of span on fuselage depth outside of the range in Roskam's book, value clipped\n",
      "WARNING : Area ratio value outside of the range in Roskam's book, value clipped\n",
      "INFO    : Entering mission computation\n",
      "INFO    : Looping on wing area with new value equal to 16.047436\n"
     ]
    },
    {
     "name": "stdout",
     "output_type": "stream",
     "text": [
      "NL: NLBGS 1 ; 159.531583 1\n"
     ]
    },
    {
     "name": "stderr",
     "output_type": "stream",
     "text": [
      "WARNING : Ratio of span on fuselage depth outside of the range in Roskam's book, value clipped\n",
      "WARNING : Area ratio value outside of the range in Roskam's book, value clipped\n",
      "WARNING : Ratio of span on fuselage depth outside of the range in Roskam's book, value clipped\n",
      "WARNING : Area ratio value outside of the range in Roskam's book, value clipped\n",
      "INFO    : Entering mission computation\n",
      "INFO    : Looping on wing area with new value equal to 15.948512\n"
     ]
    },
    {
     "name": "stdout",
     "output_type": "stream",
     "text": [
      "NL: NLBGS 2 ; 246667.952 1546.20137\n"
     ]
    },
    {
     "name": "stderr",
     "output_type": "stream",
     "text": [
      "WARNING : Ratio of span on fuselage depth outside of the range in Roskam's book, value clipped\n",
      "WARNING : Area ratio value outside of the range in Roskam's book, value clipped\n",
      "WARNING : Ratio of span on fuselage depth outside of the range in Roskam's book, value clipped\n",
      "WARNING : Area ratio value outside of the range in Roskam's book, value clipped\n",
      "INFO    : Entering mission computation\n",
      "INFO    : Looping on wing area with new value equal to 15.955004\n"
     ]
    },
    {
     "name": "stdout",
     "output_type": "stream",
     "text": [
      "NL: NLBGS 3 ; 31006.924 194.362291\n"
     ]
    },
    {
     "name": "stderr",
     "output_type": "stream",
     "text": [
      "WARNING : Ratio of span on fuselage depth outside of the range in Roskam's book, value clipped\n",
      "WARNING : Area ratio value outside of the range in Roskam's book, value clipped\n",
      "WARNING : Ratio of span on fuselage depth outside of the range in Roskam's book, value clipped\n",
      "WARNING : Area ratio value outside of the range in Roskam's book, value clipped\n",
      "INFO    : Entering mission computation\n",
      "INFO    : Looping on wing area with new value equal to 15.938590\n"
     ]
    },
    {
     "name": "stdout",
     "output_type": "stream",
     "text": [
      "NL: NLBGS 4 ; 60570.896 379.679652\n"
     ]
    },
    {
     "name": "stderr",
     "output_type": "stream",
     "text": [
      "WARNING : Ratio of span on fuselage depth outside of the range in Roskam's book, value clipped\n",
      "WARNING : Area ratio value outside of the range in Roskam's book, value clipped\n",
      "WARNING : Ratio of span on fuselage depth outside of the range in Roskam's book, value clipped\n",
      "WARNING : Area ratio value outside of the range in Roskam's book, value clipped\n",
      "INFO    : Entering mission computation\n",
      "INFO    : Looping on wing area with new value equal to 15.923667\n"
     ]
    },
    {
     "name": "stdout",
     "output_type": "stream",
     "text": [
      "NL: NLBGS 5 ; 15961.9515 100.055119\n"
     ]
    },
    {
     "name": "stderr",
     "output_type": "stream",
     "text": [
      "WARNING : Ratio of span on fuselage depth outside of the range in Roskam's book, value clipped\n",
      "WARNING : Area ratio value outside of the range in Roskam's book, value clipped\n",
      "WARNING : Ratio of span on fuselage depth outside of the range in Roskam's book, value clipped\n",
      "WARNING : Area ratio value outside of the range in Roskam's book, value clipped\n",
      "INFO    : Entering mission computation\n",
      "INFO    : Looping on wing area with new value equal to 15.915907\n"
     ]
    },
    {
     "name": "stdout",
     "output_type": "stream",
     "text": [
      "NL: NLBGS 6 ; 9436.29122 59.149988\n"
     ]
    },
    {
     "name": "stderr",
     "output_type": "stream",
     "text": [
      "WARNING : Ratio of span on fuselage depth outside of the range in Roskam's book, value clipped\n",
      "WARNING : Area ratio value outside of the range in Roskam's book, value clipped\n",
      "WARNING : Ratio of span on fuselage depth outside of the range in Roskam's book, value clipped\n",
      "WARNING : Area ratio value outside of the range in Roskam's book, value clipped\n",
      "INFO    : Entering mission computation\n",
      "INFO    : Looping on wing area with new value equal to 15.911204\n"
     ]
    },
    {
     "name": "stdout",
     "output_type": "stream",
     "text": [
      "NL: NLBGS 7 ; 6101.6791 38.2474679\n"
     ]
    },
    {
     "name": "stderr",
     "output_type": "stream",
     "text": [
      "WARNING : Ratio of span on fuselage depth outside of the range in Roskam's book, value clipped\n",
      "WARNING : Area ratio value outside of the range in Roskam's book, value clipped\n",
      "WARNING : Ratio of span on fuselage depth outside of the range in Roskam's book, value clipped\n",
      "WARNING : Area ratio value outside of the range in Roskam's book, value clipped\n",
      "INFO    : Entering mission computation\n",
      "INFO    : Looping on wing area with new value equal to 15.908486\n"
     ]
    },
    {
     "name": "stdout",
     "output_type": "stream",
     "text": [
      "NL: NLBGS 8 ; 3471.10547 21.7581084\n"
     ]
    },
    {
     "name": "stderr",
     "output_type": "stream",
     "text": [
      "WARNING : Ratio of span on fuselage depth outside of the range in Roskam's book, value clipped\n",
      "WARNING : Area ratio value outside of the range in Roskam's book, value clipped\n",
      "WARNING : Ratio of span on fuselage depth outside of the range in Roskam's book, value clipped\n",
      "WARNING : Area ratio value outside of the range in Roskam's book, value clipped\n",
      "INFO    : Entering mission computation\n",
      "INFO    : Looping on wing area with new value equal to 15.906989\n"
     ]
    },
    {
     "name": "stdout",
     "output_type": "stream",
     "text": [
      "NL: NLBGS 9 ; 1526.73969 9.57014065\n"
     ]
    },
    {
     "name": "stderr",
     "output_type": "stream",
     "text": [
      "WARNING : Ratio of span on fuselage depth outside of the range in Roskam's book, value clipped\n",
      "WARNING : Area ratio value outside of the range in Roskam's book, value clipped\n",
      "WARNING : Ratio of span on fuselage depth outside of the range in Roskam's book, value clipped\n",
      "WARNING : Area ratio value outside of the range in Roskam's book, value clipped\n",
      "INFO    : Entering mission computation\n",
      "INFO    : Looping on wing area with new value equal to 15.906236\n"
     ]
    },
    {
     "name": "stdout",
     "output_type": "stream",
     "text": [
      "NL: NLBGS 10 ; 764.326483 4.79106688\n"
     ]
    },
    {
     "name": "stderr",
     "output_type": "stream",
     "text": [
      "WARNING : Ratio of span on fuselage depth outside of the range in Roskam's book, value clipped\n",
      "WARNING : Area ratio value outside of the range in Roskam's book, value clipped\n",
      "WARNING : Ratio of span on fuselage depth outside of the range in Roskam's book, value clipped\n",
      "WARNING : Area ratio value outside of the range in Roskam's book, value clipped\n",
      "INFO    : Entering mission computation\n",
      "INFO    : Looping on wing area with new value equal to 15.905854\n"
     ]
    },
    {
     "name": "stdout",
     "output_type": "stream",
     "text": [
      "NL: NLBGS 11 ; 394.808945 2.47480115\n"
     ]
    },
    {
     "name": "stderr",
     "output_type": "stream",
     "text": [
      "WARNING : Ratio of span on fuselage depth outside of the range in Roskam's book, value clipped\n",
      "WARNING : Area ratio value outside of the range in Roskam's book, value clipped\n",
      "WARNING : Ratio of span on fuselage depth outside of the range in Roskam's book, value clipped\n",
      "WARNING : Area ratio value outside of the range in Roskam's book, value clipped\n",
      "INFO    : Entering mission computation\n",
      "INFO    : Looping on wing area with new value equal to 15.905660\n"
     ]
    },
    {
     "name": "stdout",
     "output_type": "stream",
     "text": [
      "NL: NLBGS 12 ; 193.277523 1.2115314\n"
     ]
    },
    {
     "name": "stderr",
     "output_type": "stream",
     "text": [
      "WARNING : Ratio of span on fuselage depth outside of the range in Roskam's book, value clipped\n",
      "WARNING : Area ratio value outside of the range in Roskam's book, value clipped\n",
      "WARNING : Ratio of span on fuselage depth outside of the range in Roskam's book, value clipped\n",
      "WARNING : Area ratio value outside of the range in Roskam's book, value clipped\n",
      "INFO    : Entering mission computation\n",
      "INFO    : Looping on wing area with new value equal to 15.905565\n"
     ]
    },
    {
     "name": "stdout",
     "output_type": "stream",
     "text": [
      "NL: NLBGS 13 ; 94.5521823 0.592686292\n"
     ]
    },
    {
     "name": "stderr",
     "output_type": "stream",
     "text": [
      "WARNING : Ratio of span on fuselage depth outside of the range in Roskam's book, value clipped\n",
      "WARNING : Area ratio value outside of the range in Roskam's book, value clipped\n",
      "WARNING : Ratio of span on fuselage depth outside of the range in Roskam's book, value clipped\n",
      "WARNING : Area ratio value outside of the range in Roskam's book, value clipped\n",
      "INFO    : Entering mission computation\n",
      "INFO    : Looping on wing area with new value equal to 15.905518\n"
     ]
    },
    {
     "name": "stdout",
     "output_type": "stream",
     "text": [
      "NL: NLBGS 14 ; 46.303674 0.290247693\n"
     ]
    },
    {
     "name": "stderr",
     "output_type": "stream",
     "text": [
      "WARNING : Ratio of span on fuselage depth outside of the range in Roskam's book, value clipped\n",
      "WARNING : Area ratio value outside of the range in Roskam's book, value clipped\n",
      "WARNING : Ratio of span on fuselage depth outside of the range in Roskam's book, value clipped\n",
      "WARNING : Area ratio value outside of the range in Roskam's book, value clipped\n",
      "INFO    : Entering mission computation\n",
      "INFO    : Looping on wing area with new value equal to 15.905495\n"
     ]
    },
    {
     "name": "stdout",
     "output_type": "stream",
     "text": [
      "NL: NLBGS 15 ; 22.2154766 0.139254411\n"
     ]
    },
    {
     "name": "stderr",
     "output_type": "stream",
     "text": [
      "WARNING : Ratio of span on fuselage depth outside of the range in Roskam's book, value clipped\n",
      "WARNING : Area ratio value outside of the range in Roskam's book, value clipped\n",
      "WARNING : Ratio of span on fuselage depth outside of the range in Roskam's book, value clipped\n",
      "WARNING : Area ratio value outside of the range in Roskam's book, value clipped\n",
      "INFO    : Entering mission computation\n",
      "INFO    : Looping on wing area with new value equal to 15.905484\n"
     ]
    },
    {
     "name": "stdout",
     "output_type": "stream",
     "text": [
      "NL: NLBGS 16 ; 10.6751788 0.0669157708\n"
     ]
    },
    {
     "name": "stderr",
     "output_type": "stream",
     "text": [
      "WARNING : Ratio of span on fuselage depth outside of the range in Roskam's book, value clipped\n",
      "WARNING : Area ratio value outside of the range in Roskam's book, value clipped\n",
      "WARNING : Ratio of span on fuselage depth outside of the range in Roskam's book, value clipped\n",
      "WARNING : Area ratio value outside of the range in Roskam's book, value clipped\n",
      "INFO    : Entering mission computation\n",
      "INFO    : Looping on wing area with new value equal to 15.905479\n"
     ]
    },
    {
     "name": "stdout",
     "output_type": "stream",
     "text": [
      "NL: NLBGS 17 ; 5.06052338 0.0317211381\n"
     ]
    },
    {
     "name": "stderr",
     "output_type": "stream",
     "text": [
      "WARNING : Ratio of span on fuselage depth outside of the range in Roskam's book, value clipped\n",
      "WARNING : Area ratio value outside of the range in Roskam's book, value clipped\n",
      "WARNING : Ratio of span on fuselage depth outside of the range in Roskam's book, value clipped\n",
      "WARNING : Area ratio value outside of the range in Roskam's book, value clipped\n",
      "INFO    : Entering mission computation\n",
      "INFO    : Looping on wing area with new value equal to 15.905476\n"
     ]
    },
    {
     "name": "stdout",
     "output_type": "stream",
     "text": [
      "NL: NLBGS 18 ; 2.38829513 0.0149706728\n"
     ]
    },
    {
     "name": "stderr",
     "output_type": "stream",
     "text": [
      "WARNING : Ratio of span on fuselage depth outside of the range in Roskam's book, value clipped\n",
      "WARNING : Area ratio value outside of the range in Roskam's book, value clipped\n",
      "WARNING : Ratio of span on fuselage depth outside of the range in Roskam's book, value clipped\n",
      "WARNING : Area ratio value outside of the range in Roskam's book, value clipped\n",
      "INFO    : Entering mission computation\n",
      "INFO    : Looping on wing area with new value equal to 15.905475\n"
     ]
    },
    {
     "name": "stdout",
     "output_type": "stream",
     "text": [
      "NL: NLBGS 19 ; 1.09974469 0.006893586\n"
     ]
    },
    {
     "name": "stderr",
     "output_type": "stream",
     "text": [
      "WARNING : Ratio of span on fuselage depth outside of the range in Roskam's book, value clipped\n",
      "WARNING : Area ratio value outside of the range in Roskam's book, value clipped\n",
      "WARNING : Ratio of span on fuselage depth outside of the range in Roskam's book, value clipped\n",
      "WARNING : Area ratio value outside of the range in Roskam's book, value clipped\n",
      "INFO    : Entering mission computation\n",
      "INFO    : Looping on wing area with new value equal to 15.905475\n"
     ]
    },
    {
     "name": "stdout",
     "output_type": "stream",
     "text": [
      "NL: NLBGS 20 ; 0.521914667 0.00327154446\n"
     ]
    },
    {
     "name": "stderr",
     "output_type": "stream",
     "text": [
      "WARNING : Ratio of span on fuselage depth outside of the range in Roskam's book, value clipped\n",
      "WARNING : Area ratio value outside of the range in Roskam's book, value clipped\n",
      "WARNING : Ratio of span on fuselage depth outside of the range in Roskam's book, value clipped\n",
      "WARNING : Area ratio value outside of the range in Roskam's book, value clipped\n",
      "INFO    : Entering mission computation\n",
      "INFO    : Looping on wing area with new value equal to 15.905475\n"
     ]
    },
    {
     "name": "stdout",
     "output_type": "stream",
     "text": [
      "NL: NLBGS 21 ; 0.252290704 0.00158144675\n"
     ]
    },
    {
     "name": "stderr",
     "output_type": "stream",
     "text": [
      "WARNING : Ratio of span on fuselage depth outside of the range in Roskam's book, value clipped\n",
      "WARNING : Area ratio value outside of the range in Roskam's book, value clipped\n",
      "WARNING : Ratio of span on fuselage depth outside of the range in Roskam's book, value clipped\n",
      "WARNING : Area ratio value outside of the range in Roskam's book, value clipped\n",
      "INFO    : Entering mission computation\n",
      "INFO    : Looping on wing area with new value equal to 15.905474\n"
     ]
    },
    {
     "name": "stdout",
     "output_type": "stream",
     "text": [
      "NL: NLBGS 22 ; 0.15956358 0.00100020057\n"
     ]
    },
    {
     "name": "stderr",
     "output_type": "stream",
     "text": [
      "WARNING : Ratio of span on fuselage depth outside of the range in Roskam's book, value clipped\n",
      "WARNING : Area ratio value outside of the range in Roskam's book, value clipped\n",
      "WARNING : Ratio of span on fuselage depth outside of the range in Roskam's book, value clipped\n",
      "WARNING : Area ratio value outside of the range in Roskam's book, value clipped\n",
      "INFO    : Entering mission computation\n",
      "INFO    : Looping on wing area with new value equal to 15.905474\n"
     ]
    },
    {
     "name": "stdout",
     "output_type": "stream",
     "text": [
      "NL: NLBGS 23 ; 0.0448429392 0.000281091295\n",
      "NL: NLBGS Converged\n"
     ]
    },
    {
     "name": "stderr",
     "output_type": "stream",
     "text": [
      "WARNING : Area ratio value outside of the range in Roskam's book, value clipped\n",
      "WARNING : Area ratio value outside of the range in Roskam's book, value clipped\n",
      "INFO    : Entering mission computation\n",
      "INFO    : Looping on wing area with new value equal to 15.905474\n"
     ]
    },
    {
     "name": "stdout",
     "output_type": "stream",
     "text": [
      "NL: NLBGS 1 ; 200.879139 1\n"
     ]
    },
    {
     "name": "stderr",
     "output_type": "stream",
     "text": [
      "WARNING : Area ratio value outside of the range in Roskam's book, value clipped\n",
      "WARNING : Area ratio value outside of the range in Roskam's book, value clipped\n",
      "INFO    : Entering mission computation\n",
      "INFO    : Looping on wing area with new value equal to 15.760994\n"
     ]
    },
    {
     "name": "stdout",
     "output_type": "stream",
     "text": [
      "NL: NLBGS 2 ; 438236.783 2181.59429\n"
     ]
    },
    {
     "name": "stderr",
     "output_type": "stream",
     "text": [
      "WARNING : Area ratio value outside of the range in Roskam's book, value clipped\n",
      "WARNING : Area ratio value outside of the range in Roskam's book, value clipped\n",
      "INFO    : Entering mission computation\n",
      "INFO    : Looping on wing area with new value equal to 15.781746\n"
     ]
    },
    {
     "name": "stdout",
     "output_type": "stream",
     "text": [
      "NL: NLBGS 3 ; 46461.5919 231.291274\n"
     ]
    },
    {
     "name": "stderr",
     "output_type": "stream",
     "text": [
      "WARNING : Area ratio value outside of the range in Roskam's book, value clipped\n",
      "WARNING : Area ratio value outside of the range in Roskam's book, value clipped\n",
      "INFO    : Entering mission computation\n",
      "INFO    : Looping on wing area with new value equal to 15.761100\n"
     ]
    },
    {
     "name": "stdout",
     "output_type": "stream",
     "text": [
      "NL: NLBGS 4 ; 92385.7252 459.907015\n"
     ]
    },
    {
     "name": "stderr",
     "output_type": "stream",
     "text": [
      "WARNING : Area ratio value outside of the range in Roskam's book, value clipped\n",
      "WARNING : Area ratio value outside of the range in Roskam's book, value clipped\n",
      "INFO    : Entering mission computation\n",
      "INFO    : Looping on wing area with new value equal to 15.740496\n"
     ]
    },
    {
     "name": "stdout",
     "output_type": "stream",
     "text": [
      "NL: NLBGS 5 ; 21107.5866 105.076051\n"
     ]
    },
    {
     "name": "stderr",
     "output_type": "stream",
     "text": [
      "WARNING : Area ratio value outside of the range in Roskam's book, value clipped\n",
      "WARNING : Area ratio value outside of the range in Roskam's book, value clipped\n",
      "INFO    : Entering mission computation\n",
      "INFO    : Looping on wing area with new value equal to 15.729975\n"
     ]
    },
    {
     "name": "stdout",
     "output_type": "stream",
     "text": [
      "NL: NLBGS 6 ; 13563.1449 67.5189319\n"
     ]
    },
    {
     "name": "stderr",
     "output_type": "stream",
     "text": [
      "WARNING : Area ratio value outside of the range in Roskam's book, value clipped\n",
      "WARNING : Area ratio value outside of the range in Roskam's book, value clipped\n",
      "INFO    : Entering mission computation\n",
      "INFO    : Looping on wing area with new value equal to 15.723339\n"
     ]
    },
    {
     "name": "stdout",
     "output_type": "stream",
     "text": [
      "NL: NLBGS 7 ; 9316.51781 46.3787224\n"
     ]
    },
    {
     "name": "stderr",
     "output_type": "stream",
     "text": [
      "WARNING : Area ratio value outside of the range in Roskam's book, value clipped\n",
      "WARNING : Area ratio value outside of the range in Roskam's book, value clipped\n",
      "INFO    : Entering mission computation\n",
      "INFO    : Looping on wing area with new value equal to 15.719383\n"
     ]
    },
    {
     "name": "stdout",
     "output_type": "stream",
     "text": [
      "NL: NLBGS 8 ; 4601.84953 22.9085486\n"
     ]
    },
    {
     "name": "stderr",
     "output_type": "stream",
     "text": [
      "WARNING : Area ratio value outside of the range in Roskam's book, value clipped\n",
      "WARNING : Area ratio value outside of the range in Roskam's book, value clipped\n",
      "INFO    : Entering mission computation\n",
      "INFO    : Looping on wing area with new value equal to 15.717229\n"
     ]
    },
    {
     "name": "stdout",
     "output_type": "stream",
     "text": [
      "NL: NLBGS 9 ; 2466.05427 12.2763084\n"
     ]
    },
    {
     "name": "stderr",
     "output_type": "stream",
     "text": [
      "WARNING : Area ratio value outside of the range in Roskam's book, value clipped\n",
      "WARNING : Area ratio value outside of the range in Roskam's book, value clipped\n",
      "INFO    : Entering mission computation\n",
      "INFO    : Looping on wing area with new value equal to 15.716057\n"
     ]
    },
    {
     "name": "stdout",
     "output_type": "stream",
     "text": [
      "NL: NLBGS 10 ; 1340.54486 6.67339011\n"
     ]
    },
    {
     "name": "stderr",
     "output_type": "stream",
     "text": [
      "WARNING : Area ratio value outside of the range in Roskam's book, value clipped\n",
      "WARNING : Area ratio value outside of the range in Roskam's book, value clipped\n",
      "INFO    : Entering mission computation\n",
      "INFO    : Looping on wing area with new value equal to 15.715429\n"
     ]
    },
    {
     "name": "stdout",
     "output_type": "stream",
     "text": [
      "NL: NLBGS 11 ; 693.768529 3.4536614\n"
     ]
    },
    {
     "name": "stderr",
     "output_type": "stream",
     "text": [
      "WARNING : Area ratio value outside of the range in Roskam's book, value clipped\n",
      "WARNING : Area ratio value outside of the range in Roskam's book, value clipped\n",
      "INFO    : Entering mission computation\n",
      "INFO    : Looping on wing area with new value equal to 15.715100\n"
     ]
    },
    {
     "name": "stdout",
     "output_type": "stream",
     "text": [
      "NL: NLBGS 12 ; 357.978702 1.78206012\n"
     ]
    },
    {
     "name": "stderr",
     "output_type": "stream",
     "text": [
      "WARNING : Area ratio value outside of the range in Roskam's book, value clipped\n",
      "WARNING : Area ratio value outside of the range in Roskam's book, value clipped\n",
      "INFO    : Entering mission computation\n",
      "INFO    : Looping on wing area with new value equal to 15.714930\n"
     ]
    },
    {
     "name": "stdout",
     "output_type": "stream",
     "text": [
      "NL: NLBGS 13 ; 183.945795 0.915703819\n"
     ]
    },
    {
     "name": "stderr",
     "output_type": "stream",
     "text": [
      "WARNING : Area ratio value outside of the range in Roskam's book, value clipped\n",
      "WARNING : Area ratio value outside of the range in Roskam's book, value clipped\n",
      "INFO    : Entering mission computation\n",
      "INFO    : Looping on wing area with new value equal to 15.714842\n"
     ]
    },
    {
     "name": "stdout",
     "output_type": "stream",
     "text": [
      "NL: NLBGS 14 ; 93.1745548 0.463833902\n"
     ]
    },
    {
     "name": "stderr",
     "output_type": "stream",
     "text": [
      "WARNING : Area ratio value outside of the range in Roskam's book, value clipped\n",
      "WARNING : Area ratio value outside of the range in Roskam's book, value clipped\n",
      "INFO    : Entering mission computation\n",
      "INFO    : Looping on wing area with new value equal to 15.714798\n"
     ]
    },
    {
     "name": "stdout",
     "output_type": "stream",
     "text": [
      "NL: NLBGS 15 ; 47.0005483 0.233974262\n"
     ]
    },
    {
     "name": "stderr",
     "output_type": "stream",
     "text": [
      "WARNING : Area ratio value outside of the range in Roskam's book, value clipped\n",
      "WARNING : Area ratio value outside of the range in Roskam's book, value clipped\n",
      "INFO    : Entering mission computation\n",
      "INFO    : Looping on wing area with new value equal to 15.714775\n"
     ]
    },
    {
     "name": "stdout",
     "output_type": "stream",
     "text": [
      "NL: NLBGS 16 ; 23.5555462 0.117262282\n"
     ]
    },
    {
     "name": "stderr",
     "output_type": "stream",
     "text": [
      "WARNING : Area ratio value outside of the range in Roskam's book, value clipped\n",
      "WARNING : Area ratio value outside of the range in Roskam's book, value clipped\n",
      "INFO    : Entering mission computation\n",
      "INFO    : Looping on wing area with new value equal to 15.714764\n"
     ]
    },
    {
     "name": "stdout",
     "output_type": "stream",
     "text": [
      "NL: NLBGS 17 ; 11.6140085 0.0578159017\n"
     ]
    },
    {
     "name": "stderr",
     "output_type": "stream",
     "text": [
      "WARNING : Area ratio value outside of the range in Roskam's book, value clipped\n",
      "WARNING : Area ratio value outside of the range in Roskam's book, value clipped\n",
      "INFO    : Entering mission computation\n",
      "INFO    : Looping on wing area with new value equal to 15.714759\n"
     ]
    },
    {
     "name": "stdout",
     "output_type": "stream",
     "text": [
      "NL: NLBGS 18 ; 5.79841222 0.0288651786\n"
     ]
    },
    {
     "name": "stderr",
     "output_type": "stream",
     "text": [
      "WARNING : Area ratio value outside of the range in Roskam's book, value clipped\n",
      "WARNING : Area ratio value outside of the range in Roskam's book, value clipped\n",
      "INFO    : Entering mission computation\n",
      "INFO    : Looping on wing area with new value equal to 15.714756\n"
     ]
    },
    {
     "name": "stdout",
     "output_type": "stream",
     "text": [
      "NL: NLBGS 19 ; 2.77849315 0.013831666\n"
     ]
    },
    {
     "name": "stderr",
     "output_type": "stream",
     "text": [
      "WARNING : Area ratio value outside of the range in Roskam's book, value clipped\n",
      "WARNING : Area ratio value outside of the range in Roskam's book, value clipped\n",
      "INFO    : Entering mission computation\n",
      "INFO    : Looping on wing area with new value equal to 15.714755\n"
     ]
    },
    {
     "name": "stdout",
     "output_type": "stream",
     "text": [
      "NL: NLBGS 20 ; 1.3789305 0.00686447834\n"
     ]
    },
    {
     "name": "stderr",
     "output_type": "stream",
     "text": [
      "WARNING : Area ratio value outside of the range in Roskam's book, value clipped\n",
      "WARNING : Area ratio value outside of the range in Roskam's book, value clipped\n",
      "INFO    : Entering mission computation\n",
      "INFO    : Looping on wing area with new value equal to 15.714754\n"
     ]
    },
    {
     "name": "stdout",
     "output_type": "stream",
     "text": [
      "NL: NLBGS 21 ; 0.72117557 0.00359009688\n"
     ]
    },
    {
     "name": "stderr",
     "output_type": "stream",
     "text": [
      "WARNING : Area ratio value outside of the range in Roskam's book, value clipped\n",
      "WARNING : Area ratio value outside of the range in Roskam's book, value clipped\n",
      "INFO    : Entering mission computation\n",
      "INFO    : Looping on wing area with new value equal to 15.714754\n"
     ]
    },
    {
     "name": "stdout",
     "output_type": "stream",
     "text": [
      "NL: NLBGS 22 ; 0.312836976 0.00155733929\n"
     ]
    },
    {
     "name": "stderr",
     "output_type": "stream",
     "text": [
      "WARNING : Area ratio value outside of the range in Roskam's book, value clipped\n",
      "WARNING : Area ratio value outside of the range in Roskam's book, value clipped\n",
      "INFO    : Entering mission computation\n",
      "INFO    : Looping on wing area with new value equal to 15.714754\n"
     ]
    },
    {
     "name": "stdout",
     "output_type": "stream",
     "text": [
      "NL: NLBGS 23 ; 0.154726112 0.000770244797\n",
      "NL: NLBGS Converged\n"
     ]
    },
    {
     "name": "stderr",
     "output_type": "stream",
     "text": [
      "WARNING : Area ratio value outside of the range in Roskam's book, value clipped\n",
      "WARNING : Area ratio value outside of the range in Roskam's book, value clipped\n",
      "INFO    : Entering mission computation\n",
      "INFO    : Looping on wing area with new value equal to 15.714753\n"
     ]
    },
    {
     "name": "stdout",
     "output_type": "stream",
     "text": [
      "NL: NLBGS 1 ; 23.3303297 1\n"
     ]
    },
    {
     "name": "stderr",
     "output_type": "stream",
     "text": [
      "WARNING : Area ratio value outside of the range in Roskam's book, value clipped\n",
      "WARNING : Area ratio value outside of the range in Roskam's book, value clipped\n",
      "INFO    : Entering mission computation\n",
      "INFO    : Looping on wing area with new value equal to 15.695887\n"
     ]
    },
    {
     "name": "stdout",
     "output_type": "stream",
     "text": [
      "NL: NLBGS 2 ; 65323.4849 2799.93835\n"
     ]
    },
    {
     "name": "stderr",
     "output_type": "stream",
     "text": [
      "WARNING : Area ratio value outside of the range in Roskam's book, value clipped\n",
      "WARNING : Area ratio value outside of the range in Roskam's book, value clipped\n",
      "INFO    : Entering mission computation\n",
      "INFO    : Looping on wing area with new value equal to 15.699837\n"
     ]
    },
    {
     "name": "stdout",
     "output_type": "stream",
     "text": [
      "NL: NLBGS 3 ; 6287.26846 269.489053\n"
     ]
    },
    {
     "name": "stderr",
     "output_type": "stream",
     "text": [
      "WARNING : Area ratio value outside of the range in Roskam's book, value clipped\n",
      "WARNING : Area ratio value outside of the range in Roskam's book, value clipped\n",
      "INFO    : Entering mission computation\n",
      "INFO    : Looping on wing area with new value equal to 15.697440\n"
     ]
    },
    {
     "name": "stdout",
     "output_type": "stream",
     "text": [
      "NL: NLBGS 4 ; 12616.5391 540.778431\n"
     ]
    },
    {
     "name": "stderr",
     "output_type": "stream",
     "text": [
      "WARNING : Area ratio value outside of the range in Roskam's book, value clipped\n",
      "WARNING : Area ratio value outside of the range in Roskam's book, value clipped\n",
      "INFO    : Entering mission computation\n",
      "INFO    : Looping on wing area with new value equal to 15.694853\n"
     ]
    },
    {
     "name": "stdout",
     "output_type": "stream",
     "text": [
      "NL: NLBGS 5 ; 2605.20625 111.666071\n"
     ]
    },
    {
     "name": "stderr",
     "output_type": "stream",
     "text": [
      "WARNING : Area ratio value outside of the range in Roskam's book, value clipped\n",
      "WARNING : Area ratio value outside of the range in Roskam's book, value clipped\n",
      "INFO    : Entering mission computation\n",
      "INFO    : Looping on wing area with new value equal to 15.693553\n"
     ]
    },
    {
     "name": "stdout",
     "output_type": "stream",
     "text": [
      "NL: NLBGS 6 ; 1724.82594 73.9306283\n"
     ]
    },
    {
     "name": "stderr",
     "output_type": "stream",
     "text": [
      "WARNING : Area ratio value outside of the range in Roskam's book, value clipped\n",
      "WARNING : Area ratio value outside of the range in Roskam's book, value clipped\n",
      "INFO    : Entering mission computation\n",
      "INFO    : Looping on wing area with new value equal to 15.692715\n"
     ]
    },
    {
     "name": "stdout",
     "output_type": "stream",
     "text": [
      "NL: NLBGS 7 ; 1215.98365 52.1202943\n"
     ]
    },
    {
     "name": "stderr",
     "output_type": "stream",
     "text": [
      "WARNING : Area ratio value outside of the range in Roskam's book, value clipped\n",
      "WARNING : Area ratio value outside of the range in Roskam's book, value clipped\n",
      "INFO    : Entering mission computation\n",
      "INFO    : Looping on wing area with new value equal to 15.692208\n"
     ]
    },
    {
     "name": "stdout",
     "output_type": "stream",
     "text": [
      "NL: NLBGS 8 ; 594.667332 25.4890239\n"
     ]
    },
    {
     "name": "stderr",
     "output_type": "stream",
     "text": [
      "WARNING : Area ratio value outside of the range in Roskam's book, value clipped\n",
      "WARNING : Area ratio value outside of the range in Roskam's book, value clipped\n",
      "INFO    : Entering mission computation\n",
      "INFO    : Looping on wing area with new value equal to 15.691931\n"
     ]
    },
    {
     "name": "stdout",
     "output_type": "stream",
     "text": [
      "NL: NLBGS 9 ; 320.792927 13.7500383\n"
     ]
    },
    {
     "name": "stderr",
     "output_type": "stream",
     "text": [
      "WARNING : Area ratio value outside of the range in Roskam's book, value clipped\n",
      "WARNING : Area ratio value outside of the range in Roskam's book, value clipped\n",
      "INFO    : Entering mission computation\n",
      "INFO    : Looping on wing area with new value equal to 15.691779\n"
     ]
    },
    {
     "name": "stdout",
     "output_type": "stream",
     "text": [
      "NL: NLBGS 10 ; 175.905703 7.53978641\n"
     ]
    },
    {
     "name": "stderr",
     "output_type": "stream",
     "text": [
      "WARNING : Area ratio value outside of the range in Roskam's book, value clipped\n",
      "WARNING : Area ratio value outside of the range in Roskam's book, value clipped\n",
      "INFO    : Entering mission computation\n",
      "INFO    : Looping on wing area with new value equal to 15.691697\n"
     ]
    },
    {
     "name": "stdout",
     "output_type": "stream",
     "text": [
      "NL: NLBGS 11 ; 91.2940435 3.91310558\n"
     ]
    },
    {
     "name": "stderr",
     "output_type": "stream",
     "text": [
      "WARNING : Area ratio value outside of the range in Roskam's book, value clipped\n",
      "WARNING : Area ratio value outside of the range in Roskam's book, value clipped\n",
      "INFO    : Entering mission computation\n",
      "INFO    : Looping on wing area with new value equal to 15.691654\n"
     ]
    },
    {
     "name": "stdout",
     "output_type": "stream",
     "text": [
      "NL: NLBGS 12 ; 47.4034169 2.03183656\n"
     ]
    },
    {
     "name": "stderr",
     "output_type": "stream",
     "text": [
      "WARNING : Area ratio value outside of the range in Roskam's book, value clipped\n",
      "WARNING : Area ratio value outside of the range in Roskam's book, value clipped\n",
      "INFO    : Entering mission computation\n",
      "INFO    : Looping on wing area with new value equal to 15.691632\n"
     ]
    },
    {
     "name": "stdout",
     "output_type": "stream",
     "text": [
      "NL: NLBGS 13 ; 24.5296381 1.05140555\n"
     ]
    },
    {
     "name": "stderr",
     "output_type": "stream",
     "text": [
      "WARNING : Area ratio value outside of the range in Roskam's book, value clipped\n",
      "WARNING : Area ratio value outside of the range in Roskam's book, value clipped\n",
      "INFO    : Entering mission computation\n",
      "INFO    : Looping on wing area with new value equal to 15.691620\n"
     ]
    },
    {
     "name": "stdout",
     "output_type": "stream",
     "text": [
      "NL: NLBGS 14 ; 12.4880181 0.535269677\n"
     ]
    },
    {
     "name": "stderr",
     "output_type": "stream",
     "text": [
      "WARNING : Area ratio value outside of the range in Roskam's book, value clipped\n",
      "WARNING : Area ratio value outside of the range in Roskam's book, value clipped\n",
      "INFO    : Entering mission computation\n",
      "INFO    : Looping on wing area with new value equal to 15.691614\n"
     ]
    },
    {
     "name": "stdout",
     "output_type": "stream",
     "text": [
      "NL: NLBGS 15 ; 6.30778925 0.270368628\n"
     ]
    },
    {
     "name": "stderr",
     "output_type": "stream",
     "text": [
      "WARNING : Area ratio value outside of the range in Roskam's book, value clipped\n",
      "WARNING : Area ratio value outside of the range in Roskam's book, value clipped\n",
      "INFO    : Entering mission computation\n",
      "INFO    : Looping on wing area with new value equal to 15.691611\n"
     ]
    },
    {
     "name": "stdout",
     "output_type": "stream",
     "text": [
      "NL: NLBGS 16 ; 3.1396515 0.134573816\n"
     ]
    },
    {
     "name": "stderr",
     "output_type": "stream",
     "text": [
      "WARNING : Area ratio value outside of the range in Roskam's book, value clipped\n",
      "WARNING : Area ratio value outside of the range in Roskam's book, value clipped\n",
      "INFO    : Entering mission computation\n",
      "INFO    : Looping on wing area with new value equal to 15.691610\n"
     ]
    },
    {
     "name": "stdout",
     "output_type": "stream",
     "text": [
      "NL: NLBGS 17 ; 1.60294469 0.0687064739\n"
     ]
    },
    {
     "name": "stderr",
     "output_type": "stream",
     "text": [
      "WARNING : Area ratio value outside of the range in Roskam's book, value clipped\n",
      "WARNING : Area ratio value outside of the range in Roskam's book, value clipped\n",
      "INFO    : Entering mission computation\n",
      "INFO    : Looping on wing area with new value equal to 15.691609\n"
     ]
    },
    {
     "name": "stdout",
     "output_type": "stream",
     "text": [
      "NL: NLBGS 18 ; 0.811811704 0.0347964094\n"
     ]
    },
    {
     "name": "stderr",
     "output_type": "stream",
     "text": [
      "WARNING : Area ratio value outside of the range in Roskam's book, value clipped\n",
      "WARNING : Area ratio value outside of the range in Roskam's book, value clipped\n",
      "INFO    : Entering mission computation\n",
      "INFO    : Looping on wing area with new value equal to 15.691609\n"
     ]
    },
    {
     "name": "stdout",
     "output_type": "stream",
     "text": [
      "NL: NLBGS 19 ; 0.415292811 0.0178005547\n"
     ]
    },
    {
     "name": "stderr",
     "output_type": "stream",
     "text": [
      "WARNING : Area ratio value outside of the range in Roskam's book, value clipped\n",
      "WARNING : Area ratio value outside of the range in Roskam's book, value clipped\n",
      "INFO    : Entering mission computation\n",
      "INFO    : Looping on wing area with new value equal to 15.691608\n"
     ]
    },
    {
     "name": "stdout",
     "output_type": "stream",
     "text": [
      "NL: NLBGS 20 ; 0.205150643 0.00879330233\n"
     ]
    },
    {
     "name": "stderr",
     "output_type": "stream",
     "text": [
      "WARNING : Area ratio value outside of the range in Roskam's book, value clipped\n",
      "WARNING : Area ratio value outside of the range in Roskam's book, value clipped\n",
      "INFO    : Entering mission computation\n",
      "INFO    : Looping on wing area with new value equal to 15.691608\n"
     ]
    },
    {
     "name": "stdout",
     "output_type": "stream",
     "text": [
      "NL: NLBGS 21 ; 0.101136794 0.00433499206\n"
     ]
    },
    {
     "name": "stderr",
     "output_type": "stream",
     "text": [
      "WARNING : Area ratio value outside of the range in Roskam's book, value clipped\n",
      "WARNING : Area ratio value outside of the range in Roskam's book, value clipped\n",
      "INFO    : Entering mission computation\n",
      "INFO    : Looping on wing area with new value equal to 15.691608\n"
     ]
    },
    {
     "name": "stdout",
     "output_type": "stream",
     "text": [
      "NL: NLBGS 22 ; 0.0498029488 0.00213468688\n"
     ]
    },
    {
     "name": "stderr",
     "output_type": "stream",
     "text": [
      "WARNING : Area ratio value outside of the range in Roskam's book, value clipped\n",
      "WARNING : Area ratio value outside of the range in Roskam's book, value clipped\n",
      "INFO    : Entering mission computation\n",
      "INFO    : Looping on wing area with new value equal to 15.691608\n"
     ]
    },
    {
     "name": "stdout",
     "output_type": "stream",
     "text": [
      "NL: NLBGS 23 ; 0.0243120583 0.0010420795\n"
     ]
    },
    {
     "name": "stderr",
     "output_type": "stream",
     "text": [
      "WARNING : Area ratio value outside of the range in Roskam's book, value clipped\n",
      "WARNING : Area ratio value outside of the range in Roskam's book, value clipped\n",
      "INFO    : Entering mission computation\n",
      "INFO    : Looping on wing area with new value equal to 15.691608\n"
     ]
    },
    {
     "name": "stdout",
     "output_type": "stream",
     "text": [
      "NL: NLBGS 24 ; 0.0118028765 0.000505902686\n",
      "NL: NLBGS Converged\n"
     ]
    },
    {
     "name": "stderr",
     "output_type": "stream",
     "text": [
      "WARNING : Area ratio value outside of the range in Roskam's book, value clipped\n",
      "WARNING : Area ratio value outside of the range in Roskam's book, value clipped\n",
      "INFO    : Entering mission computation\n",
      "INFO    : Looping on wing area with new value equal to 15.691608\n"
     ]
    },
    {
     "name": "stdout",
     "output_type": "stream",
     "text": [
      "NL: NLBGS 1 ; 47.4872998 1\n"
     ]
    },
    {
     "name": "stderr",
     "output_type": "stream",
     "text": [
      "WARNING : Area ratio value outside of the range in Roskam's book, value clipped\n",
      "WARNING : Area ratio value outside of the range in Roskam's book, value clipped\n",
      "INFO    : Entering mission computation\n",
      "INFO    : Looping on wing area with new value equal to 15.729436\n"
     ]
    },
    {
     "name": "stdout",
     "output_type": "stream",
     "text": [
      "NL: NLBGS 2 ; 128509.287 2706.18224\n"
     ]
    },
    {
     "name": "stderr",
     "output_type": "stream",
     "text": [
      "WARNING : Area ratio value outside of the range in Roskam's book, value clipped\n",
      "WARNING : Area ratio value outside of the range in Roskam's book, value clipped\n",
      "INFO    : Entering mission computation\n",
      "INFO    : Looping on wing area with new value equal to 15.721852\n"
     ]
    },
    {
     "name": "stdout",
     "output_type": "stream",
     "text": [
      "NL: NLBGS 3 ; 12631.0322 265.987585\n"
     ]
    },
    {
     "name": "stderr",
     "output_type": "stream",
     "text": [
      "WARNING : Area ratio value outside of the range in Roskam's book, value clipped\n",
      "WARNING : Area ratio value outside of the range in Roskam's book, value clipped\n",
      "INFO    : Entering mission computation\n",
      "INFO    : Looping on wing area with new value equal to 15.726729\n"
     ]
    },
    {
     "name": "stdout",
     "output_type": "stream",
     "text": [
      "NL: NLBGS 4 ; 25267.941 532.098922\n"
     ]
    },
    {
     "name": "stderr",
     "output_type": "stream",
     "text": [
      "WARNING : Area ratio value outside of the range in Roskam's book, value clipped\n",
      "WARNING : Area ratio value outside of the range in Roskam's book, value clipped\n",
      "INFO    : Entering mission computation\n",
      "INFO    : Looping on wing area with new value equal to 15.731985\n"
     ]
    },
    {
     "name": "stdout",
     "output_type": "stream",
     "text": [
      "NL: NLBGS 5 ; 5420.53063 114.146954\n"
     ]
    },
    {
     "name": "stderr",
     "output_type": "stream",
     "text": [
      "WARNING : Area ratio value outside of the range in Roskam's book, value clipped\n",
      "WARNING : Area ratio value outside of the range in Roskam's book, value clipped\n",
      "INFO    : Entering mission computation\n",
      "INFO    : Looping on wing area with new value equal to 15.734646\n"
     ]
    },
    {
     "name": "stdout",
     "output_type": "stream",
     "text": [
      "NL: NLBGS 6 ; 3465.05218 72.9679766\n"
     ]
    },
    {
     "name": "stderr",
     "output_type": "stream",
     "text": [
      "WARNING : Area ratio value outside of the range in Roskam's book, value clipped\n",
      "WARNING : Area ratio value outside of the range in Roskam's book, value clipped\n",
      "INFO    : Entering mission computation\n",
      "INFO    : Looping on wing area with new value equal to 15.736344\n"
     ]
    },
    {
     "name": "stdout",
     "output_type": "stream",
     "text": [
      "NL: NLBGS 7 ; 2413.34387 50.8208275\n"
     ]
    },
    {
     "name": "stderr",
     "output_type": "stream",
     "text": [
      "WARNING : Area ratio value outside of the range in Roskam's book, value clipped\n",
      "WARNING : Area ratio value outside of the range in Roskam's book, value clipped\n",
      "INFO    : Entering mission computation\n",
      "INFO    : Looping on wing area with new value equal to 15.737362\n"
     ]
    },
    {
     "name": "stdout",
     "output_type": "stream",
     "text": [
      "NL: NLBGS 8 ; 1181.47921 24.8798988\n"
     ]
    },
    {
     "name": "stderr",
     "output_type": "stream",
     "text": [
      "WARNING : Area ratio value outside of the range in Roskam's book, value clipped\n",
      "WARNING : Area ratio value outside of the range in Roskam's book, value clipped\n",
      "INFO    : Entering mission computation\n",
      "INFO    : Looping on wing area with new value equal to 15.737916\n"
     ]
    },
    {
     "name": "stdout",
     "output_type": "stream",
     "text": [
      "NL: NLBGS 9 ; 631.833691 13.3053194\n"
     ]
    },
    {
     "name": "stderr",
     "output_type": "stream",
     "text": [
      "WARNING : Area ratio value outside of the range in Roskam's book, value clipped\n",
      "WARNING : Area ratio value outside of the range in Roskam's book, value clipped\n",
      "INFO    : Entering mission computation\n",
      "INFO    : Looping on wing area with new value equal to 15.738217\n"
     ]
    },
    {
     "name": "stdout",
     "output_type": "stream",
     "text": [
      "NL: NLBGS 10 ; 343.42412 7.23191509\n"
     ]
    },
    {
     "name": "stderr",
     "output_type": "stream",
     "text": [
      "WARNING : Area ratio value outside of the range in Roskam's book, value clipped\n",
      "WARNING : Area ratio value outside of the range in Roskam's book, value clipped\n",
      "INFO    : Entering mission computation\n",
      "INFO    : Looping on wing area with new value equal to 15.738379\n"
     ]
    },
    {
     "name": "stdout",
     "output_type": "stream",
     "text": [
      "NL: NLBGS 11 ; 177.355983 3.73480876\n"
     ]
    },
    {
     "name": "stderr",
     "output_type": "stream",
     "text": [
      "WARNING : Area ratio value outside of the range in Roskam's book, value clipped\n",
      "WARNING : Area ratio value outside of the range in Roskam's book, value clipped\n",
      "INFO    : Entering mission computation\n",
      "INFO    : Looping on wing area with new value equal to 15.738463\n"
     ]
    },
    {
     "name": "stdout",
     "output_type": "stream",
     "text": [
      "NL: NLBGS 12 ; 91.2176779 1.92088576\n"
     ]
    },
    {
     "name": "stderr",
     "output_type": "stream",
     "text": [
      "WARNING : Area ratio value outside of the range in Roskam's book, value clipped\n",
      "WARNING : Area ratio value outside of the range in Roskam's book, value clipped\n",
      "INFO    : Entering mission computation\n",
      "INFO    : Looping on wing area with new value equal to 15.738507\n"
     ]
    },
    {
     "name": "stdout",
     "output_type": "stream",
     "text": [
      "NL: NLBGS 13 ; 46.865737 0.986910968\n"
     ]
    },
    {
     "name": "stderr",
     "output_type": "stream",
     "text": [
      "WARNING : Area ratio value outside of the range in Roskam's book, value clipped\n",
      "WARNING : Area ratio value outside of the range in Roskam's book, value clipped\n",
      "INFO    : Entering mission computation\n",
      "INFO    : Looping on wing area with new value equal to 15.738529\n"
     ]
    },
    {
     "name": "stdout",
     "output_type": "stream",
     "text": [
      "NL: NLBGS 14 ; 23.6424589 0.497869095\n"
     ]
    },
    {
     "name": "stderr",
     "output_type": "stream",
     "text": [
      "WARNING : Area ratio value outside of the range in Roskam's book, value clipped\n",
      "WARNING : Area ratio value outside of the range in Roskam's book, value clipped\n",
      "INFO    : Entering mission computation\n",
      "INFO    : Looping on wing area with new value equal to 15.738541\n"
     ]
    },
    {
     "name": "stdout",
     "output_type": "stream",
     "text": [
      "NL: NLBGS 15 ; 11.8581804 0.24971267\n"
     ]
    },
    {
     "name": "stderr",
     "output_type": "stream",
     "text": [
      "WARNING : Area ratio value outside of the range in Roskam's book, value clipped\n",
      "WARNING : Area ratio value outside of the range in Roskam's book, value clipped\n",
      "INFO    : Entering mission computation\n",
      "INFO    : Looping on wing area with new value equal to 15.738546\n"
     ]
    },
    {
     "name": "stdout",
     "output_type": "stream",
     "text": [
      "NL: NLBGS 16 ; 5.89176507 0.124070332\n"
     ]
    },
    {
     "name": "stderr",
     "output_type": "stream",
     "text": [
      "WARNING : Area ratio value outside of the range in Roskam's book, value clipped\n",
      "WARNING : Area ratio value outside of the range in Roskam's book, value clipped\n",
      "INFO    : Entering mission computation\n",
      "INFO    : Looping on wing area with new value equal to 15.738549\n"
     ]
    },
    {
     "name": "stdout",
     "output_type": "stream",
     "text": [
      "NL: NLBGS 17 ; 2.97337281 0.0626140636\n"
     ]
    },
    {
     "name": "stderr",
     "output_type": "stream",
     "text": [
      "WARNING : Area ratio value outside of the range in Roskam's book, value clipped\n",
      "WARNING : Area ratio value outside of the range in Roskam's book, value clipped\n",
      "INFO    : Entering mission computation\n",
      "INFO    : Looping on wing area with new value equal to 15.738551\n"
     ]
    },
    {
     "name": "stdout",
     "output_type": "stream",
     "text": [
      "NL: NLBGS 18 ; 1.45325463 0.0306030168\n"
     ]
    },
    {
     "name": "stderr",
     "output_type": "stream",
     "text": [
      "WARNING : Area ratio value outside of the range in Roskam's book, value clipped\n",
      "WARNING : Area ratio value outside of the range in Roskam's book, value clipped\n",
      "INFO    : Entering mission computation\n",
      "INFO    : Looping on wing area with new value equal to 15.738551\n"
     ]
    },
    {
     "name": "stdout",
     "output_type": "stream",
     "text": [
      "NL: NLBGS 19 ; 0.641602846 0.0135110408\n"
     ]
    },
    {
     "name": "stderr",
     "output_type": "stream",
     "text": [
      "WARNING : Area ratio value outside of the range in Roskam's book, value clipped\n",
      "WARNING : Area ratio value outside of the range in Roskam's book, value clipped\n",
      "INFO    : Entering mission computation\n",
      "INFO    : Looping on wing area with new value equal to 15.738552\n"
     ]
    },
    {
     "name": "stdout",
     "output_type": "stream",
     "text": [
      "NL: NLBGS 20 ; 0.404628801 0.0085207793\n"
     ]
    },
    {
     "name": "stderr",
     "output_type": "stream",
     "text": [
      "WARNING : Area ratio value outside of the range in Roskam's book, value clipped\n",
      "WARNING : Area ratio value outside of the range in Roskam's book, value clipped\n",
      "INFO    : Entering mission computation\n",
      "INFO    : Looping on wing area with new value equal to 15.738552\n"
     ]
    },
    {
     "name": "stdout",
     "output_type": "stream",
     "text": [
      "NL: NLBGS 21 ; 0.153071865 0.00322342743\n"
     ]
    },
    {
     "name": "stderr",
     "output_type": "stream",
     "text": [
      "WARNING : Area ratio value outside of the range in Roskam's book, value clipped\n",
      "WARNING : Area ratio value outside of the range in Roskam's book, value clipped\n",
      "INFO    : Entering mission computation\n",
      "INFO    : Looping on wing area with new value equal to 15.738552\n"
     ]
    },
    {
     "name": "stdout",
     "output_type": "stream",
     "text": [
      "NL: NLBGS 22 ; 0.0766637998 0.00161440638\n"
     ]
    },
    {
     "name": "stderr",
     "output_type": "stream",
     "text": [
      "WARNING : Area ratio value outside of the range in Roskam's book, value clipped\n",
      "WARNING : Area ratio value outside of the range in Roskam's book, value clipped\n",
      "INFO    : Entering mission computation\n",
      "INFO    : Looping on wing area with new value equal to 15.738552\n"
     ]
    },
    {
     "name": "stdout",
     "output_type": "stream",
     "text": [
      "NL: NLBGS 23 ; 0.0372068802 0.000783512232\n",
      "NL: NLBGS Converged\n"
     ]
    },
    {
     "name": "stderr",
     "output_type": "stream",
     "text": [
      "WARNING : Ratio of span on fuselage depth outside of the range in Roskam's book, value clipped\n",
      "WARNING : Area ratio value outside of the range in Roskam's book, value clipped\n",
      "WARNING : Ratio of span on fuselage depth outside of the range in Roskam's book, value clipped\n",
      "WARNING : Area ratio value outside of the range in Roskam's book, value clipped\n",
      "INFO    : Entering mission computation\n",
      "INFO    : Looping on wing area with new value equal to 15.738552\n"
     ]
    },
    {
     "name": "stdout",
     "output_type": "stream",
     "text": [
      "NL: NLBGS 1 ; 24.9587069 1\n"
     ]
    },
    {
     "name": "stderr",
     "output_type": "stream",
     "text": [
      "WARNING : Ratio of span on fuselage depth outside of the range in Roskam's book, value clipped\n",
      "WARNING : Area ratio value outside of the range in Roskam's book, value clipped\n",
      "WARNING : Ratio of span on fuselage depth outside of the range in Roskam's book, value clipped\n",
      "WARNING : Area ratio value outside of the range in Roskam's book, value clipped\n",
      "INFO    : Entering mission computation\n",
      "INFO    : Looping on wing area with new value equal to 15.757608\n"
     ]
    },
    {
     "name": "stdout",
     "output_type": "stream",
     "text": [
      "NL: NLBGS 2 ; 61781.4828 2475.34791\n"
     ]
    },
    {
     "name": "stderr",
     "output_type": "stream",
     "text": [
      "WARNING : Ratio of span on fuselage depth outside of the range in Roskam's book, value clipped\n",
      "WARNING : Area ratio value outside of the range in Roskam's book, value clipped\n",
      "WARNING : Ratio of span on fuselage depth outside of the range in Roskam's book, value clipped\n",
      "WARNING : Area ratio value outside of the range in Roskam's book, value clipped\n",
      "INFO    : Entering mission computation\n",
      "INFO    : Looping on wing area with new value equal to 15.754210\n"
     ]
    },
    {
     "name": "stdout",
     "output_type": "stream",
     "text": [
      "NL: NLBGS 3 ; 6247.77237 250.324362\n"
     ]
    },
    {
     "name": "stderr",
     "output_type": "stream",
     "text": [
      "WARNING : Ratio of span on fuselage depth outside of the range in Roskam's book, value clipped\n",
      "WARNING : Area ratio value outside of the range in Roskam's book, value clipped\n",
      "WARNING : Ratio of span on fuselage depth outside of the range in Roskam's book, value clipped\n",
      "WARNING : Area ratio value outside of the range in Roskam's book, value clipped\n",
      "INFO    : Entering mission computation\n",
      "INFO    : Looping on wing area with new value equal to 15.756787\n"
     ]
    },
    {
     "name": "stdout",
     "output_type": "stream",
     "text": [
      "NL: NLBGS 4 ; 12512.5587 501.330407\n"
     ]
    },
    {
     "name": "stderr",
     "output_type": "stream",
     "text": [
      "WARNING : Ratio of span on fuselage depth outside of the range in Roskam's book, value clipped\n",
      "WARNING : Area ratio value outside of the range in Roskam's book, value clipped\n",
      "WARNING : Ratio of span on fuselage depth outside of the range in Roskam's book, value clipped\n",
      "WARNING : Area ratio value outside of the range in Roskam's book, value clipped\n",
      "INFO    : Entering mission computation\n",
      "INFO    : Looping on wing area with new value equal to 15.759454\n"
     ]
    },
    {
     "name": "stdout",
     "output_type": "stream",
     "text": [
      "NL: NLBGS 5 ; 2789.6741 111.77158\n"
     ]
    },
    {
     "name": "stderr",
     "output_type": "stream",
     "text": [
      "WARNING : Ratio of span on fuselage depth outside of the range in Roskam's book, value clipped\n",
      "WARNING : Area ratio value outside of the range in Roskam's book, value clipped\n",
      "WARNING : Ratio of span on fuselage depth outside of the range in Roskam's book, value clipped\n",
      "WARNING : Area ratio value outside of the range in Roskam's book, value clipped\n",
      "INFO    : Entering mission computation\n",
      "INFO    : Looping on wing area with new value equal to 15.760810\n"
     ]
    },
    {
     "name": "stdout",
     "output_type": "stream",
     "text": [
      "NL: NLBGS 6 ; 1753.06444 70.2385926\n"
     ]
    },
    {
     "name": "stderr",
     "output_type": "stream",
     "text": [
      "WARNING : Ratio of span on fuselage depth outside of the range in Roskam's book, value clipped\n",
      "WARNING : Area ratio value outside of the range in Roskam's book, value clipped\n",
      "WARNING : Ratio of span on fuselage depth outside of the range in Roskam's book, value clipped\n",
      "WARNING : Area ratio value outside of the range in Roskam's book, value clipped\n",
      "INFO    : Entering mission computation\n",
      "INFO    : Looping on wing area with new value equal to 15.761668\n"
     ]
    },
    {
     "name": "stdout",
     "output_type": "stream",
     "text": [
      "NL: NLBGS 7 ; 1198.66938 48.0261013\n"
     ]
    },
    {
     "name": "stderr",
     "output_type": "stream",
     "text": [
      "WARNING : Ratio of span on fuselage depth outside of the range in Roskam's book, value clipped\n",
      "WARNING : Area ratio value outside of the range in Roskam's book, value clipped\n",
      "WARNING : Ratio of span on fuselage depth outside of the range in Roskam's book, value clipped\n",
      "WARNING : Area ratio value outside of the range in Roskam's book, value clipped\n",
      "INFO    : Entering mission computation\n",
      "INFO    : Looping on wing area with new value equal to 15.762178\n"
     ]
    },
    {
     "name": "stdout",
     "output_type": "stream",
     "text": [
      "NL: NLBGS 8 ; 586.177679 23.4858994\n"
     ]
    },
    {
     "name": "stderr",
     "output_type": "stream",
     "text": [
      "WARNING : Ratio of span on fuselage depth outside of the range in Roskam's book, value clipped\n",
      "WARNING : Area ratio value outside of the range in Roskam's book, value clipped\n",
      "WARNING : Ratio of span on fuselage depth outside of the range in Roskam's book, value clipped\n",
      "WARNING : Area ratio value outside of the range in Roskam's book, value clipped\n",
      "INFO    : Entering mission computation\n",
      "INFO    : Looping on wing area with new value equal to 15.762455\n"
     ]
    },
    {
     "name": "stdout",
     "output_type": "stream",
     "text": [
      "NL: NLBGS 9 ; 312.177893 12.5077751\n"
     ]
    },
    {
     "name": "stderr",
     "output_type": "stream",
     "text": [
      "WARNING : Ratio of span on fuselage depth outside of the range in Roskam's book, value clipped\n",
      "WARNING : Area ratio value outside of the range in Roskam's book, value clipped\n",
      "WARNING : Ratio of span on fuselage depth outside of the range in Roskam's book, value clipped\n",
      "WARNING : Area ratio value outside of the range in Roskam's book, value clipped\n",
      "INFO    : Entering mission computation\n",
      "INFO    : Looping on wing area with new value equal to 15.762605\n"
     ]
    },
    {
     "name": "stdout",
     "output_type": "stream",
     "text": [
      "NL: NLBGS 10 ; 168.632244 6.75644956\n"
     ]
    },
    {
     "name": "stderr",
     "output_type": "stream",
     "text": [
      "WARNING : Ratio of span on fuselage depth outside of the range in Roskam's book, value clipped\n",
      "WARNING : Area ratio value outside of the range in Roskam's book, value clipped\n",
      "WARNING : Ratio of span on fuselage depth outside of the range in Roskam's book, value clipped\n",
      "WARNING : Area ratio value outside of the range in Roskam's book, value clipped\n",
      "INFO    : Entering mission computation\n",
      "INFO    : Looping on wing area with new value equal to 15.762684\n"
     ]
    },
    {
     "name": "stdout",
     "output_type": "stream",
     "text": [
      "NL: NLBGS 11 ; 86.7320989 3.47502374\n"
     ]
    },
    {
     "name": "stderr",
     "output_type": "stream",
     "text": [
      "WARNING : Ratio of span on fuselage depth outside of the range in Roskam's book, value clipped\n",
      "WARNING : Area ratio value outside of the range in Roskam's book, value clipped\n",
      "WARNING : Ratio of span on fuselage depth outside of the range in Roskam's book, value clipped\n",
      "WARNING : Area ratio value outside of the range in Roskam's book, value clipped\n",
      "INFO    : Entering mission computation\n",
      "INFO    : Looping on wing area with new value equal to 15.762726\n"
     ]
    },
    {
     "name": "stdout",
     "output_type": "stream",
     "text": [
      "NL: NLBGS 12 ; 44.480283 1.78215495\n"
     ]
    },
    {
     "name": "stderr",
     "output_type": "stream",
     "text": [
      "WARNING : Ratio of span on fuselage depth outside of the range in Roskam's book, value clipped\n",
      "WARNING : Area ratio value outside of the range in Roskam's book, value clipped\n",
      "WARNING : Ratio of span on fuselage depth outside of the range in Roskam's book, value clipped\n",
      "WARNING : Area ratio value outside of the range in Roskam's book, value clipped\n",
      "INFO    : Entering mission computation\n",
      "INFO    : Looping on wing area with new value equal to 15.762747\n"
     ]
    },
    {
     "name": "stdout",
     "output_type": "stream",
     "text": [
      "NL: NLBGS 13 ; 22.7673121 0.912199186\n"
     ]
    },
    {
     "name": "stderr",
     "output_type": "stream",
     "text": [
      "WARNING : Ratio of span on fuselage depth outside of the range in Roskam's book, value clipped\n",
      "WARNING : Area ratio value outside of the range in Roskam's book, value clipped\n",
      "WARNING : Ratio of span on fuselage depth outside of the range in Roskam's book, value clipped\n",
      "WARNING : Area ratio value outside of the range in Roskam's book, value clipped\n",
      "INFO    : Entering mission computation\n",
      "INFO    : Looping on wing area with new value equal to 15.762758\n"
     ]
    },
    {
     "name": "stdout",
     "output_type": "stream",
     "text": [
      "NL: NLBGS 14 ; 11.4018583 0.456828888\n"
     ]
    },
    {
     "name": "stderr",
     "output_type": "stream",
     "text": [
      "WARNING : Ratio of span on fuselage depth outside of the range in Roskam's book, value clipped\n",
      "WARNING : Area ratio value outside of the range in Roskam's book, value clipped\n",
      "WARNING : Ratio of span on fuselage depth outside of the range in Roskam's book, value clipped\n",
      "WARNING : Area ratio value outside of the range in Roskam's book, value clipped\n",
      "INFO    : Entering mission computation\n",
      "INFO    : Looping on wing area with new value equal to 15.762764\n"
     ]
    },
    {
     "name": "stdout",
     "output_type": "stream",
     "text": [
      "NL: NLBGS 15 ; 5.75345957 0.230519137\n"
     ]
    },
    {
     "name": "stderr",
     "output_type": "stream",
     "text": [
      "WARNING : Ratio of span on fuselage depth outside of the range in Roskam's book, value clipped\n",
      "WARNING : Area ratio value outside of the range in Roskam's book, value clipped\n",
      "WARNING : Ratio of span on fuselage depth outside of the range in Roskam's book, value clipped\n",
      "WARNING : Area ratio value outside of the range in Roskam's book, value clipped\n",
      "INFO    : Entering mission computation\n",
      "INFO    : Looping on wing area with new value equal to 15.762766\n"
     ]
    },
    {
     "name": "stdout",
     "output_type": "stream",
     "text": [
      "NL: NLBGS 16 ; 2.78372227 0.111533113\n"
     ]
    },
    {
     "name": "stderr",
     "output_type": "stream",
     "text": [
      "WARNING : Ratio of span on fuselage depth outside of the range in Roskam's book, value clipped\n",
      "WARNING : Area ratio value outside of the range in Roskam's book, value clipped\n",
      "WARNING : Ratio of span on fuselage depth outside of the range in Roskam's book, value clipped\n",
      "WARNING : Area ratio value outside of the range in Roskam's book, value clipped\n",
      "INFO    : Entering mission computation\n",
      "INFO    : Looping on wing area with new value equal to 15.762768\n"
     ]
    },
    {
     "name": "stdout",
     "output_type": "stream",
     "text": [
      "NL: NLBGS 17 ; 1.39480672 0.0558845749\n"
     ]
    },
    {
     "name": "stderr",
     "output_type": "stream",
     "text": [
      "WARNING : Ratio of span on fuselage depth outside of the range in Roskam's book, value clipped\n",
      "WARNING : Area ratio value outside of the range in Roskam's book, value clipped\n",
      "WARNING : Ratio of span on fuselage depth outside of the range in Roskam's book, value clipped\n",
      "WARNING : Area ratio value outside of the range in Roskam's book, value clipped\n",
      "INFO    : Entering mission computation\n",
      "INFO    : Looping on wing area with new value equal to 15.762769\n"
     ]
    },
    {
     "name": "stdout",
     "output_type": "stream",
     "text": [
      "NL: NLBGS 18 ; 0.700627524 0.0280714673\n"
     ]
    },
    {
     "name": "stderr",
     "output_type": "stream",
     "text": [
      "WARNING : Ratio of span on fuselage depth outside of the range in Roskam's book, value clipped\n",
      "WARNING : Area ratio value outside of the range in Roskam's book, value clipped\n",
      "WARNING : Ratio of span on fuselage depth outside of the range in Roskam's book, value clipped\n",
      "WARNING : Area ratio value outside of the range in Roskam's book, value clipped\n",
      "INFO    : Entering mission computation\n",
      "INFO    : Looping on wing area with new value equal to 15.762769\n"
     ]
    },
    {
     "name": "stdout",
     "output_type": "stream",
     "text": [
      "NL: NLBGS 19 ; 0.354412967 0.0141999731\n"
     ]
    },
    {
     "name": "stderr",
     "output_type": "stream",
     "text": [
      "WARNING : Ratio of span on fuselage depth outside of the range in Roskam's book, value clipped\n",
      "WARNING : Area ratio value outside of the range in Roskam's book, value clipped\n",
      "WARNING : Ratio of span on fuselage depth outside of the range in Roskam's book, value clipped\n",
      "WARNING : Area ratio value outside of the range in Roskam's book, value clipped\n",
      "INFO    : Entering mission computation\n",
      "INFO    : Looping on wing area with new value equal to 15.762769\n"
     ]
    },
    {
     "name": "stdout",
     "output_type": "stream",
     "text": [
      "NL: NLBGS 20 ; 0.172580633 0.00691464644\n"
     ]
    },
    {
     "name": "stderr",
     "output_type": "stream",
     "text": [
      "WARNING : Ratio of span on fuselage depth outside of the range in Roskam's book, value clipped\n",
      "WARNING : Area ratio value outside of the range in Roskam's book, value clipped\n",
      "WARNING : Ratio of span on fuselage depth outside of the range in Roskam's book, value clipped\n",
      "WARNING : Area ratio value outside of the range in Roskam's book, value clipped\n",
      "INFO    : Entering mission computation\n",
      "INFO    : Looping on wing area with new value equal to 15.762769\n"
     ]
    },
    {
     "name": "stdout",
     "output_type": "stream",
     "text": [
      "NL: NLBGS 21 ; 0.140127745 0.00561438322\n"
     ]
    },
    {
     "name": "stderr",
     "output_type": "stream",
     "text": [
      "WARNING : Ratio of span on fuselage depth outside of the range in Roskam's book, value clipped\n",
      "WARNING : Area ratio value outside of the range in Roskam's book, value clipped\n",
      "WARNING : Ratio of span on fuselage depth outside of the range in Roskam's book, value clipped\n",
      "WARNING : Area ratio value outside of the range in Roskam's book, value clipped\n",
      "INFO    : Entering mission computation\n",
      "INFO    : Looping on wing area with new value equal to 15.762769\n"
     ]
    },
    {
     "name": "stdout",
     "output_type": "stream",
     "text": [
      "NL: NLBGS 22 ; 0.0335656673 0.00134484801\n"
     ]
    },
    {
     "name": "stderr",
     "output_type": "stream",
     "text": [
      "WARNING : Ratio of span on fuselage depth outside of the range in Roskam's book, value clipped\n",
      "WARNING : Area ratio value outside of the range in Roskam's book, value clipped\n",
      "WARNING : Ratio of span on fuselage depth outside of the range in Roskam's book, value clipped\n",
      "WARNING : Area ratio value outside of the range in Roskam's book, value clipped\n",
      "INFO    : Entering mission computation\n",
      "INFO    : Looping on wing area with new value equal to 15.762769\n"
     ]
    },
    {
     "name": "stdout",
     "output_type": "stream",
     "text": [
      "NL: NLBGS 23 ; 0.014266938 0.000571621682\n",
      "NL: NLBGS Converged\n",
      "Optimization Complete\n",
      "-----------------------------------\n"
     ]
    },
    {
     "name": "stderr",
     "output_type": "stream",
     "text": [
      "INFO    : Computation finished after 1062.93 seconds\n",
      "INFO    : Problem outputs written in C:\\Users\\88690\\Documents\\GitHub\\FAST-GA\\FAST-OAD_notebooks\\fast-oad-cs23\\tutorial\\workdir\\problem_outputs.xml\n"
     ]
    }
   ],
   "source": [
    "optim_problem = api_cs25.optimize_problem(CONFIGURATION_FILE_MDO, overwrite=True)"
   ]
  },
  {
   "cell_type": "markdown",
   "metadata": {},
   "source": [
    "Let's save these results:"
   ]
  },
  {
   "cell_type": "code",
   "execution_count": 41,
   "metadata": {},
   "outputs": [
    {
     "data": {
      "text/plain": [
       "'workdir\\\\problem_outputs_Beechcraft_800nm_mdo.xml'"
      ]
     },
     "execution_count": 41,
     "metadata": {},
     "output_type": "execute_result"
    }
   ],
   "source": [
    "OUTPUT_FILE = pth.join(WORK_FOLDER_PATH, \"problem_outputs.xml\")\n",
    "CeRAS_OPT_OUTPUT_FILE = pth.join(WORK_FOLDER_PATH, \"problem_outputs_Beechcraft_800nm_mdo.xml\")\n",
    "shutil.copy(OUTPUT_FILE, CeRAS_OPT_OUTPUT_FILE)"
   ]
  },
  {
   "cell_type": "markdown",
   "metadata": {},
   "source": [
    "The `optimizer_viewer` offers a convenient summary of the optimization result:"
   ]
  },
  {
   "cell_type": "code",
   "execution_count": 42,
   "metadata": {},
   "outputs": [
    {
     "data": {
      "application/vnd.jupyter.widget-view+json": {
       "model_id": "0c61c1ae142e4250add60ec607de508b",
       "version_major": 2,
       "version_minor": 0
      },
      "text/plain": [
       "VBox(children=(HBox(children=(Button(description='Load', icon='upload', style=ButtonStyle(), tooltip='Load the…"
      ]
     },
     "metadata": {},
     "output_type": "display_data"
    }
   ],
   "source": [
    "api_cs25.optimization_viewer(CONFIGURATION_FILE_MDO)"
   ]
  },
  {
   "cell_type": "markdown",
   "metadata": {},
   "source": [
    "You can use the `VariableViewer` tool to see the optimization results for all variables of the system by loading the .xml output file:"
   ]
  },
  {
   "cell_type": "code",
   "execution_count": 43,
   "metadata": {},
   "outputs": [
    {
     "data": {
      "application/vnd.jupyter.widget-view+json": {
       "model_id": "e300ab00341a42088e5765a1d5662ded",
       "version_major": 2,
       "version_minor": 0
      },
      "text/plain": [
       "VBox(children=(HBox(children=(Button(description='Load', icon='upload', style=ButtonStyle(), tooltip='Load the…"
      ]
     },
     "metadata": {},
     "output_type": "display_data"
    }
   ],
   "source": [
    "RESULT_FILE = pth.join(WORK_FOLDER_PATH, \"problem_outputs.xml\")\n",
    "api_cs25.variable_viewer(RESULT_FILE)"
   ]
  },
  {
   "cell_type": "code",
   "execution_count": null,
   "metadata": {},
   "outputs": [],
   "source": []
  },
  {
   "cell_type": "code",
   "execution_count": null,
   "metadata": {},
   "outputs": [],
   "source": []
  }
 ],
 "metadata": {
  "kernelspec": {
   "display_name": "Python 3 (ipykernel)",
   "language": "python",
   "name": "python3"
  },
  "language_info": {
   "codemirror_mode": {
    "name": "ipython",
    "version": 3
   },
   "file_extension": ".py",
   "mimetype": "text/x-python",
   "name": "python",
   "nbconvert_exporter": "python",
   "pygments_lexer": "ipython3",
   "version": "3.8.16"
  }
 },
 "nbformat": 4,
 "nbformat_minor": 4
}
