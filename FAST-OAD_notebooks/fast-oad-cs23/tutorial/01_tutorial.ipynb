{
 "cells": [
  {
   "cell_type": "markdown",
   "metadata": {},
   "source": [
    "<div class=\"row\">\n",
    "  <div class=\"column\">\n",
    "    <img src=\"./img/logo-onera.png\" width=\"200\">\n",
    "  </div>\n",
    "  <div class=\"column\">\n",
    "    <img src=\"./img/logo-ISAE_SUPAERO.png\" width=\"200\">\n",
    "  </div>\n",
    "</div>"
   ]
  },
  {
   "cell_type": "markdown",
   "metadata": {},
   "source": [
    "# FAST-OAD-GA Tutorial"
   ]
  },
  {
   "cell_type": "markdown",
   "metadata": {},
   "source": [
    "FAST-OAD-GA is an add-on package for [FAST-OAD framework](https://github.com/fast-aircraft-design/FAST-OAD) for performing rapid Overall Aircraft Design in the category General Aviation (GA). The computational core of FAST-OAD being based on the  [OpenMDAO framework](https://openmdao.org/)."
   ]
  },
  {
   "cell_type": "code",
   "execution_count": 24,
   "metadata": {},
   "outputs": [],
   "source": [
    "import warnings\n",
    "\n",
    "warnings.filterwarnings(action=\"ignore\")"
   ]
  },
  {
   "cell_type": "markdown",
   "metadata": {},
   "source": [
    "## 1. Setting up and analyzing the initial problem"
   ]
  },
  {
   "cell_type": "markdown",
   "metadata": {},
   "source": [
    "To organize our work, we propose to use two user folders `data/` and `workdir/`. For instance, in `data/` we store a XML file which describes the Beechcraft Duchess. In `workdir/`, we store files generated or modified by FAST-OAD."
   ]
  },
  {
   "cell_type": "code",
   "execution_count": 28,
   "metadata": {},
   "outputs": [
    {
     "data": {
      "text/html": [
       "<style>.container { width:95% !important; }</style>"
      ],
      "text/plain": [
       "<IPython.core.display.HTML object>"
      ]
     },
     "metadata": {},
     "output_type": "display_data"
    }
   ],
   "source": [
    "import os.path as pth\n",
    "import os\n",
    "import openmdao.api as om\n",
    "from fastoad import api as api_cs25\n",
    "from fastga.command import api as api_cs23\n",
    "import logging\n",
    "from fastoad.gui import VariableViewer\n",
    "import shutil\n",
    "\n",
    "# Define relative path\n",
    "DATA_FOLDER_PATH = \"data\"\n",
    "WORK_FOLDER_PATH = \"workdir\"\n",
    "\n",
    "# Remove work folder\n",
    "shutil.rmtree(WORK_FOLDER_PATH, ignore_errors=True)\n",
    "\n",
    "# Define files\n",
    "CONFIGURATION_FILE = pth.join(WORK_FOLDER_PATH, \"oad_process.yml\")\n",
    "SOURCE_FILE = pth.join(DATA_FOLDER_PATH, \"beechcraft_76.xml\")\n",
    "\n",
    "# For having log messages on screen\n",
    "logging.basicConfig(level=logging.INFO, format=\"%(levelname)-8s: %(message)s\")\n",
    "\n",
    "# For using all screen width\n",
    "from IPython.core.display import display, HTML\n",
    "\n",
    "display(HTML(\"<style>.container { width:95% !important; }</style>\"))"
   ]
  },
  {
   "cell_type": "markdown",
   "metadata": {},
   "source": [
    "After defining a configuration file name, we can ask FAST-GA to generate a default configuration file based on the default OAD model implemented in the framework:"
   ]
  },
  {
   "cell_type": "code",
   "execution_count": 3,
   "metadata": {},
   "outputs": [
    {
     "name": "stderr",
     "output_type": "stream",
     "text": [
      "INFO    : Loading FAST-OAD plugin bundled\n",
      "INFO    : Loading bundles from fastoad.models\n",
      "INFO    : Installed bundle fastoad.models.performances.mission.openmdao.base (ID 21 )\n",
      "INFO    : Installed bundle fastoad.models.performances.mission.segments.registered.takeoff.takeoff (ID 44 )\n",
      "INFO    : Installed bundle fastoad.models.performances.mission.segments.macro_segments (ID 35 )\n",
      "INFO    : Installed bundle fastoad.models.performances.mission.mission (ID 23 )\n",
      "INFO    : Installed bundle fastoad.models.performances.mission.segments.registered.takeoff.end_of_takeoff (ID 45 )\n",
      "INFO    : Installed bundle fastoad.models.performances.mission.openmdao.link_mtow (ID 20 )\n",
      "INFO    : Installed bundle fastoad.models.performances.mission.segments.registered.altitude_change (ID 38 )\n",
      "INFO    : Installed bundle fastoad.models.performances.mission.openmdao.mission_run (ID 22 )\n",
      "INFO    : Installed bundle fastoad.models.performances.mission.openmdao.mission_wrapper (ID 17 )\n",
      "INFO    : Installed bundle fastoad.models.performances.mission.segments.registered.takeoff.rotation (ID 46 )\n",
      "INFO    : Installed bundle fastoad.models.performances.mission.openmdao.payload_range (ID 18 )\n",
      "INFO    : Installed bundle fastoad.models.performances.mission.segments.__init__ (ID 36 )\n",
      "INFO    : Installed bundle fastoad.models.performances.mission.mission_definition.resources.__init__ (ID 25 )\n",
      "INFO    : Installed bundle fastoad.models.performances.mission.segments.registered.__init__ (ID 48 )\n",
      "INFO    : Installed bundle fastoad.models.performances.__init__ (ID 10 )\n",
      "INFO    : Installed bundle fastoad.models.performances.mission.exceptions (ID 24 )\n",
      "INFO    : Installed bundle fastoad.models.performances.mission.polar (ID 11 )\n",
      "INFO    : Installed bundle fastoad.models.performances.mission.base (ID 34 )\n",
      "INFO    : Installed bundle fastoad.models.performances.mission.segments.time_step_base (ID 37 )\n",
      "INFO    : Installed bundle fastoad.models.performances.mission.mission_definition.schema (ID 33 )\n",
      "INFO    : Installed bundle fastoad.models.performances.mission.util (ID 13 )\n",
      "INFO    : Installed bundle fastoad.models.performances.mission.segments.registered.start (ID 49 )\n",
      "INFO    : Installed bundle fastoad.models.performances.mission.mission_definition.__init__ (ID 26 )\n",
      "INFO    : Installed bundle fastoad.models.performances.mission.segments.registered.mass_input (ID 50 )\n",
      "INFO    : Installed bundle fastoad.models.performances.mission.polar_modifier (ID 12 )\n",
      "INFO    : Installed bundle fastoad.models.performances.mission.segments.registered.ground_speed_change (ID 51 )\n",
      "INFO    : Installed bundle fastoad.models.performances.mission.__init__ (ID 14 )\n",
      "INFO    : Installed bundle fastoad.models.performances.mission.mission_definition.mission_builder.input_definition (ID 27 )\n",
      "INFO    : Installed bundle fastoad.models.performances.mission.routes (ID 53 )\n",
      "INFO    : Installed bundle fastoad.models.performances.mission.segments.registered.hold (ID 39 )\n",
      "INFO    : Installed bundle fastoad.models.performances.mission.mission_definition.mission_builder.constants (ID 28 )\n",
      "INFO    : Installed bundle fastoad.models.performances.mission.segments.base (ID 52 )\n",
      "INFO    : Installed bundle fastoad.models.performances.mission.mission_definition.mission_builder.structure_builders (ID 29 )\n",
      "INFO    : Installed bundle fastoad.models.__init__ (ID 54 )\n",
      "INFO    : Installed bundle fastoad.models.performances.mission.openmdao.mission (ID 19 )\n",
      "INFO    : Installed bundle fastoad.models.performances.mission.segments.registered.taxi (ID 40 )\n",
      "INFO    : Installed bundle fastoad.models.performances.mission.openmdao.resources.__init__ (ID 15 )\n",
      "INFO    : Installed bundle fastoad.models.performances.mission.mission_definition.mission_builder.__init__ (ID 30 )\n",
      "INFO    : Installed bundle fastoad.models.performances.mission.segments.registered.cruise (ID 41 )\n",
      "INFO    : Installed bundle fastoad.models.performances.mission.mission_definition.mission_builder.mission_builder (ID 31 )\n",
      "INFO    : Installed bundle fastoad.models.performances.mission.segments.registered.speed_change (ID 42 )\n",
      "INFO    : Installed bundle fastoad.models.performances.mission.mission_definition.exceptions (ID 32 )\n",
      "INFO    : Installed bundle fastoad.models.performances.mission.segments.registered.transition (ID 47 )\n",
      "INFO    : Installed bundle fastoad.models.performances.mission.segments.registered.takeoff.__init__ (ID 43 )\n",
      "INFO    : Installed bundle fastoad.models.performances.mission.openmdao.__init__ (ID 16 )\n",
      "INFO    : Loaded variable descriptions in fastoad.models\n",
      "INFO    : Loading FAST-OAD plugin cs23\n",
      "INFO    : Loading bundles from fastga.models\n",
      "INFO    : Loaded variable descriptions in fastga.models.weight.mass_breakdown\n",
      "INFO    : Loaded variable descriptions in fastga.models.weight.mass_breakdown\n",
      "INFO    : Loaded variable descriptions in fastga.models.weight.mass_breakdown\n",
      "INFO    : Loaded variable descriptions in fastga.models.weight.mass_breakdown\n",
      "INFO    : Loaded variable descriptions in fastga.models.weight.cg\n",
      "INFO    : Loaded variable descriptions in fastga.models.aerodynamics\n",
      "INFO    : Loaded variable descriptions in fastga.models.aerodynamics\n",
      "INFO    : Loaded variable descriptions in fastga.models.aerodynamics\n",
      "INFO    : Loaded variable descriptions in fastga.models.aerodynamics\n",
      "INFO    : Loaded variable descriptions in fastga.models.aerodynamics\n",
      "INFO    : Loaded variable descriptions in fastga.models.aerodynamics\n",
      "INFO    : Loaded variable descriptions in fastga.models.handling_qualities\n",
      "INFO    : Loaded variable descriptions in fastga.models.handling_qualities\n",
      "INFO    : Loaded variable descriptions in fastga.models.loops\n",
      "INFO    : Loaded variable descriptions in fastga.models.loops\n",
      "INFO    : Loaded variable descriptions in fastga.models.geometry\n",
      "INFO    : Loaded variable descriptions in fastga.models.geometry\n",
      "INFO    : Installed bundle fastga.models.geometry.geom_components.ht.__init__ (ID 391 )\n",
      "INFO    : Installed bundle fastga.models.geometry.geom_components.ht.components.compute_ht_mac (ID 392 )\n",
      "INFO    : Installed bundle fastga.models.weight.cg.cg_components.loadcase (ID 144 )\n",
      "INFO    : Installed bundle fastga.models.performances.mission_vector.mission.sizing_energy (ID 163 )\n",
      "INFO    : Installed bundle fastga.models.propulsion.fuel_propulsion.basicTurbo_prop_map.unitary_tests.__init__ (ID 197 )\n",
      "INFO    : Installed bundle fastga.models.geometry.geom_components.ht.components.compute_ht_efficiency (ID 393 )\n",
      "INFO    : Installed bundle fastga.models.weight.constants (ID 146 )\n",
      "INFO    : Installed bundle fastga.models.performances.mission_vector.mission.performance_per_phase (ID 168 )\n",
      "INFO    : Installed bundle fastga.models.aerodynamics.load_factor (ID 222 )\n",
      "INFO    : Installed bundle fastga.models.aerodynamics.aero_center (ID 304 )\n",
      "INFO    : Installed bundle fastga.models.geometry.geom_components.ht.components.compute_ht_distance (ID 394 )\n",
      "INFO    : Installed bundle fastga.models.weight.cg.cg_components.d_furniture.__init__ (ID 138 )\n",
      "INFO    : Installed bundle fastga.models.weight.cg.cg_components.max_cg_ratio (ID 145 )\n",
      "INFO    : Installed bundle fastga.models.aerodynamics.components.compute_effective_efficiency_prop (ID 262 )\n",
      "INFO    : Installed bundle fastga.models.geometry.geom_components.ht.components.compute_ht_volume_coefficient (ID 395 )\n",
      "INFO    : Installed bundle fastga.models.weight.cg.cg_components.a_airframe.a2_fuselage_cg (ID 131 )\n",
      "INFO    : Installed bundle fastga.models.weight.__init__ (ID 147 )\n",
      "INFO    : Installed bundle fastga.models.performances.mission_vector.mission.compute_time_step (ID 169 )\n",
      "INFO    : Installed bundle fastga.models.aerodynamics.components.vt.compute_cy_beta_vt (ID 236 )\n",
      "INFO    : Installed bundle fastga.models.loops.wing_area_component.wing_area_loop_geom_adv (ID 349 )\n",
      "INFO    : Installed bundle fastga.models.geometry.geom_components.ht.components.__init__ (ID 396 )\n",
      "INFO    : Installed bundle fastga.models.weight.weight (ID 148 )\n",
      "INFO    : Installed bundle fastga.models.performances.mission_vector.mission.mission_core (ID 164 )\n",
      "INFO    : Installed bundle fastga.models.performances.mission_vector.mission.reserve_energy (ID 170 )\n",
      "INFO    : Installed bundle fastga.models.options (ID 149 )\n",
      "INFO    : Installed bundle fastga.models.aerodynamics.__init__ (ID 228 )\n",
      "INFO    : Installed bundle fastga.models.aerodynamics.constants (ID 226 )\n",
      "INFO    : Installed bundle fastga.models.aerodynamics.external.openvsp.compute_aero (ID 306 )\n",
      "INFO    : Installed bundle fastga.models.geometry.geom_components.ht.components.compute_ht_chords (ID 397 )\n",
      "INFO    : Installed bundle fastga.models.aerodynamics.aerodynamics_low_speed (ID 227 )\n",
      "INFO    : Installed bundle fastga.models.aerodynamics.components.compute_vn (ID 231 )\n",
      "INFO    : Installed bundle fastga.models.geometry.geom_components.ht.components.compute_ht_wet_area (ID 398 )\n",
      "INFO    : Installed bundle fastga.models.performances.mission_vector.constants (ID 150 )\n",
      "INFO    : Installed bundle fastga.models.aerodynamics.external.openvsp.resources.__init__ (ID 307 )\n",
      "INFO    : Installed bundle fastga.models.geometry.geom_components.ht.components.compute_ht_sweep (ID 399 )\n",
      "INFO    : Installed bundle fastga.models.performances.mission_vector.mission.thrust_taxi (ID 172 )\n",
      "INFO    : Installed bundle fastga.models.performances.mission_vector.__init__ (ID 151 )\n",
      "INFO    : Installed bundle fastga.models.aerodynamics.external.openvsp.openvsp3201.__init__ (ID 310 )\n",
      "INFO    : Installed bundle fastga.models.geometry.geom_components.wing_tank.compute_mfw_simple (ID 402 )\n",
      "INFO    : Installed bundle fastga.models.performances.mission_vector.mission.update_mass (ID 173 )\n",
      "INFO    : Installed bundle fastga.models.aerodynamics.external.xfoil.xfoil_polar (ID 314 )\n",
      "INFO    : Installed bundle fastga.models.performances.mission_vector.initialization.initialize_horizontal_speed (ID 152 )\n",
      "INFO    : Installed bundle fastga.models.performances.mission_vector.mission.energy_consumption_preparation (ID 174 )\n",
      "INFO    : Installed bundle fastga.models.aerodynamics.external.openvsp.__init__ (ID 308 )\n",
      "INFO    : Installed bundle fastga.models.geometry.geom_components.wing_tank.__init__ (ID 401 )\n",
      "INFO    : Installed bundle fastga.models.aerodynamics.external.openvsp.openvsp (ID 309 )\n",
      "INFO    : Installed bundle fastga.models.load_analysis.wing.aerodynamic_loads (ID 329 )\n",
      "INFO    : Installed bundle fastga.models.performances.mission_vector.initialization.initialize_time_and_distance (ID 153 )\n",
      "INFO    : Installed bundle fastga.models.aerodynamics.components.compute_L_D_max (ID 232 )\n",
      "INFO    : Installed bundle fastga.models.aerodynamics.external.openvsp.compute_aero_slipstream (ID 311 )\n",
      "INFO    : Installed bundle fastga.models.load_analysis.wing.__init__ (ID 331 )\n",
      "INFO    : Installed bundle fastga.models.geometry.geom_components.wing_tank.compute_mfw_advanced (ID 403 )\n",
      "INFO    : Installed bundle fastga.models.aerodynamics.components.vt.compute_cl_roll_rate_vt (ID 235 )\n",
      "INFO    : Installed bundle fastga.models.aerodynamics.external.__init__ (ID 317 )\n",
      "INFO    : Installed bundle fastga.models.load_analysis.wing.loads (ID 328 )\n",
      "INFO    : Installed bundle fastga.models.weight.cg.cg_components.c_systems.c4_recording_systems_cg (ID 139 )\n",
      "INFO    : Installed bundle fastga.models.geometry.geom_components.wing.constants (ID 404 )\n",
      "INFO    : Installed bundle fastga.models.weight.cg.cg_components.c_systems.c3_navigation_systems_cg (ID 141 )\n",
      "INFO    : Installed bundle fastga.models.aerodynamics.components.compute_cy_rudder (ID 233 )\n",
      "INFO    : Installed bundle fastga.models.load_analysis.wing.structural_loads (ID 332 )\n",
      "INFO    : Installed bundle fastga.models.geometry.geom_components.wing.__init__ (ID 405 )\n",
      "INFO    : Installed bundle fastga.models.weight.cg.cg_components.c_systems.__init__ (ID 140 )\n",
      "INFO    : Installed bundle fastga.models.load_analysis.wing.constants (ID 330 )\n",
      "INFO    : Installed bundle fastga.models.weight.cg.cg_components.a_airframe.a3_tail_cg (ID 132 )\n",
      "INFO    : Installed bundle fastga.models.aerodynamics.components.vt.compute_cl_yaw_rate_vt (ID 239 )\n",
      "INFO    : Installed bundle fastga.models.aerodynamics.external.xfoil.resources.__init__ (ID 312 )\n",
      "INFO    : Installed bundle fastga.models.geometry.geom_components.wing.components.compute_wing_x_absolute (ID 406 )\n",
      "INFO    : Installed bundle fastga.models.weight.cg.cg_components.a_airframe.a4_flight_control_cg (ID 134 )\n",
      "INFO    : Installed bundle fastga.models.weight.cg.cg_components.c_systems.c2_life_support_systems_cg (ID 142 )\n",
      "INFO    : Installed bundle fastga.models.performances.mission_vector.mission.__init__ (ID 165 )\n",
      "INFO    : Installed bundle fastga.models.aerodynamics.aerodynamics_high_speed (ID 229 )\n",
      "INFO    : Installed bundle fastga.models.aerodynamics.components.vt.compute_cl_alpha_vt (ID 234 )\n",
      "INFO    : Installed bundle fastga.models.load_analysis.wing.aerostructural_loads (ID 333 )\n",
      "INFO    : Installed bundle fastga.models.geometry.geom_components.wing.components.compute_wing_mac (ID 407 )\n",
      "INFO    : Installed bundle fastga.models.weight.cg.cg_components.a_airframe.__init__ (ID 133 )\n",
      "INFO    : Installed bundle fastga.models.weight.cg.cg_components.c_systems.c1_power_systems_cg (ID 143 )\n",
      "INFO    : Installed bundle fastga.models.aerodynamics.external.xfoil.__init__ (ID 313 )\n",
      "INFO    : Installed bundle fastga.models.geometry.geom_components.wing.components.compute_wing_l2_l3 (ID 408 )\n",
      "INFO    : Installed bundle fastga.models.geometry.geom_components.wing.components.compute_wing_x (ID 409 )\n",
      "INFO    : Installed bundle fastga.models.aerodynamics.components.vt.__init__ (ID 237 )\n",
      "INFO    : Installed bundle fastga.models.weight.cg.cg_components.a_airframe.a5_landing_gear_cg (ID 135 )\n",
      "INFO    : Installed bundle fastga.models.performances.mission_vector.mission.dep_equilibrium (ID 167 )\n",
      "INFO    : Installed bundle fastga.models.geometry.geom_components.wing.components.__init__ (ID 410 )\n",
      "INFO    : Installed bundle fastga.models.aerodynamics.components.vt.compute_cl_beta_vt (ID 238 )\n",
      "INFO    : Installed bundle fastga.models.propulsion.fuel_propulsion.basicIC_engine.exceptions (ID 210 )\n",
      "INFO    : Installed bundle fastga.models.geometry.geom_components.wing.components.compute_wing_y (ID 411 )\n",
      "INFO    : Installed bundle fastga.models.weight.cg.cg_components.a_airframe.a1_wing_cg (ID 136 )\n",
      "INFO    : Installed bundle fastga.models.aerodynamics.external.xfoil.xfoil699.__init__ (ID 315 )\n",
      "INFO    : Installed bundle fastga.models.geometry.geom_components.wing.components.compute_wing_wet_area (ID 412 )\n",
      "INFO    : Installed bundle fastga.models.weight.cg.cg_components.d_furniture.d2_passenger_seats_cg (ID 137 )\n",
      "INFO    : Installed bundle fastga.models.propulsion.fuel_propulsion.basicIC_engine.openmdao (ID 209 )\n",
      "INFO    : Installed bundle fastga.models.geometry.geom_components.wing.components.compute_wing_l1_l4 (ID 413 )\n",
      "INFO    : Installed bundle fastga.models.geometry.geom_components.wing.components.compute_wing_z (ID 414 )\n",
      "INFO    : Installed bundle fastga.models.weight.mass_breakdown.a_airframe.wing_components.__init__ (ID 74 )\n",
      "INFO    : Installed bundle fastga.models.weight.cg.cg_components.ratio_aft (ID 124 )\n",
      "INFO    : Installed bundle fastga.models.aerodynamics.components.vt.compute_cn_roll_rate_vt (ID 242 )\n",
      "INFO    : Installed bundle fastga.models.loops.wing_area_component.wing_area_cl_equilibrium (ID 346 )\n",
      "INFO    : Installed bundle fastga.models.geometry.geom_components.wing.components.compute_wing_toc (ID 415 )\n",
      "INFO    : Installed bundle fastga.models.weight.mass_breakdown.a_airframe.wing_components.compute_upper_flange (ID 75 )\n",
      "INFO    : Installed bundle fastga.models.performances.unitary_tests.dummy_engines (ID 180 )\n",
      "INFO    : Installed bundle fastga.models.geometry.geom_components.nacelle.compute_nacelle_dimension (ID 382 )\n",
      "INFO    : Installed bundle fastga.models.geometry.geom_components.wing.components.compute_wing_b50 (ID 416 )\n",
      "INFO    : Installed bundle fastga.models.performances.mission_vector.initialization.__init__ (ID 156 )\n",
      "INFO    : Installed bundle fastga.models.geometry.geom_components.wing.components.compute_wing_sweep (ID 417 )\n",
      "INFO    : Installed bundle fastga.models.weight.mass_breakdown.constants (ID 58 )\n",
      "INFO    : Installed bundle fastga.models.aerodynamics.unitary_tests.__init__ (ID 223 )\n",
      "INFO    : Installed bundle fastga.models.loops.wing_area_component.update_wing_area (ID 347 )\n",
      "INFO    : Installed bundle fastga.models.geometry.geom_components.fuselage.components.compute_fuselage_volume (ID 378 )\n",
      "INFO    : Installed bundle fastga.models.geometry.__init__ (ID 419 )\n",
      "INFO    : Installed bundle fastga.models.weight.mass_breakdown.a_airframe.wing_components.compute_skin_mass (ID 76 )\n",
      "INFO    : Installed bundle fastga.models.performances.mission.resources.__init__ (ID 182 )\n",
      "INFO    : Installed bundle fastga.models.geometry.geom_components.fuselage.__init__ (ID 373 )\n",
      "INFO    : Installed bundle fastga.models.geometry.geom_components.wing.compute_wing (ID 418 )\n",
      "INFO    : Installed bundle fastga.models.performances.mission.__init__ (ID 184 )\n",
      "INFO    : Installed bundle fastga.models.aerodynamics.components.vt.compute_cn_yaw_rate_vt (ID 240 )\n",
      "INFO    : Installed bundle fastga.models.geometry.geom_components.nacelle.compute_nacelle_position (ID 380 )\n",
      "INFO    : Installed bundle fastga.models.geometry.geometry (ID 420 )\n",
      "INFO    : Installed bundle fastga.models.weight.mass_breakdown.__init__ (ID 60 )\n",
      "INFO    : Installed bundle fastga.models.weight.mass_breakdown.a_airframe.wing_components.update_wing_mass (ID 77 )\n",
      "INFO    : Installed bundle fastga.models.performances.mission.takeoff (ID 185 )\n",
      "INFO    : Installed bundle fastga.models.loops.wing_area_component.__init__ (ID 348 )\n",
      "INFO    : Installed bundle fastga.models.geometry.profiles.profile (ID 421 )\n",
      "INFO    : Installed bundle fastga.models.weight.mass_breakdown.b_propulsion.b1_2_oil_weight (ID 62 )\n",
      "INFO    : Installed bundle fastga.models.aerodynamics.components.cd0 (ID 244 )\n",
      "INFO    : Installed bundle fastga.models.geometry.geom_components.fuselage.components.compute_fuselage_wet_area (ID 374 )\n",
      "INFO    : Installed bundle fastga.models.geometry.profiles.__init__ (ID 422 )\n",
      "INFO    : Installed bundle fastga.models.weight.mass_breakdown.a_airframe.wing_components.compute_misc_mass (ID 79 )\n",
      "INFO    : Installed bundle fastga.models.geometry.geom_components.fuselage.components.compute_fuselage_depth (ID 375 )\n",
      "INFO    : Installed bundle fastga.models.geometry.profiles.get_profile (ID 423 )\n",
      "INFO    : Installed bundle fastga.models.performances.mission_vector.initialization.initialize (ID 155 )\n",
      "INFO    : Installed bundle fastga.models.performances.mission.mission_builder_prep (ID 186 )\n",
      "INFO    : Installed bundle fastga.models.aerodynamics.components.vt.compute_cn_beta_vt (ID 241 )\n",
      "INFO    : Installed bundle fastga.models.geometry.geom_components.fuselage.components.compute_fuselage_dimensions (ID 376 )\n",
      "INFO    : Installed bundle fastga.models.weight.mass_breakdown.unitary_tests.dummy_engines (ID 57 )\n",
      "INFO    : Installed bundle fastga.models.weight.mass_breakdown.a_airframe.wing_components.compute_primary_mass (ID 78 )\n",
      "INFO    : Installed bundle fastga.models.performances.mission.mission (ID 188 )\n",
      "INFO    : Installed bundle fastga.models.aerodynamics.components.compute_equilibrated_polar (ID 254 )\n",
      "INFO    : Installed bundle fastga.models.aerodynamics.components.resources.__init__ (ID 260 )\n",
      "INFO    : Installed bundle fastga.models.weight.mass_breakdown.a_airframe.wing_components.compute_web_mass (ID 80 )\n",
      "INFO    : Installed bundle fastga.models.performances.mission.dynamic_equilibrium (ID 187 )\n",
      "INFO    : Installed bundle fastga.models.geometry.geom_components.fuselage.components.__init__ (ID 377 )\n",
      "INFO    : Installed bundle fastga.models.weight.mass_breakdown.payload (ID 69 )\n",
      "INFO    : Installed bundle fastga.models.propulsion.propulsion (ID 195 )\n",
      "INFO    : Installed bundle fastga.models.geometry.geom_components.fuselage.constants (ID 372 )\n",
      "INFO    : Installed bundle fastga.models.weight.mass_breakdown.update_mlw_and_mzfw (ID 59 )\n",
      "INFO    : Installed bundle fastga.models.weight.mass_breakdown.a_airframe.a1_wing_weight_analytical (ID 82 )\n",
      "INFO    : Installed bundle fastga.models.aerodynamics.components.compute_cn_roll_rate (ID 243 )\n",
      "INFO    : Installed bundle fastga.models.geometry.geom_components.compute_total_area (ID 379 )\n",
      "INFO    : Installed bundle fastga.models.weight.mass_breakdown.b_propulsion.b1_engine_weight (ID 64 )\n",
      "INFO    : Installed bundle fastga.models.aerodynamics.components.fuselage.compute_cn_beta_fuselage (ID 248 )\n",
      "INFO    : Installed bundle fastga.models.weight.mass_breakdown.mass_breakdown (ID 61 )\n",
      "INFO    : Installed bundle fastga.models.weight.mass_breakdown.a_airframe.a3_tail_weight (ID 83 )\n",
      "INFO    : Installed bundle fastga.models.performances.mission.mission_components.taxi (ID 189 )\n",
      "INFO    : Installed bundle fastga.models.weight.mass_breakdown.b_propulsion.constants (ID 63 )\n",
      "INFO    : Installed bundle fastga.models.handling_qualities.unitary_tests.dummy_engines (ID 336 )\n",
      "INFO    : Installed bundle fastga.models.geometry.geom_components.nacelle.__init__ (ID 381 )\n",
      "INFO    : Installed bundle fastga.models.performances.mission_vector.initialization.initialize_altitude (ID 154 )\n",
      "INFO    : Installed bundle fastga.models.performances.mission.mission_components.cruise (ID 190 )\n",
      "INFO    : Installed bundle fastga.models.aerodynamics.components.compute_cl_rudder (ID 245 )\n",
      "INFO    : Installed bundle fastga.models.handling_qualities.tail_sizing.constants (ID 338 )\n",
      "INFO    : Installed bundle fastga.models.weight.mass_breakdown.b_propulsion.b3_unusable_fuel_weight (ID 68 )\n",
      "INFO    : Installed bundle fastga.models.weight.cg.cg_components.b_propulsion.__init__ (ID 125 )\n",
      "INFO    : Installed bundle fastga.models.performances.mission.mission_components.climb (ID 191 )\n",
      "INFO    : Installed bundle fastga.models.aerodynamics.components.compute_cl_aileron (ID 258 )\n",
      "INFO    : Installed bundle fastga.models.handling_qualities.tail_sizing.compute_to_rotation_limit (ID 340 )\n",
      "INFO    : Installed bundle fastga.models.geometry.geom_components.__init__ (ID 383 )\n",
      "INFO    : Installed bundle fastga.models.weight.mass_breakdown.b_propulsion.b2_fuel_lines_weight (ID 65 )\n",
      "INFO    : Installed bundle fastga.models.performances.mission.mission_components.__init__ (ID 192 )\n",
      "INFO    : Installed bundle fastga.models.aerodynamics.components.compute_cl_alpha_dot (ID 246 )\n",
      "INFO    : Installed bundle fastga.models.aerodynamics.components.fuselage.compute_cm_alpha_fus (ID 251 )\n",
      "INFO    : Installed bundle fastga.models.handling_qualities.tail_sizing.__init__ (ID 339 )\n",
      "INFO    : Installed bundle fastga.models.weight.mass_breakdown.a_airframe.wing_components.compute_ribs_mass (ID 73 )\n",
      "INFO    : Installed bundle fastga.models.aerodynamics.components.compute_cn_yaw_rate (ID 247 )\n",
      "INFO    : Installed bundle fastga.models.weight.mass_breakdown.a_airframe.constants (ID 84 )\n",
      "INFO    : Installed bundle fastga.models.weight.cg.cg_components.b_propulsion.b_cg (ID 126 )\n",
      "INFO    : Installed bundle fastga.models.performances.mission.mission_components.reserve (ID 193 )\n",
      "INFO    : Installed bundle fastga.models.aerodynamics.components.compute_cl_pitch_rate (ID 261 )\n",
      "INFO    : Installed bundle fastga.models.geometry.geom_components.propeller.constants (ID 384 )\n",
      "INFO    : Installed bundle fastga.models.weight.mass_breakdown.b_propulsion.__init__ (ID 66 )\n",
      "INFO    : Installed bundle fastga.models.weight.mass_breakdown.a_airframe.a2_fuselage_weight (ID 86 )\n",
      "INFO    : Installed bundle fastga.models.weight.cg.cg_components.b_propulsion.b1_engine_cg (ID 127 )\n",
      "INFO    : Installed bundle fastga.models.aerodynamics.components.fuselage.compute_cy_beta_fuselage (ID 250 )\n",
      "INFO    : Installed bundle fastga.models.geometry.geom_components.propeller.compute_propeller (ID 389 )\n",
      "INFO    : Installed bundle fastga.models.weight.mass_breakdown.a_airframe.wing_components.compute_secondary_mass (ID 71 )\n",
      "INFO    : Installed bundle fastga.models.weight.cg.cg_components.b_propulsion.b2_fuel_lines_cg (ID 128 )\n",
      "INFO    : Installed bundle fastga.models.performances.mission.mission_components.descent (ID 194 )\n",
      "INFO    : Installed bundle fastga.models.aerodynamics.components.cd0_ht (ID 257 )\n",
      "INFO    : Installed bundle fastga.models.handling_qualities.tail_sizing.update_tail_areas (ID 341 )\n",
      "INFO    : Installed bundle fastga.models.geometry.geom_components.propeller.__init__ (ID 385 )\n",
      "INFO    : Installed bundle fastga.models.weight.mass_breakdown.a_airframe.wing_components.compute_lower_flange (ID 72 )\n",
      "INFO    : Installed bundle fastga.models.aerodynamics.components.__init__ (ID 264 )\n",
      "INFO    : Installed bundle fastga.models.handling_qualities.__init__ (ID 337 )\n",
      "INFO    : Installed bundle fastga.models.weight.mass_breakdown.a_airframe.__init__ (ID 85 )\n",
      "INFO    : Installed bundle fastga.models.weight.cg.cg_components.b_propulsion.b3_tank_cg (ID 129 )\n",
      "INFO    : Installed bundle fastga.models.aerodynamics.components.fuselage.__init__ (ID 249 )\n",
      "INFO    : Installed bundle fastga.models.handling_qualities.tail_sizing.compute_balked_landing_limit (ID 342 )\n",
      "INFO    : Installed bundle fastga.models.aerodynamics.components.cd0_nacelle (ID 263 )\n",
      "INFO    : Installed bundle fastga.models.geometry.geom_components.propeller.components.compute_propeller_position (ID 386 )\n",
      "INFO    : Installed bundle fastga.models.weight.mass_breakdown.b_propulsion.sum (ID 67 )\n",
      "INFO    : Installed bundle fastga.models.propulsion.fuel_propulsion.basicTurbo_prop_map.unitary_tests.test_basicTP_engine_mapped (ID 196 )\n",
      "INFO    : Installed bundle fastga.models.geometry.geom_components.propeller.components.__init__ (ID 387 )\n",
      "INFO    : Installed bundle fastga.models.weight.mass_breakdown.a_airframe.a7_paint_weight (ID 87 )\n",
      "INFO    : Installed bundle fastga.models.weight.cg.cg_components.payload (ID 130 )\n",
      "INFO    : Installed bundle fastga.models.handling_qualities.tail_sizing.update_vt_area (ID 343 )\n",
      "INFO    : Installed bundle fastga.models.aerodynamics.components.cd0_other (ID 265 )\n",
      "INFO    : Installed bundle fastga.models.geometry.geom_components.propeller.components.compute_propeller_installation_effect (ID 388 )\n",
      "INFO    : Installed bundle fastga.models.weight.mass_breakdown.a_airframe.a4_flight_control_weight (ID 81 )\n",
      "INFO    : Installed bundle fastga.models.weight.mass_breakdown.a_airframe.fuselage_components.compute_insulation_mass (ID 88 )\n",
      "INFO    : Installed bundle fastga.models.aerodynamics.components.compute_reynolds (ID 252 )\n",
      "INFO    : Installed bundle fastga.models.aerodynamics.components.compute_non_equilibrated_polar (ID 259 )\n",
      "INFO    : Installed bundle fastga.models.handling_qualities.tail_sizing.update_ht_area (ID 344 )\n",
      "INFO    : Installed bundle fastga.models.geometry.geom_components.ht.constants (ID 390 )\n",
      "INFO    : Installed bundle fastga.models.handling_qualities.compute_static_margin (ID 345 )\n",
      "INFO    : Installed bundle fastga.models.weight.mass_breakdown.a_airframe.a1_wing_weight (ID 70 )\n",
      "INFO    : Installed bundle fastga.models.weight.mass_breakdown.a_airframe.fuselage_components.compute_doors_mass (ID 89 )\n",
      "INFO    : Installed bundle fastga.models.geometry.geom_components.ht.compute_horizontal_tail (ID 400 )\n",
      "INFO    : Installed bundle fastga.models.performances.mission_vector.mission_vector (ID 175 )\n",
      "INFO    : Installed bundle fastga.models.propulsion.fuel_propulsion.basicTurbo_prop_map.openmdao (ID 199 )\n",
      "INFO    : Installed bundle fastga.models.aerodynamics.components.high_lift_aero (ID 266 )\n",
      "INFO    : Installed bundle fastga.models.aerodynamics.components.compute_cm_pitch_rate (ID 285 )\n",
      "INFO    : Installed bundle fastga.models.weight.cg.cg (ID 116 )\n",
      "INFO    : Installed bundle fastga.models.propulsion.fuel_propulsion.basicTurbo_prop_map.exceptions (ID 200 )\n",
      "INFO    : Installed bundle fastga.models.performances.mission.constants (ID 183 )\n",
      "INFO    : Installed bundle fastga.models.propulsion.fuel_propulsion.basicTurbo_prop_map.basicTP_engine_mapped (ID 201 )\n",
      "INFO    : Installed bundle fastga.models.aerodynamics.components.compute_cn_beta (ID 286 )\n",
      "INFO    : Installed bundle fastga.models.weight.cg.unitary_tests.__init__ (ID 117 )\n",
      "INFO    : Installed bundle fastga.models.performances.mission_vector.full_mission (ID 176 )\n",
      "INFO    : Installed bundle fastga.models.propulsion.fuel_propulsion.basicTurbo_prop_map.basicTP_engine_constructor (ID 202 )\n",
      "INFO    : Installed bundle fastga.models.aerodynamics.components.cd0_fuselage (ID 253 )\n",
      "INFO    : Installed bundle fastga.models.aerodynamics.components.hinge_moments_elevator (ID 267 )\n",
      "INFO    : Installed bundle fastga.models.performances.mission_vector.mission.propulsion_via_id (ID 166 )\n",
      "INFO    : Installed bundle fastga.models.aerodynamics.components.elevator_aero (ID 287 )\n",
      "INFO    : Installed bundle fastga.models.propulsion.fuel_propulsion.basicTurbo_prop_map.__init__ (ID 198 )\n",
      "INFO    : Installed bundle fastga.models.propulsion.fuel_propulsion.base (ID 218 )\n",
      "INFO    : Installed bundle fastga.models.aerodynamics.unitary_tests.dummy_engines (ID 224 )\n",
      "INFO    : Installed bundle fastga.models.aerodynamics.components.compute_cn_aileron (ID 268 )\n",
      "INFO    : Installed bundle fastga.models.aerodynamics.components.cd0_lg (ID 269 )\n",
      "INFO    : Installed bundle fastga.models.aerodynamics.components.compute_cy_beta (ID 288 )\n",
      "INFO    : Installed bundle fastga.models.propulsion.fuel_propulsion.__init__ (ID 203 )\n",
      "INFO    : Installed bundle fastga.models.propulsion.fuel_propulsion.basicTurbo_prop.unitary_tests.test_basicTP_engine (ID 211 )\n",
      "INFO    : Installed bundle fastga.models.propulsion.fuel_propulsion.basicTurbo_prop.unitary_tests.__init__ (ID 212 )\n",
      "INFO    : Installed bundle fastga.models.aerodynamics.components.compute_cl_beta (ID 289 )\n",
      "INFO    : Installed bundle fastga.models.weight.cg.unitary_tests.dummy_engines (ID 118 )\n",
      "INFO    : Installed bundle fastga.models.propulsion.fuel_propulsion.basicIC_engine.unitary_tests.__init__ (ID 204 )\n",
      "INFO    : Installed bundle fastga.models.propulsion.fuel_propulsion.basicTurbo_prop.__init__ (ID 214 )\n",
      "INFO    : Installed bundle fastga.models.aerodynamics.components.compute_cl_extreme (ID 270 )\n",
      "INFO    : Installed bundle fastga.models.weight.cg.__init__ (ID 119 )\n",
      "INFO    : Installed bundle fastga.models.propulsion.fuel_propulsion.basicIC_engine.basicIC_engine (ID 206 )\n",
      "INFO    : Installed bundle fastga.models.aerodynamics.components.compute_cl_yaw_rate (ID 290 )\n",
      "INFO    : Installed bundle fastga.models.propulsion.fuel_propulsion.basicIC_engine.resources.__init__ (ID 207 )\n",
      "INFO    : Installed bundle fastga.models.propulsion.fuel_propulsion.basicTurbo_prop.openmdao (ID 215 )\n",
      "INFO    : Installed bundle fastga.models.aerodynamics.components.compute_cy_yaw_rate (ID 271 )\n",
      "INFO    : Installed bundle fastga.models.aerodynamics.components.wing.compute_cm_pitch_rate_wing (ID 292 )\n",
      "INFO    : Installed bundle fastga.models.aerodynamics.compute_polar (ID 305 )\n",
      "INFO    : Installed bundle fastga.models.performances.mission_vector.mission.no_dep_effect (ID 171 )\n",
      "INFO    : Installed bundle fastga.models.propulsion.fuel_propulsion.basicIC_engine.__init__ (ID 208 )\n",
      "INFO    : Installed bundle fastga.models.propulsion.fuel_propulsion.basicTurbo_prop.exceptions (ID 216 )\n",
      "INFO    : Installed bundle fastga.models.aerodynamics.aerodynamics_stability_derivatives (ID 230 )\n",
      "INFO    : Installed bundle fastga.models.aerodynamics.components.compute_cl_extreme_htp (ID 291 )\n",
      "INFO    : Installed bundle fastga.models.weight.mass_breakdown.d_furniture.d2_passenger_seats_weight (ID 105 )\n",
      "INFO    : Installed bundle fastga.models.weight.cg.cg_components.constants (ID 122 )\n",
      "INFO    : Installed bundle fastga.models.performances.payload_range.__init__ (ID 177 )\n",
      "INFO    : Installed bundle fastga.models.propulsion.fuel_propulsion.basicTurbo_prop.basicTP_engine (ID 217 )\n",
      "INFO    : Installed bundle fastga.models.aerodynamics.aerodynamics (ID 225 )\n",
      "INFO    : Installed bundle fastga.models.aerodynamics.components.compute_cy_roll_rate (ID 272 )\n",
      "INFO    : Installed bundle fastga.models.weight.mass_breakdown.a_airframe.sum (ID 103 )\n",
      "INFO    : Installed bundle fastga.models.weight.cg.cg_variation (ID 120 )\n",
      "INFO    : Installed bundle fastga.models.propulsion.__init__ (ID 219 )\n",
      "INFO    : Installed bundle fastga.models.aerodynamics.components.airfoil_lift_curve_slope (ID 255 )\n",
      "INFO    : Installed bundle fastga.models.aerodynamics.components.wing.compute_cl_beta_wing (ID 293 )\n",
      "INFO    : Installed bundle fastga.models.propulsion.dict (ID 220 )\n",
      "INFO    : Installed bundle fastga.models.aerodynamics.components.figure_digitization (ID 273 )\n",
      "INFO    : Installed bundle fastga.models.performances.payload_range.payload_range (ID 178 )\n",
      "INFO    : Installed bundle fastga.models.__init__ (ID 221 )\n",
      "INFO    : Installed bundle fastga.models.aerodynamics.components.compute_cm_alpha_dot (ID 256 )\n",
      "INFO    : Installed bundle fastga.models.aerodynamics.components.wing.compute_cy_beta_wing (ID 294 )\n",
      "INFO    : Installed bundle fastga.models.aerodynamics.components.cd0_total (ID 274 )\n",
      "INFO    : Installed bundle fastga.models.aerodynamics.components.wing.compute_cl_yaw_rate_wing (ID 295 )\n",
      "INFO    : Installed bundle fastga.models.weight.mass_breakdown.d_furniture.constants (ID 106 )\n",
      "INFO    : Installed bundle fastga.models.performances.__init__ (ID 181 )\n",
      "INFO    : Installed bundle fastga.models.aerodynamics.components.cd0_wing (ID 276 )\n",
      "INFO    : Installed bundle fastga.models.aerodynamics.components.wing.compute_cn_roll_rate_wing (ID 297 )\n",
      "INFO    : Installed bundle fastga.models.aerodynamics.components.compute_cn_rudder (ID 275 )\n",
      "INFO    : Installed bundle fastga.models.handling_qualities.handling_qualities (ID 334 )\n",
      "INFO    : Installed bundle fastga.models.weight.mass_breakdown.d_furniture.__init__ (ID 107 )\n",
      "INFO    : Installed bundle fastga.models.weight.cg.cg_components.__init__ (ID 123 )\n",
      "INFO    : Installed bundle fastga.models.aerodynamics.components.wing.__init__ (ID 296 )\n",
      "INFO    : Installed bundle fastga.models.aerodynamics.components.compute_cl_extreme_wing (ID 277 )\n",
      "INFO    : Installed bundle fastga.models.aerodynamics.components.ht.compute_cm_pitch_rate_ht (ID 279 )\n",
      "INFO    : Installed bundle fastga.models.aerodynamics.components.wing.compute_cn_yaw_rate_wing (ID 298 )\n",
      "INFO    : Installed bundle fastga.models.weight.mass_breakdown.d_furniture.sum (ID 108 )\n",
      "INFO    : Installed bundle fastga.models.weight.cg.cg_components.global_cg (ID 121 )\n",
      "INFO    : Installed bundle fastga.models.aerodynamics.components.wing.compute_cl_pitch_rate_wing (ID 299 )\n",
      "INFO    : Installed bundle fastga.models.handling_qualities.unitary_tests.__init__ (ID 335 )\n",
      "INFO    : Installed bundle fastga.models.aerodynamics.components.mach_interpolation (ID 278 )\n",
      "INFO    : Installed bundle fastga.models.aerodynamics.components.wing.compute_cl_roll_rate_wing (ID 300 )\n",
      "INFO    : Installed bundle fastga.models.performances.unitary_tests.__init__ (ID 179 )\n",
      "INFO    : Installed bundle fastga.models.weight.mass_breakdown.c_systems.constants (ID 109 )\n",
      "INFO    : Installed bundle fastga.models.weight.mass_breakdown.unitary_tests.__init__ (ID 56 )\n",
      "INFO    : Installed bundle fastga.models.weight.mass_breakdown.c_systems.c2_life_support_systems_weight (ID 111 )\n",
      "INFO    : Installed bundle fastga.models.aerodynamics.components.compute_cl_roll_rate (ID 301 )\n",
      "INFO    : Installed bundle fastga.models.weight.mass_breakdown.c_systems.__init__ (ID 110 )\n",
      "INFO    : Installed bundle fastga.models.propulsion.fuel_propulsion.basicIC_engine.unitary_tests.test_basicIC_engine (ID 205 )\n",
      "INFO    : Installed bundle fastga.models.aerodynamics.components.ht.compute_cl_beta_ht (ID 280 )\n",
      "INFO    : Installed bundle fastga.models.aerodynamics.components.ht.compute_cl_pitch_rate_ht (ID 282 )\n",
      "INFO    : Installed bundle fastga.models.aerodynamics.components.cd0_vt (ID 302 )\n",
      "INFO    : Installed bundle fastga.models.weight.mass_breakdown.c_systems.c4_recording_systems_weight (ID 112 )\n",
      "INFO    : Installed bundle fastga.models.propulsion.fuel_propulsion.basicTurbo_prop.resources.__init__ (ID 213 )\n",
      "INFO    : Installed bundle fastga.models.aerodynamics.components.ht.__init__ (ID 281 )\n",
      "INFO    : Installed bundle fastga.models.weight.mass_breakdown.update_mtow (ID 55 )\n",
      "INFO    : Installed bundle fastga.models.weight.mass_breakdown.c_systems.c1_power_systems_weight (ID 113 )\n",
      "INFO    : Installed bundle fastga.models.weight.mass_breakdown.c_systems.c3_avionics_systems_weight (ID 115 )\n",
      "INFO    : Installed bundle fastga.models.aerodynamics.components.ht.compute_cl_roll_rate_ht (ID 284 )\n",
      "INFO    : Installed bundle fastga.models.aerodynamics.airfoil_folder.__init__ (ID 303 )\n",
      "INFO    : Installed bundle fastga.models.weight.mass_breakdown.c_systems.sum (ID 114 )\n",
      "INFO    : Installed bundle fastga.models.aerodynamics.components.ht.downwash_gradient (ID 283 )\n",
      "INFO    : Installed bundle fastga.models.weight.mass_breakdown.a_airframe.fuselage_components.compute_cone_mass (ID 90 )\n",
      "INFO    : Installed bundle fastga.models.aerodynamics.external.xfoil.xfoil_group (ID 316 )\n",
      "INFO    : Installed bundle fastga.models.geometry.geom_components.fuselage.compute_fuselage (ID 371 )\n",
      "INFO    : Installed bundle fastga.models.weight.mass_breakdown.a_airframe.fuselage_components.compute_nlg_hatch_mass (ID 92 )\n",
      "INFO    : Installed bundle fastga.models.geometry.geom_components.vt.constants (ID 361 )\n",
      "INFO    : Installed bundle fastga.models.geometry.geom_components.vt.compute_vertical_tail (ID 360 )\n",
      "INFO    : Installed bundle fastga.models.weight.mass_breakdown.a_airframe.fuselage_components.compute_engine_support_mass (ID 91 )\n",
      "INFO    : Installed bundle fastga.models.aerodynamics.external.vlm.__init__ (ID 319 )\n",
      "INFO    : Installed bundle fastga.models.loops.wing_area_component.wing_area_loop_cl_simple (ID 350 )\n",
      "INFO    : Installed bundle fastga.models.geometry.geom_components.vt.components.compute_vt_mac (ID 363 )\n",
      "INFO    : Installed bundle fastga.models.weight.mass_breakdown.a_airframe.fuselage_components.compute_additional_bending_material_mass_v (ID 93 )\n",
      "INFO    : Installed bundle fastga.models.aerodynamics.external.vlm.compute_aero (ID 318 )\n",
      "INFO    : Installed bundle fastga.models.aerodynamics.external.vlm.vlm (ID 320 )\n",
      "INFO    : Installed bundle fastga.models.geometry.geom_components.vt.__init__ (ID 362 )\n",
      "INFO    : Installed bundle fastga.models.weight.mass_breakdown.a_airframe.fuselage_components.__init__ (ID 94 )\n",
      "INFO    : Installed bundle fastga.models.geometry.geom_components.vt.components.__init__ (ID 364 )\n",
      "INFO    : Installed bundle fastga.models.aerodynamics.external.propeller_code.propeller_core (ID 322 )\n",
      "INFO    : Installed bundle fastga.models.geometry.geom_components.vt.components.compute_vt_distance (ID 365 )\n",
      "INFO    : Installed bundle fastga.models.weight.mass_breakdown.a_airframe.fuselage_components.compute_windows_mass (ID 95 )\n",
      "INFO    : Installed bundle fastga.models.loops.wing_area_component.wing_area_loop_geom_simple (ID 351 )\n",
      "INFO    : Installed bundle fastga.models.weight.mass_breakdown.a_airframe.fuselage_components.compute_wing_fuselage_connection_mass (ID 96 )\n",
      "INFO    : Installed bundle fastga.models.loops.update_wing_area_group (ID 353 )\n",
      "INFO    : Installed bundle fastga.models.geometry.geom_components.vt.components.compute_vt_chords (ID 367 )\n",
      "INFO    : Installed bundle fastga.models.aerodynamics.external.propeller_code.__init__ (ID 321 )\n",
      "INFO    : Installed bundle fastga.models.loops.constants (ID 354 )\n",
      "INFO    : Installed bundle fastga.models.loops.__init__ (ID 355 )\n",
      "INFO    : Installed bundle fastga.models.geometry.geom_components.vt.components.compute_vt_wet_area (ID 366 )\n",
      "INFO    : Installed bundle fastga.models.weight.mass_breakdown.a_airframe.fuselage_components.compute_additional_bending_material_mass_h (ID 97 )\n",
      "INFO    : Installed bundle fastga.models.aerodynamics.external.propeller_code.compute_propeller_coefficient_map (ID 323 )\n",
      "INFO    : Installed bundle fastga.models.loops.update_wing_position (ID 356 )\n",
      "INFO    : Installed bundle fastga.models.weight.mass_breakdown.a_airframe.fuselage_components.compute_floor_mass (ID 98 )\n",
      "INFO    : Installed bundle fastga.models.geometry.geom_components.vt.components.compute_vt_sweep (ID 368 )\n",
      "INFO    : Installed bundle fastga.models.geometry.unitary_tests.__init__ (ID 357 )\n",
      "INFO    : Installed bundle fastga.models.weight.mass_breakdown.a_airframe.fuselage_components.compute_bulkhead_mass (ID 99 )\n",
      "INFO    : Installed bundle fastga.models.geometry.geom_components.landing_gears.compute_lg (ID 369 )\n",
      "INFO    : Installed bundle fastga.models.weight.mass_breakdown.a_airframe.fuselage_components.update_fuselage_mass (ID 100 )\n",
      "INFO    : Installed bundle fastga.models.geometry.geom_components.landing_gears.__init__ (ID 370 )\n",
      "INFO    : Installed bundle fastga.models.performances.mission_vector.initialization.initialize_gamma (ID 157 )\n",
      "INFO    : Installed bundle fastga.models.performances.mission_vector.initialization.initialize_airspeed (ID 158 )\n",
      "INFO    : Installed bundle fastga.models.weight.mass_breakdown.a_airframe.fuselage_components.compute_shell_mass (ID 101 )\n",
      "INFO    : Installed bundle fastga.models.performances.mission_vector.initialization.initialize_cg (ID 159 )\n",
      "INFO    : Installed bundle fastga.models.weight.mass_breakdown.a_airframe.a5_landing_gear_weight (ID 104 )\n",
      "INFO    : Installed bundle fastga.models.performances.mission_vector.initialization.initialize_airspeed_derivatives (ID 160 )\n",
      "INFO    : Installed bundle fastga.models.aerodynamics.external.propeller_code.compute_propeller_aero (ID 324 )\n",
      "INFO    : Installed bundle fastga.models.weight.mass_breakdown.a_airframe.a2_fuselage_weight_analytical (ID 102 )\n",
      "INFO    : Installed bundle fastga.models.loops.unitary_tests.__init__ (ID 352 )\n",
      "INFO    : Installed bundle fastga.models.load_analysis.unitary_tests.__init__ (ID 325 )\n",
      "INFO    : Installed bundle fastga.models.performances.mission_vector.to_csv (ID 161 )\n",
      "INFO    : Installed bundle fastga.models.load_analysis.__init__ (ID 327 )\n",
      "INFO    : Installed bundle fastga.models.performances.mission_vector.mission.equilibrium (ID 162 )\n",
      "INFO    : Installed bundle fastga.models.geometry.unitary_tests.dummy_engines (ID 358 )\n",
      "INFO    : Installed bundle fastga.models.geometry.constants (ID 359 )\n",
      "INFO    : Installed bundle fastga.models.load_analysis.unitary_tests.dummy_engines (ID 326 )\n",
      "WARNING : Failed to import module fastga.models.handling_qualities.unitary_tests\n",
      "WARNING : Failed to import module fastga.models.loops.unitary_tests\n",
      "WARNING : Failed to import module fastga.models.propulsion.fuel_propulsion.basicTurbo_prop.unitary_tests\n",
      "WARNING : Failed to import module fastga.models.weight.cg.unitary_tests\n",
      "WARNING : Failed to import module fastga.models.geometry.unitary_tests\n",
      "WARNING : Failed to import module fastga.models.propulsion.fuel_propulsion.basicIC_engine.unitary_tests\n",
      "WARNING : Failed to import module fastga.models.aerodynamics.unitary_tests\n",
      "WARNING : Failed to import module fastga.models.performances.unitary_tests\n",
      "WARNING : Failed to import module fastga.models.weight.mass_breakdown.unitary_tests\n",
      "WARNING : Failed to import module fastga.models.propulsion.fuel_propulsion.basicTurbo_prop_map.unitary_tests\n",
      "WARNING : Failed to import module fastga.models.load_analysis.unitary_tests\n",
      "INFO    : Loaded variable descriptions in fastga.models\n",
      "INFO    : Sample configuration written in \"/Users/BielGaliot/Documents/GitHub/FAST-GA/FAST-OAD_notebooks/fast-oad-cs23/tutorial/workdir/oad_process.yml\".\n"
     ]
    },
    {
     "data": {
      "text/plain": [
       "'/Users/BielGaliot/Documents/GitHub/FAST-GA/FAST-OAD_notebooks/fast-oad-cs23/tutorial/workdir/oad_process.yml'"
      ]
     },
     "execution_count": 3,
     "metadata": {},
     "output_type": "execute_result"
    }
   ],
   "source": [
    "api_cs25.generate_configuration_file(\n",
    "    CONFIGURATION_FILE,\n",
    "    overwrite=True,\n",
    "    distribution_name=\"fast-oad-cs23\",\n",
    "    sample_file_name=\"fastga.yml\",\n",
    ")"
   ]
  },
  {
   "cell_type": "markdown",
   "metadata": {},
   "source": [
    "You can now checkout the generated [configuration file](./workdir/oad_process.yml). In this configuration file, we have specified an input file name 'problem_inputs.xml'. We can ask FAST-OAD to generate the inputs of the default model with the CeRAS parameters as default values:"
   ]
  },
  {
   "cell_type": "code",
   "execution_count": 4,
   "metadata": {},
   "outputs": [
    {
     "name": "stderr",
     "output_type": "stream",
     "text": [
      "INFO    : Problem inputs written in /Users/BielGaliot/Documents/GitHub/FAST-GA/FAST-OAD_notebooks/fast-oad-cs23/tutorial/workdir/problem_inputs.xml\n"
     ]
    },
    {
     "data": {
      "text/plain": [
       "'/Users/BielGaliot/Documents/GitHub/FAST-GA/FAST-OAD_notebooks/fast-oad-cs23/tutorial/workdir/problem_inputs.xml'"
      ]
     },
     "execution_count": 4,
     "metadata": {},
     "output_type": "execute_result"
    }
   ],
   "source": [
    "api_cs25.generate_inputs(CONFIGURATION_FILE, SOURCE_FILE, overwrite=True)"
   ]
  },
  {
   "cell_type": "markdown",
   "metadata": {},
   "source": [
    "You can now checkout the generated [input file](./workdir/problem_inputs.xml). As shown previously in the user file architecture, the values in this file can be modified by the user and will be considered by FAST-OAD when executing a computational process."
   ]
  },
  {
   "cell_type": "markdown",
   "metadata": {},
   "source": [
    "A useful feature that FAST-OAD provides is to list the outputs of the model defined in the configuration file:"
   ]
  },
  {
   "cell_type": "code",
   "execution_count": 5,
   "metadata": {},
   "outputs": [
    {
     "data": {
      "text/html": [
       "<table border=\"1\" class=\"dataframe\">\n",
       "  <thead>\n",
       "    <tr style=\"text-align: right;\">\n",
       "      <th>NAME</th>\n",
       "      <th>I/O</th>\n",
       "      <th>DESCRIPTION</th>\n",
       "    </tr>\n",
       "  </thead>\n",
       "  <tbody>\n",
       "    <tr>\n",
       "      <td>data:TLAR:NPAX_design</td>\n",
       "      <td>IN</td>\n",
       "      <td>design number of passengers (two pilots are included de facto, meaning for a 2 seater, NPAX_design is equal to 0)</td>\n",
       "    </tr>\n",
       "    <tr>\n",
       "      <td>data:TLAR:luggage_mass_design</td>\n",
       "      <td>IN</td>\n",
       "      <td>luggage design mass</td>\n",
       "    </tr>\n",
       "    <tr>\n",
       "      <td>data:TLAR:range</td>\n",
       "      <td>IN</td>\n",
       "      <td>design range</td>\n",
       "    </tr>\n",
       "    <tr>\n",
       "      <td>data:TLAR:v_approach</td>\n",
       "      <td>IN</td>\n",
       "      <td>approach speed</td>\n",
       "    </tr>\n",
       "    <tr>\n",
       "      <td>data:TLAR:v_cruise</td>\n",
       "      <td>IN</td>\n",
       "      <td>cruise speed</td>\n",
       "    </tr>\n",
       "    <tr>\n",
       "      <td>data:TLAR:v_max_sl</td>\n",
       "      <td>IN</td>\n",
       "      <td>maximum speed at sea level</td>\n",
       "    </tr>\n",
       "    <tr>\n",
       "      <td>data:aerodynamics:cooling:cruise:CD0</td>\n",
       "      <td>IN</td>\n",
       "      <td>profile drag due to cooling in cruise conditions</td>\n",
       "    </tr>\n",
       "    <tr>\n",
       "      <td>data:aerodynamics:cooling:low_speed:CD0</td>\n",
       "      <td>IN</td>\n",
       "      <td>profile drag due to cooling in low speed conditions</td>\n",
       "    </tr>\n",
       "    <tr>\n",
       "      <td>data:aerodynamics:propeller:mach</td>\n",
       "      <td>IN</td>\n",
       "      <td>mach number used to compute the polar of the airfoil used in the propeller computation</td>\n",
       "    </tr>\n",
       "    <tr>\n",
       "      <td>data:aerodynamics:propeller:reynolds</td>\n",
       "      <td>IN</td>\n",
       "      <td>reynolds number used to compute the polar of the airfoil used in the propeller computation</td>\n",
       "    </tr>\n",
       "    <tr>\n",
       "      <td>data:aerodynamics:vertical_tail:efficiency</td>\n",
       "      <td>IN</td>\n",
       "      <td></td>\n",
       "    </tr>\n",
       "    <tr>\n",
       "      <td>data:geometry:cabin:aisle_width</td>\n",
       "      <td>IN</td>\n",
       "      <td>width of the aisle</td>\n",
       "    </tr>\n",
       "    <tr>\n",
       "      <td>data:geometry:cabin:luggage:mass_max</td>\n",
       "      <td>IN</td>\n",
       "      <td>maximum luggage mass</td>\n",
       "    </tr>\n",
       "    <tr>\n",
       "      <td>data:geometry:cabin:seats:passenger:NPAX_max</td>\n",
       "      <td>IN</td>\n",
       "      <td>maximum number of passengers in the aircraft</td>\n",
       "    </tr>\n",
       "    <tr>\n",
       "      <td>data:geometry:cabin:seats:passenger:count_by_row</td>\n",
       "      <td>IN</td>\n",
       "      <td>number of passenger seats per row</td>\n",
       "    </tr>\n",
       "    <tr>\n",
       "      <td>data:geometry:cabin:seats:passenger:length</td>\n",
       "      <td>IN</td>\n",
       "      <td>passenger seats length</td>\n",
       "    </tr>\n",
       "    <tr>\n",
       "      <td>data:geometry:cabin:seats:passenger:width</td>\n",
       "      <td>IN</td>\n",
       "      <td>width of passenger seats</td>\n",
       "    </tr>\n",
       "    <tr>\n",
       "      <td>data:geometry:cabin:seats:pilot:length</td>\n",
       "      <td>IN</td>\n",
       "      <td>pilot seats length</td>\n",
       "    </tr>\n",
       "    <tr>\n",
       "      <td>data:geometry:cabin:seats:pilot:width</td>\n",
       "      <td>IN</td>\n",
       "      <td>width of pilot seats</td>\n",
       "    </tr>\n",
       "    <tr>\n",
       "      <td>data:geometry:flap:chord_ratio</td>\n",
       "      <td>IN</td>\n",
       "      <td>flap chord as a percentage of the wing chord</td>\n",
       "    </tr>\n",
       "    <tr>\n",
       "      <td>data:geometry:flap:span_ratio</td>\n",
       "      <td>IN</td>\n",
       "      <td>flap span as a percentage of the wing span</td>\n",
       "    </tr>\n",
       "    <tr>\n",
       "      <td>data:geometry:flap_type</td>\n",
       "      <td>IN</td>\n",
       "      <td>flap type (0.0 - plain flap, 2.0 - single slotted flap, 3.0 - split flap)</td>\n",
       "    </tr>\n",
       "    <tr>\n",
       "      <td>data:geometry:has_T_tail</td>\n",
       "      <td>IN</td>\n",
       "      <td>0=horizontal tail is attached to fuselage / 1=horizontal tail is attached to top of vertical tail</td>\n",
       "    </tr>\n",
       "    <tr>\n",
       "      <td>data:geometry:horizontal_tail:MAC:at25percent:x:from_wingMAC25</td>\n",
       "      <td>IN</td>\n",
       "      <td>distance along X between 25% MAC of wing and 25% MAC of horizontal tail</td>\n",
       "    </tr>\n",
       "    <tr>\n",
       "      <td>data:geometry:horizontal_tail:aspect_ratio</td>\n",
       "      <td>IN</td>\n",
       "      <td>horizontal tail aspect ratio</td>\n",
       "    </tr>\n",
       "    <tr>\n",
       "      <td>data:geometry:horizontal_tail:elevator_chord_ratio</td>\n",
       "      <td>IN</td>\n",
       "      <td>elevator chord ratio</td>\n",
       "    </tr>\n",
       "    <tr>\n",
       "      <td>data:geometry:horizontal_tail:sweep_25</td>\n",
       "      <td>IN</td>\n",
       "      <td>sweep angle at 25% chord of horizontal tail</td>\n",
       "    </tr>\n",
       "    <tr>\n",
       "      <td>data:geometry:horizontal_tail:taper_ratio</td>\n",
       "      <td>IN</td>\n",
       "      <td>taper ratio of horizontal tail</td>\n",
       "    </tr>\n",
       "    <tr>\n",
       "      <td>data:geometry:horizontal_tail:thickness_ratio</td>\n",
       "      <td>IN</td>\n",
       "      <td>thickness ratio of horizontal tail</td>\n",
       "    </tr>\n",
       "    <tr>\n",
       "      <td>data:geometry:landing_gear:type</td>\n",
       "      <td>IN</td>\n",
       "      <td>0=non-retractable / 1=retractable</td>\n",
       "    </tr>\n",
       "    <tr>\n",
       "      <td>data:geometry:propeller:average_rpm</td>\n",
       "      <td>IN</td>\n",
       "      <td>average rotation speed of the propeller</td>\n",
       "    </tr>\n",
       "    <tr>\n",
       "      <td>data:geometry:propeller:blades_number</td>\n",
       "      <td>IN</td>\n",
       "      <td>number of blades on the propeller</td>\n",
       "    </tr>\n",
       "    <tr>\n",
       "      <td>data:geometry:propeller:chord_vect</td>\n",
       "      <td>IN</td>\n",
       "      <td>blade chord at the station along the radius stored in radius_ratio_vect</td>\n",
       "    </tr>\n",
       "    <tr>\n",
       "      <td>data:geometry:propeller:depth</td>\n",
       "      <td>IN</td>\n",
       "      <td>depth of the propeller</td>\n",
       "    </tr>\n",
       "    <tr>\n",
       "      <td>data:geometry:propeller:diameter</td>\n",
       "      <td>IN</td>\n",
       "      <td>propeller diameter</td>\n",
       "    </tr>\n",
       "    <tr>\n",
       "      <td>data:geometry:propeller:hub_diameter</td>\n",
       "      <td>IN</td>\n",
       "      <td>propeller hub diameter</td>\n",
       "    </tr>\n",
       "    <tr>\n",
       "      <td>data:geometry:propeller:radius_ratio_vect</td>\n",
       "      <td>IN</td>\n",
       "      <td>blade station at which blade geometric properties are sampled, as a percent of blade radius</td>\n",
       "    </tr>\n",
       "    <tr>\n",
       "      <td>data:geometry:propeller:sweep_vect</td>\n",
       "      <td>IN</td>\n",
       "      <td>blade sweep at the station along the radius stored in radius_ratio_vect</td>\n",
       "    </tr>\n",
       "    <tr>\n",
       "      <td>data:geometry:propeller:twist_vect</td>\n",
       "      <td>IN</td>\n",
       "      <td>blade twist at the station along the radius stored in radius_ratio_vect</td>\n",
       "    </tr>\n",
       "    <tr>\n",
       "      <td>data:geometry:propulsion:engine:count</td>\n",
       "      <td>IN</td>\n",
       "      <td>number of engine</td>\n",
       "    </tr>\n",
       "    <tr>\n",
       "      <td>data:geometry:propulsion:engine:layout</td>\n",
       "      <td>IN</td>\n",
       "      <td>position of engines (1=under the wing / 2=rear fuselage / 3=nose)</td>\n",
       "    </tr>\n",
       "    <tr>\n",
       "      <td>data:geometry:propulsion:engine:y_ratio</td>\n",
       "      <td>IN</td>\n",
       "      <td>engine position along wing span (if layout=1-2)</td>\n",
       "    </tr>\n",
       "    <tr>\n",
       "      <td>data:geometry:vertical_tail:aspect_ratio</td>\n",
       "      <td>IN</td>\n",
       "      <td>vertical tail aspect ratio</td>\n",
       "    </tr>\n",
       "    <tr>\n",
       "      <td>data:geometry:vertical_tail:max_thickness:x_ratio</td>\n",
       "      <td>IN</td>\n",
       "      <td>position of the point of maximum thickness as a ratio of vertical tail chord</td>\n",
       "    </tr>\n",
       "    <tr>\n",
       "      <td>data:geometry:vertical_tail:rudder:chord_ratio</td>\n",
       "      <td>IN</td>\n",
       "      <td>flap rudder as a percentage of the wing chord</td>\n",
       "    </tr>\n",
       "    <tr>\n",
       "      <td>data:geometry:vertical_tail:rudder:max_deflection</td>\n",
       "      <td>IN</td>\n",
       "      <td>rudder maximum deflection</td>\n",
       "    </tr>\n",
       "    <tr>\n",
       "      <td>data:geometry:vertical_tail:sweep_25</td>\n",
       "      <td>IN</td>\n",
       "      <td>sweep angle at 25% chord of vertical tail</td>\n",
       "    </tr>\n",
       "    <tr>\n",
       "      <td>data:geometry:vertical_tail:taper_ratio</td>\n",
       "      <td>IN</td>\n",
       "      <td>taper ratio of vertical tail</td>\n",
       "    </tr>\n",
       "    <tr>\n",
       "      <td>data:geometry:vertical_tail:thickness_ratio</td>\n",
       "      <td>IN</td>\n",
       "      <td>thickness ratio of vertical tail</td>\n",
       "    </tr>\n",
       "    <tr>\n",
       "      <td>data:geometry:wing:aspect_ratio</td>\n",
       "      <td>IN</td>\n",
       "      <td>wing aspect ratio</td>\n",
       "    </tr>\n",
       "    <tr>\n",
       "      <td>data:geometry:wing:dihedral</td>\n",
       "      <td>IN</td>\n",
       "      <td></td>\n",
       "    </tr>\n",
       "    <tr>\n",
       "      <td>data:geometry:wing:kink:span_ratio</td>\n",
       "      <td>IN</td>\n",
       "      <td>ratio (Y-position of kink)/(semi-span)</td>\n",
       "    </tr>\n",
       "    <tr>\n",
       "      <td>data:geometry:wing:sweep_25</td>\n",
       "      <td>IN</td>\n",
       "      <td>sweep angle at 25% chord of wing</td>\n",
       "    </tr>\n",
       "    <tr>\n",
       "      <td>data:geometry:wing:taper_ratio</td>\n",
       "      <td>IN</td>\n",
       "      <td>taper ratio of wing</td>\n",
       "    </tr>\n",
       "    <tr>\n",
       "      <td>data:geometry:wing:thickness_ratio</td>\n",
       "      <td>IN</td>\n",
       "      <td>mean thickness ratio of wing</td>\n",
       "    </tr>\n",
       "    <tr>\n",
       "      <td>data:geometry:wing:twist</td>\n",
       "      <td>IN</td>\n",
       "      <td>Negative twist means tip AOA is smaller than root</td>\n",
       "    </tr>\n",
       "    <tr>\n",
       "      <td>data:geometry:wing_configuration</td>\n",
       "      <td>IN</td>\n",
       "      <td>1=low wing configuration / 2=mid wing configuration / 3=high wing configuration</td>\n",
       "    </tr>\n",
       "    <tr>\n",
       "      <td>data:handling_qualities:static_margin:target</td>\n",
       "      <td>IN</td>\n",
       "      <td>static margin we want to achieve</td>\n",
       "    </tr>\n",
       "    <tr>\n",
       "      <td>data:mission:sizing:cs23:characteristic_speed:vd</td>\n",
       "      <td>IN</td>\n",
       "      <td>limit speed</td>\n",
       "    </tr>\n",
       "    <tr>\n",
       "      <td>data:mission:sizing:cs23:sizing_factor:ultimate_aircraft</td>\n",
       "      <td>IN</td>\n",
       "      <td>ultimate load factor that the aircraft will experience (default value is 5.7)</td>\n",
       "    </tr>\n",
       "    <tr>\n",
       "      <td>data:mission:sizing:landing:elevator_angle</td>\n",
       "      <td>IN</td>\n",
       "      <td>position of the elevator during landing</td>\n",
       "    </tr>\n",
       "    <tr>\n",
       "      <td>data:mission:sizing:landing:flap_angle</td>\n",
       "      <td>IN</td>\n",
       "      <td>position of the flaps during landing</td>\n",
       "    </tr>\n",
       "    <tr>\n",
       "      <td>data:mission:sizing:landing:target_sideslip</td>\n",
       "      <td>IN</td>\n",
       "      <td></td>\n",
       "    </tr>\n",
       "    <tr>\n",
       "      <td>data:mission:sizing:main_route:climb:climb_rate:cruise_level</td>\n",
       "      <td>IN</td>\n",
       "      <td>target climb rate at the end of climb</td>\n",
       "    </tr>\n",
       "    <tr>\n",
       "      <td>data:mission:sizing:main_route:climb:climb_rate:sea_level</td>\n",
       "      <td>IN</td>\n",
       "      <td>target climb rate at sea level</td>\n",
       "    </tr>\n",
       "    <tr>\n",
       "      <td>data:mission:sizing:main_route:cruise:altitude</td>\n",
       "      <td>IN</td>\n",
       "      <td>main route cruise phase altitude</td>\n",
       "    </tr>\n",
       "    <tr>\n",
       "      <td>data:mission:sizing:main_route:descent:descent_rate</td>\n",
       "      <td>IN</td>\n",
       "      <td>target descent rate for the aircraft</td>\n",
       "    </tr>\n",
       "    <tr>\n",
       "      <td>data:mission:sizing:main_route:reserve:duration</td>\n",
       "      <td>IN</td>\n",
       "      <td>duration of the reserve segment</td>\n",
       "    </tr>\n",
       "    <tr>\n",
       "      <td>data:mission:sizing:takeoff:elevator_angle</td>\n",
       "      <td>IN</td>\n",
       "      <td>position of the elevator during takeoff</td>\n",
       "    </tr>\n",
       "    <tr>\n",
       "      <td>data:mission:sizing:takeoff:flap_angle</td>\n",
       "      <td>IN</td>\n",
       "      <td>position of the flaps during takeoff</td>\n",
       "    </tr>\n",
       "    <tr>\n",
       "      <td>data:mission:sizing:takeoff:friction_coefficient_no_brake</td>\n",
       "      <td>IN</td>\n",
       "      <td>friction coefficient used during the computation of the takeoff phase</td>\n",
       "    </tr>\n",
       "    <tr>\n",
       "      <td>data:mission:sizing:takeoff:thrust_rate</td>\n",
       "      <td>IN</td>\n",
       "      <td>thrust rate during takeoff phase</td>\n",
       "    </tr>\n",
       "    <tr>\n",
       "      <td>data:mission:sizing:taxi_in:duration</td>\n",
       "      <td>IN</td>\n",
       "      <td>duration of taxi in phase</td>\n",
       "    </tr>\n",
       "    <tr>\n",
       "      <td>data:mission:sizing:taxi_in:speed</td>\n",
       "      <td>IN</td>\n",
       "      <td>ground velocity during taxi in phase</td>\n",
       "    </tr>\n",
       "    <tr>\n",
       "      <td>data:mission:sizing:taxi_in:thrust_rate</td>\n",
       "      <td>IN</td>\n",
       "      <td>thrust rate during taxi in phase</td>\n",
       "    </tr>\n",
       "    <tr>\n",
       "      <td>data:mission:sizing:taxi_out:duration</td>\n",
       "      <td>IN</td>\n",
       "      <td>duration of taxi out phase</td>\n",
       "    </tr>\n",
       "    <tr>\n",
       "      <td>data:mission:sizing:taxi_out:speed</td>\n",
       "      <td>IN</td>\n",
       "      <td>ground velocity during taxi out phase</td>\n",
       "    </tr>\n",
       "    <tr>\n",
       "      <td>data:mission:sizing:taxi_out:thrust_rate</td>\n",
       "      <td>IN</td>\n",
       "      <td>thrust rate during taxi out phase</td>\n",
       "    </tr>\n",
       "    <tr>\n",
       "      <td>data:propulsion:IC_engine:max_power</td>\n",
       "      <td>IN</td>\n",
       "      <td>maximum power of the engine</td>\n",
       "    </tr>\n",
       "    <tr>\n",
       "      <td>data:propulsion:IC_engine:strokes_nb</td>\n",
       "      <td>IN</td>\n",
       "      <td>number of strokes on the engine</td>\n",
       "    </tr>\n",
       "    <tr>\n",
       "      <td>data:propulsion:fuel_type</td>\n",
       "      <td>IN</td>\n",
       "      <td>engine fuel type (1.0 - gasoline, 2.0 - gasoil)</td>\n",
       "    </tr>\n",
       "    <tr>\n",
       "      <td>data:weight:airframe:fuselage:k_factor</td>\n",
       "      <td>IN</td>\n",
       "      <td>proportional corrective factor for fuselage mass</td>\n",
       "    </tr>\n",
       "    <tr>\n",
       "      <td>data:weight:airframe:horizontal_tail:k_factor</td>\n",
       "      <td>IN</td>\n",
       "      <td>proportional corrective factor for horizontal tail mass</td>\n",
       "    </tr>\n",
       "    <tr>\n",
       "      <td>data:weight:airframe:paint:mass</td>\n",
       "      <td>IN</td>\n",
       "      <td>Mass of the airframe_inp_data:weight:airframe:paint:mass</td>\n",
       "    </tr>\n",
       "    <tr>\n",
       "      <td>data:weight:airframe:vertical_tail:k_factor</td>\n",
       "      <td>IN</td>\n",
       "      <td>proportional corrective factor for vertical tail mass</td>\n",
       "    </tr>\n",
       "    <tr>\n",
       "      <td>data:weight:airframe:wing:k_factor</td>\n",
       "      <td>IN</td>\n",
       "      <td>proportional corrective factor for wing mass</td>\n",
       "    </tr>\n",
       "    <tr>\n",
       "      <td>settings:aerodynamics:aircraft:undesirable_drag:k_factor</td>\n",
       "      <td>IN</td>\n",
       "      <td>Correction coefficient to take into account the other undesirable drag, default is 1.25 as suggested in Gudmundsson</td>\n",
       "    </tr>\n",
       "    <tr>\n",
       "      <td>settings:aerodynamics:reference_flight_conditions:cruise:AOA</td>\n",
       "      <td>IN</td>\n",
       "      <td></td>\n",
       "    </tr>\n",
       "    <tr>\n",
       "      <td>settings:aerodynamics:reference_flight_conditions:low_speed:AOA</td>\n",
       "      <td>IN</td>\n",
       "      <td></td>\n",
       "    </tr>\n",
       "    <tr>\n",
       "      <td>settings:handling_qualities:rudder:safety_margin</td>\n",
       "      <td>IN</td>\n",
       "      <td>Ratio of the total rudder deflection not used in the computation of the VT area to leave a safety margin</td>\n",
       "    </tr>\n",
       "    <tr>\n",
       "      <td>settings:mission:sizing:main_route:reserve:k_factor</td>\n",
       "      <td>IN</td>\n",
       "      <td>fudge factor on the reserve computation, can be used to adjust the model mainly to take into account different speed and altitudes</td>\n",
       "    </tr>\n",
       "    <tr>\n",
       "      <td>settings:propulsion:IC_engine:k_factor_sfc</td>\n",
       "      <td>IN</td>\n",
       "      <td>k_factor that can be used to adjust the consumption on engine level to the aircraft level</td>\n",
       "    </tr>\n",
       "    <tr>\n",
       "      <td>settings:weight:aircraft:CG:aft:MAC_position:margin</td>\n",
       "      <td>IN</td>\n",
       "      <td>Added margin for getting most aft CG position, as ratio of mean aerodynamic chord</td>\n",
       "    </tr>\n",
       "    <tr>\n",
       "      <td>settings:weight:aircraft:CG:fwd:MAC_position:margin</td>\n",
       "      <td>IN</td>\n",
       "      <td>Added margin for getting most fwd CG position, as ratio of mean aerodynamic chord</td>\n",
       "    </tr>\n",
       "    <tr>\n",
       "      <td>settings:weight:aircraft:CG:range</td>\n",
       "      <td>IN</td>\n",
       "      <td>distance between front position and aft position of CG, as ratio of mean aerodynamic chord (allows to have front position of CG potentially fwd of the computed one, as currently, FAST-OAD uses the aft position of CG as a reference)</td>\n",
       "    </tr>\n",
       "    <tr>\n",
       "      <td>settings:weight:aircraft:MLW_MZFW_ratio</td>\n",
       "      <td>IN</td>\n",
       "      <td></td>\n",
       "    </tr>\n",
       "    <tr>\n",
       "      <td>settings:weight:aircraft:payload:design_mass_per_passenger</td>\n",
       "      <td>IN</td>\n",
       "      <td>Design value of mass per passenger</td>\n",
       "    </tr>\n",
       "    <tr>\n",
       "      <td>settings:weight:aircraft:payload:max_mass_per_passenger</td>\n",
       "      <td>IN</td>\n",
       "      <td>Maximum value of mass per passenger</td>\n",
       "    </tr>\n",
       "    <tr>\n",
       "      <td>settings:weight:airframe:landing_gear:front:front_fuselage_ratio</td>\n",
       "      <td>IN</td>\n",
       "      <td>Position of front landing gear expressed as fuselage front length ratio</td>\n",
       "    </tr>\n",
       "    <tr>\n",
       "      <td>settings:weight:airframe:landing_gear:front:weight_ratio</td>\n",
       "      <td>IN</td>\n",
       "      <td>part of aircraft weight that is supported by front landing gear, should not be lower than 0.08. Roskam</td>\n",
       "    </tr>\n",
       "    <tr>\n",
       "      <td>settings:weight:propulsion:engine:k_factor</td>\n",
       "      <td>IN</td>\n",
       "      <td>Engine weight tuning factor</td>\n",
       "    </tr>\n",
       "    <tr>\n",
       "      <td>settings:weight:propulsion:tank:CG:from_wingMAC25</td>\n",
       "      <td>IN</td>\n",
       "      <td>distance between the tank CG and 25 percent of wing MAC as a ratio of the wing MAC</td>\n",
       "    </tr>\n",
       "    <tr>\n",
       "      <td>data:aerodynamics:aircraft:cruise:CD0</td>\n",
       "      <td>OUT</td>\n",
       "      <td>profile drag coefficient for the complete aircraft in cruise conditions</td>\n",
       "    </tr>\n",
       "    <tr>\n",
       "      <td>data:aerodynamics:aircraft:cruise:Cn_beta</td>\n",
       "      <td>OUT</td>\n",
       "      <td></td>\n",
       "    </tr>\n",
       "    <tr>\n",
       "      <td>data:aerodynamics:aircraft:cruise:Cy_beta</td>\n",
       "      <td>OUT</td>\n",
       "      <td></td>\n",
       "    </tr>\n",
       "    <tr>\n",
       "      <td>data:aerodynamics:aircraft:cruise:L_D_max</td>\n",
       "      <td>OUT</td>\n",
       "      <td>profile drag coefficient for the complete aircraft in low speed conditions</td>\n",
       "    </tr>\n",
       "    <tr>\n",
       "      <td>data:aerodynamics:aircraft:cruise:optimal_CD</td>\n",
       "      <td>OUT</td>\n",
       "      <td>drag coefficient at maximum lift/drag ratio in cruise conditions</td>\n",
       "    </tr>\n",
       "    <tr>\n",
       "      <td>data:aerodynamics:aircraft:cruise:optimal_CL</td>\n",
       "      <td>OUT</td>\n",
       "      <td>lift coefficient at maximum lift/drag ratio in cruise conditions</td>\n",
       "    </tr>\n",
       "    <tr>\n",
       "      <td>data:aerodynamics:aircraft:cruise:optimal_alpha</td>\n",
       "      <td>OUT</td>\n",
       "      <td>wing angle of attack at maximum lift/drag ratio in cruise conditions</td>\n",
       "    </tr>\n",
       "    <tr>\n",
       "      <td>data:aerodynamics:aircraft:landing:CL_max</td>\n",
       "      <td>OUT</td>\n",
       "      <td>maximum lift coefficient at landing</td>\n",
       "    </tr>\n",
       "    <tr>\n",
       "      <td>data:aerodynamics:aircraft:low_speed:CD0</td>\n",
       "      <td>OUT</td>\n",
       "      <td>profile drag coefficient for the complete aircraft in low speed conditions</td>\n",
       "    </tr>\n",
       "    <tr>\n",
       "      <td>data:aerodynamics:aircraft:low_speed:Cn_beta</td>\n",
       "      <td>OUT</td>\n",
       "      <td></td>\n",
       "    </tr>\n",
       "    <tr>\n",
       "      <td>data:aerodynamics:aircraft:low_speed:Cy_beta</td>\n",
       "      <td>OUT</td>\n",
       "      <td></td>\n",
       "    </tr>\n",
       "    <tr>\n",
       "      <td>data:aerodynamics:aircraft:mach_interpolation:CL_alpha_vector</td>\n",
       "      <td>OUT</td>\n",
       "      <td>lift curve slope coefficients of the aircraft at the mach number given in mach_vector</td>\n",
       "    </tr>\n",
       "    <tr>\n",
       "      <td>data:aerodynamics:aircraft:mach_interpolation:mach_vector</td>\n",
       "      <td>OUT</td>\n",
       "      <td>mach numbers at which the aircraft lift curve slope in CL_alpha_vector was computed</td>\n",
       "    </tr>\n",
       "    <tr>\n",
       "      <td>data:aerodynamics:aircraft:takeoff:CL_max</td>\n",
       "      <td>OUT</td>\n",
       "      <td>maximum lift coefficient during take-off</td>\n",
       "    </tr>\n",
       "    <tr>\n",
       "      <td>data:aerodynamics:cruise:mach</td>\n",
       "      <td>OUT</td>\n",
       "      <td>mach number representative of high speed aerodynamics</td>\n",
       "    </tr>\n",
       "    <tr>\n",
       "      <td>data:aerodynamics:cruise:neutral_point:free_elevator_factor</td>\n",
       "      <td>OUT</td>\n",
       "      <td>free elevator factor for computation of stick free static margin in high speed</td>\n",
       "    </tr>\n",
       "    <tr>\n",
       "      <td>data:aerodynamics:cruise:neutral_point:stick_fixed:x</td>\n",
       "      <td>OUT</td>\n",
       "      <td>distance between the leading edge of the wing at the MAC and the stick fixed aerodynamic center</td>\n",
       "    </tr>\n",
       "    <tr>\n",
       "      <td>data:aerodynamics:cruise:neutral_point:stick_free:x</td>\n",
       "      <td>OUT</td>\n",
       "      <td>distance between the leading edge of the wing at the MAC and the stick free aerodynamic center</td>\n",
       "    </tr>\n",
       "    <tr>\n",
       "      <td>data:aerodynamics:cruise:unit_reynolds</td>\n",
       "      <td>OUT</td>\n",
       "      <td>unitary reynolds number representative of high speed aerodynamics</td>\n",
       "    </tr>\n",
       "    <tr>\n",
       "      <td>data:aerodynamics:elevator:low_speed:CD_delta</td>\n",
       "      <td>OUT</td>\n",
       "      <td>derivative of horizontal tail drag coefficient with respect to elevator command</td>\n",
       "    </tr>\n",
       "    <tr>\n",
       "      <td>data:aerodynamics:elevator:low_speed:CL_delta</td>\n",
       "      <td>OUT</td>\n",
       "      <td>derivative of horizontal tail lift coefficient with respect to elevator command</td>\n",
       "    </tr>\n",
       "    <tr>\n",
       "      <td>data:aerodynamics:flaps:landing:CD</td>\n",
       "      <td>OUT</td>\n",
       "      <td>additional drag coefficient due to flaps deployment in landing configuration</td>\n",
       "    </tr>\n",
       "    <tr>\n",
       "      <td>data:aerodynamics:flaps:landing:CD_2D</td>\n",
       "      <td>OUT</td>\n",
       "      <td>airfoil additional drag coefficient due to flaps deployment in landing configuration</td>\n",
       "    </tr>\n",
       "    <tr>\n",
       "      <td>data:aerodynamics:flaps:landing:CL</td>\n",
       "      <td>OUT</td>\n",
       "      <td>lift coefficient increment due to flaps deployment in landing configuration</td>\n",
       "    </tr>\n",
       "    <tr>\n",
       "      <td>data:aerodynamics:flaps:landing:CL_2D</td>\n",
       "      <td>OUT</td>\n",
       "      <td>airfoil additional lift coefficient due to flaps deployment in landing configuration</td>\n",
       "    </tr>\n",
       "    <tr>\n",
       "      <td>data:aerodynamics:flaps:landing:CL_max</td>\n",
       "      <td>OUT</td>\n",
       "      <td>maximum lift coefficient increment due to flaps deployment in landing configuration</td>\n",
       "    </tr>\n",
       "    <tr>\n",
       "      <td>data:aerodynamics:flaps:landing:CM</td>\n",
       "      <td>OUT</td>\n",
       "      <td>additional pitching moment coefficient ue to the deployment of flaps in landing configuration</td>\n",
       "    </tr>\n",
       "    <tr>\n",
       "      <td>data:aerodynamics:flaps:landing:CM_2D</td>\n",
       "      <td>OUT</td>\n",
       "      <td>airfoil additional pitching moment coefficient due to flaps deployment in landing configuration</td>\n",
       "    </tr>\n",
       "    <tr>\n",
       "      <td>data:aerodynamics:flaps:takeoff:CD</td>\n",
       "      <td>OUT</td>\n",
       "      <td>additional drag coefficient due to flaps deployment in takeoff configuration</td>\n",
       "    </tr>\n",
       "    <tr>\n",
       "      <td>data:aerodynamics:flaps:takeoff:CD_2D</td>\n",
       "      <td>OUT</td>\n",
       "      <td>airfoil additional drag coefficient due to flaps deployment in takeoff configuration</td>\n",
       "    </tr>\n",
       "    <tr>\n",
       "      <td>data:aerodynamics:flaps:takeoff:CL</td>\n",
       "      <td>OUT</td>\n",
       "      <td>lift coefficient increment due to flaps deployment in takeoff configuration</td>\n",
       "    </tr>\n",
       "    <tr>\n",
       "      <td>data:aerodynamics:flaps:takeoff:CL_2D</td>\n",
       "      <td>OUT</td>\n",
       "      <td>airfoil additional lift coefficient due to flaps deployment in takeoff configuration</td>\n",
       "    </tr>\n",
       "    <tr>\n",
       "      <td>data:aerodynamics:flaps:takeoff:CL_max</td>\n",
       "      <td>OUT</td>\n",
       "      <td>maximum lift coefficient increment due to flaps deployment in takeoff configuration</td>\n",
       "    </tr>\n",
       "    <tr>\n",
       "      <td>data:aerodynamics:flaps:takeoff:CM</td>\n",
       "      <td>OUT</td>\n",
       "      <td>additional pitching moment coefficient due to the deployment of flaps in takeoff configuration</td>\n",
       "    </tr>\n",
       "    <tr>\n",
       "      <td>data:aerodynamics:flaps:takeoff:CM_2D</td>\n",
       "      <td>OUT</td>\n",
       "      <td>airfoil additional pitching moment coefficient due to flaps deployment in takeoff configuration</td>\n",
       "    </tr>\n",
       "    <tr>\n",
       "      <td>data:aerodynamics:fuselage:Cn_beta</td>\n",
       "      <td>OUT</td>\n",
       "      <td>derivative of yawing moment against sideslip angle for fuselage in cruise conditions</td>\n",
       "    </tr>\n",
       "    <tr>\n",
       "      <td>data:aerodynamics:fuselage:Cy_beta</td>\n",
       "      <td>OUT</td>\n",
       "      <td></td>\n",
       "    </tr>\n",
       "    <tr>\n",
       "      <td>data:aerodynamics:fuselage:cm_alpha</td>\n",
       "      <td>OUT</td>\n",
       "      <td>derivative of fuselage pitching moment coefficient with respect to angle of attack</td>\n",
       "    </tr>\n",
       "    <tr>\n",
       "      <td>data:aerodynamics:fuselage:cruise:CD0</td>\n",
       "      <td>OUT</td>\n",
       "      <td>profile drag coefficient for fuselage in cruise conditions</td>\n",
       "    </tr>\n",
       "    <tr>\n",
       "      <td>data:aerodynamics:fuselage:low_speed:CD0</td>\n",
       "      <td>OUT</td>\n",
       "      <td>profile drag coefficient for fuselage in low speed conditions</td>\n",
       "    </tr>\n",
       "    <tr>\n",
       "      <td>data:aerodynamics:horizontal_tail:MAC:low_speed:reynolds</td>\n",
       "      <td>OUT</td>\n",
       "      <td>reynolds number at the horizontal tail mean aerodynamic chord in low speed conditions</td>\n",
       "    </tr>\n",
       "    <tr>\n",
       "      <td>data:aerodynamics:horizontal_tail:airfoil:CL_alpha</td>\n",
       "      <td>OUT</td>\n",
       "      <td>horizontal tail airfoil lift curve slope</td>\n",
       "    </tr>\n",
       "    <tr>\n",
       "      <td>data:aerodynamics:horizontal_tail:cruise:CD0</td>\n",
       "      <td>OUT</td>\n",
       "      <td>profile drag coefficient for horizontal tail in cruise conditions</td>\n",
       "    </tr>\n",
       "    <tr>\n",
       "      <td>data:aerodynamics:horizontal_tail:cruise:CDp</td>\n",
       "      <td>OUT</td>\n",
       "      <td>pressure drag coefficient of the horizontal tail profile for various angle of attack in cruise conditions</td>\n",
       "    </tr>\n",
       "    <tr>\n",
       "      <td>data:aerodynamics:horizontal_tail:cruise:CL</td>\n",
       "      <td>OUT</td>\n",
       "      <td>lift coefficient of the horizontal tail profile for various angle of attack in cruise conditions</td>\n",
       "    </tr>\n",
       "    <tr>\n",
       "      <td>data:aerodynamics:horizontal_tail:cruise:CL0</td>\n",
       "      <td>OUT</td>\n",
       "      <td>lift coefficient of the horizontal tail when aircraft AOA is null in cruise conditions</td>\n",
       "    </tr>\n",
       "    <tr>\n",
       "      <td>data:aerodynamics:horizontal_tail:cruise:CL_alpha</td>\n",
       "      <td>OUT</td>\n",
       "      <td>derivative of lift coefficient of horizontal tail with respect to aircraft angle of attack in cruise conditions</td>\n",
       "    </tr>\n",
       "    <tr>\n",
       "      <td>data:aerodynamics:horizontal_tail:cruise:CL_alpha_isolated</td>\n",
       "      <td>OUT</td>\n",
       "      <td>derivative of lift coefficient of horizontal tail with respect to local angle of attack in cruise conditions</td>\n",
       "    </tr>\n",
       "    <tr>\n",
       "      <td>data:aerodynamics:horizontal_tail:cruise:downwash_gradient</td>\n",
       "      <td>OUT</td>\n",
       "      <td></td>\n",
       "    </tr>\n",
       "    <tr>\n",
       "      <td>data:aerodynamics:horizontal_tail:cruise:hinge_moment:CH_alpha</td>\n",
       "      <td>OUT</td>\n",
       "      <td>derivative of 3D hinge moment coefficient with respect to the local angle of attack in cruise conditions</td>\n",
       "    </tr>\n",
       "    <tr>\n",
       "      <td>data:aerodynamics:horizontal_tail:cruise:hinge_moment:CH_alpha_2D</td>\n",
       "      <td>OUT</td>\n",
       "      <td>derivative of 2D hinge moment coefficient with respect to the local angle of attack in cruise conditions</td>\n",
       "    </tr>\n",
       "    <tr>\n",
       "      <td>data:aerodynamics:horizontal_tail:cruise:hinge_moment:CH_delta</td>\n",
       "      <td>OUT</td>\n",
       "      <td>derivative of 3D hinge moment coefficient with respect to elevator deflection in cruise conditions</td>\n",
       "    </tr>\n",
       "    <tr>\n",
       "      <td>data:aerodynamics:horizontal_tail:cruise:hinge_moment:CH_delta_2D</td>\n",
       "      <td>OUT</td>\n",
       "      <td>derivative of 2D hinge moment coefficient with respect to elevator deflection in cruise conditions</td>\n",
       "    </tr>\n",
       "    <tr>\n",
       "      <td>data:aerodynamics:horizontal_tail:cruise:induced_drag_coefficient</td>\n",
       "      <td>OUT</td>\n",
       "      <td>coefficient to multiply by the lift coefficient squared to get induced drag in cruise conditions</td>\n",
       "    </tr>\n",
       "    <tr>\n",
       "      <td>data:aerodynamics:horizontal_tail:cruise:reynolds</td>\n",
       "      <td>OUT</td>\n",
       "      <td>reynolds number on the horizontal tail in cruise conditions</td>\n",
       "    </tr>\n",
       "    <tr>\n",
       "      <td>data:aerodynamics:horizontal_tail:efficiency</td>\n",
       "      <td>OUT</td>\n",
       "      <td>ratio between the dynamic pressure at the tail and the free stream dynamic pressure</td>\n",
       "    </tr>\n",
       "    <tr>\n",
       "      <td>data:aerodynamics:horizontal_tail:low_speed:CD0</td>\n",
       "      <td>OUT</td>\n",
       "      <td>profile drag coefficient for horizontal tail in low speed conditions</td>\n",
       "    </tr>\n",
       "    <tr>\n",
       "      <td>data:aerodynamics:horizontal_tail:low_speed:CDp</td>\n",
       "      <td>OUT</td>\n",
       "      <td>pressure drag coefficient of the horizontal tail profile for various angle of attack in low speed conditions</td>\n",
       "    </tr>\n",
       "    <tr>\n",
       "      <td>data:aerodynamics:horizontal_tail:low_speed:CL</td>\n",
       "      <td>OUT</td>\n",
       "      <td>lift coefficient of the horizontal tail profile for various angle of attack in low speed conditions</td>\n",
       "    </tr>\n",
       "    <tr>\n",
       "      <td>data:aerodynamics:horizontal_tail:low_speed:CL0</td>\n",
       "      <td>OUT</td>\n",
       "      <td>lift coefficient of the horizontal tail when aircraft AOA is null in low speed conditions</td>\n",
       "    </tr>\n",
       "    <tr>\n",
       "      <td>data:aerodynamics:horizontal_tail:low_speed:CL_alpha</td>\n",
       "      <td>OUT</td>\n",
       "      <td>derivative of lift coefficient of horizontal tail with respect to aircraft angle of attack in low speed conditions</td>\n",
       "    </tr>\n",
       "    <tr>\n",
       "      <td>data:aerodynamics:horizontal_tail:low_speed:CL_alpha_isolated</td>\n",
       "      <td>OUT</td>\n",
       "      <td>derivative of lift coefficient of horizontal tail with respect to local angle of attack in low speed conditions</td>\n",
       "    </tr>\n",
       "    <tr>\n",
       "      <td>data:aerodynamics:horizontal_tail:low_speed:CL_max_clean</td>\n",
       "      <td>OUT</td>\n",
       "      <td>maximum horizontal tail lift coefficient in low speed altitude</td>\n",
       "    </tr>\n",
       "    <tr>\n",
       "      <td>data:aerodynamics:horizontal_tail:low_speed:CL_min_clean</td>\n",
       "      <td>OUT</td>\n",
       "      <td>minimum horizontal tail lift coefficient in low speed altitude</td>\n",
       "    </tr>\n",
       "    <tr>\n",
       "      <td>data:aerodynamics:horizontal_tail:low_speed:CL_ref</td>\n",
       "      <td>OUT</td>\n",
       "      <td>reference horizontal tail lift coefficient corresponding to the lift repartition in CL_vector</td>\n",
       "    </tr>\n",
       "    <tr>\n",
       "      <td>data:aerodynamics:horizontal_tail:low_speed:CL_vector</td>\n",
       "      <td>OUT</td>\n",
       "      <td>horizontal tail lift coefficient repartition along the span corresponding to the lift coefficient in CL_ref</td>\n",
       "    </tr>\n",
       "    <tr>\n",
       "      <td>data:aerodynamics:horizontal_tail:low_speed:Y_vector</td>\n",
       "      <td>OUT</td>\n",
       "      <td>point along the span at which the lift repartition on the horizontal tail is sampled</td>\n",
       "    </tr>\n",
       "    <tr>\n",
       "      <td>data:aerodynamics:horizontal_tail:low_speed:clean:alpha_aircraft_max</td>\n",
       "      <td>OUT</td>\n",
       "      <td>positive aircraft angle of attack that gives a stalled horizontal tail</td>\n",
       "    </tr>\n",
       "    <tr>\n",
       "      <td>data:aerodynamics:horizontal_tail:low_speed:clean:alpha_aircraft_min</td>\n",
       "      <td>OUT</td>\n",
       "      <td>negative aircraft angle of attack that gives a stalled horizontal tail</td>\n",
       "    </tr>\n",
       "    <tr>\n",
       "      <td>data:aerodynamics:horizontal_tail:low_speed:downwash_gradient</td>\n",
       "      <td>OUT</td>\n",
       "      <td></td>\n",
       "    </tr>\n",
       "    <tr>\n",
       "      <td>data:aerodynamics:horizontal_tail:low_speed:induced_drag_coefficient</td>\n",
       "      <td>OUT</td>\n",
       "      <td>coefficient to multiply by the lift coefficient squared to get induced drag in low speed conditions</td>\n",
       "    </tr>\n",
       "    <tr>\n",
       "      <td>data:aerodynamics:horizontal_tail:low_speed:reynolds</td>\n",
       "      <td>OUT</td>\n",
       "      <td>reynolds number on the horizontal tail in low speed conditions</td>\n",
       "    </tr>\n",
       "    <tr>\n",
       "      <td>data:aerodynamics:horizontal_tail:low_speed:root:CL_max_2D</td>\n",
       "      <td>OUT</td>\n",
       "      <td>maximum lift coefficient at the root section of the horizontal tail given with respect to the horizontal tail surface</td>\n",
       "    </tr>\n",
       "    <tr>\n",
       "      <td>data:aerodynamics:horizontal_tail:low_speed:root:CL_min_2D</td>\n",
       "      <td>OUT</td>\n",
       "      <td>minimum lift coefficient at the root section of the horizontal tail given with respect to the horizontal tail surface</td>\n",
       "    </tr>\n",
       "    <tr>\n",
       "      <td>data:aerodynamics:horizontal_tail:low_speed:tip:CL_max_2D</td>\n",
       "      <td>OUT</td>\n",
       "      <td>maximum lift coefficient at the tip section of the horizontal tail given with respect to the horizontal tail surface</td>\n",
       "    </tr>\n",
       "    <tr>\n",
       "      <td>data:aerodynamics:horizontal_tail:low_speed:tip:CL_min_2D</td>\n",
       "      <td>OUT</td>\n",
       "      <td>minimum lift coefficient at the tip section of the horizontal tail given with respect to the horizontal tail surface</td>\n",
       "    </tr>\n",
       "    <tr>\n",
       "      <td>data:aerodynamics:horizontal_tail:root:low_speed:reynolds</td>\n",
       "      <td>OUT</td>\n",
       "      <td>reynolds number at the horizontal tail root section in low speed conditions</td>\n",
       "    </tr>\n",
       "    <tr>\n",
       "      <td>data:aerodynamics:horizontal_tail:tip:low_speed:reynolds</td>\n",
       "      <td>OUT</td>\n",
       "      <td>reynolds number at the horizontal tail tip section in low speed conditions</td>\n",
       "    </tr>\n",
       "    <tr>\n",
       "      <td>data:aerodynamics:landing_gear:cruise:CD0</td>\n",
       "      <td>OUT</td>\n",
       "      <td>profile drag coefficient for landing gears in cruise conditions</td>\n",
       "    </tr>\n",
       "    <tr>\n",
       "      <td>data:aerodynamics:landing_gear:low_speed:CD0</td>\n",
       "      <td>OUT</td>\n",
       "      <td>profile drag coefficient for landing gears in low speed conditions</td>\n",
       "    </tr>\n",
       "    <tr>\n",
       "      <td>data:aerodynamics:low_speed:mach</td>\n",
       "      <td>OUT</td>\n",
       "      <td>mach number representative of low speed aerodynamics</td>\n",
       "    </tr>\n",
       "    <tr>\n",
       "      <td>data:aerodynamics:low_speed:unit_reynolds</td>\n",
       "      <td>OUT</td>\n",
       "      <td>unitary reynolds number representative of low speed aerodynamics</td>\n",
       "    </tr>\n",
       "    <tr>\n",
       "      <td>data:aerodynamics:nacelles:cruise:CD0</td>\n",
       "      <td>OUT</td>\n",
       "      <td>profile drag coefficient for the nacelles in cruise conditions</td>\n",
       "    </tr>\n",
       "    <tr>\n",
       "      <td>data:aerodynamics:nacelles:low_speed:CD0</td>\n",
       "      <td>OUT</td>\n",
       "      <td>profile drag coefficient for the nacelles in low speed conditions</td>\n",
       "    </tr>\n",
       "    <tr>\n",
       "      <td>data:aerodynamics:other:cruise:CD0</td>\n",
       "      <td>OUT</td>\n",
       "      <td>profile drag coefficient for other systems in cruise conditions</td>\n",
       "    </tr>\n",
       "    <tr>\n",
       "      <td>data:aerodynamics:other:low_speed:CD0</td>\n",
       "      <td>OUT</td>\n",
       "      <td>profile drag coefficient for other systems in low speed conditions</td>\n",
       "    </tr>\n",
       "    <tr>\n",
       "      <td>data:aerodynamics:propeller:cruise_level:altitude</td>\n",
       "      <td>OUT</td>\n",
       "      <td>altitude at which the cruise level propeller efficiency map was computed</td>\n",
       "    </tr>\n",
       "    <tr>\n",
       "      <td>data:aerodynamics:propeller:cruise_level:efficiency</td>\n",
       "      <td>OUT</td>\n",
       "      <td>2D matrix containing the efficiencies of the propeller in different speed conditions and for different thrust requirement at cruise level</td>\n",
       "    </tr>\n",
       "    <tr>\n",
       "      <td>data:aerodynamics:propeller:cruise_level:speed</td>\n",
       "      <td>OUT</td>\n",
       "      <td>speed at which the efficiencies of the propeller at cruise level are computed</td>\n",
       "    </tr>\n",
       "    <tr>\n",
       "      <td>data:aerodynamics:propeller:cruise_level:thrust</td>\n",
       "      <td>OUT</td>\n",
       "      <td>thrust produced by the propeller at cruise level and for which the efficiencies are given</td>\n",
       "    </tr>\n",
       "    <tr>\n",
       "      <td>data:aerodynamics:propeller:cruise_level:thrust_limit</td>\n",
       "      <td>OUT</td>\n",
       "      <td>maximum thrust output of the propeller at cruise level for varying velocities</td>\n",
       "    </tr>\n",
       "    <tr>\n",
       "      <td>data:aerodynamics:propeller:installation_effect:effective_advance_ratio</td>\n",
       "      <td>OUT</td>\n",
       "      <td>Value to multiply the flight advance ration with to obtain the effective advance ratio due to the presence of cowling (fuselage or nacelle) behind the propeller</td>\n",
       "    </tr>\n",
       "    <tr>\n",
       "      <td>data:aerodynamics:propeller:installation_effect:effective_efficiency:cruise</td>\n",
       "      <td>OUT</td>\n",
       "      <td>Value to multiply the uninstalled efficiency with to obtain the effective efficiency due to the presence of cowling (fuselage or nacelle) behind the propeller</td>\n",
       "    </tr>\n",
       "    <tr>\n",
       "      <td>data:aerodynamics:propeller:installation_effect:effective_efficiency:low_speed</td>\n",
       "      <td>OUT</td>\n",
       "      <td>Value to multiply the uninstalled efficiency with to obtain the effective efficiency due to the presence of cowling (fuselage or nacelle) behind the propeller</td>\n",
       "    </tr>\n",
       "    <tr>\n",
       "      <td>data:aerodynamics:propeller:sea_level:efficiency</td>\n",
       "      <td>OUT</td>\n",
       "      <td>2D matrix containing the efficiencies of the propeller in different speed conditions and for different thrust requirement at sea level</td>\n",
       "    </tr>\n",
       "    <tr>\n",
       "      <td>data:aerodynamics:propeller:sea_level:speed</td>\n",
       "      <td>OUT</td>\n",
       "      <td>speed at which the efficiencies of the propeller at sea level are computed</td>\n",
       "    </tr>\n",
       "    <tr>\n",
       "      <td>data:aerodynamics:propeller:sea_level:thrust</td>\n",
       "      <td>OUT</td>\n",
       "      <td>thrust produced by the propeller at sea level and for which the efficiencies are given</td>\n",
       "    </tr>\n",
       "    <tr>\n",
       "      <td>data:aerodynamics:propeller:sea_level:thrust_limit</td>\n",
       "      <td>OUT</td>\n",
       "      <td>maximum thrust output of the propeller at sea level for varying velocities</td>\n",
       "    </tr>\n",
       "    <tr>\n",
       "      <td>data:aerodynamics:rudder:cruise:Cy_delta_r</td>\n",
       "      <td>OUT</td>\n",
       "      <td>derivative of the side force coefficient with respect to the rudder command in cruise conditions</td>\n",
       "    </tr>\n",
       "    <tr>\n",
       "      <td>data:aerodynamics:rudder:low_speed:Cy_delta_r</td>\n",
       "      <td>OUT</td>\n",
       "      <td>derivative of the side force coefficient with respect to the rudder command in low speed conditions</td>\n",
       "    </tr>\n",
       "    <tr>\n",
       "      <td>data:aerodynamics:vertical_tail:MAC:low_speed:reynolds</td>\n",
       "      <td>OUT</td>\n",
       "      <td>reynolds number at the horizontal tail in cruise conditions</td>\n",
       "    </tr>\n",
       "    <tr>\n",
       "      <td>data:aerodynamics:vertical_tail:airfoil:CL_alpha</td>\n",
       "      <td>OUT</td>\n",
       "      <td>vertical tail airfoil lift curve slope</td>\n",
       "    </tr>\n",
       "    <tr>\n",
       "      <td>data:aerodynamics:vertical_tail:cruise:CD0</td>\n",
       "      <td>OUT</td>\n",
       "      <td>profile drag coefficient for vertical tail in cruise conditions</td>\n",
       "    </tr>\n",
       "    <tr>\n",
       "      <td>data:aerodynamics:vertical_tail:cruise:CL_alpha</td>\n",
       "      <td>OUT</td>\n",
       "      <td>derivative of the vertical tail side force coefficient with respect to the local sideslip angle in cruise conditions</td>\n",
       "    </tr>\n",
       "    <tr>\n",
       "      <td>data:aerodynamics:vertical_tail:cruise:Cn_beta</td>\n",
       "      <td>OUT</td>\n",
       "      <td></td>\n",
       "    </tr>\n",
       "    <tr>\n",
       "      <td>data:aerodynamics:vertical_tail:cruise:Cy_beta</td>\n",
       "      <td>OUT</td>\n",
       "      <td></td>\n",
       "    </tr>\n",
       "    <tr>\n",
       "      <td>data:aerodynamics:vertical_tail:k_ar_effective</td>\n",
       "      <td>OUT</td>\n",
       "      <td>coefficient to multiply the vertical tail aspect ratio to get the effective aspect ratio which includes fuselage and horizontal tail end-plate effect</td>\n",
       "    </tr>\n",
       "    <tr>\n",
       "      <td>data:aerodynamics:vertical_tail:low_speed:CD0</td>\n",
       "      <td>OUT</td>\n",
       "      <td>profile drag coefficient for vertical tail in low speed conditions</td>\n",
       "    </tr>\n",
       "    <tr>\n",
       "      <td>data:aerodynamics:vertical_tail:low_speed:CL_alpha</td>\n",
       "      <td>OUT</td>\n",
       "      <td>derivative of the vertical tail side force coefficient with respect to the local sideslip angle in low speed conditions</td>\n",
       "    </tr>\n",
       "    <tr>\n",
       "      <td>data:aerodynamics:vertical_tail:low_speed:Cn_beta</td>\n",
       "      <td>OUT</td>\n",
       "      <td></td>\n",
       "    </tr>\n",
       "    <tr>\n",
       "      <td>data:aerodynamics:vertical_tail:low_speed:Cy_beta</td>\n",
       "      <td>OUT</td>\n",
       "      <td></td>\n",
       "    </tr>\n",
       "    <tr>\n",
       "      <td>data:aerodynamics:wing:Cy_beta</td>\n",
       "      <td>OUT</td>\n",
       "      <td></td>\n",
       "    </tr>\n",
       "    <tr>\n",
       "      <td>data:aerodynamics:wing:MAC:low_speed:reynolds</td>\n",
       "      <td>OUT</td>\n",
       "      <td>wing reynolds number in low speed conditions at the mean aerodynamic chord</td>\n",
       "    </tr>\n",
       "    <tr>\n",
       "      <td>data:aerodynamics:wing:airfoil:CL_alpha</td>\n",
       "      <td>OUT</td>\n",
       "      <td>wing tail airfoil lift curve slope</td>\n",
       "    </tr>\n",
       "    <tr>\n",
       "      <td>data:aerodynamics:wing:cruise:CD0</td>\n",
       "      <td>OUT</td>\n",
       "      <td>profile drag coefficient for wing in cruise conditions</td>\n",
       "    </tr>\n",
       "    <tr>\n",
       "      <td>data:aerodynamics:wing:cruise:CDp</td>\n",
       "      <td>OUT</td>\n",
       "      <td>pressure drag coefficient of the wing profile for various angle of attack in cruise conditions</td>\n",
       "    </tr>\n",
       "    <tr>\n",
       "      <td>data:aerodynamics:wing:cruise:CL</td>\n",
       "      <td>OUT</td>\n",
       "      <td>lift coefficient of the wing profile for various angle of attack in cruise conditions</td>\n",
       "    </tr>\n",
       "    <tr>\n",
       "      <td>data:aerodynamics:wing:cruise:CL0_clean</td>\n",
       "      <td>OUT</td>\n",
       "      <td>wing lift coefficient at zero aircraft angle of attack in cruise conditions and with no flaps deployed</td>\n",
       "    </tr>\n",
       "    <tr>\n",
       "      <td>data:aerodynamics:wing:cruise:CL_alpha</td>\n",
       "      <td>OUT</td>\n",
       "      <td>wing lift coefficient slope with respect to aircraft angle of attack in cruise conditions</td>\n",
       "    </tr>\n",
       "    <tr>\n",
       "      <td>data:aerodynamics:wing:cruise:CL_ref</td>\n",
       "      <td>OUT</td>\n",
       "      <td></td>\n",
       "    </tr>\n",
       "    <tr>\n",
       "      <td>data:aerodynamics:wing:cruise:CM0_clean</td>\n",
       "      <td>OUT</td>\n",
       "      <td>wing pitching moment coefficient in cruise conditions and with no flaps deployed</td>\n",
       "    </tr>\n",
       "    <tr>\n",
       "      <td>data:aerodynamics:wing:cruise:induced_drag_coefficient</td>\n",
       "      <td>OUT</td>\n",
       "      <td>coefficient to multiply by the lift coefficient squared to get wing induced drag in cruise conditions</td>\n",
       "    </tr>\n",
       "    <tr>\n",
       "      <td>data:aerodynamics:wing:cruise:reynolds</td>\n",
       "      <td>OUT</td>\n",
       "      <td>reynolds number on the wing in cruise conditions</td>\n",
       "    </tr>\n",
       "    <tr>\n",
       "      <td>data:aerodynamics:wing:low_speed:CD0</td>\n",
       "      <td>OUT</td>\n",
       "      <td>profile drag coefficient for wing in low speed conditions</td>\n",
       "    </tr>\n",
       "    <tr>\n",
       "      <td>data:aerodynamics:wing:low_speed:CDp</td>\n",
       "      <td>OUT</td>\n",
       "      <td>pressure drag coefficient of the wing profile for various angle of attack in low speed conditions</td>\n",
       "    </tr>\n",
       "    <tr>\n",
       "      <td>data:aerodynamics:wing:low_speed:CL</td>\n",
       "      <td>OUT</td>\n",
       "      <td>lift coefficient of the wing profile for various angle of attack in low speed conditions</td>\n",
       "    </tr>\n",
       "    <tr>\n",
       "      <td>data:aerodynamics:wing:low_speed:CL0_clean</td>\n",
       "      <td>OUT</td>\n",
       "      <td>wing lift coefficient at zero aircraft angle of attack in low speed conditions and with no flaps deployed</td>\n",
       "    </tr>\n",
       "    <tr>\n",
       "      <td>data:aerodynamics:wing:low_speed:CL_alpha</td>\n",
       "      <td>OUT</td>\n",
       "      <td>wing lift coefficient slope with respect to aircraft angle of attack in low speed conditions</td>\n",
       "    </tr>\n",
       "    <tr>\n",
       "      <td>data:aerodynamics:wing:low_speed:CL_max_clean</td>\n",
       "      <td>OUT</td>\n",
       "      <td>wing maximum lift coefficient for positive angle of attack</td>\n",
       "    </tr>\n",
       "    <tr>\n",
       "      <td>data:aerodynamics:wing:low_speed:CL_min_clean</td>\n",
       "      <td>OUT</td>\n",
       "      <td>wing maximum lift coefficient for negative angle of attack</td>\n",
       "    </tr>\n",
       "    <tr>\n",
       "      <td>data:aerodynamics:wing:low_speed:CL_ref</td>\n",
       "      <td>OUT</td>\n",
       "      <td></td>\n",
       "    </tr>\n",
       "    <tr>\n",
       "      <td>data:aerodynamics:wing:low_speed:CL_vector</td>\n",
       "      <td>OUT</td>\n",
       "      <td>lift coefficient of the wing at the station along the wing span in Y_vector, the total corresponding wing lift coefficient is equal to CL0_clean</td>\n",
       "    </tr>\n",
       "    <tr>\n",
       "      <td>data:aerodynamics:wing:low_speed:CM0_clean</td>\n",
       "      <td>OUT</td>\n",
       "      <td>wing pitching moment coefficient in low speed conditions and with no flaps deployed</td>\n",
       "    </tr>\n",
       "    <tr>\n",
       "      <td>data:aerodynamics:wing:low_speed:Y_vector</td>\n",
       "      <td>OUT</td>\n",
       "      <td>wing station along the wing span at which chord_vector and Cl_vector are sampled</td>\n",
       "    </tr>\n",
       "    <tr>\n",
       "      <td>data:aerodynamics:wing:low_speed:chord_vector</td>\n",
       "      <td>OUT</td>\n",
       "      <td>wing chord length at the station along the wing span in Y_vector</td>\n",
       "    </tr>\n",
       "    <tr>\n",
       "      <td>data:aerodynamics:wing:low_speed:induced_drag_coefficient</td>\n",
       "      <td>OUT</td>\n",
       "      <td>coefficient to multiply by the lift coefficient squared to get wing induced drag in low speed conditions</td>\n",
       "    </tr>\n",
       "    <tr>\n",
       "      <td>data:aerodynamics:wing:low_speed:reynolds</td>\n",
       "      <td>OUT</td>\n",
       "      <td>reynolds number on the wing in low speed conditions</td>\n",
       "    </tr>\n",
       "    <tr>\n",
       "      <td>data:aerodynamics:wing:low_speed:root:CL_max_2D</td>\n",
       "      <td>OUT</td>\n",
       "      <td>wing root chord airfoil maximum lift coefficient for positive angle of attack</td>\n",
       "    </tr>\n",
       "    <tr>\n",
       "      <td>data:aerodynamics:wing:low_speed:root:CL_min_2D</td>\n",
       "      <td>OUT</td>\n",
       "      <td>wing root chord airfoil maximum lift coefficient for negative angle of attack</td>\n",
       "    </tr>\n",
       "    <tr>\n",
       "      <td>data:aerodynamics:wing:low_speed:tip:CL_max_2D</td>\n",
       "      <td>OUT</td>\n",
       "      <td>wing tip chord airfoil maximum lift coefficient for positive angle of attack</td>\n",
       "    </tr>\n",
       "    <tr>\n",
       "      <td>data:aerodynamics:wing:low_speed:tip:CL_min_2D</td>\n",
       "      <td>OUT</td>\n",
       "      <td>wing tip chord airfoil maximum lift coefficient for negative angle of attack</td>\n",
       "    </tr>\n",
       "    <tr>\n",
       "      <td>data:aerodynamics:wing:root:low_speed:reynolds</td>\n",
       "      <td>OUT</td>\n",
       "      <td>wing root chord reynolds in low speed conditions</td>\n",
       "    </tr>\n",
       "    <tr>\n",
       "      <td>data:aerodynamics:wing:tip:low_speed:reynolds</td>\n",
       "      <td>OUT</td>\n",
       "      <td>wing tip chord reynolds in low speed conditions</td>\n",
       "    </tr>\n",
       "    <tr>\n",
       "      <td>data:constraints:horizontal_tail:landing</td>\n",
       "      <td>OUT</td>\n",
       "      <td>margin on the horizontal tail area with respect to the landing constraint</td>\n",
       "    </tr>\n",
       "    <tr>\n",
       "      <td>data:constraints:horizontal_tail:takeoff_rotation</td>\n",
       "      <td>OUT</td>\n",
       "      <td>margin on the horizontal tail area with respect to the takeoff rotation constraint</td>\n",
       "    </tr>\n",
       "    <tr>\n",
       "      <td>data:constraints:vertical_tail:crosswind_landing</td>\n",
       "      <td>OUT</td>\n",
       "      <td>margin on the vertical tail area with respect to the constraint due to crosswind landing</td>\n",
       "    </tr>\n",
       "    <tr>\n",
       "      <td>data:constraints:vertical_tail:engine_out_climb</td>\n",
       "      <td>OUT</td>\n",
       "      <td>margin on the vertical tail area with respect to the climb with one engine out condition</td>\n",
       "    </tr>\n",
       "    <tr>\n",
       "      <td>data:constraints:vertical_tail:engine_out_landing</td>\n",
       "      <td>OUT</td>\n",
       "      <td>margin on the vertical tail area with respect to the landing with one engine out condition</td>\n",
       "    </tr>\n",
       "    <tr>\n",
       "      <td>data:constraints:vertical_tail:engine_out_takeoff</td>\n",
       "      <td>OUT</td>\n",
       "      <td>margin on the vertical tail area with respect to the takeoff with one engine out condition</td>\n",
       "    </tr>\n",
       "    <tr>\n",
       "      <td>data:constraints:vertical_tail:target_cruise_stability</td>\n",
       "      <td>OUT</td>\n",
       "      <td>margin on the vertical tail area with respect to the cruise stability constraint</td>\n",
       "    </tr>\n",
       "    <tr>\n",
       "      <td>data:constraints:wing:additional_CL_capacity</td>\n",
       "      <td>OUT</td>\n",
       "      <td>margin with respect to the conditions of maximum lift required</td>\n",
       "    </tr>\n",
       "    <tr>\n",
       "      <td>data:constraints:wing:additional_fuel_capacity</td>\n",
       "      <td>OUT</td>\n",
       "      <td>margin with respect to the conditions of maximum fuel stored in the wing required</td>\n",
       "    </tr>\n",
       "    <tr>\n",
       "      <td>data:geometry:aircraft:length</td>\n",
       "      <td>OUT</td>\n",
       "      <td>total length of the aircraft</td>\n",
       "    </tr>\n",
       "    <tr>\n",
       "      <td>data:geometry:aircraft:wet_area</td>\n",
       "      <td>OUT</td>\n",
       "      <td>aircraft total wet area</td>\n",
       "    </tr>\n",
       "    <tr>\n",
       "      <td>data:geometry:cabin:NPAX</td>\n",
       "      <td>OUT</td>\n",
       "      <td>maximum number of passenger that can be seated in the aircraft assuming a constant number of seats per row</td>\n",
       "    </tr>\n",
       "    <tr>\n",
       "      <td>data:geometry:cabin:length</td>\n",
       "      <td>OUT</td>\n",
       "      <td>cabin length</td>\n",
       "    </tr>\n",
       "    <tr>\n",
       "      <td>data:geometry:fuselage:PAX_length</td>\n",
       "      <td>OUT</td>\n",
       "      <td>length of the passenger compartment</td>\n",
       "    </tr>\n",
       "    <tr>\n",
       "      <td>data:geometry:fuselage:average_depth</td>\n",
       "      <td>OUT</td>\n",
       "      <td>Average fuselage depth at the vertical tail location</td>\n",
       "    </tr>\n",
       "    <tr>\n",
       "      <td>data:geometry:fuselage:front_length</td>\n",
       "      <td>OUT</td>\n",
       "      <td>length of the front cone of the aircraft</td>\n",
       "    </tr>\n",
       "    <tr>\n",
       "      <td>data:geometry:fuselage:length</td>\n",
       "      <td>OUT</td>\n",
       "      <td>total length of the fuselage</td>\n",
       "    </tr>\n",
       "    <tr>\n",
       "      <td>data:geometry:fuselage:luggage_length</td>\n",
       "      <td>OUT</td>\n",
       "      <td>length of the luggage compartment</td>\n",
       "    </tr>\n",
       "    <tr>\n",
       "      <td>data:geometry:fuselage:master_cross_section</td>\n",
       "      <td>OUT</td>\n",
       "      <td></td>\n",
       "    </tr>\n",
       "    <tr>\n",
       "      <td>data:geometry:fuselage:maximum_height</td>\n",
       "      <td>OUT</td>\n",
       "      <td>maximum height of the fuselage</td>\n",
       "    </tr>\n",
       "    <tr>\n",
       "      <td>data:geometry:fuselage:maximum_width</td>\n",
       "      <td>OUT</td>\n",
       "      <td>maximum width of the fuselage</td>\n",
       "    </tr>\n",
       "    <tr>\n",
       "      <td>data:geometry:fuselage:rear_length</td>\n",
       "      <td>OUT</td>\n",
       "      <td>length of the rear cone of the aircraft</td>\n",
       "    </tr>\n",
       "    <tr>\n",
       "      <td>data:geometry:fuselage:volume</td>\n",
       "      <td>OUT</td>\n",
       "      <td>Volume of the fuselage</td>\n",
       "    </tr>\n",
       "    <tr>\n",
       "      <td>data:geometry:fuselage:wet_area</td>\n",
       "      <td>OUT</td>\n",
       "      <td>fuselage wet area</td>\n",
       "    </tr>\n",
       "    <tr>\n",
       "      <td>data:geometry:horizontal_tail:MAC:at25percent:x:local</td>\n",
       "      <td>OUT</td>\n",
       "      <td>X-position of the 25% of mean aerodynamic chord of horizontal tail w.r.t. leading edge of root chord</td>\n",
       "    </tr>\n",
       "    <tr>\n",
       "      <td>data:geometry:horizontal_tail:MAC:length</td>\n",
       "      <td>OUT</td>\n",
       "      <td>mean aerodynamic chord length of horizontal tail</td>\n",
       "    </tr>\n",
       "    <tr>\n",
       "      <td>data:geometry:horizontal_tail:MAC:y</td>\n",
       "      <td>OUT</td>\n",
       "      <td>Y-position of mean aerodynamic chord of horizontal tail</td>\n",
       "    </tr>\n",
       "    <tr>\n",
       "      <td>data:geometry:horizontal_tail:area</td>\n",
       "      <td>OUT</td>\n",
       "      <td>horizontal tail area</td>\n",
       "    </tr>\n",
       "    <tr>\n",
       "      <td>data:geometry:horizontal_tail:root:chord</td>\n",
       "      <td>OUT</td>\n",
       "      <td>chord length at root of horizontal tail</td>\n",
       "    </tr>\n",
       "    <tr>\n",
       "      <td>data:geometry:horizontal_tail:span</td>\n",
       "      <td>OUT</td>\n",
       "      <td>horizontal tail span</td>\n",
       "    </tr>\n",
       "    <tr>\n",
       "      <td>data:geometry:horizontal_tail:sweep_0</td>\n",
       "      <td>OUT</td>\n",
       "      <td>sweep angle at leading edge of horizontal tail</td>\n",
       "    </tr>\n",
       "    <tr>\n",
       "      <td>data:geometry:horizontal_tail:sweep_100</td>\n",
       "      <td>OUT</td>\n",
       "      <td>sweep angle at trailing edge of horizontal tail</td>\n",
       "    </tr>\n",
       "    <tr>\n",
       "      <td>data:geometry:horizontal_tail:sweep_50</td>\n",
       "      <td>OUT</td>\n",
       "      <td></td>\n",
       "    </tr>\n",
       "    <tr>\n",
       "      <td>data:geometry:horizontal_tail:tip:chord</td>\n",
       "      <td>OUT</td>\n",
       "      <td>chord length at tip of horizontal tail</td>\n",
       "    </tr>\n",
       "    <tr>\n",
       "      <td>data:geometry:horizontal_tail:volume_coefficient</td>\n",
       "      <td>OUT</td>\n",
       "      <td></td>\n",
       "    </tr>\n",
       "    <tr>\n",
       "      <td>data:geometry:horizontal_tail:wet_area</td>\n",
       "      <td>OUT</td>\n",
       "      <td>wet area of horizontal tail</td>\n",
       "    </tr>\n",
       "    <tr>\n",
       "      <td>data:geometry:horizontal_tail:z:from_wingMAC25</td>\n",
       "      <td>OUT</td>\n",
       "      <td>Z-position of the horizontal tail w.r.t. 25% MAC of wing Z-position</td>\n",
       "    </tr>\n",
       "    <tr>\n",
       "      <td>data:geometry:landing_gear:height</td>\n",
       "      <td>OUT</td>\n",
       "      <td>height of the landing gear</td>\n",
       "    </tr>\n",
       "    <tr>\n",
       "      <td>data:geometry:landing_gear:y</td>\n",
       "      <td>OUT</td>\n",
       "      <td>landing gear position along the wing</td>\n",
       "    </tr>\n",
       "    <tr>\n",
       "      <td>data:geometry:propulsion:nacelle:from_LE</td>\n",
       "      <td>OUT</td>\n",
       "      <td></td>\n",
       "    </tr>\n",
       "    <tr>\n",
       "      <td>data:geometry:propulsion:nacelle:height</td>\n",
       "      <td>OUT</td>\n",
       "      <td>height of the nacelle</td>\n",
       "    </tr>\n",
       "    <tr>\n",
       "      <td>data:geometry:propulsion:nacelle:length</td>\n",
       "      <td>OUT</td>\n",
       "      <td>length of the nacelle</td>\n",
       "    </tr>\n",
       "    <tr>\n",
       "      <td>data:geometry:propulsion:nacelle:master_cross_section</td>\n",
       "      <td>OUT</td>\n",
       "      <td></td>\n",
       "    </tr>\n",
       "    <tr>\n",
       "      <td>data:geometry:propulsion:nacelle:wet_area</td>\n",
       "      <td>OUT</td>\n",
       "      <td>nacelle wet area</td>\n",
       "    </tr>\n",
       "    <tr>\n",
       "      <td>data:geometry:propulsion:nacelle:width</td>\n",
       "      <td>OUT</td>\n",
       "      <td>width of the nacelle</td>\n",
       "    </tr>\n",
       "    <tr>\n",
       "      <td>data:geometry:propulsion:nacelle:x</td>\n",
       "      <td>OUT</td>\n",
       "      <td>position, with respect to the aircraft nose, of the furthest point of the nacelle from the nose</td>\n",
       "    </tr>\n",
       "    <tr>\n",
       "      <td>data:geometry:propulsion:nacelle:y</td>\n",
       "      <td>OUT</td>\n",
       "      <td>position of the nacelles along the wing</td>\n",
       "    </tr>\n",
       "    <tr>\n",
       "      <td>data:geometry:vertical_tail:MAC:at25percent:x:from_wingMAC25</td>\n",
       "      <td>OUT</td>\n",
       "      <td>distance along X between 25% MAC of wing and 25% MAC of vertical tail</td>\n",
       "    </tr>\n",
       "    <tr>\n",
       "      <td>data:geometry:vertical_tail:MAC:at25percent:x:local</td>\n",
       "      <td>OUT</td>\n",
       "      <td>X-position of the 25% of mean aerodynamic chord of vertical tail w.r.t. leading edge of root chord</td>\n",
       "    </tr>\n",
       "    <tr>\n",
       "      <td>data:geometry:vertical_tail:MAC:length</td>\n",
       "      <td>OUT</td>\n",
       "      <td>mean aerodynamic chord length of vertical tail</td>\n",
       "    </tr>\n",
       "    <tr>\n",
       "      <td>data:geometry:vertical_tail:MAC:z</td>\n",
       "      <td>OUT</td>\n",
       "      <td>Z-position of mean aerodynamic chord of vertical tail</td>\n",
       "    </tr>\n",
       "    <tr>\n",
       "      <td>data:geometry:vertical_tail:area</td>\n",
       "      <td>OUT</td>\n",
       "      <td>vertical tail area</td>\n",
       "    </tr>\n",
       "    <tr>\n",
       "      <td>data:geometry:vertical_tail:root:chord</td>\n",
       "      <td>OUT</td>\n",
       "      <td>chord length at root of vertical tail</td>\n",
       "    </tr>\n",
       "    <tr>\n",
       "      <td>data:geometry:vertical_tail:span</td>\n",
       "      <td>OUT</td>\n",
       "      <td>vertical tail span</td>\n",
       "    </tr>\n",
       "    <tr>\n",
       "      <td>data:geometry:vertical_tail:sweep_0</td>\n",
       "      <td>OUT</td>\n",
       "      <td>sweep angle at leading edge of vertical tail</td>\n",
       "    </tr>\n",
       "    <tr>\n",
       "      <td>data:geometry:vertical_tail:sweep_100</td>\n",
       "      <td>OUT</td>\n",
       "      <td>sweep angle at trailing edge of vertical tail</td>\n",
       "    </tr>\n",
       "    <tr>\n",
       "      <td>data:geometry:vertical_tail:sweep_50</td>\n",
       "      <td>OUT</td>\n",
       "      <td></td>\n",
       "    </tr>\n",
       "    <tr>\n",
       "      <td>data:geometry:vertical_tail:tip:chord</td>\n",
       "      <td>OUT</td>\n",
       "      <td>chord length at tip of vertical tail</td>\n",
       "    </tr>\n",
       "    <tr>\n",
       "      <td>data:geometry:vertical_tail:wet_area</td>\n",
       "      <td>OUT</td>\n",
       "      <td>wet area of vertical tail</td>\n",
       "    </tr>\n",
       "    <tr>\n",
       "      <td>data:geometry:wing:MAC:at25percent:x</td>\n",
       "      <td>OUT</td>\n",
       "      <td>X-position of the 25% of mean aerodynamic chord of wing w.r.t. aircraft nose (drives position of wing along fuselage)</td>\n",
       "    </tr>\n",
       "    <tr>\n",
       "      <td>data:geometry:wing:MAC:leading_edge:x:absolute</td>\n",
       "      <td>OUT</td>\n",
       "      <td></td>\n",
       "    </tr>\n",
       "    <tr>\n",
       "      <td>data:geometry:wing:MAC:leading_edge:x:local</td>\n",
       "      <td>OUT</td>\n",
       "      <td>X-position of leading edge of mean aerodynamic chord w.r.t. leading edge of root chord</td>\n",
       "    </tr>\n",
       "    <tr>\n",
       "      <td>data:geometry:wing:MAC:length</td>\n",
       "      <td>OUT</td>\n",
       "      <td>length of mean aerodynamic chord of wing</td>\n",
       "    </tr>\n",
       "    <tr>\n",
       "      <td>data:geometry:wing:MAC:y</td>\n",
       "      <td>OUT</td>\n",
       "      <td>Y-position of mean aerodynamic chord of wing</td>\n",
       "    </tr>\n",
       "    <tr>\n",
       "      <td>data:geometry:wing:area</td>\n",
       "      <td>OUT</td>\n",
       "      <td>wing area</td>\n",
       "    </tr>\n",
       "    <tr>\n",
       "      <td>data:geometry:wing:b_50</td>\n",
       "      <td>OUT</td>\n",
       "      <td>actual length between root and tip along 50% of chord</td>\n",
       "    </tr>\n",
       "    <tr>\n",
       "      <td>data:geometry:wing:kink:chord</td>\n",
       "      <td>OUT</td>\n",
       "      <td>chord length at wing kink</td>\n",
       "    </tr>\n",
       "    <tr>\n",
       "      <td>data:geometry:wing:kink:leading_edge:x:local</td>\n",
       "      <td>OUT</td>\n",
       "      <td>X-position of leading edge at wing kink w.r.t. leading edge of root chord</td>\n",
       "    </tr>\n",
       "    <tr>\n",
       "      <td>data:geometry:wing:kink:thickness_ratio</td>\n",
       "      <td>OUT</td>\n",
       "      <td>thickness ratio at wing kink</td>\n",
       "    </tr>\n",
       "    <tr>\n",
       "      <td>data:geometry:wing:kink:y</td>\n",
       "      <td>OUT</td>\n",
       "      <td>Y-position of wing kink</td>\n",
       "    </tr>\n",
       "    <tr>\n",
       "      <td>data:geometry:wing:outer_area</td>\n",
       "      <td>OUT</td>\n",
       "      <td>wing area outside of fuselage</td>\n",
       "    </tr>\n",
       "    <tr>\n",
       "      <td>data:geometry:wing:root:chord</td>\n",
       "      <td>OUT</td>\n",
       "      <td>chord length at wing root</td>\n",
       "    </tr>\n",
       "    <tr>\n",
       "      <td>data:geometry:wing:root:thickness_ratio</td>\n",
       "      <td>OUT</td>\n",
       "      <td>thickness ratio at wing root</td>\n",
       "    </tr>\n",
       "    <tr>\n",
       "      <td>data:geometry:wing:root:virtual_chord</td>\n",
       "      <td>OUT</td>\n",
       "      <td>virtual chord length at wing root if sweep angle of trailing edge of outer wing part was on the whole wing (no kink)</td>\n",
       "    </tr>\n",
       "    <tr>\n",
       "      <td>data:geometry:wing:root:y</td>\n",
       "      <td>OUT</td>\n",
       "      <td>Y-position of wing root</td>\n",
       "    </tr>\n",
       "    <tr>\n",
       "      <td>data:geometry:wing:root:z</td>\n",
       "      <td>OUT</td>\n",
       "      <td>Distance between the wing aerodynamic center at the root and the fuselage centerline, taken positive when wing is below the fuselage centerline</td>\n",
       "    </tr>\n",
       "    <tr>\n",
       "      <td>data:geometry:wing:span</td>\n",
       "      <td>OUT</td>\n",
       "      <td>wing span</td>\n",
       "    </tr>\n",
       "    <tr>\n",
       "      <td>data:geometry:wing:sweep_0</td>\n",
       "      <td>OUT</td>\n",
       "      <td>sweep angle at leading edge of wing</td>\n",
       "    </tr>\n",
       "    <tr>\n",
       "      <td>data:geometry:wing:sweep_100_inner</td>\n",
       "      <td>OUT</td>\n",
       "      <td>sweep angle at trailing edge of wing (inner side of the kink)</td>\n",
       "    </tr>\n",
       "    <tr>\n",
       "      <td>data:geometry:wing:sweep_100_outer</td>\n",
       "      <td>OUT</td>\n",
       "      <td>sweep angle at trailing edge of wing (outer side of the kink)</td>\n",
       "    </tr>\n",
       "    <tr>\n",
       "      <td>data:geometry:wing:sweep_50</td>\n",
       "      <td>OUT</td>\n",
       "      <td></td>\n",
       "    </tr>\n",
       "    <tr>\n",
       "      <td>data:geometry:wing:tip:chord</td>\n",
       "      <td>OUT</td>\n",
       "      <td>chord length at wing tip</td>\n",
       "    </tr>\n",
       "    <tr>\n",
       "      <td>data:geometry:wing:tip:leading_edge:x:absolute</td>\n",
       "      <td>OUT</td>\n",
       "      <td></td>\n",
       "    </tr>\n",
       "    <tr>\n",
       "      <td>data:geometry:wing:tip:leading_edge:x:local</td>\n",
       "      <td>OUT</td>\n",
       "      <td>X-position of leading edge at wing tip w.r.t. leading edge of root chord</td>\n",
       "    </tr>\n",
       "    <tr>\n",
       "      <td>data:geometry:wing:tip:thickness_ratio</td>\n",
       "      <td>OUT</td>\n",
       "      <td>thickness ratio at wing tip</td>\n",
       "    </tr>\n",
       "    <tr>\n",
       "      <td>data:geometry:wing:tip:y</td>\n",
       "      <td>OUT</td>\n",
       "      <td>Y-position of wing tip</td>\n",
       "    </tr>\n",
       "    <tr>\n",
       "      <td>data:geometry:wing:tip:z</td>\n",
       "      <td>OUT</td>\n",
       "      <td>Distance between the wing aerodynamic center at the tip and the fuselage centerline, taken positive when wing is below the fuselage centerline</td>\n",
       "    </tr>\n",
       "    <tr>\n",
       "      <td>data:geometry:wing:wet_area</td>\n",
       "      <td>OUT</td>\n",
       "      <td>wet area of wing</td>\n",
       "    </tr>\n",
       "    <tr>\n",
       "      <td>data:handling_qualities:stick_fixed_static_margin</td>\n",
       "      <td>OUT</td>\n",
       "      <td>stick fixed static margin</td>\n",
       "    </tr>\n",
       "    <tr>\n",
       "      <td>data:handling_qualities:stick_free_static_margin</td>\n",
       "      <td>OUT</td>\n",
       "      <td>stick free static margin</td>\n",
       "    </tr>\n",
       "    <tr>\n",
       "      <td>data:mission:sizing:fuel</td>\n",
       "      <td>OUT</td>\n",
       "      <td></td>\n",
       "    </tr>\n",
       "    <tr>\n",
       "      <td>data:mission:sizing:initial_climb:fuel</td>\n",
       "      <td>OUT</td>\n",
       "      <td></td>\n",
       "    </tr>\n",
       "    <tr>\n",
       "      <td>data:mission:sizing:main_route:climb:distance</td>\n",
       "      <td>OUT</td>\n",
       "      <td></td>\n",
       "    </tr>\n",
       "    <tr>\n",
       "      <td>data:mission:sizing:main_route:climb:duration</td>\n",
       "      <td>OUT</td>\n",
       "      <td></td>\n",
       "    </tr>\n",
       "    <tr>\n",
       "      <td>data:mission:sizing:main_route:climb:fuel</td>\n",
       "      <td>OUT</td>\n",
       "      <td></td>\n",
       "    </tr>\n",
       "    <tr>\n",
       "      <td>data:mission:sizing:main_route:climb:v_cas</td>\n",
       "      <td>OUT</td>\n",
       "      <td></td>\n",
       "    </tr>\n",
       "    <tr>\n",
       "      <td>data:mission:sizing:main_route:cruise:distance</td>\n",
       "      <td>OUT</td>\n",
       "      <td></td>\n",
       "    </tr>\n",
       "    <tr>\n",
       "      <td>data:mission:sizing:main_route:cruise:duration</td>\n",
       "      <td>OUT</td>\n",
       "      <td></td>\n",
       "    </tr>\n",
       "    <tr>\n",
       "      <td>data:mission:sizing:main_route:cruise:fuel</td>\n",
       "      <td>OUT</td>\n",
       "      <td></td>\n",
       "    </tr>\n",
       "    <tr>\n",
       "      <td>data:mission:sizing:main_route:descent:distance</td>\n",
       "      <td>OUT</td>\n",
       "      <td></td>\n",
       "    </tr>\n",
       "    <tr>\n",
       "      <td>data:mission:sizing:main_route:descent:duration</td>\n",
       "      <td>OUT</td>\n",
       "      <td></td>\n",
       "    </tr>\n",
       "    <tr>\n",
       "      <td>data:mission:sizing:main_route:descent:fuel</td>\n",
       "      <td>OUT</td>\n",
       "      <td></td>\n",
       "    </tr>\n",
       "    <tr>\n",
       "      <td>data:mission:sizing:main_route:descent:v_cas</td>\n",
       "      <td>OUT</td>\n",
       "      <td></td>\n",
       "    </tr>\n",
       "    <tr>\n",
       "      <td>data:mission:sizing:main_route:reserve:fuel</td>\n",
       "      <td>OUT</td>\n",
       "      <td></td>\n",
       "    </tr>\n",
       "    <tr>\n",
       "      <td>data:mission:sizing:takeoff:TOFL</td>\n",
       "      <td>OUT</td>\n",
       "      <td></td>\n",
       "    </tr>\n",
       "    <tr>\n",
       "      <td>data:mission:sizing:takeoff:V2</td>\n",
       "      <td>OUT</td>\n",
       "      <td></td>\n",
       "    </tr>\n",
       "    <tr>\n",
       "      <td>data:mission:sizing:takeoff:VLOF</td>\n",
       "      <td>OUT</td>\n",
       "      <td></td>\n",
       "    </tr>\n",
       "    <tr>\n",
       "      <td>data:mission:sizing:takeoff:VR</td>\n",
       "      <td>OUT</td>\n",
       "      <td></td>\n",
       "    </tr>\n",
       "    <tr>\n",
       "      <td>data:mission:sizing:takeoff:climb_gradient</td>\n",
       "      <td>OUT</td>\n",
       "      <td></td>\n",
       "    </tr>\n",
       "    <tr>\n",
       "      <td>data:mission:sizing:takeoff:duration</td>\n",
       "      <td>OUT</td>\n",
       "      <td></td>\n",
       "    </tr>\n",
       "    <tr>\n",
       "      <td>data:mission:sizing:takeoff:fuel</td>\n",
       "      <td>OUT</td>\n",
       "      <td></td>\n",
       "    </tr>\n",
       "    <tr>\n",
       "      <td>data:mission:sizing:takeoff:ground_roll</td>\n",
       "      <td>OUT</td>\n",
       "      <td></td>\n",
       "    </tr>\n",
       "    <tr>\n",
       "      <td>data:mission:sizing:taxi_in:fuel</td>\n",
       "      <td>OUT</td>\n",
       "      <td></td>\n",
       "    </tr>\n",
       "    <tr>\n",
       "      <td>data:mission:sizing:taxi_out:fuel</td>\n",
       "      <td>OUT</td>\n",
       "      <td></td>\n",
       "    </tr>\n",
       "    <tr>\n",
       "      <td>data:weight:aircraft:CG:aft:MAC_position</td>\n",
       "      <td>OUT</td>\n",
       "      <td>most aft X-position of center of gravity as ratio of mean aerodynamic chord</td>\n",
       "    </tr>\n",
       "    <tr>\n",
       "      <td>data:weight:aircraft:CG:aft:x</td>\n",
       "      <td>OUT</td>\n",
       "      <td>most aft X-position of aircraft center of gravity</td>\n",
       "    </tr>\n",
       "    <tr>\n",
       "      <td>data:weight:aircraft:CG:flight_condition:max:MAC_position</td>\n",
       "      <td>OUT</td>\n",
       "      <td>most aft position of the CG with respect to the mean aerodynamic chord based on all possible flight loading case</td>\n",
       "    </tr>\n",
       "    <tr>\n",
       "      <td>data:weight:aircraft:CG:flight_condition:min:MAC_position</td>\n",
       "      <td>OUT</td>\n",
       "      <td>most fwd position of the CG with respect to the mean aerodynamic chord based on all possible flight loading case</td>\n",
       "    </tr>\n",
       "    <tr>\n",
       "      <td>data:weight:aircraft:CG:fwd:MAC_position</td>\n",
       "      <td>OUT</td>\n",
       "      <td>most fwd X-position of center of gravity as ratio of mean aerodynamic chord</td>\n",
       "    </tr>\n",
       "    <tr>\n",
       "      <td>data:weight:aircraft:CG:fwd:x</td>\n",
       "      <td>OUT</td>\n",
       "      <td>most fwd X-position of center of gravity</td>\n",
       "    </tr>\n",
       "    <tr>\n",
       "      <td>data:weight:aircraft:CG:ground_condition:max:MAC_position</td>\n",
       "      <td>OUT</td>\n",
       "      <td>most aft X-position of center of gravity as ratio of mean aerodynamic chord for ground conditions</td>\n",
       "    </tr>\n",
       "    <tr>\n",
       "      <td>data:weight:aircraft:CG:ground_condition:min:MAC_position</td>\n",
       "      <td>OUT</td>\n",
       "      <td>most fwd X-position of center of gravity as ratio of mean aerodynamic chord for ground conditions</td>\n",
       "    </tr>\n",
       "    <tr>\n",
       "      <td>data:weight:aircraft:MFW</td>\n",
       "      <td>OUT</td>\n",
       "      <td>maximum fuel weight</td>\n",
       "    </tr>\n",
       "    <tr>\n",
       "      <td>data:weight:aircraft:MLW</td>\n",
       "      <td>OUT</td>\n",
       "      <td>maximum landing weight</td>\n",
       "    </tr>\n",
       "    <tr>\n",
       "      <td>data:weight:aircraft:MTOW</td>\n",
       "      <td>OUT</td>\n",
       "      <td>maximum takeoff weight of the aircraft</td>\n",
       "    </tr>\n",
       "    <tr>\n",
       "      <td>data:weight:aircraft:MZFW</td>\n",
       "      <td>OUT</td>\n",
       "      <td>maximum zero fuel weight</td>\n",
       "    </tr>\n",
       "    <tr>\n",
       "      <td>data:weight:aircraft:OWE</td>\n",
       "      <td>OUT</td>\n",
       "      <td>Mass of aircraft</td>\n",
       "    </tr>\n",
       "    <tr>\n",
       "      <td>data:weight:aircraft:ZFW</td>\n",
       "      <td>OUT</td>\n",
       "      <td>aircraft mass with payload, without fuel</td>\n",
       "    </tr>\n",
       "    <tr>\n",
       "      <td>data:weight:aircraft:empty:CG:MAC_position</td>\n",
       "      <td>OUT</td>\n",
       "      <td>X-position of center of gravity as ratio of mean aerodynamic chord for empty aircraft</td>\n",
       "    </tr>\n",
       "    <tr>\n",
       "      <td>data:weight:aircraft:in_flight_variation:fixed_mass_comp:equivalent_moment</td>\n",
       "      <td>OUT</td>\n",
       "      <td></td>\n",
       "    </tr>\n",
       "    <tr>\n",
       "      <td>data:weight:aircraft:in_flight_variation:fixed_mass_comp:mass</td>\n",
       "      <td>OUT</td>\n",
       "      <td></td>\n",
       "    </tr>\n",
       "    <tr>\n",
       "      <td>data:weight:aircraft:max_payload</td>\n",
       "      <td>OUT</td>\n",
       "      <td>max payload weight</td>\n",
       "    </tr>\n",
       "    <tr>\n",
       "      <td>data:weight:aircraft:payload</td>\n",
       "      <td>OUT</td>\n",
       "      <td>design payload weight</td>\n",
       "    </tr>\n",
       "    <tr>\n",
       "      <td>data:weight:aircraft_empty:CG:x</td>\n",
       "      <td>OUT</td>\n",
       "      <td>X-position center of gravity of empty aircraft</td>\n",
       "    </tr>\n",
       "    <tr>\n",
       "      <td>data:weight:aircraft_empty:CG:z</td>\n",
       "      <td>OUT</td>\n",
       "      <td>Z-position center of gravity of empty aircraft</td>\n",
       "    </tr>\n",
       "    <tr>\n",
       "      <td>data:weight:aircraft_empty:mass</td>\n",
       "      <td>OUT</td>\n",
       "      <td>mass of empty aircraft</td>\n",
       "    </tr>\n",
       "    <tr>\n",
       "      <td>data:weight:airframe:flight_controls:CG:x</td>\n",
       "      <td>OUT</td>\n",
       "      <td>X-position of center of gravity of the flight controls</td>\n",
       "    </tr>\n",
       "    <tr>\n",
       "      <td>data:weight:airframe:flight_controls:mass</td>\n",
       "      <td>OUT</td>\n",
       "      <td>Mass of the airframe_inp_data:weight:airframe:flight_controls:mass</td>\n",
       "    </tr>\n",
       "    <tr>\n",
       "      <td>data:weight:airframe:fuselage:CG:x</td>\n",
       "      <td>OUT</td>\n",
       "      <td>X-position of center of gravity of the fuselage</td>\n",
       "    </tr>\n",
       "    <tr>\n",
       "      <td>data:weight:airframe:fuselage:mass</td>\n",
       "      <td>OUT</td>\n",
       "      <td>Mass of the airframe_inp_data:weight:airframe:fuselage:mass</td>\n",
       "    </tr>\n",
       "    <tr>\n",
       "      <td>data:weight:airframe:horizontal_tail:CG:x</td>\n",
       "      <td>OUT</td>\n",
       "      <td>X-position of center of gravity of the horizontal tail</td>\n",
       "    </tr>\n",
       "    <tr>\n",
       "      <td>data:weight:airframe:horizontal_tail:mass</td>\n",
       "      <td>OUT</td>\n",
       "      <td>Mass of the airframe_inp_data:weight:airframe:horizontal_tail:mass</td>\n",
       "    </tr>\n",
       "    <tr>\n",
       "      <td>data:weight:airframe:landing_gear:front:CG:x</td>\n",
       "      <td>OUT</td>\n",
       "      <td>X-position of center of gravity of the front landing gear</td>\n",
       "    </tr>\n",
       "    <tr>\n",
       "      <td>data:weight:airframe:landing_gear:front:mass</td>\n",
       "      <td>OUT</td>\n",
       "      <td>Mass of the airframe_inp_data:weight:airframe:landing_gear:front:mass</td>\n",
       "    </tr>\n",
       "    <tr>\n",
       "      <td>data:weight:airframe:landing_gear:main:CG:x</td>\n",
       "      <td>OUT</td>\n",
       "      <td>X-position of center of gravity of the main landing gear</td>\n",
       "    </tr>\n",
       "    <tr>\n",
       "      <td>data:weight:airframe:landing_gear:main:mass</td>\n",
       "      <td>OUT</td>\n",
       "      <td>Mass of the airframe_inp_data:weight:airframe:landing_gear:main:mass</td>\n",
       "    </tr>\n",
       "    <tr>\n",
       "      <td>data:weight:airframe:mass</td>\n",
       "      <td>OUT</td>\n",
       "      <td>Mass of the airframe</td>\n",
       "    </tr>\n",
       "    <tr>\n",
       "      <td>data:weight:airframe:vertical_tail:CG:x</td>\n",
       "      <td>OUT</td>\n",
       "      <td>X-position of center of gravity of the vertical tail</td>\n",
       "    </tr>\n",
       "    <tr>\n",
       "      <td>data:weight:airframe:vertical_tail:mass</td>\n",
       "      <td>OUT</td>\n",
       "      <td>Mass of the airframe_inp_data:weight:airframe:vertical_tail:mass</td>\n",
       "    </tr>\n",
       "    <tr>\n",
       "      <td>data:weight:airframe:wing:CG:x</td>\n",
       "      <td>OUT</td>\n",
       "      <td>X-position of center of gravity of the wing</td>\n",
       "    </tr>\n",
       "    <tr>\n",
       "      <td>data:weight:airframe:wing:mass</td>\n",
       "      <td>OUT</td>\n",
       "      <td>Mass of the airframe_inp_data:weight:airframe:wing:mass</td>\n",
       "    </tr>\n",
       "    <tr>\n",
       "      <td>data:weight:furniture:mass</td>\n",
       "      <td>OUT</td>\n",
       "      <td>Mass of aircraft furniture</td>\n",
       "    </tr>\n",
       "    <tr>\n",
       "      <td>data:weight:furniture:passenger_seats:CG:x</td>\n",
       "      <td>OUT</td>\n",
       "      <td>X-position of center of gravity of the passenger/pilot seats</td>\n",
       "    </tr>\n",
       "    <tr>\n",
       "      <td>data:weight:furniture:passenger_seats:mass</td>\n",
       "      <td>OUT</td>\n",
       "      <td>Mass of aircraft furniture_inp_data:weight:furniture:passenger_seats:mass</td>\n",
       "    </tr>\n",
       "    <tr>\n",
       "      <td>data:weight:payload:PAX:CG:x</td>\n",
       "      <td>OUT</td>\n",
       "      <td>X-position of center of gravity of the passengers/pilots</td>\n",
       "    </tr>\n",
       "    <tr>\n",
       "      <td>data:weight:payload:front_fret:CG:x</td>\n",
       "      <td>OUT</td>\n",
       "      <td>X-position of center of gravity of the front fret</td>\n",
       "    </tr>\n",
       "    <tr>\n",
       "      <td>data:weight:payload:rear_fret:CG:x</td>\n",
       "      <td>OUT</td>\n",
       "      <td>X-position of center of gravity of the rear fret</td>\n",
       "    </tr>\n",
       "    <tr>\n",
       "      <td>data:weight:propulsion:CG:x</td>\n",
       "      <td>OUT</td>\n",
       "      <td></td>\n",
       "    </tr>\n",
       "    <tr>\n",
       "      <td>data:weight:propulsion:engine:CG:x</td>\n",
       "      <td>OUT</td>\n",
       "      <td>X-position of center of gravity of the engine(s)</td>\n",
       "    </tr>\n",
       "    <tr>\n",
       "      <td>data:weight:propulsion:engine:CG:z</td>\n",
       "      <td>OUT</td>\n",
       "      <td>Z-position of center of gravity of the engine(s)</td>\n",
       "    </tr>\n",
       "    <tr>\n",
       "      <td>data:weight:propulsion:engine:mass</td>\n",
       "      <td>OUT</td>\n",
       "      <td>Mass of the propulsion system_inp_data:weight:propulsion:engine:mass</td>\n",
       "    </tr>\n",
       "    <tr>\n",
       "      <td>data:weight:propulsion:fuel_lines:CG:x</td>\n",
       "      <td>OUT</td>\n",
       "      <td>X-position of center of gravity of the fuel lines</td>\n",
       "    </tr>\n",
       "    <tr>\n",
       "      <td>data:weight:propulsion:fuel_lines:mass</td>\n",
       "      <td>OUT</td>\n",
       "      <td>Mass of the propulsion system_inp_data:weight:propulsion:fuel_lines:mass</td>\n",
       "    </tr>\n",
       "    <tr>\n",
       "      <td>data:weight:propulsion:mass</td>\n",
       "      <td>OUT</td>\n",
       "      <td>Mass of the propulsion system</td>\n",
       "    </tr>\n",
       "    <tr>\n",
       "      <td>data:weight:propulsion:tank:CG:x</td>\n",
       "      <td>OUT</td>\n",
       "      <td>X-position of center of gravity of the tank</td>\n",
       "    </tr>\n",
       "    <tr>\n",
       "      <td>data:weight:propulsion:unusable_fuel:mass</td>\n",
       "      <td>OUT</td>\n",
       "      <td>total unusable fuel mass</td>\n",
       "    </tr>\n",
       "    <tr>\n",
       "      <td>data:weight:systems:avionics:CG:x</td>\n",
       "      <td>OUT</td>\n",
       "      <td>X-position of center of gravity of the navigation system</td>\n",
       "    </tr>\n",
       "    <tr>\n",
       "      <td>data:weight:systems:avionics:mass</td>\n",
       "      <td>OUT</td>\n",
       "      <td>Mass of aircraft systems_inp_data:weight:systems:avionics:mass</td>\n",
       "    </tr>\n",
       "    <tr>\n",
       "      <td>data:weight:systems:life_support:air_conditioning:CG:x</td>\n",
       "      <td>OUT</td>\n",
       "      <td>X-position of center of gravity of the air conditioning</td>\n",
       "    </tr>\n",
       "    <tr>\n",
       "      <td>data:weight:systems:life_support:air_conditioning:mass</td>\n",
       "      <td>OUT</td>\n",
       "      <td>Mass of aircraft systems_inp_data:weight:systems:life_support:air_conditioning:mass</td>\n",
       "    </tr>\n",
       "    <tr>\n",
       "      <td>data:weight:systems:life_support:de_icing:mass</td>\n",
       "      <td>OUT</td>\n",
       "      <td>Mass of aircraft systems_inp_data:weight:systems:life_support:de_icing:mass</td>\n",
       "    </tr>\n",
       "    <tr>\n",
       "      <td>data:weight:systems:life_support:fixed_oxygen:mass</td>\n",
       "      <td>OUT</td>\n",
       "      <td>Mass of aircraft systems_inp_data:weight:systems:life_support:fixed_oxygen:mass</td>\n",
       "    </tr>\n",
       "    <tr>\n",
       "      <td>data:weight:systems:life_support:insulation:mass</td>\n",
       "      <td>OUT</td>\n",
       "      <td>Mass of aircraft systems_inp_data:weight:systems:life_support:insulation:mass</td>\n",
       "    </tr>\n",
       "    <tr>\n",
       "      <td>data:weight:systems:life_support:internal_lighting:mass</td>\n",
       "      <td>OUT</td>\n",
       "      <td>Mass of aircraft systems_inp_data:weight:systems:life_support:internal_lighting:mass</td>\n",
       "    </tr>\n",
       "    <tr>\n",
       "      <td>data:weight:systems:life_support:seat_installation:mass</td>\n",
       "      <td>OUT</td>\n",
       "      <td>Mass of aircraft systems_inp_data:weight:systems:life_support:seat_installation:mass</td>\n",
       "    </tr>\n",
       "    <tr>\n",
       "      <td>data:weight:systems:life_support:security_kits:mass</td>\n",
       "      <td>OUT</td>\n",
       "      <td>Mass of aircraft systems_inp_data:weight:systems:life_support:security_kits:mass</td>\n",
       "    </tr>\n",
       "    <tr>\n",
       "      <td>data:weight:systems:mass</td>\n",
       "      <td>OUT</td>\n",
       "      <td>Mass of aircraft systems</td>\n",
       "    </tr>\n",
       "    <tr>\n",
       "      <td>data:weight:systems:power:electric_systems:CG:x</td>\n",
       "      <td>OUT</td>\n",
       "      <td>X-position of center of gravity of the electric power unit</td>\n",
       "    </tr>\n",
       "    <tr>\n",
       "      <td>data:weight:systems:power:electric_systems:mass</td>\n",
       "      <td>OUT</td>\n",
       "      <td>Mass of aircraft systems_inp_data:weight:systems:power:electric_systems:mass</td>\n",
       "    </tr>\n",
       "    <tr>\n",
       "      <td>data:weight:systems:power:hydraulic_systems:CG:x</td>\n",
       "      <td>OUT</td>\n",
       "      <td>X-position of center of gravity of the hydraulic power unit</td>\n",
       "    </tr>\n",
       "    <tr>\n",
       "      <td>data:weight:systems:power:hydraulic_systems:mass</td>\n",
       "      <td>OUT</td>\n",
       "      <td>Mass of aircraft systems_inp_data:weight:systems:power:hydraulic_systems:mass</td>\n",
       "    </tr>\n",
       "    <tr>\n",
       "      <td>data:weight:systems:recording:CG:x</td>\n",
       "      <td>OUT</td>\n",
       "      <td></td>\n",
       "    </tr>\n",
       "    <tr>\n",
       "      <td>data:weight:systems:recording:mass</td>\n",
       "      <td>OUT</td>\n",
       "      <td>Mass of aircraft systems_inp_data:weight:systems:recording:mass</td>\n",
       "    </tr>\n",
       "    <tr>\n",
       "      <td>xfoil:horizontal_tail:CL</td>\n",
       "      <td>OUT</td>\n",
       "      <td></td>\n",
       "    </tr>\n",
       "    <tr>\n",
       "      <td>xfoil:horizontal_tail:alpha</td>\n",
       "      <td>OUT</td>\n",
       "      <td></td>\n",
       "    </tr>\n",
       "    <tr>\n",
       "      <td>xfoil:vertical_tail:CL</td>\n",
       "      <td>OUT</td>\n",
       "      <td></td>\n",
       "    </tr>\n",
       "    <tr>\n",
       "      <td>xfoil:vertical_tail:alpha</td>\n",
       "      <td>OUT</td>\n",
       "      <td></td>\n",
       "    </tr>\n",
       "    <tr>\n",
       "      <td>xfoil:wing:CL</td>\n",
       "      <td>OUT</td>\n",
       "      <td></td>\n",
       "    </tr>\n",
       "    <tr>\n",
       "      <td>xfoil:wing:alpha</td>\n",
       "      <td>OUT</td>\n",
       "      <td></td>\n",
       "    </tr>\n",
       "  </tbody>\n",
       "</table>"
      ],
      "text/plain": [
       "<IPython.core.display.HTML object>"
      ]
     },
     "metadata": {},
     "output_type": "display_data"
    }
   ],
   "source": [
    "api_cs25.list_variables(CONFIGURATION_FILE)"
   ]
  },
  {
   "cell_type": "markdown",
   "metadata": {},
   "source": [
    "Another useful feature is to list the modules of the model defined in the configuration file:"
   ]
  },
  {
   "cell_type": "code",
   "execution_count": 6,
   "metadata": {},
   "outputs": [
    {
     "data": {
      "text/html": [
       "<table>\n",
       "<tbody>\n",
       "<tr><td>AVAILABLE MODULE IDENTIFIERS                           </td><td>MODULE PATH                                                                                                                              </td></tr>\n",
       "<tr><td>fastga.aerodynamics.cl_cd_polar                        </td><td>/Users/BielGaliot/Documents/GitHub/FAST-GA/src/fastga/models/aerodynamics/compute_polar.py                                               </td></tr>\n",
       "<tr><td>fastga.aerodynamics.highspeed.legacy                   </td><td>/Users/BielGaliot/Documents/GitHub/FAST-GA/src/fastga/models/aerodynamics/aerodynamics_high_speed.py                                     </td></tr>\n",
       "<tr><td>fastga.aerodynamics.legacy                             </td><td>/Users/BielGaliot/Documents/GitHub/FAST-GA/src/fastga/models/aerodynamics/aerodynamics.py                                                </td></tr>\n",
       "<tr><td>fastga.aerodynamics.load_factor                        </td><td>/Users/BielGaliot/Documents/GitHub/FAST-GA/src/fastga/models/aerodynamics/load_factor.py                                                 </td></tr>\n",
       "<tr><td>fastga.aerodynamics.lowspeed.legacy                    </td><td>/Users/BielGaliot/Documents/GitHub/FAST-GA/src/fastga/models/aerodynamics/aerodynamics_low_speed.py                                      </td></tr>\n",
       "<tr><td>fastga.aerodynamics.propeller                          </td><td>/Users/BielGaliot/Documents/GitHub/FAST-GA/src/fastga/models/aerodynamics/external/propeller_code/compute_propeller_aero.py              </td></tr>\n",
       "<tr><td>fastga.aerodynamics.propeller.coeff_map                </td><td>/Users/BielGaliot/Documents/GitHub/FAST-GA/src/fastga/models/aerodynamics/external/propeller_code/compute_propeller_coefficient_map.py   </td></tr>\n",
       "<tr><td>fastga.aerodynamics.stability_derivatives.legacy       </td><td>/Users/BielGaliot/Documents/GitHub/FAST-GA/src/fastga/models/aerodynamics/aerodynamics_stability_derivatives.py                          </td></tr>\n",
       "<tr><td>fastga.geometry.alternate                              </td><td>/Users/BielGaliot/Documents/GitHub/FAST-GA/src/fastga/models/geometry/geometry.py                                                        </td></tr>\n",
       "<tr><td>fastga.geometry.legacy                                 </td><td>/Users/BielGaliot/Documents/GitHub/FAST-GA/src/fastga/models/geometry/geometry.py                                                        </td></tr>\n",
       "<tr><td>fastga.handling_qualities.all_handling_qualities       </td><td>/Users/BielGaliot/Documents/GitHub/FAST-GA/src/fastga/models/handling_qualities/handling_qualities.py                                    </td></tr>\n",
       "<tr><td>fastga.handling_qualities.static_margin                </td><td>/Users/BielGaliot/Documents/GitHub/FAST-GA/src/fastga/models/handling_qualities/compute_static_margin.py                                 </td></tr>\n",
       "<tr><td>fastga.handling_qualities.tail_sizing                  </td><td>/Users/BielGaliot/Documents/GitHub/FAST-GA/src/fastga/models/handling_qualities/tail_sizing/update_tail_areas.py                         </td></tr>\n",
       "<tr><td>fastga.loads.wing                                      </td><td>/Users/BielGaliot/Documents/GitHub/FAST-GA/src/fastga/models/load_analysis/wing/loads.py                                                 </td></tr>\n",
       "<tr><td>fastga.loop.mtow                                       </td><td>/Users/BielGaliot/Documents/GitHub/FAST-GA/src/fastga/models/weight/mass_breakdown/update_mtow.py                                        </td></tr>\n",
       "<tr><td>fastga.loop.wing_area                                  </td><td>/Users/BielGaliot/Documents/GitHub/FAST-GA/src/fastga/models/loops/update_wing_area_group.py                                             </td></tr>\n",
       "<tr><td>fastga.loop.wing_position                              </td><td>/Users/BielGaliot/Documents/GitHub/FAST-GA/src/fastga/models/loops/update_wing_position.py                                               </td></tr>\n",
       "<tr><td>fastga.performances.mission                            </td><td>/Users/BielGaliot/Documents/GitHub/FAST-GA/src/fastga/models/performances/mission/mission.py                                             </td></tr>\n",
       "<tr><td>fastga.performances.mission_builder_prep               </td><td>/Users/BielGaliot/Documents/GitHub/FAST-GA/src/fastga/models/performances/mission/mission_builder_prep.py                                </td></tr>\n",
       "<tr><td>fastga.performances.mission_vector                     </td><td>/Users/BielGaliot/Documents/GitHub/FAST-GA/src/fastga/models/performances/mission_vector/full_mission.py                                 </td></tr>\n",
       "<tr><td>fastga.performances.payload_range                      </td><td>/Users/BielGaliot/Documents/GitHub/FAST-GA/src/fastga/models/performances/payload_range/payload_range.py                                 </td></tr>\n",
       "<tr><td>fastga.propulsion.turboprop_construction               </td><td>/Users/BielGaliot/Documents/GitHub/FAST-GA/src/fastga/models/propulsion/fuel_propulsion/basicTurbo_prop_map/basicTP_engine_constructor.py</td></tr>\n",
       "<tr><td>fastga.weight.legacy                                   </td><td>/Users/BielGaliot/Documents/GitHub/FAST-GA/src/fastga/models/weight/weight.py                                                            </td></tr>\n",
       "<tr><td>fastoad.mass_performances.compute_MTOW                 </td><td>/Users/BielGaliot/anaconda3/envs/FAST-GA/lib/python3.8/site-packages/fastoad/models/performances/mission/openmdao/link_mtow.py           </td></tr>\n",
       "<tr><td>fastoad.performances.mission                           </td><td>/Users/BielGaliot/anaconda3/envs/FAST-GA/lib/python3.8/site-packages/fastoad/models/performances/mission/openmdao/mission.py             </td></tr>\n",
       "<tr><td>fastoad.performances.payload_range                     </td><td>/Users/BielGaliot/anaconda3/envs/FAST-GA/lib/python3.8/site-packages/fastoad/models/performances/mission/openmdao/payload_range.py       </td></tr>\n",
       "<tr><td>AVAILABLE PROPULSION WRAPPER IDENTIFIERS               </td><td>MODULE PATH                                                                                                                              </td></tr>\n",
       "<tr><td>fastga.wrapper.propulsion.basicIC_engine               </td><td>/Users/BielGaliot/Documents/GitHub/FAST-GA/src/fastga/models/propulsion/fuel_propulsion/basicIC_engine/openmdao.py                       </td></tr>\n",
       "<tr><td>fastga.wrapper.propulsion.basicTurboprop               </td><td>/Users/BielGaliot/Documents/GitHub/FAST-GA/src/fastga/models/propulsion/fuel_propulsion/basicTurbo_prop/openmdao.py                      </td></tr>\n",
       "<tr><td>fastga.wrapper.propulsion.basicTurbopropMapped         </td><td>/Users/BielGaliot/Documents/GitHub/FAST-GA/src/fastga/models/propulsion/fuel_propulsion/basicTurbo_prop_map/openmdao.py                  </td></tr>\n",
       "<tr><td>test.wrapper.aerodynamics.beechcraft.dummy_engine      </td><td>/Users/BielGaliot/Documents/GitHub/FAST-GA/src/fastga/models/aerodynamics/unitary_tests/dummy_engines.py                                 </td></tr>\n",
       "<tr><td>test.wrapper.aerodynamics.cirrus.dummy_engine          </td><td>/Users/BielGaliot/Documents/GitHub/FAST-GA/src/fastga/models/aerodynamics/unitary_tests/dummy_engines.py                                 </td></tr>\n",
       "<tr><td>test.wrapper.aerodynamics.daher.dummy_engine           </td><td>/Users/BielGaliot/Documents/GitHub/FAST-GA/src/fastga/models/aerodynamics/unitary_tests/dummy_engines.py                                 </td></tr>\n",
       "<tr><td>test.wrapper.cg.beechcraft.dummy_engine                </td><td>/Users/BielGaliot/Documents/GitHub/FAST-GA/src/fastga/models/weight/cg/unitary_tests/dummy_engines.py                                    </td></tr>\n",
       "<tr><td>test.wrapper.cg.cirrus.dummy_engine                    </td><td>/Users/BielGaliot/Documents/GitHub/FAST-GA/src/fastga/models/weight/cg/unitary_tests/dummy_engines.py                                    </td></tr>\n",
       "<tr><td>test.wrapper.cg.daher.dummy_engine                     </td><td>/Users/BielGaliot/Documents/GitHub/FAST-GA/src/fastga/models/weight/cg/unitary_tests/dummy_engines.py                                    </td></tr>\n",
       "<tr><td>test.wrapper.geometry.beechcraft.dummy_engine          </td><td>/Users/BielGaliot/Documents/GitHub/FAST-GA/src/fastga/models/geometry/unitary_tests/dummy_engines.py                                     </td></tr>\n",
       "<tr><td>test.wrapper.geometry.cirrus.dummy_engine              </td><td>/Users/BielGaliot/Documents/GitHub/FAST-GA/src/fastga/models/geometry/unitary_tests/dummy_engines.py                                     </td></tr>\n",
       "<tr><td>test.wrapper.geometry.daher.dummy_engine               </td><td>/Users/BielGaliot/Documents/GitHub/FAST-GA/src/fastga/models/geometry/unitary_tests/dummy_engines.py                                     </td></tr>\n",
       "<tr><td>test.wrapper.handling_qualities.beechcraft.dummy_engine</td><td>/Users/BielGaliot/Documents/GitHub/FAST-GA/src/fastga/models/handling_qualities/unitary_tests/dummy_engines.py                           </td></tr>\n",
       "<tr><td>test.wrapper.handling_qualities.cirrus.dummy_engine    </td><td>/Users/BielGaliot/Documents/GitHub/FAST-GA/src/fastga/models/handling_qualities/unitary_tests/dummy_engines.py                           </td></tr>\n",
       "<tr><td>test.wrapper.handling_qualities.daher.dummy_engine     </td><td>/Users/BielGaliot/Documents/GitHub/FAST-GA/src/fastga/models/handling_qualities/unitary_tests/dummy_engines.py                           </td></tr>\n",
       "<tr><td>test.wrapper.load_analysis.beechcraft.dummy_engine     </td><td>/Users/BielGaliot/Documents/GitHub/FAST-GA/src/fastga/models/load_analysis/unitary_tests/dummy_engines.py                                </td></tr>\n",
       "<tr><td>test.wrapper.load_analysis.cirrus.dummy_engine         </td><td>/Users/BielGaliot/Documents/GitHub/FAST-GA/src/fastga/models/load_analysis/unitary_tests/dummy_engines.py                                </td></tr>\n",
       "<tr><td>test.wrapper.load_analysis.daher.dummy_engine          </td><td>/Users/BielGaliot/Documents/GitHub/FAST-GA/src/fastga/models/load_analysis/unitary_tests/dummy_engines.py                                </td></tr>\n",
       "<tr><td>test.wrapper.mass_breakdown.beechcraft.dummy_engine    </td><td>/Users/BielGaliot/Documents/GitHub/FAST-GA/src/fastga/models/weight/mass_breakdown/unitary_tests/dummy_engines.py                        </td></tr>\n",
       "<tr><td>test.wrapper.mass_breakdown.cirrus.dummy_engine        </td><td>/Users/BielGaliot/Documents/GitHub/FAST-GA/src/fastga/models/weight/mass_breakdown/unitary_tests/dummy_engines.py                        </td></tr>\n",
       "<tr><td>test.wrapper.mass_breakdown.daher.dummy_engine         </td><td>/Users/BielGaliot/Documents/GitHub/FAST-GA/src/fastga/models/weight/mass_breakdown/unitary_tests/dummy_engines.py                        </td></tr>\n",
       "<tr><td>test.wrapper.performances.beechcraft.dummy_engine      </td><td>/Users/BielGaliot/Documents/GitHub/FAST-GA/src/fastga/models/performances/unitary_tests/dummy_engines.py                                 </td></tr>\n",
       "<tr><td>test.wrapper.performances.cirrus.dummy_engine          </td><td>/Users/BielGaliot/Documents/GitHub/FAST-GA/src/fastga/models/performances/unitary_tests/dummy_engines.py                                 </td></tr>\n",
       "<tr><td>test.wrapper.performances.daher.dummy_engine           </td><td>/Users/BielGaliot/Documents/GitHub/FAST-GA/src/fastga/models/performances/unitary_tests/dummy_engines.py                                 </td></tr>\n",
       "</tbody>\n",
       "</table>"
      ],
      "text/plain": [
       "<IPython.core.display.HTML object>"
      ]
     },
     "metadata": {},
     "output_type": "display_data"
    }
   ],
   "source": [
    "api_cs25.list_modules(CONFIGURATION_FILE)"
   ]
  },
  {
   "cell_type": "markdown",
   "metadata": {},
   "source": [
    "Another useful feature is the [N2 diagram](http://openmdao.org/twodocs/versions/latest/basic_guide/make_n2.html) visualization available in OpenMDAO to see the structure of the model:"
   ]
  },
  {
   "cell_type": "code",
   "execution_count": 7,
   "metadata": {},
   "outputs": [
    {
     "name": "stderr",
     "output_type": "stream",
     "text": [
      "INFO    : N2 diagram written in /Users/BielGaliot/Documents/GitHub/FAST-GA/FAST-OAD_notebooks/fast-oad-cs23/tutorial/workdir/n2.html\n"
     ]
    },
    {
     "data": {
      "text/html": [
       "\n",
       "        <iframe\n",
       "            width=\"100%\"\n",
       "            height=\"500px\"\n",
       "            src=\"workdir/n2.html\"\n",
       "            frameborder=\"0\"\n",
       "            allowfullscreen\n",
       "            \n",
       "        ></iframe>\n",
       "        "
      ],
      "text/plain": [
       "<IPython.lib.display.IFrame at 0x7f980e5fd9d0>"
      ]
     },
     "execution_count": 7,
     "metadata": {},
     "output_type": "execute_result"
    }
   ],
   "source": [
    "N2_FILE = pth.join(WORK_FOLDER_PATH, \"n2.html\")\n",
    "api_cs25.write_n2(CONFIGURATION_FILE, N2_FILE, overwrite=True)\n",
    "from IPython.display import IFrame\n",
    "\n",
    "IFrame(src=N2_FILE, width=\"100%\", height=\"500px\")"
   ]
  },
  {
   "cell_type": "markdown",
   "metadata": {},
   "source": [
    "Alternatively, you can create a [WhatsOpt](https://github.com/OneraHub/WhatsOpt-Doc#whatsopt-documentation) account to generate the XDSM of the problem. If your account is created, you may uncomment next lines and run them (this should take ~ 1 min):"
   ]
  },
  {
   "cell_type": "code",
   "execution_count": 8,
   "metadata": {},
   "outputs": [
    {
     "name": "stderr",
     "output_type": "stream",
     "text": [
      "/Users/BielGaliot/anaconda3/envs/FAST-GA/lib/python3.8/site-packages/openmdao/visualization/n2_viewer/n2_viewer.py:168: OpenMDAOWarning:All-NaN slice encountered\n",
      "/Users/BielGaliot/anaconda3/envs/FAST-GA/lib/python3.8/site-packages/openmdao/visualization/n2_viewer/n2_viewer.py:168: OpenMDAOWarning:All-NaN slice encountered\n",
      "/Users/BielGaliot/anaconda3/envs/FAST-GA/lib/python3.8/site-packages/openmdao/visualization/n2_viewer/n2_viewer.py:168: OpenMDAOWarning:All-NaN slice encountered\n",
      "/Users/BielGaliot/anaconda3/envs/FAST-GA/lib/python3.8/site-packages/openmdao/visualization/n2_viewer/n2_viewer.py:168: OpenMDAOWarning:All-NaN slice encountered\n",
      "/Users/BielGaliot/anaconda3/envs/FAST-GA/lib/python3.8/site-packages/openmdao/visualization/n2_viewer/n2_viewer.py:168: OpenMDAOWarning:All-NaN slice encountered\n",
      "/Users/BielGaliot/anaconda3/envs/FAST-GA/lib/python3.8/site-packages/openmdao/visualization/n2_viewer/n2_viewer.py:168: OpenMDAOWarning:All-NaN slice encountered\n",
      "/Users/BielGaliot/anaconda3/envs/FAST-GA/lib/python3.8/site-packages/openmdao/visualization/n2_viewer/n2_viewer.py:168: OpenMDAOWarning:All-NaN slice encountered\n",
      "/Users/BielGaliot/anaconda3/envs/FAST-GA/lib/python3.8/site-packages/openmdao/visualization/n2_viewer/n2_viewer.py:168: OpenMDAOWarning:All-NaN slice encountered\n",
      "/Users/BielGaliot/anaconda3/envs/FAST-GA/lib/python3.8/site-packages/openmdao/visualization/n2_viewer/n2_viewer.py:168: OpenMDAOWarning:All-NaN slice encountered\n",
      "/Users/BielGaliot/anaconda3/envs/FAST-GA/lib/python3.8/site-packages/openmdao/visualization/n2_viewer/n2_viewer.py:168: OpenMDAOWarning:All-NaN slice encountered\n",
      "/Users/BielGaliot/anaconda3/envs/FAST-GA/lib/python3.8/site-packages/openmdao/visualization/n2_viewer/n2_viewer.py:168: OpenMDAOWarning:All-NaN slice encountered\n",
      "/Users/BielGaliot/anaconda3/envs/FAST-GA/lib/python3.8/site-packages/openmdao/visualization/n2_viewer/n2_viewer.py:168: OpenMDAOWarning:All-NaN slice encountered\n",
      "/Users/BielGaliot/anaconda3/envs/FAST-GA/lib/python3.8/site-packages/openmdao/visualization/n2_viewer/n2_viewer.py:168: OpenMDAOWarning:All-NaN slice encountered\n",
      "/Users/BielGaliot/anaconda3/envs/FAST-GA/lib/python3.8/site-packages/openmdao/visualization/n2_viewer/n2_viewer.py:168: OpenMDAOWarning:All-NaN slice encountered\n",
      "/Users/BielGaliot/anaconda3/envs/FAST-GA/lib/python3.8/site-packages/openmdao/visualization/n2_viewer/n2_viewer.py:168: OpenMDAOWarning:All-NaN slice encountered\n",
      "/Users/BielGaliot/anaconda3/envs/FAST-GA/lib/python3.8/site-packages/openmdao/visualization/n2_viewer/n2_viewer.py:168: OpenMDAOWarning:All-NaN slice encountered\n",
      "/Users/BielGaliot/anaconda3/envs/FAST-GA/lib/python3.8/site-packages/openmdao/visualization/n2_viewer/n2_viewer.py:168: OpenMDAOWarning:All-NaN slice encountered\n",
      "/Users/BielGaliot/anaconda3/envs/FAST-GA/lib/python3.8/site-packages/openmdao/visualization/n2_viewer/n2_viewer.py:168: OpenMDAOWarning:All-NaN slice encountered\n",
      "/Users/BielGaliot/anaconda3/envs/FAST-GA/lib/python3.8/site-packages/openmdao/visualization/n2_viewer/n2_viewer.py:168: OpenMDAOWarning:All-NaN slice encountered\n",
      "/Users/BielGaliot/anaconda3/envs/FAST-GA/lib/python3.8/site-packages/openmdao/visualization/n2_viewer/n2_viewer.py:168: OpenMDAOWarning:All-NaN slice encountered\n",
      "/Users/BielGaliot/anaconda3/envs/FAST-GA/lib/python3.8/site-packages/openmdao/visualization/n2_viewer/n2_viewer.py:168: OpenMDAOWarning:All-NaN slice encountered\n",
      "/Users/BielGaliot/anaconda3/envs/FAST-GA/lib/python3.8/site-packages/openmdao/visualization/n2_viewer/n2_viewer.py:168: OpenMDAOWarning:All-NaN slice encountered\n",
      "/Users/BielGaliot/anaconda3/envs/FAST-GA/lib/python3.8/site-packages/openmdao/visualization/n2_viewer/n2_viewer.py:168: OpenMDAOWarning:All-NaN slice encountered\n",
      "/Users/BielGaliot/anaconda3/envs/FAST-GA/lib/python3.8/site-packages/openmdao/visualization/n2_viewer/n2_viewer.py:168: OpenMDAOWarning:All-NaN slice encountered\n",
      "/Users/BielGaliot/anaconda3/envs/FAST-GA/lib/python3.8/site-packages/openmdao/visualization/n2_viewer/n2_viewer.py:168: OpenMDAOWarning:All-NaN slice encountered\n",
      "/Users/BielGaliot/anaconda3/envs/FAST-GA/lib/python3.8/site-packages/openmdao/visualization/n2_viewer/n2_viewer.py:168: OpenMDAOWarning:All-NaN slice encountered\n",
      "/Users/BielGaliot/anaconda3/envs/FAST-GA/lib/python3.8/site-packages/openmdao/visualization/n2_viewer/n2_viewer.py:168: OpenMDAOWarning:All-NaN slice encountered\n",
      "/Users/BielGaliot/anaconda3/envs/FAST-GA/lib/python3.8/site-packages/openmdao/visualization/n2_viewer/n2_viewer.py:168: OpenMDAOWarning:All-NaN slice encountered\n",
      "/Users/BielGaliot/anaconda3/envs/FAST-GA/lib/python3.8/site-packages/openmdao/visualization/n2_viewer/n2_viewer.py:168: OpenMDAOWarning:All-NaN slice encountered\n",
      "/Users/BielGaliot/anaconda3/envs/FAST-GA/lib/python3.8/site-packages/openmdao/visualization/n2_viewer/n2_viewer.py:168: OpenMDAOWarning:All-NaN slice encountered\n",
      "/Users/BielGaliot/anaconda3/envs/FAST-GA/lib/python3.8/site-packages/openmdao/visualization/n2_viewer/n2_viewer.py:168: OpenMDAOWarning:All-NaN slice encountered\n",
      "/Users/BielGaliot/anaconda3/envs/FAST-GA/lib/python3.8/site-packages/openmdao/visualization/n2_viewer/n2_viewer.py:168: OpenMDAOWarning:All-NaN slice encountered\n",
      "/Users/BielGaliot/anaconda3/envs/FAST-GA/lib/python3.8/site-packages/openmdao/visualization/n2_viewer/n2_viewer.py:168: OpenMDAOWarning:All-NaN slice encountered\n",
      "/Users/BielGaliot/anaconda3/envs/FAST-GA/lib/python3.8/site-packages/openmdao/visualization/n2_viewer/n2_viewer.py:168: OpenMDAOWarning:All-NaN slice encountered\n",
      "/Users/BielGaliot/anaconda3/envs/FAST-GA/lib/python3.8/site-packages/openmdao/visualization/n2_viewer/n2_viewer.py:168: OpenMDAOWarning:All-NaN slice encountered\n",
      "/Users/BielGaliot/anaconda3/envs/FAST-GA/lib/python3.8/site-packages/openmdao/visualization/n2_viewer/n2_viewer.py:168: OpenMDAOWarning:All-NaN slice encountered\n",
      "/Users/BielGaliot/anaconda3/envs/FAST-GA/lib/python3.8/site-packages/openmdao/visualization/n2_viewer/n2_viewer.py:168: OpenMDAOWarning:All-NaN slice encountered\n",
      "/Users/BielGaliot/anaconda3/envs/FAST-GA/lib/python3.8/site-packages/openmdao/visualization/n2_viewer/n2_viewer.py:168: OpenMDAOWarning:All-NaN slice encountered\n",
      "/Users/BielGaliot/anaconda3/envs/FAST-GA/lib/python3.8/site-packages/openmdao/visualization/n2_viewer/n2_viewer.py:168: OpenMDAOWarning:All-NaN slice encountered\n",
      "/Users/BielGaliot/anaconda3/envs/FAST-GA/lib/python3.8/site-packages/openmdao/visualization/n2_viewer/n2_viewer.py:168: OpenMDAOWarning:All-NaN slice encountered\n",
      "/Users/BielGaliot/anaconda3/envs/FAST-GA/lib/python3.8/site-packages/openmdao/visualization/n2_viewer/n2_viewer.py:168: OpenMDAOWarning:All-NaN slice encountered\n",
      "/Users/BielGaliot/anaconda3/envs/FAST-GA/lib/python3.8/site-packages/openmdao/visualization/n2_viewer/n2_viewer.py:168: OpenMDAOWarning:All-NaN slice encountered\n",
      "/Users/BielGaliot/anaconda3/envs/FAST-GA/lib/python3.8/site-packages/openmdao/visualization/n2_viewer/n2_viewer.py:168: OpenMDAOWarning:All-NaN slice encountered\n",
      "/Users/BielGaliot/anaconda3/envs/FAST-GA/lib/python3.8/site-packages/openmdao/visualization/n2_viewer/n2_viewer.py:168: OpenMDAOWarning:All-NaN slice encountered\n",
      "/Users/BielGaliot/anaconda3/envs/FAST-GA/lib/python3.8/site-packages/openmdao/visualization/n2_viewer/n2_viewer.py:168: OpenMDAOWarning:All-NaN slice encountered\n",
      "/Users/BielGaliot/anaconda3/envs/FAST-GA/lib/python3.8/site-packages/openmdao/visualization/n2_viewer/n2_viewer.py:168: OpenMDAOWarning:All-NaN slice encountered\n",
      "/Users/BielGaliot/anaconda3/envs/FAST-GA/lib/python3.8/site-packages/openmdao/visualization/n2_viewer/n2_viewer.py:168: OpenMDAOWarning:All-NaN slice encountered\n",
      "/Users/BielGaliot/anaconda3/envs/FAST-GA/lib/python3.8/site-packages/openmdao/visualization/n2_viewer/n2_viewer.py:168: OpenMDAOWarning:All-NaN slice encountered\n",
      "/Users/BielGaliot/anaconda3/envs/FAST-GA/lib/python3.8/site-packages/openmdao/visualization/n2_viewer/n2_viewer.py:168: OpenMDAOWarning:All-NaN slice encountered\n",
      "/Users/BielGaliot/anaconda3/envs/FAST-GA/lib/python3.8/site-packages/openmdao/visualization/n2_viewer/n2_viewer.py:168: OpenMDAOWarning:All-NaN slice encountered\n",
      "/Users/BielGaliot/anaconda3/envs/FAST-GA/lib/python3.8/site-packages/openmdao/visualization/n2_viewer/n2_viewer.py:168: OpenMDAOWarning:All-NaN slice encountered\n",
      "/Users/BielGaliot/anaconda3/envs/FAST-GA/lib/python3.8/site-packages/openmdao/visualization/n2_viewer/n2_viewer.py:168: OpenMDAOWarning:All-NaN slice encountered\n",
      "/Users/BielGaliot/anaconda3/envs/FAST-GA/lib/python3.8/site-packages/openmdao/visualization/n2_viewer/n2_viewer.py:168: OpenMDAOWarning:All-NaN slice encountered\n",
      "/Users/BielGaliot/anaconda3/envs/FAST-GA/lib/python3.8/site-packages/openmdao/visualization/n2_viewer/n2_viewer.py:168: OpenMDAOWarning:All-NaN slice encountered\n",
      "/Users/BielGaliot/anaconda3/envs/FAST-GA/lib/python3.8/site-packages/openmdao/visualization/n2_viewer/n2_viewer.py:168: OpenMDAOWarning:All-NaN slice encountered\n",
      "/Users/BielGaliot/anaconda3/envs/FAST-GA/lib/python3.8/site-packages/openmdao/visualization/n2_viewer/n2_viewer.py:168: OpenMDAOWarning:All-NaN slice encountered\n",
      "/Users/BielGaliot/anaconda3/envs/FAST-GA/lib/python3.8/site-packages/openmdao/visualization/n2_viewer/n2_viewer.py:168: OpenMDAOWarning:All-NaN slice encountered\n",
      "/Users/BielGaliot/anaconda3/envs/FAST-GA/lib/python3.8/site-packages/openmdao/visualization/n2_viewer/n2_viewer.py:168: OpenMDAOWarning:All-NaN slice encountered\n",
      "/Users/BielGaliot/anaconda3/envs/FAST-GA/lib/python3.8/site-packages/openmdao/visualization/n2_viewer/n2_viewer.py:168: OpenMDAOWarning:All-NaN slice encountered\n",
      "/Users/BielGaliot/anaconda3/envs/FAST-GA/lib/python3.8/site-packages/openmdao/visualization/n2_viewer/n2_viewer.py:168: OpenMDAOWarning:All-NaN slice encountered\n",
      "/Users/BielGaliot/anaconda3/envs/FAST-GA/lib/python3.8/site-packages/openmdao/visualization/n2_viewer/n2_viewer.py:168: OpenMDAOWarning:All-NaN slice encountered\n",
      "/Users/BielGaliot/anaconda3/envs/FAST-GA/lib/python3.8/site-packages/openmdao/visualization/n2_viewer/n2_viewer.py:168: OpenMDAOWarning:All-NaN slice encountered\n",
      "/Users/BielGaliot/anaconda3/envs/FAST-GA/lib/python3.8/site-packages/openmdao/visualization/n2_viewer/n2_viewer.py:168: OpenMDAOWarning:All-NaN slice encountered\n",
      "/Users/BielGaliot/anaconda3/envs/FAST-GA/lib/python3.8/site-packages/openmdao/visualization/n2_viewer/n2_viewer.py:168: OpenMDAOWarning:All-NaN slice encountered\n",
      "/Users/BielGaliot/anaconda3/envs/FAST-GA/lib/python3.8/site-packages/openmdao/visualization/n2_viewer/n2_viewer.py:168: OpenMDAOWarning:All-NaN slice encountered\n",
      "/Users/BielGaliot/anaconda3/envs/FAST-GA/lib/python3.8/site-packages/openmdao/visualization/n2_viewer/n2_viewer.py:168: OpenMDAOWarning:All-NaN slice encountered\n",
      "/Users/BielGaliot/anaconda3/envs/FAST-GA/lib/python3.8/site-packages/openmdao/visualization/n2_viewer/n2_viewer.py:168: OpenMDAOWarning:All-NaN slice encountered\n",
      "/Users/BielGaliot/anaconda3/envs/FAST-GA/lib/python3.8/site-packages/openmdao/visualization/n2_viewer/n2_viewer.py:168: OpenMDAOWarning:All-NaN slice encountered\n",
      "/Users/BielGaliot/anaconda3/envs/FAST-GA/lib/python3.8/site-packages/openmdao/visualization/n2_viewer/n2_viewer.py:168: OpenMDAOWarning:All-NaN slice encountered\n",
      "/Users/BielGaliot/anaconda3/envs/FAST-GA/lib/python3.8/site-packages/openmdao/visualization/n2_viewer/n2_viewer.py:168: OpenMDAOWarning:All-NaN slice encountered\n",
      "/Users/BielGaliot/anaconda3/envs/FAST-GA/lib/python3.8/site-packages/openmdao/visualization/n2_viewer/n2_viewer.py:168: OpenMDAOWarning:All-NaN slice encountered\n",
      "/Users/BielGaliot/anaconda3/envs/FAST-GA/lib/python3.8/site-packages/openmdao/visualization/n2_viewer/n2_viewer.py:168: OpenMDAOWarning:All-NaN slice encountered\n",
      "/Users/BielGaliot/anaconda3/envs/FAST-GA/lib/python3.8/site-packages/openmdao/visualization/n2_viewer/n2_viewer.py:168: OpenMDAOWarning:All-NaN slice encountered\n",
      "/Users/BielGaliot/anaconda3/envs/FAST-GA/lib/python3.8/site-packages/openmdao/visualization/n2_viewer/n2_viewer.py:168: OpenMDAOWarning:All-NaN slice encountered\n",
      "/Users/BielGaliot/anaconda3/envs/FAST-GA/lib/python3.8/site-packages/openmdao/visualization/n2_viewer/n2_viewer.py:168: OpenMDAOWarning:All-NaN slice encountered\n",
      "/Users/BielGaliot/anaconda3/envs/FAST-GA/lib/python3.8/site-packages/openmdao/visualization/n2_viewer/n2_viewer.py:168: OpenMDAOWarning:All-NaN slice encountered\n",
      "/Users/BielGaliot/anaconda3/envs/FAST-GA/lib/python3.8/site-packages/openmdao/visualization/n2_viewer/n2_viewer.py:168: OpenMDAOWarning:All-NaN slice encountered\n",
      "/Users/BielGaliot/anaconda3/envs/FAST-GA/lib/python3.8/site-packages/openmdao/visualization/n2_viewer/n2_viewer.py:168: OpenMDAOWarning:All-NaN slice encountered\n",
      "/Users/BielGaliot/anaconda3/envs/FAST-GA/lib/python3.8/site-packages/openmdao/visualization/n2_viewer/n2_viewer.py:168: OpenMDAOWarning:All-NaN slice encountered\n",
      "/Users/BielGaliot/anaconda3/envs/FAST-GA/lib/python3.8/site-packages/openmdao/visualization/n2_viewer/n2_viewer.py:168: OpenMDAOWarning:All-NaN slice encountered\n",
      "/Users/BielGaliot/anaconda3/envs/FAST-GA/lib/python3.8/site-packages/openmdao/visualization/n2_viewer/n2_viewer.py:168: OpenMDAOWarning:All-NaN slice encountered\n",
      "/Users/BielGaliot/anaconda3/envs/FAST-GA/lib/python3.8/site-packages/openmdao/visualization/n2_viewer/n2_viewer.py:168: OpenMDAOWarning:All-NaN slice encountered\n",
      "/Users/BielGaliot/anaconda3/envs/FAST-GA/lib/python3.8/site-packages/openmdao/visualization/n2_viewer/n2_viewer.py:168: OpenMDAOWarning:All-NaN slice encountered\n",
      "/Users/BielGaliot/anaconda3/envs/FAST-GA/lib/python3.8/site-packages/openmdao/visualization/n2_viewer/n2_viewer.py:168: OpenMDAOWarning:All-NaN slice encountered\n",
      "/Users/BielGaliot/anaconda3/envs/FAST-GA/lib/python3.8/site-packages/openmdao/visualization/n2_viewer/n2_viewer.py:168: OpenMDAOWarning:All-NaN slice encountered\n",
      "/Users/BielGaliot/anaconda3/envs/FAST-GA/lib/python3.8/site-packages/openmdao/visualization/n2_viewer/n2_viewer.py:168: OpenMDAOWarning:All-NaN slice encountered\n",
      "/Users/BielGaliot/anaconda3/envs/FAST-GA/lib/python3.8/site-packages/openmdao/visualization/n2_viewer/n2_viewer.py:168: OpenMDAOWarning:All-NaN slice encountered\n",
      "/Users/BielGaliot/anaconda3/envs/FAST-GA/lib/python3.8/site-packages/openmdao/visualization/n2_viewer/n2_viewer.py:168: OpenMDAOWarning:All-NaN slice encountered\n",
      "/Users/BielGaliot/anaconda3/envs/FAST-GA/lib/python3.8/site-packages/openmdao/visualization/n2_viewer/n2_viewer.py:168: OpenMDAOWarning:All-NaN slice encountered\n",
      "/Users/BielGaliot/anaconda3/envs/FAST-GA/lib/python3.8/site-packages/openmdao/visualization/n2_viewer/n2_viewer.py:168: OpenMDAOWarning:All-NaN slice encountered\n",
      "/Users/BielGaliot/anaconda3/envs/FAST-GA/lib/python3.8/site-packages/openmdao/visualization/n2_viewer/n2_viewer.py:168: OpenMDAOWarning:All-NaN slice encountered\n",
      "/Users/BielGaliot/anaconda3/envs/FAST-GA/lib/python3.8/site-packages/openmdao/visualization/n2_viewer/n2_viewer.py:168: OpenMDAOWarning:All-NaN slice encountered\n",
      "/Users/BielGaliot/anaconda3/envs/FAST-GA/lib/python3.8/site-packages/openmdao/visualization/n2_viewer/n2_viewer.py:168: OpenMDAOWarning:All-NaN slice encountered\n",
      "/Users/BielGaliot/anaconda3/envs/FAST-GA/lib/python3.8/site-packages/openmdao/visualization/n2_viewer/n2_viewer.py:168: OpenMDAOWarning:All-NaN slice encountered\n",
      "/Users/BielGaliot/anaconda3/envs/FAST-GA/lib/python3.8/site-packages/openmdao/visualization/n2_viewer/n2_viewer.py:168: OpenMDAOWarning:All-NaN slice encountered\n",
      "/Users/BielGaliot/anaconda3/envs/FAST-GA/lib/python3.8/site-packages/openmdao/visualization/n2_viewer/n2_viewer.py:168: OpenMDAOWarning:All-NaN slice encountered\n",
      "/Users/BielGaliot/anaconda3/envs/FAST-GA/lib/python3.8/site-packages/openmdao/visualization/n2_viewer/n2_viewer.py:168: OpenMDAOWarning:All-NaN slice encountered\n",
      "/Users/BielGaliot/anaconda3/envs/FAST-GA/lib/python3.8/site-packages/openmdao/visualization/n2_viewer/n2_viewer.py:168: OpenMDAOWarning:All-NaN slice encountered\n",
      "/Users/BielGaliot/anaconda3/envs/FAST-GA/lib/python3.8/site-packages/openmdao/visualization/n2_viewer/n2_viewer.py:168: OpenMDAOWarning:All-NaN slice encountered\n",
      "/Users/BielGaliot/anaconda3/envs/FAST-GA/lib/python3.8/site-packages/openmdao/visualization/n2_viewer/n2_viewer.py:168: OpenMDAOWarning:All-NaN slice encountered\n",
      "/Users/BielGaliot/anaconda3/envs/FAST-GA/lib/python3.8/site-packages/openmdao/visualization/n2_viewer/n2_viewer.py:168: OpenMDAOWarning:All-NaN slice encountered\n",
      "/Users/BielGaliot/anaconda3/envs/FAST-GA/lib/python3.8/site-packages/openmdao/visualization/n2_viewer/n2_viewer.py:168: OpenMDAOWarning:All-NaN slice encountered\n",
      "/Users/BielGaliot/anaconda3/envs/FAST-GA/lib/python3.8/site-packages/openmdao/visualization/n2_viewer/n2_viewer.py:168: OpenMDAOWarning:All-NaN slice encountered\n",
      "/Users/BielGaliot/anaconda3/envs/FAST-GA/lib/python3.8/site-packages/openmdao/visualization/n2_viewer/n2_viewer.py:168: OpenMDAOWarning:All-NaN slice encountered\n",
      "/Users/BielGaliot/anaconda3/envs/FAST-GA/lib/python3.8/site-packages/openmdao/visualization/n2_viewer/n2_viewer.py:168: OpenMDAOWarning:All-NaN slice encountered\n",
      "/Users/BielGaliot/anaconda3/envs/FAST-GA/lib/python3.8/site-packages/openmdao/visualization/n2_viewer/n2_viewer.py:168: OpenMDAOWarning:All-NaN slice encountered\n",
      "/Users/BielGaliot/anaconda3/envs/FAST-GA/lib/python3.8/site-packages/openmdao/visualization/n2_viewer/n2_viewer.py:168: OpenMDAOWarning:All-NaN slice encountered\n",
      "/Users/BielGaliot/anaconda3/envs/FAST-GA/lib/python3.8/site-packages/openmdao/visualization/n2_viewer/n2_viewer.py:168: OpenMDAOWarning:All-NaN slice encountered\n",
      "/Users/BielGaliot/anaconda3/envs/FAST-GA/lib/python3.8/site-packages/openmdao/visualization/n2_viewer/n2_viewer.py:168: OpenMDAOWarning:All-NaN slice encountered\n",
      "/Users/BielGaliot/anaconda3/envs/FAST-GA/lib/python3.8/site-packages/openmdao/visualization/n2_viewer/n2_viewer.py:168: OpenMDAOWarning:All-NaN slice encountered\n",
      "/Users/BielGaliot/anaconda3/envs/FAST-GA/lib/python3.8/site-packages/openmdao/visualization/n2_viewer/n2_viewer.py:168: OpenMDAOWarning:All-NaN slice encountered\n",
      "/Users/BielGaliot/anaconda3/envs/FAST-GA/lib/python3.8/site-packages/openmdao/visualization/n2_viewer/n2_viewer.py:168: OpenMDAOWarning:All-NaN slice encountered\n",
      "/Users/BielGaliot/anaconda3/envs/FAST-GA/lib/python3.8/site-packages/openmdao/visualization/n2_viewer/n2_viewer.py:168: OpenMDAOWarning:All-NaN slice encountered\n",
      "/Users/BielGaliot/anaconda3/envs/FAST-GA/lib/python3.8/site-packages/openmdao/visualization/n2_viewer/n2_viewer.py:168: OpenMDAOWarning:All-NaN slice encountered\n",
      "/Users/BielGaliot/anaconda3/envs/FAST-GA/lib/python3.8/site-packages/openmdao/visualization/n2_viewer/n2_viewer.py:168: OpenMDAOWarning:All-NaN slice encountered\n",
      "/Users/BielGaliot/anaconda3/envs/FAST-GA/lib/python3.8/site-packages/openmdao/visualization/n2_viewer/n2_viewer.py:168: OpenMDAOWarning:All-NaN slice encountered\n",
      "/Users/BielGaliot/anaconda3/envs/FAST-GA/lib/python3.8/site-packages/openmdao/visualization/n2_viewer/n2_viewer.py:168: OpenMDAOWarning:All-NaN slice encountered\n",
      "/Users/BielGaliot/anaconda3/envs/FAST-GA/lib/python3.8/site-packages/openmdao/visualization/n2_viewer/n2_viewer.py:168: OpenMDAOWarning:All-NaN slice encountered\n",
      "/Users/BielGaliot/anaconda3/envs/FAST-GA/lib/python3.8/site-packages/openmdao/visualization/n2_viewer/n2_viewer.py:168: OpenMDAOWarning:All-NaN slice encountered\n",
      "/Users/BielGaliot/anaconda3/envs/FAST-GA/lib/python3.8/site-packages/openmdao/visualization/n2_viewer/n2_viewer.py:168: OpenMDAOWarning:All-NaN slice encountered\n",
      "/Users/BielGaliot/anaconda3/envs/FAST-GA/lib/python3.8/site-packages/openmdao/visualization/n2_viewer/n2_viewer.py:168: OpenMDAOWarning:All-NaN slice encountered\n",
      "/Users/BielGaliot/anaconda3/envs/FAST-GA/lib/python3.8/site-packages/openmdao/visualization/n2_viewer/n2_viewer.py:168: OpenMDAOWarning:All-NaN slice encountered\n",
      "/Users/BielGaliot/anaconda3/envs/FAST-GA/lib/python3.8/site-packages/openmdao/visualization/n2_viewer/n2_viewer.py:168: OpenMDAOWarning:All-NaN slice encountered\n",
      "/Users/BielGaliot/anaconda3/envs/FAST-GA/lib/python3.8/site-packages/openmdao/visualization/n2_viewer/n2_viewer.py:168: OpenMDAOWarning:All-NaN slice encountered\n",
      "/Users/BielGaliot/anaconda3/envs/FAST-GA/lib/python3.8/site-packages/openmdao/visualization/n2_viewer/n2_viewer.py:168: OpenMDAOWarning:All-NaN slice encountered\n",
      "/Users/BielGaliot/anaconda3/envs/FAST-GA/lib/python3.8/site-packages/openmdao/visualization/n2_viewer/n2_viewer.py:168: OpenMDAOWarning:All-NaN slice encountered\n",
      "/Users/BielGaliot/anaconda3/envs/FAST-GA/lib/python3.8/site-packages/openmdao/visualization/n2_viewer/n2_viewer.py:168: OpenMDAOWarning:All-NaN slice encountered\n",
      "/Users/BielGaliot/anaconda3/envs/FAST-GA/lib/python3.8/site-packages/openmdao/visualization/n2_viewer/n2_viewer.py:168: OpenMDAOWarning:All-NaN slice encountered\n",
      "/Users/BielGaliot/anaconda3/envs/FAST-GA/lib/python3.8/site-packages/openmdao/visualization/n2_viewer/n2_viewer.py:168: OpenMDAOWarning:All-NaN slice encountered\n",
      "/Users/BielGaliot/anaconda3/envs/FAST-GA/lib/python3.8/site-packages/openmdao/visualization/n2_viewer/n2_viewer.py:168: OpenMDAOWarning:All-NaN slice encountered\n",
      "/Users/BielGaliot/anaconda3/envs/FAST-GA/lib/python3.8/site-packages/openmdao/visualization/n2_viewer/n2_viewer.py:168: OpenMDAOWarning:All-NaN slice encountered\n",
      "/Users/BielGaliot/anaconda3/envs/FAST-GA/lib/python3.8/site-packages/openmdao/visualization/n2_viewer/n2_viewer.py:168: OpenMDAOWarning:All-NaN slice encountered\n",
      "/Users/BielGaliot/anaconda3/envs/FAST-GA/lib/python3.8/site-packages/openmdao/visualization/n2_viewer/n2_viewer.py:168: OpenMDAOWarning:All-NaN slice encountered\n",
      "/Users/BielGaliot/anaconda3/envs/FAST-GA/lib/python3.8/site-packages/openmdao/visualization/n2_viewer/n2_viewer.py:168: OpenMDAOWarning:All-NaN slice encountered\n",
      "/Users/BielGaliot/anaconda3/envs/FAST-GA/lib/python3.8/site-packages/openmdao/visualization/n2_viewer/n2_viewer.py:168: OpenMDAOWarning:All-NaN slice encountered\n",
      "/Users/BielGaliot/anaconda3/envs/FAST-GA/lib/python3.8/site-packages/openmdao/visualization/n2_viewer/n2_viewer.py:168: OpenMDAOWarning:All-NaN slice encountered\n",
      "/Users/BielGaliot/anaconda3/envs/FAST-GA/lib/python3.8/site-packages/openmdao/visualization/n2_viewer/n2_viewer.py:168: OpenMDAOWarning:All-NaN slice encountered\n",
      "/Users/BielGaliot/anaconda3/envs/FAST-GA/lib/python3.8/site-packages/openmdao/visualization/n2_viewer/n2_viewer.py:168: OpenMDAOWarning:All-NaN slice encountered\n",
      "/Users/BielGaliot/anaconda3/envs/FAST-GA/lib/python3.8/site-packages/openmdao/visualization/n2_viewer/n2_viewer.py:168: OpenMDAOWarning:All-NaN slice encountered\n",
      "/Users/BielGaliot/anaconda3/envs/FAST-GA/lib/python3.8/site-packages/openmdao/visualization/n2_viewer/n2_viewer.py:168: OpenMDAOWarning:All-NaN slice encountered\n",
      "/Users/BielGaliot/anaconda3/envs/FAST-GA/lib/python3.8/site-packages/openmdao/visualization/n2_viewer/n2_viewer.py:168: OpenMDAOWarning:All-NaN slice encountered\n",
      "/Users/BielGaliot/anaconda3/envs/FAST-GA/lib/python3.8/site-packages/openmdao/visualization/n2_viewer/n2_viewer.py:168: OpenMDAOWarning:All-NaN slice encountered\n",
      "/Users/BielGaliot/anaconda3/envs/FAST-GA/lib/python3.8/site-packages/openmdao/visualization/n2_viewer/n2_viewer.py:168: OpenMDAOWarning:All-NaN slice encountered\n",
      "/Users/BielGaliot/anaconda3/envs/FAST-GA/lib/python3.8/site-packages/openmdao/visualization/n2_viewer/n2_viewer.py:168: OpenMDAOWarning:All-NaN slice encountered\n",
      "/Users/BielGaliot/anaconda3/envs/FAST-GA/lib/python3.8/site-packages/openmdao/visualization/n2_viewer/n2_viewer.py:168: OpenMDAOWarning:All-NaN slice encountered\n",
      "/Users/BielGaliot/anaconda3/envs/FAST-GA/lib/python3.8/site-packages/openmdao/visualization/n2_viewer/n2_viewer.py:168: OpenMDAOWarning:All-NaN slice encountered\n",
      "/Users/BielGaliot/anaconda3/envs/FAST-GA/lib/python3.8/site-packages/openmdao/visualization/n2_viewer/n2_viewer.py:168: OpenMDAOWarning:All-NaN slice encountered\n",
      "/Users/BielGaliot/anaconda3/envs/FAST-GA/lib/python3.8/site-packages/openmdao/visualization/n2_viewer/n2_viewer.py:168: OpenMDAOWarning:All-NaN slice encountered\n",
      "/Users/BielGaliot/anaconda3/envs/FAST-GA/lib/python3.8/site-packages/openmdao/visualization/n2_viewer/n2_viewer.py:168: OpenMDAOWarning:All-NaN slice encountered\n",
      "/Users/BielGaliot/anaconda3/envs/FAST-GA/lib/python3.8/site-packages/openmdao/visualization/n2_viewer/n2_viewer.py:168: OpenMDAOWarning:All-NaN slice encountered\n",
      "/Users/BielGaliot/anaconda3/envs/FAST-GA/lib/python3.8/site-packages/openmdao/visualization/n2_viewer/n2_viewer.py:168: OpenMDAOWarning:All-NaN slice encountered\n",
      "/Users/BielGaliot/anaconda3/envs/FAST-GA/lib/python3.8/site-packages/openmdao/visualization/n2_viewer/n2_viewer.py:168: OpenMDAOWarning:All-NaN slice encountered\n",
      "/Users/BielGaliot/anaconda3/envs/FAST-GA/lib/python3.8/site-packages/openmdao/visualization/n2_viewer/n2_viewer.py:168: OpenMDAOWarning:All-NaN slice encountered\n",
      "/Users/BielGaliot/anaconda3/envs/FAST-GA/lib/python3.8/site-packages/openmdao/visualization/n2_viewer/n2_viewer.py:168: OpenMDAOWarning:All-NaN slice encountered\n",
      "/Users/BielGaliot/anaconda3/envs/FAST-GA/lib/python3.8/site-packages/openmdao/visualization/n2_viewer/n2_viewer.py:168: OpenMDAOWarning:All-NaN slice encountered\n",
      "/Users/BielGaliot/anaconda3/envs/FAST-GA/lib/python3.8/site-packages/openmdao/visualization/n2_viewer/n2_viewer.py:168: OpenMDAOWarning:All-NaN slice encountered\n",
      "/Users/BielGaliot/anaconda3/envs/FAST-GA/lib/python3.8/site-packages/openmdao/visualization/n2_viewer/n2_viewer.py:168: OpenMDAOWarning:All-NaN slice encountered\n",
      "/Users/BielGaliot/anaconda3/envs/FAST-GA/lib/python3.8/site-packages/openmdao/visualization/n2_viewer/n2_viewer.py:168: OpenMDAOWarning:All-NaN slice encountered\n",
      "/Users/BielGaliot/anaconda3/envs/FAST-GA/lib/python3.8/site-packages/openmdao/visualization/n2_viewer/n2_viewer.py:168: OpenMDAOWarning:All-NaN slice encountered\n",
      "/Users/BielGaliot/anaconda3/envs/FAST-GA/lib/python3.8/site-packages/openmdao/visualization/n2_viewer/n2_viewer.py:168: OpenMDAOWarning:All-NaN slice encountered\n",
      "/Users/BielGaliot/anaconda3/envs/FAST-GA/lib/python3.8/site-packages/openmdao/visualization/n2_viewer/n2_viewer.py:168: OpenMDAOWarning:All-NaN slice encountered\n",
      "/Users/BielGaliot/anaconda3/envs/FAST-GA/lib/python3.8/site-packages/openmdao/visualization/n2_viewer/n2_viewer.py:168: OpenMDAOWarning:All-NaN slice encountered\n",
      "/Users/BielGaliot/anaconda3/envs/FAST-GA/lib/python3.8/site-packages/openmdao/visualization/n2_viewer/n2_viewer.py:168: OpenMDAOWarning:All-NaN slice encountered\n",
      "/Users/BielGaliot/anaconda3/envs/FAST-GA/lib/python3.8/site-packages/openmdao/visualization/n2_viewer/n2_viewer.py:168: OpenMDAOWarning:All-NaN slice encountered\n",
      "/Users/BielGaliot/anaconda3/envs/FAST-GA/lib/python3.8/site-packages/openmdao/visualization/n2_viewer/n2_viewer.py:168: OpenMDAOWarning:All-NaN slice encountered\n",
      "/Users/BielGaliot/anaconda3/envs/FAST-GA/lib/python3.8/site-packages/openmdao/visualization/n2_viewer/n2_viewer.py:168: OpenMDAOWarning:All-NaN slice encountered\n",
      "/Users/BielGaliot/anaconda3/envs/FAST-GA/lib/python3.8/site-packages/openmdao/visualization/n2_viewer/n2_viewer.py:168: OpenMDAOWarning:All-NaN slice encountered\n",
      "/Users/BielGaliot/anaconda3/envs/FAST-GA/lib/python3.8/site-packages/openmdao/visualization/n2_viewer/n2_viewer.py:168: OpenMDAOWarning:All-NaN slice encountered\n",
      "/Users/BielGaliot/anaconda3/envs/FAST-GA/lib/python3.8/site-packages/openmdao/visualization/n2_viewer/n2_viewer.py:168: OpenMDAOWarning:All-NaN slice encountered\n",
      "/Users/BielGaliot/anaconda3/envs/FAST-GA/lib/python3.8/site-packages/openmdao/visualization/n2_viewer/n2_viewer.py:168: OpenMDAOWarning:All-NaN slice encountered\n",
      "/Users/BielGaliot/anaconda3/envs/FAST-GA/lib/python3.8/site-packages/openmdao/visualization/n2_viewer/n2_viewer.py:168: OpenMDAOWarning:All-NaN slice encountered\n",
      "/Users/BielGaliot/anaconda3/envs/FAST-GA/lib/python3.8/site-packages/openmdao/visualization/n2_viewer/n2_viewer.py:168: OpenMDAOWarning:All-NaN slice encountered\n",
      "/Users/BielGaliot/anaconda3/envs/FAST-GA/lib/python3.8/site-packages/openmdao/visualization/n2_viewer/n2_viewer.py:168: OpenMDAOWarning:All-NaN slice encountered\n",
      "/Users/BielGaliot/anaconda3/envs/FAST-GA/lib/python3.8/site-packages/openmdao/visualization/n2_viewer/n2_viewer.py:168: OpenMDAOWarning:All-NaN slice encountered\n",
      "/Users/BielGaliot/anaconda3/envs/FAST-GA/lib/python3.8/site-packages/openmdao/visualization/n2_viewer/n2_viewer.py:168: OpenMDAOWarning:All-NaN slice encountered\n",
      "/Users/BielGaliot/anaconda3/envs/FAST-GA/lib/python3.8/site-packages/openmdao/visualization/n2_viewer/n2_viewer.py:168: OpenMDAOWarning:All-NaN slice encountered\n",
      "/Users/BielGaliot/anaconda3/envs/FAST-GA/lib/python3.8/site-packages/openmdao/visualization/n2_viewer/n2_viewer.py:168: OpenMDAOWarning:All-NaN slice encountered\n",
      "/Users/BielGaliot/anaconda3/envs/FAST-GA/lib/python3.8/site-packages/openmdao/visualization/n2_viewer/n2_viewer.py:168: OpenMDAOWarning:All-NaN slice encountered\n",
      "/Users/BielGaliot/anaconda3/envs/FAST-GA/lib/python3.8/site-packages/openmdao/visualization/n2_viewer/n2_viewer.py:168: OpenMDAOWarning:All-NaN slice encountered\n",
      "/Users/BielGaliot/anaconda3/envs/FAST-GA/lib/python3.8/site-packages/openmdao/visualization/n2_viewer/n2_viewer.py:168: OpenMDAOWarning:All-NaN slice encountered\n",
      "/Users/BielGaliot/anaconda3/envs/FAST-GA/lib/python3.8/site-packages/openmdao/visualization/n2_viewer/n2_viewer.py:168: OpenMDAOWarning:All-NaN slice encountered\n",
      "/Users/BielGaliot/anaconda3/envs/FAST-GA/lib/python3.8/site-packages/openmdao/visualization/n2_viewer/n2_viewer.py:168: OpenMDAOWarning:All-NaN slice encountered\n",
      "/Users/BielGaliot/anaconda3/envs/FAST-GA/lib/python3.8/site-packages/openmdao/visualization/n2_viewer/n2_viewer.py:168: OpenMDAOWarning:All-NaN slice encountered\n",
      "/Users/BielGaliot/anaconda3/envs/FAST-GA/lib/python3.8/site-packages/openmdao/visualization/n2_viewer/n2_viewer.py:168: OpenMDAOWarning:All-NaN slice encountered\n",
      "/Users/BielGaliot/anaconda3/envs/FAST-GA/lib/python3.8/site-packages/openmdao/visualization/n2_viewer/n2_viewer.py:168: OpenMDAOWarning:All-NaN slice encountered\n",
      "/Users/BielGaliot/anaconda3/envs/FAST-GA/lib/python3.8/site-packages/openmdao/visualization/n2_viewer/n2_viewer.py:168: OpenMDAOWarning:All-NaN slice encountered\n",
      "/Users/BielGaliot/anaconda3/envs/FAST-GA/lib/python3.8/site-packages/openmdao/visualization/n2_viewer/n2_viewer.py:168: OpenMDAOWarning:All-NaN slice encountered\n",
      "/Users/BielGaliot/anaconda3/envs/FAST-GA/lib/python3.8/site-packages/openmdao/visualization/n2_viewer/n2_viewer.py:168: OpenMDAOWarning:All-NaN slice encountered\n",
      "/Users/BielGaliot/anaconda3/envs/FAST-GA/lib/python3.8/site-packages/openmdao/visualization/n2_viewer/n2_viewer.py:168: OpenMDAOWarning:All-NaN slice encountered\n",
      "/Users/BielGaliot/anaconda3/envs/FAST-GA/lib/python3.8/site-packages/openmdao/visualization/n2_viewer/n2_viewer.py:168: OpenMDAOWarning:All-NaN slice encountered\n",
      "/Users/BielGaliot/anaconda3/envs/FAST-GA/lib/python3.8/site-packages/openmdao/visualization/n2_viewer/n2_viewer.py:168: OpenMDAOWarning:All-NaN slice encountered\n",
      "/Users/BielGaliot/anaconda3/envs/FAST-GA/lib/python3.8/site-packages/openmdao/visualization/n2_viewer/n2_viewer.py:168: OpenMDAOWarning:All-NaN slice encountered\n",
      "/Users/BielGaliot/anaconda3/envs/FAST-GA/lib/python3.8/site-packages/openmdao/visualization/n2_viewer/n2_viewer.py:168: OpenMDAOWarning:All-NaN slice encountered\n",
      "/Users/BielGaliot/anaconda3/envs/FAST-GA/lib/python3.8/site-packages/openmdao/visualization/n2_viewer/n2_viewer.py:168: OpenMDAOWarning:All-NaN slice encountered\n",
      "/Users/BielGaliot/anaconda3/envs/FAST-GA/lib/python3.8/site-packages/openmdao/visualization/n2_viewer/n2_viewer.py:168: OpenMDAOWarning:All-NaN slice encountered\n",
      "/Users/BielGaliot/anaconda3/envs/FAST-GA/lib/python3.8/site-packages/openmdao/visualization/n2_viewer/n2_viewer.py:168: OpenMDAOWarning:All-NaN slice encountered\n",
      "/Users/BielGaliot/anaconda3/envs/FAST-GA/lib/python3.8/site-packages/openmdao/visualization/n2_viewer/n2_viewer.py:168: OpenMDAOWarning:All-NaN slice encountered\n",
      "/Users/BielGaliot/anaconda3/envs/FAST-GA/lib/python3.8/site-packages/openmdao/visualization/n2_viewer/n2_viewer.py:168: OpenMDAOWarning:All-NaN slice encountered\n",
      "/Users/BielGaliot/anaconda3/envs/FAST-GA/lib/python3.8/site-packages/openmdao/visualization/n2_viewer/n2_viewer.py:168: OpenMDAOWarning:All-NaN slice encountered\n",
      "/Users/BielGaliot/anaconda3/envs/FAST-GA/lib/python3.8/site-packages/openmdao/visualization/n2_viewer/n2_viewer.py:168: OpenMDAOWarning:All-NaN slice encountered\n",
      "/Users/BielGaliot/anaconda3/envs/FAST-GA/lib/python3.8/site-packages/openmdao/visualization/n2_viewer/n2_viewer.py:168: OpenMDAOWarning:All-NaN slice encountered\n",
      "/Users/BielGaliot/anaconda3/envs/FAST-GA/lib/python3.8/site-packages/openmdao/visualization/n2_viewer/n2_viewer.py:168: OpenMDAOWarning:All-NaN slice encountered\n",
      "/Users/BielGaliot/anaconda3/envs/FAST-GA/lib/python3.8/site-packages/openmdao/visualization/n2_viewer/n2_viewer.py:168: OpenMDAOWarning:All-NaN slice encountered\n",
      "/Users/BielGaliot/anaconda3/envs/FAST-GA/lib/python3.8/site-packages/openmdao/visualization/n2_viewer/n2_viewer.py:168: OpenMDAOWarning:All-NaN slice encountered\n",
      "/Users/BielGaliot/anaconda3/envs/FAST-GA/lib/python3.8/site-packages/openmdao/visualization/n2_viewer/n2_viewer.py:168: OpenMDAOWarning:All-NaN slice encountered\n",
      "/Users/BielGaliot/anaconda3/envs/FAST-GA/lib/python3.8/site-packages/openmdao/visualization/n2_viewer/n2_viewer.py:168: OpenMDAOWarning:All-NaN slice encountered\n",
      "/Users/BielGaliot/anaconda3/envs/FAST-GA/lib/python3.8/site-packages/openmdao/visualization/n2_viewer/n2_viewer.py:168: OpenMDAOWarning:All-NaN slice encountered\n",
      "/Users/BielGaliot/anaconda3/envs/FAST-GA/lib/python3.8/site-packages/openmdao/visualization/n2_viewer/n2_viewer.py:168: OpenMDAOWarning:All-NaN slice encountered\n",
      "/Users/BielGaliot/anaconda3/envs/FAST-GA/lib/python3.8/site-packages/openmdao/visualization/n2_viewer/n2_viewer.py:168: OpenMDAOWarning:All-NaN slice encountered\n",
      "/Users/BielGaliot/anaconda3/envs/FAST-GA/lib/python3.8/site-packages/openmdao/visualization/n2_viewer/n2_viewer.py:168: OpenMDAOWarning:All-NaN slice encountered\n",
      "/Users/BielGaliot/anaconda3/envs/FAST-GA/lib/python3.8/site-packages/openmdao/visualization/n2_viewer/n2_viewer.py:168: OpenMDAOWarning:All-NaN slice encountered\n",
      "/Users/BielGaliot/anaconda3/envs/FAST-GA/lib/python3.8/site-packages/openmdao/visualization/n2_viewer/n2_viewer.py:168: OpenMDAOWarning:All-NaN slice encountered\n",
      "/Users/BielGaliot/anaconda3/envs/FAST-GA/lib/python3.8/site-packages/openmdao/visualization/n2_viewer/n2_viewer.py:168: OpenMDAOWarning:All-NaN slice encountered\n",
      "/Users/BielGaliot/anaconda3/envs/FAST-GA/lib/python3.8/site-packages/openmdao/visualization/n2_viewer/n2_viewer.py:168: OpenMDAOWarning:All-NaN slice encountered\n",
      "/Users/BielGaliot/anaconda3/envs/FAST-GA/lib/python3.8/site-packages/openmdao/visualization/n2_viewer/n2_viewer.py:168: OpenMDAOWarning:All-NaN slice encountered\n",
      "/Users/BielGaliot/anaconda3/envs/FAST-GA/lib/python3.8/site-packages/openmdao/visualization/n2_viewer/n2_viewer.py:168: OpenMDAOWarning:All-NaN slice encountered\n",
      "/Users/BielGaliot/anaconda3/envs/FAST-GA/lib/python3.8/site-packages/openmdao/visualization/n2_viewer/n2_viewer.py:168: OpenMDAOWarning:All-NaN slice encountered\n",
      "/Users/BielGaliot/anaconda3/envs/FAST-GA/lib/python3.8/site-packages/openmdao/visualization/n2_viewer/n2_viewer.py:168: OpenMDAOWarning:All-NaN slice encountered\n",
      "/Users/BielGaliot/anaconda3/envs/FAST-GA/lib/python3.8/site-packages/openmdao/visualization/n2_viewer/n2_viewer.py:168: OpenMDAOWarning:All-NaN slice encountered\n",
      "/Users/BielGaliot/anaconda3/envs/FAST-GA/lib/python3.8/site-packages/openmdao/visualization/n2_viewer/n2_viewer.py:168: OpenMDAOWarning:All-NaN slice encountered\n",
      "/Users/BielGaliot/anaconda3/envs/FAST-GA/lib/python3.8/site-packages/openmdao/visualization/n2_viewer/n2_viewer.py:168: OpenMDAOWarning:All-NaN slice encountered\n",
      "/Users/BielGaliot/anaconda3/envs/FAST-GA/lib/python3.8/site-packages/openmdao/visualization/n2_viewer/n2_viewer.py:168: OpenMDAOWarning:All-NaN slice encountered\n",
      "/Users/BielGaliot/anaconda3/envs/FAST-GA/lib/python3.8/site-packages/openmdao/visualization/n2_viewer/n2_viewer.py:168: OpenMDAOWarning:All-NaN slice encountered\n",
      "/Users/BielGaliot/anaconda3/envs/FAST-GA/lib/python3.8/site-packages/openmdao/visualization/n2_viewer/n2_viewer.py:168: OpenMDAOWarning:All-NaN slice encountered\n",
      "/Users/BielGaliot/anaconda3/envs/FAST-GA/lib/python3.8/site-packages/openmdao/visualization/n2_viewer/n2_viewer.py:168: OpenMDAOWarning:All-NaN slice encountered\n",
      "/Users/BielGaliot/anaconda3/envs/FAST-GA/lib/python3.8/site-packages/openmdao/visualization/n2_viewer/n2_viewer.py:168: OpenMDAOWarning:All-NaN slice encountered\n",
      "/Users/BielGaliot/anaconda3/envs/FAST-GA/lib/python3.8/site-packages/openmdao/visualization/n2_viewer/n2_viewer.py:168: OpenMDAOWarning:All-NaN slice encountered\n",
      "/Users/BielGaliot/anaconda3/envs/FAST-GA/lib/python3.8/site-packages/openmdao/visualization/n2_viewer/n2_viewer.py:168: OpenMDAOWarning:All-NaN slice encountered\n",
      "/Users/BielGaliot/anaconda3/envs/FAST-GA/lib/python3.8/site-packages/openmdao/visualization/n2_viewer/n2_viewer.py:168: OpenMDAOWarning:All-NaN slice encountered\n",
      "/Users/BielGaliot/anaconda3/envs/FAST-GA/lib/python3.8/site-packages/openmdao/visualization/n2_viewer/n2_viewer.py:168: OpenMDAOWarning:All-NaN slice encountered\n",
      "/Users/BielGaliot/anaconda3/envs/FAST-GA/lib/python3.8/site-packages/openmdao/visualization/n2_viewer/n2_viewer.py:168: OpenMDAOWarning:All-NaN slice encountered\n",
      "/Users/BielGaliot/anaconda3/envs/FAST-GA/lib/python3.8/site-packages/openmdao/visualization/n2_viewer/n2_viewer.py:168: OpenMDAOWarning:All-NaN slice encountered\n",
      "/Users/BielGaliot/anaconda3/envs/FAST-GA/lib/python3.8/site-packages/openmdao/visualization/n2_viewer/n2_viewer.py:168: OpenMDAOWarning:All-NaN slice encountered\n",
      "/Users/BielGaliot/anaconda3/envs/FAST-GA/lib/python3.8/site-packages/openmdao/visualization/n2_viewer/n2_viewer.py:168: OpenMDAOWarning:All-NaN slice encountered\n",
      "/Users/BielGaliot/anaconda3/envs/FAST-GA/lib/python3.8/site-packages/openmdao/visualization/n2_viewer/n2_viewer.py:168: OpenMDAOWarning:All-NaN slice encountered\n",
      "/Users/BielGaliot/anaconda3/envs/FAST-GA/lib/python3.8/site-packages/openmdao/visualization/n2_viewer/n2_viewer.py:168: OpenMDAOWarning:All-NaN slice encountered\n",
      "/Users/BielGaliot/anaconda3/envs/FAST-GA/lib/python3.8/site-packages/openmdao/visualization/n2_viewer/n2_viewer.py:168: OpenMDAOWarning:All-NaN slice encountered\n",
      "/Users/BielGaliot/anaconda3/envs/FAST-GA/lib/python3.8/site-packages/openmdao/visualization/n2_viewer/n2_viewer.py:168: OpenMDAOWarning:All-NaN slice encountered\n",
      "/Users/BielGaliot/anaconda3/envs/FAST-GA/lib/python3.8/site-packages/openmdao/visualization/n2_viewer/n2_viewer.py:168: OpenMDAOWarning:All-NaN slice encountered\n",
      "/Users/BielGaliot/anaconda3/envs/FAST-GA/lib/python3.8/site-packages/openmdao/visualization/n2_viewer/n2_viewer.py:168: OpenMDAOWarning:All-NaN slice encountered\n",
      "/Users/BielGaliot/anaconda3/envs/FAST-GA/lib/python3.8/site-packages/openmdao/visualization/n2_viewer/n2_viewer.py:168: OpenMDAOWarning:All-NaN slice encountered\n",
      "/Users/BielGaliot/anaconda3/envs/FAST-GA/lib/python3.8/site-packages/openmdao/visualization/n2_viewer/n2_viewer.py:168: OpenMDAOWarning:All-NaN slice encountered\n",
      "/Users/BielGaliot/anaconda3/envs/FAST-GA/lib/python3.8/site-packages/openmdao/visualization/n2_viewer/n2_viewer.py:168: OpenMDAOWarning:All-NaN slice encountered\n",
      "/Users/BielGaliot/anaconda3/envs/FAST-GA/lib/python3.8/site-packages/openmdao/visualization/n2_viewer/n2_viewer.py:168: OpenMDAOWarning:All-NaN slice encountered\n",
      "/Users/BielGaliot/anaconda3/envs/FAST-GA/lib/python3.8/site-packages/openmdao/visualization/n2_viewer/n2_viewer.py:168: OpenMDAOWarning:All-NaN slice encountered\n",
      "/Users/BielGaliot/anaconda3/envs/FAST-GA/lib/python3.8/site-packages/openmdao/visualization/n2_viewer/n2_viewer.py:168: OpenMDAOWarning:All-NaN slice encountered\n",
      "/Users/BielGaliot/anaconda3/envs/FAST-GA/lib/python3.8/site-packages/openmdao/visualization/n2_viewer/n2_viewer.py:168: OpenMDAOWarning:All-NaN slice encountered\n",
      "/Users/BielGaliot/anaconda3/envs/FAST-GA/lib/python3.8/site-packages/openmdao/visualization/n2_viewer/n2_viewer.py:168: OpenMDAOWarning:All-NaN slice encountered\n",
      "/Users/BielGaliot/anaconda3/envs/FAST-GA/lib/python3.8/site-packages/openmdao/visualization/n2_viewer/n2_viewer.py:168: OpenMDAOWarning:All-NaN slice encountered\n",
      "/Users/BielGaliot/anaconda3/envs/FAST-GA/lib/python3.8/site-packages/openmdao/visualization/n2_viewer/n2_viewer.py:168: OpenMDAOWarning:All-NaN slice encountered\n",
      "/Users/BielGaliot/anaconda3/envs/FAST-GA/lib/python3.8/site-packages/openmdao/visualization/n2_viewer/n2_viewer.py:168: OpenMDAOWarning:All-NaN slice encountered\n",
      "/Users/BielGaliot/anaconda3/envs/FAST-GA/lib/python3.8/site-packages/openmdao/visualization/n2_viewer/n2_viewer.py:168: OpenMDAOWarning:All-NaN slice encountered\n",
      "/Users/BielGaliot/anaconda3/envs/FAST-GA/lib/python3.8/site-packages/openmdao/visualization/n2_viewer/n2_viewer.py:168: OpenMDAOWarning:All-NaN slice encountered\n",
      "/Users/BielGaliot/anaconda3/envs/FAST-GA/lib/python3.8/site-packages/openmdao/visualization/n2_viewer/n2_viewer.py:168: OpenMDAOWarning:All-NaN slice encountered\n",
      "/Users/BielGaliot/anaconda3/envs/FAST-GA/lib/python3.8/site-packages/openmdao/visualization/n2_viewer/n2_viewer.py:168: OpenMDAOWarning:All-NaN slice encountered\n",
      "/Users/BielGaliot/anaconda3/envs/FAST-GA/lib/python3.8/site-packages/openmdao/visualization/n2_viewer/n2_viewer.py:168: OpenMDAOWarning:All-NaN slice encountered\n",
      "/Users/BielGaliot/anaconda3/envs/FAST-GA/lib/python3.8/site-packages/openmdao/visualization/n2_viewer/n2_viewer.py:168: OpenMDAOWarning:All-NaN slice encountered\n",
      "/Users/BielGaliot/anaconda3/envs/FAST-GA/lib/python3.8/site-packages/openmdao/visualization/n2_viewer/n2_viewer.py:168: OpenMDAOWarning:All-NaN slice encountered\n",
      "/Users/BielGaliot/anaconda3/envs/FAST-GA/lib/python3.8/site-packages/openmdao/visualization/n2_viewer/n2_viewer.py:168: OpenMDAOWarning:All-NaN slice encountered\n",
      "/Users/BielGaliot/anaconda3/envs/FAST-GA/lib/python3.8/site-packages/openmdao/visualization/n2_viewer/n2_viewer.py:168: OpenMDAOWarning:All-NaN slice encountered\n",
      "/Users/BielGaliot/anaconda3/envs/FAST-GA/lib/python3.8/site-packages/openmdao/visualization/n2_viewer/n2_viewer.py:168: OpenMDAOWarning:All-NaN slice encountered\n",
      "/Users/BielGaliot/anaconda3/envs/FAST-GA/lib/python3.8/site-packages/openmdao/visualization/n2_viewer/n2_viewer.py:168: OpenMDAOWarning:All-NaN slice encountered\n",
      "/Users/BielGaliot/anaconda3/envs/FAST-GA/lib/python3.8/site-packages/openmdao/visualization/n2_viewer/n2_viewer.py:168: OpenMDAOWarning:All-NaN slice encountered\n",
      "/Users/BielGaliot/anaconda3/envs/FAST-GA/lib/python3.8/site-packages/openmdao/visualization/n2_viewer/n2_viewer.py:168: OpenMDAOWarning:All-NaN slice encountered\n",
      "/Users/BielGaliot/anaconda3/envs/FAST-GA/lib/python3.8/site-packages/openmdao/visualization/n2_viewer/n2_viewer.py:168: OpenMDAOWarning:All-NaN slice encountered\n",
      "/Users/BielGaliot/anaconda3/envs/FAST-GA/lib/python3.8/site-packages/openmdao/visualization/n2_viewer/n2_viewer.py:168: OpenMDAOWarning:All-NaN slice encountered\n",
      "/Users/BielGaliot/anaconda3/envs/FAST-GA/lib/python3.8/site-packages/openmdao/visualization/n2_viewer/n2_viewer.py:168: OpenMDAOWarning:All-NaN slice encountered\n",
      "/Users/BielGaliot/anaconda3/envs/FAST-GA/lib/python3.8/site-packages/openmdao/visualization/n2_viewer/n2_viewer.py:168: OpenMDAOWarning:All-NaN slice encountered\n",
      "/Users/BielGaliot/anaconda3/envs/FAST-GA/lib/python3.8/site-packages/openmdao/visualization/n2_viewer/n2_viewer.py:168: OpenMDAOWarning:All-NaN slice encountered\n",
      "/Users/BielGaliot/anaconda3/envs/FAST-GA/lib/python3.8/site-packages/openmdao/visualization/n2_viewer/n2_viewer.py:168: OpenMDAOWarning:All-NaN slice encountered\n",
      "/Users/BielGaliot/anaconda3/envs/FAST-GA/lib/python3.8/site-packages/openmdao/visualization/n2_viewer/n2_viewer.py:168: OpenMDAOWarning:All-NaN slice encountered\n",
      "/Users/BielGaliot/anaconda3/envs/FAST-GA/lib/python3.8/site-packages/openmdao/visualization/n2_viewer/n2_viewer.py:168: OpenMDAOWarning:All-NaN slice encountered\n",
      "/Users/BielGaliot/anaconda3/envs/FAST-GA/lib/python3.8/site-packages/openmdao/visualization/n2_viewer/n2_viewer.py:168: OpenMDAOWarning:All-NaN slice encountered\n",
      "/Users/BielGaliot/anaconda3/envs/FAST-GA/lib/python3.8/site-packages/openmdao/visualization/n2_viewer/n2_viewer.py:168: OpenMDAOWarning:All-NaN slice encountered\n",
      "/Users/BielGaliot/anaconda3/envs/FAST-GA/lib/python3.8/site-packages/openmdao/visualization/n2_viewer/n2_viewer.py:168: OpenMDAOWarning:All-NaN slice encountered\n",
      "/Users/BielGaliot/anaconda3/envs/FAST-GA/lib/python3.8/site-packages/openmdao/visualization/n2_viewer/n2_viewer.py:168: OpenMDAOWarning:All-NaN slice encountered\n",
      "/Users/BielGaliot/anaconda3/envs/FAST-GA/lib/python3.8/site-packages/openmdao/visualization/n2_viewer/n2_viewer.py:168: OpenMDAOWarning:All-NaN slice encountered\n",
      "/Users/BielGaliot/anaconda3/envs/FAST-GA/lib/python3.8/site-packages/openmdao/visualization/n2_viewer/n2_viewer.py:168: OpenMDAOWarning:All-NaN slice encountered\n",
      "/Users/BielGaliot/anaconda3/envs/FAST-GA/lib/python3.8/site-packages/openmdao/visualization/n2_viewer/n2_viewer.py:168: OpenMDAOWarning:All-NaN slice encountered\n",
      "/Users/BielGaliot/anaconda3/envs/FAST-GA/lib/python3.8/site-packages/openmdao/visualization/n2_viewer/n2_viewer.py:168: OpenMDAOWarning:All-NaN slice encountered\n",
      "/Users/BielGaliot/anaconda3/envs/FAST-GA/lib/python3.8/site-packages/openmdao/visualization/n2_viewer/n2_viewer.py:168: OpenMDAOWarning:All-NaN slice encountered\n",
      "/Users/BielGaliot/anaconda3/envs/FAST-GA/lib/python3.8/site-packages/openmdao/visualization/n2_viewer/n2_viewer.py:168: OpenMDAOWarning:All-NaN slice encountered\n",
      "/Users/BielGaliot/anaconda3/envs/FAST-GA/lib/python3.8/site-packages/openmdao/visualization/n2_viewer/n2_viewer.py:168: OpenMDAOWarning:All-NaN slice encountered\n",
      "/Users/BielGaliot/anaconda3/envs/FAST-GA/lib/python3.8/site-packages/openmdao/visualization/n2_viewer/n2_viewer.py:168: OpenMDAOWarning:All-NaN slice encountered\n",
      "/Users/BielGaliot/anaconda3/envs/FAST-GA/lib/python3.8/site-packages/openmdao/visualization/n2_viewer/n2_viewer.py:168: OpenMDAOWarning:All-NaN slice encountered\n",
      "/Users/BielGaliot/anaconda3/envs/FAST-GA/lib/python3.8/site-packages/openmdao/visualization/n2_viewer/n2_viewer.py:168: OpenMDAOWarning:All-NaN slice encountered\n",
      "/Users/BielGaliot/anaconda3/envs/FAST-GA/lib/python3.8/site-packages/openmdao/visualization/n2_viewer/n2_viewer.py:168: OpenMDAOWarning:All-NaN slice encountered\n",
      "/Users/BielGaliot/anaconda3/envs/FAST-GA/lib/python3.8/site-packages/openmdao/visualization/n2_viewer/n2_viewer.py:168: OpenMDAOWarning:All-NaN slice encountered\n",
      "/Users/BielGaliot/anaconda3/envs/FAST-GA/lib/python3.8/site-packages/openmdao/visualization/n2_viewer/n2_viewer.py:168: OpenMDAOWarning:All-NaN slice encountered\n",
      "/Users/BielGaliot/anaconda3/envs/FAST-GA/lib/python3.8/site-packages/openmdao/visualization/n2_viewer/n2_viewer.py:168: OpenMDAOWarning:All-NaN slice encountered\n",
      "/Users/BielGaliot/anaconda3/envs/FAST-GA/lib/python3.8/site-packages/openmdao/visualization/n2_viewer/n2_viewer.py:168: OpenMDAOWarning:All-NaN slice encountered\n",
      "/Users/BielGaliot/anaconda3/envs/FAST-GA/lib/python3.8/site-packages/openmdao/visualization/n2_viewer/n2_viewer.py:168: OpenMDAOWarning:All-NaN slice encountered\n",
      "/Users/BielGaliot/anaconda3/envs/FAST-GA/lib/python3.8/site-packages/openmdao/visualization/n2_viewer/n2_viewer.py:168: OpenMDAOWarning:All-NaN slice encountered\n",
      "/Users/BielGaliot/anaconda3/envs/FAST-GA/lib/python3.8/site-packages/openmdao/visualization/n2_viewer/n2_viewer.py:168: OpenMDAOWarning:All-NaN slice encountered\n",
      "/Users/BielGaliot/anaconda3/envs/FAST-GA/lib/python3.8/site-packages/openmdao/visualization/n2_viewer/n2_viewer.py:168: OpenMDAOWarning:All-NaN slice encountered\n",
      "/Users/BielGaliot/anaconda3/envs/FAST-GA/lib/python3.8/site-packages/openmdao/visualization/n2_viewer/n2_viewer.py:168: OpenMDAOWarning:All-NaN slice encountered\n",
      "/Users/BielGaliot/anaconda3/envs/FAST-GA/lib/python3.8/site-packages/openmdao/visualization/n2_viewer/n2_viewer.py:168: OpenMDAOWarning:All-NaN slice encountered\n",
      "/Users/BielGaliot/anaconda3/envs/FAST-GA/lib/python3.8/site-packages/openmdao/visualization/n2_viewer/n2_viewer.py:168: OpenMDAOWarning:All-NaN slice encountered\n",
      "/Users/BielGaliot/anaconda3/envs/FAST-GA/lib/python3.8/site-packages/openmdao/visualization/n2_viewer/n2_viewer.py:168: OpenMDAOWarning:All-NaN slice encountered\n",
      "/Users/BielGaliot/anaconda3/envs/FAST-GA/lib/python3.8/site-packages/openmdao/visualization/n2_viewer/n2_viewer.py:168: OpenMDAOWarning:All-NaN slice encountered\n",
      "/Users/BielGaliot/anaconda3/envs/FAST-GA/lib/python3.8/site-packages/openmdao/visualization/n2_viewer/n2_viewer.py:168: OpenMDAOWarning:All-NaN slice encountered\n",
      "/Users/BielGaliot/anaconda3/envs/FAST-GA/lib/python3.8/site-packages/openmdao/visualization/n2_viewer/n2_viewer.py:168: OpenMDAOWarning:All-NaN slice encountered\n",
      "/Users/BielGaliot/anaconda3/envs/FAST-GA/lib/python3.8/site-packages/openmdao/visualization/n2_viewer/n2_viewer.py:168: OpenMDAOWarning:All-NaN slice encountered\n",
      "/Users/BielGaliot/anaconda3/envs/FAST-GA/lib/python3.8/site-packages/openmdao/visualization/n2_viewer/n2_viewer.py:168: OpenMDAOWarning:All-NaN slice encountered\n",
      "/Users/BielGaliot/anaconda3/envs/FAST-GA/lib/python3.8/site-packages/openmdao/visualization/n2_viewer/n2_viewer.py:168: OpenMDAOWarning:All-NaN slice encountered\n",
      "/Users/BielGaliot/anaconda3/envs/FAST-GA/lib/python3.8/site-packages/openmdao/visualization/n2_viewer/n2_viewer.py:168: OpenMDAOWarning:All-NaN slice encountered\n",
      "/Users/BielGaliot/anaconda3/envs/FAST-GA/lib/python3.8/site-packages/openmdao/visualization/n2_viewer/n2_viewer.py:168: OpenMDAOWarning:All-NaN slice encountered\n",
      "/Users/BielGaliot/anaconda3/envs/FAST-GA/lib/python3.8/site-packages/openmdao/visualization/n2_viewer/n2_viewer.py:168: OpenMDAOWarning:All-NaN slice encountered\n",
      "/Users/BielGaliot/anaconda3/envs/FAST-GA/lib/python3.8/site-packages/openmdao/visualization/n2_viewer/n2_viewer.py:168: OpenMDAOWarning:All-NaN slice encountered\n",
      "/Users/BielGaliot/anaconda3/envs/FAST-GA/lib/python3.8/site-packages/openmdao/visualization/n2_viewer/n2_viewer.py:168: OpenMDAOWarning:All-NaN slice encountered\n",
      "/Users/BielGaliot/anaconda3/envs/FAST-GA/lib/python3.8/site-packages/openmdao/visualization/n2_viewer/n2_viewer.py:168: OpenMDAOWarning:All-NaN slice encountered\n",
      "/Users/BielGaliot/anaconda3/envs/FAST-GA/lib/python3.8/site-packages/openmdao/visualization/n2_viewer/n2_viewer.py:168: OpenMDAOWarning:All-NaN slice encountered\n",
      "/Users/BielGaliot/anaconda3/envs/FAST-GA/lib/python3.8/site-packages/openmdao/visualization/n2_viewer/n2_viewer.py:168: OpenMDAOWarning:All-NaN slice encountered\n",
      "/Users/BielGaliot/anaconda3/envs/FAST-GA/lib/python3.8/site-packages/openmdao/visualization/n2_viewer/n2_viewer.py:168: OpenMDAOWarning:All-NaN slice encountered\n",
      "/Users/BielGaliot/anaconda3/envs/FAST-GA/lib/python3.8/site-packages/openmdao/visualization/n2_viewer/n2_viewer.py:168: OpenMDAOWarning:All-NaN slice encountered\n",
      "/Users/BielGaliot/anaconda3/envs/FAST-GA/lib/python3.8/site-packages/openmdao/visualization/n2_viewer/n2_viewer.py:168: OpenMDAOWarning:All-NaN slice encountered\n",
      "/Users/BielGaliot/anaconda3/envs/FAST-GA/lib/python3.8/site-packages/openmdao/visualization/n2_viewer/n2_viewer.py:168: OpenMDAOWarning:All-NaN slice encountered\n",
      "/Users/BielGaliot/anaconda3/envs/FAST-GA/lib/python3.8/site-packages/openmdao/visualization/n2_viewer/n2_viewer.py:168: OpenMDAOWarning:All-NaN slice encountered\n",
      "/Users/BielGaliot/anaconda3/envs/FAST-GA/lib/python3.8/site-packages/openmdao/visualization/n2_viewer/n2_viewer.py:168: OpenMDAOWarning:All-NaN slice encountered\n",
      "/Users/BielGaliot/anaconda3/envs/FAST-GA/lib/python3.8/site-packages/openmdao/visualization/n2_viewer/n2_viewer.py:168: OpenMDAOWarning:All-NaN slice encountered\n",
      "/Users/BielGaliot/anaconda3/envs/FAST-GA/lib/python3.8/site-packages/openmdao/visualization/n2_viewer/n2_viewer.py:168: OpenMDAOWarning:All-NaN slice encountered\n",
      "/Users/BielGaliot/anaconda3/envs/FAST-GA/lib/python3.8/site-packages/openmdao/visualization/n2_viewer/n2_viewer.py:168: OpenMDAOWarning:All-NaN slice encountered\n",
      "/Users/BielGaliot/anaconda3/envs/FAST-GA/lib/python3.8/site-packages/openmdao/visualization/n2_viewer/n2_viewer.py:168: OpenMDAOWarning:All-NaN slice encountered\n",
      "/Users/BielGaliot/anaconda3/envs/FAST-GA/lib/python3.8/site-packages/openmdao/visualization/n2_viewer/n2_viewer.py:168: OpenMDAOWarning:All-NaN slice encountered\n",
      "/Users/BielGaliot/anaconda3/envs/FAST-GA/lib/python3.8/site-packages/openmdao/visualization/n2_viewer/n2_viewer.py:168: OpenMDAOWarning:All-NaN slice encountered\n",
      "/Users/BielGaliot/anaconda3/envs/FAST-GA/lib/python3.8/site-packages/openmdao/visualization/n2_viewer/n2_viewer.py:168: OpenMDAOWarning:All-NaN slice encountered\n",
      "/Users/BielGaliot/anaconda3/envs/FAST-GA/lib/python3.8/site-packages/openmdao/visualization/n2_viewer/n2_viewer.py:168: OpenMDAOWarning:All-NaN slice encountered\n",
      "/Users/BielGaliot/anaconda3/envs/FAST-GA/lib/python3.8/site-packages/openmdao/visualization/n2_viewer/n2_viewer.py:168: OpenMDAOWarning:All-NaN slice encountered\n",
      "/Users/BielGaliot/anaconda3/envs/FAST-GA/lib/python3.8/site-packages/openmdao/visualization/n2_viewer/n2_viewer.py:168: OpenMDAOWarning:All-NaN slice encountered\n",
      "/Users/BielGaliot/anaconda3/envs/FAST-GA/lib/python3.8/site-packages/openmdao/visualization/n2_viewer/n2_viewer.py:168: OpenMDAOWarning:All-NaN slice encountered\n",
      "/Users/BielGaliot/anaconda3/envs/FAST-GA/lib/python3.8/site-packages/openmdao/visualization/n2_viewer/n2_viewer.py:168: OpenMDAOWarning:All-NaN slice encountered\n",
      "/Users/BielGaliot/anaconda3/envs/FAST-GA/lib/python3.8/site-packages/openmdao/visualization/n2_viewer/n2_viewer.py:168: OpenMDAOWarning:All-NaN slice encountered\n",
      "/Users/BielGaliot/anaconda3/envs/FAST-GA/lib/python3.8/site-packages/openmdao/visualization/n2_viewer/n2_viewer.py:168: OpenMDAOWarning:All-NaN slice encountered\n",
      "/Users/BielGaliot/anaconda3/envs/FAST-GA/lib/python3.8/site-packages/openmdao/visualization/n2_viewer/n2_viewer.py:168: OpenMDAOWarning:All-NaN slice encountered\n",
      "/Users/BielGaliot/anaconda3/envs/FAST-GA/lib/python3.8/site-packages/openmdao/visualization/n2_viewer/n2_viewer.py:168: OpenMDAOWarning:All-NaN slice encountered\n",
      "/Users/BielGaliot/anaconda3/envs/FAST-GA/lib/python3.8/site-packages/openmdao/visualization/n2_viewer/n2_viewer.py:168: OpenMDAOWarning:All-NaN slice encountered\n",
      "/Users/BielGaliot/anaconda3/envs/FAST-GA/lib/python3.8/site-packages/openmdao/visualization/n2_viewer/n2_viewer.py:168: OpenMDAOWarning:All-NaN slice encountered\n",
      "/Users/BielGaliot/anaconda3/envs/FAST-GA/lib/python3.8/site-packages/openmdao/visualization/n2_viewer/n2_viewer.py:168: OpenMDAOWarning:All-NaN slice encountered\n",
      "/Users/BielGaliot/anaconda3/envs/FAST-GA/lib/python3.8/site-packages/openmdao/visualization/n2_viewer/n2_viewer.py:168: OpenMDAOWarning:All-NaN slice encountered\n",
      "/Users/BielGaliot/anaconda3/envs/FAST-GA/lib/python3.8/site-packages/openmdao/visualization/n2_viewer/n2_viewer.py:168: OpenMDAOWarning:All-NaN slice encountered\n",
      "/Users/BielGaliot/anaconda3/envs/FAST-GA/lib/python3.8/site-packages/openmdao/visualization/n2_viewer/n2_viewer.py:168: OpenMDAOWarning:All-NaN slice encountered\n",
      "/Users/BielGaliot/anaconda3/envs/FAST-GA/lib/python3.8/site-packages/openmdao/visualization/n2_viewer/n2_viewer.py:168: OpenMDAOWarning:All-NaN slice encountered\n",
      "/Users/BielGaliot/anaconda3/envs/FAST-GA/lib/python3.8/site-packages/openmdao/visualization/n2_viewer/n2_viewer.py:168: OpenMDAOWarning:All-NaN slice encountered\n",
      "/Users/BielGaliot/anaconda3/envs/FAST-GA/lib/python3.8/site-packages/openmdao/visualization/n2_viewer/n2_viewer.py:168: OpenMDAOWarning:All-NaN slice encountered\n",
      "/Users/BielGaliot/anaconda3/envs/FAST-GA/lib/python3.8/site-packages/openmdao/visualization/n2_viewer/n2_viewer.py:168: OpenMDAOWarning:All-NaN slice encountered\n",
      "/Users/BielGaliot/anaconda3/envs/FAST-GA/lib/python3.8/site-packages/openmdao/visualization/n2_viewer/n2_viewer.py:168: OpenMDAOWarning:All-NaN slice encountered\n",
      "/Users/BielGaliot/anaconda3/envs/FAST-GA/lib/python3.8/site-packages/openmdao/visualization/n2_viewer/n2_viewer.py:168: OpenMDAOWarning:All-NaN slice encountered\n",
      "/Users/BielGaliot/anaconda3/envs/FAST-GA/lib/python3.8/site-packages/openmdao/visualization/n2_viewer/n2_viewer.py:168: OpenMDAOWarning:All-NaN slice encountered\n",
      "/Users/BielGaliot/anaconda3/envs/FAST-GA/lib/python3.8/site-packages/openmdao/visualization/n2_viewer/n2_viewer.py:168: OpenMDAOWarning:All-NaN slice encountered\n",
      "/Users/BielGaliot/anaconda3/envs/FAST-GA/lib/python3.8/site-packages/openmdao/visualization/n2_viewer/n2_viewer.py:168: OpenMDAOWarning:All-NaN slice encountered\n",
      "/Users/BielGaliot/anaconda3/envs/FAST-GA/lib/python3.8/site-packages/openmdao/visualization/n2_viewer/n2_viewer.py:168: OpenMDAOWarning:All-NaN slice encountered\n",
      "/Users/BielGaliot/anaconda3/envs/FAST-GA/lib/python3.8/site-packages/openmdao/visualization/n2_viewer/n2_viewer.py:168: OpenMDAOWarning:All-NaN slice encountered\n",
      "/Users/BielGaliot/anaconda3/envs/FAST-GA/lib/python3.8/site-packages/openmdao/visualization/n2_viewer/n2_viewer.py:168: OpenMDAOWarning:All-NaN slice encountered\n",
      "/Users/BielGaliot/anaconda3/envs/FAST-GA/lib/python3.8/site-packages/openmdao/visualization/n2_viewer/n2_viewer.py:168: OpenMDAOWarning:All-NaN slice encountered\n",
      "/Users/BielGaliot/anaconda3/envs/FAST-GA/lib/python3.8/site-packages/openmdao/visualization/n2_viewer/n2_viewer.py:168: OpenMDAOWarning:All-NaN slice encountered\n",
      "/Users/BielGaliot/anaconda3/envs/FAST-GA/lib/python3.8/site-packages/openmdao/visualization/n2_viewer/n2_viewer.py:168: OpenMDAOWarning:All-NaN slice encountered\n",
      "/Users/BielGaliot/anaconda3/envs/FAST-GA/lib/python3.8/site-packages/openmdao/visualization/n2_viewer/n2_viewer.py:168: OpenMDAOWarning:All-NaN slice encountered\n",
      "/Users/BielGaliot/anaconda3/envs/FAST-GA/lib/python3.8/site-packages/openmdao/visualization/n2_viewer/n2_viewer.py:168: OpenMDAOWarning:All-NaN slice encountered\n",
      "/Users/BielGaliot/anaconda3/envs/FAST-GA/lib/python3.8/site-packages/openmdao/visualization/n2_viewer/n2_viewer.py:168: OpenMDAOWarning:All-NaN slice encountered\n",
      "/Users/BielGaliot/anaconda3/envs/FAST-GA/lib/python3.8/site-packages/openmdao/visualization/n2_viewer/n2_viewer.py:168: OpenMDAOWarning:All-NaN slice encountered\n",
      "/Users/BielGaliot/anaconda3/envs/FAST-GA/lib/python3.8/site-packages/openmdao/visualization/n2_viewer/n2_viewer.py:168: OpenMDAOWarning:All-NaN slice encountered\n",
      "/Users/BielGaliot/anaconda3/envs/FAST-GA/lib/python3.8/site-packages/openmdao/visualization/n2_viewer/n2_viewer.py:168: OpenMDAOWarning:All-NaN slice encountered\n",
      "/Users/BielGaliot/anaconda3/envs/FAST-GA/lib/python3.8/site-packages/openmdao/visualization/n2_viewer/n2_viewer.py:168: OpenMDAOWarning:All-NaN slice encountered\n",
      "/Users/BielGaliot/anaconda3/envs/FAST-GA/lib/python3.8/site-packages/openmdao/visualization/n2_viewer/n2_viewer.py:168: OpenMDAOWarning:All-NaN slice encountered\n",
      "/Users/BielGaliot/anaconda3/envs/FAST-GA/lib/python3.8/site-packages/openmdao/visualization/n2_viewer/n2_viewer.py:168: OpenMDAOWarning:All-NaN slice encountered\n",
      "/Users/BielGaliot/anaconda3/envs/FAST-GA/lib/python3.8/site-packages/openmdao/visualization/n2_viewer/n2_viewer.py:168: OpenMDAOWarning:All-NaN slice encountered\n",
      "/Users/BielGaliot/anaconda3/envs/FAST-GA/lib/python3.8/site-packages/openmdao/visualization/n2_viewer/n2_viewer.py:168: OpenMDAOWarning:All-NaN slice encountered\n",
      "/Users/BielGaliot/anaconda3/envs/FAST-GA/lib/python3.8/site-packages/openmdao/visualization/n2_viewer/n2_viewer.py:168: OpenMDAOWarning:All-NaN slice encountered\n",
      "/Users/BielGaliot/anaconda3/envs/FAST-GA/lib/python3.8/site-packages/openmdao/visualization/n2_viewer/n2_viewer.py:168: OpenMDAOWarning:All-NaN slice encountered\n",
      "/Users/BielGaliot/anaconda3/envs/FAST-GA/lib/python3.8/site-packages/openmdao/visualization/n2_viewer/n2_viewer.py:168: OpenMDAOWarning:All-NaN slice encountered\n",
      "/Users/BielGaliot/anaconda3/envs/FAST-GA/lib/python3.8/site-packages/openmdao/visualization/n2_viewer/n2_viewer.py:168: OpenMDAOWarning:All-NaN slice encountered\n",
      "/Users/BielGaliot/anaconda3/envs/FAST-GA/lib/python3.8/site-packages/openmdao/visualization/n2_viewer/n2_viewer.py:168: OpenMDAOWarning:All-NaN slice encountered\n",
      "/Users/BielGaliot/anaconda3/envs/FAST-GA/lib/python3.8/site-packages/openmdao/visualization/n2_viewer/n2_viewer.py:168: OpenMDAOWarning:All-NaN slice encountered\n",
      "/Users/BielGaliot/anaconda3/envs/FAST-GA/lib/python3.8/site-packages/openmdao/visualization/n2_viewer/n2_viewer.py:168: OpenMDAOWarning:All-NaN slice encountered\n",
      "/Users/BielGaliot/anaconda3/envs/FAST-GA/lib/python3.8/site-packages/openmdao/visualization/n2_viewer/n2_viewer.py:168: OpenMDAOWarning:All-NaN slice encountered\n",
      "/Users/BielGaliot/anaconda3/envs/FAST-GA/lib/python3.8/site-packages/openmdao/visualization/n2_viewer/n2_viewer.py:168: OpenMDAOWarning:All-NaN slice encountered\n",
      "/Users/BielGaliot/anaconda3/envs/FAST-GA/lib/python3.8/site-packages/openmdao/visualization/n2_viewer/n2_viewer.py:168: OpenMDAOWarning:All-NaN slice encountered\n",
      "/Users/BielGaliot/anaconda3/envs/FAST-GA/lib/python3.8/site-packages/openmdao/visualization/n2_viewer/n2_viewer.py:168: OpenMDAOWarning:All-NaN slice encountered\n",
      "/Users/BielGaliot/anaconda3/envs/FAST-GA/lib/python3.8/site-packages/openmdao/visualization/n2_viewer/n2_viewer.py:168: OpenMDAOWarning:All-NaN slice encountered\n",
      "/Users/BielGaliot/anaconda3/envs/FAST-GA/lib/python3.8/site-packages/openmdao/visualization/n2_viewer/n2_viewer.py:168: OpenMDAOWarning:All-NaN slice encountered\n",
      "/Users/BielGaliot/anaconda3/envs/FAST-GA/lib/python3.8/site-packages/openmdao/visualization/n2_viewer/n2_viewer.py:168: OpenMDAOWarning:All-NaN slice encountered\n",
      "/Users/BielGaliot/anaconda3/envs/FAST-GA/lib/python3.8/site-packages/openmdao/visualization/n2_viewer/n2_viewer.py:168: OpenMDAOWarning:All-NaN slice encountered\n",
      "/Users/BielGaliot/anaconda3/envs/FAST-GA/lib/python3.8/site-packages/openmdao/visualization/n2_viewer/n2_viewer.py:168: OpenMDAOWarning:All-NaN slice encountered\n",
      "/Users/BielGaliot/anaconda3/envs/FAST-GA/lib/python3.8/site-packages/openmdao/visualization/n2_viewer/n2_viewer.py:168: OpenMDAOWarning:All-NaN slice encountered\n",
      "/Users/BielGaliot/anaconda3/envs/FAST-GA/lib/python3.8/site-packages/openmdao/visualization/n2_viewer/n2_viewer.py:168: OpenMDAOWarning:All-NaN slice encountered\n",
      "/Users/BielGaliot/anaconda3/envs/FAST-GA/lib/python3.8/site-packages/openmdao/visualization/n2_viewer/n2_viewer.py:168: OpenMDAOWarning:All-NaN slice encountered\n",
      "/Users/BielGaliot/anaconda3/envs/FAST-GA/lib/python3.8/site-packages/openmdao/visualization/n2_viewer/n2_viewer.py:168: OpenMDAOWarning:All-NaN slice encountered\n",
      "/Users/BielGaliot/anaconda3/envs/FAST-GA/lib/python3.8/site-packages/openmdao/visualization/n2_viewer/n2_viewer.py:168: OpenMDAOWarning:All-NaN slice encountered\n",
      "/Users/BielGaliot/anaconda3/envs/FAST-GA/lib/python3.8/site-packages/openmdao/visualization/n2_viewer/n2_viewer.py:168: OpenMDAOWarning:All-NaN slice encountered\n",
      "/Users/BielGaliot/anaconda3/envs/FAST-GA/lib/python3.8/site-packages/openmdao/visualization/n2_viewer/n2_viewer.py:168: OpenMDAOWarning:All-NaN slice encountered\n",
      "/Users/BielGaliot/anaconda3/envs/FAST-GA/lib/python3.8/site-packages/openmdao/visualization/n2_viewer/n2_viewer.py:168: OpenMDAOWarning:All-NaN slice encountered\n",
      "/Users/BielGaliot/anaconda3/envs/FAST-GA/lib/python3.8/site-packages/openmdao/visualization/n2_viewer/n2_viewer.py:168: OpenMDAOWarning:All-NaN slice encountered\n",
      "/Users/BielGaliot/anaconda3/envs/FAST-GA/lib/python3.8/site-packages/openmdao/visualization/n2_viewer/n2_viewer.py:168: OpenMDAOWarning:All-NaN slice encountered\n",
      "/Users/BielGaliot/anaconda3/envs/FAST-GA/lib/python3.8/site-packages/openmdao/visualization/n2_viewer/n2_viewer.py:168: OpenMDAOWarning:All-NaN slice encountered\n",
      "/Users/BielGaliot/anaconda3/envs/FAST-GA/lib/python3.8/site-packages/openmdao/visualization/n2_viewer/n2_viewer.py:168: OpenMDAOWarning:All-NaN slice encountered\n",
      "/Users/BielGaliot/anaconda3/envs/FAST-GA/lib/python3.8/site-packages/openmdao/visualization/n2_viewer/n2_viewer.py:168: OpenMDAOWarning:All-NaN slice encountered\n",
      "/Users/BielGaliot/anaconda3/envs/FAST-GA/lib/python3.8/site-packages/openmdao/visualization/n2_viewer/n2_viewer.py:168: OpenMDAOWarning:All-NaN slice encountered\n",
      "/Users/BielGaliot/anaconda3/envs/FAST-GA/lib/python3.8/site-packages/openmdao/visualization/n2_viewer/n2_viewer.py:168: OpenMDAOWarning:All-NaN slice encountered\n",
      "/Users/BielGaliot/anaconda3/envs/FAST-GA/lib/python3.8/site-packages/openmdao/visualization/n2_viewer/n2_viewer.py:168: OpenMDAOWarning:All-NaN slice encountered\n",
      "/Users/BielGaliot/anaconda3/envs/FAST-GA/lib/python3.8/site-packages/openmdao/visualization/n2_viewer/n2_viewer.py:168: OpenMDAOWarning:All-NaN slice encountered\n",
      "/Users/BielGaliot/anaconda3/envs/FAST-GA/lib/python3.8/site-packages/openmdao/visualization/n2_viewer/n2_viewer.py:168: OpenMDAOWarning:All-NaN slice encountered\n",
      "/Users/BielGaliot/anaconda3/envs/FAST-GA/lib/python3.8/site-packages/openmdao/visualization/n2_viewer/n2_viewer.py:168: OpenMDAOWarning:All-NaN slice encountered\n",
      "/Users/BielGaliot/anaconda3/envs/FAST-GA/lib/python3.8/site-packages/openmdao/visualization/n2_viewer/n2_viewer.py:168: OpenMDAOWarning:All-NaN slice encountered\n",
      "/Users/BielGaliot/anaconda3/envs/FAST-GA/lib/python3.8/site-packages/openmdao/visualization/n2_viewer/n2_viewer.py:168: OpenMDAOWarning:All-NaN slice encountered\n",
      "/Users/BielGaliot/anaconda3/envs/FAST-GA/lib/python3.8/site-packages/openmdao/visualization/n2_viewer/n2_viewer.py:168: OpenMDAOWarning:All-NaN slice encountered\n",
      "/Users/BielGaliot/anaconda3/envs/FAST-GA/lib/python3.8/site-packages/openmdao/visualization/n2_viewer/n2_viewer.py:168: OpenMDAOWarning:All-NaN slice encountered\n",
      "/Users/BielGaliot/anaconda3/envs/FAST-GA/lib/python3.8/site-packages/openmdao/visualization/n2_viewer/n2_viewer.py:168: OpenMDAOWarning:All-NaN slice encountered\n",
      "/Users/BielGaliot/anaconda3/envs/FAST-GA/lib/python3.8/site-packages/openmdao/visualization/n2_viewer/n2_viewer.py:168: OpenMDAOWarning:All-NaN slice encountered\n",
      "/Users/BielGaliot/anaconda3/envs/FAST-GA/lib/python3.8/site-packages/openmdao/visualization/n2_viewer/n2_viewer.py:168: OpenMDAOWarning:All-NaN slice encountered\n",
      "/Users/BielGaliot/anaconda3/envs/FAST-GA/lib/python3.8/site-packages/openmdao/visualization/n2_viewer/n2_viewer.py:168: OpenMDAOWarning:All-NaN slice encountered\n",
      "/Users/BielGaliot/anaconda3/envs/FAST-GA/lib/python3.8/site-packages/openmdao/visualization/n2_viewer/n2_viewer.py:168: OpenMDAOWarning:All-NaN slice encountered\n",
      "/Users/BielGaliot/anaconda3/envs/FAST-GA/lib/python3.8/site-packages/openmdao/visualization/n2_viewer/n2_viewer.py:168: OpenMDAOWarning:All-NaN slice encountered\n",
      "/Users/BielGaliot/anaconda3/envs/FAST-GA/lib/python3.8/site-packages/openmdao/visualization/n2_viewer/n2_viewer.py:168: OpenMDAOWarning:All-NaN slice encountered\n",
      "/Users/BielGaliot/anaconda3/envs/FAST-GA/lib/python3.8/site-packages/openmdao/visualization/n2_viewer/n2_viewer.py:168: OpenMDAOWarning:All-NaN slice encountered\n",
      "/Users/BielGaliot/anaconda3/envs/FAST-GA/lib/python3.8/site-packages/openmdao/visualization/n2_viewer/n2_viewer.py:168: OpenMDAOWarning:All-NaN slice encountered\n",
      "/Users/BielGaliot/anaconda3/envs/FAST-GA/lib/python3.8/site-packages/openmdao/visualization/n2_viewer/n2_viewer.py:168: OpenMDAOWarning:All-NaN slice encountered\n",
      "/Users/BielGaliot/anaconda3/envs/FAST-GA/lib/python3.8/site-packages/openmdao/visualization/n2_viewer/n2_viewer.py:168: OpenMDAOWarning:All-NaN slice encountered\n",
      "/Users/BielGaliot/anaconda3/envs/FAST-GA/lib/python3.8/site-packages/openmdao/visualization/n2_viewer/n2_viewer.py:168: OpenMDAOWarning:All-NaN slice encountered\n",
      "/Users/BielGaliot/anaconda3/envs/FAST-GA/lib/python3.8/site-packages/openmdao/visualization/n2_viewer/n2_viewer.py:168: OpenMDAOWarning:All-NaN slice encountered\n",
      "/Users/BielGaliot/anaconda3/envs/FAST-GA/lib/python3.8/site-packages/openmdao/visualization/n2_viewer/n2_viewer.py:168: OpenMDAOWarning:All-NaN slice encountered\n",
      "/Users/BielGaliot/anaconda3/envs/FAST-GA/lib/python3.8/site-packages/openmdao/visualization/n2_viewer/n2_viewer.py:168: OpenMDAOWarning:All-NaN slice encountered\n",
      "/Users/BielGaliot/anaconda3/envs/FAST-GA/lib/python3.8/site-packages/openmdao/visualization/n2_viewer/n2_viewer.py:168: OpenMDAOWarning:All-NaN slice encountered\n",
      "/Users/BielGaliot/anaconda3/envs/FAST-GA/lib/python3.8/site-packages/openmdao/visualization/n2_viewer/n2_viewer.py:168: OpenMDAOWarning:All-NaN slice encountered\n",
      "/Users/BielGaliot/anaconda3/envs/FAST-GA/lib/python3.8/site-packages/openmdao/visualization/n2_viewer/n2_viewer.py:168: OpenMDAOWarning:All-NaN slice encountered\n",
      "/Users/BielGaliot/anaconda3/envs/FAST-GA/lib/python3.8/site-packages/openmdao/visualization/n2_viewer/n2_viewer.py:168: OpenMDAOWarning:All-NaN slice encountered\n",
      "/Users/BielGaliot/anaconda3/envs/FAST-GA/lib/python3.8/site-packages/openmdao/visualization/n2_viewer/n2_viewer.py:168: OpenMDAOWarning:All-NaN slice encountered\n",
      "/Users/BielGaliot/anaconda3/envs/FAST-GA/lib/python3.8/site-packages/openmdao/visualization/n2_viewer/n2_viewer.py:168: OpenMDAOWarning:All-NaN slice encountered\n",
      "/Users/BielGaliot/anaconda3/envs/FAST-GA/lib/python3.8/site-packages/openmdao/visualization/n2_viewer/n2_viewer.py:168: OpenMDAOWarning:All-NaN slice encountered\n",
      "/Users/BielGaliot/anaconda3/envs/FAST-GA/lib/python3.8/site-packages/openmdao/visualization/n2_viewer/n2_viewer.py:168: OpenMDAOWarning:All-NaN slice encountered\n",
      "/Users/BielGaliot/anaconda3/envs/FAST-GA/lib/python3.8/site-packages/openmdao/visualization/n2_viewer/n2_viewer.py:168: OpenMDAOWarning:All-NaN slice encountered\n",
      "/Users/BielGaliot/anaconda3/envs/FAST-GA/lib/python3.8/site-packages/openmdao/visualization/n2_viewer/n2_viewer.py:168: OpenMDAOWarning:All-NaN slice encountered\n",
      "/Users/BielGaliot/anaconda3/envs/FAST-GA/lib/python3.8/site-packages/openmdao/visualization/n2_viewer/n2_viewer.py:168: OpenMDAOWarning:All-NaN slice encountered\n",
      "/Users/BielGaliot/anaconda3/envs/FAST-GA/lib/python3.8/site-packages/openmdao/visualization/n2_viewer/n2_viewer.py:168: OpenMDAOWarning:All-NaN slice encountered\n",
      "/Users/BielGaliot/anaconda3/envs/FAST-GA/lib/python3.8/site-packages/openmdao/visualization/n2_viewer/n2_viewer.py:168: OpenMDAOWarning:All-NaN slice encountered\n",
      "/Users/BielGaliot/anaconda3/envs/FAST-GA/lib/python3.8/site-packages/openmdao/visualization/n2_viewer/n2_viewer.py:168: OpenMDAOWarning:All-NaN slice encountered\n",
      "/Users/BielGaliot/anaconda3/envs/FAST-GA/lib/python3.8/site-packages/openmdao/visualization/n2_viewer/n2_viewer.py:168: OpenMDAOWarning:All-NaN slice encountered\n",
      "/Users/BielGaliot/anaconda3/envs/FAST-GA/lib/python3.8/site-packages/openmdao/visualization/n2_viewer/n2_viewer.py:168: OpenMDAOWarning:All-NaN slice encountered\n",
      "/Users/BielGaliot/anaconda3/envs/FAST-GA/lib/python3.8/site-packages/openmdao/visualization/n2_viewer/n2_viewer.py:168: OpenMDAOWarning:All-NaN slice encountered\n",
      "/Users/BielGaliot/anaconda3/envs/FAST-GA/lib/python3.8/site-packages/openmdao/visualization/n2_viewer/n2_viewer.py:168: OpenMDAOWarning:All-NaN slice encountered\n",
      "/Users/BielGaliot/anaconda3/envs/FAST-GA/lib/python3.8/site-packages/openmdao/visualization/n2_viewer/n2_viewer.py:168: OpenMDAOWarning:All-NaN slice encountered\n",
      "/Users/BielGaliot/anaconda3/envs/FAST-GA/lib/python3.8/site-packages/openmdao/visualization/n2_viewer/n2_viewer.py:168: OpenMDAOWarning:All-NaN slice encountered\n",
      "/Users/BielGaliot/anaconda3/envs/FAST-GA/lib/python3.8/site-packages/openmdao/visualization/n2_viewer/n2_viewer.py:168: OpenMDAOWarning:All-NaN slice encountered\n",
      "/Users/BielGaliot/anaconda3/envs/FAST-GA/lib/python3.8/site-packages/openmdao/visualization/n2_viewer/n2_viewer.py:168: OpenMDAOWarning:All-NaN slice encountered\n",
      "/Users/BielGaliot/anaconda3/envs/FAST-GA/lib/python3.8/site-packages/openmdao/visualization/n2_viewer/n2_viewer.py:168: OpenMDAOWarning:All-NaN slice encountered\n",
      "/Users/BielGaliot/anaconda3/envs/FAST-GA/lib/python3.8/site-packages/openmdao/visualization/n2_viewer/n2_viewer.py:168: OpenMDAOWarning:All-NaN slice encountered\n",
      "/Users/BielGaliot/anaconda3/envs/FAST-GA/lib/python3.8/site-packages/openmdao/visualization/n2_viewer/n2_viewer.py:168: OpenMDAOWarning:All-NaN slice encountered\n",
      "/Users/BielGaliot/anaconda3/envs/FAST-GA/lib/python3.8/site-packages/openmdao/visualization/n2_viewer/n2_viewer.py:168: OpenMDAOWarning:All-NaN slice encountered\n"
     ]
    },
    {
     "name": "stdout",
     "output_type": "stream",
     "text": [
      "Analysis FASTOADModel pushed\u001b[0m\n"
     ]
    },
    {
     "data": {
      "text/html": [
       "\n",
       "        <iframe\n",
       "            width=\"100%\"\n",
       "            height=\"500px\"\n",
       "            src=\"workdir/xdsm.html\"\n",
       "            frameborder=\"0\"\n",
       "            allowfullscreen\n",
       "            \n",
       "        ></iframe>\n",
       "        "
      ],
      "text/plain": [
       "<IPython.lib.display.IFrame at 0x7f9807710790>"
      ]
     },
     "execution_count": 8,
     "metadata": {},
     "output_type": "execute_result"
    }
   ],
   "source": [
    "XDSM_FILE = pth.join(WORK_FOLDER_PATH, \"xdsm.html\")\n",
    "api_cs25.write_xdsm(CONFIGURATION_FILE, XDSM_FILE, overwrite=True)\n",
    "from IPython.display import IFrame\n",
    "\n",
    "IFrame(src=XDSM_FILE, width=\"100%\", height=\"500px\")"
   ]
  },
  {
   "cell_type": "markdown",
   "metadata": {},
   "source": [
    "## 2. Running your first MDA"
   ]
  },
  {
   "cell_type": "markdown",
   "metadata": {},
   "source": [
    "### Beechcraft\n",
    "Here we run an MDA, that is solving the multidisciplinary couplings using the different nested solvers in the model, without running the optimization problem even if it is defined in the configuration file."
   ]
  },
  {
   "cell_type": "code",
   "execution_count": 9,
   "metadata": {},
   "outputs": [
    {
     "name": "stdout",
     "output_type": "stream",
     "text": [
      "\n",
      "===============\n",
      "aircraft_sizing\n",
      "===============\n"
     ]
    },
    {
     "name": "stderr",
     "output_type": "stream",
     "text": [
      "WARNING : Chord ratio outside of the range in Roskam's book, value clipped\n",
      "INFO    : Entering mission computation\n",
      "INFO    : Failed to remove /Users/BielGaliot/Documents/GitHub/FAST-GA/FAST-OAD_notebooks/fast-oad-cs23/tutorial/workdir/./workdir/mda_mission_results.csv file!\n",
      "INFO    : Looping on wing area with new value equal to 13.875678\n"
     ]
    },
    {
     "name": "stdout",
     "output_type": "stream",
     "text": [
      "NL: NLBGS 1 ; 12528315.7 1\n"
     ]
    },
    {
     "name": "stderr",
     "output_type": "stream",
     "text": [
      "WARNING : Area ratio value outside of the range in Roskam's book, value clipped\n",
      "WARNING : Area ratio value outside of the range in Roskam's book, value clipped\n",
      "INFO    : Entering mission computation\n",
      "INFO    : Looping on wing area with new value equal to 14.985407\n"
     ]
    },
    {
     "name": "stdout",
     "output_type": "stream",
     "text": [
      "NL: NLBGS 2 ; 2145775.15 0.171274032\n"
     ]
    },
    {
     "name": "stderr",
     "output_type": "stream",
     "text": [
      "WARNING : Area ratio value outside of the range in Roskam's book, value clipped\n",
      "WARNING : Area ratio value outside of the range in Roskam's book, value clipped\n",
      "INFO    : Entering mission computation\n",
      "INFO    : Looping on wing area with new value equal to 15.055374\n"
     ]
    },
    {
     "name": "stdout",
     "output_type": "stream",
     "text": [
      "NL: NLBGS 3 ; 1077707.42 0.0860217321\n"
     ]
    },
    {
     "name": "stderr",
     "output_type": "stream",
     "text": [
      "WARNING : Area ratio value outside of the range in Roskam's book, value clipped\n",
      "WARNING : Area ratio value outside of the range in Roskam's book, value clipped\n",
      "INFO    : Entering mission computation\n",
      "INFO    : Looping on wing area with new value equal to 15.342948\n"
     ]
    },
    {
     "name": "stdout",
     "output_type": "stream",
     "text": [
      "NL: NLBGS 4 ; 462172.497 0.0368902338\n"
     ]
    },
    {
     "name": "stderr",
     "output_type": "stream",
     "text": [
      "WARNING : Area ratio value outside of the range in Roskam's book, value clipped\n",
      "WARNING : Area ratio value outside of the range in Roskam's book, value clipped\n",
      "INFO    : Entering mission computation\n",
      "INFO    : Looping on wing area with new value equal to 15.463506\n"
     ]
    },
    {
     "name": "stdout",
     "output_type": "stream",
     "text": [
      "NL: NLBGS 5 ; 96155.0828 0.00767502072\n"
     ]
    },
    {
     "name": "stderr",
     "output_type": "stream",
     "text": [
      "WARNING : Area ratio value outside of the range in Roskam's book, value clipped\n",
      "WARNING : Area ratio value outside of the range in Roskam's book, value clipped\n",
      "INFO    : Entering mission computation\n",
      "INFO    : Looping on wing area with new value equal to 15.507148\n"
     ]
    },
    {
     "name": "stdout",
     "output_type": "stream",
     "text": [
      "NL: NLBGS 6 ; 64925.6821 0.00518231528\n"
     ]
    },
    {
     "name": "stderr",
     "output_type": "stream",
     "text": [
      "WARNING : Area ratio value outside of the range in Roskam's book, value clipped\n",
      "WARNING : Area ratio value outside of the range in Roskam's book, value clipped\n",
      "INFO    : Entering mission computation\n",
      "INFO    : Looping on wing area with new value equal to 15.533623\n"
     ]
    },
    {
     "name": "stdout",
     "output_type": "stream",
     "text": [
      "NL: NLBGS 7 ; 32154.4649 0.00256654331\n"
     ]
    },
    {
     "name": "stderr",
     "output_type": "stream",
     "text": [
      "WARNING : Area ratio value outside of the range in Roskam's book, value clipped\n",
      "WARNING : Area ratio value outside of the range in Roskam's book, value clipped\n",
      "INFO    : Entering mission computation\n",
      "INFO    : Looping on wing area with new value equal to 15.546426\n"
     ]
    },
    {
     "name": "stdout",
     "output_type": "stream",
     "text": [
      "NL: NLBGS 8 ; 12023.8585 0.000959734631\n",
      "NL: NLBGS Converged\n"
     ]
    },
    {
     "name": "stderr",
     "output_type": "stream",
     "text": [
      "INFO    : Computation finished after 155.24 seconds\n",
      "INFO    : Problem outputs written in /Users/BielGaliot/Documents/GitHub/FAST-GA/FAST-OAD_notebooks/fast-oad-cs23/tutorial/workdir/problem_outputs.xml\n"
     ]
    }
   ],
   "source": [
    "eval_problem = api_cs25.evaluate_problem(CONFIGURATION_FILE, overwrite=True)"
   ]
  },
  {
   "cell_type": "markdown",
   "metadata": {},
   "source": [
    "Let's save these results. We will use them in the next workbook, that shows some post-processing utilities."
   ]
  },
  {
   "cell_type": "code",
   "execution_count": 10,
   "metadata": {},
   "outputs": [
    {
     "data": {
      "text/plain": [
       "'workdir/problem_outputs_Beechcraft_800nm_mda.xml'"
      ]
     },
     "execution_count": 10,
     "metadata": {},
     "output_type": "execute_result"
    }
   ],
   "source": [
    "OUTPUT_FILE = pth.join(WORK_FOLDER_PATH, \"problem_outputs.xml\")\n",
    "Beechcraft_OUTPUT_FILE = pth.join(WORK_FOLDER_PATH, \"problem_outputs_Beechcraft_800nm_mda.xml\")\n",
    "shutil.copy(OUTPUT_FILE, Beechcraft_OUTPUT_FILE)"
   ]
  },
  {
   "cell_type": "markdown",
   "metadata": {},
   "source": [
    "The `variable-viewer` provides a way to inspect the content of the XML file. The dropdown lists above the table allow to filter the displayed variable."
   ]
  },
  {
   "cell_type": "code",
   "execution_count": 12,
   "metadata": {},
   "outputs": [
    {
     "data": {
      "application/vnd.jupyter.widget-view+json": {
       "model_id": "28470b10dc7f409683e5d1314d243fb4",
       "version_major": 2,
       "version_minor": 0
      },
      "text/plain": [
       "VBox(children=(HBox(children=(Button(description='Load', icon='upload', style=ButtonStyle(), tooltip='Load the…"
      ]
     },
     "metadata": {},
     "output_type": "display_data"
    }
   ],
   "source": [
    "api_cs25.variable_viewer(OUTPUT_FILE)"
   ]
  },
  {
   "cell_type": "markdown",
   "metadata": {},
   "source": [
    "In particular, you may inspect the `data:handling_qualities:static_margin` variable.\n",
    "You will see that its value is equal to the value we set as the target meaning the MDA process converged correctly."
   ]
  },
  {
   "cell_type": "markdown",
   "metadata": {},
   "source": [
    "### Beechcraft for 1000 nm range\n",
    "Here we run an MDA but we change one of the Top Level Aircraft Requirement (TLAR): the range. We choose a 1000 nm range instead of 800 nm for the Beechcraft. For that we use the `VariableViewer` tool on the input file to change the range (do not forget to save!). Just like this:\n",
    "![variable_viewer](./img/variable_viewer_change_range.gif)"
   ]
  },
  {
   "cell_type": "code",
   "execution_count": 14,
   "metadata": {
    "scrolled": true
   },
   "outputs": [
    {
     "data": {
      "application/vnd.jupyter.widget-view+json": {
       "model_id": "f47fdcab792149d69e4db9352248c0c8",
       "version_major": 2,
       "version_minor": 0
      },
      "text/plain": [
       "VBox(children=(HBox(children=(Button(description='Load', icon='upload', style=ButtonStyle(), tooltip='Load the…"
      ]
     },
     "metadata": {},
     "output_type": "display_data"
    }
   ],
   "source": [
    "INPUT_FILE = pth.join(WORK_FOLDER_PATH, \"problem_inputs.xml\")\n",
    "api_cs25.variable_viewer(INPUT_FILE)"
   ]
  },
  {
   "cell_type": "markdown",
   "metadata": {},
   "source": [
    "Now that the range has been changed, we run again the MDA."
   ]
  },
  {
   "cell_type": "code",
   "execution_count": 15,
   "metadata": {},
   "outputs": [
    {
     "name": "stdout",
     "output_type": "stream",
     "text": [
      "\n",
      "===============\n",
      "aircraft_sizing\n",
      "===============\n"
     ]
    },
    {
     "name": "stderr",
     "output_type": "stream",
     "text": [
      "INFO    : Entering mission computation\n",
      "INFO    : Looping on wing area with new value equal to 13.875678\n"
     ]
    },
    {
     "name": "stdout",
     "output_type": "stream",
     "text": [
      "NL: NLBGS 1 ; 12568700.2 1\n"
     ]
    },
    {
     "name": "stderr",
     "output_type": "stream",
     "text": [
      "WARNING : Area ratio value outside of the range in Roskam's book, value clipped\n",
      "WARNING : Area ratio value outside of the range in Roskam's book, value clipped\n",
      "INFO    : Entering mission computation\n",
      "INFO    : Looping on wing area with new value equal to 15.430456\n"
     ]
    },
    {
     "name": "stdout",
     "output_type": "stream",
     "text": [
      "NL: NLBGS 2 ; 2145659.33 0.170714497\n"
     ]
    },
    {
     "name": "stderr",
     "output_type": "stream",
     "text": [
      "WARNING : Area ratio value outside of the range in Roskam's book, value clipped\n",
      "WARNING : Area ratio value outside of the range in Roskam's book, value clipped\n",
      "INFO    : Entering mission computation\n",
      "INFO    : Looping on wing area with new value equal to 15.593942\n"
     ]
    },
    {
     "name": "stdout",
     "output_type": "stream",
     "text": [
      "NL: NLBGS 3 ; 1123262.78 0.089369844\n"
     ]
    },
    {
     "name": "stderr",
     "output_type": "stream",
     "text": [
      "WARNING : Area ratio value outside of the range in Roskam's book, value clipped\n",
      "WARNING : Area ratio value outside of the range in Roskam's book, value clipped\n",
      "INFO    : Entering mission computation\n",
      "INFO    : Looping on wing area with new value equal to 15.965927\n"
     ]
    },
    {
     "name": "stdout",
     "output_type": "stream",
     "text": [
      "NL: NLBGS 4 ; 633399.933 0.0503950228\n"
     ]
    },
    {
     "name": "stderr",
     "output_type": "stream",
     "text": [
      "WARNING : Area ratio value outside of the range in Roskam's book, value clipped\n",
      "WARNING : Area ratio value outside of the range in Roskam's book, value clipped\n",
      "INFO    : Entering mission computation\n",
      "INFO    : Looping on wing area with new value equal to 16.151650\n"
     ]
    },
    {
     "name": "stdout",
     "output_type": "stream",
     "text": [
      "NL: NLBGS 5 ; 123489.441 0.0098251561\n"
     ]
    },
    {
     "name": "stderr",
     "output_type": "stream",
     "text": [
      "WARNING : Area ratio value outside of the range in Roskam's book, value clipped\n",
      "WARNING : Area ratio value outside of the range in Roskam's book, value clipped\n",
      "INFO    : Entering mission computation\n",
      "INFO    : Looping on wing area with new value equal to 16.227937\n"
     ]
    },
    {
     "name": "stdout",
     "output_type": "stream",
     "text": [
      "NL: NLBGS 6 ; 101590.164 0.00808278998\n"
     ]
    },
    {
     "name": "stderr",
     "output_type": "stream",
     "text": [
      "WARNING : Area ratio value outside of the range in Roskam's book, value clipped\n",
      "WARNING : Area ratio value outside of the range in Roskam's book, value clipped\n",
      "INFO    : Entering mission computation\n",
      "INFO    : Looping on wing area with new value equal to 16.274219\n"
     ]
    },
    {
     "name": "stdout",
     "output_type": "stream",
     "text": [
      "NL: NLBGS 7 ; 56655.749 0.00450768561\n"
     ]
    },
    {
     "name": "stderr",
     "output_type": "stream",
     "text": [
      "WARNING : Area ratio value outside of the range in Roskam's book, value clipped\n",
      "WARNING : Area ratio value outside of the range in Roskam's book, value clipped\n",
      "INFO    : Entering mission computation\n",
      "INFO    : Looping on wing area with new value equal to 16.298361\n"
     ]
    },
    {
     "name": "stdout",
     "output_type": "stream",
     "text": [
      "NL: NLBGS 8 ; 23664.1964 0.00188278788\n"
     ]
    },
    {
     "name": "stderr",
     "output_type": "stream",
     "text": [
      "WARNING : Area ratio value outside of the range in Roskam's book, value clipped\n",
      "WARNING : Area ratio value outside of the range in Roskam's book, value clipped\n",
      "INFO    : Entering mission computation\n",
      "INFO    : Looping on wing area with new value equal to 16.310251\n"
     ]
    },
    {
     "name": "stdout",
     "output_type": "stream",
     "text": [
      "NL: NLBGS 9 ; 13061.251 0.00103918869\n"
     ]
    },
    {
     "name": "stderr",
     "output_type": "stream",
     "text": [
      "WARNING : Area ratio value outside of the range in Roskam's book, value clipped\n",
      "WARNING : Area ratio value outside of the range in Roskam's book, value clipped\n",
      "INFO    : Entering mission computation\n",
      "INFO    : Looping on wing area with new value equal to 16.316393\n"
     ]
    },
    {
     "name": "stdout",
     "output_type": "stream",
     "text": [
      "NL: NLBGS 10 ; 6831.97603 0.00054357061\n",
      "NL: NLBGS Converged\n"
     ]
    },
    {
     "name": "stderr",
     "output_type": "stream",
     "text": [
      "INFO    : Computation finished after 114.91 seconds\n",
      "INFO    : Problem outputs written in /Users/BielGaliot/Documents/GitHub/FAST-GA/FAST-OAD_notebooks/fast-oad-cs23/tutorial/workdir/problem_outputs.xml\n"
     ]
    }
   ],
   "source": [
    "eval_problem = api_cs25.evaluate_problem(CONFIGURATION_FILE, overwrite=True)"
   ]
  },
  {
   "cell_type": "markdown",
   "metadata": {},
   "source": [
    "Let's save again these new results, for post-processing them in next notebook."
   ]
  },
  {
   "cell_type": "code",
   "execution_count": 16,
   "metadata": {},
   "outputs": [
    {
     "data": {
      "text/plain": [
       "'workdir/problem_outputs_Beechcraft_1000nm_mda.xml'"
      ]
     },
     "execution_count": 16,
     "metadata": {},
     "output_type": "execute_result"
    }
   ],
   "source": [
    "OUTPUT_FILE = pth.join(WORK_FOLDER_PATH, \"problem_outputs.xml\")\n",
    "Beechcraft_1000nm_OUTPUT_FILE = pth.join(\n",
    "    WORK_FOLDER_PATH, \"problem_outputs_Beechcraft_1000nm_mda.xml\"\n",
    ")\n",
    "shutil.copy(OUTPUT_FILE, Beechcraft_1000nm_OUTPUT_FILE)"
   ]
  },
  {
   "cell_type": "markdown",
   "metadata": {},
   "source": [
    "## 3. Running your first MDO\n",
    "\n",
    "## Beechcraft 800 nm optimization\n",
    "\n",
    "As seen earlier, the current aircraft configuration is estimated with a fixed distance between the wing aerodynamic center and the horizontal tail aerodynamic center. We will unlock this parameter using a simple optimization problem that will move horizontal tail position in order to minimize the mission consumption. \n",
    "\n",
    "The default configuration file defines this optimization problem that aims at:\n",
    "- minimizing the fuel consumption for the mission (objective),\n",
    "- with respect to the distance between the wing and the tail aerodynamic center (design variables): by extension the horizontal tail to wing distance,\n",
    "- subject to no additional constraint.\n",
    "\n",
    "However, running the MDO with the propeller performance estimation will take a very long time. Consequently, and since the propeller won't change from one MDO loop to another, we decided to use a different .yml file for the probleme definition and reuse the propeller performance map computed in the MDA's hence why the input file will be the output file of a previous MDA.\n",
    "\n",
    "*(This run should take approximately 20 minutes)*"
   ]
  },
  {
   "cell_type": "code",
   "execution_count": 17,
   "metadata": {},
   "outputs": [
    {
     "data": {
      "text/plain": [
       "'workdir/oad_process_mdo.yml'"
      ]
     },
     "execution_count": 17,
     "metadata": {},
     "output_type": "execute_result"
    }
   ],
   "source": [
    "CONFIGURATION_FILE_MDO = pth.join(WORK_FOLDER_PATH, \"oad_process_mdo.yml\")\n",
    "SOURCE_FILE_MDO = pth.join(WORK_FOLDER_PATH, \"problem_outputs_Beechcraft_800nm_mda.xml\")\n",
    "shutil.copy(pth.join(DATA_FOLDER_PATH, \"fastga_mdo.yml\"), CONFIGURATION_FILE_MDO)"
   ]
  },
  {
   "cell_type": "code",
   "execution_count": 18,
   "metadata": {},
   "outputs": [
    {
     "name": "stderr",
     "output_type": "stream",
     "text": [
      "INFO    : Problem inputs written in /Users/BielGaliot/Documents/GitHub/FAST-GA/FAST-OAD_notebooks/fast-oad-cs23/tutorial/workdir/problem_inputs.xml\n"
     ]
    },
    {
     "data": {
      "text/plain": [
       "'/Users/BielGaliot/Documents/GitHub/FAST-GA/FAST-OAD_notebooks/fast-oad-cs23/tutorial/workdir/problem_inputs.xml'"
      ]
     },
     "execution_count": 18,
     "metadata": {},
     "output_type": "execute_result"
    }
   ],
   "source": [
    "# Set back the inputs from the reference Beechcraft 800 nm\n",
    "api_cs25.generate_inputs(CONFIGURATION_FILE_MDO, SOURCE_FILE_MDO, overwrite=True)"
   ]
  },
  {
   "cell_type": "markdown",
   "metadata": {},
   "source": [
    "To visualize and edit the optimization problem definition (present in the configuration file .toml) you can use the `optimization_viewer` tool. If design variables or constraints have active bounds they are yellow whereas they are red if they are violated. Modifiying the `Initial Value` will modify the input file defined in the configuration file .toml whereas `Value` corresponds to the value found in the output file defined in the configuration file (here it is the 800 nm MDA run)."
   ]
  },
  {
   "cell_type": "code",
   "execution_count": 19,
   "metadata": {},
   "outputs": [
    {
     "data": {
      "application/vnd.jupyter.widget-view+json": {
       "model_id": "17635043ded34e8c94388dabef2fc174",
       "version_major": 2,
       "version_minor": 0
      },
      "text/plain": [
       "VBox(children=(HBox(children=(Button(description='Load', icon='upload', style=ButtonStyle(), tooltip='Load the…"
      ]
     },
     "metadata": {},
     "output_type": "display_data"
    }
   ],
   "source": [
    "api_cs25.optimization_viewer(CONFIGURATION_FILE_MDO)"
   ]
  },
  {
   "cell_type": "code",
   "execution_count": 20,
   "metadata": {},
   "outputs": [
    {
     "name": "stderr",
     "output_type": "stream",
     "text": [
      "INFO    : Entering mission computation\n",
      "INFO    : Looping on wing area with new value equal to 13.875678\n"
     ]
    },
    {
     "name": "stdout",
     "output_type": "stream",
     "text": [
      "NL: NLBGS 1 ; 12528315.7 1\n"
     ]
    },
    {
     "name": "stderr",
     "output_type": "stream",
     "text": [
      "WARNING : Area ratio value outside of the range in Roskam's book, value clipped\n",
      "WARNING : Area ratio value outside of the range in Roskam's book, value clipped\n",
      "INFO    : Entering mission computation\n",
      "INFO    : Looping on wing area with new value equal to 14.985407\n"
     ]
    },
    {
     "name": "stdout",
     "output_type": "stream",
     "text": [
      "NL: NLBGS 2 ; 2145775.15 0.171274032\n"
     ]
    },
    {
     "name": "stderr",
     "output_type": "stream",
     "text": [
      "WARNING : Area ratio value outside of the range in Roskam's book, value clipped\n",
      "WARNING : Area ratio value outside of the range in Roskam's book, value clipped\n",
      "INFO    : Entering mission computation\n",
      "INFO    : Looping on wing area with new value equal to 15.055374\n"
     ]
    },
    {
     "name": "stdout",
     "output_type": "stream",
     "text": [
      "NL: NLBGS 3 ; 1077707.42 0.0860217321\n"
     ]
    },
    {
     "name": "stderr",
     "output_type": "stream",
     "text": [
      "WARNING : Area ratio value outside of the range in Roskam's book, value clipped\n",
      "WARNING : Area ratio value outside of the range in Roskam's book, value clipped\n",
      "INFO    : Entering mission computation\n",
      "INFO    : Looping on wing area with new value equal to 15.342948\n"
     ]
    },
    {
     "name": "stdout",
     "output_type": "stream",
     "text": [
      "NL: NLBGS 4 ; 462172.497 0.0368902338\n"
     ]
    },
    {
     "name": "stderr",
     "output_type": "stream",
     "text": [
      "WARNING : Area ratio value outside of the range in Roskam's book, value clipped\n",
      "WARNING : Area ratio value outside of the range in Roskam's book, value clipped\n",
      "INFO    : Entering mission computation\n",
      "INFO    : Looping on wing area with new value equal to 15.463506\n"
     ]
    },
    {
     "name": "stdout",
     "output_type": "stream",
     "text": [
      "NL: NLBGS 5 ; 96155.0828 0.00767502072\n"
     ]
    },
    {
     "name": "stderr",
     "output_type": "stream",
     "text": [
      "WARNING : Area ratio value outside of the range in Roskam's book, value clipped\n",
      "WARNING : Area ratio value outside of the range in Roskam's book, value clipped\n",
      "INFO    : Entering mission computation\n",
      "INFO    : Looping on wing area with new value equal to 15.507148\n"
     ]
    },
    {
     "name": "stdout",
     "output_type": "stream",
     "text": [
      "NL: NLBGS 6 ; 64925.6821 0.00518231528\n"
     ]
    },
    {
     "name": "stderr",
     "output_type": "stream",
     "text": [
      "WARNING : Area ratio value outside of the range in Roskam's book, value clipped\n",
      "WARNING : Area ratio value outside of the range in Roskam's book, value clipped\n",
      "INFO    : Entering mission computation\n",
      "INFO    : Looping on wing area with new value equal to 15.533623\n"
     ]
    },
    {
     "name": "stdout",
     "output_type": "stream",
     "text": [
      "NL: NLBGS 7 ; 32154.4649 0.00256654331\n"
     ]
    },
    {
     "name": "stderr",
     "output_type": "stream",
     "text": [
      "WARNING : Area ratio value outside of the range in Roskam's book, value clipped\n",
      "WARNING : Area ratio value outside of the range in Roskam's book, value clipped\n",
      "INFO    : Entering mission computation\n",
      "INFO    : Looping on wing area with new value equal to 15.546426\n"
     ]
    },
    {
     "name": "stdout",
     "output_type": "stream",
     "text": [
      "NL: NLBGS 8 ; 12023.8585 0.000959734631\n",
      "NL: NLBGS Converged\n"
     ]
    },
    {
     "name": "stderr",
     "output_type": "stream",
     "text": [
      "WARNING : Area ratio value outside of the range in Roskam's book, value clipped\n",
      "WARNING : Area ratio value outside of the range in Roskam's book, value clipped\n",
      "INFO    : Entering mission computation\n",
      "INFO    : Looping on wing area with new value equal to 15.552226\n"
     ]
    },
    {
     "name": "stdout",
     "output_type": "stream",
     "text": [
      "NL: NLBGS 1 ; 6425.03945 1\n"
     ]
    },
    {
     "name": "stderr",
     "output_type": "stream",
     "text": [
      "WARNING : Area ratio value outside of the range in Roskam's book, value clipped\n",
      "WARNING : Area ratio value outside of the range in Roskam's book, value clipped\n",
      "INFO    : Entering mission computation\n",
      "INFO    : Looping on wing area with new value equal to 15.555099\n"
     ]
    },
    {
     "name": "stdout",
     "output_type": "stream",
     "text": [
      "NL: NLBGS 2 ; 3146.67749 0.489752244\n"
     ]
    },
    {
     "name": "stderr",
     "output_type": "stream",
     "text": [
      "WARNING : Area ratio value outside of the range in Roskam's book, value clipped\n",
      "WARNING : Area ratio value outside of the range in Roskam's book, value clipped\n",
      "INFO    : Entering mission computation\n",
      "INFO    : Looping on wing area with new value equal to 15.556483\n"
     ]
    },
    {
     "name": "stdout",
     "output_type": "stream",
     "text": [
      "NL: NLBGS 3 ; 1433.84334 0.223164908\n"
     ]
    },
    {
     "name": "stderr",
     "output_type": "stream",
     "text": [
      "WARNING : Area ratio value outside of the range in Roskam's book, value clipped\n",
      "WARNING : Area ratio value outside of the range in Roskam's book, value clipped\n",
      "INFO    : Entering mission computation\n",
      "INFO    : Looping on wing area with new value equal to 15.557136\n"
     ]
    },
    {
     "name": "stdout",
     "output_type": "stream",
     "text": [
      "NL: NLBGS 4 ; 696.234132 0.108362624\n"
     ]
    },
    {
     "name": "stderr",
     "output_type": "stream",
     "text": [
      "WARNING : Area ratio value outside of the range in Roskam's book, value clipped\n",
      "WARNING : Area ratio value outside of the range in Roskam's book, value clipped\n",
      "INFO    : Entering mission computation\n",
      "INFO    : Looping on wing area with new value equal to 15.557449\n"
     ]
    },
    {
     "name": "stdout",
     "output_type": "stream",
     "text": [
      "NL: NLBGS 5 ; 334.151525 0.0520077001\n"
     ]
    },
    {
     "name": "stderr",
     "output_type": "stream",
     "text": [
      "WARNING : Area ratio value outside of the range in Roskam's book, value clipped\n",
      "WARNING : Area ratio value outside of the range in Roskam's book, value clipped\n",
      "INFO    : Entering mission computation\n",
      "INFO    : Looping on wing area with new value equal to 15.557598\n"
     ]
    },
    {
     "name": "stdout",
     "output_type": "stream",
     "text": [
      "NL: NLBGS 6 ; 157.213914 0.0244689415\n"
     ]
    },
    {
     "name": "stderr",
     "output_type": "stream",
     "text": [
      "WARNING : Area ratio value outside of the range in Roskam's book, value clipped\n",
      "WARNING : Area ratio value outside of the range in Roskam's book, value clipped\n",
      "INFO    : Entering mission computation\n",
      "INFO    : Looping on wing area with new value equal to 15.557669\n"
     ]
    },
    {
     "name": "stdout",
     "output_type": "stream",
     "text": [
      "NL: NLBGS 7 ; 74.6094243 0.0116122905\n"
     ]
    },
    {
     "name": "stderr",
     "output_type": "stream",
     "text": [
      "WARNING : Area ratio value outside of the range in Roskam's book, value clipped\n",
      "WARNING : Area ratio value outside of the range in Roskam's book, value clipped\n",
      "INFO    : Entering mission computation\n",
      "INFO    : Looping on wing area with new value equal to 15.557702\n"
     ]
    },
    {
     "name": "stdout",
     "output_type": "stream",
     "text": [
      "NL: NLBGS 8 ; 35.4050861 0.0055104854\n"
     ]
    },
    {
     "name": "stderr",
     "output_type": "stream",
     "text": [
      "WARNING : Area ratio value outside of the range in Roskam's book, value clipped\n",
      "WARNING : Area ratio value outside of the range in Roskam's book, value clipped\n",
      "INFO    : Entering mission computation\n",
      "INFO    : Looping on wing area with new value equal to 15.557718\n"
     ]
    },
    {
     "name": "stdout",
     "output_type": "stream",
     "text": [
      "NL: NLBGS 9 ; 16.6513935 0.00259164066\n"
     ]
    },
    {
     "name": "stderr",
     "output_type": "stream",
     "text": [
      "WARNING : Area ratio value outside of the range in Roskam's book, value clipped\n",
      "WARNING : Area ratio value outside of the range in Roskam's book, value clipped\n",
      "INFO    : Entering mission computation\n",
      "INFO    : Looping on wing area with new value equal to 15.557725\n"
     ]
    },
    {
     "name": "stdout",
     "output_type": "stream",
     "text": [
      "NL: NLBGS 10 ; 7.83024652 0.00121870793\n"
     ]
    },
    {
     "name": "stderr",
     "output_type": "stream",
     "text": [
      "WARNING : Area ratio value outside of the range in Roskam's book, value clipped\n",
      "WARNING : Area ratio value outside of the range in Roskam's book, value clipped\n",
      "INFO    : Entering mission computation\n",
      "INFO    : Looping on wing area with new value equal to 15.557729\n"
     ]
    },
    {
     "name": "stdout",
     "output_type": "stream",
     "text": [
      "NL: NLBGS 11 ; 3.65698754 0.000569177446\n",
      "NL: NLBGS Converged\n"
     ]
    },
    {
     "name": "stderr",
     "output_type": "stream",
     "text": [
      "WARNING : Ratio of span on fuselage depth outside of the range in Roskam's book, value clipped\n",
      "WARNING : Area ratio value outside of the range in Roskam's book, value clipped\n",
      "WARNING : Ratio of span on fuselage depth outside of the range in Roskam's book, value clipped\n",
      "WARNING : Area ratio value outside of the range in Roskam's book, value clipped\n",
      "INFO    : Entering mission computation\n",
      "INFO    : Looping on wing area with new value equal to 15.557730\n"
     ]
    },
    {
     "name": "stdout",
     "output_type": "stream",
     "text": [
      "NL: NLBGS 1 ; 219.616889 1\n"
     ]
    },
    {
     "name": "stderr",
     "output_type": "stream",
     "text": [
      "WARNING : Area ratio value outside of the range in Roskam's book, value clipped\n",
      "WARNING : Area ratio value outside of the range in Roskam's book, value clipped\n",
      "INFO    : Entering mission computation\n",
      "INFO    : Looping on wing area with new value equal to 15.744288\n"
     ]
    },
    {
     "name": "stdout",
     "output_type": "stream",
     "text": [
      "NL: NLBGS 2 ; 695712.485 3167.84601\n"
     ]
    },
    {
     "name": "stderr",
     "output_type": "stream",
     "text": [
      "WARNING : Ratio of span on fuselage depth outside of the range in Roskam's book, value clipped\n",
      "WARNING : Area ratio value outside of the range in Roskam's book, value clipped\n",
      "WARNING : Ratio of span on fuselage depth outside of the range in Roskam's book, value clipped\n",
      "WARNING : Area ratio value outside of the range in Roskam's book, value clipped\n",
      "INFO    : Entering mission computation\n",
      "INFO    : Looping on wing area with new value equal to 15.696411\n"
     ]
    },
    {
     "name": "stdout",
     "output_type": "stream",
     "text": [
      "NL: NLBGS 3 ; 65462.4994 298.075889\n"
     ]
    },
    {
     "name": "stderr",
     "output_type": "stream",
     "text": [
      "WARNING : Ratio of span on fuselage depth outside of the range in Roskam's book, value clipped\n",
      "WARNING : Area ratio value outside of the range in Roskam's book, value clipped\n",
      "WARNING : Ratio of span on fuselage depth outside of the range in Roskam's book, value clipped\n",
      "WARNING : Area ratio value outside of the range in Roskam's book, value clipped\n",
      "INFO    : Entering mission computation\n",
      "INFO    : Looping on wing area with new value equal to 15.718298\n"
     ]
    },
    {
     "name": "stdout",
     "output_type": "stream",
     "text": [
      "NL: NLBGS 4 ; 131005.796 596.51968\n"
     ]
    },
    {
     "name": "stderr",
     "output_type": "stream",
     "text": [
      "WARNING : Ratio of span on fuselage depth outside of the range in Roskam's book, value clipped\n",
      "WARNING : Area ratio value outside of the range in Roskam's book, value clipped\n",
      "WARNING : Ratio of span on fuselage depth outside of the range in Roskam's book, value clipped\n",
      "WARNING : Area ratio value outside of the range in Roskam's book, value clipped\n",
      "INFO    : Entering mission computation\n",
      "INFO    : Looping on wing area with new value equal to 15.743569\n"
     ]
    },
    {
     "name": "stdout",
     "output_type": "stream",
     "text": [
      "NL: NLBGS 5 ; 26576.5975 121.01345\n"
     ]
    },
    {
     "name": "stderr",
     "output_type": "stream",
     "text": [
      "WARNING : Ratio of span on fuselage depth outside of the range in Roskam's book, value clipped\n",
      "WARNING : Area ratio value outside of the range in Roskam's book, value clipped\n",
      "WARNING : Ratio of span on fuselage depth outside of the range in Roskam's book, value clipped\n",
      "WARNING : Area ratio value outside of the range in Roskam's book, value clipped\n",
      "INFO    : Entering mission computation\n",
      "INFO    : Looping on wing area with new value equal to 15.756271\n"
     ]
    },
    {
     "name": "stdout",
     "output_type": "stream",
     "text": [
      "NL: NLBGS 6 ; 16698.9229 76.0366064\n"
     ]
    },
    {
     "name": "stderr",
     "output_type": "stream",
     "text": [
      "WARNING : Ratio of span on fuselage depth outside of the range in Roskam's book, value clipped\n",
      "WARNING : Area ratio value outside of the range in Roskam's book, value clipped\n",
      "WARNING : Ratio of span on fuselage depth outside of the range in Roskam's book, value clipped\n",
      "WARNING : Area ratio value outside of the range in Roskam's book, value clipped\n",
      "INFO    : Entering mission computation\n",
      "INFO    : Looping on wing area with new value equal to 15.764449\n"
     ]
    },
    {
     "name": "stdout",
     "output_type": "stream",
     "text": [
      "NL: NLBGS 7 ; 11685.7748 53.2098183\n"
     ]
    },
    {
     "name": "stderr",
     "output_type": "stream",
     "text": [
      "WARNING : Ratio of span on fuselage depth outside of the range in Roskam's book, value clipped\n",
      "WARNING : Area ratio value outside of the range in Roskam's book, value clipped\n",
      "WARNING : Ratio of span on fuselage depth outside of the range in Roskam's book, value clipped\n",
      "WARNING : Area ratio value outside of the range in Roskam's book, value clipped\n",
      "INFO    : Entering mission computation\n",
      "INFO    : Looping on wing area with new value equal to 15.769362\n"
     ]
    },
    {
     "name": "stdout",
     "output_type": "stream",
     "text": [
      "NL: NLBGS 8 ; 5659.87741 25.7715945\n"
     ]
    },
    {
     "name": "stderr",
     "output_type": "stream",
     "text": [
      "WARNING : Ratio of span on fuselage depth outside of the range in Roskam's book, value clipped\n",
      "WARNING : Area ratio value outside of the range in Roskam's book, value clipped\n",
      "WARNING : Ratio of span on fuselage depth outside of the range in Roskam's book, value clipped\n",
      "WARNING : Area ratio value outside of the range in Roskam's book, value clipped\n",
      "INFO    : Entering mission computation\n",
      "INFO    : Looping on wing area with new value equal to 15.772030\n"
     ]
    },
    {
     "name": "stdout",
     "output_type": "stream",
     "text": [
      "NL: NLBGS 9 ; 3014.72418 13.7271965\n"
     ]
    },
    {
     "name": "stderr",
     "output_type": "stream",
     "text": [
      "WARNING : Ratio of span on fuselage depth outside of the range in Roskam's book, value clipped\n",
      "WARNING : Area ratio value outside of the range in Roskam's book, value clipped\n",
      "WARNING : Ratio of span on fuselage depth outside of the range in Roskam's book, value clipped\n",
      "WARNING : Area ratio value outside of the range in Roskam's book, value clipped\n",
      "INFO    : Entering mission computation\n",
      "INFO    : Looping on wing area with new value equal to 15.773477\n"
     ]
    },
    {
     "name": "stdout",
     "output_type": "stream",
     "text": [
      "NL: NLBGS 10 ; 1633.77798 7.43921831\n"
     ]
    },
    {
     "name": "stderr",
     "output_type": "stream",
     "text": [
      "WARNING : Ratio of span on fuselage depth outside of the range in Roskam's book, value clipped\n",
      "WARNING : Area ratio value outside of the range in Roskam's book, value clipped\n",
      "WARNING : Ratio of span on fuselage depth outside of the range in Roskam's book, value clipped\n",
      "WARNING : Area ratio value outside of the range in Roskam's book, value clipped\n",
      "INFO    : Entering mission computation\n",
      "INFO    : Looping on wing area with new value equal to 15.774250\n"
     ]
    },
    {
     "name": "stdout",
     "output_type": "stream",
     "text": [
      "NL: NLBGS 11 ; 839.357176 3.82191543\n"
     ]
    },
    {
     "name": "stderr",
     "output_type": "stream",
     "text": [
      "WARNING : Ratio of span on fuselage depth outside of the range in Roskam's book, value clipped\n",
      "WARNING : Area ratio value outside of the range in Roskam's book, value clipped\n",
      "WARNING : Ratio of span on fuselage depth outside of the range in Roskam's book, value clipped\n",
      "WARNING : Area ratio value outside of the range in Roskam's book, value clipped\n",
      "INFO    : Entering mission computation\n",
      "INFO    : Looping on wing area with new value equal to 15.774653\n"
     ]
    },
    {
     "name": "stdout",
     "output_type": "stream",
     "text": [
      "NL: NLBGS 12 ; 430.225312 1.958981\n"
     ]
    },
    {
     "name": "stderr",
     "output_type": "stream",
     "text": [
      "WARNING : Ratio of span on fuselage depth outside of the range in Roskam's book, value clipped\n",
      "WARNING : Area ratio value outside of the range in Roskam's book, value clipped\n",
      "WARNING : Ratio of span on fuselage depth outside of the range in Roskam's book, value clipped\n",
      "WARNING : Area ratio value outside of the range in Roskam's book, value clipped\n",
      "INFO    : Entering mission computation\n",
      "INFO    : Looping on wing area with new value equal to 15.774860\n"
     ]
    },
    {
     "name": "stdout",
     "output_type": "stream",
     "text": [
      "NL: NLBGS 13 ; 219.475201 0.999354841\n"
     ]
    },
    {
     "name": "stderr",
     "output_type": "stream",
     "text": [
      "WARNING : Ratio of span on fuselage depth outside of the range in Roskam's book, value clipped\n",
      "WARNING : Area ratio value outside of the range in Roskam's book, value clipped\n",
      "WARNING : Ratio of span on fuselage depth outside of the range in Roskam's book, value clipped\n",
      "WARNING : Area ratio value outside of the range in Roskam's book, value clipped\n",
      "INFO    : Entering mission computation\n",
      "INFO    : Looping on wing area with new value equal to 15.774966\n"
     ]
    },
    {
     "name": "stdout",
     "output_type": "stream",
     "text": [
      "NL: NLBGS 14 ; 110.469335 0.503009286\n"
     ]
    },
    {
     "name": "stderr",
     "output_type": "stream",
     "text": [
      "WARNING : Ratio of span on fuselage depth outside of the range in Roskam's book, value clipped\n",
      "WARNING : Area ratio value outside of the range in Roskam's book, value clipped\n",
      "WARNING : Ratio of span on fuselage depth outside of the range in Roskam's book, value clipped\n",
      "WARNING : Area ratio value outside of the range in Roskam's book, value clipped\n",
      "INFO    : Entering mission computation\n",
      "INFO    : Looping on wing area with new value equal to 15.775019\n"
     ]
    },
    {
     "name": "stdout",
     "output_type": "stream",
     "text": [
      "NL: NLBGS 15 ; 55.1990788 0.251342595\n"
     ]
    },
    {
     "name": "stderr",
     "output_type": "stream",
     "text": [
      "WARNING : Ratio of span on fuselage depth outside of the range in Roskam's book, value clipped\n",
      "WARNING : Area ratio value outside of the range in Roskam's book, value clipped\n",
      "WARNING : Ratio of span on fuselage depth outside of the range in Roskam's book, value clipped\n",
      "WARNING : Area ratio value outside of the range in Roskam's book, value clipped\n",
      "INFO    : Entering mission computation\n",
      "INFO    : Looping on wing area with new value equal to 15.775046\n"
     ]
    },
    {
     "name": "stdout",
     "output_type": "stream",
     "text": [
      "NL: NLBGS 16 ; 27.3228952 0.12441163\n"
     ]
    },
    {
     "name": "stderr",
     "output_type": "stream",
     "text": [
      "WARNING : Ratio of span on fuselage depth outside of the range in Roskam's book, value clipped\n",
      "WARNING : Area ratio value outside of the range in Roskam's book, value clipped\n",
      "WARNING : Ratio of span on fuselage depth outside of the range in Roskam's book, value clipped\n",
      "WARNING : Area ratio value outside of the range in Roskam's book, value clipped\n",
      "INFO    : Entering mission computation\n",
      "INFO    : Looping on wing area with new value equal to 15.775059\n"
     ]
    },
    {
     "name": "stdout",
     "output_type": "stream",
     "text": [
      "NL: NLBGS 17 ; 13.5033349 0.0614858675\n"
     ]
    },
    {
     "name": "stderr",
     "output_type": "stream",
     "text": [
      "WARNING : Ratio of span on fuselage depth outside of the range in Roskam's book, value clipped\n",
      "WARNING : Area ratio value outside of the range in Roskam's book, value clipped\n",
      "WARNING : Ratio of span on fuselage depth outside of the range in Roskam's book, value clipped\n",
      "WARNING : Area ratio value outside of the range in Roskam's book, value clipped\n",
      "INFO    : Entering mission computation\n",
      "INFO    : Looping on wing area with new value equal to 15.775065\n"
     ]
    },
    {
     "name": "stdout",
     "output_type": "stream",
     "text": [
      "NL: NLBGS 18 ; 6.6022178 0.0300624321\n"
     ]
    },
    {
     "name": "stderr",
     "output_type": "stream",
     "text": [
      "WARNING : Ratio of span on fuselage depth outside of the range in Roskam's book, value clipped\n",
      "WARNING : Area ratio value outside of the range in Roskam's book, value clipped\n",
      "WARNING : Ratio of span on fuselage depth outside of the range in Roskam's book, value clipped\n",
      "WARNING : Area ratio value outside of the range in Roskam's book, value clipped\n",
      "INFO    : Entering mission computation\n",
      "INFO    : Looping on wing area with new value equal to 15.775069\n"
     ]
    },
    {
     "name": "stdout",
     "output_type": "stream",
     "text": [
      "NL: NLBGS 19 ; 3.14422151 0.0143168475\n"
     ]
    },
    {
     "name": "stderr",
     "output_type": "stream",
     "text": [
      "WARNING : Ratio of span on fuselage depth outside of the range in Roskam's book, value clipped\n",
      "WARNING : Area ratio value outside of the range in Roskam's book, value clipped\n",
      "WARNING : Ratio of span on fuselage depth outside of the range in Roskam's book, value clipped\n",
      "WARNING : Area ratio value outside of the range in Roskam's book, value clipped\n",
      "INFO    : Entering mission computation\n",
      "INFO    : Looping on wing area with new value equal to 15.775070\n"
     ]
    },
    {
     "name": "stdout",
     "output_type": "stream",
     "text": [
      "NL: NLBGS 20 ; 1.63939297 0.00746478549\n"
     ]
    },
    {
     "name": "stderr",
     "output_type": "stream",
     "text": [
      "WARNING : Ratio of span on fuselage depth outside of the range in Roskam's book, value clipped\n",
      "WARNING : Area ratio value outside of the range in Roskam's book, value clipped\n",
      "WARNING : Ratio of span on fuselage depth outside of the range in Roskam's book, value clipped\n",
      "WARNING : Area ratio value outside of the range in Roskam's book, value clipped\n",
      "INFO    : Entering mission computation\n",
      "INFO    : Looping on wing area with new value equal to 15.775071\n"
     ]
    },
    {
     "name": "stdout",
     "output_type": "stream",
     "text": [
      "NL: NLBGS 21 ; 0.69074007 0.0031452047\n"
     ]
    },
    {
     "name": "stderr",
     "output_type": "stream",
     "text": [
      "WARNING : Ratio of span on fuselage depth outside of the range in Roskam's book, value clipped\n",
      "WARNING : Area ratio value outside of the range in Roskam's book, value clipped\n",
      "WARNING : Ratio of span on fuselage depth outside of the range in Roskam's book, value clipped\n",
      "WARNING : Area ratio value outside of the range in Roskam's book, value clipped\n",
      "INFO    : Entering mission computation\n",
      "INFO    : Looping on wing area with new value equal to 15.775071\n"
     ]
    },
    {
     "name": "stdout",
     "output_type": "stream",
     "text": [
      "NL: NLBGS 22 ; 0.404469745 0.00184170601\n"
     ]
    },
    {
     "name": "stderr",
     "output_type": "stream",
     "text": [
      "WARNING : Ratio of span on fuselage depth outside of the range in Roskam's book, value clipped\n",
      "WARNING : Area ratio value outside of the range in Roskam's book, value clipped\n",
      "WARNING : Ratio of span on fuselage depth outside of the range in Roskam's book, value clipped\n",
      "WARNING : Area ratio value outside of the range in Roskam's book, value clipped\n",
      "INFO    : Entering mission computation\n",
      "INFO    : Looping on wing area with new value equal to 15.775071\n"
     ]
    },
    {
     "name": "stdout",
     "output_type": "stream",
     "text": [
      "NL: NLBGS 23 ; 0.15605332 0.00071057067\n",
      "NL: NLBGS Converged\n"
     ]
    },
    {
     "name": "stderr",
     "output_type": "stream",
     "text": [
      "WARNING : Ratio of span on fuselage depth outside of the range in Roskam's book, value clipped\n",
      "WARNING : Area ratio value outside of the range in Roskam's book, value clipped\n",
      "WARNING : Ratio of span on fuselage depth outside of the range in Roskam's book, value clipped\n",
      "WARNING : Area ratio value outside of the range in Roskam's book, value clipped\n",
      "INFO    : Entering mission computation\n",
      "INFO    : Looping on wing area with new value equal to 15.775071\n"
     ]
    },
    {
     "name": "stdout",
     "output_type": "stream",
     "text": [
      "NL: NLBGS 1 ; 297.786748 1\n"
     ]
    },
    {
     "name": "stderr",
     "output_type": "stream",
     "text": [
      "WARNING : Ratio of span on fuselage depth outside of the range in Roskam's book, value clipped\n",
      "WARNING : Area ratio value outside of the range in Roskam's book, value clipped\n",
      "WARNING : Ratio of span on fuselage depth outside of the range in Roskam's book, value clipped\n",
      "WARNING : Area ratio value outside of the range in Roskam's book, value clipped\n",
      "INFO    : Entering mission computation\n",
      "INFO    : Looping on wing area with new value equal to 15.970448\n"
     ]
    },
    {
     "name": "stdout",
     "output_type": "stream",
     "text": [
      "NL: NLBGS 2 ; 523071.851 1756.53166\n"
     ]
    },
    {
     "name": "stderr",
     "output_type": "stream",
     "text": [
      "WARNING : Ratio of span on fuselage depth outside of the range in Roskam's book, value clipped\n",
      "WARNING : Area ratio value outside of the range in Roskam's book, value clipped\n",
      "WARNING : Ratio of span on fuselage depth outside of the range in Roskam's book, value clipped\n",
      "WARNING : Area ratio value outside of the range in Roskam's book, value clipped\n",
      "INFO    : Entering mission computation\n",
      "INFO    : Looping on wing area with new value equal to 15.951643\n"
     ]
    },
    {
     "name": "stdout",
     "output_type": "stream",
     "text": [
      "NL: NLBGS 3 ; 61629.8797 206.959779\n"
     ]
    },
    {
     "name": "stderr",
     "output_type": "stream",
     "text": [
      "WARNING : Ratio of span on fuselage depth outside of the range in Roskam's book, value clipped\n",
      "WARNING : Area ratio value outside of the range in Roskam's book, value clipped\n",
      "WARNING : Ratio of span on fuselage depth outside of the range in Roskam's book, value clipped\n",
      "WARNING : Area ratio value outside of the range in Roskam's book, value clipped\n",
      "INFO    : Entering mission computation\n",
      "INFO    : Looping on wing area with new value equal to 15.982975\n"
     ]
    },
    {
     "name": "stdout",
     "output_type": "stream",
     "text": [
      "NL: NLBGS 4 ; 123797 415.723671\n"
     ]
    },
    {
     "name": "stderr",
     "output_type": "stream",
     "text": [
      "WARNING : Ratio of span on fuselage depth outside of the range in Roskam's book, value clipped\n",
      "WARNING : Area ratio value outside of the range in Roskam's book, value clipped\n",
      "WARNING : Ratio of span on fuselage depth outside of the range in Roskam's book, value clipped\n",
      "WARNING : Area ratio value outside of the range in Roskam's book, value clipped\n",
      "INFO    : Entering mission computation\n",
      "INFO    : Looping on wing area with new value equal to 16.012157\n"
     ]
    },
    {
     "name": "stdout",
     "output_type": "stream",
     "text": [
      "NL: NLBGS 5 ; 28039.8808 94.1609423\n"
     ]
    },
    {
     "name": "stderr",
     "output_type": "stream",
     "text": [
      "WARNING : Ratio of span on fuselage depth outside of the range in Roskam's book, value clipped\n",
      "WARNING : Area ratio value outside of the range in Roskam's book, value clipped\n",
      "WARNING : Ratio of span on fuselage depth outside of the range in Roskam's book, value clipped\n",
      "WARNING : Area ratio value outside of the range in Roskam's book, value clipped\n",
      "INFO    : Entering mission computation\n",
      "INFO    : Looping on wing area with new value equal to 16.027012\n"
     ]
    },
    {
     "name": "stdout",
     "output_type": "stream",
     "text": [
      "NL: NLBGS 6 ; 17493.8994 58.7463997\n"
     ]
    },
    {
     "name": "stderr",
     "output_type": "stream",
     "text": [
      "WARNING : Ratio of span on fuselage depth outside of the range in Roskam's book, value clipped\n",
      "WARNING : Area ratio value outside of the range in Roskam's book, value clipped\n",
      "WARNING : Ratio of span on fuselage depth outside of the range in Roskam's book, value clipped\n",
      "WARNING : Area ratio value outside of the range in Roskam's book, value clipped\n",
      "INFO    : Entering mission computation\n",
      "INFO    : Looping on wing area with new value equal to 16.036145\n"
     ]
    },
    {
     "name": "stdout",
     "output_type": "stream",
     "text": [
      "NL: NLBGS 7 ; 11621.3366 39.0257011\n"
     ]
    },
    {
     "name": "stderr",
     "output_type": "stream",
     "text": [
      "WARNING : Ratio of span on fuselage depth outside of the range in Roskam's book, value clipped\n",
      "WARNING : Area ratio value outside of the range in Roskam's book, value clipped\n",
      "WARNING : Ratio of span on fuselage depth outside of the range in Roskam's book, value clipped\n",
      "WARNING : Area ratio value outside of the range in Roskam's book, value clipped\n",
      "INFO    : Entering mission computation\n",
      "INFO    : Looping on wing area with new value equal to 16.041460\n"
     ]
    },
    {
     "name": "stdout",
     "output_type": "stream",
     "text": [
      "NL: NLBGS 8 ; 5610.10315 18.8393311\n"
     ]
    },
    {
     "name": "stderr",
     "output_type": "stream",
     "text": [
      "WARNING : Ratio of span on fuselage depth outside of the range in Roskam's book, value clipped\n",
      "WARNING : Area ratio value outside of the range in Roskam's book, value clipped\n",
      "WARNING : Ratio of span on fuselage depth outside of the range in Roskam's book, value clipped\n",
      "WARNING : Area ratio value outside of the range in Roskam's book, value clipped\n",
      "INFO    : Entering mission computation\n",
      "INFO    : Looping on wing area with new value equal to 16.044298\n"
     ]
    },
    {
     "name": "stdout",
     "output_type": "stream",
     "text": [
      "NL: NLBGS 9 ; 2961.28886 9.94432719\n"
     ]
    },
    {
     "name": "stderr",
     "output_type": "stream",
     "text": [
      "WARNING : Ratio of span on fuselage depth outside of the range in Roskam's book, value clipped\n",
      "WARNING : Area ratio value outside of the range in Roskam's book, value clipped\n",
      "WARNING : Ratio of span on fuselage depth outside of the range in Roskam's book, value clipped\n",
      "WARNING : Area ratio value outside of the range in Roskam's book, value clipped\n",
      "INFO    : Entering mission computation\n",
      "INFO    : Looping on wing area with new value equal to 16.045814\n"
     ]
    },
    {
     "name": "stdout",
     "output_type": "stream",
     "text": [
      "NL: NLBGS 10 ; 1579.8395 5.30527134\n"
     ]
    },
    {
     "name": "stderr",
     "output_type": "stream",
     "text": [
      "WARNING : Ratio of span on fuselage depth outside of the range in Roskam's book, value clipped\n",
      "WARNING : Area ratio value outside of the range in Roskam's book, value clipped\n",
      "WARNING : Ratio of span on fuselage depth outside of the range in Roskam's book, value clipped\n",
      "WARNING : Area ratio value outside of the range in Roskam's book, value clipped\n",
      "INFO    : Entering mission computation\n",
      "INFO    : Looping on wing area with new value equal to 16.046611\n"
     ]
    },
    {
     "name": "stdout",
     "output_type": "stream",
     "text": [
      "NL: NLBGS 11 ; 801.444281 2.69133628\n"
     ]
    },
    {
     "name": "stderr",
     "output_type": "stream",
     "text": [
      "WARNING : Ratio of span on fuselage depth outside of the range in Roskam's book, value clipped\n",
      "WARNING : Area ratio value outside of the range in Roskam's book, value clipped\n",
      "WARNING : Ratio of span on fuselage depth outside of the range in Roskam's book, value clipped\n",
      "WARNING : Area ratio value outside of the range in Roskam's book, value clipped\n",
      "INFO    : Entering mission computation\n",
      "INFO    : Looping on wing area with new value equal to 16.047021\n"
     ]
    },
    {
     "name": "stdout",
     "output_type": "stream",
     "text": [
      "NL: NLBGS 12 ; 406.170288 1.36396361\n"
     ]
    },
    {
     "name": "stderr",
     "output_type": "stream",
     "text": [
      "WARNING : Ratio of span on fuselage depth outside of the range in Roskam's book, value clipped\n",
      "WARNING : Area ratio value outside of the range in Roskam's book, value clipped\n",
      "WARNING : Ratio of span on fuselage depth outside of the range in Roskam's book, value clipped\n",
      "WARNING : Area ratio value outside of the range in Roskam's book, value clipped\n",
      "INFO    : Entering mission computation\n",
      "INFO    : Looping on wing area with new value equal to 16.047229\n"
     ]
    },
    {
     "name": "stdout",
     "output_type": "stream",
     "text": [
      "NL: NLBGS 13 ; 204.695672 0.68739013\n"
     ]
    },
    {
     "name": "stderr",
     "output_type": "stream",
     "text": [
      "WARNING : Ratio of span on fuselage depth outside of the range in Roskam's book, value clipped\n",
      "WARNING : Area ratio value outside of the range in Roskam's book, value clipped\n",
      "WARNING : Ratio of span on fuselage depth outside of the range in Roskam's book, value clipped\n",
      "WARNING : Area ratio value outside of the range in Roskam's book, value clipped\n",
      "INFO    : Entering mission computation\n",
      "INFO    : Looping on wing area with new value equal to 16.047334\n"
     ]
    },
    {
     "name": "stdout",
     "output_type": "stream",
     "text": [
      "NL: NLBGS 14 ; 101.752453 0.341695705\n"
     ]
    },
    {
     "name": "stderr",
     "output_type": "stream",
     "text": [
      "WARNING : Ratio of span on fuselage depth outside of the range in Roskam's book, value clipped\n",
      "WARNING : Area ratio value outside of the range in Roskam's book, value clipped\n",
      "WARNING : Ratio of span on fuselage depth outside of the range in Roskam's book, value clipped\n",
      "WARNING : Area ratio value outside of the range in Roskam's book, value clipped\n",
      "INFO    : Entering mission computation\n",
      "INFO    : Looping on wing area with new value equal to 16.047386\n"
     ]
    },
    {
     "name": "stdout",
     "output_type": "stream",
     "text": [
      "NL: NLBGS 15 ; 50.1799591 0.168509711\n"
     ]
    },
    {
     "name": "stderr",
     "output_type": "stream",
     "text": [
      "WARNING : Ratio of span on fuselage depth outside of the range in Roskam's book, value clipped\n",
      "WARNING : Area ratio value outside of the range in Roskam's book, value clipped\n",
      "WARNING : Ratio of span on fuselage depth outside of the range in Roskam's book, value clipped\n",
      "WARNING : Area ratio value outside of the range in Roskam's book, value clipped\n",
      "INFO    : Entering mission computation\n",
      "INFO    : Looping on wing area with new value equal to 16.047412\n"
     ]
    },
    {
     "name": "stdout",
     "output_type": "stream",
     "text": [
      "NL: NLBGS 16 ; 24.6662476 0.0828319184\n"
     ]
    },
    {
     "name": "stderr",
     "output_type": "stream",
     "text": [
      "WARNING : Ratio of span on fuselage depth outside of the range in Roskam's book, value clipped\n",
      "WARNING : Area ratio value outside of the range in Roskam's book, value clipped\n",
      "WARNING : Ratio of span on fuselage depth outside of the range in Roskam's book, value clipped\n",
      "WARNING : Area ratio value outside of the range in Roskam's book, value clipped\n",
      "INFO    : Entering mission computation\n",
      "INFO    : Looping on wing area with new value equal to 16.047424\n"
     ]
    },
    {
     "name": "stdout",
     "output_type": "stream",
     "text": [
      "NL: NLBGS 17 ; 11.8465489 0.0397819882\n"
     ]
    },
    {
     "name": "stderr",
     "output_type": "stream",
     "text": [
      "WARNING : Ratio of span on fuselage depth outside of the range in Roskam's book, value clipped\n",
      "WARNING : Area ratio value outside of the range in Roskam's book, value clipped\n",
      "WARNING : Ratio of span on fuselage depth outside of the range in Roskam's book, value clipped\n",
      "WARNING : Area ratio value outside of the range in Roskam's book, value clipped\n",
      "INFO    : Entering mission computation\n",
      "INFO    : Looping on wing area with new value equal to 16.047430\n"
     ]
    },
    {
     "name": "stdout",
     "output_type": "stream",
     "text": [
      "NL: NLBGS 18 ; 5.76126203 0.0193469389\n"
     ]
    },
    {
     "name": "stderr",
     "output_type": "stream",
     "text": [
      "WARNING : Ratio of span on fuselage depth outside of the range in Roskam's book, value clipped\n",
      "WARNING : Area ratio value outside of the range in Roskam's book, value clipped\n",
      "WARNING : Ratio of span on fuselage depth outside of the range in Roskam's book, value clipped\n",
      "WARNING : Area ratio value outside of the range in Roskam's book, value clipped\n",
      "INFO    : Entering mission computation\n",
      "INFO    : Looping on wing area with new value equal to 16.047433\n"
     ]
    },
    {
     "name": "stdout",
     "output_type": "stream",
     "text": [
      "NL: NLBGS 19 ; 2.84446023 0.00955200406\n"
     ]
    },
    {
     "name": "stderr",
     "output_type": "stream",
     "text": [
      "WARNING : Ratio of span on fuselage depth outside of the range in Roskam's book, value clipped\n",
      "WARNING : Area ratio value outside of the range in Roskam's book, value clipped\n",
      "WARNING : Ratio of span on fuselage depth outside of the range in Roskam's book, value clipped\n",
      "WARNING : Area ratio value outside of the range in Roskam's book, value clipped\n",
      "INFO    : Entering mission computation\n",
      "INFO    : Looping on wing area with new value equal to 16.047435\n"
     ]
    },
    {
     "name": "stdout",
     "output_type": "stream",
     "text": [
      "NL: NLBGS 20 ; 1.24318048 0.00417473406\n"
     ]
    },
    {
     "name": "stderr",
     "output_type": "stream",
     "text": [
      "WARNING : Ratio of span on fuselage depth outside of the range in Roskam's book, value clipped\n",
      "WARNING : Area ratio value outside of the range in Roskam's book, value clipped\n",
      "WARNING : Ratio of span on fuselage depth outside of the range in Roskam's book, value clipped\n",
      "WARNING : Area ratio value outside of the range in Roskam's book, value clipped\n",
      "INFO    : Entering mission computation\n",
      "INFO    : Looping on wing area with new value equal to 16.047435\n"
     ]
    },
    {
     "name": "stdout",
     "output_type": "stream",
     "text": [
      "NL: NLBGS 21 ; 0.701495356 0.00235569702\n"
     ]
    },
    {
     "name": "stderr",
     "output_type": "stream",
     "text": [
      "WARNING : Ratio of span on fuselage depth outside of the range in Roskam's book, value clipped\n",
      "WARNING : Area ratio value outside of the range in Roskam's book, value clipped\n",
      "WARNING : Ratio of span on fuselage depth outside of the range in Roskam's book, value clipped\n",
      "WARNING : Area ratio value outside of the range in Roskam's book, value clipped\n",
      "INFO    : Entering mission computation\n",
      "INFO    : Looping on wing area with new value equal to 16.047436\n"
     ]
    },
    {
     "name": "stdout",
     "output_type": "stream",
     "text": [
      "NL: NLBGS 22 ; 0.292160157 0.000981105299\n",
      "NL: NLBGS Converged\n"
     ]
    },
    {
     "name": "stderr",
     "output_type": "stream",
     "text": [
      "WARNING : Ratio of span on fuselage depth outside of the range in Roskam's book, value clipped\n",
      "WARNING : Area ratio value outside of the range in Roskam's book, value clipped\n",
      "WARNING : Ratio of span on fuselage depth outside of the range in Roskam's book, value clipped\n",
      "WARNING : Area ratio value outside of the range in Roskam's book, value clipped\n",
      "INFO    : Entering mission computation\n",
      "INFO    : Looping on wing area with new value equal to 16.047436\n"
     ]
    },
    {
     "name": "stdout",
     "output_type": "stream",
     "text": [
      "NL: NLBGS 1 ; 159.531583 1\n"
     ]
    },
    {
     "name": "stderr",
     "output_type": "stream",
     "text": [
      "WARNING : Ratio of span on fuselage depth outside of the range in Roskam's book, value clipped\n",
      "WARNING : Area ratio value outside of the range in Roskam's book, value clipped\n",
      "WARNING : Ratio of span on fuselage depth outside of the range in Roskam's book, value clipped\n",
      "WARNING : Area ratio value outside of the range in Roskam's book, value clipped\n",
      "INFO    : Entering mission computation\n",
      "INFO    : Looping on wing area with new value equal to 15.948512\n"
     ]
    },
    {
     "name": "stdout",
     "output_type": "stream",
     "text": [
      "NL: NLBGS 2 ; 246667.952 1546.20137\n"
     ]
    },
    {
     "name": "stderr",
     "output_type": "stream",
     "text": [
      "WARNING : Ratio of span on fuselage depth outside of the range in Roskam's book, value clipped\n",
      "WARNING : Area ratio value outside of the range in Roskam's book, value clipped\n",
      "WARNING : Ratio of span on fuselage depth outside of the range in Roskam's book, value clipped\n",
      "WARNING : Area ratio value outside of the range in Roskam's book, value clipped\n",
      "INFO    : Entering mission computation\n",
      "INFO    : Looping on wing area with new value equal to 15.955004\n"
     ]
    },
    {
     "name": "stdout",
     "output_type": "stream",
     "text": [
      "NL: NLBGS 3 ; 31006.924 194.362291\n"
     ]
    },
    {
     "name": "stderr",
     "output_type": "stream",
     "text": [
      "WARNING : Ratio of span on fuselage depth outside of the range in Roskam's book, value clipped\n",
      "WARNING : Area ratio value outside of the range in Roskam's book, value clipped\n",
      "WARNING : Ratio of span on fuselage depth outside of the range in Roskam's book, value clipped\n",
      "WARNING : Area ratio value outside of the range in Roskam's book, value clipped\n",
      "INFO    : Entering mission computation\n",
      "INFO    : Looping on wing area with new value equal to 15.938590\n"
     ]
    },
    {
     "name": "stdout",
     "output_type": "stream",
     "text": [
      "NL: NLBGS 4 ; 60570.896 379.679652\n"
     ]
    },
    {
     "name": "stderr",
     "output_type": "stream",
     "text": [
      "WARNING : Ratio of span on fuselage depth outside of the range in Roskam's book, value clipped\n",
      "WARNING : Area ratio value outside of the range in Roskam's book, value clipped\n",
      "WARNING : Ratio of span on fuselage depth outside of the range in Roskam's book, value clipped\n",
      "WARNING : Area ratio value outside of the range in Roskam's book, value clipped\n",
      "INFO    : Entering mission computation\n",
      "INFO    : Looping on wing area with new value equal to 15.923667\n"
     ]
    },
    {
     "name": "stdout",
     "output_type": "stream",
     "text": [
      "NL: NLBGS 5 ; 15961.9515 100.055119\n"
     ]
    },
    {
     "name": "stderr",
     "output_type": "stream",
     "text": [
      "WARNING : Ratio of span on fuselage depth outside of the range in Roskam's book, value clipped\n",
      "WARNING : Area ratio value outside of the range in Roskam's book, value clipped\n",
      "WARNING : Ratio of span on fuselage depth outside of the range in Roskam's book, value clipped\n",
      "WARNING : Area ratio value outside of the range in Roskam's book, value clipped\n",
      "INFO    : Entering mission computation\n",
      "INFO    : Looping on wing area with new value equal to 15.915907\n"
     ]
    },
    {
     "name": "stdout",
     "output_type": "stream",
     "text": [
      "NL: NLBGS 6 ; 9436.29122 59.149988\n"
     ]
    },
    {
     "name": "stderr",
     "output_type": "stream",
     "text": [
      "WARNING : Ratio of span on fuselage depth outside of the range in Roskam's book, value clipped\n",
      "WARNING : Area ratio value outside of the range in Roskam's book, value clipped\n",
      "WARNING : Ratio of span on fuselage depth outside of the range in Roskam's book, value clipped\n",
      "WARNING : Area ratio value outside of the range in Roskam's book, value clipped\n",
      "INFO    : Entering mission computation\n",
      "INFO    : Looping on wing area with new value equal to 15.911204\n"
     ]
    },
    {
     "name": "stdout",
     "output_type": "stream",
     "text": [
      "NL: NLBGS 7 ; 6101.6791 38.2474679\n"
     ]
    },
    {
     "name": "stderr",
     "output_type": "stream",
     "text": [
      "WARNING : Ratio of span on fuselage depth outside of the range in Roskam's book, value clipped\n",
      "WARNING : Area ratio value outside of the range in Roskam's book, value clipped\n",
      "WARNING : Ratio of span on fuselage depth outside of the range in Roskam's book, value clipped\n",
      "WARNING : Area ratio value outside of the range in Roskam's book, value clipped\n",
      "INFO    : Entering mission computation\n",
      "INFO    : Looping on wing area with new value equal to 15.908486\n"
     ]
    },
    {
     "name": "stdout",
     "output_type": "stream",
     "text": [
      "NL: NLBGS 8 ; 3471.10547 21.7581084\n"
     ]
    },
    {
     "name": "stderr",
     "output_type": "stream",
     "text": [
      "WARNING : Ratio of span on fuselage depth outside of the range in Roskam's book, value clipped\n",
      "WARNING : Area ratio value outside of the range in Roskam's book, value clipped\n",
      "WARNING : Ratio of span on fuselage depth outside of the range in Roskam's book, value clipped\n",
      "WARNING : Area ratio value outside of the range in Roskam's book, value clipped\n",
      "INFO    : Entering mission computation\n",
      "INFO    : Looping on wing area with new value equal to 15.906989\n"
     ]
    },
    {
     "name": "stdout",
     "output_type": "stream",
     "text": [
      "NL: NLBGS 9 ; 1526.73969 9.57014066\n"
     ]
    },
    {
     "name": "stderr",
     "output_type": "stream",
     "text": [
      "WARNING : Ratio of span on fuselage depth outside of the range in Roskam's book, value clipped\n",
      "WARNING : Area ratio value outside of the range in Roskam's book, value clipped\n",
      "WARNING : Ratio of span on fuselage depth outside of the range in Roskam's book, value clipped\n",
      "WARNING : Area ratio value outside of the range in Roskam's book, value clipped\n",
      "INFO    : Entering mission computation\n",
      "INFO    : Looping on wing area with new value equal to 15.906236\n"
     ]
    },
    {
     "name": "stdout",
     "output_type": "stream",
     "text": [
      "NL: NLBGS 10 ; 764.326485 4.79106689\n"
     ]
    },
    {
     "name": "stderr",
     "output_type": "stream",
     "text": [
      "WARNING : Ratio of span on fuselage depth outside of the range in Roskam's book, value clipped\n",
      "WARNING : Area ratio value outside of the range in Roskam's book, value clipped\n",
      "WARNING : Ratio of span on fuselage depth outside of the range in Roskam's book, value clipped\n",
      "WARNING : Area ratio value outside of the range in Roskam's book, value clipped\n",
      "INFO    : Entering mission computation\n",
      "INFO    : Looping on wing area with new value equal to 15.905854\n"
     ]
    },
    {
     "name": "stdout",
     "output_type": "stream",
     "text": [
      "NL: NLBGS 11 ; 394.808943 2.47480114\n"
     ]
    },
    {
     "name": "stderr",
     "output_type": "stream",
     "text": [
      "WARNING : Ratio of span on fuselage depth outside of the range in Roskam's book, value clipped\n",
      "WARNING : Area ratio value outside of the range in Roskam's book, value clipped\n",
      "WARNING : Ratio of span on fuselage depth outside of the range in Roskam's book, value clipped\n",
      "WARNING : Area ratio value outside of the range in Roskam's book, value clipped\n",
      "INFO    : Entering mission computation\n",
      "INFO    : Looping on wing area with new value equal to 15.905660\n"
     ]
    },
    {
     "name": "stdout",
     "output_type": "stream",
     "text": [
      "NL: NLBGS 12 ; 193.277521 1.2115314\n"
     ]
    },
    {
     "name": "stderr",
     "output_type": "stream",
     "text": [
      "WARNING : Ratio of span on fuselage depth outside of the range in Roskam's book, value clipped\n",
      "WARNING : Area ratio value outside of the range in Roskam's book, value clipped\n",
      "WARNING : Ratio of span on fuselage depth outside of the range in Roskam's book, value clipped\n",
      "WARNING : Area ratio value outside of the range in Roskam's book, value clipped\n",
      "INFO    : Entering mission computation\n",
      "INFO    : Looping on wing area with new value equal to 15.905565\n"
     ]
    },
    {
     "name": "stdout",
     "output_type": "stream",
     "text": [
      "NL: NLBGS 13 ; 94.5521822 0.592686291\n"
     ]
    },
    {
     "name": "stderr",
     "output_type": "stream",
     "text": [
      "WARNING : Ratio of span on fuselage depth outside of the range in Roskam's book, value clipped\n",
      "WARNING : Area ratio value outside of the range in Roskam's book, value clipped\n",
      "WARNING : Ratio of span on fuselage depth outside of the range in Roskam's book, value clipped\n",
      "WARNING : Area ratio value outside of the range in Roskam's book, value clipped\n",
      "INFO    : Entering mission computation\n",
      "INFO    : Looping on wing area with new value equal to 15.905518\n"
     ]
    },
    {
     "name": "stdout",
     "output_type": "stream",
     "text": [
      "NL: NLBGS 14 ; 46.3036746 0.290247697\n"
     ]
    },
    {
     "name": "stderr",
     "output_type": "stream",
     "text": [
      "WARNING : Ratio of span on fuselage depth outside of the range in Roskam's book, value clipped\n",
      "WARNING : Area ratio value outside of the range in Roskam's book, value clipped\n",
      "WARNING : Ratio of span on fuselage depth outside of the range in Roskam's book, value clipped\n",
      "WARNING : Area ratio value outside of the range in Roskam's book, value clipped\n",
      "INFO    : Entering mission computation\n",
      "INFO    : Looping on wing area with new value equal to 15.905495\n"
     ]
    },
    {
     "name": "stdout",
     "output_type": "stream",
     "text": [
      "NL: NLBGS 15 ; 22.2154759 0.139254407\n"
     ]
    },
    {
     "name": "stderr",
     "output_type": "stream",
     "text": [
      "WARNING : Ratio of span on fuselage depth outside of the range in Roskam's book, value clipped\n",
      "WARNING : Area ratio value outside of the range in Roskam's book, value clipped\n",
      "WARNING : Ratio of span on fuselage depth outside of the range in Roskam's book, value clipped\n",
      "WARNING : Area ratio value outside of the range in Roskam's book, value clipped\n",
      "INFO    : Entering mission computation\n",
      "INFO    : Looping on wing area with new value equal to 15.905484\n"
     ]
    },
    {
     "name": "stdout",
     "output_type": "stream",
     "text": [
      "NL: NLBGS 16 ; 10.6751786 0.0669157693\n"
     ]
    },
    {
     "name": "stderr",
     "output_type": "stream",
     "text": [
      "WARNING : Ratio of span on fuselage depth outside of the range in Roskam's book, value clipped\n",
      "WARNING : Area ratio value outside of the range in Roskam's book, value clipped\n",
      "WARNING : Ratio of span on fuselage depth outside of the range in Roskam's book, value clipped\n",
      "WARNING : Area ratio value outside of the range in Roskam's book, value clipped\n",
      "INFO    : Entering mission computation\n",
      "INFO    : Looping on wing area with new value equal to 15.905479\n"
     ]
    },
    {
     "name": "stdout",
     "output_type": "stream",
     "text": [
      "NL: NLBGS 17 ; 5.0605235 0.0317211389\n"
     ]
    },
    {
     "name": "stderr",
     "output_type": "stream",
     "text": [
      "WARNING : Ratio of span on fuselage depth outside of the range in Roskam's book, value clipped\n",
      "WARNING : Area ratio value outside of the range in Roskam's book, value clipped\n",
      "WARNING : Ratio of span on fuselage depth outside of the range in Roskam's book, value clipped\n",
      "WARNING : Area ratio value outside of the range in Roskam's book, value clipped\n",
      "INFO    : Entering mission computation\n",
      "INFO    : Looping on wing area with new value equal to 15.905476\n"
     ]
    },
    {
     "name": "stdout",
     "output_type": "stream",
     "text": [
      "NL: NLBGS 18 ; 2.38829463 0.0149706696\n"
     ]
    },
    {
     "name": "stderr",
     "output_type": "stream",
     "text": [
      "WARNING : Ratio of span on fuselage depth outside of the range in Roskam's book, value clipped\n",
      "WARNING : Area ratio value outside of the range in Roskam's book, value clipped\n",
      "WARNING : Ratio of span on fuselage depth outside of the range in Roskam's book, value clipped\n",
      "WARNING : Area ratio value outside of the range in Roskam's book, value clipped\n",
      "INFO    : Entering mission computation\n",
      "INFO    : Looping on wing area with new value equal to 15.905475\n"
     ]
    },
    {
     "name": "stdout",
     "output_type": "stream",
     "text": [
      "NL: NLBGS 19 ; 1.09974465 0.00689358578\n"
     ]
    },
    {
     "name": "stderr",
     "output_type": "stream",
     "text": [
      "WARNING : Ratio of span on fuselage depth outside of the range in Roskam's book, value clipped\n",
      "WARNING : Area ratio value outside of the range in Roskam's book, value clipped\n",
      "WARNING : Ratio of span on fuselage depth outside of the range in Roskam's book, value clipped\n",
      "WARNING : Area ratio value outside of the range in Roskam's book, value clipped\n",
      "INFO    : Entering mission computation\n",
      "INFO    : Looping on wing area with new value equal to 15.905475\n"
     ]
    },
    {
     "name": "stdout",
     "output_type": "stream",
     "text": [
      "NL: NLBGS 20 ; 0.521914802 0.00327154531\n"
     ]
    },
    {
     "name": "stderr",
     "output_type": "stream",
     "text": [
      "WARNING : Ratio of span on fuselage depth outside of the range in Roskam's book, value clipped\n",
      "WARNING : Area ratio value outside of the range in Roskam's book, value clipped\n",
      "WARNING : Ratio of span on fuselage depth outside of the range in Roskam's book, value clipped\n",
      "WARNING : Area ratio value outside of the range in Roskam's book, value clipped\n",
      "INFO    : Entering mission computation\n",
      "INFO    : Looping on wing area with new value equal to 15.905475\n"
     ]
    },
    {
     "name": "stdout",
     "output_type": "stream",
     "text": [
      "NL: NLBGS 21 ; 0.252290804 0.00158144738\n"
     ]
    },
    {
     "name": "stderr",
     "output_type": "stream",
     "text": [
      "WARNING : Ratio of span on fuselage depth outside of the range in Roskam's book, value clipped\n",
      "WARNING : Area ratio value outside of the range in Roskam's book, value clipped\n",
      "WARNING : Ratio of span on fuselage depth outside of the range in Roskam's book, value clipped\n",
      "WARNING : Area ratio value outside of the range in Roskam's book, value clipped\n",
      "INFO    : Entering mission computation\n",
      "INFO    : Looping on wing area with new value equal to 15.905474\n"
     ]
    },
    {
     "name": "stdout",
     "output_type": "stream",
     "text": [
      "NL: NLBGS 22 ; 0.15956369 0.00100020126\n"
     ]
    },
    {
     "name": "stderr",
     "output_type": "stream",
     "text": [
      "WARNING : Ratio of span on fuselage depth outside of the range in Roskam's book, value clipped\n",
      "WARNING : Area ratio value outside of the range in Roskam's book, value clipped\n",
      "WARNING : Ratio of span on fuselage depth outside of the range in Roskam's book, value clipped\n",
      "WARNING : Area ratio value outside of the range in Roskam's book, value clipped\n",
      "INFO    : Entering mission computation\n",
      "INFO    : Looping on wing area with new value equal to 15.905474\n"
     ]
    },
    {
     "name": "stdout",
     "output_type": "stream",
     "text": [
      "NL: NLBGS 23 ; 0.0448431677 0.000281092727\n",
      "NL: NLBGS Converged\n"
     ]
    },
    {
     "name": "stderr",
     "output_type": "stream",
     "text": [
      "WARNING : Area ratio value outside of the range in Roskam's book, value clipped\n",
      "WARNING : Area ratio value outside of the range in Roskam's book, value clipped\n",
      "INFO    : Entering mission computation\n",
      "INFO    : Looping on wing area with new value equal to 15.905474\n"
     ]
    },
    {
     "name": "stdout",
     "output_type": "stream",
     "text": [
      "NL: NLBGS 1 ; 200.879139 1\n"
     ]
    },
    {
     "name": "stderr",
     "output_type": "stream",
     "text": [
      "WARNING : Area ratio value outside of the range in Roskam's book, value clipped\n",
      "WARNING : Area ratio value outside of the range in Roskam's book, value clipped\n",
      "INFO    : Entering mission computation\n",
      "INFO    : Looping on wing area with new value equal to 15.760994\n"
     ]
    },
    {
     "name": "stdout",
     "output_type": "stream",
     "text": [
      "NL: NLBGS 2 ; 438236.783 2181.59429\n"
     ]
    },
    {
     "name": "stderr",
     "output_type": "stream",
     "text": [
      "WARNING : Area ratio value outside of the range in Roskam's book, value clipped\n",
      "WARNING : Area ratio value outside of the range in Roskam's book, value clipped\n",
      "INFO    : Entering mission computation\n",
      "INFO    : Looping on wing area with new value equal to 15.781746\n"
     ]
    },
    {
     "name": "stdout",
     "output_type": "stream",
     "text": [
      "NL: NLBGS 3 ; 46461.5919 231.291274\n"
     ]
    },
    {
     "name": "stderr",
     "output_type": "stream",
     "text": [
      "WARNING : Area ratio value outside of the range in Roskam's book, value clipped\n",
      "WARNING : Area ratio value outside of the range in Roskam's book, value clipped\n",
      "INFO    : Entering mission computation\n",
      "INFO    : Looping on wing area with new value equal to 15.761100\n"
     ]
    },
    {
     "name": "stdout",
     "output_type": "stream",
     "text": [
      "NL: NLBGS 4 ; 92385.7252 459.907015\n"
     ]
    },
    {
     "name": "stderr",
     "output_type": "stream",
     "text": [
      "WARNING : Area ratio value outside of the range in Roskam's book, value clipped\n",
      "WARNING : Area ratio value outside of the range in Roskam's book, value clipped\n",
      "INFO    : Entering mission computation\n",
      "INFO    : Looping on wing area with new value equal to 15.740496\n"
     ]
    },
    {
     "name": "stdout",
     "output_type": "stream",
     "text": [
      "NL: NLBGS 5 ; 21107.5866 105.076051\n"
     ]
    },
    {
     "name": "stderr",
     "output_type": "stream",
     "text": [
      "WARNING : Area ratio value outside of the range in Roskam's book, value clipped\n",
      "WARNING : Area ratio value outside of the range in Roskam's book, value clipped\n",
      "INFO    : Entering mission computation\n",
      "INFO    : Looping on wing area with new value equal to 15.729975\n"
     ]
    },
    {
     "name": "stdout",
     "output_type": "stream",
     "text": [
      "NL: NLBGS 6 ; 13563.1449 67.5189319\n"
     ]
    },
    {
     "name": "stderr",
     "output_type": "stream",
     "text": [
      "WARNING : Area ratio value outside of the range in Roskam's book, value clipped\n",
      "WARNING : Area ratio value outside of the range in Roskam's book, value clipped\n",
      "INFO    : Entering mission computation\n",
      "INFO    : Looping on wing area with new value equal to 15.723339\n"
     ]
    },
    {
     "name": "stdout",
     "output_type": "stream",
     "text": [
      "NL: NLBGS 7 ; 9316.51781 46.3787224\n"
     ]
    },
    {
     "name": "stderr",
     "output_type": "stream",
     "text": [
      "WARNING : Area ratio value outside of the range in Roskam's book, value clipped\n",
      "WARNING : Area ratio value outside of the range in Roskam's book, value clipped\n",
      "INFO    : Entering mission computation\n",
      "INFO    : Looping on wing area with new value equal to 15.719383\n"
     ]
    },
    {
     "name": "stdout",
     "output_type": "stream",
     "text": [
      "NL: NLBGS 8 ; 4601.84953 22.9085487\n"
     ]
    },
    {
     "name": "stderr",
     "output_type": "stream",
     "text": [
      "WARNING : Area ratio value outside of the range in Roskam's book, value clipped\n",
      "WARNING : Area ratio value outside of the range in Roskam's book, value clipped\n",
      "INFO    : Entering mission computation\n",
      "INFO    : Looping on wing area with new value equal to 15.717229\n"
     ]
    },
    {
     "name": "stdout",
     "output_type": "stream",
     "text": [
      "NL: NLBGS 9 ; 2466.05427 12.2763084\n"
     ]
    },
    {
     "name": "stderr",
     "output_type": "stream",
     "text": [
      "WARNING : Area ratio value outside of the range in Roskam's book, value clipped\n",
      "WARNING : Area ratio value outside of the range in Roskam's book, value clipped\n",
      "INFO    : Entering mission computation\n",
      "INFO    : Looping on wing area with new value equal to 15.716057\n"
     ]
    },
    {
     "name": "stdout",
     "output_type": "stream",
     "text": [
      "NL: NLBGS 10 ; 1340.54486 6.67339011\n"
     ]
    },
    {
     "name": "stderr",
     "output_type": "stream",
     "text": [
      "WARNING : Area ratio value outside of the range in Roskam's book, value clipped\n",
      "WARNING : Area ratio value outside of the range in Roskam's book, value clipped\n",
      "INFO    : Entering mission computation\n",
      "INFO    : Looping on wing area with new value equal to 15.715429\n"
     ]
    },
    {
     "name": "stdout",
     "output_type": "stream",
     "text": [
      "NL: NLBGS 11 ; 693.768528 3.4536614\n"
     ]
    },
    {
     "name": "stderr",
     "output_type": "stream",
     "text": [
      "WARNING : Area ratio value outside of the range in Roskam's book, value clipped\n",
      "WARNING : Area ratio value outside of the range in Roskam's book, value clipped\n",
      "INFO    : Entering mission computation\n",
      "INFO    : Looping on wing area with new value equal to 15.715100\n"
     ]
    },
    {
     "name": "stdout",
     "output_type": "stream",
     "text": [
      "NL: NLBGS 12 ; 357.978702 1.78206012\n"
     ]
    },
    {
     "name": "stderr",
     "output_type": "stream",
     "text": [
      "WARNING : Area ratio value outside of the range in Roskam's book, value clipped\n",
      "WARNING : Area ratio value outside of the range in Roskam's book, value clipped\n",
      "INFO    : Entering mission computation\n",
      "INFO    : Looping on wing area with new value equal to 15.714930\n"
     ]
    },
    {
     "name": "stdout",
     "output_type": "stream",
     "text": [
      "NL: NLBGS 13 ; 183.945795 0.915703819\n"
     ]
    },
    {
     "name": "stderr",
     "output_type": "stream",
     "text": [
      "WARNING : Area ratio value outside of the range in Roskam's book, value clipped\n",
      "WARNING : Area ratio value outside of the range in Roskam's book, value clipped\n",
      "INFO    : Entering mission computation\n",
      "INFO    : Looping on wing area with new value equal to 15.714842\n"
     ]
    },
    {
     "name": "stdout",
     "output_type": "stream",
     "text": [
      "NL: NLBGS 14 ; 93.1745548 0.463833902\n"
     ]
    },
    {
     "name": "stderr",
     "output_type": "stream",
     "text": [
      "WARNING : Area ratio value outside of the range in Roskam's book, value clipped\n",
      "WARNING : Area ratio value outside of the range in Roskam's book, value clipped\n",
      "INFO    : Entering mission computation\n",
      "INFO    : Looping on wing area with new value equal to 15.714798\n"
     ]
    },
    {
     "name": "stdout",
     "output_type": "stream",
     "text": [
      "NL: NLBGS 15 ; 47.0005483 0.233974262\n"
     ]
    },
    {
     "name": "stderr",
     "output_type": "stream",
     "text": [
      "WARNING : Area ratio value outside of the range in Roskam's book, value clipped\n",
      "WARNING : Area ratio value outside of the range in Roskam's book, value clipped\n",
      "INFO    : Entering mission computation\n",
      "INFO    : Looping on wing area with new value equal to 15.714775\n"
     ]
    },
    {
     "name": "stdout",
     "output_type": "stream",
     "text": [
      "NL: NLBGS 16 ; 23.5555462 0.117262282\n"
     ]
    },
    {
     "name": "stderr",
     "output_type": "stream",
     "text": [
      "WARNING : Area ratio value outside of the range in Roskam's book, value clipped\n",
      "WARNING : Area ratio value outside of the range in Roskam's book, value clipped\n",
      "INFO    : Entering mission computation\n",
      "INFO    : Looping on wing area with new value equal to 15.714764\n"
     ]
    },
    {
     "name": "stdout",
     "output_type": "stream",
     "text": [
      "NL: NLBGS 17 ; 11.6140085 0.0578159016\n"
     ]
    },
    {
     "name": "stderr",
     "output_type": "stream",
     "text": [
      "WARNING : Area ratio value outside of the range in Roskam's book, value clipped\n",
      "WARNING : Area ratio value outside of the range in Roskam's book, value clipped\n",
      "INFO    : Entering mission computation\n",
      "INFO    : Looping on wing area with new value equal to 15.714759\n"
     ]
    },
    {
     "name": "stdout",
     "output_type": "stream",
     "text": [
      "NL: NLBGS 18 ; 5.79841224 0.0288651787\n"
     ]
    },
    {
     "name": "stderr",
     "output_type": "stream",
     "text": [
      "WARNING : Area ratio value outside of the range in Roskam's book, value clipped\n",
      "WARNING : Area ratio value outside of the range in Roskam's book, value clipped\n",
      "INFO    : Entering mission computation\n",
      "INFO    : Looping on wing area with new value equal to 15.714756\n"
     ]
    },
    {
     "name": "stdout",
     "output_type": "stream",
     "text": [
      "NL: NLBGS 19 ; 2.7784932 0.0138316662\n"
     ]
    },
    {
     "name": "stderr",
     "output_type": "stream",
     "text": [
      "WARNING : Area ratio value outside of the range in Roskam's book, value clipped\n",
      "WARNING : Area ratio value outside of the range in Roskam's book, value clipped\n",
      "INFO    : Entering mission computation\n",
      "INFO    : Looping on wing area with new value equal to 15.714755\n"
     ]
    },
    {
     "name": "stdout",
     "output_type": "stream",
     "text": [
      "NL: NLBGS 20 ; 1.37893049 0.00686447831\n"
     ]
    },
    {
     "name": "stderr",
     "output_type": "stream",
     "text": [
      "WARNING : Area ratio value outside of the range in Roskam's book, value clipped\n",
      "WARNING : Area ratio value outside of the range in Roskam's book, value clipped\n",
      "INFO    : Entering mission computation\n",
      "INFO    : Looping on wing area with new value equal to 15.714754\n"
     ]
    },
    {
     "name": "stdout",
     "output_type": "stream",
     "text": [
      "NL: NLBGS 21 ; 0.721175566 0.00359009686\n"
     ]
    },
    {
     "name": "stderr",
     "output_type": "stream",
     "text": [
      "WARNING : Area ratio value outside of the range in Roskam's book, value clipped\n",
      "WARNING : Area ratio value outside of the range in Roskam's book, value clipped\n",
      "INFO    : Entering mission computation\n",
      "INFO    : Looping on wing area with new value equal to 15.714754\n"
     ]
    },
    {
     "name": "stdout",
     "output_type": "stream",
     "text": [
      "NL: NLBGS 22 ; 0.31283701 0.00155733946\n"
     ]
    },
    {
     "name": "stderr",
     "output_type": "stream",
     "text": [
      "WARNING : Area ratio value outside of the range in Roskam's book, value clipped\n",
      "WARNING : Area ratio value outside of the range in Roskam's book, value clipped\n",
      "INFO    : Entering mission computation\n",
      "INFO    : Looping on wing area with new value equal to 15.714754\n"
     ]
    },
    {
     "name": "stdout",
     "output_type": "stream",
     "text": [
      "NL: NLBGS 23 ; 0.154726152 0.000770244998\n",
      "NL: NLBGS Converged\n"
     ]
    },
    {
     "name": "stderr",
     "output_type": "stream",
     "text": [
      "WARNING : Area ratio value outside of the range in Roskam's book, value clipped\n",
      "WARNING : Area ratio value outside of the range in Roskam's book, value clipped\n",
      "INFO    : Entering mission computation\n",
      "INFO    : Looping on wing area with new value equal to 15.714753\n"
     ]
    },
    {
     "name": "stdout",
     "output_type": "stream",
     "text": [
      "NL: NLBGS 1 ; 23.3303297 1\n"
     ]
    },
    {
     "name": "stderr",
     "output_type": "stream",
     "text": [
      "WARNING : Area ratio value outside of the range in Roskam's book, value clipped\n",
      "WARNING : Area ratio value outside of the range in Roskam's book, value clipped\n",
      "INFO    : Entering mission computation\n",
      "INFO    : Looping on wing area with new value equal to 15.695887\n"
     ]
    },
    {
     "name": "stdout",
     "output_type": "stream",
     "text": [
      "NL: NLBGS 2 ; 65323.4849 2799.93835\n"
     ]
    },
    {
     "name": "stderr",
     "output_type": "stream",
     "text": [
      "WARNING : Area ratio value outside of the range in Roskam's book, value clipped\n",
      "WARNING : Area ratio value outside of the range in Roskam's book, value clipped\n",
      "INFO    : Entering mission computation\n",
      "INFO    : Looping on wing area with new value equal to 15.699837\n"
     ]
    },
    {
     "name": "stdout",
     "output_type": "stream",
     "text": [
      "NL: NLBGS 3 ; 6287.26846 269.489053\n"
     ]
    },
    {
     "name": "stderr",
     "output_type": "stream",
     "text": [
      "WARNING : Area ratio value outside of the range in Roskam's book, value clipped\n",
      "WARNING : Area ratio value outside of the range in Roskam's book, value clipped\n",
      "INFO    : Entering mission computation\n",
      "INFO    : Looping on wing area with new value equal to 15.697440\n"
     ]
    },
    {
     "name": "stdout",
     "output_type": "stream",
     "text": [
      "NL: NLBGS 4 ; 12616.5391 540.778431\n"
     ]
    },
    {
     "name": "stderr",
     "output_type": "stream",
     "text": [
      "WARNING : Area ratio value outside of the range in Roskam's book, value clipped\n",
      "WARNING : Area ratio value outside of the range in Roskam's book, value clipped\n",
      "INFO    : Entering mission computation\n",
      "INFO    : Looping on wing area with new value equal to 15.694853\n"
     ]
    },
    {
     "name": "stdout",
     "output_type": "stream",
     "text": [
      "NL: NLBGS 5 ; 2605.20625 111.666071\n"
     ]
    },
    {
     "name": "stderr",
     "output_type": "stream",
     "text": [
      "WARNING : Area ratio value outside of the range in Roskam's book, value clipped\n",
      "WARNING : Area ratio value outside of the range in Roskam's book, value clipped\n",
      "INFO    : Entering mission computation\n",
      "INFO    : Looping on wing area with new value equal to 15.693553\n"
     ]
    },
    {
     "name": "stdout",
     "output_type": "stream",
     "text": [
      "NL: NLBGS 6 ; 1724.82593 73.9306283\n"
     ]
    },
    {
     "name": "stderr",
     "output_type": "stream",
     "text": [
      "WARNING : Area ratio value outside of the range in Roskam's book, value clipped\n",
      "WARNING : Area ratio value outside of the range in Roskam's book, value clipped\n",
      "INFO    : Entering mission computation\n",
      "INFO    : Looping on wing area with new value equal to 15.692715\n"
     ]
    },
    {
     "name": "stdout",
     "output_type": "stream",
     "text": [
      "NL: NLBGS 7 ; 1215.98365 52.1202943\n"
     ]
    },
    {
     "name": "stderr",
     "output_type": "stream",
     "text": [
      "WARNING : Area ratio value outside of the range in Roskam's book, value clipped\n",
      "WARNING : Area ratio value outside of the range in Roskam's book, value clipped\n",
      "INFO    : Entering mission computation\n",
      "INFO    : Looping on wing area with new value equal to 15.692208\n"
     ]
    },
    {
     "name": "stdout",
     "output_type": "stream",
     "text": [
      "NL: NLBGS 8 ; 594.667332 25.4890239\n"
     ]
    },
    {
     "name": "stderr",
     "output_type": "stream",
     "text": [
      "WARNING : Area ratio value outside of the range in Roskam's book, value clipped\n",
      "WARNING : Area ratio value outside of the range in Roskam's book, value clipped\n",
      "INFO    : Entering mission computation\n",
      "INFO    : Looping on wing area with new value equal to 15.691931\n"
     ]
    },
    {
     "name": "stdout",
     "output_type": "stream",
     "text": [
      "NL: NLBGS 9 ; 320.792926 13.7500382\n"
     ]
    },
    {
     "name": "stderr",
     "output_type": "stream",
     "text": [
      "WARNING : Area ratio value outside of the range in Roskam's book, value clipped\n",
      "WARNING : Area ratio value outside of the range in Roskam's book, value clipped\n",
      "INFO    : Entering mission computation\n",
      "INFO    : Looping on wing area with new value equal to 15.691779\n"
     ]
    },
    {
     "name": "stdout",
     "output_type": "stream",
     "text": [
      "NL: NLBGS 10 ; 175.905516 7.53977838\n"
     ]
    },
    {
     "name": "stderr",
     "output_type": "stream",
     "text": [
      "WARNING : Area ratio value outside of the range in Roskam's book, value clipped\n",
      "WARNING : Area ratio value outside of the range in Roskam's book, value clipped\n",
      "INFO    : Entering mission computation\n",
      "INFO    : Looping on wing area with new value equal to 15.691697\n"
     ]
    },
    {
     "name": "stdout",
     "output_type": "stream",
     "text": [
      "NL: NLBGS 11 ; 91.2937489 3.91309295\n"
     ]
    },
    {
     "name": "stderr",
     "output_type": "stream",
     "text": [
      "WARNING : Area ratio value outside of the range in Roskam's book, value clipped\n",
      "WARNING : Area ratio value outside of the range in Roskam's book, value clipped\n",
      "INFO    : Entering mission computation\n",
      "INFO    : Looping on wing area with new value equal to 15.691654\n"
     ]
    },
    {
     "name": "stdout",
     "output_type": "stream",
     "text": [
      "NL: NLBGS 12 ; 47.4036903 2.03184828\n"
     ]
    },
    {
     "name": "stderr",
     "output_type": "stream",
     "text": [
      "WARNING : Area ratio value outside of the range in Roskam's book, value clipped\n",
      "WARNING : Area ratio value outside of the range in Roskam's book, value clipped\n",
      "INFO    : Entering mission computation\n",
      "INFO    : Looping on wing area with new value equal to 15.691632\n"
     ]
    },
    {
     "name": "stdout",
     "output_type": "stream",
     "text": [
      "NL: NLBGS 13 ; 24.5297458 1.05141016\n"
     ]
    },
    {
     "name": "stderr",
     "output_type": "stream",
     "text": [
      "WARNING : Area ratio value outside of the range in Roskam's book, value clipped\n",
      "WARNING : Area ratio value outside of the range in Roskam's book, value clipped\n",
      "INFO    : Entering mission computation\n",
      "INFO    : Looping on wing area with new value equal to 15.691620\n"
     ]
    },
    {
     "name": "stdout",
     "output_type": "stream",
     "text": [
      "NL: NLBGS 14 ; 12.488063 0.535271602\n"
     ]
    },
    {
     "name": "stderr",
     "output_type": "stream",
     "text": [
      "WARNING : Area ratio value outside of the range in Roskam's book, value clipped\n",
      "WARNING : Area ratio value outside of the range in Roskam's book, value clipped\n",
      "INFO    : Entering mission computation\n",
      "INFO    : Looping on wing area with new value equal to 15.691614\n"
     ]
    },
    {
     "name": "stdout",
     "output_type": "stream",
     "text": [
      "NL: NLBGS 15 ; 6.30781981 0.270369938\n"
     ]
    },
    {
     "name": "stderr",
     "output_type": "stream",
     "text": [
      "WARNING : Area ratio value outside of the range in Roskam's book, value clipped\n",
      "WARNING : Area ratio value outside of the range in Roskam's book, value clipped\n",
      "INFO    : Entering mission computation\n",
      "INFO    : Looping on wing area with new value equal to 15.691611\n"
     ]
    },
    {
     "name": "stdout",
     "output_type": "stream",
     "text": [
      "NL: NLBGS 16 ; 3.13966749 0.134574501\n"
     ]
    },
    {
     "name": "stderr",
     "output_type": "stream",
     "text": [
      "WARNING : Area ratio value outside of the range in Roskam's book, value clipped\n",
      "WARNING : Area ratio value outside of the range in Roskam's book, value clipped\n",
      "INFO    : Entering mission computation\n",
      "INFO    : Looping on wing area with new value equal to 15.691610\n"
     ]
    },
    {
     "name": "stdout",
     "output_type": "stream",
     "text": [
      "NL: NLBGS 17 ; 1.60295294 0.0687068276\n"
     ]
    },
    {
     "name": "stderr",
     "output_type": "stream",
     "text": [
      "WARNING : Area ratio value outside of the range in Roskam's book, value clipped\n",
      "WARNING : Area ratio value outside of the range in Roskam's book, value clipped\n",
      "INFO    : Entering mission computation\n",
      "INFO    : Looping on wing area with new value equal to 15.691609\n"
     ]
    },
    {
     "name": "stdout",
     "output_type": "stream",
     "text": [
      "NL: NLBGS 18 ; 0.811816068 0.0347965964\n"
     ]
    },
    {
     "name": "stderr",
     "output_type": "stream",
     "text": [
      "WARNING : Area ratio value outside of the range in Roskam's book, value clipped\n",
      "WARNING : Area ratio value outside of the range in Roskam's book, value clipped\n",
      "INFO    : Entering mission computation\n",
      "INFO    : Looping on wing area with new value equal to 15.691609\n"
     ]
    },
    {
     "name": "stdout",
     "output_type": "stream",
     "text": [
      "NL: NLBGS 19 ; 0.415294995 0.0178006483\n"
     ]
    },
    {
     "name": "stderr",
     "output_type": "stream",
     "text": [
      "WARNING : Area ratio value outside of the range in Roskam's book, value clipped\n",
      "WARNING : Area ratio value outside of the range in Roskam's book, value clipped\n",
      "INFO    : Entering mission computation\n",
      "INFO    : Looping on wing area with new value equal to 15.691608\n"
     ]
    },
    {
     "name": "stdout",
     "output_type": "stream",
     "text": [
      "NL: NLBGS 20 ; 0.205151572 0.00879334217\n"
     ]
    },
    {
     "name": "stderr",
     "output_type": "stream",
     "text": [
      "WARNING : Area ratio value outside of the range in Roskam's book, value clipped\n",
      "WARNING : Area ratio value outside of the range in Roskam's book, value clipped\n",
      "INFO    : Entering mission computation\n",
      "INFO    : Looping on wing area with new value equal to 15.691608\n"
     ]
    },
    {
     "name": "stdout",
     "output_type": "stream",
     "text": [
      "NL: NLBGS 21 ; 0.101137433 0.00433501946\n"
     ]
    },
    {
     "name": "stderr",
     "output_type": "stream",
     "text": [
      "WARNING : Area ratio value outside of the range in Roskam's book, value clipped\n",
      "WARNING : Area ratio value outside of the range in Roskam's book, value clipped\n",
      "INFO    : Entering mission computation\n",
      "INFO    : Looping on wing area with new value equal to 15.691608\n"
     ]
    },
    {
     "name": "stdout",
     "output_type": "stream",
     "text": [
      "NL: NLBGS 22 ; 0.0498033324 0.00213470332\n"
     ]
    },
    {
     "name": "stderr",
     "output_type": "stream",
     "text": [
      "WARNING : Area ratio value outside of the range in Roskam's book, value clipped\n",
      "WARNING : Area ratio value outside of the range in Roskam's book, value clipped\n",
      "INFO    : Entering mission computation\n",
      "INFO    : Looping on wing area with new value equal to 15.691608\n"
     ]
    },
    {
     "name": "stdout",
     "output_type": "stream",
     "text": [
      "NL: NLBGS 23 ; 0.0243122304 0.00104208688\n"
     ]
    },
    {
     "name": "stderr",
     "output_type": "stream",
     "text": [
      "WARNING : Area ratio value outside of the range in Roskam's book, value clipped\n",
      "WARNING : Area ratio value outside of the range in Roskam's book, value clipped\n",
      "INFO    : Entering mission computation\n",
      "INFO    : Looping on wing area with new value equal to 15.691608\n"
     ]
    },
    {
     "name": "stdout",
     "output_type": "stream",
     "text": [
      "NL: NLBGS 24 ; 0.0118031313 0.00050591361\n",
      "NL: NLBGS Converged\n"
     ]
    },
    {
     "name": "stderr",
     "output_type": "stream",
     "text": [
      "WARNING : Area ratio value outside of the range in Roskam's book, value clipped\n",
      "WARNING : Area ratio value outside of the range in Roskam's book, value clipped\n",
      "INFO    : Entering mission computation\n",
      "INFO    : Looping on wing area with new value equal to 15.691608\n"
     ]
    },
    {
     "name": "stdout",
     "output_type": "stream",
     "text": [
      "NL: NLBGS 1 ; 47.4872998 1\n"
     ]
    },
    {
     "name": "stderr",
     "output_type": "stream",
     "text": [
      "WARNING : Area ratio value outside of the range in Roskam's book, value clipped\n",
      "WARNING : Area ratio value outside of the range in Roskam's book, value clipped\n",
      "INFO    : Entering mission computation\n",
      "INFO    : Looping on wing area with new value equal to 15.729436\n"
     ]
    },
    {
     "name": "stdout",
     "output_type": "stream",
     "text": [
      "NL: NLBGS 2 ; 128509.287 2706.18224\n"
     ]
    },
    {
     "name": "stderr",
     "output_type": "stream",
     "text": [
      "WARNING : Area ratio value outside of the range in Roskam's book, value clipped\n",
      "WARNING : Area ratio value outside of the range in Roskam's book, value clipped\n",
      "INFO    : Entering mission computation\n",
      "INFO    : Looping on wing area with new value equal to 15.721852\n"
     ]
    },
    {
     "name": "stdout",
     "output_type": "stream",
     "text": [
      "NL: NLBGS 3 ; 12631.0322 265.987585\n"
     ]
    },
    {
     "name": "stderr",
     "output_type": "stream",
     "text": [
      "WARNING : Area ratio value outside of the range in Roskam's book, value clipped\n",
      "WARNING : Area ratio value outside of the range in Roskam's book, value clipped\n",
      "INFO    : Entering mission computation\n",
      "INFO    : Looping on wing area with new value equal to 15.726729\n"
     ]
    },
    {
     "name": "stdout",
     "output_type": "stream",
     "text": [
      "NL: NLBGS 4 ; 25267.941 532.098922\n"
     ]
    },
    {
     "name": "stderr",
     "output_type": "stream",
     "text": [
      "WARNING : Area ratio value outside of the range in Roskam's book, value clipped\n",
      "WARNING : Area ratio value outside of the range in Roskam's book, value clipped\n",
      "INFO    : Entering mission computation\n",
      "INFO    : Looping on wing area with new value equal to 15.731985\n"
     ]
    },
    {
     "name": "stdout",
     "output_type": "stream",
     "text": [
      "NL: NLBGS 5 ; 5420.53063 114.146954\n"
     ]
    },
    {
     "name": "stderr",
     "output_type": "stream",
     "text": [
      "WARNING : Area ratio value outside of the range in Roskam's book, value clipped\n",
      "WARNING : Area ratio value outside of the range in Roskam's book, value clipped\n",
      "INFO    : Entering mission computation\n",
      "INFO    : Looping on wing area with new value equal to 15.734646\n"
     ]
    },
    {
     "name": "stdout",
     "output_type": "stream",
     "text": [
      "NL: NLBGS 6 ; 3465.05218 72.9679766\n"
     ]
    },
    {
     "name": "stderr",
     "output_type": "stream",
     "text": [
      "WARNING : Area ratio value outside of the range in Roskam's book, value clipped\n",
      "WARNING : Area ratio value outside of the range in Roskam's book, value clipped\n",
      "INFO    : Entering mission computation\n",
      "INFO    : Looping on wing area with new value equal to 15.736344\n"
     ]
    },
    {
     "name": "stdout",
     "output_type": "stream",
     "text": [
      "NL: NLBGS 7 ; 2413.34387 50.8208275\n"
     ]
    },
    {
     "name": "stderr",
     "output_type": "stream",
     "text": [
      "WARNING : Area ratio value outside of the range in Roskam's book, value clipped\n",
      "WARNING : Area ratio value outside of the range in Roskam's book, value clipped\n",
      "INFO    : Entering mission computation\n",
      "INFO    : Looping on wing area with new value equal to 15.737362\n"
     ]
    },
    {
     "name": "stdout",
     "output_type": "stream",
     "text": [
      "NL: NLBGS 8 ; 1181.47922 24.8798989\n"
     ]
    },
    {
     "name": "stderr",
     "output_type": "stream",
     "text": [
      "WARNING : Area ratio value outside of the range in Roskam's book, value clipped\n",
      "WARNING : Area ratio value outside of the range in Roskam's book, value clipped\n",
      "INFO    : Entering mission computation\n",
      "INFO    : Looping on wing area with new value equal to 15.737916\n"
     ]
    },
    {
     "name": "stdout",
     "output_type": "stream",
     "text": [
      "NL: NLBGS 9 ; 631.833689 13.3053194\n"
     ]
    },
    {
     "name": "stderr",
     "output_type": "stream",
     "text": [
      "WARNING : Area ratio value outside of the range in Roskam's book, value clipped\n",
      "WARNING : Area ratio value outside of the range in Roskam's book, value clipped\n",
      "INFO    : Entering mission computation\n",
      "INFO    : Looping on wing area with new value equal to 15.738217\n"
     ]
    },
    {
     "name": "stdout",
     "output_type": "stream",
     "text": [
      "NL: NLBGS 10 ; 343.424115 7.23191499\n"
     ]
    },
    {
     "name": "stderr",
     "output_type": "stream",
     "text": [
      "WARNING : Area ratio value outside of the range in Roskam's book, value clipped\n",
      "WARNING : Area ratio value outside of the range in Roskam's book, value clipped\n",
      "INFO    : Entering mission computation\n",
      "INFO    : Looping on wing area with new value equal to 15.738379\n"
     ]
    },
    {
     "name": "stdout",
     "output_type": "stream",
     "text": [
      "NL: NLBGS 11 ; 177.355977 3.73480863\n"
     ]
    },
    {
     "name": "stderr",
     "output_type": "stream",
     "text": [
      "WARNING : Area ratio value outside of the range in Roskam's book, value clipped\n",
      "WARNING : Area ratio value outside of the range in Roskam's book, value clipped\n",
      "INFO    : Entering mission computation\n",
      "INFO    : Looping on wing area with new value equal to 15.738463\n"
     ]
    },
    {
     "name": "stdout",
     "output_type": "stream",
     "text": [
      "NL: NLBGS 12 ; 91.2176846 1.9208859\n"
     ]
    },
    {
     "name": "stderr",
     "output_type": "stream",
     "text": [
      "WARNING : Area ratio value outside of the range in Roskam's book, value clipped\n",
      "WARNING : Area ratio value outside of the range in Roskam's book, value clipped\n",
      "INFO    : Entering mission computation\n",
      "INFO    : Looping on wing area with new value equal to 15.738507\n"
     ]
    },
    {
     "name": "stdout",
     "output_type": "stream",
     "text": [
      "NL: NLBGS 13 ; 46.865741 0.986911052\n"
     ]
    },
    {
     "name": "stderr",
     "output_type": "stream",
     "text": [
      "WARNING : Area ratio value outside of the range in Roskam's book, value clipped\n",
      "WARNING : Area ratio value outside of the range in Roskam's book, value clipped\n",
      "INFO    : Entering mission computation\n",
      "INFO    : Looping on wing area with new value equal to 15.738529\n"
     ]
    },
    {
     "name": "stdout",
     "output_type": "stream",
     "text": [
      "NL: NLBGS 14 ; 23.6424603 0.497869123\n"
     ]
    },
    {
     "name": "stderr",
     "output_type": "stream",
     "text": [
      "WARNING : Area ratio value outside of the range in Roskam's book, value clipped\n",
      "WARNING : Area ratio value outside of the range in Roskam's book, value clipped\n",
      "INFO    : Entering mission computation\n",
      "INFO    : Looping on wing area with new value equal to 15.738541\n"
     ]
    },
    {
     "name": "stdout",
     "output_type": "stream",
     "text": [
      "NL: NLBGS 15 ; 11.8581808 0.249712677\n"
     ]
    },
    {
     "name": "stderr",
     "output_type": "stream",
     "text": [
      "WARNING : Area ratio value outside of the range in Roskam's book, value clipped\n",
      "WARNING : Area ratio value outside of the range in Roskam's book, value clipped\n",
      "INFO    : Entering mission computation\n",
      "INFO    : Looping on wing area with new value equal to 15.738546\n"
     ]
    },
    {
     "name": "stdout",
     "output_type": "stream",
     "text": [
      "NL: NLBGS 16 ; 5.8917645 0.12407032\n"
     ]
    },
    {
     "name": "stderr",
     "output_type": "stream",
     "text": [
      "WARNING : Area ratio value outside of the range in Roskam's book, value clipped\n",
      "WARNING : Area ratio value outside of the range in Roskam's book, value clipped\n",
      "INFO    : Entering mission computation\n",
      "INFO    : Looping on wing area with new value equal to 15.738549\n"
     ]
    },
    {
     "name": "stdout",
     "output_type": "stream",
     "text": [
      "NL: NLBGS 17 ; 2.97337187 0.0626140438\n"
     ]
    },
    {
     "name": "stderr",
     "output_type": "stream",
     "text": [
      "WARNING : Area ratio value outside of the range in Roskam's book, value clipped\n",
      "WARNING : Area ratio value outside of the range in Roskam's book, value clipped\n",
      "INFO    : Entering mission computation\n",
      "INFO    : Looping on wing area with new value equal to 15.738551\n"
     ]
    },
    {
     "name": "stdout",
     "output_type": "stream",
     "text": [
      "NL: NLBGS 18 ; 1.45325431 0.03060301\n"
     ]
    },
    {
     "name": "stderr",
     "output_type": "stream",
     "text": [
      "WARNING : Area ratio value outside of the range in Roskam's book, value clipped\n",
      "WARNING : Area ratio value outside of the range in Roskam's book, value clipped\n",
      "INFO    : Entering mission computation\n",
      "INFO    : Looping on wing area with new value equal to 15.738551\n"
     ]
    },
    {
     "name": "stdout",
     "output_type": "stream",
     "text": [
      "NL: NLBGS 19 ; 0.641604367 0.0135110729\n"
     ]
    },
    {
     "name": "stderr",
     "output_type": "stream",
     "text": [
      "WARNING : Area ratio value outside of the range in Roskam's book, value clipped\n",
      "WARNING : Area ratio value outside of the range in Roskam's book, value clipped\n",
      "INFO    : Entering mission computation\n",
      "INFO    : Looping on wing area with new value equal to 15.738552\n"
     ]
    },
    {
     "name": "stdout",
     "output_type": "stream",
     "text": [
      "NL: NLBGS 20 ; 0.404630819 0.0085208218\n"
     ]
    },
    {
     "name": "stderr",
     "output_type": "stream",
     "text": [
      "WARNING : Area ratio value outside of the range in Roskam's book, value clipped\n",
      "WARNING : Area ratio value outside of the range in Roskam's book, value clipped\n",
      "INFO    : Entering mission computation\n",
      "INFO    : Looping on wing area with new value equal to 15.738552\n"
     ]
    },
    {
     "name": "stdout",
     "output_type": "stream",
     "text": [
      "NL: NLBGS 21 ; 0.15307133 0.00322341618\n"
     ]
    },
    {
     "name": "stderr",
     "output_type": "stream",
     "text": [
      "WARNING : Area ratio value outside of the range in Roskam's book, value clipped\n",
      "WARNING : Area ratio value outside of the range in Roskam's book, value clipped\n",
      "INFO    : Entering mission computation\n",
      "INFO    : Looping on wing area with new value equal to 15.738552\n"
     ]
    },
    {
     "name": "stdout",
     "output_type": "stream",
     "text": [
      "NL: NLBGS 22 ; 0.0766634555 0.00161439913\n"
     ]
    },
    {
     "name": "stderr",
     "output_type": "stream",
     "text": [
      "WARNING : Area ratio value outside of the range in Roskam's book, value clipped\n",
      "WARNING : Area ratio value outside of the range in Roskam's book, value clipped\n",
      "INFO    : Entering mission computation\n",
      "INFO    : Looping on wing area with new value equal to 15.738552\n"
     ]
    },
    {
     "name": "stdout",
     "output_type": "stream",
     "text": [
      "NL: NLBGS 23 ; 0.0372059215 0.000783492043\n",
      "NL: NLBGS Converged\n"
     ]
    },
    {
     "name": "stderr",
     "output_type": "stream",
     "text": [
      "WARNING : Ratio of span on fuselage depth outside of the range in Roskam's book, value clipped\n",
      "WARNING : Area ratio value outside of the range in Roskam's book, value clipped\n",
      "WARNING : Ratio of span on fuselage depth outside of the range in Roskam's book, value clipped\n",
      "WARNING : Area ratio value outside of the range in Roskam's book, value clipped\n",
      "INFO    : Entering mission computation\n",
      "INFO    : Looping on wing area with new value equal to 15.738552\n"
     ]
    },
    {
     "name": "stdout",
     "output_type": "stream",
     "text": [
      "NL: NLBGS 1 ; 24.9587068 1\n"
     ]
    },
    {
     "name": "stderr",
     "output_type": "stream",
     "text": [
      "WARNING : Ratio of span on fuselage depth outside of the range in Roskam's book, value clipped\n",
      "WARNING : Area ratio value outside of the range in Roskam's book, value clipped\n",
      "WARNING : Ratio of span on fuselage depth outside of the range in Roskam's book, value clipped\n",
      "WARNING : Area ratio value outside of the range in Roskam's book, value clipped\n",
      "INFO    : Entering mission computation\n",
      "INFO    : Looping on wing area with new value equal to 15.757608\n"
     ]
    },
    {
     "name": "stdout",
     "output_type": "stream",
     "text": [
      "NL: NLBGS 2 ; 61781.4828 2475.34791\n"
     ]
    },
    {
     "name": "stderr",
     "output_type": "stream",
     "text": [
      "WARNING : Ratio of span on fuselage depth outside of the range in Roskam's book, value clipped\n",
      "WARNING : Area ratio value outside of the range in Roskam's book, value clipped\n",
      "WARNING : Ratio of span on fuselage depth outside of the range in Roskam's book, value clipped\n",
      "WARNING : Area ratio value outside of the range in Roskam's book, value clipped\n",
      "INFO    : Entering mission computation\n",
      "INFO    : Looping on wing area with new value equal to 15.754210\n"
     ]
    },
    {
     "name": "stdout",
     "output_type": "stream",
     "text": [
      "NL: NLBGS 3 ; 6247.77237 250.324362\n"
     ]
    },
    {
     "name": "stderr",
     "output_type": "stream",
     "text": [
      "WARNING : Ratio of span on fuselage depth outside of the range in Roskam's book, value clipped\n",
      "WARNING : Area ratio value outside of the range in Roskam's book, value clipped\n",
      "WARNING : Ratio of span on fuselage depth outside of the range in Roskam's book, value clipped\n",
      "WARNING : Area ratio value outside of the range in Roskam's book, value clipped\n",
      "INFO    : Entering mission computation\n",
      "INFO    : Looping on wing area with new value equal to 15.756787\n"
     ]
    },
    {
     "name": "stdout",
     "output_type": "stream",
     "text": [
      "NL: NLBGS 4 ; 12512.5587 501.330407\n"
     ]
    },
    {
     "name": "stderr",
     "output_type": "stream",
     "text": [
      "WARNING : Ratio of span on fuselage depth outside of the range in Roskam's book, value clipped\n",
      "WARNING : Area ratio value outside of the range in Roskam's book, value clipped\n",
      "WARNING : Ratio of span on fuselage depth outside of the range in Roskam's book, value clipped\n",
      "WARNING : Area ratio value outside of the range in Roskam's book, value clipped\n",
      "INFO    : Entering mission computation\n",
      "INFO    : Looping on wing area with new value equal to 15.759454\n"
     ]
    },
    {
     "name": "stdout",
     "output_type": "stream",
     "text": [
      "NL: NLBGS 5 ; 2789.67416 111.771582\n"
     ]
    },
    {
     "name": "stderr",
     "output_type": "stream",
     "text": [
      "WARNING : Ratio of span on fuselage depth outside of the range in Roskam's book, value clipped\n",
      "WARNING : Area ratio value outside of the range in Roskam's book, value clipped\n",
      "WARNING : Ratio of span on fuselage depth outside of the range in Roskam's book, value clipped\n",
      "WARNING : Area ratio value outside of the range in Roskam's book, value clipped\n",
      "INFO    : Entering mission computation\n",
      "INFO    : Looping on wing area with new value equal to 15.760810\n"
     ]
    },
    {
     "name": "stdout",
     "output_type": "stream",
     "text": [
      "NL: NLBGS 6 ; 1753.06441 70.2385913\n"
     ]
    },
    {
     "name": "stderr",
     "output_type": "stream",
     "text": [
      "WARNING : Ratio of span on fuselage depth outside of the range in Roskam's book, value clipped\n",
      "WARNING : Area ratio value outside of the range in Roskam's book, value clipped\n",
      "WARNING : Ratio of span on fuselage depth outside of the range in Roskam's book, value clipped\n",
      "WARNING : Area ratio value outside of the range in Roskam's book, value clipped\n",
      "INFO    : Entering mission computation\n",
      "INFO    : Looping on wing area with new value equal to 15.761668\n"
     ]
    },
    {
     "name": "stdout",
     "output_type": "stream",
     "text": [
      "NL: NLBGS 7 ; 1198.66937 48.0261008\n"
     ]
    },
    {
     "name": "stderr",
     "output_type": "stream",
     "text": [
      "WARNING : Ratio of span on fuselage depth outside of the range in Roskam's book, value clipped\n",
      "WARNING : Area ratio value outside of the range in Roskam's book, value clipped\n",
      "WARNING : Ratio of span on fuselage depth outside of the range in Roskam's book, value clipped\n",
      "WARNING : Area ratio value outside of the range in Roskam's book, value clipped\n",
      "INFO    : Entering mission computation\n",
      "INFO    : Looping on wing area with new value equal to 15.762178\n"
     ]
    },
    {
     "name": "stdout",
     "output_type": "stream",
     "text": [
      "NL: NLBGS 8 ; 586.177674 23.4858992\n"
     ]
    },
    {
     "name": "stderr",
     "output_type": "stream",
     "text": [
      "WARNING : Ratio of span on fuselage depth outside of the range in Roskam's book, value clipped\n",
      "WARNING : Area ratio value outside of the range in Roskam's book, value clipped\n",
      "WARNING : Ratio of span on fuselage depth outside of the range in Roskam's book, value clipped\n",
      "WARNING : Area ratio value outside of the range in Roskam's book, value clipped\n",
      "INFO    : Entering mission computation\n",
      "INFO    : Looping on wing area with new value equal to 15.762455\n"
     ]
    },
    {
     "name": "stdout",
     "output_type": "stream",
     "text": [
      "NL: NLBGS 9 ; 312.177889 12.507775\n"
     ]
    },
    {
     "name": "stderr",
     "output_type": "stream",
     "text": [
      "WARNING : Ratio of span on fuselage depth outside of the range in Roskam's book, value clipped\n",
      "WARNING : Area ratio value outside of the range in Roskam's book, value clipped\n",
      "WARNING : Ratio of span on fuselage depth outside of the range in Roskam's book, value clipped\n",
      "WARNING : Area ratio value outside of the range in Roskam's book, value clipped\n",
      "INFO    : Entering mission computation\n",
      "INFO    : Looping on wing area with new value equal to 15.762605\n"
     ]
    },
    {
     "name": "stdout",
     "output_type": "stream",
     "text": [
      "NL: NLBGS 10 ; 168.632242 6.75644948\n"
     ]
    },
    {
     "name": "stderr",
     "output_type": "stream",
     "text": [
      "WARNING : Ratio of span on fuselage depth outside of the range in Roskam's book, value clipped\n",
      "WARNING : Area ratio value outside of the range in Roskam's book, value clipped\n",
      "WARNING : Ratio of span on fuselage depth outside of the range in Roskam's book, value clipped\n",
      "WARNING : Area ratio value outside of the range in Roskam's book, value clipped\n",
      "INFO    : Entering mission computation\n",
      "INFO    : Looping on wing area with new value equal to 15.762684\n"
     ]
    },
    {
     "name": "stdout",
     "output_type": "stream",
     "text": [
      "NL: NLBGS 11 ; 86.7320978 3.4750237\n"
     ]
    },
    {
     "name": "stderr",
     "output_type": "stream",
     "text": [
      "WARNING : Ratio of span on fuselage depth outside of the range in Roskam's book, value clipped\n",
      "WARNING : Area ratio value outside of the range in Roskam's book, value clipped\n",
      "WARNING : Ratio of span on fuselage depth outside of the range in Roskam's book, value clipped\n",
      "WARNING : Area ratio value outside of the range in Roskam's book, value clipped\n",
      "INFO    : Entering mission computation\n",
      "INFO    : Looping on wing area with new value equal to 15.762726\n"
     ]
    },
    {
     "name": "stdout",
     "output_type": "stream",
     "text": [
      "NL: NLBGS 12 ; 44.4802823 1.78215493\n"
     ]
    },
    {
     "name": "stderr",
     "output_type": "stream",
     "text": [
      "WARNING : Ratio of span on fuselage depth outside of the range in Roskam's book, value clipped\n",
      "WARNING : Area ratio value outside of the range in Roskam's book, value clipped\n",
      "WARNING : Ratio of span on fuselage depth outside of the range in Roskam's book, value clipped\n",
      "WARNING : Area ratio value outside of the range in Roskam's book, value clipped\n",
      "INFO    : Entering mission computation\n",
      "INFO    : Looping on wing area with new value equal to 15.762747\n"
     ]
    },
    {
     "name": "stdout",
     "output_type": "stream",
     "text": [
      "NL: NLBGS 13 ; 22.7673119 0.912199178\n"
     ]
    },
    {
     "name": "stderr",
     "output_type": "stream",
     "text": [
      "WARNING : Ratio of span on fuselage depth outside of the range in Roskam's book, value clipped\n",
      "WARNING : Area ratio value outside of the range in Roskam's book, value clipped\n",
      "WARNING : Ratio of span on fuselage depth outside of the range in Roskam's book, value clipped\n",
      "WARNING : Area ratio value outside of the range in Roskam's book, value clipped\n",
      "INFO    : Entering mission computation\n",
      "INFO    : Looping on wing area with new value equal to 15.762758\n"
     ]
    },
    {
     "name": "stdout",
     "output_type": "stream",
     "text": [
      "NL: NLBGS 14 ; 11.4018569 0.456828832\n"
     ]
    },
    {
     "name": "stderr",
     "output_type": "stream",
     "text": [
      "WARNING : Ratio of span on fuselage depth outside of the range in Roskam's book, value clipped\n",
      "WARNING : Area ratio value outside of the range in Roskam's book, value clipped\n",
      "WARNING : Ratio of span on fuselage depth outside of the range in Roskam's book, value clipped\n",
      "WARNING : Area ratio value outside of the range in Roskam's book, value clipped\n",
      "INFO    : Entering mission computation\n",
      "INFO    : Looping on wing area with new value equal to 15.762764\n"
     ]
    },
    {
     "name": "stdout",
     "output_type": "stream",
     "text": [
      "NL: NLBGS 15 ; 5.75345819 0.230519082\n"
     ]
    },
    {
     "name": "stderr",
     "output_type": "stream",
     "text": [
      "WARNING : Ratio of span on fuselage depth outside of the range in Roskam's book, value clipped\n",
      "WARNING : Area ratio value outside of the range in Roskam's book, value clipped\n",
      "WARNING : Ratio of span on fuselage depth outside of the range in Roskam's book, value clipped\n",
      "WARNING : Area ratio value outside of the range in Roskam's book, value clipped\n",
      "INFO    : Entering mission computation\n",
      "INFO    : Looping on wing area with new value equal to 15.762766\n"
     ]
    },
    {
     "name": "stdout",
     "output_type": "stream",
     "text": [
      "NL: NLBGS 16 ; 2.78372386 0.111533177\n"
     ]
    },
    {
     "name": "stderr",
     "output_type": "stream",
     "text": [
      "WARNING : Ratio of span on fuselage depth outside of the range in Roskam's book, value clipped\n",
      "WARNING : Area ratio value outside of the range in Roskam's book, value clipped\n",
      "WARNING : Ratio of span on fuselage depth outside of the range in Roskam's book, value clipped\n",
      "WARNING : Area ratio value outside of the range in Roskam's book, value clipped\n",
      "INFO    : Entering mission computation\n",
      "INFO    : Looping on wing area with new value equal to 15.762768\n"
     ]
    },
    {
     "name": "stdout",
     "output_type": "stream",
     "text": [
      "NL: NLBGS 17 ; 1.3948088 0.0558846582\n"
     ]
    },
    {
     "name": "stderr",
     "output_type": "stream",
     "text": [
      "WARNING : Ratio of span on fuselage depth outside of the range in Roskam's book, value clipped\n",
      "WARNING : Area ratio value outside of the range in Roskam's book, value clipped\n",
      "WARNING : Ratio of span on fuselage depth outside of the range in Roskam's book, value clipped\n",
      "WARNING : Area ratio value outside of the range in Roskam's book, value clipped\n",
      "INFO    : Entering mission computation\n",
      "INFO    : Looping on wing area with new value equal to 15.762769\n"
     ]
    },
    {
     "name": "stdout",
     "output_type": "stream",
     "text": [
      "NL: NLBGS 18 ; 0.700628543 0.0280715082\n"
     ]
    },
    {
     "name": "stderr",
     "output_type": "stream",
     "text": [
      "WARNING : Ratio of span on fuselage depth outside of the range in Roskam's book, value clipped\n",
      "WARNING : Area ratio value outside of the range in Roskam's book, value clipped\n",
      "WARNING : Ratio of span on fuselage depth outside of the range in Roskam's book, value clipped\n",
      "WARNING : Area ratio value outside of the range in Roskam's book, value clipped\n",
      "INFO    : Entering mission computation\n",
      "INFO    : Looping on wing area with new value equal to 15.762769\n"
     ]
    },
    {
     "name": "stdout",
     "output_type": "stream",
     "text": [
      "NL: NLBGS 19 ; 0.354410232 0.0141998636\n"
     ]
    },
    {
     "name": "stderr",
     "output_type": "stream",
     "text": [
      "WARNING : Ratio of span on fuselage depth outside of the range in Roskam's book, value clipped\n",
      "WARNING : Area ratio value outside of the range in Roskam's book, value clipped\n",
      "WARNING : Ratio of span on fuselage depth outside of the range in Roskam's book, value clipped\n",
      "WARNING : Area ratio value outside of the range in Roskam's book, value clipped\n",
      "INFO    : Entering mission computation\n",
      "INFO    : Looping on wing area with new value equal to 15.762769\n"
     ]
    },
    {
     "name": "stdout",
     "output_type": "stream",
     "text": [
      "NL: NLBGS 20 ; 0.172578835 0.00691457437\n"
     ]
    },
    {
     "name": "stderr",
     "output_type": "stream",
     "text": [
      "WARNING : Ratio of span on fuselage depth outside of the range in Roskam's book, value clipped\n",
      "WARNING : Area ratio value outside of the range in Roskam's book, value clipped\n",
      "WARNING : Ratio of span on fuselage depth outside of the range in Roskam's book, value clipped\n",
      "WARNING : Area ratio value outside of the range in Roskam's book, value clipped\n",
      "INFO    : Entering mission computation\n",
      "INFO    : Looping on wing area with new value equal to 15.762769\n"
     ]
    },
    {
     "name": "stdout",
     "output_type": "stream",
     "text": [
      "NL: NLBGS 21 ; 0.140129561 0.00561445598\n"
     ]
    },
    {
     "name": "stderr",
     "output_type": "stream",
     "text": [
      "WARNING : Ratio of span on fuselage depth outside of the range in Roskam's book, value clipped\n",
      "WARNING : Area ratio value outside of the range in Roskam's book, value clipped\n",
      "WARNING : Ratio of span on fuselage depth outside of the range in Roskam's book, value clipped\n",
      "WARNING : Area ratio value outside of the range in Roskam's book, value clipped\n",
      "INFO    : Entering mission computation\n",
      "INFO    : Looping on wing area with new value equal to 15.762769\n"
     ]
    },
    {
     "name": "stdout",
     "output_type": "stream",
     "text": [
      "NL: NLBGS 22 ; 0.0335608429 0.00134465472\n"
     ]
    },
    {
     "name": "stderr",
     "output_type": "stream",
     "text": [
      "WARNING : Ratio of span on fuselage depth outside of the range in Roskam's book, value clipped\n",
      "WARNING : Area ratio value outside of the range in Roskam's book, value clipped\n",
      "WARNING : Ratio of span on fuselage depth outside of the range in Roskam's book, value clipped\n",
      "WARNING : Area ratio value outside of the range in Roskam's book, value clipped\n",
      "INFO    : Entering mission computation\n",
      "INFO    : Looping on wing area with new value equal to 15.762769\n"
     ]
    },
    {
     "name": "stdout",
     "output_type": "stream",
     "text": [
      "NL: NLBGS 23 ; 0.0142616657 0.000571410443\n",
      "NL: NLBGS Converged\n",
      "Optimization Complete\n",
      "-----------------------------------\n",
      "\n",
      "   Normal return from subroutine COBYLA\n",
      "\n",
      "   NFVALS =    8   F = 2.478218E-02    MAXCV = 0.000000E+00\n",
      "   X = 5.750000E+00\n"
     ]
    },
    {
     "name": "stderr",
     "output_type": "stream",
     "text": [
      "INFO    : Computation finished after 1023.01 seconds\n",
      "INFO    : Problem outputs written in /Users/BielGaliot/Documents/GitHub/FAST-GA/FAST-OAD_notebooks/fast-oad-cs23/tutorial/workdir/problem_outputs.xml\n"
     ]
    }
   ],
   "source": [
    "optim_problem = api_cs25.optimize_problem(CONFIGURATION_FILE_MDO, overwrite=True)"
   ]
  },
  {
   "cell_type": "markdown",
   "metadata": {},
   "source": [
    "Let's save these results:"
   ]
  },
  {
   "cell_type": "code",
   "execution_count": 21,
   "metadata": {},
   "outputs": [
    {
     "data": {
      "text/plain": [
       "'workdir/problem_outputs_Beechcraft_800nm_mdo.xml'"
      ]
     },
     "execution_count": 21,
     "metadata": {},
     "output_type": "execute_result"
    }
   ],
   "source": [
    "OUTPUT_FILE = pth.join(WORK_FOLDER_PATH, \"problem_outputs.xml\")\n",
    "CeRAS_OPT_OUTPUT_FILE = pth.join(WORK_FOLDER_PATH, \"problem_outputs_Beechcraft_800nm_mdo.xml\")\n",
    "shutil.copy(OUTPUT_FILE, CeRAS_OPT_OUTPUT_FILE)"
   ]
  },
  {
   "cell_type": "markdown",
   "metadata": {},
   "source": [
    "The `optimizer_viewer` offers a convenient summary of the optimization result:"
   ]
  },
  {
   "cell_type": "code",
   "execution_count": 22,
   "metadata": {},
   "outputs": [
    {
     "data": {
      "application/vnd.jupyter.widget-view+json": {
       "model_id": "d8bf7258bd434722ad1cb7b57bb7fbda",
       "version_major": 2,
       "version_minor": 0
      },
      "text/plain": [
       "VBox(children=(HBox(children=(Button(description='Load', icon='upload', style=ButtonStyle(), tooltip='Load the…"
      ]
     },
     "metadata": {},
     "output_type": "display_data"
    }
   ],
   "source": [
    "api_cs25.optimization_viewer(CONFIGURATION_FILE_MDO)"
   ]
  },
  {
   "cell_type": "markdown",
   "metadata": {},
   "source": [
    "You can use the `VariableViewer` tool to see the optimization results for all variables of the system by loading the .xml output file:"
   ]
  },
  {
   "cell_type": "code",
   "execution_count": 23,
   "metadata": {},
   "outputs": [
    {
     "data": {
      "application/vnd.jupyter.widget-view+json": {
       "model_id": "9b1f06b4d37b4f8c80ce39fbb40a8b26",
       "version_major": 2,
       "version_minor": 0
      },
      "text/plain": [
       "VBox(children=(HBox(children=(Button(description='Load', icon='upload', style=ButtonStyle(), tooltip='Load the…"
      ]
     },
     "metadata": {},
     "output_type": "display_data"
    }
   ],
   "source": [
    "RESULT_FILE = pth.join(WORK_FOLDER_PATH, \"problem_outputs.xml\")\n",
    "api_cs25.variable_viewer(RESULT_FILE)"
   ]
  },
  {
   "cell_type": "code",
   "execution_count": null,
   "metadata": {},
   "outputs": [],
   "source": []
  }
 ],
 "metadata": {
  "kernelspec": {
   "display_name": "Python 3 (ipykernel)",
   "language": "python",
   "name": "python3"
  },
  "language_info": {
   "codemirror_mode": {
    "name": "ipython",
    "version": 3
   },
   "file_extension": ".py",
   "mimetype": "text/x-python",
   "name": "python",
   "nbconvert_exporter": "python",
   "pygments_lexer": "ipython3",
   "version": "3.8.16"
  }
 },
 "nbformat": 4,
 "nbformat_minor": 4
}
