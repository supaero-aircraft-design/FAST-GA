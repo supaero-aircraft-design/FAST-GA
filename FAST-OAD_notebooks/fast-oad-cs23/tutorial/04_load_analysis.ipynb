{
 "cells": [
  {
   "cell_type": "markdown",
   "metadata": {},
   "source": [
    "<div class=\"row\">\n",
    "  <div class=\"column\">\n",
    "    <img src=\"./img/logo-onera.png\" width=\"200\">\n",
    "  </div>\n",
    "  <div class=\"column\">\n",
    "    <img src=\"./img/logo-ISAE_SUPAERO.png\" width=\"200\">\n",
    "  </div>\n",
    "</div>"
   ]
  },
  {
   "cell_type": "markdown",
   "metadata": {},
   "source": [
    "# FAST-OAD-GA Analysis mode Tutorial\n",
    "\n",
    "FAST-OAD-GA is an add-on package for [FAST-OAD framework](https://github.com/fast-aircraft-design/FAST-OAD) for performing rapid Overall Aircraft Design in the category General Aviation (GA). The computational core of FAST-OAD being based on the  [OpenMDAO framework](https://openmdao.org/).\n",
    "\n",
    "This notebook will show you the basic step to use the load analysis module using ID's to call the module and configuration files instead of importing the classes.\n",
    "\n",
    "To organize our work, we propose to use two user folders `data/` and `workdir/`. In `data/` we store the XML file which describes the aircraft to analyse, here the Beechcraft Duchess. In `workdir/`, we store files generated or modified by FAST-OAD-(GA)."
   ]
  },
  {
   "cell_type": "code",
   "execution_count": 1,
   "metadata": {
    "scrolled": true
   },
   "outputs": [],
   "source": [
    "import os.path as pth\n",
    "import os\n",
    "import logging\n",
    "import shutil\n",
    "import openmdao.api as om\n",
    "import fastoad.api as oad\n",
    "\n",
    "import fastga.utils.postprocessing.post_processing_api as api_plots\n",
    "from fastga.command import api as api_cs23\n",
    "\n",
    "# Define relative path\n",
    "DATA_FOLDER_PATH = \"data\"\n",
    "WORK_FOLDER_PATH = \"workdir\"\n",
    "\n",
    "# Final file names\n",
    "AIRCRAFT_FILE = pth.join(WORK_FOLDER_PATH, \"beechcraft_76_loads.xml\")"
   ]
  },
  {
   "cell_type": "code",
   "execution_count": 2,
   "metadata": {},
   "outputs": [],
   "source": [
    "# Clear work folder\n",
    "shutil.rmtree(WORK_FOLDER_PATH, ignore_errors=True)\n",
    "os.mkdir(WORK_FOLDER_PATH)\n",
    "\n",
    "# For using all screen width\n",
    "# from IPython.core.display import display, HTML\n",
    "# display(HTML(\"<style>.container { width:95% !important; }</style>\"))"
   ]
  },
  {
   "cell_type": "markdown",
   "metadata": {},
   "source": [
    "## 1. Read, modify and save different aircraft geometry configurations\n",
    "\n",
    "In this paragraph we will first run the geometry module on the aircraft to derive primary parameters into the detailed geometry set."
   ]
  },
  {
   "cell_type": "markdown",
   "metadata": {},
   "source": [
    "**This process can be done using the api generate block analysis method to get this working such as a python function:**\n",
    "1. Create a dictionnary with the options for your module\n",
    "2. Generate a block analysis using the module id"
   ]
  },
  {
   "cell_type": "code",
   "execution_count": 3,
   "metadata": {},
   "outputs": [
    {
     "name": "stderr",
     "output_type": "stream",
     "text": [
      "Failed to import module fastga.models.propulsion.fuel_propulsion.basicIC_engine.unitary_tests\n",
      "Failed to import module fastga.models.performances.unitary_tests\n",
      "Failed to import module fastga.models.handling_qualities.unitary_tests\n",
      "Failed to import module fastga.models.weight.mass_breakdown.unitary_tests\n",
      "Failed to import module fastga.models.propulsion.fuel_propulsion.basicTurbo_prop_map.unitary_tests\n",
      "Failed to import module fastga.models.weight.cg.unitary_tests\n",
      "Failed to import module fastga.models.aerodynamics.unitary_tests\n",
      "Failed to import module fastga.models.propulsion.fuel_propulsion.basicTurbo_prop.unitary_tests\n",
      "Failed to import module fastga.models.load_analysis.unitary_tests\n",
      "Failed to import module fastga.models.loops.unitary_tests\n",
      "Failed to import module fastga.models.geometry.unitary_tests\n"
     ]
    }
   ],
   "source": [
    "# Copy reference aircraft file in work directory\n",
    "shutil.copy(pth.join(DATA_FOLDER_PATH, \"beechcraft_76_loads.xml\"), AIRCRAFT_FILE)\n",
    "\n",
    "# Define the wing primary geometry parameters name as a list\n",
    "var_inputs = [\n",
    "    \"data:geometry:wing:area\",\n",
    "    \"data:geometry:wing:aspect_ratio\",\n",
    "    \"data:geometry:wing:taper_ratio\",\n",
    "]\n",
    "\n",
    "# Define the option of the geometry module you want to use (not putting any will use the default value when\n",
    "# available)\n",
    "option_dict = {\"propulsion_id\": \"fastga.wrapper.propulsion.basicIC_engine\"}\n",
    "\n",
    "# Declare function\n",
    "compute_geometry = api_cs23.generate_block_analysis(\n",
    "    \"fastga.geometry.legacy\",\n",
    "    var_inputs,\n",
    "    str(AIRCRAFT_FILE),\n",
    "    options=option_dict,\n",
    "    overwrite=True,\n",
    ")"
   ]
  },
  {
   "cell_type": "markdown",
   "metadata": {},
   "source": [
    "It is also possible to specify a configuration file as the input of the generate_block_analysis function, allowing to turn an OpenMDAO problem into a function. This will be showcased in the next cell but won't be reused afterwards."
   ]
  },
  {
   "cell_type": "code",
   "execution_count": 4,
   "metadata": {},
   "outputs": [],
   "source": [
    "# Copy the configuration file which contains the same models as in the previous cell\n",
    "GEOMETRY_CONFIGURATION_FILE = pth.join(WORK_FOLDER_PATH, \"geometry.yml\")\n",
    "shutil.copy(pth.join(DATA_FOLDER_PATH, \"geometry.yml\"), GEOMETRY_CONFIGURATION_FILE)\n",
    "\n",
    "# Declare function\n",
    "compute_geometry_yml = api_cs23.generate_block_analysis(\n",
    "    GEOMETRY_CONFIGURATION_FILE,\n",
    "    var_inputs,\n",
    "    str(AIRCRAFT_FILE),\n",
    "    overwrite=False,\n",
    ")"
   ]
  },
  {
   "cell_type": "markdown",
   "metadata": {},
   "source": [
    "Now we can use the previously created function to calculate the aircraft."
   ]
  },
  {
   "cell_type": "code",
   "execution_count": 5,
   "metadata": {},
   "outputs": [
    {
     "data": {
      "application/vnd.jupyter.widget-view+json": {
       "model_id": "bdabeac4af834df598dcbb823c3d878e",
       "version_major": 2,
       "version_minor": 0
      },
      "text/plain": [
       "VBox(children=(HBox(children=(Button(description='Load', icon='upload', style=ButtonStyle(), tooltip='Load the…"
      ]
     },
     "metadata": {},
     "output_type": "display_data"
    }
   ],
   "source": [
    "# Fetch reference aircraft values using a feature from FAST-OAD-core\n",
    "reference_aircraft = oad.DataFile(AIRCRAFT_FILE)\n",
    "\n",
    "wing_area = reference_aircraft[\"data:geometry:wing:area\"].value[0]\n",
    "wing_area_units = reference_aircraft[\"data:geometry:wing:area\"].units\n",
    "\n",
    "aspect_ratio = reference_aircraft[\"data:geometry:wing:aspect_ratio\"].value[0]\n",
    "aspect_ratio_units = reference_aircraft[\"data:geometry:wing:aspect_ratio\"].units\n",
    "\n",
    "taper_ratio = reference_aircraft[\"data:geometry:wing:taper_ratio\"].value[0]\n",
    "taper_ratio_units = reference_aircraft[\"data:geometry:wing:taper_ratio\"].units\n",
    "\n",
    "# Compute geometry\n",
    "inputs_dict = {\n",
    "    \"data:geometry:wing:area\": (wing_area, wing_area_units),\n",
    "    \"data:geometry:wing:aspect_ratio\": (aspect_ratio, aspect_ratio_units),\n",
    "    \"data:geometry:wing:taper_ratio\": (taper_ratio, taper_ratio_units),\n",
    "}\n",
    "outputs_dict = compute_geometry(inputs_dict)\n",
    "\n",
    "# Open viewer\n",
    "oad.variable_viewer(AIRCRAFT_FILE)"
   ]
  },
  {
   "cell_type": "markdown",
   "metadata": {},
   "source": [
    "Let's compare the results of the two ways of using the block analysis"
   ]
  },
  {
   "cell_type": "code",
   "execution_count": 6,
   "metadata": {},
   "outputs": [
    {
     "name": "stdout",
     "output_type": "stream",
     "text": [
      "(array([31.90431232]), 'm**2')\n",
      "(array([31.90431232]), 'm**2')\n"
     ]
    }
   ],
   "source": [
    "outputs_dict_yml = compute_geometry_yml(inputs_dict)\n",
    "\n",
    "# Printing the results\n",
    "print(outputs_dict[\"data:geometry:wing:wet_area\"])\n",
    "print(outputs_dict_yml[\"data:geometry:wing:wet_area\"])"
   ]
  },
  {
   "cell_type": "markdown",
   "metadata": {},
   "source": [
    "From there on, we will only use the ID but the two ways are possible. We will now finish the analysis of the geometry by visualizing the previously generated geometries."
   ]
  },
  {
   "cell_type": "code",
   "execution_count": 8,
   "metadata": {},
   "outputs": [
    {
     "data": {
      "application/vnd.plotly.v1+json": {
       "config": {
        "plotlyServerURL": "https://plot.ly"
       },
       "data": [
        {
         "mode": "lines+markers",
         "name": "Beechcraft 76",
         "showlegend": true,
         "type": "scatter",
         "uid": "1aef231e-27d0-47ba-ae2b-3fb581379fcf",
         "x": [
          0,
          -0.29945,
          -0.5989,
          -0.5989,
          -0.29945,
          0,
          0,
          -0.5989,
          0,
          -5.7616811348772154,
          -5.7616811348772154,
          0,
          -0.5989,
          0,
          0,
          0,
          -1.8172506706560876,
          -1.8172506706560876,
          0,
          0,
          0,
          0.29945,
          0.5989,
          0.5989,
          0.29945,
          0,
          0,
          0.5989,
          0,
          5.7616811348772154,
          5.7616811348772154,
          0,
          0.5989,
          0,
          0,
          0,
          1.8172506706560876,
          1.8172506706560876,
          0,
          0
         ],
         "y": [
          0,
          0,
          1.87292,
          4.7696746536799175,
          8.147863543225034,
          8.147863543225034,
          2.2770376434734234,
          2.2770376434734234,
          2.2770376434734234,
          2.2770376434734234,
          3.7208870695797294,
          3.7208870695797294,
          3.7208870695797294,
          3.7208870695797294,
          2.2770376434734234,
          7.374462727049407,
          7.376676992986828,
          8.323161717286872,
          8.32094745134945,
          7.374462727049407,
          0,
          0,
          1.87292,
          4.7696746536799175,
          8.147863543225034,
          8.147863543225034,
          2.2770376434734234,
          2.2770376434734234,
          2.2770376434734234,
          2.2770376434734234,
          3.7208870695797294,
          3.7208870695797294,
          3.7208870695797294,
          3.7208870695797294,
          2.2770376434734234,
          7.374462727049407,
          7.376676992986828,
          8.323161717286872,
          8.32094745134945,
          7.374462727049407
         ]
        },
        {
         "legendgroup": "Beechcraft 76nacelle",
         "legendgrouptitle": {
          "text": "Beechcraft 76 nacelle + propeller"
         },
         "line": {
          "color": "rgb(227, 119, 194)"
         },
         "mode": "lines+markers",
         "name": "right nacelle",
         "type": "scatter",
         "uid": "59082054-0857-40e3-ae4a-79f744822004",
         "x": [
          -1.494407150401937,
          -1.494407150401937,
          -2.42353602131457,
          -2.42353602131457,
          -2.9239715858582533,
          -0.9939715858582535
         ],
         "y": [
          2.2770376434734234,
          0.627461252334417,
          0.627461252334417,
          2.2770376434734234,
          2.2770376434734234,
          2.2770376434734234
         ]
        },
        {
         "legendgroup": "Beechcraft 76nacelle",
         "line": {
          "color": "rgb(227, 119, 194)"
         },
         "mode": "lines+markers",
         "name": "left nacelle",
         "type": "scatter",
         "uid": "fb1d8e43-8814-44f1-a4be-4b66e0b9b134",
         "x": [
          1.494407150401937,
          1.494407150401937,
          2.42353602131457,
          2.42353602131457,
          2.9239715858582533,
          0.9939715858582535
         ],
         "y": [
          2.2770376434734234,
          0.627461252334417,
          0.627461252334417,
          2.2770376434734234,
          2.2770376434734234,
          2.2770376434734234
         ]
        }
       ],
       "layout": {
        "autosize": true,
        "legend": {
         "x": 0.99,
         "xanchor": "right",
         "y": 0.99,
         "yanchor": "top"
        },
        "template": {
         "data": {
          "bar": [
           {
            "error_x": {
             "color": "#2a3f5f"
            },
            "error_y": {
             "color": "#2a3f5f"
            },
            "marker": {
             "line": {
              "color": "#E5ECF6",
              "width": 0.5
             },
             "pattern": {
              "fillmode": "overlay",
              "size": 10,
              "solidity": 0.2
             }
            },
            "type": "bar"
           }
          ],
          "barpolar": [
           {
            "marker": {
             "line": {
              "color": "#E5ECF6",
              "width": 0.5
             },
             "pattern": {
              "fillmode": "overlay",
              "size": 10,
              "solidity": 0.2
             }
            },
            "type": "barpolar"
           }
          ],
          "carpet": [
           {
            "aaxis": {
             "endlinecolor": "#2a3f5f",
             "gridcolor": "white",
             "linecolor": "white",
             "minorgridcolor": "white",
             "startlinecolor": "#2a3f5f"
            },
            "baxis": {
             "endlinecolor": "#2a3f5f",
             "gridcolor": "white",
             "linecolor": "white",
             "minorgridcolor": "white",
             "startlinecolor": "#2a3f5f"
            },
            "type": "carpet"
           }
          ],
          "choropleth": [
           {
            "colorbar": {
             "outlinewidth": 0,
             "ticks": ""
            },
            "type": "choropleth"
           }
          ],
          "contour": [
           {
            "colorbar": {
             "outlinewidth": 0,
             "ticks": ""
            },
            "colorscale": [
             [
              0,
              "#0d0887"
             ],
             [
              0.1111111111111111,
              "#46039f"
             ],
             [
              0.2222222222222222,
              "#7201a8"
             ],
             [
              0.3333333333333333,
              "#9c179e"
             ],
             [
              0.4444444444444444,
              "#bd3786"
             ],
             [
              0.5555555555555556,
              "#d8576b"
             ],
             [
              0.6666666666666666,
              "#ed7953"
             ],
             [
              0.7777777777777778,
              "#fb9f3a"
             ],
             [
              0.8888888888888888,
              "#fdca26"
             ],
             [
              1,
              "#f0f921"
             ]
            ],
            "type": "contour"
           }
          ],
          "contourcarpet": [
           {
            "colorbar": {
             "outlinewidth": 0,
             "ticks": ""
            },
            "type": "contourcarpet"
           }
          ],
          "heatmap": [
           {
            "colorbar": {
             "outlinewidth": 0,
             "ticks": ""
            },
            "colorscale": [
             [
              0,
              "#0d0887"
             ],
             [
              0.1111111111111111,
              "#46039f"
             ],
             [
              0.2222222222222222,
              "#7201a8"
             ],
             [
              0.3333333333333333,
              "#9c179e"
             ],
             [
              0.4444444444444444,
              "#bd3786"
             ],
             [
              0.5555555555555556,
              "#d8576b"
             ],
             [
              0.6666666666666666,
              "#ed7953"
             ],
             [
              0.7777777777777778,
              "#fb9f3a"
             ],
             [
              0.8888888888888888,
              "#fdca26"
             ],
             [
              1,
              "#f0f921"
             ]
            ],
            "type": "heatmap"
           }
          ],
          "heatmapgl": [
           {
            "colorbar": {
             "outlinewidth": 0,
             "ticks": ""
            },
            "colorscale": [
             [
              0,
              "#0d0887"
             ],
             [
              0.1111111111111111,
              "#46039f"
             ],
             [
              0.2222222222222222,
              "#7201a8"
             ],
             [
              0.3333333333333333,
              "#9c179e"
             ],
             [
              0.4444444444444444,
              "#bd3786"
             ],
             [
              0.5555555555555556,
              "#d8576b"
             ],
             [
              0.6666666666666666,
              "#ed7953"
             ],
             [
              0.7777777777777778,
              "#fb9f3a"
             ],
             [
              0.8888888888888888,
              "#fdca26"
             ],
             [
              1,
              "#f0f921"
             ]
            ],
            "type": "heatmapgl"
           }
          ],
          "histogram": [
           {
            "marker": {
             "pattern": {
              "fillmode": "overlay",
              "size": 10,
              "solidity": 0.2
             }
            },
            "type": "histogram"
           }
          ],
          "histogram2d": [
           {
            "colorbar": {
             "outlinewidth": 0,
             "ticks": ""
            },
            "colorscale": [
             [
              0,
              "#0d0887"
             ],
             [
              0.1111111111111111,
              "#46039f"
             ],
             [
              0.2222222222222222,
              "#7201a8"
             ],
             [
              0.3333333333333333,
              "#9c179e"
             ],
             [
              0.4444444444444444,
              "#bd3786"
             ],
             [
              0.5555555555555556,
              "#d8576b"
             ],
             [
              0.6666666666666666,
              "#ed7953"
             ],
             [
              0.7777777777777778,
              "#fb9f3a"
             ],
             [
              0.8888888888888888,
              "#fdca26"
             ],
             [
              1,
              "#f0f921"
             ]
            ],
            "type": "histogram2d"
           }
          ],
          "histogram2dcontour": [
           {
            "colorbar": {
             "outlinewidth": 0,
             "ticks": ""
            },
            "colorscale": [
             [
              0,
              "#0d0887"
             ],
             [
              0.1111111111111111,
              "#46039f"
             ],
             [
              0.2222222222222222,
              "#7201a8"
             ],
             [
              0.3333333333333333,
              "#9c179e"
             ],
             [
              0.4444444444444444,
              "#bd3786"
             ],
             [
              0.5555555555555556,
              "#d8576b"
             ],
             [
              0.6666666666666666,
              "#ed7953"
             ],
             [
              0.7777777777777778,
              "#fb9f3a"
             ],
             [
              0.8888888888888888,
              "#fdca26"
             ],
             [
              1,
              "#f0f921"
             ]
            ],
            "type": "histogram2dcontour"
           }
          ],
          "mesh3d": [
           {
            "colorbar": {
             "outlinewidth": 0,
             "ticks": ""
            },
            "type": "mesh3d"
           }
          ],
          "parcoords": [
           {
            "line": {
             "colorbar": {
              "outlinewidth": 0,
              "ticks": ""
             }
            },
            "type": "parcoords"
           }
          ],
          "pie": [
           {
            "automargin": true,
            "type": "pie"
           }
          ],
          "scatter": [
           {
            "fillpattern": {
             "fillmode": "overlay",
             "size": 10,
             "solidity": 0.2
            },
            "type": "scatter"
           }
          ],
          "scatter3d": [
           {
            "line": {
             "colorbar": {
              "outlinewidth": 0,
              "ticks": ""
             }
            },
            "marker": {
             "colorbar": {
              "outlinewidth": 0,
              "ticks": ""
             }
            },
            "type": "scatter3d"
           }
          ],
          "scattercarpet": [
           {
            "marker": {
             "colorbar": {
              "outlinewidth": 0,
              "ticks": ""
             }
            },
            "type": "scattercarpet"
           }
          ],
          "scattergeo": [
           {
            "marker": {
             "colorbar": {
              "outlinewidth": 0,
              "ticks": ""
             }
            },
            "type": "scattergeo"
           }
          ],
          "scattergl": [
           {
            "marker": {
             "colorbar": {
              "outlinewidth": 0,
              "ticks": ""
             }
            },
            "type": "scattergl"
           }
          ],
          "scattermapbox": [
           {
            "marker": {
             "colorbar": {
              "outlinewidth": 0,
              "ticks": ""
             }
            },
            "type": "scattermapbox"
           }
          ],
          "scatterpolar": [
           {
            "marker": {
             "colorbar": {
              "outlinewidth": 0,
              "ticks": ""
             }
            },
            "type": "scatterpolar"
           }
          ],
          "scatterpolargl": [
           {
            "marker": {
             "colorbar": {
              "outlinewidth": 0,
              "ticks": ""
             }
            },
            "type": "scatterpolargl"
           }
          ],
          "scatterternary": [
           {
            "marker": {
             "colorbar": {
              "outlinewidth": 0,
              "ticks": ""
             }
            },
            "type": "scatterternary"
           }
          ],
          "surface": [
           {
            "colorbar": {
             "outlinewidth": 0,
             "ticks": ""
            },
            "colorscale": [
             [
              0,
              "#0d0887"
             ],
             [
              0.1111111111111111,
              "#46039f"
             ],
             [
              0.2222222222222222,
              "#7201a8"
             ],
             [
              0.3333333333333333,
              "#9c179e"
             ],
             [
              0.4444444444444444,
              "#bd3786"
             ],
             [
              0.5555555555555556,
              "#d8576b"
             ],
             [
              0.6666666666666666,
              "#ed7953"
             ],
             [
              0.7777777777777778,
              "#fb9f3a"
             ],
             [
              0.8888888888888888,
              "#fdca26"
             ],
             [
              1,
              "#f0f921"
             ]
            ],
            "type": "surface"
           }
          ],
          "table": [
           {
            "cells": {
             "fill": {
              "color": "#EBF0F8"
             },
             "line": {
              "color": "white"
             }
            },
            "header": {
             "fill": {
              "color": "#C8D4E3"
             },
             "line": {
              "color": "white"
             }
            },
            "type": "table"
           }
          ]
         },
         "layout": {
          "annotationdefaults": {
           "arrowcolor": "#2a3f5f",
           "arrowhead": 0,
           "arrowwidth": 1
          },
          "autotypenumbers": "strict",
          "coloraxis": {
           "colorbar": {
            "outlinewidth": 0,
            "ticks": ""
           }
          },
          "colorscale": {
           "diverging": [
            [
             0,
             "#8e0152"
            ],
            [
             0.1,
             "#c51b7d"
            ],
            [
             0.2,
             "#de77ae"
            ],
            [
             0.3,
             "#f1b6da"
            ],
            [
             0.4,
             "#fde0ef"
            ],
            [
             0.5,
             "#f7f7f7"
            ],
            [
             0.6,
             "#e6f5d0"
            ],
            [
             0.7,
             "#b8e186"
            ],
            [
             0.8,
             "#7fbc41"
            ],
            [
             0.9,
             "#4d9221"
            ],
            [
             1,
             "#276419"
            ]
           ],
           "sequential": [
            [
             0,
             "#0d0887"
            ],
            [
             0.1111111111111111,
             "#46039f"
            ],
            [
             0.2222222222222222,
             "#7201a8"
            ],
            [
             0.3333333333333333,
             "#9c179e"
            ],
            [
             0.4444444444444444,
             "#bd3786"
            ],
            [
             0.5555555555555556,
             "#d8576b"
            ],
            [
             0.6666666666666666,
             "#ed7953"
            ],
            [
             0.7777777777777778,
             "#fb9f3a"
            ],
            [
             0.8888888888888888,
             "#fdca26"
            ],
            [
             1,
             "#f0f921"
            ]
           ],
           "sequentialminus": [
            [
             0,
             "#0d0887"
            ],
            [
             0.1111111111111111,
             "#46039f"
            ],
            [
             0.2222222222222222,
             "#7201a8"
            ],
            [
             0.3333333333333333,
             "#9c179e"
            ],
            [
             0.4444444444444444,
             "#bd3786"
            ],
            [
             0.5555555555555556,
             "#d8576b"
            ],
            [
             0.6666666666666666,
             "#ed7953"
            ],
            [
             0.7777777777777778,
             "#fb9f3a"
            ],
            [
             0.8888888888888888,
             "#fdca26"
            ],
            [
             1,
             "#f0f921"
            ]
           ]
          },
          "colorway": [
           "#636efa",
           "#EF553B",
           "#00cc96",
           "#ab63fa",
           "#FFA15A",
           "#19d3f3",
           "#FF6692",
           "#B6E880",
           "#FF97FF",
           "#FECB52"
          ],
          "font": {
           "color": "#2a3f5f"
          },
          "geo": {
           "bgcolor": "white",
           "lakecolor": "white",
           "landcolor": "#E5ECF6",
           "showlakes": true,
           "showland": true,
           "subunitcolor": "white"
          },
          "hoverlabel": {
           "align": "left"
          },
          "hovermode": "closest",
          "mapbox": {
           "style": "light"
          },
          "paper_bgcolor": "white",
          "plot_bgcolor": "#E5ECF6",
          "polar": {
           "angularaxis": {
            "gridcolor": "white",
            "linecolor": "white",
            "ticks": ""
           },
           "bgcolor": "#E5ECF6",
           "radialaxis": {
            "gridcolor": "white",
            "linecolor": "white",
            "ticks": ""
           }
          },
          "scene": {
           "xaxis": {
            "backgroundcolor": "#E5ECF6",
            "gridcolor": "white",
            "gridwidth": 2,
            "linecolor": "white",
            "showbackground": true,
            "ticks": "",
            "zerolinecolor": "white"
           },
           "yaxis": {
            "backgroundcolor": "#E5ECF6",
            "gridcolor": "white",
            "gridwidth": 2,
            "linecolor": "white",
            "showbackground": true,
            "ticks": "",
            "zerolinecolor": "white"
           },
           "zaxis": {
            "backgroundcolor": "#E5ECF6",
            "gridcolor": "white",
            "gridwidth": 2,
            "linecolor": "white",
            "showbackground": true,
            "ticks": "",
            "zerolinecolor": "white"
           }
          },
          "shapedefaults": {
           "line": {
            "color": "#2a3f5f"
           }
          },
          "ternary": {
           "aaxis": {
            "gridcolor": "white",
            "linecolor": "white",
            "ticks": ""
           },
           "baxis": {
            "gridcolor": "white",
            "linecolor": "white",
            "ticks": ""
           },
           "bgcolor": "#E5ECF6",
           "caxis": {
            "gridcolor": "white",
            "linecolor": "white",
            "ticks": ""
           }
          },
          "title": {
           "x": 0.05
          },
          "xaxis": {
           "automargin": true,
           "gridcolor": "white",
           "linecolor": "white",
           "ticks": "",
           "title": {
            "standoff": 15
           },
           "zerolinecolor": "white",
           "zerolinewidth": 2
          },
          "yaxis": {
           "automargin": true,
           "gridcolor": "white",
           "linecolor": "white",
           "ticks": "",
           "title": {
            "standoff": 15
           },
           "zerolinecolor": "white",
           "zerolinewidth": 2
          }
         }
        },
        "title": {
         "text": "Aircraft Geometry",
         "x": 0.5
        },
        "xaxis": {
         "autorange": true,
         "domain": [
          0,
          1
         ],
         "range": [
          -20.552014208057876,
          20.552014208057876
         ],
         "title": {
          "text": "y"
         },
         "type": "linear"
        },
        "yaxis": {
         "autorange": true,
         "domain": [
          0,
          1
         ],
         "range": [
          -0.6868628601644506,
          9.010024577451324
         ],
         "scaleanchor": "x",
         "scaleratio": 1,
         "title": {
          "text": "x"
         },
         "type": "linear"
        }
       }
      },
      "image/png": "[encoded data removed]",
      "text/html": [
       "<div>                            <div id=\"c48dbf92-4f74-4a5e-a2c8-5c96a990d1b1\" class=\"plotly-graph-div\" style=\"height:525px; width:100%;\"></div>            <script type=\"text/javascript\">                require([\"plotly\"], function(Plotly) {                    window.PLOTLYENV=window.PLOTLYENV || {};                                    if (document.getElementById(\"c48dbf92-4f74-4a5e-a2c8-5c96a990d1b1\")) {                    Plotly.newPlot(                        \"c48dbf92-4f74-4a5e-a2c8-5c96a990d1b1\",                        [{\"mode\":\"lines+markers\",\"name\":\"Beechcraft 76\",\"showlegend\":true,\"x\":[-0.0,-0.29945,-0.5989,-0.5989,-0.29945,-0.0,-0.0,-0.5989,-0.0,-5.7616811348772154,-5.7616811348772154,-0.0,-0.5989,-0.0,-0.0,-0.0,-1.8172506706560876,-1.8172506706560876,-0.0,-0.0,0.0,0.29945,0.5989,0.5989,0.29945,0.0,0.0,0.5989,0.0,5.7616811348772154,5.7616811348772154,0.0,0.5989,0.0,0.0,0.0,1.8172506706560876,1.8172506706560876,0.0,0.0],\"y\":[0.0,0.0,1.87292,4.7696746536799175,8.147863543225034,8.147863543225034,2.2770376434734234,2.2770376434734234,2.2770376434734234,2.2770376434734234,3.7208870695797294,3.7208870695797294,3.7208870695797294,3.7208870695797294,2.2770376434734234,7.374462727049407,7.376676992986828,8.323161717286872,8.32094745134945,7.374462727049407,0.0,0.0,1.87292,4.7696746536799175,8.147863543225034,8.147863543225034,2.2770376434734234,2.2770376434734234,2.2770376434734234,2.2770376434734234,3.7208870695797294,3.7208870695797294,3.7208870695797294,3.7208870695797294,2.2770376434734234,7.374462727049407,7.376676992986828,8.323161717286872,8.32094745134945,7.374462727049407],\"type\":\"scatter\",\"uid\":\"1aef231e-27d0-47ba-ae2b-3fb581379fcf\"},{\"legendgroup\":\"Beechcraft 76nacelle\",\"legendgrouptitle\":{\"text\":\"Beechcraft 76 nacelle + propeller\"},\"line\":{\"color\":\"rgb(227, 119, 194)\"},\"mode\":\"lines+markers\",\"name\":\"right nacelle\",\"x\":[-1.494407150401937,-1.494407150401937,-2.42353602131457,-2.42353602131457,-2.9239715858582533,-0.9939715858582535],\"y\":[2.2770376434734234,0.627461252334417,0.627461252334417,2.2770376434734234,2.2770376434734234,2.2770376434734234],\"type\":\"scatter\",\"uid\":\"59082054-0857-40e3-ae4a-79f744822004\"},{\"legendgroup\":\"Beechcraft 76nacelle\",\"line\":{\"color\":\"rgb(227, 119, 194)\"},\"mode\":\"lines+markers\",\"name\":\"left nacelle\",\"x\":[1.494407150401937,1.494407150401937,2.42353602131457,2.42353602131457,2.9239715858582533,0.9939715858582535],\"y\":[2.2770376434734234,0.627461252334417,0.627461252334417,2.2770376434734234,2.2770376434734234,2.2770376434734234],\"type\":\"scatter\",\"uid\":\"fb1d8e43-8814-44f1-a4be-4b66e0b9b134\"}],                        {\"template\":{\"data\":{\"barpolar\":[{\"marker\":{\"line\":{\"color\":\"#E5ECF6\",\"width\":0.5},\"pattern\":{\"fillmode\":\"overlay\",\"size\":10,\"solidity\":0.2}},\"type\":\"barpolar\"}],\"bar\":[{\"error_x\":{\"color\":\"#2a3f5f\"},\"error_y\":{\"color\":\"#2a3f5f\"},\"marker\":{\"line\":{\"color\":\"#E5ECF6\",\"width\":0.5},\"pattern\":{\"fillmode\":\"overlay\",\"size\":10,\"solidity\":0.2}},\"type\":\"bar\"}],\"carpet\":[{\"aaxis\":{\"endlinecolor\":\"#2a3f5f\",\"gridcolor\":\"white\",\"linecolor\":\"white\",\"minorgridcolor\":\"white\",\"startlinecolor\":\"#2a3f5f\"},\"baxis\":{\"endlinecolor\":\"#2a3f5f\",\"gridcolor\":\"white\",\"linecolor\":\"white\",\"minorgridcolor\":\"white\",\"startlinecolor\":\"#2a3f5f\"},\"type\":\"carpet\"}],\"choropleth\":[{\"colorbar\":{\"outlinewidth\":0,\"ticks\":\"\"},\"type\":\"choropleth\"}],\"contourcarpet\":[{\"colorbar\":{\"outlinewidth\":0,\"ticks\":\"\"},\"type\":\"contourcarpet\"}],\"contour\":[{\"colorbar\":{\"outlinewidth\":0,\"ticks\":\"\"},\"colorscale\":[[0.0,\"#0d0887\"],[0.1111111111111111,\"#46039f\"],[0.2222222222222222,\"#7201a8\"],[0.3333333333333333,\"#9c179e\"],[0.4444444444444444,\"#bd3786\"],[0.5555555555555556,\"#d8576b\"],[0.6666666666666666,\"#ed7953\"],[0.7777777777777778,\"#fb9f3a\"],[0.8888888888888888,\"#fdca26\"],[1.0,\"#f0f921\"]],\"type\":\"contour\"}],\"heatmapgl\":[{\"colorbar\":{\"outlinewidth\":0,\"ticks\":\"\"},\"colorscale\":[[0.0,\"#0d0887\"],[0.1111111111111111,\"#46039f\"],[0.2222222222222222,\"#7201a8\"],[0.3333333333333333,\"#9c179e\"],[0.4444444444444444,\"#bd3786\"],[0.5555555555555556,\"#d8576b\"],[0.6666666666666666,\"#ed7953\"],[0.7777777777777778,\"#fb9f3a\"],[0.8888888888888888,\"#fdca26\"],[1.0,\"#f0f921\"]],\"type\":\"heatmapgl\"}],\"heatmap\":[{\"colorbar\":{\"outlinewidth\":0,\"ticks\":\"\"},\"colorscale\":[[0.0,\"#0d0887\"],[0.1111111111111111,\"#46039f\"],[0.2222222222222222,\"#7201a8\"],[0.3333333333333333,\"#9c179e\"],[0.4444444444444444,\"#bd3786\"],[0.5555555555555556,\"#d8576b\"],[0.6666666666666666,\"#ed7953\"],[0.7777777777777778,\"#fb9f3a\"],[0.8888888888888888,\"#fdca26\"],[1.0,\"#f0f921\"]],\"type\":\"heatmap\"}],\"histogram2dcontour\":[{\"colorbar\":{\"outlinewidth\":0,\"ticks\":\"\"},\"colorscale\":[[0.0,\"#0d0887\"],[0.1111111111111111,\"#46039f\"],[0.2222222222222222,\"#7201a8\"],[0.3333333333333333,\"#9c179e\"],[0.4444444444444444,\"#bd3786\"],[0.5555555555555556,\"#d8576b\"],[0.6666666666666666,\"#ed7953\"],[0.7777777777777778,\"#fb9f3a\"],[0.8888888888888888,\"#fdca26\"],[1.0,\"#f0f921\"]],\"type\":\"histogram2dcontour\"}],\"histogram2d\":[{\"colorbar\":{\"outlinewidth\":0,\"ticks\":\"\"},\"colorscale\":[[0.0,\"#0d0887\"],[0.1111111111111111,\"#46039f\"],[0.2222222222222222,\"#7201a8\"],[0.3333333333333333,\"#9c179e\"],[0.4444444444444444,\"#bd3786\"],[0.5555555555555556,\"#d8576b\"],[0.6666666666666666,\"#ed7953\"],[0.7777777777777778,\"#fb9f3a\"],[0.8888888888888888,\"#fdca26\"],[1.0,\"#f0f921\"]],\"type\":\"histogram2d\"}],\"histogram\":[{\"marker\":{\"pattern\":{\"fillmode\":\"overlay\",\"size\":10,\"solidity\":0.2}},\"type\":\"histogram\"}],\"mesh3d\":[{\"colorbar\":{\"outlinewidth\":0,\"ticks\":\"\"},\"type\":\"mesh3d\"}],\"parcoords\":[{\"line\":{\"colorbar\":{\"outlinewidth\":0,\"ticks\":\"\"}},\"type\":\"parcoords\"}],\"pie\":[{\"automargin\":true,\"type\":\"pie\"}],\"scatter3d\":[{\"line\":{\"colorbar\":{\"outlinewidth\":0,\"ticks\":\"\"}},\"marker\":{\"colorbar\":{\"outlinewidth\":0,\"ticks\":\"\"}},\"type\":\"scatter3d\"}],\"scattercarpet\":[{\"marker\":{\"colorbar\":{\"outlinewidth\":0,\"ticks\":\"\"}},\"type\":\"scattercarpet\"}],\"scattergeo\":[{\"marker\":{\"colorbar\":{\"outlinewidth\":0,\"ticks\":\"\"}},\"type\":\"scattergeo\"}],\"scattergl\":[{\"marker\":{\"colorbar\":{\"outlinewidth\":0,\"ticks\":\"\"}},\"type\":\"scattergl\"}],\"scattermapbox\":[{\"marker\":{\"colorbar\":{\"outlinewidth\":0,\"ticks\":\"\"}},\"type\":\"scattermapbox\"}],\"scatterpolargl\":[{\"marker\":{\"colorbar\":{\"outlinewidth\":0,\"ticks\":\"\"}},\"type\":\"scatterpolargl\"}],\"scatterpolar\":[{\"marker\":{\"colorbar\":{\"outlinewidth\":0,\"ticks\":\"\"}},\"type\":\"scatterpolar\"}],\"scatter\":[{\"fillpattern\":{\"fillmode\":\"overlay\",\"size\":10,\"solidity\":0.2},\"type\":\"scatter\"}],\"scatterternary\":[{\"marker\":{\"colorbar\":{\"outlinewidth\":0,\"ticks\":\"\"}},\"type\":\"scatterternary\"}],\"surface\":[{\"colorbar\":{\"outlinewidth\":0,\"ticks\":\"\"},\"colorscale\":[[0.0,\"#0d0887\"],[0.1111111111111111,\"#46039f\"],[0.2222222222222222,\"#7201a8\"],[0.3333333333333333,\"#9c179e\"],[0.4444444444444444,\"#bd3786\"],[0.5555555555555556,\"#d8576b\"],[0.6666666666666666,\"#ed7953\"],[0.7777777777777778,\"#fb9f3a\"],[0.8888888888888888,\"#fdca26\"],[1.0,\"#f0f921\"]],\"type\":\"surface\"}],\"table\":[{\"cells\":{\"fill\":{\"color\":\"#EBF0F8\"},\"line\":{\"color\":\"white\"}},\"header\":{\"fill\":{\"color\":\"#C8D4E3\"},\"line\":{\"color\":\"white\"}},\"type\":\"table\"}]},\"layout\":{\"annotationdefaults\":{\"arrowcolor\":\"#2a3f5f\",\"arrowhead\":0,\"arrowwidth\":1},\"autotypenumbers\":\"strict\",\"coloraxis\":{\"colorbar\":{\"outlinewidth\":0,\"ticks\":\"\"}},\"colorscale\":{\"diverging\":[[0,\"#8e0152\"],[0.1,\"#c51b7d\"],[0.2,\"#de77ae\"],[0.3,\"#f1b6da\"],[0.4,\"#fde0ef\"],[0.5,\"#f7f7f7\"],[0.6,\"#e6f5d0\"],[0.7,\"#b8e186\"],[0.8,\"#7fbc41\"],[0.9,\"#4d9221\"],[1,\"#276419\"]],\"sequential\":[[0.0,\"#0d0887\"],[0.1111111111111111,\"#46039f\"],[0.2222222222222222,\"#7201a8\"],[0.3333333333333333,\"#9c179e\"],[0.4444444444444444,\"#bd3786\"],[0.5555555555555556,\"#d8576b\"],[0.6666666666666666,\"#ed7953\"],[0.7777777777777778,\"#fb9f3a\"],[0.8888888888888888,\"#fdca26\"],[1.0,\"#f0f921\"]],\"sequentialminus\":[[0.0,\"#0d0887\"],[0.1111111111111111,\"#46039f\"],[0.2222222222222222,\"#7201a8\"],[0.3333333333333333,\"#9c179e\"],[0.4444444444444444,\"#bd3786\"],[0.5555555555555556,\"#d8576b\"],[0.6666666666666666,\"#ed7953\"],[0.7777777777777778,\"#fb9f3a\"],[0.8888888888888888,\"#fdca26\"],[1.0,\"#f0f921\"]]},\"colorway\":[\"#636efa\",\"#EF553B\",\"#00cc96\",\"#ab63fa\",\"#FFA15A\",\"#19d3f3\",\"#FF6692\",\"#B6E880\",\"#FF97FF\",\"#FECB52\"],\"font\":{\"color\":\"#2a3f5f\"},\"geo\":{\"bgcolor\":\"white\",\"lakecolor\":\"white\",\"landcolor\":\"#E5ECF6\",\"showlakes\":true,\"showland\":true,\"subunitcolor\":\"white\"},\"hoverlabel\":{\"align\":\"left\"},\"hovermode\":\"closest\",\"mapbox\":{\"style\":\"light\"},\"paper_bgcolor\":\"white\",\"plot_bgcolor\":\"#E5ECF6\",\"polar\":{\"angularaxis\":{\"gridcolor\":\"white\",\"linecolor\":\"white\",\"ticks\":\"\"},\"bgcolor\":\"#E5ECF6\",\"radialaxis\":{\"gridcolor\":\"white\",\"linecolor\":\"white\",\"ticks\":\"\"}},\"scene\":{\"xaxis\":{\"backgroundcolor\":\"#E5ECF6\",\"gridcolor\":\"white\",\"gridwidth\":2,\"linecolor\":\"white\",\"showbackground\":true,\"ticks\":\"\",\"zerolinecolor\":\"white\"},\"yaxis\":{\"backgroundcolor\":\"#E5ECF6\",\"gridcolor\":\"white\",\"gridwidth\":2,\"linecolor\":\"white\",\"showbackground\":true,\"ticks\":\"\",\"zerolinecolor\":\"white\"},\"zaxis\":{\"backgroundcolor\":\"#E5ECF6\",\"gridcolor\":\"white\",\"gridwidth\":2,\"linecolor\":\"white\",\"showbackground\":true,\"ticks\":\"\",\"zerolinecolor\":\"white\"}},\"shapedefaults\":{\"line\":{\"color\":\"#2a3f5f\"}},\"ternary\":{\"aaxis\":{\"gridcolor\":\"white\",\"linecolor\":\"white\",\"ticks\":\"\"},\"baxis\":{\"gridcolor\":\"white\",\"linecolor\":\"white\",\"ticks\":\"\"},\"bgcolor\":\"#E5ECF6\",\"caxis\":{\"gridcolor\":\"white\",\"linecolor\":\"white\",\"ticks\":\"\"}},\"title\":{\"x\":0.05},\"xaxis\":{\"automargin\":true,\"gridcolor\":\"white\",\"linecolor\":\"white\",\"ticks\":\"\",\"title\":{\"standoff\":15},\"zerolinecolor\":\"white\",\"zerolinewidth\":2},\"yaxis\":{\"automargin\":true,\"gridcolor\":\"white\",\"linecolor\":\"white\",\"ticks\":\"\",\"title\":{\"standoff\":15},\"zerolinecolor\":\"white\",\"zerolinewidth\":2}}},\"yaxis\":{\"scaleanchor\":\"x\",\"scaleratio\":1,\"title\":{\"text\":\"x\"}},\"title\":{\"text\":\"Aircraft Geometry\",\"x\":0.5},\"legend\":{\"yanchor\":\"top\",\"y\":0.99,\"xanchor\":\"right\",\"x\":0.99},\"xaxis\":{\"title\":{\"text\":\"y\"}}},                        {\"responsive\": true}                    ).then(function(){\n",
       "                            \n",
       "var gd = document.getElementById('c48dbf92-4f74-4a5e-a2c8-5c96a990d1b1');\n",
       "var x = new MutationObserver(function (mutations, observer) {{\n",
       "        var display = window.getComputedStyle(gd).display;\n",
       "        if (!display || display === 'none') {{\n",
       "            console.log([gd, 'removed!']);\n",
       "            Plotly.purge(gd);\n",
       "            observer.disconnect();\n",
       "        }}\n",
       "}});\n",
       "\n",
       "// Listen for the removal of the full notebook cells\n",
       "var notebookContainer = gd.closest('#notebook-container');\n",
       "if (notebookContainer) {{\n",
       "    x.observe(notebookContainer, {childList: true});\n",
       "}}\n",
       "\n",
       "// Listen for the clearing of the current output cell\n",
       "var outputEl = gd.closest('.output');\n",
       "if (outputEl) {{\n",
       "    x.observe(outputEl, {childList: true});\n",
       "}}\n",
       "\n",
       "                        })                };                });            </script>        </div>"
      ]
     },
     "metadata": {},
     "output_type": "display_data"
    }
   ],
   "source": [
    "fig = api_plots.aircraft_geometry_plot(\n",
    "    pth.join(WORK_FOLDER_PATH, \"beechcraft_76_loads.xml\"), name=\"Beechcraft 76\"\n",
    ")\n",
    "fig.show()"
   ]
  },
  {
   "cell_type": "markdown",
   "metadata": {},
   "source": [
    "## 2. Performing aerodynamic analysis\n",
    "In this chapter we will see how to perform an aerodynamics analysis on the aircraft.\n",
    "\n",
    "To do so, we will launch the aerodynamic coefficients computation using the same technique as previously mentionned on geometry."
   ]
  },
  {
   "cell_type": "code",
   "execution_count": 9,
   "metadata": {},
   "outputs": [
    {
     "name": "stdout",
     "output_type": "stream",
     "text": [
      "2 Explicit Output(s) in 'system.aero_high.mach_interpolation_roskam.incompressible_conditions'\n",
      "\n",
      "varname   val      \n",
      "--------  ---------\n",
      "mach      [0.05]   \n",
      "reynolds  [500000.]\n",
      "\n",
      "\n",
      "0 Implicit Output(s) in 'system.aero_high.mach_interpolation_roskam.incompressible_conditions'\n",
      "\n",
      "\n"
     ]
    }
   ],
   "source": [
    "# Define the option of the geometry module you want to use\n",
    "# The openvsp_exe_path option might need to be deleted if the user doesn't have writing access\n",
    "option_dict = {\n",
    "    \"propulsion_id\": \"fastga.wrapper.propulsion.basicIC_engine\",\n",
    "    \"use_openvsp\": True,\n",
    "    \"openvsp_exe_path\": WORK_FOLDER_PATH,\n",
    "    \"compute_mach_interpolation\": False,\n",
    "    \"compute_slipstream_cruise\": True,\n",
    "}\n",
    "\n",
    "# Declare function on 1st geometry file\n",
    "compute_aero = api_cs23.generate_block_analysis(\n",
    "    \"fastga.aerodynamics.legacy\",\n",
    "    [],\n",
    "    str(AIRCRAFT_FILE),\n",
    "    options=option_dict,\n",
    "    overwrite=True,\n",
    ")"
   ]
  },
  {
   "cell_type": "code",
   "execution_count": 10,
   "metadata": {},
   "outputs": [
    {
     "name": "stderr",
     "output_type": "stream",
     "text": [
      "Chord ratio value outside of the range in Roskam's book, value clipped\n",
      "Chord ratio value outside of the range in Roskam's book, value clipped\n"
     ]
    },
    {
     "data": {
      "application/vnd.jupyter.widget-view+json": {
       "model_id": "7c6e9294986d45619caf8ad25603606a",
       "version_major": 2,
       "version_minor": 0
      },
      "text/plain": [
       "VBox(children=(HBox(children=(Button(description='Load', icon='upload', style=ButtonStyle(), tooltip='Load the…"
      ]
     },
     "metadata": {},
     "output_type": "display_data"
    }
   ],
   "source": [
    "# Compute both aircraft designs\n",
    "result1 = compute_aero({})\n",
    "\n",
    "# Open viewer\n",
    "oad.variable_viewer(AIRCRAFT_FILE)"
   ]
  },
  {
   "cell_type": "code",
   "execution_count": 11,
   "metadata": {},
   "outputs": [
    {
     "data": {
      "application/vnd.plotly.v1+json": {
       "config": {
        "plotlyServerURL": "https://plot.ly"
       },
       "data": [
        {
         "name": "Beechcraft 76 propeller OFF",
         "type": "scatter",
         "uid": "2d7705a5-75cf-4d80-9ad3-367b3bfccf4b",
         "x": [
          0.04278,
          0.12834,
          0.21389,
          0.29945,
          0.38501,
          0.47056,
          0.55612,
          0.67982,
          0.84215,
          1.00539,
          1.16945,
          1.33423,
          1.49963,
          1.66555,
          1.83189,
          1.99856,
          2.16543,
          2.33242,
          2.49941,
          2.66631,
          2.83301,
          2.9994,
          3.16539,
          3.33086,
          3.49573,
          3.65989,
          3.82325,
          3.9857,
          4.14716,
          4.30754,
          4.46675,
          4.6247,
          4.78131,
          4.9365,
          5.09019,
          5.24232,
          5.39281,
          5.54159,
          5.68861,
          5.7616811348772154
         ],
         "y": [
          1.69088,
          1.68735,
          1.6859,
          1.68442,
          1.68292,
          1.67996,
          1.6834,
          1.67185,
          1.66483,
          1.66927,
          1.67185,
          1.66859,
          1.65755,
          1.65258,
          1.65311,
          1.64731,
          1.63451,
          1.62553,
          1.61441,
          1.60349,
          1.58681,
          1.57341,
          1.55693,
          1.54125,
          1.51622,
          1.49578,
          1.46853,
          1.4436,
          1.40848,
          1.37812,
          1.33812,
          1.29866,
          1.24508,
          1.19351,
          1.119,
          1.04039,
          0.93517,
          0.80163,
          0.76583,
          0
         ]
        },
        {
         "name": "Beechcraft 76 propeller ON",
         "type": "scatter",
         "uid": "453c739a-0657-40f6-a7d0-cd4a5caeb3c4",
         "x": [
          0.04278,
          0.12834,
          0.21389,
          0.29945,
          0.38501,
          0.47056,
          0.55612,
          0.67982,
          0.84215,
          1.00539,
          1.16945,
          1.33423,
          1.49963,
          1.66555,
          1.83189,
          1.99856,
          2.16543,
          2.33242,
          2.49941,
          2.66631,
          2.83301,
          2.9994,
          3.16539,
          3.33086,
          3.49573,
          3.65989,
          3.82325,
          3.9857,
          4.14716,
          4.30754,
          4.46675,
          4.6247,
          4.78131,
          4.9365,
          5.09019,
          5.24232,
          5.39281,
          5.54159,
          5.68861,
          5.7616811348772154
         ],
         "y": [
          1.70186,
          1.68785,
          1.68664,
          1.68548,
          1.68458,
          1.6822,
          1.6863,
          1.67538,
          1.66959,
          1.67577,
          1.69782,
          1.72129,
          1.7289,
          1.74197,
          1.73414,
          1.67712,
          1.65074,
          1.64093,
          1.62465,
          1.59961,
          1.57082,
          1.56127,
          1.54775,
          1.53389,
          1.51013,
          1.49055,
          1.46383,
          1.43915,
          1.40429,
          1.37424,
          1.33468,
          1.29563,
          1.24267,
          1.19154,
          1.11745,
          1.03919,
          0.93443,
          0.80123,
          0.76633,
          0
         ]
        }
       ],
       "layout": {
        "autosize": true,
        "legend": {
         "x": 0.99,
         "xanchor": "right",
         "y": 0.99,
         "yanchor": "top"
        },
        "template": {
         "data": {
          "bar": [
           {
            "error_x": {
             "color": "#2a3f5f"
            },
            "error_y": {
             "color": "#2a3f5f"
            },
            "marker": {
             "line": {
              "color": "#E5ECF6",
              "width": 0.5
             },
             "pattern": {
              "fillmode": "overlay",
              "size": 10,
              "solidity": 0.2
             }
            },
            "type": "bar"
           }
          ],
          "barpolar": [
           {
            "marker": {
             "line": {
              "color": "#E5ECF6",
              "width": 0.5
             },
             "pattern": {
              "fillmode": "overlay",
              "size": 10,
              "solidity": 0.2
             }
            },
            "type": "barpolar"
           }
          ],
          "carpet": [
           {
            "aaxis": {
             "endlinecolor": "#2a3f5f",
             "gridcolor": "white",
             "linecolor": "white",
             "minorgridcolor": "white",
             "startlinecolor": "#2a3f5f"
            },
            "baxis": {
             "endlinecolor": "#2a3f5f",
             "gridcolor": "white",
             "linecolor": "white",
             "minorgridcolor": "white",
             "startlinecolor": "#2a3f5f"
            },
            "type": "carpet"
           }
          ],
          "choropleth": [
           {
            "colorbar": {
             "outlinewidth": 0,
             "ticks": ""
            },
            "type": "choropleth"
           }
          ],
          "contour": [
           {
            "colorbar": {
             "outlinewidth": 0,
             "ticks": ""
            },
            "colorscale": [
             [
              0,
              "#0d0887"
             ],
             [
              0.1111111111111111,
              "#46039f"
             ],
             [
              0.2222222222222222,
              "#7201a8"
             ],
             [
              0.3333333333333333,
              "#9c179e"
             ],
             [
              0.4444444444444444,
              "#bd3786"
             ],
             [
              0.5555555555555556,
              "#d8576b"
             ],
             [
              0.6666666666666666,
              "#ed7953"
             ],
             [
              0.7777777777777778,
              "#fb9f3a"
             ],
             [
              0.8888888888888888,
              "#fdca26"
             ],
             [
              1,
              "#f0f921"
             ]
            ],
            "type": "contour"
           }
          ],
          "contourcarpet": [
           {
            "colorbar": {
             "outlinewidth": 0,
             "ticks": ""
            },
            "type": "contourcarpet"
           }
          ],
          "heatmap": [
           {
            "colorbar": {
             "outlinewidth": 0,
             "ticks": ""
            },
            "colorscale": [
             [
              0,
              "#0d0887"
             ],
             [
              0.1111111111111111,
              "#46039f"
             ],
             [
              0.2222222222222222,
              "#7201a8"
             ],
             [
              0.3333333333333333,
              "#9c179e"
             ],
             [
              0.4444444444444444,
              "#bd3786"
             ],
             [
              0.5555555555555556,
              "#d8576b"
             ],
             [
              0.6666666666666666,
              "#ed7953"
             ],
             [
              0.7777777777777778,
              "#fb9f3a"
             ],
             [
              0.8888888888888888,
              "#fdca26"
             ],
             [
              1,
              "#f0f921"
             ]
            ],
            "type": "heatmap"
           }
          ],
          "heatmapgl": [
           {
            "colorbar": {
             "outlinewidth": 0,
             "ticks": ""
            },
            "colorscale": [
             [
              0,
              "#0d0887"
             ],
             [
              0.1111111111111111,
              "#46039f"
             ],
             [
              0.2222222222222222,
              "#7201a8"
             ],
             [
              0.3333333333333333,
              "#9c179e"
             ],
             [
              0.4444444444444444,
              "#bd3786"
             ],
             [
              0.5555555555555556,
              "#d8576b"
             ],
             [
              0.6666666666666666,
              "#ed7953"
             ],
             [
              0.7777777777777778,
              "#fb9f3a"
             ],
             [
              0.8888888888888888,
              "#fdca26"
             ],
             [
              1,
              "#f0f921"
             ]
            ],
            "type": "heatmapgl"
           }
          ],
          "histogram": [
           {
            "marker": {
             "pattern": {
              "fillmode": "overlay",
              "size": 10,
              "solidity": 0.2
             }
            },
            "type": "histogram"
           }
          ],
          "histogram2d": [
           {
            "colorbar": {
             "outlinewidth": 0,
             "ticks": ""
            },
            "colorscale": [
             [
              0,
              "#0d0887"
             ],
             [
              0.1111111111111111,
              "#46039f"
             ],
             [
              0.2222222222222222,
              "#7201a8"
             ],
             [
              0.3333333333333333,
              "#9c179e"
             ],
             [
              0.4444444444444444,
              "#bd3786"
             ],
             [
              0.5555555555555556,
              "#d8576b"
             ],
             [
              0.6666666666666666,
              "#ed7953"
             ],
             [
              0.7777777777777778,
              "#fb9f3a"
             ],
             [
              0.8888888888888888,
              "#fdca26"
             ],
             [
              1,
              "#f0f921"
             ]
            ],
            "type": "histogram2d"
           }
          ],
          "histogram2dcontour": [
           {
            "colorbar": {
             "outlinewidth": 0,
             "ticks": ""
            },
            "colorscale": [
             [
              0,
              "#0d0887"
             ],
             [
              0.1111111111111111,
              "#46039f"
             ],
             [
              0.2222222222222222,
              "#7201a8"
             ],
             [
              0.3333333333333333,
              "#9c179e"
             ],
             [
              0.4444444444444444,
              "#bd3786"
             ],
             [
              0.5555555555555556,
              "#d8576b"
             ],
             [
              0.6666666666666666,
              "#ed7953"
             ],
             [
              0.7777777777777778,
              "#fb9f3a"
             ],
             [
              0.8888888888888888,
              "#fdca26"
             ],
             [
              1,
              "#f0f921"
             ]
            ],
            "type": "histogram2dcontour"
           }
          ],
          "mesh3d": [
           {
            "colorbar": {
             "outlinewidth": 0,
             "ticks": ""
            },
            "type": "mesh3d"
           }
          ],
          "parcoords": [
           {
            "line": {
             "colorbar": {
              "outlinewidth": 0,
              "ticks": ""
             }
            },
            "type": "parcoords"
           }
          ],
          "pie": [
           {
            "automargin": true,
            "type": "pie"
           }
          ],
          "scatter": [
           {
            "fillpattern": {
             "fillmode": "overlay",
             "size": 10,
             "solidity": 0.2
            },
            "type": "scatter"
           }
          ],
          "scatter3d": [
           {
            "line": {
             "colorbar": {
              "outlinewidth": 0,
              "ticks": ""
             }
            },
            "marker": {
             "colorbar": {
              "outlinewidth": 0,
              "ticks": ""
             }
            },
            "type": "scatter3d"
           }
          ],
          "scattercarpet": [
           {
            "marker": {
             "colorbar": {
              "outlinewidth": 0,
              "ticks": ""
             }
            },
            "type": "scattercarpet"
           }
          ],
          "scattergeo": [
           {
            "marker": {
             "colorbar": {
              "outlinewidth": 0,
              "ticks": ""
             }
            },
            "type": "scattergeo"
           }
          ],
          "scattergl": [
           {
            "marker": {
             "colorbar": {
              "outlinewidth": 0,
              "ticks": ""
             }
            },
            "type": "scattergl"
           }
          ],
          "scattermapbox": [
           {
            "marker": {
             "colorbar": {
              "outlinewidth": 0,
              "ticks": ""
             }
            },
            "type": "scattermapbox"
           }
          ],
          "scatterpolar": [
           {
            "marker": {
             "colorbar": {
              "outlinewidth": 0,
              "ticks": ""
             }
            },
            "type": "scatterpolar"
           }
          ],
          "scatterpolargl": [
           {
            "marker": {
             "colorbar": {
              "outlinewidth": 0,
              "ticks": ""
             }
            },
            "type": "scatterpolargl"
           }
          ],
          "scatterternary": [
           {
            "marker": {
             "colorbar": {
              "outlinewidth": 0,
              "ticks": ""
             }
            },
            "type": "scatterternary"
           }
          ],
          "surface": [
           {
            "colorbar": {
             "outlinewidth": 0,
             "ticks": ""
            },
            "colorscale": [
             [
              0,
              "#0d0887"
             ],
             [
              0.1111111111111111,
              "#46039f"
             ],
             [
              0.2222222222222222,
              "#7201a8"
             ],
             [
              0.3333333333333333,
              "#9c179e"
             ],
             [
              0.4444444444444444,
              "#bd3786"
             ],
             [
              0.5555555555555556,
              "#d8576b"
             ],
             [
              0.6666666666666666,
              "#ed7953"
             ],
             [
              0.7777777777777778,
              "#fb9f3a"
             ],
             [
              0.8888888888888888,
              "#fdca26"
             ],
             [
              1,
              "#f0f921"
             ]
            ],
            "type": "surface"
           }
          ],
          "table": [
           {
            "cells": {
             "fill": {
              "color": "#EBF0F8"
             },
             "line": {
              "color": "white"
             }
            },
            "header": {
             "fill": {
              "color": "#C8D4E3"
             },
             "line": {
              "color": "white"
             }
            },
            "type": "table"
           }
          ]
         },
         "layout": {
          "annotationdefaults": {
           "arrowcolor": "#2a3f5f",
           "arrowhead": 0,
           "arrowwidth": 1
          },
          "autotypenumbers": "strict",
          "coloraxis": {
           "colorbar": {
            "outlinewidth": 0,
            "ticks": ""
           }
          },
          "colorscale": {
           "diverging": [
            [
             0,
             "#8e0152"
            ],
            [
             0.1,
             "#c51b7d"
            ],
            [
             0.2,
             "#de77ae"
            ],
            [
             0.3,
             "#f1b6da"
            ],
            [
             0.4,
             "#fde0ef"
            ],
            [
             0.5,
             "#f7f7f7"
            ],
            [
             0.6,
             "#e6f5d0"
            ],
            [
             0.7,
             "#b8e186"
            ],
            [
             0.8,
             "#7fbc41"
            ],
            [
             0.9,
             "#4d9221"
            ],
            [
             1,
             "#276419"
            ]
           ],
           "sequential": [
            [
             0,
             "#0d0887"
            ],
            [
             0.1111111111111111,
             "#46039f"
            ],
            [
             0.2222222222222222,
             "#7201a8"
            ],
            [
             0.3333333333333333,
             "#9c179e"
            ],
            [
             0.4444444444444444,
             "#bd3786"
            ],
            [
             0.5555555555555556,
             "#d8576b"
            ],
            [
             0.6666666666666666,
             "#ed7953"
            ],
            [
             0.7777777777777778,
             "#fb9f3a"
            ],
            [
             0.8888888888888888,
             "#fdca26"
            ],
            [
             1,
             "#f0f921"
            ]
           ],
           "sequentialminus": [
            [
             0,
             "#0d0887"
            ],
            [
             0.1111111111111111,
             "#46039f"
            ],
            [
             0.2222222222222222,
             "#7201a8"
            ],
            [
             0.3333333333333333,
             "#9c179e"
            ],
            [
             0.4444444444444444,
             "#bd3786"
            ],
            [
             0.5555555555555556,
             "#d8576b"
            ],
            [
             0.6666666666666666,
             "#ed7953"
            ],
            [
             0.7777777777777778,
             "#fb9f3a"
            ],
            [
             0.8888888888888888,
             "#fdca26"
            ],
            [
             1,
             "#f0f921"
            ]
           ]
          },
          "colorway": [
           "#636efa",
           "#EF553B",
           "#00cc96",
           "#ab63fa",
           "#FFA15A",
           "#19d3f3",
           "#FF6692",
           "#B6E880",
           "#FF97FF",
           "#FECB52"
          ],
          "font": {
           "color": "#2a3f5f"
          },
          "geo": {
           "bgcolor": "white",
           "lakecolor": "white",
           "landcolor": "#E5ECF6",
           "showlakes": true,
           "showland": true,
           "subunitcolor": "white"
          },
          "hoverlabel": {
           "align": "left"
          },
          "hovermode": "closest",
          "mapbox": {
           "style": "light"
          },
          "paper_bgcolor": "white",
          "plot_bgcolor": "#E5ECF6",
          "polar": {
           "angularaxis": {
            "gridcolor": "white",
            "linecolor": "white",
            "ticks": ""
           },
           "bgcolor": "#E5ECF6",
           "radialaxis": {
            "gridcolor": "white",
            "linecolor": "white",
            "ticks": ""
           }
          },
          "scene": {
           "xaxis": {
            "backgroundcolor": "#E5ECF6",
            "gridcolor": "white",
            "gridwidth": 2,
            "linecolor": "white",
            "showbackground": true,
            "ticks": "",
            "zerolinecolor": "white"
           },
           "yaxis": {
            "backgroundcolor": "#E5ECF6",
            "gridcolor": "white",
            "gridwidth": 2,
            "linecolor": "white",
            "showbackground": true,
            "ticks": "",
            "zerolinecolor": "white"
           },
           "zaxis": {
            "backgroundcolor": "#E5ECF6",
            "gridcolor": "white",
            "gridwidth": 2,
            "linecolor": "white",
            "showbackground": true,
            "ticks": "",
            "zerolinecolor": "white"
           }
          },
          "shapedefaults": {
           "line": {
            "color": "#2a3f5f"
           }
          },
          "ternary": {
           "aaxis": {
            "gridcolor": "white",
            "linecolor": "white",
            "ticks": ""
           },
           "baxis": {
            "gridcolor": "white",
            "linecolor": "white",
            "ticks": ""
           },
           "bgcolor": "#E5ECF6",
           "caxis": {
            "gridcolor": "white",
            "linecolor": "white",
            "ticks": ""
           }
          },
          "title": {
           "x": 0.05
          },
          "xaxis": {
           "automargin": true,
           "gridcolor": "white",
           "linecolor": "white",
           "ticks": "",
           "title": {
            "standoff": 15
           },
           "zerolinecolor": "white",
           "zerolinewidth": 2
          },
          "yaxis": {
           "automargin": true,
           "gridcolor": "white",
           "linecolor": "white",
           "ticks": "",
           "title": {
            "standoff": 15
           },
           "zerolinecolor": "white",
           "zerolinewidth": 2
          }
         }
        },
        "title": {
         "text": "CL wing distribution",
         "x": 0.5
        },
        "xaxis": {
         "autorange": true,
         "range": [
          0.04278,
          5.7616811348772154
         ],
         "title": {
          "text": "Semi-Span [m]"
         },
         "type": "linear"
        },
        "yaxis": {
         "autorange": true,
         "range": [
          -0.09677611111111112,
          1.8387461111111112
         ],
         "title": {
          "text": "CL [-]"
         },
         "type": "linear"
        }
       }
      },
      "image/png": "[encoded data removed]",
      "text/html": [
       "<div>                            <div id=\"5d52e69a-9a1e-459f-9b0a-b3a251ab27f3\" class=\"plotly-graph-div\" style=\"height:525px; width:100%;\"></div>            <script type=\"text/javascript\">                require([\"plotly\"], function(Plotly) {                    window.PLOTLYENV=window.PLOTLYENV || {};                                    if (document.getElementById(\"5d52e69a-9a1e-459f-9b0a-b3a251ab27f3\")) {                    Plotly.newPlot(                        \"5d52e69a-9a1e-459f-9b0a-b3a251ab27f3\",                        [{\"name\":\"Beechcraft 76 propeller OFF\",\"uid\":\"2d7705a5-75cf-4d80-9ad3-367b3bfccf4b\",\"x\":[0.04278,0.12834,0.21389,0.29945,0.38501,0.47056,0.55612,0.67982,0.84215,1.00539,1.16945,1.33423,1.49963,1.66555,1.83189,1.99856,2.16543,2.33242,2.49941,2.66631,2.83301,2.9994,3.16539,3.33086,3.49573,3.65989,3.82325,3.9857,4.14716,4.30754,4.46675,4.6247,4.78131,4.9365,5.09019,5.24232,5.39281,5.54159,5.68861,5.7616811348772154],\"y\":[1.69088,1.68735,1.6859,1.68442,1.68292,1.67996,1.6834,1.67185,1.66483,1.66927,1.67185,1.66859,1.65755,1.65258,1.65311,1.64731,1.63451,1.62553,1.61441,1.60349,1.58681,1.57341,1.55693,1.54125,1.51622,1.49578,1.46853,1.4436,1.40848,1.37812,1.33812,1.29866,1.24508,1.19351,1.119,1.04039,0.93517,0.80163,0.76583,0],\"type\":\"scatter\"},{\"name\":\"Beechcraft 76 propeller ON\",\"uid\":\"453c739a-0657-40f6-a7d0-cd4a5caeb3c4\",\"x\":[0.04278,0.12834,0.21389,0.29945,0.38501,0.47056,0.55612,0.67982,0.84215,1.00539,1.16945,1.33423,1.49963,1.66555,1.83189,1.99856,2.16543,2.33242,2.49941,2.66631,2.83301,2.9994,3.16539,3.33086,3.49573,3.65989,3.82325,3.9857,4.14716,4.30754,4.46675,4.6247,4.78131,4.9365,5.09019,5.24232,5.39281,5.54159,5.68861,5.7616811348772154],\"y\":[1.70186,1.68785,1.68664,1.68548,1.68458,1.6822,1.6863,1.67538,1.66959,1.67577,1.69782,1.72129,1.7289,1.74197,1.73414,1.67712,1.65074,1.64093,1.62465,1.59961,1.57082,1.56127,1.54775,1.53389,1.51013,1.49055,1.46383,1.43915,1.40429,1.37424,1.33468,1.29563,1.24267,1.19154,1.11745,1.03919,0.93443,0.80123,0.76633,0],\"type\":\"scatter\"}],                        {\"legend\":{\"x\":0.99,\"xanchor\":\"right\",\"y\":0.99,\"yanchor\":\"top\"},\"template\":{\"data\":{\"barpolar\":[{\"marker\":{\"line\":{\"color\":\"#E5ECF6\",\"width\":0.5},\"pattern\":{\"fillmode\":\"overlay\",\"size\":10,\"solidity\":0.2}},\"type\":\"barpolar\"}],\"bar\":[{\"error_x\":{\"color\":\"#2a3f5f\"},\"error_y\":{\"color\":\"#2a3f5f\"},\"marker\":{\"line\":{\"color\":\"#E5ECF6\",\"width\":0.5},\"pattern\":{\"fillmode\":\"overlay\",\"size\":10,\"solidity\":0.2}},\"type\":\"bar\"}],\"carpet\":[{\"aaxis\":{\"endlinecolor\":\"#2a3f5f\",\"gridcolor\":\"white\",\"linecolor\":\"white\",\"minorgridcolor\":\"white\",\"startlinecolor\":\"#2a3f5f\"},\"baxis\":{\"endlinecolor\":\"#2a3f5f\",\"gridcolor\":\"white\",\"linecolor\":\"white\",\"minorgridcolor\":\"white\",\"startlinecolor\":\"#2a3f5f\"},\"type\":\"carpet\"}],\"choropleth\":[{\"colorbar\":{\"outlinewidth\":0,\"ticks\":\"\"},\"type\":\"choropleth\"}],\"contourcarpet\":[{\"colorbar\":{\"outlinewidth\":0,\"ticks\":\"\"},\"type\":\"contourcarpet\"}],\"contour\":[{\"colorbar\":{\"outlinewidth\":0,\"ticks\":\"\"},\"colorscale\":[[0.0,\"#0d0887\"],[0.1111111111111111,\"#46039f\"],[0.2222222222222222,\"#7201a8\"],[0.3333333333333333,\"#9c179e\"],[0.4444444444444444,\"#bd3786\"],[0.5555555555555556,\"#d8576b\"],[0.6666666666666666,\"#ed7953\"],[0.7777777777777778,\"#fb9f3a\"],[0.8888888888888888,\"#fdca26\"],[1.0,\"#f0f921\"]],\"type\":\"contour\"}],\"heatmapgl\":[{\"colorbar\":{\"outlinewidth\":0,\"ticks\":\"\"},\"colorscale\":[[0.0,\"#0d0887\"],[0.1111111111111111,\"#46039f\"],[0.2222222222222222,\"#7201a8\"],[0.3333333333333333,\"#9c179e\"],[0.4444444444444444,\"#bd3786\"],[0.5555555555555556,\"#d8576b\"],[0.6666666666666666,\"#ed7953\"],[0.7777777777777778,\"#fb9f3a\"],[0.8888888888888888,\"#fdca26\"],[1.0,\"#f0f921\"]],\"type\":\"heatmapgl\"}],\"heatmap\":[{\"colorbar\":{\"outlinewidth\":0,\"ticks\":\"\"},\"colorscale\":[[0.0,\"#0d0887\"],[0.1111111111111111,\"#46039f\"],[0.2222222222222222,\"#7201a8\"],[0.3333333333333333,\"#9c179e\"],[0.4444444444444444,\"#bd3786\"],[0.5555555555555556,\"#d8576b\"],[0.6666666666666666,\"#ed7953\"],[0.7777777777777778,\"#fb9f3a\"],[0.8888888888888888,\"#fdca26\"],[1.0,\"#f0f921\"]],\"type\":\"heatmap\"}],\"histogram2dcontour\":[{\"colorbar\":{\"outlinewidth\":0,\"ticks\":\"\"},\"colorscale\":[[0.0,\"#0d0887\"],[0.1111111111111111,\"#46039f\"],[0.2222222222222222,\"#7201a8\"],[0.3333333333333333,\"#9c179e\"],[0.4444444444444444,\"#bd3786\"],[0.5555555555555556,\"#d8576b\"],[0.6666666666666666,\"#ed7953\"],[0.7777777777777778,\"#fb9f3a\"],[0.8888888888888888,\"#fdca26\"],[1.0,\"#f0f921\"]],\"type\":\"histogram2dcontour\"}],\"histogram2d\":[{\"colorbar\":{\"outlinewidth\":0,\"ticks\":\"\"},\"colorscale\":[[0.0,\"#0d0887\"],[0.1111111111111111,\"#46039f\"],[0.2222222222222222,\"#7201a8\"],[0.3333333333333333,\"#9c179e\"],[0.4444444444444444,\"#bd3786\"],[0.5555555555555556,\"#d8576b\"],[0.6666666666666666,\"#ed7953\"],[0.7777777777777778,\"#fb9f3a\"],[0.8888888888888888,\"#fdca26\"],[1.0,\"#f0f921\"]],\"type\":\"histogram2d\"}],\"histogram\":[{\"marker\":{\"pattern\":{\"fillmode\":\"overlay\",\"size\":10,\"solidity\":0.2}},\"type\":\"histogram\"}],\"mesh3d\":[{\"colorbar\":{\"outlinewidth\":0,\"ticks\":\"\"},\"type\":\"mesh3d\"}],\"parcoords\":[{\"line\":{\"colorbar\":{\"outlinewidth\":0,\"ticks\":\"\"}},\"type\":\"parcoords\"}],\"pie\":[{\"automargin\":true,\"type\":\"pie\"}],\"scatter3d\":[{\"line\":{\"colorbar\":{\"outlinewidth\":0,\"ticks\":\"\"}},\"marker\":{\"colorbar\":{\"outlinewidth\":0,\"ticks\":\"\"}},\"type\":\"scatter3d\"}],\"scattercarpet\":[{\"marker\":{\"colorbar\":{\"outlinewidth\":0,\"ticks\":\"\"}},\"type\":\"scattercarpet\"}],\"scattergeo\":[{\"marker\":{\"colorbar\":{\"outlinewidth\":0,\"ticks\":\"\"}},\"type\":\"scattergeo\"}],\"scattergl\":[{\"marker\":{\"colorbar\":{\"outlinewidth\":0,\"ticks\":\"\"}},\"type\":\"scattergl\"}],\"scattermapbox\":[{\"marker\":{\"colorbar\":{\"outlinewidth\":0,\"ticks\":\"\"}},\"type\":\"scattermapbox\"}],\"scatterpolargl\":[{\"marker\":{\"colorbar\":{\"outlinewidth\":0,\"ticks\":\"\"}},\"type\":\"scatterpolargl\"}],\"scatterpolar\":[{\"marker\":{\"colorbar\":{\"outlinewidth\":0,\"ticks\":\"\"}},\"type\":\"scatterpolar\"}],\"scatter\":[{\"fillpattern\":{\"fillmode\":\"overlay\",\"size\":10,\"solidity\":0.2},\"type\":\"scatter\"}],\"scatterternary\":[{\"marker\":{\"colorbar\":{\"outlinewidth\":0,\"ticks\":\"\"}},\"type\":\"scatterternary\"}],\"surface\":[{\"colorbar\":{\"outlinewidth\":0,\"ticks\":\"\"},\"colorscale\":[[0.0,\"#0d0887\"],[0.1111111111111111,\"#46039f\"],[0.2222222222222222,\"#7201a8\"],[0.3333333333333333,\"#9c179e\"],[0.4444444444444444,\"#bd3786\"],[0.5555555555555556,\"#d8576b\"],[0.6666666666666666,\"#ed7953\"],[0.7777777777777778,\"#fb9f3a\"],[0.8888888888888888,\"#fdca26\"],[1.0,\"#f0f921\"]],\"type\":\"surface\"}],\"table\":[{\"cells\":{\"fill\":{\"color\":\"#EBF0F8\"},\"line\":{\"color\":\"white\"}},\"header\":{\"fill\":{\"color\":\"#C8D4E3\"},\"line\":{\"color\":\"white\"}},\"type\":\"table\"}]},\"layout\":{\"annotationdefaults\":{\"arrowcolor\":\"#2a3f5f\",\"arrowhead\":0,\"arrowwidth\":1},\"autotypenumbers\":\"strict\",\"coloraxis\":{\"colorbar\":{\"outlinewidth\":0,\"ticks\":\"\"}},\"colorscale\":{\"diverging\":[[0,\"#8e0152\"],[0.1,\"#c51b7d\"],[0.2,\"#de77ae\"],[0.3,\"#f1b6da\"],[0.4,\"#fde0ef\"],[0.5,\"#f7f7f7\"],[0.6,\"#e6f5d0\"],[0.7,\"#b8e186\"],[0.8,\"#7fbc41\"],[0.9,\"#4d9221\"],[1,\"#276419\"]],\"sequential\":[[0.0,\"#0d0887\"],[0.1111111111111111,\"#46039f\"],[0.2222222222222222,\"#7201a8\"],[0.3333333333333333,\"#9c179e\"],[0.4444444444444444,\"#bd3786\"],[0.5555555555555556,\"#d8576b\"],[0.6666666666666666,\"#ed7953\"],[0.7777777777777778,\"#fb9f3a\"],[0.8888888888888888,\"#fdca26\"],[1.0,\"#f0f921\"]],\"sequentialminus\":[[0.0,\"#0d0887\"],[0.1111111111111111,\"#46039f\"],[0.2222222222222222,\"#7201a8\"],[0.3333333333333333,\"#9c179e\"],[0.4444444444444444,\"#bd3786\"],[0.5555555555555556,\"#d8576b\"],[0.6666666666666666,\"#ed7953\"],[0.7777777777777778,\"#fb9f3a\"],[0.8888888888888888,\"#fdca26\"],[1.0,\"#f0f921\"]]},\"colorway\":[\"#636efa\",\"#EF553B\",\"#00cc96\",\"#ab63fa\",\"#FFA15A\",\"#19d3f3\",\"#FF6692\",\"#B6E880\",\"#FF97FF\",\"#FECB52\"],\"font\":{\"color\":\"#2a3f5f\"},\"geo\":{\"bgcolor\":\"white\",\"lakecolor\":\"white\",\"landcolor\":\"#E5ECF6\",\"showlakes\":true,\"showland\":true,\"subunitcolor\":\"white\"},\"hoverlabel\":{\"align\":\"left\"},\"hovermode\":\"closest\",\"mapbox\":{\"style\":\"light\"},\"paper_bgcolor\":\"white\",\"plot_bgcolor\":\"#E5ECF6\",\"polar\":{\"angularaxis\":{\"gridcolor\":\"white\",\"linecolor\":\"white\",\"ticks\":\"\"},\"bgcolor\":\"#E5ECF6\",\"radialaxis\":{\"gridcolor\":\"white\",\"linecolor\":\"white\",\"ticks\":\"\"}},\"scene\":{\"xaxis\":{\"backgroundcolor\":\"#E5ECF6\",\"gridcolor\":\"white\",\"gridwidth\":2,\"linecolor\":\"white\",\"showbackground\":true,\"ticks\":\"\",\"zerolinecolor\":\"white\"},\"yaxis\":{\"backgroundcolor\":\"#E5ECF6\",\"gridcolor\":\"white\",\"gridwidth\":2,\"linecolor\":\"white\",\"showbackground\":true,\"ticks\":\"\",\"zerolinecolor\":\"white\"},\"zaxis\":{\"backgroundcolor\":\"#E5ECF6\",\"gridcolor\":\"white\",\"gridwidth\":2,\"linecolor\":\"white\",\"showbackground\":true,\"ticks\":\"\",\"zerolinecolor\":\"white\"}},\"shapedefaults\":{\"line\":{\"color\":\"#2a3f5f\"}},\"ternary\":{\"aaxis\":{\"gridcolor\":\"white\",\"linecolor\":\"white\",\"ticks\":\"\"},\"baxis\":{\"gridcolor\":\"white\",\"linecolor\":\"white\",\"ticks\":\"\"},\"bgcolor\":\"#E5ECF6\",\"caxis\":{\"gridcolor\":\"white\",\"linecolor\":\"white\",\"ticks\":\"\"}},\"title\":{\"x\":0.05},\"xaxis\":{\"automargin\":true,\"gridcolor\":\"white\",\"linecolor\":\"white\",\"ticks\":\"\",\"title\":{\"standoff\":15},\"zerolinecolor\":\"white\",\"zerolinewidth\":2},\"yaxis\":{\"automargin\":true,\"gridcolor\":\"white\",\"linecolor\":\"white\",\"ticks\":\"\",\"title\":{\"standoff\":15},\"zerolinecolor\":\"white\",\"zerolinewidth\":2}}},\"title\":{\"text\":\"CL wing distribution\",\"x\":0.5},\"xaxis\":{\"title\":{\"text\":\"Semi-Span [m]\"}},\"yaxis\":{\"title\":{\"text\":\"CL [-]\"}}},                        {\"responsive\": true}                    ).then(function(){\n",
       "                            \n",
       "var gd = document.getElementById('5d52e69a-9a1e-459f-9b0a-b3a251ab27f3');\n",
       "var x = new MutationObserver(function (mutations, observer) {{\n",
       "        var display = window.getComputedStyle(gd).display;\n",
       "        if (!display || display === 'none') {{\n",
       "            console.log([gd, 'removed!']);\n",
       "            Plotly.purge(gd);\n",
       "            observer.disconnect();\n",
       "        }}\n",
       "}});\n",
       "\n",
       "// Listen for the removal of the full notebook cells\n",
       "var notebookContainer = gd.closest('#notebook-container');\n",
       "if (notebookContainer) {{\n",
       "    x.observe(notebookContainer, {childList: true});\n",
       "}}\n",
       "\n",
       "// Listen for the clearing of the current output cell\n",
       "var outputEl = gd.closest('.output');\n",
       "if (outputEl) {{\n",
       "    x.observe(outputEl, {childList: true});\n",
       "}}\n",
       "\n",
       "                        })                };                });            </script>        </div>"
      ]
     },
     "metadata": {},
     "output_type": "display_data"
    }
   ],
   "source": [
    "# Here we can verify the general shape of the  lift repartition on the wing and the values found in the\n",
    "# mach interpolation\n",
    "fig = api_plots.cl_wing_diagram(\n",
    "    pth.join(WORK_FOLDER_PATH, \"beechcraft_76_loads.xml\"), name=\"Beechcraft 76\"\n",
    ")\n",
    "fig = api_plots.cl_wing_diagram(\n",
    "    pth.join(WORK_FOLDER_PATH, \"beechcraft_76_loads.xml\"),\n",
    "    name=\"Beechcraft 76\",\n",
    "    fig=fig,\n",
    "    prop_on=True,\n",
    ")\n",
    "fig.show()"
   ]
  },
  {
   "cell_type": "code",
   "execution_count": 12,
   "metadata": {},
   "outputs": [
    {
     "data": {
      "application/vnd.plotly.v1+json": {
       "config": {
        "plotlyServerURL": "https://plot.ly"
       },
       "data": [
        {
         "name": "Beechcraft 76",
         "type": "scatter",
         "uid": "e28fe710-675c-4374-acea-c7c1ea204a91",
         "x": [
          0,
          0.07713463439656397,
          0.15426926879312794,
          0.2314039031896919,
          0.3085385375862559,
          0.38567317198281986
         ],
         "y": [
          5.304262976409076,
          5.327052909979585,
          5.396574236132114,
          5.516422806523685,
          5.693093077687001,
          5.936845640340004
         ]
        }
       ],
       "layout": {
        "autosize": true,
        "legend": {
         "x": 0.99,
         "xanchor": "right",
         "y": 0.99,
         "yanchor": "top"
        },
        "template": {
         "data": {
          "bar": [
           {
            "error_x": {
             "color": "#2a3f5f"
            },
            "error_y": {
             "color": "#2a3f5f"
            },
            "marker": {
             "line": {
              "color": "#E5ECF6",
              "width": 0.5
             },
             "pattern": {
              "fillmode": "overlay",
              "size": 10,
              "solidity": 0.2
             }
            },
            "type": "bar"
           }
          ],
          "barpolar": [
           {
            "marker": {
             "line": {
              "color": "#E5ECF6",
              "width": 0.5
             },
             "pattern": {
              "fillmode": "overlay",
              "size": 10,
              "solidity": 0.2
             }
            },
            "type": "barpolar"
           }
          ],
          "carpet": [
           {
            "aaxis": {
             "endlinecolor": "#2a3f5f",
             "gridcolor": "white",
             "linecolor": "white",
             "minorgridcolor": "white",
             "startlinecolor": "#2a3f5f"
            },
            "baxis": {
             "endlinecolor": "#2a3f5f",
             "gridcolor": "white",
             "linecolor": "white",
             "minorgridcolor": "white",
             "startlinecolor": "#2a3f5f"
            },
            "type": "carpet"
           }
          ],
          "choropleth": [
           {
            "colorbar": {
             "outlinewidth": 0,
             "ticks": ""
            },
            "type": "choropleth"
           }
          ],
          "contour": [
           {
            "colorbar": {
             "outlinewidth": 0,
             "ticks": ""
            },
            "colorscale": [
             [
              0,
              "#0d0887"
             ],
             [
              0.1111111111111111,
              "#46039f"
             ],
             [
              0.2222222222222222,
              "#7201a8"
             ],
             [
              0.3333333333333333,
              "#9c179e"
             ],
             [
              0.4444444444444444,
              "#bd3786"
             ],
             [
              0.5555555555555556,
              "#d8576b"
             ],
             [
              0.6666666666666666,
              "#ed7953"
             ],
             [
              0.7777777777777778,
              "#fb9f3a"
             ],
             [
              0.8888888888888888,
              "#fdca26"
             ],
             [
              1,
              "#f0f921"
             ]
            ],
            "type": "contour"
           }
          ],
          "contourcarpet": [
           {
            "colorbar": {
             "outlinewidth": 0,
             "ticks": ""
            },
            "type": "contourcarpet"
           }
          ],
          "heatmap": [
           {
            "colorbar": {
             "outlinewidth": 0,
             "ticks": ""
            },
            "colorscale": [
             [
              0,
              "#0d0887"
             ],
             [
              0.1111111111111111,
              "#46039f"
             ],
             [
              0.2222222222222222,
              "#7201a8"
             ],
             [
              0.3333333333333333,
              "#9c179e"
             ],
             [
              0.4444444444444444,
              "#bd3786"
             ],
             [
              0.5555555555555556,
              "#d8576b"
             ],
             [
              0.6666666666666666,
              "#ed7953"
             ],
             [
              0.7777777777777778,
              "#fb9f3a"
             ],
             [
              0.8888888888888888,
              "#fdca26"
             ],
             [
              1,
              "#f0f921"
             ]
            ],
            "type": "heatmap"
           }
          ],
          "heatmapgl": [
           {
            "colorbar": {
             "outlinewidth": 0,
             "ticks": ""
            },
            "colorscale": [
             [
              0,
              "#0d0887"
             ],
             [
              0.1111111111111111,
              "#46039f"
             ],
             [
              0.2222222222222222,
              "#7201a8"
             ],
             [
              0.3333333333333333,
              "#9c179e"
             ],
             [
              0.4444444444444444,
              "#bd3786"
             ],
             [
              0.5555555555555556,
              "#d8576b"
             ],
             [
              0.6666666666666666,
              "#ed7953"
             ],
             [
              0.7777777777777778,
              "#fb9f3a"
             ],
             [
              0.8888888888888888,
              "#fdca26"
             ],
             [
              1,
              "#f0f921"
             ]
            ],
            "type": "heatmapgl"
           }
          ],
          "histogram": [
           {
            "marker": {
             "pattern": {
              "fillmode": "overlay",
              "size": 10,
              "solidity": 0.2
             }
            },
            "type": "histogram"
           }
          ],
          "histogram2d": [
           {
            "colorbar": {
             "outlinewidth": 0,
             "ticks": ""
            },
            "colorscale": [
             [
              0,
              "#0d0887"
             ],
             [
              0.1111111111111111,
              "#46039f"
             ],
             [
              0.2222222222222222,
              "#7201a8"
             ],
             [
              0.3333333333333333,
              "#9c179e"
             ],
             [
              0.4444444444444444,
              "#bd3786"
             ],
             [
              0.5555555555555556,
              "#d8576b"
             ],
             [
              0.6666666666666666,
              "#ed7953"
             ],
             [
              0.7777777777777778,
              "#fb9f3a"
             ],
             [
              0.8888888888888888,
              "#fdca26"
             ],
             [
              1,
              "#f0f921"
             ]
            ],
            "type": "histogram2d"
           }
          ],
          "histogram2dcontour": [
           {
            "colorbar": {
             "outlinewidth": 0,
             "ticks": ""
            },
            "colorscale": [
             [
              0,
              "#0d0887"
             ],
             [
              0.1111111111111111,
              "#46039f"
             ],
             [
              0.2222222222222222,
              "#7201a8"
             ],
             [
              0.3333333333333333,
              "#9c179e"
             ],
             [
              0.4444444444444444,
              "#bd3786"
             ],
             [
              0.5555555555555556,
              "#d8576b"
             ],
             [
              0.6666666666666666,
              "#ed7953"
             ],
             [
              0.7777777777777778,
              "#fb9f3a"
             ],
             [
              0.8888888888888888,
              "#fdca26"
             ],
             [
              1,
              "#f0f921"
             ]
            ],
            "type": "histogram2dcontour"
           }
          ],
          "mesh3d": [
           {
            "colorbar": {
             "outlinewidth": 0,
             "ticks": ""
            },
            "type": "mesh3d"
           }
          ],
          "parcoords": [
           {
            "line": {
             "colorbar": {
              "outlinewidth": 0,
              "ticks": ""
             }
            },
            "type": "parcoords"
           }
          ],
          "pie": [
           {
            "automargin": true,
            "type": "pie"
           }
          ],
          "scatter": [
           {
            "fillpattern": {
             "fillmode": "overlay",
             "size": 10,
             "solidity": 0.2
            },
            "type": "scatter"
           }
          ],
          "scatter3d": [
           {
            "line": {
             "colorbar": {
              "outlinewidth": 0,
              "ticks": ""
             }
            },
            "marker": {
             "colorbar": {
              "outlinewidth": 0,
              "ticks": ""
             }
            },
            "type": "scatter3d"
           }
          ],
          "scattercarpet": [
           {
            "marker": {
             "colorbar": {
              "outlinewidth": 0,
              "ticks": ""
             }
            },
            "type": "scattercarpet"
           }
          ],
          "scattergeo": [
           {
            "marker": {
             "colorbar": {
              "outlinewidth": 0,
              "ticks": ""
             }
            },
            "type": "scattergeo"
           }
          ],
          "scattergl": [
           {
            "marker": {
             "colorbar": {
              "outlinewidth": 0,
              "ticks": ""
             }
            },
            "type": "scattergl"
           }
          ],
          "scattermapbox": [
           {
            "marker": {
             "colorbar": {
              "outlinewidth": 0,
              "ticks": ""
             }
            },
            "type": "scattermapbox"
           }
          ],
          "scatterpolar": [
           {
            "marker": {
             "colorbar": {
              "outlinewidth": 0,
              "ticks": ""
             }
            },
            "type": "scatterpolar"
           }
          ],
          "scatterpolargl": [
           {
            "marker": {
             "colorbar": {
              "outlinewidth": 0,
              "ticks": ""
             }
            },
            "type": "scatterpolargl"
           }
          ],
          "scatterternary": [
           {
            "marker": {
             "colorbar": {
              "outlinewidth": 0,
              "ticks": ""
             }
            },
            "type": "scatterternary"
           }
          ],
          "surface": [
           {
            "colorbar": {
             "outlinewidth": 0,
             "ticks": ""
            },
            "colorscale": [
             [
              0,
              "#0d0887"
             ],
             [
              0.1111111111111111,
              "#46039f"
             ],
             [
              0.2222222222222222,
              "#7201a8"
             ],
             [
              0.3333333333333333,
              "#9c179e"
             ],
             [
              0.4444444444444444,
              "#bd3786"
             ],
             [
              0.5555555555555556,
              "#d8576b"
             ],
             [
              0.6666666666666666,
              "#ed7953"
             ],
             [
              0.7777777777777778,
              "#fb9f3a"
             ],
             [
              0.8888888888888888,
              "#fdca26"
             ],
             [
              1,
              "#f0f921"
             ]
            ],
            "type": "surface"
           }
          ],
          "table": [
           {
            "cells": {
             "fill": {
              "color": "#EBF0F8"
             },
             "line": {
              "color": "white"
             }
            },
            "header": {
             "fill": {
              "color": "#C8D4E3"
             },
             "line": {
              "color": "white"
             }
            },
            "type": "table"
           }
          ]
         },
         "layout": {
          "annotationdefaults": {
           "arrowcolor": "#2a3f5f",
           "arrowhead": 0,
           "arrowwidth": 1
          },
          "autotypenumbers": "strict",
          "coloraxis": {
           "colorbar": {
            "outlinewidth": 0,
            "ticks": ""
           }
          },
          "colorscale": {
           "diverging": [
            [
             0,
             "#8e0152"
            ],
            [
             0.1,
             "#c51b7d"
            ],
            [
             0.2,
             "#de77ae"
            ],
            [
             0.3,
             "#f1b6da"
            ],
            [
             0.4,
             "#fde0ef"
            ],
            [
             0.5,
             "#f7f7f7"
            ],
            [
             0.6,
             "#e6f5d0"
            ],
            [
             0.7,
             "#b8e186"
            ],
            [
             0.8,
             "#7fbc41"
            ],
            [
             0.9,
             "#4d9221"
            ],
            [
             1,
             "#276419"
            ]
           ],
           "sequential": [
            [
             0,
             "#0d0887"
            ],
            [
             0.1111111111111111,
             "#46039f"
            ],
            [
             0.2222222222222222,
             "#7201a8"
            ],
            [
             0.3333333333333333,
             "#9c179e"
            ],
            [
             0.4444444444444444,
             "#bd3786"
            ],
            [
             0.5555555555555556,
             "#d8576b"
            ],
            [
             0.6666666666666666,
             "#ed7953"
            ],
            [
             0.7777777777777778,
             "#fb9f3a"
            ],
            [
             0.8888888888888888,
             "#fdca26"
            ],
            [
             1,
             "#f0f921"
            ]
           ],
           "sequentialminus": [
            [
             0,
             "#0d0887"
            ],
            [
             0.1111111111111111,
             "#46039f"
            ],
            [
             0.2222222222222222,
             "#7201a8"
            ],
            [
             0.3333333333333333,
             "#9c179e"
            ],
            [
             0.4444444444444444,
             "#bd3786"
            ],
            [
             0.5555555555555556,
             "#d8576b"
            ],
            [
             0.6666666666666666,
             "#ed7953"
            ],
            [
             0.7777777777777778,
             "#fb9f3a"
            ],
            [
             0.8888888888888888,
             "#fdca26"
            ],
            [
             1,
             "#f0f921"
            ]
           ]
          },
          "colorway": [
           "#636efa",
           "#EF553B",
           "#00cc96",
           "#ab63fa",
           "#FFA15A",
           "#19d3f3",
           "#FF6692",
           "#B6E880",
           "#FF97FF",
           "#FECB52"
          ],
          "font": {
           "color": "#2a3f5f"
          },
          "geo": {
           "bgcolor": "white",
           "lakecolor": "white",
           "landcolor": "#E5ECF6",
           "showlakes": true,
           "showland": true,
           "subunitcolor": "white"
          },
          "hoverlabel": {
           "align": "left"
          },
          "hovermode": "closest",
          "mapbox": {
           "style": "light"
          },
          "paper_bgcolor": "white",
          "plot_bgcolor": "#E5ECF6",
          "polar": {
           "angularaxis": {
            "gridcolor": "white",
            "linecolor": "white",
            "ticks": ""
           },
           "bgcolor": "#E5ECF6",
           "radialaxis": {
            "gridcolor": "white",
            "linecolor": "white",
            "ticks": ""
           }
          },
          "scene": {
           "xaxis": {
            "backgroundcolor": "#E5ECF6",
            "gridcolor": "white",
            "gridwidth": 2,
            "linecolor": "white",
            "showbackground": true,
            "ticks": "",
            "zerolinecolor": "white"
           },
           "yaxis": {
            "backgroundcolor": "#E5ECF6",
            "gridcolor": "white",
            "gridwidth": 2,
            "linecolor": "white",
            "showbackground": true,
            "ticks": "",
            "zerolinecolor": "white"
           },
           "zaxis": {
            "backgroundcolor": "#E5ECF6",
            "gridcolor": "white",
            "gridwidth": 2,
            "linecolor": "white",
            "showbackground": true,
            "ticks": "",
            "zerolinecolor": "white"
           }
          },
          "shapedefaults": {
           "line": {
            "color": "#2a3f5f"
           }
          },
          "ternary": {
           "aaxis": {
            "gridcolor": "white",
            "linecolor": "white",
            "ticks": ""
           },
           "baxis": {
            "gridcolor": "white",
            "linecolor": "white",
            "ticks": ""
           },
           "bgcolor": "#E5ECF6",
           "caxis": {
            "gridcolor": "white",
            "linecolor": "white",
            "ticks": ""
           }
          },
          "title": {
           "x": 0.05
          },
          "xaxis": {
           "automargin": true,
           "gridcolor": "white",
           "linecolor": "white",
           "ticks": "",
           "title": {
            "standoff": 15
           },
           "zerolinecolor": "white",
           "zerolinewidth": 2
          },
          "yaxis": {
           "automargin": true,
           "gridcolor": "white",
           "linecolor": "white",
           "ticks": "",
           "title": {
            "standoff": 15
           },
           "zerolinecolor": "white",
           "zerolinewidth": 2
          }
         }
        },
        "title": {
         "text": "Lift coefficient slope as a function of Mach number",
         "x": 0.5
        },
        "xaxis": {
         "autorange": true,
         "range": [
          -0.023792264290459584,
          0.40946543627327947
         ],
         "title": {
          "text": "Mach number [-]"
         },
         "type": "linear"
        },
        "yaxis": {
         "autorange": true,
         "range": [
          5.252059552686621,
          5.989049064062459
         ],
         "title": {
          "text": "Lift coefficient slope [rad**-1]"
         },
         "type": "linear"
        }
       }
      },
      "image/png": "[encoded data removed]",
      "text/html": [
       "<div>                            <div id=\"6a816914-72ff-486f-b7b7-4ada0b69085a\" class=\"plotly-graph-div\" style=\"height:525px; width:100%;\"></div>            <script type=\"text/javascript\">                require([\"plotly\"], function(Plotly) {                    window.PLOTLYENV=window.PLOTLYENV || {};                                    if (document.getElementById(\"6a816914-72ff-486f-b7b7-4ada0b69085a\")) {                    Plotly.newPlot(                        \"6a816914-72ff-486f-b7b7-4ada0b69085a\",                        [{\"name\":\"Beechcraft 76\",\"x\":[0.0,0.07713463439656397,0.15426926879312794,0.2314039031896919,0.3085385375862559,0.38567317198281986],\"y\":[5.304262976409076,5.327052909979585,5.396574236132114,5.516422806523685,5.693093077687001,5.936845640340004],\"type\":\"scatter\",\"uid\":\"e28fe710-675c-4374-acea-c7c1ea204a91\"}],                        {\"template\":{\"data\":{\"barpolar\":[{\"marker\":{\"line\":{\"color\":\"#E5ECF6\",\"width\":0.5},\"pattern\":{\"fillmode\":\"overlay\",\"size\":10,\"solidity\":0.2}},\"type\":\"barpolar\"}],\"bar\":[{\"error_x\":{\"color\":\"#2a3f5f\"},\"error_y\":{\"color\":\"#2a3f5f\"},\"marker\":{\"line\":{\"color\":\"#E5ECF6\",\"width\":0.5},\"pattern\":{\"fillmode\":\"overlay\",\"size\":10,\"solidity\":0.2}},\"type\":\"bar\"}],\"carpet\":[{\"aaxis\":{\"endlinecolor\":\"#2a3f5f\",\"gridcolor\":\"white\",\"linecolor\":\"white\",\"minorgridcolor\":\"white\",\"startlinecolor\":\"#2a3f5f\"},\"baxis\":{\"endlinecolor\":\"#2a3f5f\",\"gridcolor\":\"white\",\"linecolor\":\"white\",\"minorgridcolor\":\"white\",\"startlinecolor\":\"#2a3f5f\"},\"type\":\"carpet\"}],\"choropleth\":[{\"colorbar\":{\"outlinewidth\":0,\"ticks\":\"\"},\"type\":\"choropleth\"}],\"contourcarpet\":[{\"colorbar\":{\"outlinewidth\":0,\"ticks\":\"\"},\"type\":\"contourcarpet\"}],\"contour\":[{\"colorbar\":{\"outlinewidth\":0,\"ticks\":\"\"},\"colorscale\":[[0.0,\"#0d0887\"],[0.1111111111111111,\"#46039f\"],[0.2222222222222222,\"#7201a8\"],[0.3333333333333333,\"#9c179e\"],[0.4444444444444444,\"#bd3786\"],[0.5555555555555556,\"#d8576b\"],[0.6666666666666666,\"#ed7953\"],[0.7777777777777778,\"#fb9f3a\"],[0.8888888888888888,\"#fdca26\"],[1.0,\"#f0f921\"]],\"type\":\"contour\"}],\"heatmapgl\":[{\"colorbar\":{\"outlinewidth\":0,\"ticks\":\"\"},\"colorscale\":[[0.0,\"#0d0887\"],[0.1111111111111111,\"#46039f\"],[0.2222222222222222,\"#7201a8\"],[0.3333333333333333,\"#9c179e\"],[0.4444444444444444,\"#bd3786\"],[0.5555555555555556,\"#d8576b\"],[0.6666666666666666,\"#ed7953\"],[0.7777777777777778,\"#fb9f3a\"],[0.8888888888888888,\"#fdca26\"],[1.0,\"#f0f921\"]],\"type\":\"heatmapgl\"}],\"heatmap\":[{\"colorbar\":{\"outlinewidth\":0,\"ticks\":\"\"},\"colorscale\":[[0.0,\"#0d0887\"],[0.1111111111111111,\"#46039f\"],[0.2222222222222222,\"#7201a8\"],[0.3333333333333333,\"#9c179e\"],[0.4444444444444444,\"#bd3786\"],[0.5555555555555556,\"#d8576b\"],[0.6666666666666666,\"#ed7953\"],[0.7777777777777778,\"#fb9f3a\"],[0.8888888888888888,\"#fdca26\"],[1.0,\"#f0f921\"]],\"type\":\"heatmap\"}],\"histogram2dcontour\":[{\"colorbar\":{\"outlinewidth\":0,\"ticks\":\"\"},\"colorscale\":[[0.0,\"#0d0887\"],[0.1111111111111111,\"#46039f\"],[0.2222222222222222,\"#7201a8\"],[0.3333333333333333,\"#9c179e\"],[0.4444444444444444,\"#bd3786\"],[0.5555555555555556,\"#d8576b\"],[0.6666666666666666,\"#ed7953\"],[0.7777777777777778,\"#fb9f3a\"],[0.8888888888888888,\"#fdca26\"],[1.0,\"#f0f921\"]],\"type\":\"histogram2dcontour\"}],\"histogram2d\":[{\"colorbar\":{\"outlinewidth\":0,\"ticks\":\"\"},\"colorscale\":[[0.0,\"#0d0887\"],[0.1111111111111111,\"#46039f\"],[0.2222222222222222,\"#7201a8\"],[0.3333333333333333,\"#9c179e\"],[0.4444444444444444,\"#bd3786\"],[0.5555555555555556,\"#d8576b\"],[0.6666666666666666,\"#ed7953\"],[0.7777777777777778,\"#fb9f3a\"],[0.8888888888888888,\"#fdca26\"],[1.0,\"#f0f921\"]],\"type\":\"histogram2d\"}],\"histogram\":[{\"marker\":{\"pattern\":{\"fillmode\":\"overlay\",\"size\":10,\"solidity\":0.2}},\"type\":\"histogram\"}],\"mesh3d\":[{\"colorbar\":{\"outlinewidth\":0,\"ticks\":\"\"},\"type\":\"mesh3d\"}],\"parcoords\":[{\"line\":{\"colorbar\":{\"outlinewidth\":0,\"ticks\":\"\"}},\"type\":\"parcoords\"}],\"pie\":[{\"automargin\":true,\"type\":\"pie\"}],\"scatter3d\":[{\"line\":{\"colorbar\":{\"outlinewidth\":0,\"ticks\":\"\"}},\"marker\":{\"colorbar\":{\"outlinewidth\":0,\"ticks\":\"\"}},\"type\":\"scatter3d\"}],\"scattercarpet\":[{\"marker\":{\"colorbar\":{\"outlinewidth\":0,\"ticks\":\"\"}},\"type\":\"scattercarpet\"}],\"scattergeo\":[{\"marker\":{\"colorbar\":{\"outlinewidth\":0,\"ticks\":\"\"}},\"type\":\"scattergeo\"}],\"scattergl\":[{\"marker\":{\"colorbar\":{\"outlinewidth\":0,\"ticks\":\"\"}},\"type\":\"scattergl\"}],\"scattermapbox\":[{\"marker\":{\"colorbar\":{\"outlinewidth\":0,\"ticks\":\"\"}},\"type\":\"scattermapbox\"}],\"scatterpolargl\":[{\"marker\":{\"colorbar\":{\"outlinewidth\":0,\"ticks\":\"\"}},\"type\":\"scatterpolargl\"}],\"scatterpolar\":[{\"marker\":{\"colorbar\":{\"outlinewidth\":0,\"ticks\":\"\"}},\"type\":\"scatterpolar\"}],\"scatter\":[{\"fillpattern\":{\"fillmode\":\"overlay\",\"size\":10,\"solidity\":0.2},\"type\":\"scatter\"}],\"scatterternary\":[{\"marker\":{\"colorbar\":{\"outlinewidth\":0,\"ticks\":\"\"}},\"type\":\"scatterternary\"}],\"surface\":[{\"colorbar\":{\"outlinewidth\":0,\"ticks\":\"\"},\"colorscale\":[[0.0,\"#0d0887\"],[0.1111111111111111,\"#46039f\"],[0.2222222222222222,\"#7201a8\"],[0.3333333333333333,\"#9c179e\"],[0.4444444444444444,\"#bd3786\"],[0.5555555555555556,\"#d8576b\"],[0.6666666666666666,\"#ed7953\"],[0.7777777777777778,\"#fb9f3a\"],[0.8888888888888888,\"#fdca26\"],[1.0,\"#f0f921\"]],\"type\":\"surface\"}],\"table\":[{\"cells\":{\"fill\":{\"color\":\"#EBF0F8\"},\"line\":{\"color\":\"white\"}},\"header\":{\"fill\":{\"color\":\"#C8D4E3\"},\"line\":{\"color\":\"white\"}},\"type\":\"table\"}]},\"layout\":{\"annotationdefaults\":{\"arrowcolor\":\"#2a3f5f\",\"arrowhead\":0,\"arrowwidth\":1},\"autotypenumbers\":\"strict\",\"coloraxis\":{\"colorbar\":{\"outlinewidth\":0,\"ticks\":\"\"}},\"colorscale\":{\"diverging\":[[0,\"#8e0152\"],[0.1,\"#c51b7d\"],[0.2,\"#de77ae\"],[0.3,\"#f1b6da\"],[0.4,\"#fde0ef\"],[0.5,\"#f7f7f7\"],[0.6,\"#e6f5d0\"],[0.7,\"#b8e186\"],[0.8,\"#7fbc41\"],[0.9,\"#4d9221\"],[1,\"#276419\"]],\"sequential\":[[0.0,\"#0d0887\"],[0.1111111111111111,\"#46039f\"],[0.2222222222222222,\"#7201a8\"],[0.3333333333333333,\"#9c179e\"],[0.4444444444444444,\"#bd3786\"],[0.5555555555555556,\"#d8576b\"],[0.6666666666666666,\"#ed7953\"],[0.7777777777777778,\"#fb9f3a\"],[0.8888888888888888,\"#fdca26\"],[1.0,\"#f0f921\"]],\"sequentialminus\":[[0.0,\"#0d0887\"],[0.1111111111111111,\"#46039f\"],[0.2222222222222222,\"#7201a8\"],[0.3333333333333333,\"#9c179e\"],[0.4444444444444444,\"#bd3786\"],[0.5555555555555556,\"#d8576b\"],[0.6666666666666666,\"#ed7953\"],[0.7777777777777778,\"#fb9f3a\"],[0.8888888888888888,\"#fdca26\"],[1.0,\"#f0f921\"]]},\"colorway\":[\"#636efa\",\"#EF553B\",\"#00cc96\",\"#ab63fa\",\"#FFA15A\",\"#19d3f3\",\"#FF6692\",\"#B6E880\",\"#FF97FF\",\"#FECB52\"],\"font\":{\"color\":\"#2a3f5f\"},\"geo\":{\"bgcolor\":\"white\",\"lakecolor\":\"white\",\"landcolor\":\"#E5ECF6\",\"showlakes\":true,\"showland\":true,\"subunitcolor\":\"white\"},\"hoverlabel\":{\"align\":\"left\"},\"hovermode\":\"closest\",\"mapbox\":{\"style\":\"light\"},\"paper_bgcolor\":\"white\",\"plot_bgcolor\":\"#E5ECF6\",\"polar\":{\"angularaxis\":{\"gridcolor\":\"white\",\"linecolor\":\"white\",\"ticks\":\"\"},\"bgcolor\":\"#E5ECF6\",\"radialaxis\":{\"gridcolor\":\"white\",\"linecolor\":\"white\",\"ticks\":\"\"}},\"scene\":{\"xaxis\":{\"backgroundcolor\":\"#E5ECF6\",\"gridcolor\":\"white\",\"gridwidth\":2,\"linecolor\":\"white\",\"showbackground\":true,\"ticks\":\"\",\"zerolinecolor\":\"white\"},\"yaxis\":{\"backgroundcolor\":\"#E5ECF6\",\"gridcolor\":\"white\",\"gridwidth\":2,\"linecolor\":\"white\",\"showbackground\":true,\"ticks\":\"\",\"zerolinecolor\":\"white\"},\"zaxis\":{\"backgroundcolor\":\"#E5ECF6\",\"gridcolor\":\"white\",\"gridwidth\":2,\"linecolor\":\"white\",\"showbackground\":true,\"ticks\":\"\",\"zerolinecolor\":\"white\"}},\"shapedefaults\":{\"line\":{\"color\":\"#2a3f5f\"}},\"ternary\":{\"aaxis\":{\"gridcolor\":\"white\",\"linecolor\":\"white\",\"ticks\":\"\"},\"baxis\":{\"gridcolor\":\"white\",\"linecolor\":\"white\",\"ticks\":\"\"},\"bgcolor\":\"#E5ECF6\",\"caxis\":{\"gridcolor\":\"white\",\"linecolor\":\"white\",\"ticks\":\"\"}},\"title\":{\"x\":0.05},\"xaxis\":{\"automargin\":true,\"gridcolor\":\"white\",\"linecolor\":\"white\",\"ticks\":\"\",\"title\":{\"standoff\":15},\"zerolinecolor\":\"white\",\"zerolinewidth\":2},\"yaxis\":{\"automargin\":true,\"gridcolor\":\"white\",\"linecolor\":\"white\",\"ticks\":\"\",\"title\":{\"standoff\":15},\"zerolinecolor\":\"white\",\"zerolinewidth\":2}}},\"title\":{\"text\":\"Lift coefficient slope as a function of Mach number\",\"x\":0.5},\"legend\":{\"yanchor\":\"top\",\"y\":0.99,\"xanchor\":\"right\",\"x\":0.99},\"xaxis\":{\"title\":{\"text\":\"Mach number [-]\"}},\"yaxis\":{\"title\":{\"text\":\"Lift coefficient slope [rad**-1]\"}}},                        {\"responsive\": true}                    ).then(function(){\n",
       "                            \n",
       "var gd = document.getElementById('6a816914-72ff-486f-b7b7-4ada0b69085a');\n",
       "var x = new MutationObserver(function (mutations, observer) {{\n",
       "        var display = window.getComputedStyle(gd).display;\n",
       "        if (!display || display === 'none') {{\n",
       "            console.log([gd, 'removed!']);\n",
       "            Plotly.purge(gd);\n",
       "            observer.disconnect();\n",
       "        }}\n",
       "}});\n",
       "\n",
       "// Listen for the removal of the full notebook cells\n",
       "var notebookContainer = gd.closest('#notebook-container');\n",
       "if (notebookContainer) {{\n",
       "    x.observe(notebookContainer, {childList: true});\n",
       "}}\n",
       "\n",
       "// Listen for the clearing of the current output cell\n",
       "var outputEl = gd.closest('.output');\n",
       "if (outputEl) {{\n",
       "    x.observe(outputEl, {childList: true});\n",
       "}}\n",
       "\n",
       "                        })                };                });            </script>        </div>"
      ]
     },
     "metadata": {},
     "output_type": "display_data"
    }
   ],
   "source": [
    "fig = api_plots.compressibility_effects_diagram(\n",
    "    pth.join(WORK_FOLDER_PATH, \"beechcraft_76_loads.xml\"), name=\"Beechcraft 76\"\n",
    ")\n",
    "fig.show()"
   ]
  },
  {
   "cell_type": "markdown",
   "metadata": {},
   "source": [
    "Then, we will compute the most stringent loading case among the one we defined in the function (MTOW and Min fuel weight in the wing) so that we can then print out the shear stress and wing root bending moment. First we must compute the maximum level velocity at sea level as it is an input of the V-n diagrams computed during the wing loading computation process. Since this component alone is not registered as a module, we can't generate the block analysis using only an ID but we can use the component directly"
   ]
  },
  {
   "cell_type": "code",
   "execution_count": 13,
   "metadata": {},
   "outputs": [],
   "source": [
    "from fastga.models.aerodynamics.load_factor import LoadFactor\n",
    "\n",
    "var_inputs = [\"data:weight:aircraft:MTOW\", \"data:weight:aircraft:MZFW\"]\n",
    "\n",
    "compute_load_factor = api_cs23.generate_block_analysis(\n",
    "    LoadFactor(propulsion_id=\"fastga.wrapper.propulsion.basicIC_engine\"),\n",
    "    var_inputs,\n",
    "    str(AIRCRAFT_FILE),\n",
    "    overwrite=True,\n",
    ")"
   ]
  },
  {
   "cell_type": "code",
   "execution_count": 14,
   "metadata": {},
   "outputs": [
    {
     "data": {
      "application/vnd.jupyter.widget-view+json": {
       "model_id": "2f3f9dad3a494dba8388f47210d0ce07",
       "version_major": 2,
       "version_minor": 0
      },
      "text/plain": [
       "VBox(children=(HBox(children=(Button(description='Load', icon='upload', style=ButtonStyle(), tooltip='Load the…"
      ]
     },
     "metadata": {},
     "output_type": "display_data"
    }
   ],
   "source": [
    "inputs_dict = {\n",
    "    \"data:weight:aircraft:MTOW\": (1769.0, \"kg\"),\n",
    "    \"data:weight:aircraft:MZFW\": (1587.0, \"kg\"),\n",
    "}\n",
    "\n",
    "result1 = compute_load_factor(inputs_dict)\n",
    "\n",
    "# Open viewer\n",
    "oad.variable_viewer(AIRCRAFT_FILE)"
   ]
  },
  {
   "cell_type": "markdown",
   "metadata": {},
   "source": [
    "For the loads however, we can go back to using ID's"
   ]
  },
  {
   "cell_type": "code",
   "execution_count": 15,
   "metadata": {},
   "outputs": [],
   "source": [
    "var_inputs = [\n",
    "    \"data:weight:aircraft:CG:fwd:x\",\n",
    "    \"data:weight:aircraft:CG:aft:x\",\n",
    "    \"data:weight:aircraft_empty:CG:z\",\n",
    "    \"data:weight:propulsion:engine:mass\",\n",
    "    \"data:weight:airframe:landing_gear:main:mass\",\n",
    "    \"data:weight:airframe:wing:mass\",\n",
    "    \"data:mission:sizing:fuel\",\n",
    "    \"data:weight:aircraft:MZFW\",\n",
    "    \"data:weight:airframe:wing:punctual_mass:mass\",\n",
    "    \"data:weight:airframe:wing:punctual_mass:y_ratio\",\n",
    "]\n",
    "\n",
    "compute_wing_loads = api_cs23.generate_block_analysis(\n",
    "    \"fastga.loads.wing\",\n",
    "    var_inputs,\n",
    "    str(AIRCRAFT_FILE),\n",
    "    overwrite=True,\n",
    ")"
   ]
  },
  {
   "cell_type": "code",
   "execution_count": 16,
   "metadata": {},
   "outputs": [
    {
     "data": {
      "application/vnd.jupyter.widget-view+json": {
       "model_id": "39c04ae902464a69b816fc91aefd738f",
       "version_major": 2,
       "version_minor": 0
      },
      "text/plain": [
       "VBox(children=(HBox(children=(Button(description='Load', icon='upload', style=ButtonStyle(), tooltip='Load the…"
      ]
     },
     "metadata": {},
     "output_type": "display_data"
    }
   ],
   "source": [
    "# Compute both aircraft designs using similar input parameters\n",
    "inputs_dict = {\n",
    "    \"data:weight:aircraft:MZFW\": (1531.6, \"kg\"),\n",
    "    \"data:weight:aircraft:CG:fwd:x\": (2.76, \"m\"),\n",
    "    \"data:weight:aircraft:CG:aft:x\": (3.09, \"m\"),\n",
    "    \"data:weight:aircraft_empty:CG:z\": (1.197, \"m\"),\n",
    "    \"data:weight:propulsion:engine:mass\": (351.84, \"kg\"),\n",
    "    \"data:weight:airframe:landing_gear:main:mass\": (55.34, \"kg\"),\n",
    "    \"data:weight:airframe:wing:mass\": (192.46, \"kg\"),\n",
    "    \"data:mission:sizing:fuel\": (150.0, \"kg\"),\n",
    "    \"data:weight:airframe:wing:punctual_mass:mass\": (0, \"kg\"),\n",
    "    \"data:weight:airframe:wing:punctual_mass:y_ratio\": (0, None),\n",
    "}\n",
    "\n",
    "result1 = compute_wing_loads(inputs_dict)\n",
    "# Open viewer\n",
    "oad.variable_viewer(AIRCRAFT_FILE)"
   ]
  },
  {
   "cell_type": "code",
   "execution_count": 17,
   "metadata": {},
   "outputs": [
    {
     "data": {
      "application/vnd.plotly.v1+json": {
       "config": {
        "plotlyServerURL": "https://plot.ly"
       },
       "data": [
        {
         "mode": "lines",
         "name": "Beechcraft Duchess - wing weight",
         "type": "scatter",
         "uid": "3aa9af92-3cba-41ce-9fd1-2619bdb8392c",
         "x": [
          0,
          0.04278,
          0.12834,
          0.21389,
          0.29945,
          0.38501,
          0.47056,
          0.55612,
          0.67982,
          0.84215,
          1.00539,
          1.16945,
          1.33423,
          1.49963,
          1.524413275460491,
          1.525413275460491,
          1.5369366377302456,
          1.54846,
          1.5599833622697543,
          1.571506724539509,
          1.5725067245395088,
          1.66555,
          1.83189,
          1.9349248613187446,
          1.9359248613187445,
          1.9474482235884991,
          1.9589715858582535,
          1.9704949481280079,
          1.9820183103977624,
          1.9830183103977623,
          1.99856,
          2.16543,
          2.33242,
          2.49941,
          2.66631,
          2.83301,
          2.9994,
          3.16539,
          3.33086,
          3.49573,
          3.65989,
          3.82325,
          3.9857,
          4.14716,
          4.30754,
          4.46675,
          4.6247,
          4.78131,
          4.9365,
          5.09019,
          5.24232,
          5.39281,
          5.54159,
          5.68861,
          5.7616811348772154
         ],
         "y": [
          -640.4092471019387,
          -637.0163980105258,
          -637.0163980105258,
          -637.0163980105258,
          -637.0163980105258,
          -637.0163980105258,
          -637.0163980105258,
          -637.0163980105258,
          -637.0163980105258,
          -637.0163980105258,
          -637.0163980105258,
          -637.0163980105258,
          -637.0163980105258,
          -637.0163980105258,
          -637.0163980105258,
          -637.0163980105258,
          -637.0163980105258,
          -637.0163980105258,
          -637.0163980105258,
          -637.0163980105258,
          -637.0163980105258,
          -637.0163980105258,
          -637.0163980105258,
          -637.0163980105258,
          -637.0163980105258,
          -637.0163980105258,
          -637.0163980105258,
          -637.0163980105258,
          -637.0163980105258,
          -637.0163980105258,
          -637.0163980105258,
          -637.0163980105258,
          -637.0163980105258,
          -637.0163980105258,
          -637.0163980105258,
          -637.0163980105258,
          -637.0163980105258,
          -637.0163980105258,
          -637.0163980105258,
          -637.0163980105258,
          -637.0163980105258,
          -637.0163980105258,
          -637.0163980105258,
          -637.0163980105258,
          -637.0163980105258,
          -637.0163980105258,
          -637.0163980105258,
          -637.0163980105258,
          -637.0163980105258,
          -637.0163980105258,
          -637.0163980105258,
          -637.0163980105258,
          -637.0163980105258,
          -637.0163980105258,
          -640.4092471019387,
          0
         ]
        },
        {
         "mode": "lines",
         "name": "Beechcraft Duchess - fuel weight",
         "type": "scatter",
         "uid": "ddcad967-9131-4d9f-b1c1-e85ca019ec2e",
         "x": [
          0,
          0.04278,
          0.12834,
          0.21389,
          0.29945,
          0.38501,
          0.47056,
          0.55612,
          0.67982,
          0.84215,
          1.00539,
          1.16945,
          1.33423,
          1.49963,
          1.524413275460491,
          1.525413275460491,
          1.5369366377302456,
          1.54846,
          1.5599833622697543,
          1.571506724539509,
          1.5725067245395088,
          1.66555,
          1.83189,
          1.9349248613187446,
          1.9359248613187445,
          1.9474482235884991,
          1.9589715858582535,
          1.9704949481280079,
          1.9820183103977624,
          1.9830183103977623,
          1.99856,
          2.16543,
          2.33242,
          2.49941,
          2.66631,
          2.83301,
          2.9994,
          3.16539,
          3.33086,
          3.49573,
          3.65989,
          3.82325,
          3.9857,
          4.14716,
          4.30754,
          4.46675,
          4.6247,
          4.78131,
          4.9365,
          5.09019,
          5.24232,
          5.39281,
          5.54159,
          5.68861,
          5.7616811348772154
         ],
         "y": [
          0,
          0,
          0,
          0,
          0,
          0,
          0,
          0,
          0,
          0,
          0,
          0,
          0,
          0,
          0,
          0,
          0,
          0,
          0,
          0,
          0,
          0,
          0,
          0,
          0,
          0,
          0,
          0,
          0,
          0,
          0,
          0,
          0,
          -1089.7629779806578,
          -1077.0861576165553,
          -1064.4245281696053,
          -1051.7864446442427,
          -1039.1787429531855,
          -1026.610537646726,
          -1014.0879050917252,
          -1001.6192002926172,
          -989.211259162121,
          -976.8724367046703,
          -964.6088092871267,
          -952.4272128222087,
          -940.3344832226352,
          -928.3374564011253,
          -916.4422087245393,
          -904.6548165597397,
          -892.9813562735866,
          -881.426385141226,
          0,
          0,
          0,
          0,
          0
         ]
        },
        {
         "mode": "lines",
         "name": "Beechcraft Duchess - point masses weight",
         "type": "scatter",
         "uid": "6a472b7a-7715-45d3-81c7-d4174f556d45",
         "x": [
          0,
          0.04278,
          0.12834,
          0.21389,
          0.29945,
          0.38501,
          0.47056,
          0.55612,
          0.67982,
          0.84215,
          1.00539,
          1.16945,
          1.33423,
          1.49963,
          1.524413275460491,
          1.525413275460491,
          1.5369366377302456,
          1.54846,
          1.5599833622697543,
          1.571506724539509,
          1.5725067245395088,
          1.66555,
          1.83189,
          1.9349248613187446,
          1.9359248613187445,
          1.9474482235884991,
          1.9589715858582535,
          1.9704949481280079,
          1.9820183103977624,
          1.9830183103977623,
          1.99856,
          2.16543,
          2.33242,
          2.49941,
          2.66631,
          2.83301,
          2.9994,
          3.16539,
          3.33086,
          3.49573,
          3.65989,
          3.82325,
          3.9857,
          4.14716,
          4.30754,
          4.46675,
          4.6247,
          4.78131,
          4.9365,
          5.09019,
          5.24232,
          5.39281,
          5.54159,
          5.68861,
          5.7616811348772154
         ],
         "y": [
          0,
          0,
          0,
          0,
          0,
          0,
          0,
          0,
          0,
          0,
          0,
          0,
          0,
          0,
          0,
          -387.37513015749965,
          -387.37513015749965,
          -387.37513015749965,
          -387.37513015749965,
          -387.37513015749965,
          0,
          0,
          0,
          0,
          -2462.849038572726,
          -2462.849038572726,
          -2462.849038572726,
          -2462.849038572726,
          -2462.849038572726,
          0,
          0,
          0,
          0,
          0,
          0,
          0,
          0,
          0,
          0,
          0,
          0,
          0,
          0,
          0,
          0,
          0,
          0,
          0,
          0,
          0,
          0,
          0,
          0,
          0,
          0,
          0
         ]
        },
        {
         "mode": "lines",
         "name": "Beechcraft Duchess - lift",
         "type": "scatter",
         "uid": "6676d7f6-b1ac-4317-aa2f-b2dc928e7bdc",
         "x": [
          0,
          0.04278,
          0.12834,
          0.21389,
          0.29945,
          0.38501,
          0.47056,
          0.55612,
          0.67982,
          0.84215,
          1.00539,
          1.16945,
          1.33423,
          1.49963,
          1.524413275460491,
          1.525413275460491,
          1.5369366377302456,
          1.54846,
          1.5599833622697543,
          1.571506724539509,
          1.5725067245395088,
          1.66555,
          1.83189,
          1.9349248613187446,
          1.9359248613187445,
          1.9474482235884991,
          1.9589715858582535,
          1.9704949481280079,
          1.9820183103977624,
          1.9830183103977623,
          1.99856,
          2.16543,
          2.33242,
          2.49941,
          2.66631,
          2.83301,
          2.9994,
          3.16539,
          3.33086,
          3.49573,
          3.65989,
          3.82325,
          3.9857,
          4.14716,
          4.30754,
          4.46675,
          4.6247,
          4.78131,
          4.9365,
          5.09019,
          5.24232,
          5.39281,
          5.54159,
          5.68861,
          5.7616811348772154
         ],
         "y": [
          6038.619096493949,
          6006.62686120434,
          5947.795607640555,
          5943.535338859975,
          5942.4640862592005,
          5936.150876162139,
          5930.235408604114,
          5944.139918997915,
          5912.995759032903,
          5889.115274031893,
          5914.691632091632,
          6012.738624301272,
          6127.01710264765,
          6179.392584964277,
          6189.261943185391,
          6189.6601697328415,
          6194.249078504533,
          6198.837987276223,
          6203.426896047915,
          6208.015804819604,
          6208.414031367054,
          6245.466333717053,
          6206.809205984105,
          6045.7200455154725,
          6044.156602245819,
          6026.140479061374,
          6008.124355876929,
          5990.108232692484,
          5972.09210950804,
          5970.528666238386,
          5946.2301162307,
          5843.021921446085,
          5808.61095858621,
          5745.734536990756,
          5641.916467124449,
          5529.566082526977,
          5502.042873335835,
          5460.480214282045,
          5414.861749481573,
          5338.605284177702,
          5271.1580884101995,
          5177.525846783768,
          5090.226261933164,
          4975.445875268947,
          4871.117586107285,
          4737.236107136761,
          4600.403079792852,
          4423.853497112736,
          4244.172644647856,
          3988.0420473739646,
          3704.2957088176113,
          3319.101918625428,
          2804.1390143219437,
          2443.5133709275196,
          0,
          0
         ]
        }
       ],
       "layout": {
        "autosize": true,
        "template": {
         "data": {
          "bar": [
           {
            "error_x": {
             "color": "#2a3f5f"
            },
            "error_y": {
             "color": "#2a3f5f"
            },
            "marker": {
             "line": {
              "color": "#E5ECF6",
              "width": 0.5
             },
             "pattern": {
              "fillmode": "overlay",
              "size": 10,
              "solidity": 0.2
             }
            },
            "type": "bar"
           }
          ],
          "barpolar": [
           {
            "marker": {
             "line": {
              "color": "#E5ECF6",
              "width": 0.5
             },
             "pattern": {
              "fillmode": "overlay",
              "size": 10,
              "solidity": 0.2
             }
            },
            "type": "barpolar"
           }
          ],
          "carpet": [
           {
            "aaxis": {
             "endlinecolor": "#2a3f5f",
             "gridcolor": "white",
             "linecolor": "white",
             "minorgridcolor": "white",
             "startlinecolor": "#2a3f5f"
            },
            "baxis": {
             "endlinecolor": "#2a3f5f",
             "gridcolor": "white",
             "linecolor": "white",
             "minorgridcolor": "white",
             "startlinecolor": "#2a3f5f"
            },
            "type": "carpet"
           }
          ],
          "choropleth": [
           {
            "colorbar": {
             "outlinewidth": 0,
             "ticks": ""
            },
            "type": "choropleth"
           }
          ],
          "contour": [
           {
            "colorbar": {
             "outlinewidth": 0,
             "ticks": ""
            },
            "colorscale": [
             [
              0,
              "#0d0887"
             ],
             [
              0.1111111111111111,
              "#46039f"
             ],
             [
              0.2222222222222222,
              "#7201a8"
             ],
             [
              0.3333333333333333,
              "#9c179e"
             ],
             [
              0.4444444444444444,
              "#bd3786"
             ],
             [
              0.5555555555555556,
              "#d8576b"
             ],
             [
              0.6666666666666666,
              "#ed7953"
             ],
             [
              0.7777777777777778,
              "#fb9f3a"
             ],
             [
              0.8888888888888888,
              "#fdca26"
             ],
             [
              1,
              "#f0f921"
             ]
            ],
            "type": "contour"
           }
          ],
          "contourcarpet": [
           {
            "colorbar": {
             "outlinewidth": 0,
             "ticks": ""
            },
            "type": "contourcarpet"
           }
          ],
          "heatmap": [
           {
            "colorbar": {
             "outlinewidth": 0,
             "ticks": ""
            },
            "colorscale": [
             [
              0,
              "#0d0887"
             ],
             [
              0.1111111111111111,
              "#46039f"
             ],
             [
              0.2222222222222222,
              "#7201a8"
             ],
             [
              0.3333333333333333,
              "#9c179e"
             ],
             [
              0.4444444444444444,
              "#bd3786"
             ],
             [
              0.5555555555555556,
              "#d8576b"
             ],
             [
              0.6666666666666666,
              "#ed7953"
             ],
             [
              0.7777777777777778,
              "#fb9f3a"
             ],
             [
              0.8888888888888888,
              "#fdca26"
             ],
             [
              1,
              "#f0f921"
             ]
            ],
            "type": "heatmap"
           }
          ],
          "heatmapgl": [
           {
            "colorbar": {
             "outlinewidth": 0,
             "ticks": ""
            },
            "colorscale": [
             [
              0,
              "#0d0887"
             ],
             [
              0.1111111111111111,
              "#46039f"
             ],
             [
              0.2222222222222222,
              "#7201a8"
             ],
             [
              0.3333333333333333,
              "#9c179e"
             ],
             [
              0.4444444444444444,
              "#bd3786"
             ],
             [
              0.5555555555555556,
              "#d8576b"
             ],
             [
              0.6666666666666666,
              "#ed7953"
             ],
             [
              0.7777777777777778,
              "#fb9f3a"
             ],
             [
              0.8888888888888888,
              "#fdca26"
             ],
             [
              1,
              "#f0f921"
             ]
            ],
            "type": "heatmapgl"
           }
          ],
          "histogram": [
           {
            "marker": {
             "pattern": {
              "fillmode": "overlay",
              "size": 10,
              "solidity": 0.2
             }
            },
            "type": "histogram"
           }
          ],
          "histogram2d": [
           {
            "colorbar": {
             "outlinewidth": 0,
             "ticks": ""
            },
            "colorscale": [
             [
              0,
              "#0d0887"
             ],
             [
              0.1111111111111111,
              "#46039f"
             ],
             [
              0.2222222222222222,
              "#7201a8"
             ],
             [
              0.3333333333333333,
              "#9c179e"
             ],
             [
              0.4444444444444444,
              "#bd3786"
             ],
             [
              0.5555555555555556,
              "#d8576b"
             ],
             [
              0.6666666666666666,
              "#ed7953"
             ],
             [
              0.7777777777777778,
              "#fb9f3a"
             ],
             [
              0.8888888888888888,
              "#fdca26"
             ],
             [
              1,
              "#f0f921"
             ]
            ],
            "type": "histogram2d"
           }
          ],
          "histogram2dcontour": [
           {
            "colorbar": {
             "outlinewidth": 0,
             "ticks": ""
            },
            "colorscale": [
             [
              0,
              "#0d0887"
             ],
             [
              0.1111111111111111,
              "#46039f"
             ],
             [
              0.2222222222222222,
              "#7201a8"
             ],
             [
              0.3333333333333333,
              "#9c179e"
             ],
             [
              0.4444444444444444,
              "#bd3786"
             ],
             [
              0.5555555555555556,
              "#d8576b"
             ],
             [
              0.6666666666666666,
              "#ed7953"
             ],
             [
              0.7777777777777778,
              "#fb9f3a"
             ],
             [
              0.8888888888888888,
              "#fdca26"
             ],
             [
              1,
              "#f0f921"
             ]
            ],
            "type": "histogram2dcontour"
           }
          ],
          "mesh3d": [
           {
            "colorbar": {
             "outlinewidth": 0,
             "ticks": ""
            },
            "type": "mesh3d"
           }
          ],
          "parcoords": [
           {
            "line": {
             "colorbar": {
              "outlinewidth": 0,
              "ticks": ""
             }
            },
            "type": "parcoords"
           }
          ],
          "pie": [
           {
            "automargin": true,
            "type": "pie"
           }
          ],
          "scatter": [
           {
            "fillpattern": {
             "fillmode": "overlay",
             "size": 10,
             "solidity": 0.2
            },
            "type": "scatter"
           }
          ],
          "scatter3d": [
           {
            "line": {
             "colorbar": {
              "outlinewidth": 0,
              "ticks": ""
             }
            },
            "marker": {
             "colorbar": {
              "outlinewidth": 0,
              "ticks": ""
             }
            },
            "type": "scatter3d"
           }
          ],
          "scattercarpet": [
           {
            "marker": {
             "colorbar": {
              "outlinewidth": 0,
              "ticks": ""
             }
            },
            "type": "scattercarpet"
           }
          ],
          "scattergeo": [
           {
            "marker": {
             "colorbar": {
              "outlinewidth": 0,
              "ticks": ""
             }
            },
            "type": "scattergeo"
           }
          ],
          "scattergl": [
           {
            "marker": {
             "colorbar": {
              "outlinewidth": 0,
              "ticks": ""
             }
            },
            "type": "scattergl"
           }
          ],
          "scattermapbox": [
           {
            "marker": {
             "colorbar": {
              "outlinewidth": 0,
              "ticks": ""
             }
            },
            "type": "scattermapbox"
           }
          ],
          "scatterpolar": [
           {
            "marker": {
             "colorbar": {
              "outlinewidth": 0,
              "ticks": ""
             }
            },
            "type": "scatterpolar"
           }
          ],
          "scatterpolargl": [
           {
            "marker": {
             "colorbar": {
              "outlinewidth": 0,
              "ticks": ""
             }
            },
            "type": "scatterpolargl"
           }
          ],
          "scatterternary": [
           {
            "marker": {
             "colorbar": {
              "outlinewidth": 0,
              "ticks": ""
             }
            },
            "type": "scatterternary"
           }
          ],
          "surface": [
           {
            "colorbar": {
             "outlinewidth": 0,
             "ticks": ""
            },
            "colorscale": [
             [
              0,
              "#0d0887"
             ],
             [
              0.1111111111111111,
              "#46039f"
             ],
             [
              0.2222222222222222,
              "#7201a8"
             ],
             [
              0.3333333333333333,
              "#9c179e"
             ],
             [
              0.4444444444444444,
              "#bd3786"
             ],
             [
              0.5555555555555556,
              "#d8576b"
             ],
             [
              0.6666666666666666,
              "#ed7953"
             ],
             [
              0.7777777777777778,
              "#fb9f3a"
             ],
             [
              0.8888888888888888,
              "#fdca26"
             ],
             [
              1,
              "#f0f921"
             ]
            ],
            "type": "surface"
           }
          ],
          "table": [
           {
            "cells": {
             "fill": {
              "color": "#EBF0F8"
             },
             "line": {
              "color": "white"
             }
            },
            "header": {
             "fill": {
              "color": "#C8D4E3"
             },
             "line": {
              "color": "white"
             }
            },
            "type": "table"
           }
          ]
         },
         "layout": {
          "annotationdefaults": {
           "arrowcolor": "#2a3f5f",
           "arrowhead": 0,
           "arrowwidth": 1
          },
          "autotypenumbers": "strict",
          "coloraxis": {
           "colorbar": {
            "outlinewidth": 0,
            "ticks": ""
           }
          },
          "colorscale": {
           "diverging": [
            [
             0,
             "#8e0152"
            ],
            [
             0.1,
             "#c51b7d"
            ],
            [
             0.2,
             "#de77ae"
            ],
            [
             0.3,
             "#f1b6da"
            ],
            [
             0.4,
             "#fde0ef"
            ],
            [
             0.5,
             "#f7f7f7"
            ],
            [
             0.6,
             "#e6f5d0"
            ],
            [
             0.7,
             "#b8e186"
            ],
            [
             0.8,
             "#7fbc41"
            ],
            [
             0.9,
             "#4d9221"
            ],
            [
             1,
             "#276419"
            ]
           ],
           "sequential": [
            [
             0,
             "#0d0887"
            ],
            [
             0.1111111111111111,
             "#46039f"
            ],
            [
             0.2222222222222222,
             "#7201a8"
            ],
            [
             0.3333333333333333,
             "#9c179e"
            ],
            [
             0.4444444444444444,
             "#bd3786"
            ],
            [
             0.5555555555555556,
             "#d8576b"
            ],
            [
             0.6666666666666666,
             "#ed7953"
            ],
            [
             0.7777777777777778,
             "#fb9f3a"
            ],
            [
             0.8888888888888888,
             "#fdca26"
            ],
            [
             1,
             "#f0f921"
            ]
           ],
           "sequentialminus": [
            [
             0,
             "#0d0887"
            ],
            [
             0.1111111111111111,
             "#46039f"
            ],
            [
             0.2222222222222222,
             "#7201a8"
            ],
            [
             0.3333333333333333,
             "#9c179e"
            ],
            [
             0.4444444444444444,
             "#bd3786"
            ],
            [
             0.5555555555555556,
             "#d8576b"
            ],
            [
             0.6666666666666666,
             "#ed7953"
            ],
            [
             0.7777777777777778,
             "#fb9f3a"
            ],
            [
             0.8888888888888888,
             "#fdca26"
            ],
            [
             1,
             "#f0f921"
            ]
           ]
          },
          "colorway": [
           "#636efa",
           "#EF553B",
           "#00cc96",
           "#ab63fa",
           "#FFA15A",
           "#19d3f3",
           "#FF6692",
           "#B6E880",
           "#FF97FF",
           "#FECB52"
          ],
          "font": {
           "color": "#2a3f5f"
          },
          "geo": {
           "bgcolor": "white",
           "lakecolor": "white",
           "landcolor": "#E5ECF6",
           "showlakes": true,
           "showland": true,
           "subunitcolor": "white"
          },
          "hoverlabel": {
           "align": "left"
          },
          "hovermode": "closest",
          "mapbox": {
           "style": "light"
          },
          "paper_bgcolor": "white",
          "plot_bgcolor": "#E5ECF6",
          "polar": {
           "angularaxis": {
            "gridcolor": "white",
            "linecolor": "white",
            "ticks": ""
           },
           "bgcolor": "#E5ECF6",
           "radialaxis": {
            "gridcolor": "white",
            "linecolor": "white",
            "ticks": ""
           }
          },
          "scene": {
           "xaxis": {
            "backgroundcolor": "#E5ECF6",
            "gridcolor": "white",
            "gridwidth": 2,
            "linecolor": "white",
            "showbackground": true,
            "ticks": "",
            "zerolinecolor": "white"
           },
           "yaxis": {
            "backgroundcolor": "#E5ECF6",
            "gridcolor": "white",
            "gridwidth": 2,
            "linecolor": "white",
            "showbackground": true,
            "ticks": "",
            "zerolinecolor": "white"
           },
           "zaxis": {
            "backgroundcolor": "#E5ECF6",
            "gridcolor": "white",
            "gridwidth": 2,
            "linecolor": "white",
            "showbackground": true,
            "ticks": "",
            "zerolinecolor": "white"
           }
          },
          "shapedefaults": {
           "line": {
            "color": "#2a3f5f"
           }
          },
          "ternary": {
           "aaxis": {
            "gridcolor": "white",
            "linecolor": "white",
            "ticks": ""
           },
           "baxis": {
            "gridcolor": "white",
            "linecolor": "white",
            "ticks": ""
           },
           "bgcolor": "#E5ECF6",
           "caxis": {
            "gridcolor": "white",
            "linecolor": "white",
            "ticks": ""
           }
          },
          "title": {
           "x": 0.05
          },
          "xaxis": {
           "automargin": true,
           "gridcolor": "white",
           "linecolor": "white",
           "ticks": "",
           "title": {
            "standoff": 15
           },
           "zerolinecolor": "white",
           "zerolinewidth": 2
          },
          "yaxis": {
           "automargin": true,
           "gridcolor": "white",
           "linecolor": "white",
           "ticks": "",
           "title": {
            "standoff": 15
           },
           "zerolinecolor": "white",
           "zerolinewidth": 2
          }
         }
        },
        "title": {
         "text": "Forces distribution on the wing",
         "x": 0.5
        },
        "xaxis": {
         "autorange": true,
         "range": [
          0,
          5.7616811348772154
         ],
         "title": {
          "text": "spanwise position [m]"
         },
         "type": "linear"
        },
        "yaxis": {
         "autorange": true,
         "range": [
          -2946.644337033269,
          6729.261632177597
         ],
         "title": {
          "text": "distributed force [N/m]"
         },
         "type": "linear"
        }
       }
      },
      "image/png": "[encoded data removed]",
      "text/html": [
       "<div>                            <div id=\"922dba38-a3bb-414b-9eac-6f200fc91f2f\" class=\"plotly-graph-div\" style=\"height:525px; width:100%;\"></div>            <script type=\"text/javascript\">                require([\"plotly\"], function(Plotly) {                    window.PLOTLYENV=window.PLOTLYENV || {};                                    if (document.getElementById(\"922dba38-a3bb-414b-9eac-6f200fc91f2f\")) {                    Plotly.newPlot(                        \"922dba38-a3bb-414b-9eac-6f200fc91f2f\",                        [{\"mode\":\"lines\",\"name\":\"Beechcraft Duchess - wing weight\",\"x\":[0.0,0.04278,0.12834,0.21389,0.29945,0.38501,0.47056,0.55612,0.67982,0.84215,1.00539,1.16945,1.33423,1.49963,1.524413275460491,1.525413275460491,1.5369366377302456,1.54846,1.5599833622697543,1.571506724539509,1.5725067245395088,1.66555,1.83189,1.9349248613187446,1.9359248613187445,1.9474482235884991,1.9589715858582535,1.9704949481280079,1.9820183103977624,1.9830183103977623,1.99856,2.16543,2.33242,2.49941,2.66631,2.83301,2.9994,3.16539,3.33086,3.49573,3.65989,3.82325,3.9857,4.14716,4.30754,4.46675,4.6247,4.78131,4.9365,5.09019,5.24232,5.39281,5.54159,5.68861,5.7616811348772154],\"y\":[-640.4092471019387,-637.0163980105258,-637.0163980105258,-637.0163980105258,-637.0163980105258,-637.0163980105258,-637.0163980105258,-637.0163980105258,-637.0163980105258,-637.0163980105258,-637.0163980105258,-637.0163980105258,-637.0163980105258,-637.0163980105258,-637.0163980105258,-637.0163980105258,-637.0163980105258,-637.0163980105258,-637.0163980105258,-637.0163980105258,-637.0163980105258,-637.0163980105258,-637.0163980105258,-637.0163980105258,-637.0163980105258,-637.0163980105258,-637.0163980105258,-637.0163980105258,-637.0163980105258,-637.0163980105258,-637.0163980105258,-637.0163980105258,-637.0163980105258,-637.0163980105258,-637.0163980105258,-637.0163980105258,-637.0163980105258,-637.0163980105258,-637.0163980105258,-637.0163980105258,-637.0163980105258,-637.0163980105258,-637.0163980105258,-637.0163980105258,-637.0163980105258,-637.0163980105258,-637.0163980105258,-637.0163980105258,-637.0163980105258,-637.0163980105258,-637.0163980105258,-637.0163980105258,-637.0163980105258,-637.0163980105258,-640.4092471019387,0.0],\"type\":\"scatter\",\"uid\":\"3aa9af92-3cba-41ce-9fd1-2619bdb8392c\"},{\"mode\":\"lines\",\"name\":\"Beechcraft Duchess - fuel weight\",\"x\":[0.0,0.04278,0.12834,0.21389,0.29945,0.38501,0.47056,0.55612,0.67982,0.84215,1.00539,1.16945,1.33423,1.49963,1.524413275460491,1.525413275460491,1.5369366377302456,1.54846,1.5599833622697543,1.571506724539509,1.5725067245395088,1.66555,1.83189,1.9349248613187446,1.9359248613187445,1.9474482235884991,1.9589715858582535,1.9704949481280079,1.9820183103977624,1.9830183103977623,1.99856,2.16543,2.33242,2.49941,2.66631,2.83301,2.9994,3.16539,3.33086,3.49573,3.65989,3.82325,3.9857,4.14716,4.30754,4.46675,4.6247,4.78131,4.9365,5.09019,5.24232,5.39281,5.54159,5.68861,5.7616811348772154],\"y\":[-0.0,-0.0,-0.0,-0.0,-0.0,-0.0,-0.0,-0.0,-0.0,-0.0,-0.0,-0.0,-0.0,-0.0,-0.0,-0.0,-0.0,-0.0,-0.0,-0.0,-0.0,-0.0,-0.0,-0.0,-0.0,-0.0,-0.0,-0.0,-0.0,-0.0,-0.0,-0.0,-0.0,-1089.7629779806578,-1077.0861576165553,-1064.4245281696053,-1051.7864446442427,-1039.1787429531855,-1026.610537646726,-1014.0879050917252,-1001.6192002926172,-989.211259162121,-976.8724367046703,-964.6088092871267,-952.4272128222087,-940.3344832226352,-928.3374564011253,-916.4422087245393,-904.6548165597397,-892.9813562735866,-881.426385141226,-0.0,-0.0,-0.0,-0.0,0.0],\"type\":\"scatter\",\"uid\":\"ddcad967-9131-4d9f-b1c1-e85ca019ec2e\"},{\"mode\":\"lines\",\"name\":\"Beechcraft Duchess - point masses weight\",\"x\":[0.0,0.04278,0.12834,0.21389,0.29945,0.38501,0.47056,0.55612,0.67982,0.84215,1.00539,1.16945,1.33423,1.49963,1.524413275460491,1.525413275460491,1.5369366377302456,1.54846,1.5599833622697543,1.571506724539509,1.5725067245395088,1.66555,1.83189,1.9349248613187446,1.9359248613187445,1.9474482235884991,1.9589715858582535,1.9704949481280079,1.9820183103977624,1.9830183103977623,1.99856,2.16543,2.33242,2.49941,2.66631,2.83301,2.9994,3.16539,3.33086,3.49573,3.65989,3.82325,3.9857,4.14716,4.30754,4.46675,4.6247,4.78131,4.9365,5.09019,5.24232,5.39281,5.54159,5.68861,5.7616811348772154],\"y\":[-0.0,-0.0,-0.0,-0.0,-0.0,-0.0,-0.0,-0.0,-0.0,-0.0,-0.0,-0.0,-0.0,-0.0,-0.0,-387.37513015749965,-387.37513015749965,-387.37513015749965,-387.37513015749965,-387.37513015749965,-0.0,-0.0,-0.0,-0.0,-2462.849038572726,-2462.849038572726,-2462.849038572726,-2462.849038572726,-2462.849038572726,-0.0,-0.0,-0.0,-0.0,-0.0,-0.0,-0.0,-0.0,-0.0,-0.0,-0.0,-0.0,-0.0,-0.0,-0.0,-0.0,-0.0,-0.0,-0.0,-0.0,-0.0,-0.0,-0.0,-0.0,-0.0,-0.0,0.0],\"type\":\"scatter\",\"uid\":\"6a472b7a-7715-45d3-81c7-d4174f556d45\"},{\"mode\":\"lines\",\"name\":\"Beechcraft Duchess - lift\",\"x\":[0.0,0.04278,0.12834,0.21389,0.29945,0.38501,0.47056,0.55612,0.67982,0.84215,1.00539,1.16945,1.33423,1.49963,1.524413275460491,1.525413275460491,1.5369366377302456,1.54846,1.5599833622697543,1.571506724539509,1.5725067245395088,1.66555,1.83189,1.9349248613187446,1.9359248613187445,1.9474482235884991,1.9589715858582535,1.9704949481280079,1.9820183103977624,1.9830183103977623,1.99856,2.16543,2.33242,2.49941,2.66631,2.83301,2.9994,3.16539,3.33086,3.49573,3.65989,3.82325,3.9857,4.14716,4.30754,4.46675,4.6247,4.78131,4.9365,5.09019,5.24232,5.39281,5.54159,5.68861,5.7616811348772154],\"y\":[6038.619096493949,6006.62686120434,5947.795607640555,5943.535338859975,5942.4640862592005,5936.150876162139,5930.235408604114,5944.139918997915,5912.995759032903,5889.115274031893,5914.691632091632,6012.738624301272,6127.01710264765,6179.392584964277,6189.261943185391,6189.6601697328415,6194.249078504533,6198.837987276223,6203.426896047915,6208.015804819604,6208.414031367054,6245.466333717053,6206.809205984105,6045.7200455154725,6044.156602245819,6026.140479061374,6008.124355876929,5990.108232692484,5972.09210950804,5970.528666238386,5946.2301162307,5843.021921446085,5808.61095858621,5745.734536990756,5641.916467124449,5529.566082526977,5502.042873335835,5460.480214282045,5414.861749481573,5338.605284177702,5271.1580884101995,5177.525846783768,5090.226261933164,4975.445875268947,4871.117586107285,4737.236107136761,4600.403079792852,4423.853497112736,4244.172644647856,3988.0420473739646,3704.2957088176113,3319.101918625428,2804.1390143219437,2443.5133709275196,0.0,0.0],\"type\":\"scatter\",\"uid\":\"6676d7f6-b1ac-4317-aa2f-b2dc928e7bdc\"}],                        {\"template\":{\"data\":{\"barpolar\":[{\"marker\":{\"line\":{\"color\":\"#E5ECF6\",\"width\":0.5},\"pattern\":{\"fillmode\":\"overlay\",\"size\":10,\"solidity\":0.2}},\"type\":\"barpolar\"}],\"bar\":[{\"error_x\":{\"color\":\"#2a3f5f\"},\"error_y\":{\"color\":\"#2a3f5f\"},\"marker\":{\"line\":{\"color\":\"#E5ECF6\",\"width\":0.5},\"pattern\":{\"fillmode\":\"overlay\",\"size\":10,\"solidity\":0.2}},\"type\":\"bar\"}],\"carpet\":[{\"aaxis\":{\"endlinecolor\":\"#2a3f5f\",\"gridcolor\":\"white\",\"linecolor\":\"white\",\"minorgridcolor\":\"white\",\"startlinecolor\":\"#2a3f5f\"},\"baxis\":{\"endlinecolor\":\"#2a3f5f\",\"gridcolor\":\"white\",\"linecolor\":\"white\",\"minorgridcolor\":\"white\",\"startlinecolor\":\"#2a3f5f\"},\"type\":\"carpet\"}],\"choropleth\":[{\"colorbar\":{\"outlinewidth\":0,\"ticks\":\"\"},\"type\":\"choropleth\"}],\"contourcarpet\":[{\"colorbar\":{\"outlinewidth\":0,\"ticks\":\"\"},\"type\":\"contourcarpet\"}],\"contour\":[{\"colorbar\":{\"outlinewidth\":0,\"ticks\":\"\"},\"colorscale\":[[0.0,\"#0d0887\"],[0.1111111111111111,\"#46039f\"],[0.2222222222222222,\"#7201a8\"],[0.3333333333333333,\"#9c179e\"],[0.4444444444444444,\"#bd3786\"],[0.5555555555555556,\"#d8576b\"],[0.6666666666666666,\"#ed7953\"],[0.7777777777777778,\"#fb9f3a\"],[0.8888888888888888,\"#fdca26\"],[1.0,\"#f0f921\"]],\"type\":\"contour\"}],\"heatmapgl\":[{\"colorbar\":{\"outlinewidth\":0,\"ticks\":\"\"},\"colorscale\":[[0.0,\"#0d0887\"],[0.1111111111111111,\"#46039f\"],[0.2222222222222222,\"#7201a8\"],[0.3333333333333333,\"#9c179e\"],[0.4444444444444444,\"#bd3786\"],[0.5555555555555556,\"#d8576b\"],[0.6666666666666666,\"#ed7953\"],[0.7777777777777778,\"#fb9f3a\"],[0.8888888888888888,\"#fdca26\"],[1.0,\"#f0f921\"]],\"type\":\"heatmapgl\"}],\"heatmap\":[{\"colorbar\":{\"outlinewidth\":0,\"ticks\":\"\"},\"colorscale\":[[0.0,\"#0d0887\"],[0.1111111111111111,\"#46039f\"],[0.2222222222222222,\"#7201a8\"],[0.3333333333333333,\"#9c179e\"],[0.4444444444444444,\"#bd3786\"],[0.5555555555555556,\"#d8576b\"],[0.6666666666666666,\"#ed7953\"],[0.7777777777777778,\"#fb9f3a\"],[0.8888888888888888,\"#fdca26\"],[1.0,\"#f0f921\"]],\"type\":\"heatmap\"}],\"histogram2dcontour\":[{\"colorbar\":{\"outlinewidth\":0,\"ticks\":\"\"},\"colorscale\":[[0.0,\"#0d0887\"],[0.1111111111111111,\"#46039f\"],[0.2222222222222222,\"#7201a8\"],[0.3333333333333333,\"#9c179e\"],[0.4444444444444444,\"#bd3786\"],[0.5555555555555556,\"#d8576b\"],[0.6666666666666666,\"#ed7953\"],[0.7777777777777778,\"#fb9f3a\"],[0.8888888888888888,\"#fdca26\"],[1.0,\"#f0f921\"]],\"type\":\"histogram2dcontour\"}],\"histogram2d\":[{\"colorbar\":{\"outlinewidth\":0,\"ticks\":\"\"},\"colorscale\":[[0.0,\"#0d0887\"],[0.1111111111111111,\"#46039f\"],[0.2222222222222222,\"#7201a8\"],[0.3333333333333333,\"#9c179e\"],[0.4444444444444444,\"#bd3786\"],[0.5555555555555556,\"#d8576b\"],[0.6666666666666666,\"#ed7953\"],[0.7777777777777778,\"#fb9f3a\"],[0.8888888888888888,\"#fdca26\"],[1.0,\"#f0f921\"]],\"type\":\"histogram2d\"}],\"histogram\":[{\"marker\":{\"pattern\":{\"fillmode\":\"overlay\",\"size\":10,\"solidity\":0.2}},\"type\":\"histogram\"}],\"mesh3d\":[{\"colorbar\":{\"outlinewidth\":0,\"ticks\":\"\"},\"type\":\"mesh3d\"}],\"parcoords\":[{\"line\":{\"colorbar\":{\"outlinewidth\":0,\"ticks\":\"\"}},\"type\":\"parcoords\"}],\"pie\":[{\"automargin\":true,\"type\":\"pie\"}],\"scatter3d\":[{\"line\":{\"colorbar\":{\"outlinewidth\":0,\"ticks\":\"\"}},\"marker\":{\"colorbar\":{\"outlinewidth\":0,\"ticks\":\"\"}},\"type\":\"scatter3d\"}],\"scattercarpet\":[{\"marker\":{\"colorbar\":{\"outlinewidth\":0,\"ticks\":\"\"}},\"type\":\"scattercarpet\"}],\"scattergeo\":[{\"marker\":{\"colorbar\":{\"outlinewidth\":0,\"ticks\":\"\"}},\"type\":\"scattergeo\"}],\"scattergl\":[{\"marker\":{\"colorbar\":{\"outlinewidth\":0,\"ticks\":\"\"}},\"type\":\"scattergl\"}],\"scattermapbox\":[{\"marker\":{\"colorbar\":{\"outlinewidth\":0,\"ticks\":\"\"}},\"type\":\"scattermapbox\"}],\"scatterpolargl\":[{\"marker\":{\"colorbar\":{\"outlinewidth\":0,\"ticks\":\"\"}},\"type\":\"scatterpolargl\"}],\"scatterpolar\":[{\"marker\":{\"colorbar\":{\"outlinewidth\":0,\"ticks\":\"\"}},\"type\":\"scatterpolar\"}],\"scatter\":[{\"fillpattern\":{\"fillmode\":\"overlay\",\"size\":10,\"solidity\":0.2},\"type\":\"scatter\"}],\"scatterternary\":[{\"marker\":{\"colorbar\":{\"outlinewidth\":0,\"ticks\":\"\"}},\"type\":\"scatterternary\"}],\"surface\":[{\"colorbar\":{\"outlinewidth\":0,\"ticks\":\"\"},\"colorscale\":[[0.0,\"#0d0887\"],[0.1111111111111111,\"#46039f\"],[0.2222222222222222,\"#7201a8\"],[0.3333333333333333,\"#9c179e\"],[0.4444444444444444,\"#bd3786\"],[0.5555555555555556,\"#d8576b\"],[0.6666666666666666,\"#ed7953\"],[0.7777777777777778,\"#fb9f3a\"],[0.8888888888888888,\"#fdca26\"],[1.0,\"#f0f921\"]],\"type\":\"surface\"}],\"table\":[{\"cells\":{\"fill\":{\"color\":\"#EBF0F8\"},\"line\":{\"color\":\"white\"}},\"header\":{\"fill\":{\"color\":\"#C8D4E3\"},\"line\":{\"color\":\"white\"}},\"type\":\"table\"}]},\"layout\":{\"annotationdefaults\":{\"arrowcolor\":\"#2a3f5f\",\"arrowhead\":0,\"arrowwidth\":1},\"autotypenumbers\":\"strict\",\"coloraxis\":{\"colorbar\":{\"outlinewidth\":0,\"ticks\":\"\"}},\"colorscale\":{\"diverging\":[[0,\"#8e0152\"],[0.1,\"#c51b7d\"],[0.2,\"#de77ae\"],[0.3,\"#f1b6da\"],[0.4,\"#fde0ef\"],[0.5,\"#f7f7f7\"],[0.6,\"#e6f5d0\"],[0.7,\"#b8e186\"],[0.8,\"#7fbc41\"],[0.9,\"#4d9221\"],[1,\"#276419\"]],\"sequential\":[[0.0,\"#0d0887\"],[0.1111111111111111,\"#46039f\"],[0.2222222222222222,\"#7201a8\"],[0.3333333333333333,\"#9c179e\"],[0.4444444444444444,\"#bd3786\"],[0.5555555555555556,\"#d8576b\"],[0.6666666666666666,\"#ed7953\"],[0.7777777777777778,\"#fb9f3a\"],[0.8888888888888888,\"#fdca26\"],[1.0,\"#f0f921\"]],\"sequentialminus\":[[0.0,\"#0d0887\"],[0.1111111111111111,\"#46039f\"],[0.2222222222222222,\"#7201a8\"],[0.3333333333333333,\"#9c179e\"],[0.4444444444444444,\"#bd3786\"],[0.5555555555555556,\"#d8576b\"],[0.6666666666666666,\"#ed7953\"],[0.7777777777777778,\"#fb9f3a\"],[0.8888888888888888,\"#fdca26\"],[1.0,\"#f0f921\"]]},\"colorway\":[\"#636efa\",\"#EF553B\",\"#00cc96\",\"#ab63fa\",\"#FFA15A\",\"#19d3f3\",\"#FF6692\",\"#B6E880\",\"#FF97FF\",\"#FECB52\"],\"font\":{\"color\":\"#2a3f5f\"},\"geo\":{\"bgcolor\":\"white\",\"lakecolor\":\"white\",\"landcolor\":\"#E5ECF6\",\"showlakes\":true,\"showland\":true,\"subunitcolor\":\"white\"},\"hoverlabel\":{\"align\":\"left\"},\"hovermode\":\"closest\",\"mapbox\":{\"style\":\"light\"},\"paper_bgcolor\":\"white\",\"plot_bgcolor\":\"#E5ECF6\",\"polar\":{\"angularaxis\":{\"gridcolor\":\"white\",\"linecolor\":\"white\",\"ticks\":\"\"},\"bgcolor\":\"#E5ECF6\",\"radialaxis\":{\"gridcolor\":\"white\",\"linecolor\":\"white\",\"ticks\":\"\"}},\"scene\":{\"xaxis\":{\"backgroundcolor\":\"#E5ECF6\",\"gridcolor\":\"white\",\"gridwidth\":2,\"linecolor\":\"white\",\"showbackground\":true,\"ticks\":\"\",\"zerolinecolor\":\"white\"},\"yaxis\":{\"backgroundcolor\":\"#E5ECF6\",\"gridcolor\":\"white\",\"gridwidth\":2,\"linecolor\":\"white\",\"showbackground\":true,\"ticks\":\"\",\"zerolinecolor\":\"white\"},\"zaxis\":{\"backgroundcolor\":\"#E5ECF6\",\"gridcolor\":\"white\",\"gridwidth\":2,\"linecolor\":\"white\",\"showbackground\":true,\"ticks\":\"\",\"zerolinecolor\":\"white\"}},\"shapedefaults\":{\"line\":{\"color\":\"#2a3f5f\"}},\"ternary\":{\"aaxis\":{\"gridcolor\":\"white\",\"linecolor\":\"white\",\"ticks\":\"\"},\"baxis\":{\"gridcolor\":\"white\",\"linecolor\":\"white\",\"ticks\":\"\"},\"bgcolor\":\"#E5ECF6\",\"caxis\":{\"gridcolor\":\"white\",\"linecolor\":\"white\",\"ticks\":\"\"}},\"title\":{\"x\":0.05},\"xaxis\":{\"automargin\":true,\"gridcolor\":\"white\",\"linecolor\":\"white\",\"ticks\":\"\",\"title\":{\"standoff\":15},\"zerolinecolor\":\"white\",\"zerolinewidth\":2},\"yaxis\":{\"automargin\":true,\"gridcolor\":\"white\",\"linecolor\":\"white\",\"ticks\":\"\",\"title\":{\"standoff\":15},\"zerolinecolor\":\"white\",\"zerolinewidth\":2}}},\"title\":{\"text\":\"Forces distribution on the wing\",\"x\":0.5},\"xaxis\":{\"title\":{\"text\":\"spanwise position [m]\"}},\"yaxis\":{\"title\":{\"text\":\"distributed force [N/m]\"}}},                        {\"responsive\": true}                    ).then(function(){\n",
       "                            \n",
       "var gd = document.getElementById('922dba38-a3bb-414b-9eac-6f200fc91f2f');\n",
       "var x = new MutationObserver(function (mutations, observer) {{\n",
       "        var display = window.getComputedStyle(gd).display;\n",
       "        if (!display || display === 'none') {{\n",
       "            console.log([gd, 'removed!']);\n",
       "            Plotly.purge(gd);\n",
       "            observer.disconnect();\n",
       "        }}\n",
       "}});\n",
       "\n",
       "// Listen for the removal of the full notebook cells\n",
       "var notebookContainer = gd.closest('#notebook-container');\n",
       "if (notebookContainer) {{\n",
       "    x.observe(notebookContainer, {childList: true});\n",
       "}}\n",
       "\n",
       "// Listen for the clearing of the current output cell\n",
       "var outputEl = gd.closest('.output');\n",
       "if (outputEl) {{\n",
       "    x.observe(outputEl, {childList: true});\n",
       "}}\n",
       "\n",
       "                        })                };                });            </script>        </div>"
      ]
     },
     "metadata": {},
     "output_type": "display_data"
    }
   ],
   "source": [
    "fig = api_plots.force_repartition_diagram(\n",
    "    pth.join(WORK_FOLDER_PATH, \"beechcraft_76_loads.xml\"), name=\"Beechcraft Duchess\"\n",
    ")\n",
    "fig.show()"
   ]
  },
  {
   "cell_type": "code",
   "execution_count": 18,
   "metadata": {},
   "outputs": [
    {
     "data": {
      "application/vnd.plotly.v1+json": {
       "config": {
        "plotlyServerURL": "https://plot.ly"
       },
       "data": [
        {
         "mode": "lines",
         "name": "Beechcraft Duchess - wing weight shear",
         "type": "scatter",
         "uid": "f4880d6e-9458-481c-9711-bdd50b4a43b6",
         "x": [
          0,
          0.04278,
          0.12834,
          0.21389,
          0.29945,
          0.38501,
          0.47056,
          0.55612,
          0.67982,
          0.84215,
          1.00539,
          1.16945,
          1.33423,
          1.49963,
          1.524413275460491,
          1.525413275460491,
          1.5369366377302456,
          1.54846,
          1.5599833622697543,
          1.571506724539509,
          1.5725067245395088,
          1.66555,
          1.83189,
          1.9349248613187446,
          1.9359248613187445,
          1.9474482235884991,
          1.9589715858582535,
          1.9704949481280079,
          1.9820183103977624,
          1.9830183103977623,
          1.99856,
          2.16543,
          2.33242,
          2.49941,
          2.66631,
          2.83301,
          2.9994,
          3.16539,
          3.33086,
          3.49573,
          3.65989,
          3.82325,
          3.9857,
          4.14716,
          4.30754,
          4.46675,
          4.6247,
          4.78131,
          4.9365,
          5.09019,
          5.24232,
          5.39281,
          5.54159,
          5.68861,
          5.7616811348772154
         ],
         "y": [
          -3670.4818957335356,
          -3643.1577611845796,
          -3588.6546381707994,
          -3534.157885320999,
          -3479.6547623072183,
          -3425.1516392934377,
          -3370.6548864436377,
          -3316.151763429856,
          -3237.3528349959543,
          -3133.9459631069058,
          -3029.9594062956676,
          -2925.450496038061,
          -2820.4829339738862,
          -2715.1204217429454,
          -2699.333068878201,
          -2698.69605248019,
          -2691.355481754141,
          -2684.0149110280913,
          -2676.6743403020423,
          -2669.333769575993,
          -2668.696753177983,
          -2609.4266609850392,
          -2503.4653533399687,
          -2437.830457113187,
          -2437.1934407151766,
          -2429.852869989127,
          -2422.512299263078,
          -2415.1717285370287,
          -2407.8311578109797,
          -2407.1941414129687,
          -2397.293830283554,
          -2290.9949039475373,
          -2184.6195356437597,
          -2078.244167339982,
          -1971.9261305120253,
          -1865.735496963671,
          -1759.7423384986994,
          -1654.0039865929323,
          -1548.5968832141307,
          -1443.5719896741355,
          -1338.9993777767274,
          -1234.9363789977278,
          -1131.4530651409182,
          -1028.6003975181382,
          -926.43570760521,
          -825.0163268779543,
          -724.3995868121921,
          -624.6364487197632,
          -525.7778739125101,
          -427.8748237022724,
          -330.9655190729308,
          -235.10092133632702,
          -140.32562164032078,
          -46.6714708048136,
          0,
          0
         ]
        },
        {
         "mode": "lines",
         "name": "Beechcraft Duchess - fuel weight shear",
         "type": "scatter",
         "uid": "00f6fc0c-4654-4921-b88c-a5ac7d932d1b",
         "x": [
          0,
          0.04278,
          0.12834,
          0.21389,
          0.29945,
          0.38501,
          0.47056,
          0.55612,
          0.67982,
          0.84215,
          1.00539,
          1.16945,
          1.33423,
          1.49963,
          1.524413275460491,
          1.525413275460491,
          1.5369366377302456,
          1.54846,
          1.5599833622697543,
          1.571506724539509,
          1.5725067245395088,
          1.66555,
          1.83189,
          1.9349248613187446,
          1.9359248613187445,
          1.9474482235884991,
          1.9589715858582535,
          1.9704949481280079,
          1.9820183103977624,
          1.9830183103977623,
          1.99856,
          2.16543,
          2.33242,
          2.49941,
          2.66631,
          2.83301,
          2.9994,
          3.16539,
          3.33086,
          3.49573,
          3.65989,
          3.82325,
          3.9857,
          4.14716,
          4.30754,
          4.46675,
          4.6247,
          4.78131,
          4.9365,
          5.09019,
          5.24232,
          5.39281,
          5.54159,
          5.68861,
          5.7616811348772154
         ],
         "y": [
          -2860.71019619677,
          -2860.71019619677,
          -2860.71019619677,
          -2860.71019619677,
          -2860.71019619677,
          -2860.71019619677,
          -2860.71019619677,
          -2860.71019619677,
          -2860.71019619677,
          -2860.71019619677,
          -2860.71019619677,
          -2860.71019619677,
          -2860.71019619677,
          -2860.71019619677,
          -2860.71019619677,
          -2860.71019619677,
          -2860.71019619677,
          -2860.71019619677,
          -2860.71019619677,
          -2860.71019619677,
          -2860.71019619677,
          -2860.71019619677,
          -2860.71019619677,
          -2860.71019619677,
          -2860.71019619677,
          -2860.71019619677,
          -2860.71019619677,
          -2860.71019619677,
          -2860.71019619677,
          -2860.71019619677,
          -2860.71019619677,
          -2860.71019619677,
          -2860.71019619677,
          -2769.7204363502747,
          -2588.896875984687,
          -2410.4019603244114,
          -2234.3437884411633,
          -2060.804132696515,
          -1889.8910565660808,
          -1721.666080438937,
          -1556.2168412289902,
          -1393.605809300727,
          -1233.910661103947,
          -1077.1748801150286,
          -923.4477615020811,
          -772.7744666884314,
          -625.1961002566453,
          -480.74062857897957,
          -339.4326049020466,
          -201.29325320066954,
          -66.32292834995135,
          0,
          0,
          0,
          0,
          0
         ]
        },
        {
         "mode": "lines",
         "name": "Beechcraft Duchess - point masses shear",
         "type": "scatter",
         "uid": "5297a217-39d3-4aa2-93e2-87aea2c01288",
         "x": [
          0,
          0.04278,
          0.12834,
          0.21389,
          0.29945,
          0.38501,
          0.47056,
          0.55612,
          0.67982,
          0.84215,
          1.00539,
          1.16945,
          1.33423,
          1.49963,
          1.524413275460491,
          1.525413275460491,
          1.5369366377302456,
          1.54846,
          1.5599833622697543,
          1.571506724539509,
          1.5725067245395088,
          1.66555,
          1.83189,
          1.9349248613187446,
          1.9359248613187445,
          1.9474482235884991,
          1.9589715858582535,
          1.9704949481280079,
          1.9820183103977624,
          1.9830183103977623,
          1.99856,
          2.16543,
          2.33242,
          2.49941,
          2.66631,
          2.83301,
          2.9994,
          3.16539,
          3.33086,
          3.49573,
          3.65989,
          3.82325,
          3.9857,
          4.14716,
          4.30754,
          4.46675,
          4.6247,
          4.78131,
          4.9365,
          5.09019,
          5.24232,
          5.39281,
          5.54159,
          5.68861,
          5.7616811348772154
         ],
         "y": [
          -7765.493184582671,
          -7765.493184582672,
          -7765.49318458267,
          -7765.493184582671,
          -7765.493184582671,
          -7765.493184582672,
          -7765.49318458267,
          -7765.493184582671,
          -7765.493184582671,
          -7765.493184582672,
          -7765.49318458267,
          -7765.493184582671,
          -7765.493184582671,
          -7765.493184582672,
          -7765.49318458267,
          -7754.2876839342425,
          -7496.037597162572,
          -7237.787510390907,
          -6979.537423619242,
          -6721.287336847572,
          -6710.081836199143,
          -6710.081836199143,
          -6710.081836199143,
          -6710.081836199143,
          -6638.839636196553,
          -4996.940277148046,
          -3355.0409180995716,
          -1713.141559051097,
          -71.2422000025906,
          0,
          0,
          0,
          0,
          0,
          0,
          0,
          0,
          0,
          0,
          0,
          0,
          0,
          0,
          0,
          0,
          0,
          0,
          0,
          0,
          0,
          0,
          0,
          0,
          0,
          0,
          0
         ]
        },
        {
         "mode": "lines",
         "name": "Beechcraft Duchess - lift shear",
         "type": "scatter",
         "uid": "96fefe5c-aa83-4b3c-8f44-4017b551dc9d",
         "x": [
          0,
          0.04278,
          0.12834,
          0.21389,
          0.29945,
          0.38501,
          0.47056,
          0.55612,
          0.67982,
          0.84215,
          1.00539,
          1.16945,
          1.33423,
          1.49963,
          1.524413275460491,
          1.525413275460491,
          1.5369366377302456,
          1.54846,
          1.5599833622697543,
          1.571506724539509,
          1.5725067245395088,
          1.66555,
          1.83189,
          1.9349248613187446,
          1.9359248613187445,
          1.9474482235884991,
          1.9589715858582535,
          1.9704949481280079,
          1.9820183103977624,
          1.9830183103977623,
          1.99856,
          2.16543,
          2.33242,
          2.49941,
          2.66631,
          2.83301,
          2.9994,
          3.16539,
          3.33086,
          3.49573,
          3.65989,
          3.82325,
          3.9857,
          4.14716,
          4.30754,
          4.46675,
          4.6247,
          4.78131,
          4.9365,
          5.09019,
          5.24232,
          5.39281,
          5.54159,
          5.68861,
          5.7616811348772154
         ],
         "y": [
          53158.68253477491,
          52706.00222308962,
          51804.525681318635,
          50907.37014961522,
          50010.54380116635,
          49114.32757675591,
          48219.19694393895,
          47323.42229075824,
          46030.319242393765,
          44341.46433789495,
          42643.200511697774,
          40920.668282831444,
          39164.42539030187,
          37381.90555905966,
          37113.78273524269,
          37102.956708675854,
          36978.163475530586,
          36853.294777130155,
          36728.35061347456,
          36603.33098456381,
          36592.47819411456,
          35580.2126207761,
          33770.92395252423,
          32665.808957301808,
          32655.20701271467,
          32533.20854993689,
          32411.52585562702,
          32290.158929785048,
          32169.107772410975,
          32158.617815653502,
          31995.891837739895,
          30265.584859879735,
          28552.815411724172,
          26853.75491195421,
          25178.156153772237,
          23533.64706401563,
          21911.879042303342,
          20304.82138631596,
          18716.00194590931,
          17150.981204752323,
          15613.72909527218,
          14107.31763514572,
          12635.290808054646,
          11201.06106837336,
          9807.476905374831,
          8457.586510913421,
          7156.179088948973,
          5909.19471640267,
          4722.3704664970755,
          3606.1764907351376,
          2573.8239810484124,
          1641.4605838245675,
          837.881618724406,
          157.45130315781574,
          0,
          0
         ]
        }
       ],
       "layout": {
        "autosize": true,
        "template": {
         "data": {
          "bar": [
           {
            "error_x": {
             "color": "#2a3f5f"
            },
            "error_y": {
             "color": "#2a3f5f"
            },
            "marker": {
             "line": {
              "color": "#E5ECF6",
              "width": 0.5
             },
             "pattern": {
              "fillmode": "overlay",
              "size": 10,
              "solidity": 0.2
             }
            },
            "type": "bar"
           }
          ],
          "barpolar": [
           {
            "marker": {
             "line": {
              "color": "#E5ECF6",
              "width": 0.5
             },
             "pattern": {
              "fillmode": "overlay",
              "size": 10,
              "solidity": 0.2
             }
            },
            "type": "barpolar"
           }
          ],
          "carpet": [
           {
            "aaxis": {
             "endlinecolor": "#2a3f5f",
             "gridcolor": "white",
             "linecolor": "white",
             "minorgridcolor": "white",
             "startlinecolor": "#2a3f5f"
            },
            "baxis": {
             "endlinecolor": "#2a3f5f",
             "gridcolor": "white",
             "linecolor": "white",
             "minorgridcolor": "white",
             "startlinecolor": "#2a3f5f"
            },
            "type": "carpet"
           }
          ],
          "choropleth": [
           {
            "colorbar": {
             "outlinewidth": 0,
             "ticks": ""
            },
            "type": "choropleth"
           }
          ],
          "contour": [
           {
            "colorbar": {
             "outlinewidth": 0,
             "ticks": ""
            },
            "colorscale": [
             [
              0,
              "#0d0887"
             ],
             [
              0.1111111111111111,
              "#46039f"
             ],
             [
              0.2222222222222222,
              "#7201a8"
             ],
             [
              0.3333333333333333,
              "#9c179e"
             ],
             [
              0.4444444444444444,
              "#bd3786"
             ],
             [
              0.5555555555555556,
              "#d8576b"
             ],
             [
              0.6666666666666666,
              "#ed7953"
             ],
             [
              0.7777777777777778,
              "#fb9f3a"
             ],
             [
              0.8888888888888888,
              "#fdca26"
             ],
             [
              1,
              "#f0f921"
             ]
            ],
            "type": "contour"
           }
          ],
          "contourcarpet": [
           {
            "colorbar": {
             "outlinewidth": 0,
             "ticks": ""
            },
            "type": "contourcarpet"
           }
          ],
          "heatmap": [
           {
            "colorbar": {
             "outlinewidth": 0,
             "ticks": ""
            },
            "colorscale": [
             [
              0,
              "#0d0887"
             ],
             [
              0.1111111111111111,
              "#46039f"
             ],
             [
              0.2222222222222222,
              "#7201a8"
             ],
             [
              0.3333333333333333,
              "#9c179e"
             ],
             [
              0.4444444444444444,
              "#bd3786"
             ],
             [
              0.5555555555555556,
              "#d8576b"
             ],
             [
              0.6666666666666666,
              "#ed7953"
             ],
             [
              0.7777777777777778,
              "#fb9f3a"
             ],
             [
              0.8888888888888888,
              "#fdca26"
             ],
             [
              1,
              "#f0f921"
             ]
            ],
            "type": "heatmap"
           }
          ],
          "heatmapgl": [
           {
            "colorbar": {
             "outlinewidth": 0,
             "ticks": ""
            },
            "colorscale": [
             [
              0,
              "#0d0887"
             ],
             [
              0.1111111111111111,
              "#46039f"
             ],
             [
              0.2222222222222222,
              "#7201a8"
             ],
             [
              0.3333333333333333,
              "#9c179e"
             ],
             [
              0.4444444444444444,
              "#bd3786"
             ],
             [
              0.5555555555555556,
              "#d8576b"
             ],
             [
              0.6666666666666666,
              "#ed7953"
             ],
             [
              0.7777777777777778,
              "#fb9f3a"
             ],
             [
              0.8888888888888888,
              "#fdca26"
             ],
             [
              1,
              "#f0f921"
             ]
            ],
            "type": "heatmapgl"
           }
          ],
          "histogram": [
           {
            "marker": {
             "pattern": {
              "fillmode": "overlay",
              "size": 10,
              "solidity": 0.2
             }
            },
            "type": "histogram"
           }
          ],
          "histogram2d": [
           {
            "colorbar": {
             "outlinewidth": 0,
             "ticks": ""
            },
            "colorscale": [
             [
              0,
              "#0d0887"
             ],
             [
              0.1111111111111111,
              "#46039f"
             ],
             [
              0.2222222222222222,
              "#7201a8"
             ],
             [
              0.3333333333333333,
              "#9c179e"
             ],
             [
              0.4444444444444444,
              "#bd3786"
             ],
             [
              0.5555555555555556,
              "#d8576b"
             ],
             [
              0.6666666666666666,
              "#ed7953"
             ],
             [
              0.7777777777777778,
              "#fb9f3a"
             ],
             [
              0.8888888888888888,
              "#fdca26"
             ],
             [
              1,
              "#f0f921"
             ]
            ],
            "type": "histogram2d"
           }
          ],
          "histogram2dcontour": [
           {
            "colorbar": {
             "outlinewidth": 0,
             "ticks": ""
            },
            "colorscale": [
             [
              0,
              "#0d0887"
             ],
             [
              0.1111111111111111,
              "#46039f"
             ],
             [
              0.2222222222222222,
              "#7201a8"
             ],
             [
              0.3333333333333333,
              "#9c179e"
             ],
             [
              0.4444444444444444,
              "#bd3786"
             ],
             [
              0.5555555555555556,
              "#d8576b"
             ],
             [
              0.6666666666666666,
              "#ed7953"
             ],
             [
              0.7777777777777778,
              "#fb9f3a"
             ],
             [
              0.8888888888888888,
              "#fdca26"
             ],
             [
              1,
              "#f0f921"
             ]
            ],
            "type": "histogram2dcontour"
           }
          ],
          "mesh3d": [
           {
            "colorbar": {
             "outlinewidth": 0,
             "ticks": ""
            },
            "type": "mesh3d"
           }
          ],
          "parcoords": [
           {
            "line": {
             "colorbar": {
              "outlinewidth": 0,
              "ticks": ""
             }
            },
            "type": "parcoords"
           }
          ],
          "pie": [
           {
            "automargin": true,
            "type": "pie"
           }
          ],
          "scatter": [
           {
            "fillpattern": {
             "fillmode": "overlay",
             "size": 10,
             "solidity": 0.2
            },
            "type": "scatter"
           }
          ],
          "scatter3d": [
           {
            "line": {
             "colorbar": {
              "outlinewidth": 0,
              "ticks": ""
             }
            },
            "marker": {
             "colorbar": {
              "outlinewidth": 0,
              "ticks": ""
             }
            },
            "type": "scatter3d"
           }
          ],
          "scattercarpet": [
           {
            "marker": {
             "colorbar": {
              "outlinewidth": 0,
              "ticks": ""
             }
            },
            "type": "scattercarpet"
           }
          ],
          "scattergeo": [
           {
            "marker": {
             "colorbar": {
              "outlinewidth": 0,
              "ticks": ""
             }
            },
            "type": "scattergeo"
           }
          ],
          "scattergl": [
           {
            "marker": {
             "colorbar": {
              "outlinewidth": 0,
              "ticks": ""
             }
            },
            "type": "scattergl"
           }
          ],
          "scattermapbox": [
           {
            "marker": {
             "colorbar": {
              "outlinewidth": 0,
              "ticks": ""
             }
            },
            "type": "scattermapbox"
           }
          ],
          "scatterpolar": [
           {
            "marker": {
             "colorbar": {
              "outlinewidth": 0,
              "ticks": ""
             }
            },
            "type": "scatterpolar"
           }
          ],
          "scatterpolargl": [
           {
            "marker": {
             "colorbar": {
              "outlinewidth": 0,
              "ticks": ""
             }
            },
            "type": "scatterpolargl"
           }
          ],
          "scatterternary": [
           {
            "marker": {
             "colorbar": {
              "outlinewidth": 0,
              "ticks": ""
             }
            },
            "type": "scatterternary"
           }
          ],
          "surface": [
           {
            "colorbar": {
             "outlinewidth": 0,
             "ticks": ""
            },
            "colorscale": [
             [
              0,
              "#0d0887"
             ],
             [
              0.1111111111111111,
              "#46039f"
             ],
             [
              0.2222222222222222,
              "#7201a8"
             ],
             [
              0.3333333333333333,
              "#9c179e"
             ],
             [
              0.4444444444444444,
              "#bd3786"
             ],
             [
              0.5555555555555556,
              "#d8576b"
             ],
             [
              0.6666666666666666,
              "#ed7953"
             ],
             [
              0.7777777777777778,
              "#fb9f3a"
             ],
             [
              0.8888888888888888,
              "#fdca26"
             ],
             [
              1,
              "#f0f921"
             ]
            ],
            "type": "surface"
           }
          ],
          "table": [
           {
            "cells": {
             "fill": {
              "color": "#EBF0F8"
             },
             "line": {
              "color": "white"
             }
            },
            "header": {
             "fill": {
              "color": "#C8D4E3"
             },
             "line": {
              "color": "white"
             }
            },
            "type": "table"
           }
          ]
         },
         "layout": {
          "annotationdefaults": {
           "arrowcolor": "#2a3f5f",
           "arrowhead": 0,
           "arrowwidth": 1
          },
          "autotypenumbers": "strict",
          "coloraxis": {
           "colorbar": {
            "outlinewidth": 0,
            "ticks": ""
           }
          },
          "colorscale": {
           "diverging": [
            [
             0,
             "#8e0152"
            ],
            [
             0.1,
             "#c51b7d"
            ],
            [
             0.2,
             "#de77ae"
            ],
            [
             0.3,
             "#f1b6da"
            ],
            [
             0.4,
             "#fde0ef"
            ],
            [
             0.5,
             "#f7f7f7"
            ],
            [
             0.6,
             "#e6f5d0"
            ],
            [
             0.7,
             "#b8e186"
            ],
            [
             0.8,
             "#7fbc41"
            ],
            [
             0.9,
             "#4d9221"
            ],
            [
             1,
             "#276419"
            ]
           ],
           "sequential": [
            [
             0,
             "#0d0887"
            ],
            [
             0.1111111111111111,
             "#46039f"
            ],
            [
             0.2222222222222222,
             "#7201a8"
            ],
            [
             0.3333333333333333,
             "#9c179e"
            ],
            [
             0.4444444444444444,
             "#bd3786"
            ],
            [
             0.5555555555555556,
             "#d8576b"
            ],
            [
             0.6666666666666666,
             "#ed7953"
            ],
            [
             0.7777777777777778,
             "#fb9f3a"
            ],
            [
             0.8888888888888888,
             "#fdca26"
            ],
            [
             1,
             "#f0f921"
            ]
           ],
           "sequentialminus": [
            [
             0,
             "#0d0887"
            ],
            [
             0.1111111111111111,
             "#46039f"
            ],
            [
             0.2222222222222222,
             "#7201a8"
            ],
            [
             0.3333333333333333,
             "#9c179e"
            ],
            [
             0.4444444444444444,
             "#bd3786"
            ],
            [
             0.5555555555555556,
             "#d8576b"
            ],
            [
             0.6666666666666666,
             "#ed7953"
            ],
            [
             0.7777777777777778,
             "#fb9f3a"
            ],
            [
             0.8888888888888888,
             "#fdca26"
            ],
            [
             1,
             "#f0f921"
            ]
           ]
          },
          "colorway": [
           "#636efa",
           "#EF553B",
           "#00cc96",
           "#ab63fa",
           "#FFA15A",
           "#19d3f3",
           "#FF6692",
           "#B6E880",
           "#FF97FF",
           "#FECB52"
          ],
          "font": {
           "color": "#2a3f5f"
          },
          "geo": {
           "bgcolor": "white",
           "lakecolor": "white",
           "landcolor": "#E5ECF6",
           "showlakes": true,
           "showland": true,
           "subunitcolor": "white"
          },
          "hoverlabel": {
           "align": "left"
          },
          "hovermode": "closest",
          "mapbox": {
           "style": "light"
          },
          "paper_bgcolor": "white",
          "plot_bgcolor": "#E5ECF6",
          "polar": {
           "angularaxis": {
            "gridcolor": "white",
            "linecolor": "white",
            "ticks": ""
           },
           "bgcolor": "#E5ECF6",
           "radialaxis": {
            "gridcolor": "white",
            "linecolor": "white",
            "ticks": ""
           }
          },
          "scene": {
           "xaxis": {
            "backgroundcolor": "#E5ECF6",
            "gridcolor": "white",
            "gridwidth": 2,
            "linecolor": "white",
            "showbackground": true,
            "ticks": "",
            "zerolinecolor": "white"
           },
           "yaxis": {
            "backgroundcolor": "#E5ECF6",
            "gridcolor": "white",
            "gridwidth": 2,
            "linecolor": "white",
            "showbackground": true,
            "ticks": "",
            "zerolinecolor": "white"
           },
           "zaxis": {
            "backgroundcolor": "#E5ECF6",
            "gridcolor": "white",
            "gridwidth": 2,
            "linecolor": "white",
            "showbackground": true,
            "ticks": "",
            "zerolinecolor": "white"
           }
          },
          "shapedefaults": {
           "line": {
            "color": "#2a3f5f"
           }
          },
          "ternary": {
           "aaxis": {
            "gridcolor": "white",
            "linecolor": "white",
            "ticks": ""
           },
           "baxis": {
            "gridcolor": "white",
            "linecolor": "white",
            "ticks": ""
           },
           "bgcolor": "#E5ECF6",
           "caxis": {
            "gridcolor": "white",
            "linecolor": "white",
            "ticks": ""
           }
          },
          "title": {
           "x": 0.05
          },
          "xaxis": {
           "automargin": true,
           "gridcolor": "white",
           "linecolor": "white",
           "ticks": "",
           "title": {
            "standoff": 15
           },
           "zerolinecolor": "white",
           "zerolinewidth": 2
          },
          "yaxis": {
           "automargin": true,
           "gridcolor": "white",
           "linecolor": "white",
           "ticks": "",
           "title": {
            "standoff": 15
           },
           "zerolinecolor": "white",
           "zerolinewidth": 2
          }
         }
        },
        "title": {
         "text": "Shear forces on the wing",
         "x": 0.5
        },
        "xaxis": {
         "autorange": true,
         "range": [
          0,
          5.7616811348772154
         ],
         "title": {
          "text": "spanwise position [m]"
         },
         "type": "linear"
        },
        "yaxis": {
         "autorange": true,
         "range": [
          -11150.169613435872,
          56543.35896362811
         ],
         "title": {
          "text": "shear force [N]"
         },
         "type": "linear"
        }
       }
      },
      "image/png": "[encoded data removed]",
      "text/html": [
       "<div>                            <div id=\"965d7d6e-096c-48aa-9eb8-95dd7312a707\" class=\"plotly-graph-div\" style=\"height:525px; width:100%;\"></div>            <script type=\"text/javascript\">                require([\"plotly\"], function(Plotly) {                    window.PLOTLYENV=window.PLOTLYENV || {};                                    if (document.getElementById(\"965d7d6e-096c-48aa-9eb8-95dd7312a707\")) {                    Plotly.newPlot(                        \"965d7d6e-096c-48aa-9eb8-95dd7312a707\",                        [{\"mode\":\"lines\",\"name\":\"Beechcraft Duchess - wing weight shear\",\"x\":[0.0,0.04278,0.12834,0.21389,0.29945,0.38501,0.47056,0.55612,0.67982,0.84215,1.00539,1.16945,1.33423,1.49963,1.524413275460491,1.525413275460491,1.5369366377302456,1.54846,1.5599833622697543,1.571506724539509,1.5725067245395088,1.66555,1.83189,1.9349248613187446,1.9359248613187445,1.9474482235884991,1.9589715858582535,1.9704949481280079,1.9820183103977624,1.9830183103977623,1.99856,2.16543,2.33242,2.49941,2.66631,2.83301,2.9994,3.16539,3.33086,3.49573,3.65989,3.82325,3.9857,4.14716,4.30754,4.46675,4.6247,4.78131,4.9365,5.09019,5.24232,5.39281,5.54159,5.68861,5.7616811348772154],\"y\":[-3670.4818957335356,-3643.1577611845796,-3588.6546381707994,-3534.157885320999,-3479.6547623072183,-3425.1516392934377,-3370.6548864436377,-3316.151763429856,-3237.3528349959543,-3133.9459631069058,-3029.9594062956676,-2925.450496038061,-2820.4829339738862,-2715.1204217429454,-2699.333068878201,-2698.69605248019,-2691.355481754141,-2684.0149110280913,-2676.6743403020423,-2669.333769575993,-2668.696753177983,-2609.4266609850392,-2503.4653533399687,-2437.830457113187,-2437.1934407151766,-2429.852869989127,-2422.512299263078,-2415.1717285370287,-2407.8311578109797,-2407.1941414129687,-2397.293830283554,-2290.9949039475373,-2184.6195356437597,-2078.244167339982,-1971.9261305120253,-1865.735496963671,-1759.7423384986994,-1654.0039865929323,-1548.5968832141307,-1443.5719896741355,-1338.9993777767274,-1234.9363789977278,-1131.4530651409182,-1028.6003975181382,-926.43570760521,-825.0163268779543,-724.3995868121921,-624.6364487197632,-525.7778739125101,-427.8748237022724,-330.9655190729308,-235.10092133632702,-140.32562164032078,-46.6714708048136,0.0,0.0],\"type\":\"scatter\",\"uid\":\"f4880d6e-9458-481c-9711-bdd50b4a43b6\"},{\"mode\":\"lines\",\"name\":\"Beechcraft Duchess - fuel weight shear\",\"x\":[0.0,0.04278,0.12834,0.21389,0.29945,0.38501,0.47056,0.55612,0.67982,0.84215,1.00539,1.16945,1.33423,1.49963,1.524413275460491,1.525413275460491,1.5369366377302456,1.54846,1.5599833622697543,1.571506724539509,1.5725067245395088,1.66555,1.83189,1.9349248613187446,1.9359248613187445,1.9474482235884991,1.9589715858582535,1.9704949481280079,1.9820183103977624,1.9830183103977623,1.99856,2.16543,2.33242,2.49941,2.66631,2.83301,2.9994,3.16539,3.33086,3.49573,3.65989,3.82325,3.9857,4.14716,4.30754,4.46675,4.6247,4.78131,4.9365,5.09019,5.24232,5.39281,5.54159,5.68861,5.7616811348772154],\"y\":[-2860.71019619677,-2860.71019619677,-2860.71019619677,-2860.71019619677,-2860.71019619677,-2860.71019619677,-2860.71019619677,-2860.71019619677,-2860.71019619677,-2860.71019619677,-2860.71019619677,-2860.71019619677,-2860.71019619677,-2860.71019619677,-2860.71019619677,-2860.71019619677,-2860.71019619677,-2860.71019619677,-2860.71019619677,-2860.71019619677,-2860.71019619677,-2860.71019619677,-2860.71019619677,-2860.71019619677,-2860.71019619677,-2860.71019619677,-2860.71019619677,-2860.71019619677,-2860.71019619677,-2860.71019619677,-2860.71019619677,-2860.71019619677,-2860.71019619677,-2769.7204363502747,-2588.896875984687,-2410.4019603244114,-2234.3437884411633,-2060.804132696515,-1889.8910565660808,-1721.666080438937,-1556.2168412289902,-1393.605809300727,-1233.910661103947,-1077.1748801150286,-923.4477615020811,-772.7744666884314,-625.1961002566453,-480.74062857897957,-339.4326049020466,-201.29325320066954,-66.32292834995135,0.0,0.0,0.0,0.0,0.0],\"type\":\"scatter\",\"uid\":\"00f6fc0c-4654-4921-b88c-a5ac7d932d1b\"},{\"mode\":\"lines\",\"name\":\"Beechcraft Duchess - point masses shear\",\"x\":[0.0,0.04278,0.12834,0.21389,0.29945,0.38501,0.47056,0.55612,0.67982,0.84215,1.00539,1.16945,1.33423,1.49963,1.524413275460491,1.525413275460491,1.5369366377302456,1.54846,1.5599833622697543,1.571506724539509,1.5725067245395088,1.66555,1.83189,1.9349248613187446,1.9359248613187445,1.9474482235884991,1.9589715858582535,1.9704949481280079,1.9820183103977624,1.9830183103977623,1.99856,2.16543,2.33242,2.49941,2.66631,2.83301,2.9994,3.16539,3.33086,3.49573,3.65989,3.82325,3.9857,4.14716,4.30754,4.46675,4.6247,4.78131,4.9365,5.09019,5.24232,5.39281,5.54159,5.68861,5.7616811348772154],\"y\":[-7765.493184582671,-7765.493184582672,-7765.49318458267,-7765.493184582671,-7765.493184582671,-7765.493184582672,-7765.49318458267,-7765.493184582671,-7765.493184582671,-7765.493184582672,-7765.49318458267,-7765.493184582671,-7765.493184582671,-7765.493184582672,-7765.49318458267,-7754.2876839342425,-7496.037597162572,-7237.787510390907,-6979.537423619242,-6721.287336847572,-6710.081836199143,-6710.081836199143,-6710.081836199143,-6710.081836199143,-6638.839636196553,-4996.940277148046,-3355.0409180995716,-1713.141559051097,-71.2422000025906,0.0,0.0,0.0,0.0,0.0,0.0,0.0,0.0,0.0,0.0,0.0,0.0,0.0,0.0,0.0,0.0,0.0,0.0,0.0,0.0,0.0,0.0,0.0,0.0,0.0,0.0,0.0],\"type\":\"scatter\",\"uid\":\"5297a217-39d3-4aa2-93e2-87aea2c01288\"},{\"mode\":\"lines\",\"name\":\"Beechcraft Duchess - lift shear\",\"x\":[0.0,0.04278,0.12834,0.21389,0.29945,0.38501,0.47056,0.55612,0.67982,0.84215,1.00539,1.16945,1.33423,1.49963,1.524413275460491,1.525413275460491,1.5369366377302456,1.54846,1.5599833622697543,1.571506724539509,1.5725067245395088,1.66555,1.83189,1.9349248613187446,1.9359248613187445,1.9474482235884991,1.9589715858582535,1.9704949481280079,1.9820183103977624,1.9830183103977623,1.99856,2.16543,2.33242,2.49941,2.66631,2.83301,2.9994,3.16539,3.33086,3.49573,3.65989,3.82325,3.9857,4.14716,4.30754,4.46675,4.6247,4.78131,4.9365,5.09019,5.24232,5.39281,5.54159,5.68861,5.7616811348772154],\"y\":[53158.68253477491,52706.00222308962,51804.525681318635,50907.37014961522,50010.54380116635,49114.32757675591,48219.19694393895,47323.42229075824,46030.319242393765,44341.46433789495,42643.200511697774,40920.668282831444,39164.42539030187,37381.90555905966,37113.78273524269,37102.956708675854,36978.163475530586,36853.294777130155,36728.35061347456,36603.33098456381,36592.47819411456,35580.2126207761,33770.92395252423,32665.808957301808,32655.20701271467,32533.20854993689,32411.52585562702,32290.158929785048,32169.107772410975,32158.617815653502,31995.891837739895,30265.584859879735,28552.815411724172,26853.75491195421,25178.156153772237,23533.64706401563,21911.879042303342,20304.82138631596,18716.00194590931,17150.981204752323,15613.72909527218,14107.31763514572,12635.290808054646,11201.06106837336,9807.476905374831,8457.586510913421,7156.179088948973,5909.19471640267,4722.3704664970755,3606.1764907351376,2573.8239810484124,1641.4605838245675,837.881618724406,157.45130315781574,0.0,0.0],\"type\":\"scatter\",\"uid\":\"96fefe5c-aa83-4b3c-8f44-4017b551dc9d\"}],                        {\"template\":{\"data\":{\"barpolar\":[{\"marker\":{\"line\":{\"color\":\"#E5ECF6\",\"width\":0.5},\"pattern\":{\"fillmode\":\"overlay\",\"size\":10,\"solidity\":0.2}},\"type\":\"barpolar\"}],\"bar\":[{\"error_x\":{\"color\":\"#2a3f5f\"},\"error_y\":{\"color\":\"#2a3f5f\"},\"marker\":{\"line\":{\"color\":\"#E5ECF6\",\"width\":0.5},\"pattern\":{\"fillmode\":\"overlay\",\"size\":10,\"solidity\":0.2}},\"type\":\"bar\"}],\"carpet\":[{\"aaxis\":{\"endlinecolor\":\"#2a3f5f\",\"gridcolor\":\"white\",\"linecolor\":\"white\",\"minorgridcolor\":\"white\",\"startlinecolor\":\"#2a3f5f\"},\"baxis\":{\"endlinecolor\":\"#2a3f5f\",\"gridcolor\":\"white\",\"linecolor\":\"white\",\"minorgridcolor\":\"white\",\"startlinecolor\":\"#2a3f5f\"},\"type\":\"carpet\"}],\"choropleth\":[{\"colorbar\":{\"outlinewidth\":0,\"ticks\":\"\"},\"type\":\"choropleth\"}],\"contourcarpet\":[{\"colorbar\":{\"outlinewidth\":0,\"ticks\":\"\"},\"type\":\"contourcarpet\"}],\"contour\":[{\"colorbar\":{\"outlinewidth\":0,\"ticks\":\"\"},\"colorscale\":[[0.0,\"#0d0887\"],[0.1111111111111111,\"#46039f\"],[0.2222222222222222,\"#7201a8\"],[0.3333333333333333,\"#9c179e\"],[0.4444444444444444,\"#bd3786\"],[0.5555555555555556,\"#d8576b\"],[0.6666666666666666,\"#ed7953\"],[0.7777777777777778,\"#fb9f3a\"],[0.8888888888888888,\"#fdca26\"],[1.0,\"#f0f921\"]],\"type\":\"contour\"}],\"heatmapgl\":[{\"colorbar\":{\"outlinewidth\":0,\"ticks\":\"\"},\"colorscale\":[[0.0,\"#0d0887\"],[0.1111111111111111,\"#46039f\"],[0.2222222222222222,\"#7201a8\"],[0.3333333333333333,\"#9c179e\"],[0.4444444444444444,\"#bd3786\"],[0.5555555555555556,\"#d8576b\"],[0.6666666666666666,\"#ed7953\"],[0.7777777777777778,\"#fb9f3a\"],[0.8888888888888888,\"#fdca26\"],[1.0,\"#f0f921\"]],\"type\":\"heatmapgl\"}],\"heatmap\":[{\"colorbar\":{\"outlinewidth\":0,\"ticks\":\"\"},\"colorscale\":[[0.0,\"#0d0887\"],[0.1111111111111111,\"#46039f\"],[0.2222222222222222,\"#7201a8\"],[0.3333333333333333,\"#9c179e\"],[0.4444444444444444,\"#bd3786\"],[0.5555555555555556,\"#d8576b\"],[0.6666666666666666,\"#ed7953\"],[0.7777777777777778,\"#fb9f3a\"],[0.8888888888888888,\"#fdca26\"],[1.0,\"#f0f921\"]],\"type\":\"heatmap\"}],\"histogram2dcontour\":[{\"colorbar\":{\"outlinewidth\":0,\"ticks\":\"\"},\"colorscale\":[[0.0,\"#0d0887\"],[0.1111111111111111,\"#46039f\"],[0.2222222222222222,\"#7201a8\"],[0.3333333333333333,\"#9c179e\"],[0.4444444444444444,\"#bd3786\"],[0.5555555555555556,\"#d8576b\"],[0.6666666666666666,\"#ed7953\"],[0.7777777777777778,\"#fb9f3a\"],[0.8888888888888888,\"#fdca26\"],[1.0,\"#f0f921\"]],\"type\":\"histogram2dcontour\"}],\"histogram2d\":[{\"colorbar\":{\"outlinewidth\":0,\"ticks\":\"\"},\"colorscale\":[[0.0,\"#0d0887\"],[0.1111111111111111,\"#46039f\"],[0.2222222222222222,\"#7201a8\"],[0.3333333333333333,\"#9c179e\"],[0.4444444444444444,\"#bd3786\"],[0.5555555555555556,\"#d8576b\"],[0.6666666666666666,\"#ed7953\"],[0.7777777777777778,\"#fb9f3a\"],[0.8888888888888888,\"#fdca26\"],[1.0,\"#f0f921\"]],\"type\":\"histogram2d\"}],\"histogram\":[{\"marker\":{\"pattern\":{\"fillmode\":\"overlay\",\"size\":10,\"solidity\":0.2}},\"type\":\"histogram\"}],\"mesh3d\":[{\"colorbar\":{\"outlinewidth\":0,\"ticks\":\"\"},\"type\":\"mesh3d\"}],\"parcoords\":[{\"line\":{\"colorbar\":{\"outlinewidth\":0,\"ticks\":\"\"}},\"type\":\"parcoords\"}],\"pie\":[{\"automargin\":true,\"type\":\"pie\"}],\"scatter3d\":[{\"line\":{\"colorbar\":{\"outlinewidth\":0,\"ticks\":\"\"}},\"marker\":{\"colorbar\":{\"outlinewidth\":0,\"ticks\":\"\"}},\"type\":\"scatter3d\"}],\"scattercarpet\":[{\"marker\":{\"colorbar\":{\"outlinewidth\":0,\"ticks\":\"\"}},\"type\":\"scattercarpet\"}],\"scattergeo\":[{\"marker\":{\"colorbar\":{\"outlinewidth\":0,\"ticks\":\"\"}},\"type\":\"scattergeo\"}],\"scattergl\":[{\"marker\":{\"colorbar\":{\"outlinewidth\":0,\"ticks\":\"\"}},\"type\":\"scattergl\"}],\"scattermapbox\":[{\"marker\":{\"colorbar\":{\"outlinewidth\":0,\"ticks\":\"\"}},\"type\":\"scattermapbox\"}],\"scatterpolargl\":[{\"marker\":{\"colorbar\":{\"outlinewidth\":0,\"ticks\":\"\"}},\"type\":\"scatterpolargl\"}],\"scatterpolar\":[{\"marker\":{\"colorbar\":{\"outlinewidth\":0,\"ticks\":\"\"}},\"type\":\"scatterpolar\"}],\"scatter\":[{\"fillpattern\":{\"fillmode\":\"overlay\",\"size\":10,\"solidity\":0.2},\"type\":\"scatter\"}],\"scatterternary\":[{\"marker\":{\"colorbar\":{\"outlinewidth\":0,\"ticks\":\"\"}},\"type\":\"scatterternary\"}],\"surface\":[{\"colorbar\":{\"outlinewidth\":0,\"ticks\":\"\"},\"colorscale\":[[0.0,\"#0d0887\"],[0.1111111111111111,\"#46039f\"],[0.2222222222222222,\"#7201a8\"],[0.3333333333333333,\"#9c179e\"],[0.4444444444444444,\"#bd3786\"],[0.5555555555555556,\"#d8576b\"],[0.6666666666666666,\"#ed7953\"],[0.7777777777777778,\"#fb9f3a\"],[0.8888888888888888,\"#fdca26\"],[1.0,\"#f0f921\"]],\"type\":\"surface\"}],\"table\":[{\"cells\":{\"fill\":{\"color\":\"#EBF0F8\"},\"line\":{\"color\":\"white\"}},\"header\":{\"fill\":{\"color\":\"#C8D4E3\"},\"line\":{\"color\":\"white\"}},\"type\":\"table\"}]},\"layout\":{\"annotationdefaults\":{\"arrowcolor\":\"#2a3f5f\",\"arrowhead\":0,\"arrowwidth\":1},\"autotypenumbers\":\"strict\",\"coloraxis\":{\"colorbar\":{\"outlinewidth\":0,\"ticks\":\"\"}},\"colorscale\":{\"diverging\":[[0,\"#8e0152\"],[0.1,\"#c51b7d\"],[0.2,\"#de77ae\"],[0.3,\"#f1b6da\"],[0.4,\"#fde0ef\"],[0.5,\"#f7f7f7\"],[0.6,\"#e6f5d0\"],[0.7,\"#b8e186\"],[0.8,\"#7fbc41\"],[0.9,\"#4d9221\"],[1,\"#276419\"]],\"sequential\":[[0.0,\"#0d0887\"],[0.1111111111111111,\"#46039f\"],[0.2222222222222222,\"#7201a8\"],[0.3333333333333333,\"#9c179e\"],[0.4444444444444444,\"#bd3786\"],[0.5555555555555556,\"#d8576b\"],[0.6666666666666666,\"#ed7953\"],[0.7777777777777778,\"#fb9f3a\"],[0.8888888888888888,\"#fdca26\"],[1.0,\"#f0f921\"]],\"sequentialminus\":[[0.0,\"#0d0887\"],[0.1111111111111111,\"#46039f\"],[0.2222222222222222,\"#7201a8\"],[0.3333333333333333,\"#9c179e\"],[0.4444444444444444,\"#bd3786\"],[0.5555555555555556,\"#d8576b\"],[0.6666666666666666,\"#ed7953\"],[0.7777777777777778,\"#fb9f3a\"],[0.8888888888888888,\"#fdca26\"],[1.0,\"#f0f921\"]]},\"colorway\":[\"#636efa\",\"#EF553B\",\"#00cc96\",\"#ab63fa\",\"#FFA15A\",\"#19d3f3\",\"#FF6692\",\"#B6E880\",\"#FF97FF\",\"#FECB52\"],\"font\":{\"color\":\"#2a3f5f\"},\"geo\":{\"bgcolor\":\"white\",\"lakecolor\":\"white\",\"landcolor\":\"#E5ECF6\",\"showlakes\":true,\"showland\":true,\"subunitcolor\":\"white\"},\"hoverlabel\":{\"align\":\"left\"},\"hovermode\":\"closest\",\"mapbox\":{\"style\":\"light\"},\"paper_bgcolor\":\"white\",\"plot_bgcolor\":\"#E5ECF6\",\"polar\":{\"angularaxis\":{\"gridcolor\":\"white\",\"linecolor\":\"white\",\"ticks\":\"\"},\"bgcolor\":\"#E5ECF6\",\"radialaxis\":{\"gridcolor\":\"white\",\"linecolor\":\"white\",\"ticks\":\"\"}},\"scene\":{\"xaxis\":{\"backgroundcolor\":\"#E5ECF6\",\"gridcolor\":\"white\",\"gridwidth\":2,\"linecolor\":\"white\",\"showbackground\":true,\"ticks\":\"\",\"zerolinecolor\":\"white\"},\"yaxis\":{\"backgroundcolor\":\"#E5ECF6\",\"gridcolor\":\"white\",\"gridwidth\":2,\"linecolor\":\"white\",\"showbackground\":true,\"ticks\":\"\",\"zerolinecolor\":\"white\"},\"zaxis\":{\"backgroundcolor\":\"#E5ECF6\",\"gridcolor\":\"white\",\"gridwidth\":2,\"linecolor\":\"white\",\"showbackground\":true,\"ticks\":\"\",\"zerolinecolor\":\"white\"}},\"shapedefaults\":{\"line\":{\"color\":\"#2a3f5f\"}},\"ternary\":{\"aaxis\":{\"gridcolor\":\"white\",\"linecolor\":\"white\",\"ticks\":\"\"},\"baxis\":{\"gridcolor\":\"white\",\"linecolor\":\"white\",\"ticks\":\"\"},\"bgcolor\":\"#E5ECF6\",\"caxis\":{\"gridcolor\":\"white\",\"linecolor\":\"white\",\"ticks\":\"\"}},\"title\":{\"x\":0.05},\"xaxis\":{\"automargin\":true,\"gridcolor\":\"white\",\"linecolor\":\"white\",\"ticks\":\"\",\"title\":{\"standoff\":15},\"zerolinecolor\":\"white\",\"zerolinewidth\":2},\"yaxis\":{\"automargin\":true,\"gridcolor\":\"white\",\"linecolor\":\"white\",\"ticks\":\"\",\"title\":{\"standoff\":15},\"zerolinecolor\":\"white\",\"zerolinewidth\":2}}},\"title\":{\"text\":\"Shear forces on the wing\",\"x\":0.5},\"xaxis\":{\"title\":{\"text\":\"spanwise position [m]\"}},\"yaxis\":{\"title\":{\"text\":\"shear force [N]\"}}},                        {\"responsive\": true}                    ).then(function(){\n",
       "                            \n",
       "var gd = document.getElementById('965d7d6e-096c-48aa-9eb8-95dd7312a707');\n",
       "var x = new MutationObserver(function (mutations, observer) {{\n",
       "        var display = window.getComputedStyle(gd).display;\n",
       "        if (!display || display === 'none') {{\n",
       "            console.log([gd, 'removed!']);\n",
       "            Plotly.purge(gd);\n",
       "            observer.disconnect();\n",
       "        }}\n",
       "}});\n",
       "\n",
       "// Listen for the removal of the full notebook cells\n",
       "var notebookContainer = gd.closest('#notebook-container');\n",
       "if (notebookContainer) {{\n",
       "    x.observe(notebookContainer, {childList: true});\n",
       "}}\n",
       "\n",
       "// Listen for the clearing of the current output cell\n",
       "var outputEl = gd.closest('.output');\n",
       "if (outputEl) {{\n",
       "    x.observe(outputEl, {childList: true});\n",
       "}}\n",
       "\n",
       "                        })                };                });            </script>        </div>"
      ]
     },
     "metadata": {},
     "output_type": "display_data"
    }
   ],
   "source": [
    "fig2 = api_plots.shear_diagram(\n",
    "    pth.join(WORK_FOLDER_PATH, \"beechcraft_76_loads.xml\"), name=\"Beechcraft Duchess\"\n",
    ")\n",
    "fig2.show()"
   ]
  },
  {
   "cell_type": "code",
   "execution_count": 19,
   "metadata": {},
   "outputs": [
    {
     "data": {
      "application/vnd.plotly.v1+json": {
       "config": {
        "plotlyServerURL": "https://plot.ly"
       },
       "data": [
        {
         "mode": "lines",
         "name": "Beechcraft Duchess - wing weight bending moment",
         "type": "scatter",
         "uid": "733d042d-300b-42e6-abff-93a497f5ac6f",
         "x": [
          0,
          0.04278,
          0.12834,
          0.21389,
          0.29945,
          0.38501,
          0.47056,
          0.55612,
          0.67982,
          0.84215,
          1.00539,
          1.16945,
          1.33423,
          1.49963,
          1.524413275460491,
          1.525413275460491,
          1.5369366377302456,
          1.54846,
          1.5599833622697543,
          1.571506724539509,
          1.5725067245395088,
          1.66555,
          1.83189,
          1.9349248613187446,
          1.9359248613187445,
          1.9474482235884991,
          1.9589715858582535,
          1.9704949481280079,
          1.9820183103977624,
          1.9830183103977623,
          1.99856,
          2.16543,
          2.33242,
          2.49941,
          2.66631,
          2.83301,
          2.9994,
          3.16539,
          3.33086,
          3.49573,
          3.65989,
          3.82325,
          3.9857,
          4.14716,
          4.30754,
          4.46675,
          4.6247,
          4.78131,
          4.9365,
          5.09019,
          5.24232,
          5.39281,
          5.54159,
          5.68861,
          5.7616811348772154
         ],
         "y": [
          -10574.22118395126,
          -10417.783984027152,
          -10108.407049582729,
          -9803.728743890366,
          -9503.677838824833,
          -9208.290220964358,
          -8917.599596825954,
          -8631.538008344365,
          -8226.20374893173,
          -7709.07728198371,
          -7205.979325733072,
          -6717.457051444635,
          -6244.049596145953,
          -5786.255198628171,
          -5719.16125246513,
          -5716.4622379044495,
          -5685.406479663637,
          -5654.435309478565,
          -5623.548727349237,
          -5592.746733275652,
          -5590.077718014275,
          -5344.530772645056,
          -4919.291543813645,
          -4664.728679531178,
          -4662.291167582264,
          -4634.248798671304,
          -4606.29101781609,
          -4578.417825016617,
          -4550.629220272887,
          -4548.221707623275,
          -4510.88677724638,
          -4119.719406705808,
          -3746.0279790721333,
          -3390.1001741915047,
          -3052.1134628357545,
          -2732.244366185657,
          -2430.6227376643633,
          -2147.2988614133837,
          -1882.3316784498968,
          -1635.6722374133524,
          -1407.2787795729857,
          -1197.0397069596484,
          -1004.8297243594865,
          -830.4486083190205,
          -673.6742630491793,
          -534.2499238441471,
          -411.88480206046813,
          -306.248535298138,
          -216.98213593348711,
          -143.69869438527908,
          -85.97750371208306,
          -43.38383440348858,
          -15.455853871455677,
          -1.709697605813898,
          0,
          0
         ]
        },
        {
         "mode": "lines",
         "name": "Beechcraft Duchess - fuel weight bending moment",
         "type": "scatter",
         "uid": "983a87c0-cb71-47de-957d-8a4a9a50de05",
         "x": [
          0,
          0.04278,
          0.12834,
          0.21389,
          0.29945,
          0.38501,
          0.47056,
          0.55612,
          0.67982,
          0.84215,
          1.00539,
          1.16945,
          1.33423,
          1.49963,
          1.524413275460491,
          1.525413275460491,
          1.5369366377302456,
          1.54846,
          1.5599833622697543,
          1.571506724539509,
          1.5725067245395088,
          1.66555,
          1.83189,
          1.9349248613187446,
          1.9359248613187445,
          1.9474482235884991,
          1.9589715858582535,
          1.9704949481280079,
          1.9820183103977624,
          1.9830183103977623,
          1.99856,
          2.16543,
          2.33242,
          2.49941,
          2.66631,
          2.83301,
          2.9994,
          3.16539,
          3.33086,
          3.49573,
          3.65989,
          3.82325,
          3.9857,
          4.14716,
          4.30754,
          4.46675,
          4.6247,
          4.78131,
          4.9365,
          5.09019,
          5.24232,
          5.39281,
          5.54159,
          5.68861,
          5.7616811348772154
         ],
         "y": [
          -10908.068005865058,
          -10785.68682367176,
          -10540.924459285165,
          -10296.190702000531,
          -10051.428337613934,
          -9806.665973227338,
          -9561.932215942703,
          -9317.169851556107,
          -8963.30000028657,
          -8498.920914137947,
          -8031.938581710785,
          -7562.6104669227425,
          -7091.2226407934395,
          -6618.061174342494,
          -6547.163405537514,
          -6544.302695341317,
          -6511.337695401761,
          -6478.372695462207,
          -6445.40769552265,
          -6412.442695583095,
          -6409.581985386898,
          -6143.412138589525,
          -5667.561604554156,
          -5372.8087262159015,
          -5369.948016019705,
          -5336.983016080149,
          -5304.018016140594,
          -5271.053016201039,
          -5238.088016261482,
          -5235.227306065286,
          -5190.76703615404,
          -4713.400325714684,
          -4235.690330051786,
          -3757.980334388887,
          -3310.8919998155593,
          -2894.2884049661775,
          -2507.956255730358,
          -2151.567298008409,
          -1824.7925618983757,
          -1527.1589472248681,
          -1258.1943202546406,
          -1017.3355872573577,
          -803.9969673376125,
          -617.502957737446,
          -457.15136108383354,
          -322.2002217044227,
          -211.8703222435708,
          -125.34288446140106,
          -61.772514109361786,
          -20.289369124452996,
          0,
          0,
          0,
          0,
          0,
          0
         ]
        },
        {
         "mode": "lines",
         "name": "Beechcraft Duchess - point masses bending moment",
         "type": "scatter",
         "uid": "ca8448a4-65b6-44f3-8974-d3edae7580c3",
         "x": [
          0,
          0.04278,
          0.12834,
          0.21389,
          0.29945,
          0.38501,
          0.47056,
          0.55612,
          0.67982,
          0.84215,
          1.00539,
          1.16945,
          1.33423,
          1.49963,
          1.524413275460491,
          1.525413275460491,
          1.5369366377302456,
          1.54846,
          1.5599833622697543,
          1.571506724539509,
          1.5725067245395088,
          1.66555,
          1.83189,
          1.9349248613187446,
          1.9359248613187445,
          1.9474482235884991,
          1.9589715858582535,
          1.9704949481280079,
          1.9820183103977624,
          1.9830183103977623,
          1.99856,
          2.16543,
          2.33242,
          2.49941,
          2.66631,
          2.83301,
          2.9994,
          3.16539,
          3.33086,
          3.49573,
          3.65989,
          3.82325,
          3.9857,
          4.14716,
          4.30754,
          4.46675,
          4.6247,
          4.78131,
          4.9365,
          5.09019,
          5.24232,
          5.39281,
          5.54159,
          5.68861,
          5.7616811348772154
         ],
         "y": [
          -14779.121912415658,
          -14446.91411397921,
          -13782.498517106316,
          -13118.16057516527,
          -12453.744978292374,
          -11789.32938141948,
          -11124.991439478434,
          -10460.57584260554,
          -9499.984335672665,
          -8239.41182701936,
          -6971.772719568084,
          -5697.7659077054495,
          -4418.167940749918,
          -3133.755368019944,
          -2941.301011339865,
          -2933.535518155283,
          -2845.6680066824456,
          -2760.7764045156746,
          -2678.8607116549697,
          -2599.920928100328,
          -2593.21084626413,
          -1968.8828536162134,
          -852.7278409828484,
          -161.35548955264252,
          -154.6454077164441,
          -87.60375410014237,
          -39.48230160863518,
          -10.281050241921061,
          0,
          0,
          0,
          0,
          0,
          0,
          0,
          0,
          0,
          0,
          0,
          0,
          0,
          0,
          0,
          0,
          0,
          0,
          0,
          0,
          0,
          0,
          0,
          0,
          0,
          0,
          0,
          0
         ]
        },
        {
         "mode": "lines",
         "name": "Beechcraft Duchess - lift bending moment",
         "type": "scatter",
         "uid": "7720a825-7f89-4f29-91c4-c629c76f9705",
         "x": [
          0,
          0.04278,
          0.12834,
          0.21389,
          0.29945,
          0.38501,
          0.47056,
          0.55612,
          0.67982,
          0.84215,
          1.00539,
          1.16945,
          1.33423,
          1.49963,
          1.524413275460491,
          1.525413275460491,
          1.5369366377302456,
          1.54846,
          1.5599833622697543,
          1.571506724539509,
          1.5725067245395088,
          1.66555,
          1.83189,
          1.9349248613187446,
          1.9359248613187445,
          1.9474482235884991,
          1.9589715858582535,
          1.9704949481280079,
          1.9820183103977624,
          1.9830183103977623,
          1.99856,
          2.16543,
          2.33242,
          2.49941,
          2.66631,
          2.83301,
          2.9994,
          3.16539,
          3.33086,
          3.49573,
          3.65989,
          3.82325,
          3.9857,
          4.14716,
          4.30754,
          4.46675,
          4.6247,
          4.78131,
          4.9365,
          5.09019,
          5.24232,
          5.39281,
          5.54159,
          5.68861,
          5.7616811348772154
         ],
         "y": [
          120330.12293716578,
          118367.38611524683,
          114492.2697914354,
          110684.08988334834,
          106941.90829626616,
          103266.16170455329,
          99657.19694389601,
          96114.10370873439,
          91109.09696421397,
          84750.72184286623,
          78595.68001907882,
          72652.21677929781,
          66931.3666663722,
          61444.31383567242,
          60644.36142927462,
          60612.20524943945,
          60242.33933338207,
          59873.7282940028,
          59506.37304075166,
          59140.2744830787,
          59108.56366995146,
          56199.52346702811,
          51204.34603416782,
          48241.61908030007,
          48213.34442385176,
          47888.190905307034,
          47564.25867876879,
          47241.544150576294,
          46920.04372706876,
          46892.20092943093,
          46460.6483222906,
          41965.25090700315,
          37715.310223765875,
          33712.68578655165,
          29956.677835745464,
          26444.766395153933,
          23173.45819918267,
          20141.85291008779,
          17348.466701348112,
          14790.42849437204,
          12463.616544804936,
          10363.516625973096,
          8484.38430313402,
          6819.997458307252,
          5362.862027243145,
          4105.628773519845,
          3039.568885489017,
          2155.6176307027968,
          1443.1466201793453,
          891.4168375208013,
          486.97088735411256,
          215.70640964986757,
          60.37425390607434,
          0,
          0,
          0
         ]
        }
       ],
       "layout": {
        "autosize": true,
        "template": {
         "data": {
          "bar": [
           {
            "error_x": {
             "color": "#2a3f5f"
            },
            "error_y": {
             "color": "#2a3f5f"
            },
            "marker": {
             "line": {
              "color": "#E5ECF6",
              "width": 0.5
             },
             "pattern": {
              "fillmode": "overlay",
              "size": 10,
              "solidity": 0.2
             }
            },
            "type": "bar"
           }
          ],
          "barpolar": [
           {
            "marker": {
             "line": {
              "color": "#E5ECF6",
              "width": 0.5
             },
             "pattern": {
              "fillmode": "overlay",
              "size": 10,
              "solidity": 0.2
             }
            },
            "type": "barpolar"
           }
          ],
          "carpet": [
           {
            "aaxis": {
             "endlinecolor": "#2a3f5f",
             "gridcolor": "white",
             "linecolor": "white",
             "minorgridcolor": "white",
             "startlinecolor": "#2a3f5f"
            },
            "baxis": {
             "endlinecolor": "#2a3f5f",
             "gridcolor": "white",
             "linecolor": "white",
             "minorgridcolor": "white",
             "startlinecolor": "#2a3f5f"
            },
            "type": "carpet"
           }
          ],
          "choropleth": [
           {
            "colorbar": {
             "outlinewidth": 0,
             "ticks": ""
            },
            "type": "choropleth"
           }
          ],
          "contour": [
           {
            "colorbar": {
             "outlinewidth": 0,
             "ticks": ""
            },
            "colorscale": [
             [
              0,
              "#0d0887"
             ],
             [
              0.1111111111111111,
              "#46039f"
             ],
             [
              0.2222222222222222,
              "#7201a8"
             ],
             [
              0.3333333333333333,
              "#9c179e"
             ],
             [
              0.4444444444444444,
              "#bd3786"
             ],
             [
              0.5555555555555556,
              "#d8576b"
             ],
             [
              0.6666666666666666,
              "#ed7953"
             ],
             [
              0.7777777777777778,
              "#fb9f3a"
             ],
             [
              0.8888888888888888,
              "#fdca26"
             ],
             [
              1,
              "#f0f921"
             ]
            ],
            "type": "contour"
           }
          ],
          "contourcarpet": [
           {
            "colorbar": {
             "outlinewidth": 0,
             "ticks": ""
            },
            "type": "contourcarpet"
           }
          ],
          "heatmap": [
           {
            "colorbar": {
             "outlinewidth": 0,
             "ticks": ""
            },
            "colorscale": [
             [
              0,
              "#0d0887"
             ],
             [
              0.1111111111111111,
              "#46039f"
             ],
             [
              0.2222222222222222,
              "#7201a8"
             ],
             [
              0.3333333333333333,
              "#9c179e"
             ],
             [
              0.4444444444444444,
              "#bd3786"
             ],
             [
              0.5555555555555556,
              "#d8576b"
             ],
             [
              0.6666666666666666,
              "#ed7953"
             ],
             [
              0.7777777777777778,
              "#fb9f3a"
             ],
             [
              0.8888888888888888,
              "#fdca26"
             ],
             [
              1,
              "#f0f921"
             ]
            ],
            "type": "heatmap"
           }
          ],
          "heatmapgl": [
           {
            "colorbar": {
             "outlinewidth": 0,
             "ticks": ""
            },
            "colorscale": [
             [
              0,
              "#0d0887"
             ],
             [
              0.1111111111111111,
              "#46039f"
             ],
             [
              0.2222222222222222,
              "#7201a8"
             ],
             [
              0.3333333333333333,
              "#9c179e"
             ],
             [
              0.4444444444444444,
              "#bd3786"
             ],
             [
              0.5555555555555556,
              "#d8576b"
             ],
             [
              0.6666666666666666,
              "#ed7953"
             ],
             [
              0.7777777777777778,
              "#fb9f3a"
             ],
             [
              0.8888888888888888,
              "#fdca26"
             ],
             [
              1,
              "#f0f921"
             ]
            ],
            "type": "heatmapgl"
           }
          ],
          "histogram": [
           {
            "marker": {
             "pattern": {
              "fillmode": "overlay",
              "size": 10,
              "solidity": 0.2
             }
            },
            "type": "histogram"
           }
          ],
          "histogram2d": [
           {
            "colorbar": {
             "outlinewidth": 0,
             "ticks": ""
            },
            "colorscale": [
             [
              0,
              "#0d0887"
             ],
             [
              0.1111111111111111,
              "#46039f"
             ],
             [
              0.2222222222222222,
              "#7201a8"
             ],
             [
              0.3333333333333333,
              "#9c179e"
             ],
             [
              0.4444444444444444,
              "#bd3786"
             ],
             [
              0.5555555555555556,
              "#d8576b"
             ],
             [
              0.6666666666666666,
              "#ed7953"
             ],
             [
              0.7777777777777778,
              "#fb9f3a"
             ],
             [
              0.8888888888888888,
              "#fdca26"
             ],
             [
              1,
              "#f0f921"
             ]
            ],
            "type": "histogram2d"
           }
          ],
          "histogram2dcontour": [
           {
            "colorbar": {
             "outlinewidth": 0,
             "ticks": ""
            },
            "colorscale": [
             [
              0,
              "#0d0887"
             ],
             [
              0.1111111111111111,
              "#46039f"
             ],
             [
              0.2222222222222222,
              "#7201a8"
             ],
             [
              0.3333333333333333,
              "#9c179e"
             ],
             [
              0.4444444444444444,
              "#bd3786"
             ],
             [
              0.5555555555555556,
              "#d8576b"
             ],
             [
              0.6666666666666666,
              "#ed7953"
             ],
             [
              0.7777777777777778,
              "#fb9f3a"
             ],
             [
              0.8888888888888888,
              "#fdca26"
             ],
             [
              1,
              "#f0f921"
             ]
            ],
            "type": "histogram2dcontour"
           }
          ],
          "mesh3d": [
           {
            "colorbar": {
             "outlinewidth": 0,
             "ticks": ""
            },
            "type": "mesh3d"
           }
          ],
          "parcoords": [
           {
            "line": {
             "colorbar": {
              "outlinewidth": 0,
              "ticks": ""
             }
            },
            "type": "parcoords"
           }
          ],
          "pie": [
           {
            "automargin": true,
            "type": "pie"
           }
          ],
          "scatter": [
           {
            "fillpattern": {
             "fillmode": "overlay",
             "size": 10,
             "solidity": 0.2
            },
            "type": "scatter"
           }
          ],
          "scatter3d": [
           {
            "line": {
             "colorbar": {
              "outlinewidth": 0,
              "ticks": ""
             }
            },
            "marker": {
             "colorbar": {
              "outlinewidth": 0,
              "ticks": ""
             }
            },
            "type": "scatter3d"
           }
          ],
          "scattercarpet": [
           {
            "marker": {
             "colorbar": {
              "outlinewidth": 0,
              "ticks": ""
             }
            },
            "type": "scattercarpet"
           }
          ],
          "scattergeo": [
           {
            "marker": {
             "colorbar": {
              "outlinewidth": 0,
              "ticks": ""
             }
            },
            "type": "scattergeo"
           }
          ],
          "scattergl": [
           {
            "marker": {
             "colorbar": {
              "outlinewidth": 0,
              "ticks": ""
             }
            },
            "type": "scattergl"
           }
          ],
          "scattermapbox": [
           {
            "marker": {
             "colorbar": {
              "outlinewidth": 0,
              "ticks": ""
             }
            },
            "type": "scattermapbox"
           }
          ],
          "scatterpolar": [
           {
            "marker": {
             "colorbar": {
              "outlinewidth": 0,
              "ticks": ""
             }
            },
            "type": "scatterpolar"
           }
          ],
          "scatterpolargl": [
           {
            "marker": {
             "colorbar": {
              "outlinewidth": 0,
              "ticks": ""
             }
            },
            "type": "scatterpolargl"
           }
          ],
          "scatterternary": [
           {
            "marker": {
             "colorbar": {
              "outlinewidth": 0,
              "ticks": ""
             }
            },
            "type": "scatterternary"
           }
          ],
          "surface": [
           {
            "colorbar": {
             "outlinewidth": 0,
             "ticks": ""
            },
            "colorscale": [
             [
              0,
              "#0d0887"
             ],
             [
              0.1111111111111111,
              "#46039f"
             ],
             [
              0.2222222222222222,
              "#7201a8"
             ],
             [
              0.3333333333333333,
              "#9c179e"
             ],
             [
              0.4444444444444444,
              "#bd3786"
             ],
             [
              0.5555555555555556,
              "#d8576b"
             ],
             [
              0.6666666666666666,
              "#ed7953"
             ],
             [
              0.7777777777777778,
              "#fb9f3a"
             ],
             [
              0.8888888888888888,
              "#fdca26"
             ],
             [
              1,
              "#f0f921"
             ]
            ],
            "type": "surface"
           }
          ],
          "table": [
           {
            "cells": {
             "fill": {
              "color": "#EBF0F8"
             },
             "line": {
              "color": "white"
             }
            },
            "header": {
             "fill": {
              "color": "#C8D4E3"
             },
             "line": {
              "color": "white"
             }
            },
            "type": "table"
           }
          ]
         },
         "layout": {
          "annotationdefaults": {
           "arrowcolor": "#2a3f5f",
           "arrowhead": 0,
           "arrowwidth": 1
          },
          "autotypenumbers": "strict",
          "coloraxis": {
           "colorbar": {
            "outlinewidth": 0,
            "ticks": ""
           }
          },
          "colorscale": {
           "diverging": [
            [
             0,
             "#8e0152"
            ],
            [
             0.1,
             "#c51b7d"
            ],
            [
             0.2,
             "#de77ae"
            ],
            [
             0.3,
             "#f1b6da"
            ],
            [
             0.4,
             "#fde0ef"
            ],
            [
             0.5,
             "#f7f7f7"
            ],
            [
             0.6,
             "#e6f5d0"
            ],
            [
             0.7,
             "#b8e186"
            ],
            [
             0.8,
             "#7fbc41"
            ],
            [
             0.9,
             "#4d9221"
            ],
            [
             1,
             "#276419"
            ]
           ],
           "sequential": [
            [
             0,
             "#0d0887"
            ],
            [
             0.1111111111111111,
             "#46039f"
            ],
            [
             0.2222222222222222,
             "#7201a8"
            ],
            [
             0.3333333333333333,
             "#9c179e"
            ],
            [
             0.4444444444444444,
             "#bd3786"
            ],
            [
             0.5555555555555556,
             "#d8576b"
            ],
            [
             0.6666666666666666,
             "#ed7953"
            ],
            [
             0.7777777777777778,
             "#fb9f3a"
            ],
            [
             0.8888888888888888,
             "#fdca26"
            ],
            [
             1,
             "#f0f921"
            ]
           ],
           "sequentialminus": [
            [
             0,
             "#0d0887"
            ],
            [
             0.1111111111111111,
             "#46039f"
            ],
            [
             0.2222222222222222,
             "#7201a8"
            ],
            [
             0.3333333333333333,
             "#9c179e"
            ],
            [
             0.4444444444444444,
             "#bd3786"
            ],
            [
             0.5555555555555556,
             "#d8576b"
            ],
            [
             0.6666666666666666,
             "#ed7953"
            ],
            [
             0.7777777777777778,
             "#fb9f3a"
            ],
            [
             0.8888888888888888,
             "#fdca26"
            ],
            [
             1,
             "#f0f921"
            ]
           ]
          },
          "colorway": [
           "#636efa",
           "#EF553B",
           "#00cc96",
           "#ab63fa",
           "#FFA15A",
           "#19d3f3",
           "#FF6692",
           "#B6E880",
           "#FF97FF",
           "#FECB52"
          ],
          "font": {
           "color": "#2a3f5f"
          },
          "geo": {
           "bgcolor": "white",
           "lakecolor": "white",
           "landcolor": "#E5ECF6",
           "showlakes": true,
           "showland": true,
           "subunitcolor": "white"
          },
          "hoverlabel": {
           "align": "left"
          },
          "hovermode": "closest",
          "mapbox": {
           "style": "light"
          },
          "paper_bgcolor": "white",
          "plot_bgcolor": "#E5ECF6",
          "polar": {
           "angularaxis": {
            "gridcolor": "white",
            "linecolor": "white",
            "ticks": ""
           },
           "bgcolor": "#E5ECF6",
           "radialaxis": {
            "gridcolor": "white",
            "linecolor": "white",
            "ticks": ""
           }
          },
          "scene": {
           "xaxis": {
            "backgroundcolor": "#E5ECF6",
            "gridcolor": "white",
            "gridwidth": 2,
            "linecolor": "white",
            "showbackground": true,
            "ticks": "",
            "zerolinecolor": "white"
           },
           "yaxis": {
            "backgroundcolor": "#E5ECF6",
            "gridcolor": "white",
            "gridwidth": 2,
            "linecolor": "white",
            "showbackground": true,
            "ticks": "",
            "zerolinecolor": "white"
           },
           "zaxis": {
            "backgroundcolor": "#E5ECF6",
            "gridcolor": "white",
            "gridwidth": 2,
            "linecolor": "white",
            "showbackground": true,
            "ticks": "",
            "zerolinecolor": "white"
           }
          },
          "shapedefaults": {
           "line": {
            "color": "#2a3f5f"
           }
          },
          "ternary": {
           "aaxis": {
            "gridcolor": "white",
            "linecolor": "white",
            "ticks": ""
           },
           "baxis": {
            "gridcolor": "white",
            "linecolor": "white",
            "ticks": ""
           },
           "bgcolor": "#E5ECF6",
           "caxis": {
            "gridcolor": "white",
            "linecolor": "white",
            "ticks": ""
           }
          },
          "title": {
           "x": 0.05
          },
          "xaxis": {
           "automargin": true,
           "gridcolor": "white",
           "linecolor": "white",
           "ticks": "",
           "title": {
            "standoff": 15
           },
           "zerolinecolor": "white",
           "zerolinewidth": 2
          },
          "yaxis": {
           "automargin": true,
           "gridcolor": "white",
           "linecolor": "white",
           "ticks": "",
           "title": {
            "standoff": 15
           },
           "zerolinecolor": "white",
           "zerolinewidth": 2
          }
         }
        },
        "title": {
         "text": "Bending moments on the wing",
         "x": 0.5
        },
        "xaxis": {
         "autorange": true,
         "range": [
          0,
          5.7616811348772154
         ],
         "title": {
          "text": "spanwise position [m]"
         },
         "type": "linear"
        },
        "yaxis": {
         "autorange": true,
         "range": [
          -22285.191070725738,
          127836.19209547587
         ],
         "title": {
          "text": "Root bending moment [Nm]"
         },
         "type": "linear"
        }
       }
      },
      "image/png": "[encoded data removed]",
      "text/html": [
       "<div>                            <div id=\"7606a963-123b-4840-9002-ff3c9a04b37e\" class=\"plotly-graph-div\" style=\"height:525px; width:100%;\"></div>            <script type=\"text/javascript\">                require([\"plotly\"], function(Plotly) {                    window.PLOTLYENV=window.PLOTLYENV || {};                                    if (document.getElementById(\"7606a963-123b-4840-9002-ff3c9a04b37e\")) {                    Plotly.newPlot(                        \"7606a963-123b-4840-9002-ff3c9a04b37e\",                        [{\"mode\":\"lines\",\"name\":\"Beechcraft Duchess - wing weight bending moment\",\"x\":[0.0,0.04278,0.12834,0.21389,0.29945,0.38501,0.47056,0.55612,0.67982,0.84215,1.00539,1.16945,1.33423,1.49963,1.524413275460491,1.525413275460491,1.5369366377302456,1.54846,1.5599833622697543,1.571506724539509,1.5725067245395088,1.66555,1.83189,1.9349248613187446,1.9359248613187445,1.9474482235884991,1.9589715858582535,1.9704949481280079,1.9820183103977624,1.9830183103977623,1.99856,2.16543,2.33242,2.49941,2.66631,2.83301,2.9994,3.16539,3.33086,3.49573,3.65989,3.82325,3.9857,4.14716,4.30754,4.46675,4.6247,4.78131,4.9365,5.09019,5.24232,5.39281,5.54159,5.68861,5.7616811348772154],\"y\":[-10574.22118395126,-10417.783984027152,-10108.407049582729,-9803.728743890366,-9503.677838824833,-9208.290220964358,-8917.599596825954,-8631.538008344365,-8226.20374893173,-7709.07728198371,-7205.979325733072,-6717.457051444635,-6244.049596145953,-5786.255198628171,-5719.16125246513,-5716.4622379044495,-5685.406479663637,-5654.435309478565,-5623.548727349237,-5592.746733275652,-5590.077718014275,-5344.530772645056,-4919.291543813645,-4664.728679531178,-4662.291167582264,-4634.248798671304,-4606.29101781609,-4578.417825016617,-4550.629220272887,-4548.221707623275,-4510.88677724638,-4119.719406705808,-3746.0279790721333,-3390.1001741915047,-3052.1134628357545,-2732.244366185657,-2430.6227376643633,-2147.2988614133837,-1882.3316784498968,-1635.6722374133524,-1407.2787795729857,-1197.0397069596484,-1004.8297243594865,-830.4486083190205,-673.6742630491793,-534.2499238441471,-411.88480206046813,-306.248535298138,-216.98213593348711,-143.69869438527908,-85.97750371208306,-43.38383440348858,-15.455853871455677,-1.709697605813898,0.0,0.0],\"type\":\"scatter\",\"uid\":\"733d042d-300b-42e6-abff-93a497f5ac6f\"},{\"mode\":\"lines\",\"name\":\"Beechcraft Duchess - fuel weight bending moment\",\"x\":[0.0,0.04278,0.12834,0.21389,0.29945,0.38501,0.47056,0.55612,0.67982,0.84215,1.00539,1.16945,1.33423,1.49963,1.524413275460491,1.525413275460491,1.5369366377302456,1.54846,1.5599833622697543,1.571506724539509,1.5725067245395088,1.66555,1.83189,1.9349248613187446,1.9359248613187445,1.9474482235884991,1.9589715858582535,1.9704949481280079,1.9820183103977624,1.9830183103977623,1.99856,2.16543,2.33242,2.49941,2.66631,2.83301,2.9994,3.16539,3.33086,3.49573,3.65989,3.82325,3.9857,4.14716,4.30754,4.46675,4.6247,4.78131,4.9365,5.09019,5.24232,5.39281,5.54159,5.68861,5.7616811348772154],\"y\":[-10908.068005865058,-10785.68682367176,-10540.924459285165,-10296.190702000531,-10051.428337613934,-9806.665973227338,-9561.932215942703,-9317.169851556107,-8963.30000028657,-8498.920914137947,-8031.938581710785,-7562.6104669227425,-7091.2226407934395,-6618.061174342494,-6547.163405537514,-6544.302695341317,-6511.337695401761,-6478.372695462207,-6445.40769552265,-6412.442695583095,-6409.581985386898,-6143.412138589525,-5667.561604554156,-5372.8087262159015,-5369.948016019705,-5336.983016080149,-5304.018016140594,-5271.053016201039,-5238.088016261482,-5235.227306065286,-5190.76703615404,-4713.400325714684,-4235.690330051786,-3757.980334388887,-3310.8919998155593,-2894.2884049661775,-2507.956255730358,-2151.567298008409,-1824.7925618983757,-1527.1589472248681,-1258.1943202546406,-1017.3355872573577,-803.9969673376125,-617.502957737446,-457.15136108383354,-322.2002217044227,-211.8703222435708,-125.34288446140106,-61.772514109361786,-20.289369124452996,0.0,0.0,0.0,0.0,0.0,0.0],\"type\":\"scatter\",\"uid\":\"983a87c0-cb71-47de-957d-8a4a9a50de05\"},{\"mode\":\"lines\",\"name\":\"Beechcraft Duchess - point masses bending moment\",\"x\":[0.0,0.04278,0.12834,0.21389,0.29945,0.38501,0.47056,0.55612,0.67982,0.84215,1.00539,1.16945,1.33423,1.49963,1.524413275460491,1.525413275460491,1.5369366377302456,1.54846,1.5599833622697543,1.571506724539509,1.5725067245395088,1.66555,1.83189,1.9349248613187446,1.9359248613187445,1.9474482235884991,1.9589715858582535,1.9704949481280079,1.9820183103977624,1.9830183103977623,1.99856,2.16543,2.33242,2.49941,2.66631,2.83301,2.9994,3.16539,3.33086,3.49573,3.65989,3.82325,3.9857,4.14716,4.30754,4.46675,4.6247,4.78131,4.9365,5.09019,5.24232,5.39281,5.54159,5.68861,5.7616811348772154],\"y\":[-14779.121912415658,-14446.91411397921,-13782.498517106316,-13118.16057516527,-12453.744978292374,-11789.32938141948,-11124.991439478434,-10460.57584260554,-9499.984335672665,-8239.41182701936,-6971.772719568084,-5697.7659077054495,-4418.167940749918,-3133.755368019944,-2941.301011339865,-2933.535518155283,-2845.6680066824456,-2760.7764045156746,-2678.8607116549697,-2599.920928100328,-2593.21084626413,-1968.8828536162134,-852.7278409828484,-161.35548955264252,-154.6454077164441,-87.60375410014237,-39.48230160863518,-10.281050241921061,0.0,0.0,0.0,0.0,0.0,0.0,0.0,0.0,0.0,0.0,0.0,0.0,0.0,0.0,0.0,0.0,0.0,0.0,0.0,0.0,0.0,0.0,0.0,0.0,0.0,0.0,0.0,0.0],\"type\":\"scatter\",\"uid\":\"ca8448a4-65b6-44f3-8974-d3edae7580c3\"},{\"mode\":\"lines\",\"name\":\"Beechcraft Duchess - lift bending moment\",\"x\":[0.0,0.04278,0.12834,0.21389,0.29945,0.38501,0.47056,0.55612,0.67982,0.84215,1.00539,1.16945,1.33423,1.49963,1.524413275460491,1.525413275460491,1.5369366377302456,1.54846,1.5599833622697543,1.571506724539509,1.5725067245395088,1.66555,1.83189,1.9349248613187446,1.9359248613187445,1.9474482235884991,1.9589715858582535,1.9704949481280079,1.9820183103977624,1.9830183103977623,1.99856,2.16543,2.33242,2.49941,2.66631,2.83301,2.9994,3.16539,3.33086,3.49573,3.65989,3.82325,3.9857,4.14716,4.30754,4.46675,4.6247,4.78131,4.9365,5.09019,5.24232,5.39281,5.54159,5.68861,5.7616811348772154],\"y\":[120330.12293716578,118367.38611524683,114492.2697914354,110684.08988334834,106941.90829626616,103266.16170455329,99657.19694389601,96114.10370873439,91109.09696421397,84750.72184286623,78595.68001907882,72652.21677929781,66931.3666663722,61444.31383567242,60644.36142927462,60612.20524943945,60242.33933338207,59873.7282940028,59506.37304075166,59140.2744830787,59108.56366995146,56199.52346702811,51204.34603416782,48241.61908030007,48213.34442385176,47888.190905307034,47564.25867876879,47241.544150576294,46920.04372706876,46892.20092943093,46460.6483222906,41965.25090700315,37715.310223765875,33712.68578655165,29956.677835745464,26444.766395153933,23173.45819918267,20141.85291008779,17348.466701348112,14790.42849437204,12463.616544804936,10363.516625973096,8484.38430313402,6819.997458307252,5362.862027243145,4105.628773519845,3039.568885489017,2155.6176307027968,1443.1466201793453,891.4168375208013,486.97088735411256,215.70640964986757,60.37425390607434,0.0,0.0,0.0],\"type\":\"scatter\",\"uid\":\"7720a825-7f89-4f29-91c4-c629c76f9705\"}],                        {\"template\":{\"data\":{\"barpolar\":[{\"marker\":{\"line\":{\"color\":\"#E5ECF6\",\"width\":0.5},\"pattern\":{\"fillmode\":\"overlay\",\"size\":10,\"solidity\":0.2}},\"type\":\"barpolar\"}],\"bar\":[{\"error_x\":{\"color\":\"#2a3f5f\"},\"error_y\":{\"color\":\"#2a3f5f\"},\"marker\":{\"line\":{\"color\":\"#E5ECF6\",\"width\":0.5},\"pattern\":{\"fillmode\":\"overlay\",\"size\":10,\"solidity\":0.2}},\"type\":\"bar\"}],\"carpet\":[{\"aaxis\":{\"endlinecolor\":\"#2a3f5f\",\"gridcolor\":\"white\",\"linecolor\":\"white\",\"minorgridcolor\":\"white\",\"startlinecolor\":\"#2a3f5f\"},\"baxis\":{\"endlinecolor\":\"#2a3f5f\",\"gridcolor\":\"white\",\"linecolor\":\"white\",\"minorgridcolor\":\"white\",\"startlinecolor\":\"#2a3f5f\"},\"type\":\"carpet\"}],\"choropleth\":[{\"colorbar\":{\"outlinewidth\":0,\"ticks\":\"\"},\"type\":\"choropleth\"}],\"contourcarpet\":[{\"colorbar\":{\"outlinewidth\":0,\"ticks\":\"\"},\"type\":\"contourcarpet\"}],\"contour\":[{\"colorbar\":{\"outlinewidth\":0,\"ticks\":\"\"},\"colorscale\":[[0.0,\"#0d0887\"],[0.1111111111111111,\"#46039f\"],[0.2222222222222222,\"#7201a8\"],[0.3333333333333333,\"#9c179e\"],[0.4444444444444444,\"#bd3786\"],[0.5555555555555556,\"#d8576b\"],[0.6666666666666666,\"#ed7953\"],[0.7777777777777778,\"#fb9f3a\"],[0.8888888888888888,\"#fdca26\"],[1.0,\"#f0f921\"]],\"type\":\"contour\"}],\"heatmapgl\":[{\"colorbar\":{\"outlinewidth\":0,\"ticks\":\"\"},\"colorscale\":[[0.0,\"#0d0887\"],[0.1111111111111111,\"#46039f\"],[0.2222222222222222,\"#7201a8\"],[0.3333333333333333,\"#9c179e\"],[0.4444444444444444,\"#bd3786\"],[0.5555555555555556,\"#d8576b\"],[0.6666666666666666,\"#ed7953\"],[0.7777777777777778,\"#fb9f3a\"],[0.8888888888888888,\"#fdca26\"],[1.0,\"#f0f921\"]],\"type\":\"heatmapgl\"}],\"heatmap\":[{\"colorbar\":{\"outlinewidth\":0,\"ticks\":\"\"},\"colorscale\":[[0.0,\"#0d0887\"],[0.1111111111111111,\"#46039f\"],[0.2222222222222222,\"#7201a8\"],[0.3333333333333333,\"#9c179e\"],[0.4444444444444444,\"#bd3786\"],[0.5555555555555556,\"#d8576b\"],[0.6666666666666666,\"#ed7953\"],[0.7777777777777778,\"#fb9f3a\"],[0.8888888888888888,\"#fdca26\"],[1.0,\"#f0f921\"]],\"type\":\"heatmap\"}],\"histogram2dcontour\":[{\"colorbar\":{\"outlinewidth\":0,\"ticks\":\"\"},\"colorscale\":[[0.0,\"#0d0887\"],[0.1111111111111111,\"#46039f\"],[0.2222222222222222,\"#7201a8\"],[0.3333333333333333,\"#9c179e\"],[0.4444444444444444,\"#bd3786\"],[0.5555555555555556,\"#d8576b\"],[0.6666666666666666,\"#ed7953\"],[0.7777777777777778,\"#fb9f3a\"],[0.8888888888888888,\"#fdca26\"],[1.0,\"#f0f921\"]],\"type\":\"histogram2dcontour\"}],\"histogram2d\":[{\"colorbar\":{\"outlinewidth\":0,\"ticks\":\"\"},\"colorscale\":[[0.0,\"#0d0887\"],[0.1111111111111111,\"#46039f\"],[0.2222222222222222,\"#7201a8\"],[0.3333333333333333,\"#9c179e\"],[0.4444444444444444,\"#bd3786\"],[0.5555555555555556,\"#d8576b\"],[0.6666666666666666,\"#ed7953\"],[0.7777777777777778,\"#fb9f3a\"],[0.8888888888888888,\"#fdca26\"],[1.0,\"#f0f921\"]],\"type\":\"histogram2d\"}],\"histogram\":[{\"marker\":{\"pattern\":{\"fillmode\":\"overlay\",\"size\":10,\"solidity\":0.2}},\"type\":\"histogram\"}],\"mesh3d\":[{\"colorbar\":{\"outlinewidth\":0,\"ticks\":\"\"},\"type\":\"mesh3d\"}],\"parcoords\":[{\"line\":{\"colorbar\":{\"outlinewidth\":0,\"ticks\":\"\"}},\"type\":\"parcoords\"}],\"pie\":[{\"automargin\":true,\"type\":\"pie\"}],\"scatter3d\":[{\"line\":{\"colorbar\":{\"outlinewidth\":0,\"ticks\":\"\"}},\"marker\":{\"colorbar\":{\"outlinewidth\":0,\"ticks\":\"\"}},\"type\":\"scatter3d\"}],\"scattercarpet\":[{\"marker\":{\"colorbar\":{\"outlinewidth\":0,\"ticks\":\"\"}},\"type\":\"scattercarpet\"}],\"scattergeo\":[{\"marker\":{\"colorbar\":{\"outlinewidth\":0,\"ticks\":\"\"}},\"type\":\"scattergeo\"}],\"scattergl\":[{\"marker\":{\"colorbar\":{\"outlinewidth\":0,\"ticks\":\"\"}},\"type\":\"scattergl\"}],\"scattermapbox\":[{\"marker\":{\"colorbar\":{\"outlinewidth\":0,\"ticks\":\"\"}},\"type\":\"scattermapbox\"}],\"scatterpolargl\":[{\"marker\":{\"colorbar\":{\"outlinewidth\":0,\"ticks\":\"\"}},\"type\":\"scatterpolargl\"}],\"scatterpolar\":[{\"marker\":{\"colorbar\":{\"outlinewidth\":0,\"ticks\":\"\"}},\"type\":\"scatterpolar\"}],\"scatter\":[{\"fillpattern\":{\"fillmode\":\"overlay\",\"size\":10,\"solidity\":0.2},\"type\":\"scatter\"}],\"scatterternary\":[{\"marker\":{\"colorbar\":{\"outlinewidth\":0,\"ticks\":\"\"}},\"type\":\"scatterternary\"}],\"surface\":[{\"colorbar\":{\"outlinewidth\":0,\"ticks\":\"\"},\"colorscale\":[[0.0,\"#0d0887\"],[0.1111111111111111,\"#46039f\"],[0.2222222222222222,\"#7201a8\"],[0.3333333333333333,\"#9c179e\"],[0.4444444444444444,\"#bd3786\"],[0.5555555555555556,\"#d8576b\"],[0.6666666666666666,\"#ed7953\"],[0.7777777777777778,\"#fb9f3a\"],[0.8888888888888888,\"#fdca26\"],[1.0,\"#f0f921\"]],\"type\":\"surface\"}],\"table\":[{\"cells\":{\"fill\":{\"color\":\"#EBF0F8\"},\"line\":{\"color\":\"white\"}},\"header\":{\"fill\":{\"color\":\"#C8D4E3\"},\"line\":{\"color\":\"white\"}},\"type\":\"table\"}]},\"layout\":{\"annotationdefaults\":{\"arrowcolor\":\"#2a3f5f\",\"arrowhead\":0,\"arrowwidth\":1},\"autotypenumbers\":\"strict\",\"coloraxis\":{\"colorbar\":{\"outlinewidth\":0,\"ticks\":\"\"}},\"colorscale\":{\"diverging\":[[0,\"#8e0152\"],[0.1,\"#c51b7d\"],[0.2,\"#de77ae\"],[0.3,\"#f1b6da\"],[0.4,\"#fde0ef\"],[0.5,\"#f7f7f7\"],[0.6,\"#e6f5d0\"],[0.7,\"#b8e186\"],[0.8,\"#7fbc41\"],[0.9,\"#4d9221\"],[1,\"#276419\"]],\"sequential\":[[0.0,\"#0d0887\"],[0.1111111111111111,\"#46039f\"],[0.2222222222222222,\"#7201a8\"],[0.3333333333333333,\"#9c179e\"],[0.4444444444444444,\"#bd3786\"],[0.5555555555555556,\"#d8576b\"],[0.6666666666666666,\"#ed7953\"],[0.7777777777777778,\"#fb9f3a\"],[0.8888888888888888,\"#fdca26\"],[1.0,\"#f0f921\"]],\"sequentialminus\":[[0.0,\"#0d0887\"],[0.1111111111111111,\"#46039f\"],[0.2222222222222222,\"#7201a8\"],[0.3333333333333333,\"#9c179e\"],[0.4444444444444444,\"#bd3786\"],[0.5555555555555556,\"#d8576b\"],[0.6666666666666666,\"#ed7953\"],[0.7777777777777778,\"#fb9f3a\"],[0.8888888888888888,\"#fdca26\"],[1.0,\"#f0f921\"]]},\"colorway\":[\"#636efa\",\"#EF553B\",\"#00cc96\",\"#ab63fa\",\"#FFA15A\",\"#19d3f3\",\"#FF6692\",\"#B6E880\",\"#FF97FF\",\"#FECB52\"],\"font\":{\"color\":\"#2a3f5f\"},\"geo\":{\"bgcolor\":\"white\",\"lakecolor\":\"white\",\"landcolor\":\"#E5ECF6\",\"showlakes\":true,\"showland\":true,\"subunitcolor\":\"white\"},\"hoverlabel\":{\"align\":\"left\"},\"hovermode\":\"closest\",\"mapbox\":{\"style\":\"light\"},\"paper_bgcolor\":\"white\",\"plot_bgcolor\":\"#E5ECF6\",\"polar\":{\"angularaxis\":{\"gridcolor\":\"white\",\"linecolor\":\"white\",\"ticks\":\"\"},\"bgcolor\":\"#E5ECF6\",\"radialaxis\":{\"gridcolor\":\"white\",\"linecolor\":\"white\",\"ticks\":\"\"}},\"scene\":{\"xaxis\":{\"backgroundcolor\":\"#E5ECF6\",\"gridcolor\":\"white\",\"gridwidth\":2,\"linecolor\":\"white\",\"showbackground\":true,\"ticks\":\"\",\"zerolinecolor\":\"white\"},\"yaxis\":{\"backgroundcolor\":\"#E5ECF6\",\"gridcolor\":\"white\",\"gridwidth\":2,\"linecolor\":\"white\",\"showbackground\":true,\"ticks\":\"\",\"zerolinecolor\":\"white\"},\"zaxis\":{\"backgroundcolor\":\"#E5ECF6\",\"gridcolor\":\"white\",\"gridwidth\":2,\"linecolor\":\"white\",\"showbackground\":true,\"ticks\":\"\",\"zerolinecolor\":\"white\"}},\"shapedefaults\":{\"line\":{\"color\":\"#2a3f5f\"}},\"ternary\":{\"aaxis\":{\"gridcolor\":\"white\",\"linecolor\":\"white\",\"ticks\":\"\"},\"baxis\":{\"gridcolor\":\"white\",\"linecolor\":\"white\",\"ticks\":\"\"},\"bgcolor\":\"#E5ECF6\",\"caxis\":{\"gridcolor\":\"white\",\"linecolor\":\"white\",\"ticks\":\"\"}},\"title\":{\"x\":0.05},\"xaxis\":{\"automargin\":true,\"gridcolor\":\"white\",\"linecolor\":\"white\",\"ticks\":\"\",\"title\":{\"standoff\":15},\"zerolinecolor\":\"white\",\"zerolinewidth\":2},\"yaxis\":{\"automargin\":true,\"gridcolor\":\"white\",\"linecolor\":\"white\",\"ticks\":\"\",\"title\":{\"standoff\":15},\"zerolinecolor\":\"white\",\"zerolinewidth\":2}}},\"title\":{\"text\":\"Bending moments on the wing\",\"x\":0.5},\"xaxis\":{\"title\":{\"text\":\"spanwise position [m]\"}},\"yaxis\":{\"title\":{\"text\":\"Root bending moment [Nm]\"}}},                        {\"responsive\": true}                    ).then(function(){\n",
       "                            \n",
       "var gd = document.getElementById('7606a963-123b-4840-9002-ff3c9a04b37e');\n",
       "var x = new MutationObserver(function (mutations, observer) {{\n",
       "        var display = window.getComputedStyle(gd).display;\n",
       "        if (!display || display === 'none') {{\n",
       "            console.log([gd, 'removed!']);\n",
       "            Plotly.purge(gd);\n",
       "            observer.disconnect();\n",
       "        }}\n",
       "}});\n",
       "\n",
       "// Listen for the removal of the full notebook cells\n",
       "var notebookContainer = gd.closest('#notebook-container');\n",
       "if (notebookContainer) {{\n",
       "    x.observe(notebookContainer, {childList: true});\n",
       "}}\n",
       "\n",
       "// Listen for the clearing of the current output cell\n",
       "var outputEl = gd.closest('.output');\n",
       "if (outputEl) {{\n",
       "    x.observe(outputEl, {childList: true});\n",
       "}}\n",
       "\n",
       "                        })                };                });            </script>        </div>"
      ]
     },
     "metadata": {},
     "output_type": "display_data"
    }
   ],
   "source": [
    "fig3 = api_plots.rbm_diagram(\n",
    "    pth.join(WORK_FOLDER_PATH, \"beechcraft_76_loads.xml\"), name=\"Beechcraft Duchess\"\n",
    ")\n",
    "fig3.show()"
   ]
  }
 ],
 "metadata": {
  "kernelspec": {
   "display_name": "Python 3 (ipykernel)",
   "language": "python",
   "name": "python3"
  },
  "language_info": {
   "codemirror_mode": {
    "name": "ipython",
    "version": 3
   },
   "file_extension": ".py",
   "mimetype": "text/x-python",
   "name": "python",
   "nbconvert_exporter": "python",
   "pygments_lexer": "ipython3",
   "version": "3.10.9"
  }
 },
 "nbformat": 4,
 "nbformat_minor": 4
}
