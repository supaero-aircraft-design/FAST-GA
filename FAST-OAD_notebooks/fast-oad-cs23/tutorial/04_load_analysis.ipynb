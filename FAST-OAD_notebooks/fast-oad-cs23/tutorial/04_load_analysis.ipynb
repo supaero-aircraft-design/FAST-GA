{
 "cells": [
  {
   "cell_type": "markdown",
   "metadata": {},
   "source": [
    "<div class=\"row\">\n",
    "  <div class=\"column\">\n",
    "    <img src=\"./img/logo-onera.png\" width=\"200\">\n",
    "  </div>\n",
    "  <div class=\"column\">\n",
    "    <img src=\"./img/logo-ISAE_SUPAERO.png\" width=\"200\">\n",
    "  </div>\n",
    "</div>"
   ]
  },
  {
   "cell_type": "markdown",
   "metadata": {},
   "source": [
    "# FAST-OAD-GA Analysis mode Tutorial\n",
    "\n",
    "FAST-OAD-GA is an add-on package for [FAST-OAD framework](https://github.com/fast-aircraft-design/FAST-OAD) for performing rapid Overall Aircraft Design in the category General Aviation (GA). The computational core of FAST-OAD being based on the  [OpenMDAO framework](https://openmdao.org/).\n",
    "\n",
    "This notebook will show you the basic step to use the load analysis module using ID's to call the module and configuration files instead of importing the classes.\n",
    "\n",
    "To organize our work, we propose to use two user folders `data/` and `workdir/`. In `data/` we store the XML file which describes the aircraft to analyse, here the Beechcraft Duchess. In `workdir/`, we store files generated or modified by FAST-OAD-(GA)."
   ]
  },
  {
   "cell_type": "code",
   "execution_count": null,
   "metadata": {
    "scrolled": true
   },
   "outputs": [],
   "source": [
    "import os.path as pth\n",
    "import os\n",
    "import logging\n",
    "import shutil\n",
    "import openmdao.api as om\n",
    "import fastoad.api as oad\n",
    "\n",
    "import fastga.utils.postprocessing.post_processing_api as api_plots\n",
    "from fastga.command import api as api_cs23\n",
    "\n",
    "# Define relative path\n",
    "DATA_FOLDER_PATH = \"data\"\n",
    "WORK_FOLDER_PATH = \"workdir\"\n",
    "\n",
    "# Final file names\n",
    "AIRCRAFT_FILE = pth.join(WORK_FOLDER_PATH, \"beechcraft_76_loads.xml\")"
   ]
  },
  {
   "cell_type": "code",
   "execution_count": null,
   "metadata": {},
   "outputs": [],
   "source": [
    "# Clear work folder\n",
    "shutil.rmtree(WORK_FOLDER_PATH, ignore_errors=True)\n",
    "os.mkdir(WORK_FOLDER_PATH)\n",
    "\n",
    "# For using all screen width\n",
    "# from IPython.core.display import display, HTML\n",
    "# display(HTML(\"<style>.container { width:95% !important; }</style>\"))"
   ]
  },
  {
   "cell_type": "markdown",
   "metadata": {},
   "source": [
    "## 1. Read, modify and save different aircraft geometry configurations\n",
    "\n",
    "In this paragraph we will first run the geometry module on the aircraft to derive primary parameters into the detailed geometry set."
   ]
  },
  {
   "cell_type": "markdown",
   "metadata": {},
   "source": [
    "**This process can be done using the api generate block analysis method to get this working such as a python function:**\n",
    "1. Create a dictionnary with the options for your module\n",
    "2. Generate a block analysis using the module id"
   ]
  },
  {
   "cell_type": "code",
   "execution_count": null,
   "metadata": {},
   "outputs": [],
   "source": [
    "# Copy reference aircraft file in work directory\n",
    "shutil.copy(pth.join(DATA_FOLDER_PATH, \"beechcraft_76_loads.xml\"), AIRCRAFT_FILE)\n",
    "\n",
    "# Define the wing primary geometry parameters name as a list\n",
    "var_inputs = [\n",
    "    \"data:geometry:wing:area\",\n",
    "    \"data:geometry:wing:aspect_ratio\",\n",
    "    \"data:geometry:wing:taper_ratio\",\n",
    "]\n",
    "\n",
    "# Define the option of the geometry module you want to use (not putting any will use the default value when\n",
    "# available)\n",
    "option_dict = {\"propulsion_id\": \"fastga.wrapper.propulsion.basicIC_engine\"}\n",
    "\n",
    "# Declare function\n",
    "compute_geometry = api_cs23.generate_block_analysis(\n",
    "    \"fastga.geometry.legacy\",\n",
    "    var_inputs,\n",
    "    str(AIRCRAFT_FILE),\n",
    "    options=option_dict,\n",
    "    overwrite=True,\n",
    ")"
   ]
  },
  {
   "cell_type": "markdown",
   "metadata": {},
   "source": [
    "It is also possible to specify a configuration file as the input of the generate_block_analysis function, allowing to turn an OpenMDAO problem into a function. This will be showcased in the next cell but won't be reused afterwards."
   ]
  },
  {
   "cell_type": "code",
   "execution_count": null,
   "metadata": {},
   "outputs": [],
   "source": [
    "# Copy the configuration file which contains the same models as in the previous cell\n",
    "GEOMETRY_CONFIGURATION_FILE = pth.join(WORK_FOLDER_PATH, \"geometry.yml\")\n",
    "shutil.copy(pth.join(DATA_FOLDER_PATH, \"geometry.yml\"), GEOMETRY_CONFIGURATION_FILE)\n",
    "\n",
    "# Declare function\n",
    "compute_geometry_yml = api_cs23.generate_block_analysis(\n",
    "    GEOMETRY_CONFIGURATION_FILE,\n",
    "    var_inputs,\n",
    "    str(AIRCRAFT_FILE),\n",
    "    overwrite=False,\n",
    ")"
   ]
  },
  {
   "cell_type": "markdown",
   "metadata": {},
   "source": [
    "Now we can use the previously created function to calculate the aircraft."
   ]
  },
  {
   "cell_type": "code",
   "execution_count": null,
   "metadata": {},
   "outputs": [],
   "source": [
    "# Fetch reference aircraft values using a feature from FAST-OAD-core\n",
    "reference_aircraft = oad.DataFile(AIRCRAFT_FILE)\n",
    "\n",
    "wing_area = reference_aircraft[\"data:geometry:wing:area\"].value[0]\n",
    "wing_area_units = reference_aircraft[\"data:geometry:wing:area\"].units\n",
    "\n",
    "aspect_ratio = reference_aircraft[\"data:geometry:wing:aspect_ratio\"].value[0]\n",
    "aspect_ratio_units = reference_aircraft[\"data:geometry:wing:aspect_ratio\"].units\n",
    "\n",
    "taper_ratio = reference_aircraft[\"data:geometry:wing:taper_ratio\"].value[0]\n",
    "taper_ratio_units = reference_aircraft[\"data:geometry:wing:taper_ratio\"].units\n",
    "\n",
    "# Compute geometry\n",
    "inputs_dict = {\n",
    "    \"data:geometry:wing:area\": (wing_area, wing_area_units),\n",
    "    \"data:geometry:wing:aspect_ratio\": (aspect_ratio, aspect_ratio_units),\n",
    "    \"data:geometry:wing:taper_ratio\": (taper_ratio, taper_ratio_units),\n",
    "}\n",
    "outputs_dict = compute_geometry(inputs_dict)\n",
    "\n",
    "# Open viewer\n",
    "oad.variable_viewer(AIRCRAFT_FILE)"
   ]
  },
  {
   "cell_type": "markdown",
   "metadata": {},
   "source": [
    "Let's compare the results of the two ways of using the block analysis"
   ]
  },
  {
   "cell_type": "code",
   "execution_count": null,
   "metadata": {},
   "outputs": [],
   "source": [
    "outputs_dict_yml = compute_geometry_yml(inputs_dict)\n",
    "\n",
    "# Printing the results\n",
    "print(outputs_dict[\"data:geometry:wing:wet_area\"])\n",
    "print(outputs_dict_yml[\"data:geometry:wing:wet_area\"])"
   ]
  },
  {
   "cell_type": "markdown",
   "metadata": {},
   "source": [
    "From there on, we will only use the ID but the two ways are possible. We will now finish the analysis of the geometry by visualizing the previously generated geometries."
   ]
  },
  {
   "cell_type": "code",
   "execution_count": null,
   "metadata": {},
   "outputs": [],
   "source": [
    "fig = api_plots.aircraft_geometry_plot(\n",
    "    pth.join(WORK_FOLDER_PATH, \"beechcraft_76_loads.xml\"), name=\"Beechcraft 76\"\n",
    ")\n",
    "fig.show()"
   ]
  },
  {
   "cell_type": "markdown",
   "metadata": {},
   "source": [
    "## 2. Performing aerodynamic analysis\n",
    "In this chapter we will see how to perform an aerodynamics analysis on the aircraft.\n",
    "\n",
    "To do so, we will launch the aerodynamic coefficients computation using the same technique as previously mentionned on geometry."
   ]
  },
  {
   "cell_type": "code",
   "execution_count": null,
   "metadata": {},
   "outputs": [],
   "source": [
    "# Define the option of the geometry module you want to use\n",
    "# The openvsp_exe_path option might need to be deleted if the user doesn't have writing access\n",
    "option_dict = {\n",
    "    \"propulsion_id\": \"fastga.wrapper.propulsion.basicIC_engine\",\n",
    "    \"use_openvsp\": True,\n",
    "    \"openvsp_exe_path\": WORK_FOLDER_PATH,\n",
    "    \"compute_mach_interpolation\": False,\n",
    "    \"compute_slipstream_cruise\": True,\n",
    "}\n",
    "\n",
    "# Declare function on 1st geometry file\n",
    "compute_aero = api_cs23.generate_block_analysis(\n",
    "    \"fastga.aerodynamics.legacy\",\n",
    "    [],\n",
    "    str(AIRCRAFT_FILE),\n",
    "    options=option_dict,\n",
    "    overwrite=True,\n",
    ")"
   ]
  },
  {
   "cell_type": "code",
   "execution_count": null,
   "metadata": {},
   "outputs": [],
   "source": [
    "# Compute both aircraft designs\n",
    "result1 = compute_aero({})\n",
    "\n",
    "# Open viewer\n",
    "oad.variable_viewer(AIRCRAFT_FILE)"
   ]
  },
  {
   "cell_type": "code",
   "execution_count": null,
   "metadata": {},
   "outputs": [],
   "source": [
    "# Here we can verify the general shape of the  lift repartition on the wing and the values found in the\n",
    "# mach interpolation\n",
    "fig = api_plots.cl_wing_diagram(\n",
    "    pth.join(WORK_FOLDER_PATH, \"beechcraft_76_loads.xml\"), name=\"Beechcraft 76\"\n",
    ")\n",
    "fig = api_plots.cl_wing_diagram(\n",
    "    pth.join(WORK_FOLDER_PATH, \"beechcraft_76_loads.xml\"),\n",
    "    name=\"Beechcraft 76\",\n",
    "    fig=fig,\n",
    "    prop_on=True,\n",
    ")\n",
    "fig.show()"
   ]
  },
  {
   "cell_type": "code",
   "execution_count": null,
   "metadata": {},
   "outputs": [],
   "source": [
    "fig = api_plots.compressibility_effects_diagram(\n",
    "    pth.join(WORK_FOLDER_PATH, \"beechcraft_76_loads.xml\"), name=\"Beechcraft 76\"\n",
    ")\n",
    "fig.show()"
   ]
  },
  {
   "cell_type": "markdown",
   "metadata": {},
   "source": [
    "Then, we will compute the most stringent loading case among the one we defined in the function (MTOW and Min fuel weight in the wing) so that we can then print out the shear stress and wing root bending moment. First we must compute the maximum level velocity at sea level as it is an input of the V-n diagrams computed during the wing loading computation process. Since this component alone is not registered as a module, we can't generate the block analysis using only an ID but we can use the component directly"
   ]
  },
  {
   "cell_type": "code",
   "execution_count": null,
   "metadata": {},
   "outputs": [],
   "source": [
    "from fastga.models.aerodynamics.load_factor import LoadFactor\n",
    "\n",
    "var_inputs = [\"data:weight:aircraft:MTOW\", \"data:weight:aircraft:MZFW\"]\n",
    "\n",
    "compute_load_factor = api_cs23.generate_block_analysis(\n",
    "    LoadFactor(propulsion_id=\"fastga.wrapper.propulsion.basicIC_engine\"),\n",
    "    var_inputs,\n",
    "    str(AIRCRAFT_FILE),\n",
    "    overwrite=True,\n",
    ")"
   ]
  },
  {
   "cell_type": "code",
   "execution_count": null,
   "metadata": {},
   "outputs": [],
   "source": [
    "inputs_dict = {\n",
    "    \"data:weight:aircraft:MTOW\": (1769.0, \"kg\"),\n",
    "    \"data:weight:aircraft:MZFW\": (1587.0, \"kg\"),\n",
    "}\n",
    "\n",
    "result1 = compute_load_factor(inputs_dict)\n",
    "\n",
    "# Open viewer\n",
    "oad.variable_viewer(AIRCRAFT_FILE)"
   ]
  },
  {
   "cell_type": "markdown",
   "metadata": {},
   "source": [
    "For the loads however, we can go back to using ID's"
   ]
  },
  {
   "cell_type": "code",
   "execution_count": null,
   "metadata": {},
   "outputs": [],
   "source": [
    "var_inputs = [\n",
    "    \"data:weight:aircraft:CG:fwd:x\",\n",
    "    \"data:weight:aircraft:CG:aft:x\",\n",
    "    \"data:weight:aircraft_empty:CG:z\",\n",
    "    \"data:weight:propulsion:engine:mass\",\n",
    "    \"data:weight:airframe:landing_gear:main:mass\",\n",
    "    \"data:weight:airframe:wing:mass\",\n",
    "    \"data:mission:sizing:fuel\",\n",
    "    \"data:weight:aircraft:MZFW\",\n",
    "    \"data:weight:airframe:wing:punctual_mass:mass\",\n",
    "    \"data:weight:airframe:wing:punctual_mass:y_ratio\",\n",
    "]\n",
    "\n",
    "compute_wing_loads = api_cs23.generate_block_analysis(\n",
    "    \"fastga.loads.wing\",\n",
    "    var_inputs,\n",
    "    str(AIRCRAFT_FILE),\n",
    "    overwrite=True,\n",
    ")"
   ]
  },
  {
   "cell_type": "code",
   "execution_count": null,
   "metadata": {},
   "outputs": [],
   "source": [
    "# Compute both aircraft designs using similar input parameters\n",
    "inputs_dict = {\n",
    "    \"data:weight:aircraft:MZFW\": (1531.6, \"kg\"),\n",
    "    \"data:weight:aircraft:CG:fwd:x\": (2.76, \"m\"),\n",
    "    \"data:weight:aircraft:CG:aft:x\": (3.09, \"m\"),\n",
    "    \"data:weight:aircraft_empty:CG:z\": (1.197, \"m\"),\n",
    "    \"data:weight:propulsion:engine:mass\": (351.84, \"kg\"),\n",
    "    \"data:weight:airframe:landing_gear:main:mass\": (55.34, \"kg\"),\n",
    "    \"data:weight:airframe:wing:mass\": (192.46, \"kg\"),\n",
    "    \"data:mission:sizing:fuel\": (150.0, \"kg\"),\n",
    "    \"data:weight:airframe:wing:punctual_mass:mass\": (0, \"kg\"),\n",
    "    \"data:weight:airframe:wing:punctual_mass:y_ratio\": (0, None),\n",
    "}\n",
    "\n",
    "result1 = compute_wing_loads(inputs_dict)\n",
    "# Open viewer\n",
    "oad.variable_viewer(AIRCRAFT_FILE)"
   ]
  },
  {
   "cell_type": "code",
   "execution_count": null,
   "metadata": {},
   "outputs": [],
   "source": [
    "fig = api_plots.force_repartition_diagram(\n",
    "    pth.join(WORK_FOLDER_PATH, \"beechcraft_76_loads.xml\"), name=\"Beechcraft Duchess\"\n",
    ")\n",
    "fig.show()"
   ]
  },
  {
   "cell_type": "code",
   "execution_count": null,
   "metadata": {},
   "outputs": [],
   "source": [
    "fig2 = api_plots.shear_diagram(\n",
    "    pth.join(WORK_FOLDER_PATH, \"beechcraft_76_loads.xml\"), name=\"Beechcraft Duchess\"\n",
    ")\n",
    "fig2.show()"
   ]
  },
  {
   "cell_type": "code",
   "execution_count": null,
   "metadata": {},
   "outputs": [],
   "source": [
    "fig3 = api_plots.rbm_diagram(\n",
    "    pth.join(WORK_FOLDER_PATH, \"beechcraft_76_loads.xml\"), name=\"Beechcraft Duchess\"\n",
    ")\n",
    "fig3.show()"
   ]
  }
 ],
 "metadata": {
  "kernelspec": {
   "display_name": "Python 3 (ipykernel)",
   "language": "python",
   "name": "python3"
  },
  "language_info": {
   "codemirror_mode": {
    "name": "ipython",
    "version": 3
   },
   "file_extension": ".py",
   "mimetype": "text/x-python",
   "name": "python",
   "nbconvert_exporter": "python",
   "pygments_lexer": "ipython3",
   "version": "3.8.13"
  }
 },
 "nbformat": 4,
 "nbformat_minor": 4
}
