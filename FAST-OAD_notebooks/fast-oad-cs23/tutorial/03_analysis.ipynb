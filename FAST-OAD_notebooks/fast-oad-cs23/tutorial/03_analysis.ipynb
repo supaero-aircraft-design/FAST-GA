{
 "cells": [
  {
   "cell_type": "markdown",
   "metadata": {},
   "source": [
    "<div class=\"row\">\n",
    "  <div class=\"column\">\n",
    "    <img src=\"./img/logo-onera.png\" width=\"200\">\n",
    "  </div>\n",
    "  <div class=\"column\">\n",
    "    <img src=\"./img/logo-ISAE_SUPAERO.png\" width=\"200\">\n",
    "  </div>\n",
    "</div>"
   ]
  },
  {
   "cell_type": "markdown",
   "metadata": {},
   "source": [
    "# FAST-OAD-GA Analysis mode Tutorial\n",
    "\n",
    "FAST-OAD-GA is an add-on package for [FAST-OAD framework](https://github.com/fast-aircraft-design/FAST-OAD) for performing rapid Overall Aircraft Design in the category General Aviation (GA). The computational core of FAST-OAD being based on the  [OpenMDAO framework](https://openmdao.org/).\n",
    "\n",
    "This notebook will show you the basic step to perform a step by step analysis based on some core models and compare the derivation of an aircraft compare to its reference.\n",
    "\n",
    "To organize our work, we propose to use two user folders `data/` and `workdir/`. In `data/` we store the XML file which describes the aircraft to analyse, here the Beechcraft Duchess. In `workdir/`, we store files generated or modified by FAST-OAD-(GA)."
   ]
  },
  {
   "cell_type": "code",
   "execution_count": null,
   "metadata": {
    "scrolled": true
   },
   "outputs": [],
   "source": [
    "import os.path as pth\n",
    "import os\n",
    "import logging\n",
    "import shutil\n",
    "import openmdao.api as om\n",
    "import fastoad.api as oad\n",
    "\n",
    "import fastga.utils.postprocessing.post_processing_api as api_plots\n",
    "from fastga.command import api as api_cs23\n",
    "\n",
    "# Define relative path\n",
    "DATA_FOLDER_PATH = \"data\"\n",
    "WORK_FOLDER_PATH = \"workdir\"\n",
    "\n",
    "# Final file names\n",
    "AIRCRAFT1_FILE = pth.join(WORK_FOLDER_PATH, \"geometry_reference.xml\")\n",
    "AIRCRAFT2_FILE = pth.join(WORK_FOLDER_PATH, \"geometry_long_wing.xml\")"
   ]
  },
  {
   "cell_type": "code",
   "execution_count": null,
   "metadata": {},
   "outputs": [],
   "source": [
    "# Clear work folder\n",
    "shutil.rmtree(WORK_FOLDER_PATH, ignore_errors=True)\n",
    "os.mkdir(WORK_FOLDER_PATH)\n",
    "\n",
    "# For using all screen width\n",
    "# from IPython.core.display import display, HTML\n",
    "# display(HTML(\"<style>.container { width:95% !important; }</style>\"))"
   ]
  },
  {
   "cell_type": "markdown",
   "metadata": {},
   "source": [
    "## 1. Read, modify and save different aircraft geometry configurations\n",
    "\n",
    "In this paragraph we will first run the geometry module on the reference aircraft to derive primary parameters into the detailed geometry set.\n",
    "\n",
    "**This is done in four steps:**\n",
    "1. copy the [reference aircraft file](./data/reference_aircraft.xml) to workdir under geometry_inputs.xml name,\n",
    "2. copy the [geometry.yml file](./data/geometry.yml) to workdir,\n",
    "3. run process,\n",
    "4. save output file under the specific name: geometry_reference.xml."
   ]
  },
  {
   "cell_type": "code",
   "execution_count": null,
   "metadata": {},
   "outputs": [],
   "source": [
    "# Copy the reference geometry file (limited input parameters) as input file (name specified in .yml)\n",
    "shutil.copy(\n",
    "    pth.join(DATA_FOLDER_PATH, \"reference_aircraft.xml\"),\n",
    "    pth.join(WORK_FOLDER_PATH, \"geometry_inputs.xml\"),\n",
    ")\n",
    "\n",
    "# Copy the .toml process file to the workdir\n",
    "CONFIGURATION_FILE = pth.join(WORK_FOLDER_PATH, \"geometry.yml\")\n",
    "shutil.copy(pth.join(DATA_FOLDER_PATH, \"geometry.yml\"), CONFIGURATION_FILE)\n",
    "\n",
    "# Launch an evaluation to obtain the output file (name specified in the .toml)\n",
    "eval_problem = oad.evaluate_problem(CONFIGURATION_FILE, overwrite=True)\n",
    "\n",
    "# Copy this file to a different name to avoid an overwritte when computing secong geometry\n",
    "shutil.copy(pth.join(WORK_FOLDER_PATH, \"geometry_outputs.xml\"), AIRCRAFT1_FILE)\n",
    "\n",
    "# Open viewer\n",
    "oad.variable_viewer(AIRCRAFT1_FILE)"
   ]
  },
  {
   "cell_type": "markdown",
   "metadata": {},
   "source": [
    "**This process can be done using the api generate block analysis method to get this working such as a python function:**\n",
    "1. Same as previous, copy the reference aircraft but already into the aircraft name (same file used all along the process: overwritten)\n",
    "2. Import the Geometry module\n",
    "3. Generate a block analysis based on this model\n",
    "\n",
    "We are going to apply it to the second geometry."
   ]
  },
  {
   "cell_type": "code",
   "execution_count": null,
   "metadata": {},
   "outputs": [],
   "source": [
    "from fastga.models.geometry.geometry import GeometryFixedTailDistance\n",
    "\n",
    "# Copy reference aircraft file\n",
    "shutil.copy(pth.join(DATA_FOLDER_PATH, \"reference_aircraft.xml\"), AIRCRAFT2_FILE)\n",
    "\n",
    "# Define the wing primary geometry parameters name as a list\n",
    "var_inputs = [\n",
    "    \"data:geometry:wing:area\",\n",
    "    \"data:geometry:wing:aspect_ratio\",\n",
    "    \"data:geometry:wing:taper_ratio\",\n",
    "]\n",
    "\n",
    "# Declare function\n",
    "compute_geometry = api_cs23.generate_block_analysis(\n",
    "    GeometryFixedTailDistance(propulsion_id=\"fastga.wrapper.propulsion.basicIC_engine\"),\n",
    "    var_inputs,\n",
    "    str(AIRCRAFT2_FILE),\n",
    "    overwrite=True,\n",
    ")"
   ]
  },
  {
   "cell_type": "markdown",
   "metadata": {},
   "source": [
    "Consider we want to generate a second aircraft geometry modifying the wing by an increase of 15% of the span without changing the first part of the wing.\n",
    "\n",
    "**We have the following relationships:**\n",
    "\n",
    "$virtualChord=\\frac{area}{2*y_{2}+(y_{4}-y_{2})*(1+taperRatio)}$\n",
    "\n",
    "$aspectRatio=\\frac{span^2}{area}$\n",
    "\n",
    "With $y_{2}$ the y-position of the root chord and $y_{4}$ the y-position of the tip chord.\n",
    "\n",
    "**Meaning:**\n",
    "\n",
    "$\\frac{area}{area_{ref}}=\\frac{2*y_{2}+(y_{4}-y_{2})*(1+taperRatio)}{2*y_{2,ref}+(y_{4,ref}-y_{2,ref})*(1+taperRatio_{ref})}\\implies{}area=\\frac{2*y_{2,ref}+(\\lambda*y_{4,ref}-y_{2,ref})*(1+taperRatio)}{2*y_{2,ref}+(y_{4,ref}-y_{2,ref})*(1+taperRatio_{ref})}*area_{ref}$\n",
    "\n",
    "With $\\lambda$=1.15.\n",
    "\n",
    "**With $y_{2}=0.599$, $y_{4}=6.182$ we can find the primary parameters to generate second aicraft:**"
   ]
  },
  {
   "cell_type": "code",
   "execution_count": null,
   "metadata": {},
   "outputs": [],
   "source": [
    "# Fetch reference aircraft values\n",
    "reference_aircraft = oad.DataFile(AIRCRAFT1_FILE)\n",
    "\n",
    "span_old = reference_aircraft[\"data:geometry:wing:span\"].value[0]\n",
    "taper_ratio_old = reference_aircraft[\"data:geometry:wing:taper_ratio\"].value[0]\n",
    "area_old = reference_aircraft[\"data:geometry:wing:area\"].value[0]\n",
    "y2_ref = reference_aircraft[\"data:geometry:wing:root:y\"].value[0]\n",
    "y4_ref = reference_aircraft[\"data:geometry:wing:tip:y\"].value[0]\n",
    "\n",
    "# Define functions\n",
    "taper_func = lambda lamb: lamb * taper_ratio_old + (1 - lamb)\n",
    "area_func = (\n",
    "    lambda taper_ratio_new, lamb: (2 * y2_ref + (lamb * y4_ref - y2_ref) * (1 + taper_ratio_new))\n",
    "    / (2 * y2_ref + (y4_ref - y2_ref) * (1 + taper_ratio_old))\n",
    "    * area_old\n",
    ")\n",
    "\n",
    "# Calculate parameters\n",
    "taper_ratio_new = taper_func(1.15)\n",
    "area = area_func(taper_ratio_new, 1.15)\n",
    "aspect_ratio_new = (span_old * 1.15) ** 2 / area\n",
    "\n",
    "# Print results\n",
    "print(\"area=\" + str(area))\n",
    "print(\"aspect_ratio=\" + str(aspect_ratio_new))\n",
    "print(\"taper_ratio=\" + str(taper_ratio_new))"
   ]
  },
  {
   "cell_type": "markdown",
   "metadata": {},
   "source": [
    "Now we can use the previously created function to calculate the long wing aircraft."
   ]
  },
  {
   "cell_type": "code",
   "execution_count": null,
   "metadata": {},
   "outputs": [],
   "source": [
    "# Compute geometry\n",
    "inputs_dict = {\n",
    "    \"data:geometry:wing:area\": (area, \"m**2\"),\n",
    "    \"data:geometry:wing:aspect_ratio\": (aspect_ratio_new, None),\n",
    "    \"data:geometry:wing:taper_ratio\": (taper_ratio_new, None),\n",
    "}\n",
    "outputs_dict = compute_geometry(inputs_dict)\n",
    "\n",
    "# Open viewer\n",
    "oad.variable_viewer(AIRCRAFT2_FILE)"
   ]
  },
  {
   "cell_type": "markdown",
   "metadata": {},
   "source": [
    "We will finish by visualizing the two generated geometries before performing other calculation/analysis steps."
   ]
  },
  {
   "cell_type": "code",
   "execution_count": null,
   "metadata": {},
   "outputs": [],
   "source": [
    "fig = api_plots.aircraft_geometry_plot(\n",
    "    pth.join(WORK_FOLDER_PATH, \"geometry_reference.xml\"), name=\"reference aircraft\"\n",
    ")\n",
    "fig = api_plots.aircraft_geometry_plot(\n",
    "    pth.join(WORK_FOLDER_PATH, \"geometry_long_wing.xml\"), name=\"long wing aircraft\", fig=fig\n",
    ")\n",
    "fig.show()"
   ]
  },
  {
   "cell_type": "markdown",
   "metadata": {},
   "source": [
    "## 2. Performing aerodynamic analysis\n",
    "In this chapter we will see how to perform a V-N analysis on both aircraft versions.\n",
    "\n",
    "To do so, we will launch first the calculation of low-speed coefficients using the same technique as previously mentionned on geometry (on both aircraft files)."
   ]
  },
  {
   "cell_type": "code",
   "execution_count": null,
   "metadata": {},
   "outputs": [],
   "source": [
    "from fastga.models.aerodynamics.aerodynamics import Aerodynamics\n",
    "\n",
    "# Declare function on 1st geometry file\n",
    "# The openvsp_exe_path option might need to be deleted if the user doesn't have writing access\n",
    "compute_aero1 = api_cs23.generate_block_analysis(\n",
    "    Aerodynamics(\n",
    "        propulsion_id=\"fastga.wrapper.propulsion.basicIC_engine\",\n",
    "        use_openvsp=False,\n",
    "        compute_mach_interpolation=False,\n",
    "        compute_slipstream_low_speed=False,\n",
    "        compute_slipstream_cruise=False,\n",
    "    ),\n",
    "    [],\n",
    "    str(AIRCRAFT1_FILE),\n",
    "    overwrite=True,\n",
    ")\n",
    "\n",
    "\n",
    "# Declare function on 2nd geometry file\n",
    "# The openvsp_exe_path option might need to be deleted if the user doesn't have writing access\n",
    "compute_aero2 = api_cs23.generate_block_analysis(\n",
    "    Aerodynamics(\n",
    "        propulsion_id=\"fastga.wrapper.propulsion.basicIC_engine\",\n",
    "        use_openvsp=False,\n",
    "        compute_mach_interpolation=False,\n",
    "        compute_slipstream_low_speed=False,\n",
    "        compute_slipstream_cruise=False,\n",
    "    ),\n",
    "    [],\n",
    "    str(AIRCRAFT2_FILE),\n",
    "    overwrite=True,\n",
    ")"
   ]
  },
  {
   "cell_type": "code",
   "execution_count": null,
   "metadata": {},
   "outputs": [],
   "source": [
    "# Compute both aircraft designs\n",
    "result1 = compute_aero1({})\n",
    "result2 = compute_aero2({})\n",
    "\n",
    "# Open viewer\n",
    "oad.variable_viewer(AIRCRAFT2_FILE)"
   ]
  },
  {
   "cell_type": "markdown",
   "metadata": {},
   "source": [
    "Then, we will compute the V-N diagram point for both aircraft."
   ]
  },
  {
   "cell_type": "code",
   "execution_count": null,
   "metadata": {},
   "outputs": [],
   "source": [
    "from fastga.models.aerodynamics.components.compute_vn import ComputeVNAndVH\n",
    "\n",
    "# Define the design mass speed and altitude taken as inputs for V-N diagram\n",
    "var_inputs = [\n",
    "    \"data:weight:aircraft:MTOW\",\n",
    "    \"data:weight:aircraft:MZFW\",\n",
    "    \"data:TLAR:v_cruise\",\n",
    "    \"data:mission:sizing:main_route:cruise:altitude\",\n",
    "]\n",
    "\n",
    "# Declare function on 1st geometry file\n",
    "compute_vn1 = api_cs23.generate_block_analysis(\n",
    "    ComputeVNAndVH(\n",
    "        propulsion_id=\"fastga.wrapper.propulsion.basicIC_engine\",\n",
    "    ),\n",
    "    var_inputs,\n",
    "    str(AIRCRAFT1_FILE),\n",
    "    overwrite=True,\n",
    ")\n",
    "\n",
    "# Declare function on 2nd geometry file\n",
    "compute_vn2 = api_cs23.generate_block_analysis(\n",
    "    ComputeVNAndVH(\n",
    "        propulsion_id=\"fastga.wrapper.propulsion.basicIC_engine\",\n",
    "    ),\n",
    "    var_inputs,\n",
    "    str(AIRCRAFT2_FILE),\n",
    "    overwrite=True,\n",
    ")"
   ]
  },
  {
   "cell_type": "code",
   "execution_count": null,
   "metadata": {},
   "outputs": [],
   "source": [
    "# Compute both aircraft designs using similar input parameters\n",
    "inputs_dict = {\n",
    "    \"data:weight:aircraft:MTOW\": (1700.0, \"kg\"),\n",
    "    \"data:weight:aircraft:MZFW\": (1400.0, \"kg\"),\n",
    "    \"data:TLAR:v_cruise\": (158, \"kn\"),\n",
    "    \"data:mission:sizing:main_route:cruise:altitude\": (8000.0, \"ft\"),\n",
    "}\n",
    "\n",
    "result1 = compute_vn1(inputs_dict)\n",
    "result2 = compute_vn2(inputs_dict)"
   ]
  },
  {
   "cell_type": "markdown",
   "metadata": {},
   "source": [
    "Now, we are going to plot the results for both aicrafts."
   ]
  },
  {
   "cell_type": "code",
   "execution_count": null,
   "metadata": {},
   "outputs": [],
   "source": [
    "fig = api_plots.evolution_diagram(\n",
    "    pth.join(WORK_FOLDER_PATH, \"geometry_reference.xml\"), name=\"reference aircraft\"\n",
    ")\n",
    "fig = api_plots.evolution_diagram(\n",
    "    pth.join(WORK_FOLDER_PATH, \"geometry_long_wing.xml\"), name=\"long wing aircraft\", fig=fig\n",
    ")\n",
    "fig.show()"
   ]
  }
 ],
 "metadata": {
  "kernelspec": {
   "display_name": "Python 3 (ipykernel)",
   "language": "python",
   "name": "python3"
  },
  "language_info": {
   "codemirror_mode": {
    "name": "ipython",
    "version": 3
   },
   "file_extension": ".py",
   "mimetype": "text/x-python",
   "name": "python",
   "nbconvert_exporter": "python",
   "pygments_lexer": "ipython3",
   "version": "3.8.13"
  }
 },
 "nbformat": 4,
 "nbformat_minor": 4
}
