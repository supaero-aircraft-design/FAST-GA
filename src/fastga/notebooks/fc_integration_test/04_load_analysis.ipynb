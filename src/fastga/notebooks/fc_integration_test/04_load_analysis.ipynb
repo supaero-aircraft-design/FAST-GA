{
 "cells": [
  {
   "cell_type": "markdown",
   "metadata": {},
   "source": [
    "<div class=\"row\">\n",
    "  <div class=\"column\">\n",
    "    <img src=\"./img/logo-onera.png\" width=\"200\">\n",
    "  </div>\n",
    "  <div class=\"column\">\n",
    "    <img src=\"./img/logo-ISAE_SUPAERO.png\" width=\"200\">\n",
    "  </div>\n",
    "</div>"
   ]
  },
  {
   "cell_type": "markdown",
   "metadata": {},
   "source": [
    "# FAST-OAD-GA Analysis mode Tutorial\n",
    "\n",
    "FAST-OAD-GA is an add-on package for [FAST-OAD framework](https://github.com/fast-aircraft-design/FAST-OAD) for performing rapid Overall Aircraft Design in the category General Aviation (GA). The computational core of FAST-OAD being based on the  [OpenMDAO framework](https://openmdao.org/).\n",
    "\n",
    "This notebook will show you the basic step to use the load analysis module using ID's to call the module instead of importing the classes.\n",
    "\n",
    "To organize our work, we propose to use two user folders `data/` and `workdir/`. In `data/` we store the XML file which describes the aircraft to analyse, here the Beechcraft Duchess. In `workdir/`, we store files generated or modified by FAST-OAD-(GA)."
   ]
  },
  {
   "cell_type": "code",
   "execution_count": null,
   "metadata": {
    "scrolled": true
   },
   "outputs": [],
   "source": [
    "import os.path as pth\n",
    "import os\n",
    "import openmdao.api as om\n",
    "from fastoad import api as api_cs25\n",
    "from fastga.command import api as api_cs23\n",
    "import logging\n",
    "from fastoad.gui import VariableViewer\n",
    "import shutil\n",
    "\n",
    "# Define relative path\n",
    "DATA_FOLDER_PATH = \"data\"\n",
    "WORK_FOLDER_PATH = \"workdir\"\n",
    "\n",
    "# Final file names\n",
    "AIRCRAFT1_FILE = pth.join(WORK_FOLDER_PATH, \"beechcraft_76_loads.xml\")"
   ]
  },
  {
   "cell_type": "code",
   "execution_count": null,
   "metadata": {},
   "outputs": [],
   "source": [
    "# Clear work folder\n",
    "shutil.rmtree(WORK_FOLDER_PATH, ignore_errors=True)\n",
    "os.mkdir(WORK_FOLDER_PATH)\n",
    "\n",
    "# For using all screen width\n",
    "# from IPython.core.display import display, HTML\n",
    "# display(HTML(\"<style>.container { width:95% !important; }</style>\"))"
   ]
  },
  {
   "cell_type": "markdown",
   "metadata": {},
   "source": [
    "## 1. Read, modify and save different aircraft geometry configurations\n",
    "\n",
    "In this paragraph we will first run the geometry module on the aircraft to derive primary parameters into the detailed geometry set."
   ]
  },
  {
   "cell_type": "markdown",
   "metadata": {},
   "source": [
    "**This process can be done using the api generate block analysis method to get this working such as a python function:**\n",
    "1. Create a dictionnary with the options for your module\n",
    "2. Generate a block analysis using the module id"
   ]
  },
  {
   "cell_type": "code",
   "execution_count": null,
   "metadata": {},
   "outputs": [],
   "source": [
    "# Copy reference aircraft file in work directory\n",
    "shutil.copy(pth.join(DATA_FOLDER_PATH, \"beechcraft_76_loads.xml\"), AIRCRAFT1_FILE)\n",
    "\n",
    "# Define the wing primary geometry parameters name as a list\n",
    "var_inputs = [\n",
    "    \"data:geometry:wing:area\",\n",
    "    \"data:geometry:wing:aspect_ratio\",\n",
    "    \"data:geometry:wing:taper_ratio\",\n",
    "]\n",
    "\n",
    "# Define the option of the geometry module you want to use (not putting any will use the default value when\n",
    "# available)\n",
    "option_dict = {\"propulsion_id\": \"fastga.wrapper.propulsion.basicIC_engine\"}\n",
    "\n",
    "# Declare function\n",
    "compute_geometry = api_cs23.generate_block_analysis(\n",
    "    \"fastga.geometry.legacy\",\n",
    "    var_inputs,\n",
    "    str(AIRCRAFT1_FILE),\n",
    "    options=option_dict,\n",
    "    overwrite=True,\n",
    ")"
   ]
  },
  {
   "cell_type": "markdown",
   "metadata": {},
   "source": [
    "Now we can use the previously created function to calculate the aircraft."
   ]
  },
  {
   "cell_type": "code",
   "execution_count": null,
   "metadata": {},
   "outputs": [],
   "source": [
    "# Compute geometry\n",
    "inputs_dict = {\n",
    "    \"data:geometry:wing:area\": (16.638, \"m**2\"),\n",
    "    \"data:geometry:wing:aspect_ratio\": (7.973, None),\n",
    "    \"data:geometry:wing:taper_ratio\": (1.0, None),\n",
    "}\n",
    "outputs_dict = compute_geometry(inputs_dict)\n",
    "\n",
    "# Open viewer\n",
    "api_cs25.variable_viewer(AIRCRAFT1_FILE)"
   ]
  },
  {
   "cell_type": "markdown",
   "metadata": {},
   "source": [
    "We will finish by visualizing the previously generated geometries before performing other calculation/analysis steps."
   ]
  },
  {
   "cell_type": "code",
   "execution_count": null,
   "metadata": {},
   "outputs": [],
   "source": [
    "from fastga.utils.postprocessing.analysis_and_plots import aircraft_geometry_plot\n",
    "\n",
    "fig = aircraft_geometry_plot(\n",
    "    pth.join(WORK_FOLDER_PATH, \"beechcraft_76_loads.xml\"), name=\"Beechcraft 76\"\n",
    ")\n",
    "fig.show()"
   ]
  },
  {
   "cell_type": "markdown",
   "metadata": {},
   "source": [
    "## 2. Performing aerodynamic analysis\n",
    "In this chapter we will see how to perform an aerodynamics analysis on the aircraft.\n",
    "\n",
    "To do so, we will launch the aerodynamic coefficients computation using the same technique as previously mentionned on geometry."
   ]
  },
  {
   "cell_type": "code",
   "execution_count": null,
   "metadata": {},
   "outputs": [],
   "source": [
    "# Define the option of the geometry module you want to use\n",
    "# The openvsp_exe_path option might need to be deleted if the user doesn't have writing access\n",
    "option_dict = {\n",
    "    \"propulsion_id\": \"fastga.wrapper.propulsion.basicIC_engine\",\n",
    "    \"use_openvsp\": True,\n",
    "    \"openvsp_exe_path\": WORK_FOLDER_PATH,\n",
    "    \"compute_mach_interpolation\": True,\n",
    "    \"compute_slipstream_cruise\": True,\n",
    "}\n",
    "\n",
    "# Declare function on 1st geometry file\n",
    "compute_aero1 = api_cs23.generate_block_analysis(\n",
    "    \"fastga.aerodynamics.legacy\",\n",
    "    [],\n",
    "    str(AIRCRAFT1_FILE),\n",
    "    options=option_dict,\n",
    "    overwrite=True,\n",
    ")"
   ]
  },
  {
   "cell_type": "code",
   "execution_count": null,
   "metadata": {},
   "outputs": [],
   "source": [
    "# Compute both aircraft designs\n",
    "result1 = compute_aero1({})\n",
    "\n",
    "# Open viewer\n",
    "api_cs25.variable_viewer(AIRCRAFT1_FILE)"
   ]
  },
  {
   "cell_type": "code",
   "execution_count": null,
   "metadata": {},
   "outputs": [],
   "source": [
    "# Here we can verify the genral shape of the  lift repartition on the wing and the values found in the mach interpolation\n",
    "import plotly\n",
    "import plotly.graph_objects as go\n",
    "import numpy as np\n",
    "from fastoad.io import VariableIO\n",
    "from fastga.models.load_analysis.wing.aerostructural_loads import AerostructuralLoad\n",
    "\n",
    "COLS = plotly.colors.DEFAULT_PLOTLY_COLORS\n",
    "\n",
    "variables = VariableIO(AIRCRAFT1_FILE, None).read()\n",
    "\n",
    "y_vector = np.array(list(variables[\"data:aerodynamics:wing:low_speed:Y_vector\"].value))\n",
    "CL_vector = np.array(\n",
    "    list(variables[\"data:aerodynamics:slipstream:wing:cruise:prop_on:CL_vector\"].value)\n",
    ")\n",
    "\n",
    "y_vector = AerostructuralLoad.delete_additional_zeros(y_vector)\n",
    "CL_vector = AerostructuralLoad.delete_additional_zeros(CL_vector)\n",
    "\n",
    "span = variables[\"data:geometry:wing:span\"].value\n",
    "semi_span = span[0] / 2.0\n",
    "\n",
    "if abs(CL_vector[-1]) > 0.01:\n",
    "    y_vector = np.append(y_vector, semi_span)\n",
    "    CL_vector = np.append(CL_vector, 0.0)\n",
    "\n",
    "fig = go.Figure()\n",
    "\n",
    "lift_repartition = go.Scatter(x=y_vector, y=CL_vector, mode=\"lines\", name=\"Beechcraft 76\")\n",
    "fig.add_trace(lift_repartition)\n",
    "fig.update_layout(\n",
    "    title_text=\"Lift coefficient repartition on the wing\",\n",
    "    title_x=0.5,\n",
    "    xaxis_title=\"Position along the span [m]\",\n",
    "    yaxis_title=\"Lift coefficient [-]\",\n",
    ")\n",
    "fig.show()"
   ]
  },
  {
   "cell_type": "code",
   "execution_count": null,
   "metadata": {},
   "outputs": [],
   "source": [
    "mach_vector = list(variables[\"data:aerodynamics:aircraft:mach_interpolation:mach_vector\"].value)\n",
    "Cl_alpha_vector = list(\n",
    "    variables[\"data:aerodynamics:aircraft:mach_interpolation:CL_alpha_vector\"].value\n",
    ")\n",
    "\n",
    "fig2 = go.Figure()\n",
    "\n",
    "mach_interpolation = go.Scatter(\n",
    "    x=mach_vector, y=Cl_alpha_vector, mode=\"lines\", name=\"Beechcraft 76\"\n",
    ")\n",
    "fig2.add_trace(mach_interpolation)\n",
    "fig2.update_layout(\n",
    "    title_text=\"Lift coefficient slope as a function of Mach number\",\n",
    "    title_x=0.5,\n",
    "    xaxis_title=\"Mach number [-]\",\n",
    "    yaxis_title=\"Lift coefficient slope [-]\",\n",
    ")\n",
    "fig2.show()"
   ]
  },
  {
   "cell_type": "markdown",
   "metadata": {},
   "source": [
    "Then, we will compute the most stringent loading case among the one we defined in the function (MTOW and Min fuel weight in the wing) so that we can then print out the shear stress and wing root bending moment. First we must compute the maximum level velocity at sea level as it is an input of the V-n diagrams computed during the wing loading computation process. Since this component alone is not registered as a module, we can't generate the block analysis using only an ID but we can use the component directly"
   ]
  },
  {
   "cell_type": "code",
   "execution_count": null,
   "metadata": {},
   "outputs": [],
   "source": [
    "from fastga.models.aerodynamics.components.compute_vn import ComputeVh\n",
    "\n",
    "var_inputs = [\"data:weight:aircraft:MTOW\"]\n",
    "\n",
    "compute_geometry1 = api_cs23.generate_block_analysis(\n",
    "    ComputeVh(propulsion_id=\"fastga.wrapper.propulsion.basicIC_engine\"),\n",
    "    var_inputs,\n",
    "    str(AIRCRAFT1_FILE),\n",
    "    overwrite=True,\n",
    ")"
   ]
  },
  {
   "cell_type": "code",
   "execution_count": null,
   "metadata": {},
   "outputs": [],
   "source": [
    "inputs_dict = {\"data:weight:aircraft:MTOW\": (1769.0, \"kg\")}\n",
    "\n",
    "result1 = compute_geometry1(inputs_dict)\n",
    "\n",
    "# Open viewer\n",
    "api_cs25.variable_viewer(AIRCRAFT1_FILE)"
   ]
  },
  {
   "cell_type": "markdown",
   "metadata": {},
   "source": [
    "For the loads however, we can go back to using ID's"
   ]
  },
  {
   "cell_type": "code",
   "execution_count": null,
   "metadata": {},
   "outputs": [],
   "source": [
    "var_inputs = [\n",
    "    \"data:weight:aircraft:CG:fwd:x\",\n",
    "    \"data:weight:aircraft:CG:aft:x\",\n",
    "    \"data:weight:aircraft_empty:CG:z\",\n",
    "    \"data:weight:propulsion:engine:mass\",\n",
    "    \"data:weight:airframe:landing_gear:main:mass\",\n",
    "    \"data:weight:airframe:wing:mass\",\n",
    "    \"data:mission:sizing:fuel\",\n",
    "    \"data:weight:aircraft:MZFW\",\n",
    "    \"data:weight:airframe:wing:punctual_mass:mass\",\n",
    "    \"data:weight:airframe:wing:punctual_mass:y_ratio\",\n",
    "]\n",
    "\n",
    "compute_geometry1 = api_cs23.generate_block_analysis(\n",
    "    \"fastga.loads.wing\",\n",
    "    var_inputs,\n",
    "    str(AIRCRAFT1_FILE),\n",
    "    overwrite=True,\n",
    ")"
   ]
  },
  {
   "cell_type": "code",
   "execution_count": null,
   "metadata": {},
   "outputs": [],
   "source": [
    "# Compute both aircraft designs using similar input parameters\n",
    "inputs_dict = {\n",
    "    \"data:weight:aircraft:MZFW\": (1531.6, \"kg\"),\n",
    "    \"data:weight:aircraft:CG:fwd:x\": (2.76, \"m\"),\n",
    "    \"data:weight:aircraft:CG:aft:x\": (3.09, \"m\"),\n",
    "    \"data:weight:aircraft_empty:CG:z\": (1.197, \"m\"),\n",
    "    \"data:weight:propulsion:engine:mass\": (351.84, \"kg\"),\n",
    "    \"data:weight:airframe:landing_gear:main:mass\": (55.34, \"kg\"),\n",
    "    \"data:weight:airframe:wing:mass\": (192.46, \"kg\"),\n",
    "    \"data:mission:sizing:fuel\": (150.0, \"kg\"),\n",
    "    \"data:weight:airframe:wing:punctual_mass:mass\": (list(np.zeros(10)), \"kg\"),\n",
    "    \"data:weight:airframe:wing:punctual_mass:y_ratio\": (list(np.full(10, -1)), None),\n",
    "}\n",
    "\n",
    "result1 = compute_geometry1(inputs_dict)\n",
    "# Open viewer\n",
    "api_cs25.variable_viewer(AIRCRAFT1_FILE)"
   ]
  },
  {
   "cell_type": "code",
   "execution_count": null,
   "metadata": {},
   "outputs": [],
   "source": [
    "from fastga.utils.postprocessing.load_analysis.analysis_and_plots_la import (\n",
    "    force_repartition_diagram,\n",
    ")\n",
    "\n",
    "fig = force_repartition_diagram(\n",
    "    pth.join(WORK_FOLDER_PATH, \"beechcraft_76_loads.xml\"), name=\"Beechcraft Duchess\"\n",
    ")\n",
    "fig.show()"
   ]
  },
  {
   "cell_type": "code",
   "execution_count": null,
   "metadata": {},
   "outputs": [],
   "source": [
    "from fastga.utils.postprocessing.load_analysis.analysis_and_plots_la import shear_diagram\n",
    "\n",
    "fig2 = shear_diagram(\n",
    "    pth.join(WORK_FOLDER_PATH, \"beechcraft_76_loads.xml\"), name=\"Beechcraft Duchess\"\n",
    ")\n",
    "fig2.show()"
   ]
  },
  {
   "cell_type": "code",
   "execution_count": null,
   "metadata": {},
   "outputs": [],
   "source": [
    "from fastga.utils.postprocessing.load_analysis.analysis_and_plots_la import rbm_diagram\n",
    "\n",
    "fig3 = rbm_diagram(pth.join(WORK_FOLDER_PATH, \"beechcraft_76_loads.xml\"), name=\"Beechcraft Duchess\")\n",
    "fig3.show()"
   ]
  },
  {
   "cell_type": "code",
   "execution_count": null,
   "metadata": {},
   "outputs": [],
   "source": []
  }
 ],
 "metadata": {
  "kernelspec": {
   "display_name": "Python 3 (ipykernel)",
   "language": "python",
   "name": "python3"
  },
  "language_info": {
   "codemirror_mode": {
    "name": "ipython",
    "version": 3
   },
   "file_extension": ".py",
   "mimetype": "text/x-python",
   "name": "python",
   "nbconvert_exporter": "python",
   "pygments_lexer": "ipython3",
   "version": "3.9.7"
  }
 },
 "nbformat": 4,
 "nbformat_minor": 4
}
