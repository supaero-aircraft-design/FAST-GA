{
 "cells": [
  {
   "cell_type": "markdown",
   "metadata": {},
   "source": [
    "<div class=\"row\">\n",
    "  <div class=\"column\">\n",
    "    <img src=\"./img/logo-onera.png\" width=\"200\">\n",
    "  </div>\n",
    "  <div class=\"column\">\n",
    "    <img src=\"./img/logo-ISAE_SUPAERO.png\" width=\"200\">\n",
    "  </div>\n",
    "</div>"
   ]
  },
  {
   "cell_type": "markdown",
   "metadata": {},
   "source": [
    "# FAST-OAD-GA Tutorial"
   ]
  },
  {
   "cell_type": "markdown",
   "metadata": {},
   "source": [
    "FAST-OAD-GA is an add-on package for [FAST-OAD framework](https://github.com/fast-aircraft-design/FAST-OAD) for performing rapid Overall Aircraft Design in the category General Aviation (GA). The computational core of FAST-OAD being based on the  [OpenMDAO framework](https://openmdao.org/)."
   ]
  },
  {
   "cell_type": "markdown",
   "metadata": {},
   "source": [
    "## 1. Setting up and analyzing the initial problem"
   ]
  },
  {
   "cell_type": "markdown",
   "metadata": {},
   "source": [
    "To organize our work, we propose to use two user folders `data/` and `workdir/`. For instance, in `data/` we store a XML file which describes the Beechcraft Duchess. In `workdir/`, we store files generated or modified by FAST-OAD."
   ]
  },
  {
   "cell_type": "code",
   "execution_count": 1,
   "metadata": {},
   "outputs": [
    {
     "data": {
      "text/html": [
       "<style>.container { width:95% !important; }</style>"
      ],
      "text/plain": [
       "<IPython.core.display.HTML object>"
      ]
     },
     "metadata": {},
     "output_type": "display_data"
    }
   ],
   "source": [
    "import os.path as pth\n",
    "import os\n",
    "import openmdao.api as om\n",
    "from fastoad import api as api_cs25\n",
    "from fastga.command import api as api_cs23\n",
    "import logging\n",
    "from fastoad.gui import VariableViewer\n",
    "import shutil\n",
    "\n",
    "# Define relative path\n",
    "DATA_FOLDER_PATH = \"data\"\n",
    "WORK_FOLDER_PATH = \"workdir\"\n",
    "\n",
    "\n",
    "# Define files\n",
    "CONFIGURATION_FILE = pth.join(WORK_FOLDER_PATH, \"oad_process.yml\")\n",
    "SOURCE_FILE = pth.join(DATA_FOLDER_PATH, \"problem_inputs_sr22_FC.xml\")\n",
    "INPUT_FILE = pth.join(WORK_FOLDER_PATH, 'problem_inputs_sr22_FC.xml')\n",
    "\n",
    "# For having log messages on screen\n",
    "logging.basicConfig(level=logging.INFO, format=\"%(levelname)-8s: %(message)s\")\n",
    "\n",
    "# For using all screen width\n",
    "from IPython.core.display import display, HTML\n",
    "\n",
    "display(HTML(\"<style>.container { width:95% !important; }</style>\"))"
   ]
  },
  {
   "cell_type": "markdown",
   "metadata": {},
   "source": [
    "We can use FAST to generate an input file by reading the problem described in the configuration file. If corresponding variables are found in the SOURCE_FILE, their value is replaced as default value."
   ]
  },
  {
   "cell_type": "code",
   "execution_count": null,
   "metadata": {},
   "outputs": [],
   "source": [
    "api_cs25.generate_inputs(CONFIGURATION_FILE, SOURCE_FILE, overwrite=True)"
   ]
  },
  {
   "cell_type": "markdown",
   "metadata": {},
   "source": [
    "You can now checkout the generated [input file](./workdir/problem_inputs.xml).\n",
    "The values in this file will be considered by FAST-OAD when executing a computational process and can be modified by the user through the variable viewer:"
   ]
  },
  {
   "cell_type": "code",
   "execution_count": 2,
   "metadata": {},
   "outputs": [
    {
     "data": {
      "application/vnd.jupyter.widget-view+json": {
       "model_id": "c291bae2f6414dc984301d7391c2d7ec",
       "version_major": 2,
       "version_minor": 0
      },
      "text/plain": [
       "VBox(children=(HBox(children=(Button(description='Load', icon='upload', style=ButtonStyle(), tooltip='Load the…"
      ]
     },
     "metadata": {},
     "output_type": "display_data"
    }
   ],
   "source": [
    "api_cs25.variable_viewer(INPUT_FILE)"
   ]
  },
  {
   "cell_type": "markdown",
   "metadata": {},
   "source": [
    "Another useful feature is to list the modules of the model defined in the configuration file:"
   ]
  },
  {
   "cell_type": "code",
   "execution_count": null,
   "metadata": {},
   "outputs": [],
   "source": [
    "api_cs25.list_modules(CONFIGURATION_FILE)"
   ]
  },
  {
   "cell_type": "markdown",
   "metadata": {},
   "source": [
    "Another useful feature is the [N2 diagram](http://openmdao.org/twodocs/versions/latest/basic_guide/make_n2.html) visualization available in OpenMDAO to see the structure of the model:"
   ]
  },
  {
   "cell_type": "code",
   "execution_count": null,
   "metadata": {},
   "outputs": [],
   "source": [
    "N2_FILE = pth.join(WORK_FOLDER_PATH, \"n2.html\")\n",
    "api_cs25.write_n2(CONFIGURATION_FILE, N2_FILE, overwrite=True)\n",
    "from IPython.display import IFrame\n",
    "\n",
    "IFrame(src=N2_FILE, width=\"100%\", height=\"500px\")"
   ]
  },
  {
   "cell_type": "markdown",
   "metadata": {},
   "source": [
    "Alternatively, you can create a [WhatsOpt](https://github.com/OneraHub/WhatsOpt-Doc#whatsopt-documentation) account to generate the XDSM of the problem. If your account is created, you may uncomment next lines and run them (this should take ~ 1 min):"
   ]
  },
  {
   "cell_type": "code",
   "execution_count": null,
   "metadata": {},
   "outputs": [],
   "source": [
    "XDSM_FILE = pth.join(WORK_FOLDER_PATH, \"xdsm.html\")\n",
    "api_cs25.write_xdsm(CONFIGURATION_FILE, XDSM_FILE, overwrite=True)\n",
    "from IPython.display import IFrame\n",
    "\n",
    "IFrame(src=XDSM_FILE, width=\"100%\", height=\"500px\")"
   ]
  },
  {
   "cell_type": "markdown",
   "metadata": {},
   "source": [
    "## 2. Running your first MDA"
   ]
  },
  {
   "cell_type": "markdown",
   "metadata": {},
   "source": [
    "### Fuel cell aircraft\n",
    "Here we run an MDA, that is solving the multidisciplinary couplings using the different nested solvers in the model, without running the optimization problem even if it is defined in the configuration file."
   ]
  },
  {
   "cell_type": "code",
   "execution_count": 4,
   "metadata": {},
   "outputs": [
    {
     "name": "stdout",
     "output_type": "stream",
     "text": [
      "\n",
      "===============\n",
      "aircraft_sizing\n",
      "===============\n"
     ]
    },
    {
     "name": "stderr",
     "output_type": "stream",
     "text": [
      "d:\\enguyen\\fuel-cell-general-aviation\\venv1\\lib\\site-packages\\scipy\\optimize\\minpack.py:175: RuntimeWarning: The iteration is not making good progress, as measured by the \n",
      "  improvement from the last five Jacobian evaluations.\n",
      "  warnings.warn(msg, RuntimeWarning)\n",
      "WARNING : Aspect ratio value outside of the range in Roskam's book, value clipped\n",
      "WARNING : Aspect ratio value outside of the range in Roskam's book, value clipped\n",
      "WARNING : Taper ratio outside of the range in Roskam's book, value clipped\n",
      "WARNING : Taper ratio outside of the range in Roskam's book, value clipped\n",
      "INFO    : Entering mission computation\n",
      "d:\\enguyen\\fuel-cell-general-aviation\\venv1\\lib\\site-packages\\openmdao\\vectors\\vector.py:630: VisibleDeprecationWarning: Creating an ndarray from ragged nested sequences (which is a list-or-tuple of lists-or-tuples-or ndarrays with different lengths or shapes) is deprecated. If you meant to do this, you must specify 'dtype=object' when creating the ndarray.\n",
      "  value = np.asarray(val)\n",
      "INFO    : Entering mission computation\n",
      "INFO    : Entering mission computation\n",
      "D:\\enguyen\\fuel-cell-general-aviation\\src\\fastga\\models\\loops\\wing_area_component\\wing_area_loop_geom_simple.py:80: UserWarning: Fuel type 0.000000 does not exist, replaced by type 1!\n",
      "  warnings.warn(\"Fuel type %f does not exist, replaced by type 1!\" % fuel_type)\n",
      "INFO    : Looping on wing area with new value equal to 12.566331\n",
      "d:\\enguyen\\fuel-cell-general-aviation\\venv1\\lib\\site-packages\\scipy\\optimize\\minpack.py:175: RuntimeWarning: The iteration is not making good progress, as measured by the \n",
      "  improvement from the last five Jacobian evaluations.\n",
      "  warnings.warn(msg, RuntimeWarning)\n"
     ]
    },
    {
     "name": "stdout",
     "output_type": "stream",
     "text": [
      "NL: NLBGS 1 ; 10837069 1\n"
     ]
    },
    {
     "name": "stderr",
     "output_type": "stream",
     "text": [
      "WARNING : Aspect ratio value outside of the range in Roskam's book, value clipped\n",
      "WARNING : Aspect ratio value outside of the range in Roskam's book, value clipped\n",
      "WARNING : Taper ratio outside of the range in Roskam's book, value clipped\n",
      "WARNING : Taper ratio outside of the range in Roskam's book, value clipped\n",
      "INFO    : Entering mission computation\n",
      "d:\\enguyen\\fuel-cell-general-aviation\\venv1\\lib\\site-packages\\openmdao\\vectors\\vector.py:630: VisibleDeprecationWarning: Creating an ndarray from ragged nested sequences (which is a list-or-tuple of lists-or-tuples-or ndarrays with different lengths or shapes) is deprecated. If you meant to do this, you must specify 'dtype=object' when creating the ndarray.\n",
      "  value = np.asarray(val)\n",
      "INFO    : Entering mission computation\n",
      "INFO    : Entering mission computation\n",
      "D:\\enguyen\\fuel-cell-general-aviation\\src\\fastga\\models\\loops\\wing_area_component\\wing_area_loop_geom_simple.py:80: UserWarning: Fuel type 0.000000 does not exist, replaced by type 1!\n",
      "  warnings.warn(\"Fuel type %f does not exist, replaced by type 1!\" % fuel_type)\n",
      "INFO    : Looping on wing area with new value equal to 11.527840\n",
      "d:\\enguyen\\fuel-cell-general-aviation\\venv1\\lib\\site-packages\\scipy\\optimize\\minpack.py:175: RuntimeWarning: The iteration is not making good progress, as measured by the \n",
      "  improvement from the last five Jacobian evaluations.\n",
      "  warnings.warn(msg, RuntimeWarning)\n"
     ]
    },
    {
     "name": "stdout",
     "output_type": "stream",
     "text": [
      "NL: NLBGS 2 ; 3878822.42 0.357921722\n"
     ]
    },
    {
     "name": "stderr",
     "output_type": "stream",
     "text": [
      "WARNING : Aspect ratio value outside of the range in Roskam's book, value clipped\n",
      "WARNING : Aspect ratio value outside of the range in Roskam's book, value clipped\n",
      "WARNING : Ratio of span on fuselage depth outside of the range in Roskam's book, value clipped\n",
      "WARNING : Taper ratio outside of the range in Roskam's book, value clipped\n",
      "WARNING : Ratio of span on fuselage depth outside of the range in Roskam's book, value clipped\n",
      "WARNING : Taper ratio outside of the range in Roskam's book, value clipped\n",
      "INFO    : Entering mission computation\n",
      "d:\\enguyen\\fuel-cell-general-aviation\\venv1\\lib\\site-packages\\openmdao\\vectors\\vector.py:630: VisibleDeprecationWarning: Creating an ndarray from ragged nested sequences (which is a list-or-tuple of lists-or-tuples-or ndarrays with different lengths or shapes) is deprecated. If you meant to do this, you must specify 'dtype=object' when creating the ndarray.\n",
      "  value = np.asarray(val)\n",
      "INFO    : Entering mission computation\n",
      "INFO    : Entering mission computation\n",
      "D:\\enguyen\\fuel-cell-general-aviation\\src\\fastga\\models\\loops\\wing_area_component\\wing_area_loop_geom_simple.py:80: UserWarning: Fuel type 0.000000 does not exist, replaced by type 1!\n",
      "  warnings.warn(\"Fuel type %f does not exist, replaced by type 1!\" % fuel_type)\n",
      "INFO    : Looping on wing area with new value equal to 14.627364\n",
      "d:\\enguyen\\fuel-cell-general-aviation\\venv1\\lib\\site-packages\\scipy\\optimize\\minpack.py:175: RuntimeWarning: The iteration is not making good progress, as measured by the \n",
      "  improvement from the last five Jacobian evaluations.\n",
      "  warnings.warn(msg, RuntimeWarning)\n"
     ]
    },
    {
     "name": "stdout",
     "output_type": "stream",
     "text": [
      "NL: NLBGS 3 ; 2671951.97 0.246556699\n"
     ]
    },
    {
     "name": "stderr",
     "output_type": "stream",
     "text": [
      "WARNING : Aspect ratio value outside of the range in Roskam's book, value clipped\n",
      "WARNING : Aspect ratio value outside of the range in Roskam's book, value clipped\n",
      "WARNING : Ratio of span on fuselage depth outside of the range in Roskam's book, value clipped\n",
      "WARNING : Taper ratio outside of the range in Roskam's book, value clipped\n",
      "WARNING : Area ratio value outside of the range in Roskam's book, value clipped\n",
      "WARNING : Ratio of span on fuselage depth outside of the range in Roskam's book, value clipped\n",
      "WARNING : Taper ratio outside of the range in Roskam's book, value clipped\n",
      "WARNING : Area ratio value outside of the range in Roskam's book, value clipped\n",
      "INFO    : Entering mission computation\n",
      "d:\\enguyen\\fuel-cell-general-aviation\\venv1\\lib\\site-packages\\openmdao\\vectors\\vector.py:630: VisibleDeprecationWarning: Creating an ndarray from ragged nested sequences (which is a list-or-tuple of lists-or-tuples-or ndarrays with different lengths or shapes) is deprecated. If you meant to do this, you must specify 'dtype=object' when creating the ndarray.\n",
      "  value = np.asarray(val)\n",
      "INFO    : Entering mission computation\n",
      "INFO    : Entering mission computation\n",
      "D:\\enguyen\\fuel-cell-general-aviation\\src\\fastga\\models\\loops\\wing_area_component\\wing_area_loop_geom_simple.py:80: UserWarning: Fuel type 0.000000 does not exist, replaced by type 1!\n",
      "  warnings.warn(\"Fuel type %f does not exist, replaced by type 1!\" % fuel_type)\n",
      "INFO    : Looping on wing area with new value equal to 15.559752\n",
      "d:\\enguyen\\fuel-cell-general-aviation\\venv1\\lib\\site-packages\\scipy\\optimize\\minpack.py:175: RuntimeWarning: The iteration is not making good progress, as measured by the \n",
      "  improvement from the last five Jacobian evaluations.\n",
      "  warnings.warn(msg, RuntimeWarning)\n"
     ]
    },
    {
     "name": "stdout",
     "output_type": "stream",
     "text": [
      "NL: NLBGS 4 ; 1119269.4 0.10328156\n"
     ]
    },
    {
     "name": "stderr",
     "output_type": "stream",
     "text": [
      "WARNING : Aspect ratio value outside of the range in Roskam's book, value clipped\n",
      "WARNING : Aspect ratio value outside of the range in Roskam's book, value clipped\n",
      "WARNING : Ratio of span on fuselage depth outside of the range in Roskam's book, value clipped\n",
      "WARNING : Taper ratio outside of the range in Roskam's book, value clipped\n",
      "WARNING : Area ratio value outside of the range in Roskam's book, value clipped\n",
      "WARNING : Ratio of span on fuselage depth outside of the range in Roskam's book, value clipped\n",
      "WARNING : Taper ratio outside of the range in Roskam's book, value clipped\n",
      "WARNING : Area ratio value outside of the range in Roskam's book, value clipped\n",
      "INFO    : Entering mission computation\n",
      "d:\\enguyen\\fuel-cell-general-aviation\\venv1\\lib\\site-packages\\openmdao\\vectors\\vector.py:630: VisibleDeprecationWarning: Creating an ndarray from ragged nested sequences (which is a list-or-tuple of lists-or-tuples-or ndarrays with different lengths or shapes) is deprecated. If you meant to do this, you must specify 'dtype=object' when creating the ndarray.\n",
      "  value = np.asarray(val)\n",
      "INFO    : Entering mission computation\n",
      "INFO    : Entering mission computation\n",
      "D:\\enguyen\\fuel-cell-general-aviation\\src\\fastga\\models\\loops\\wing_area_component\\wing_area_loop_geom_simple.py:80: UserWarning: Fuel type 0.000000 does not exist, replaced by type 1!\n",
      "  warnings.warn(\"Fuel type %f does not exist, replaced by type 1!\" % fuel_type)\n",
      "INFO    : Looping on wing area with new value equal to 15.558970\n",
      "d:\\enguyen\\fuel-cell-general-aviation\\venv1\\lib\\site-packages\\scipy\\optimize\\minpack.py:175: RuntimeWarning: The iteration is not making good progress, as measured by the \n",
      "  improvement from the last five Jacobian evaluations.\n",
      "  warnings.warn(msg, RuntimeWarning)\n"
     ]
    },
    {
     "name": "stdout",
     "output_type": "stream",
     "text": [
      "NL: NLBGS 5 ; 736555.317 0.0679662845\n"
     ]
    },
    {
     "name": "stderr",
     "output_type": "stream",
     "text": [
      "WARNING : Aspect ratio value outside of the range in Roskam's book, value clipped\n",
      "WARNING : Aspect ratio value outside of the range in Roskam's book, value clipped\n",
      "WARNING : Ratio of span on fuselage depth outside of the range in Roskam's book, value clipped\n",
      "WARNING : Taper ratio outside of the range in Roskam's book, value clipped\n",
      "WARNING : Area ratio value outside of the range in Roskam's book, value clipped\n",
      "WARNING : Ratio of span on fuselage depth outside of the range in Roskam's book, value clipped\n",
      "WARNING : Taper ratio outside of the range in Roskam's book, value clipped\n",
      "WARNING : Area ratio value outside of the range in Roskam's book, value clipped\n",
      "INFO    : Entering mission computation\n",
      "d:\\enguyen\\fuel-cell-general-aviation\\venv1\\lib\\site-packages\\openmdao\\vectors\\vector.py:630: VisibleDeprecationWarning: Creating an ndarray from ragged nested sequences (which is a list-or-tuple of lists-or-tuples-or ndarrays with different lengths or shapes) is deprecated. If you meant to do this, you must specify 'dtype=object' when creating the ndarray.\n",
      "  value = np.asarray(val)\n",
      "INFO    : Entering mission computation\n",
      "INFO    : Entering mission computation\n",
      "D:\\enguyen\\fuel-cell-general-aviation\\src\\fastga\\models\\loops\\wing_area_component\\wing_area_loop_geom_simple.py:80: UserWarning: Fuel type 0.000000 does not exist, replaced by type 1!\n",
      "  warnings.warn(\"Fuel type %f does not exist, replaced by type 1!\" % fuel_type)\n",
      "INFO    : Looping on wing area with new value equal to 15.354375\n",
      "d:\\enguyen\\fuel-cell-general-aviation\\venv1\\lib\\site-packages\\scipy\\optimize\\minpack.py:175: RuntimeWarning: The iteration is not making good progress, as measured by the \n",
      "  improvement from the last five Jacobian evaluations.\n",
      "  warnings.warn(msg, RuntimeWarning)\n"
     ]
    },
    {
     "name": "stdout",
     "output_type": "stream",
     "text": [
      "NL: NLBGS 6 ; 271724.04 0.0250735728\n"
     ]
    },
    {
     "name": "stderr",
     "output_type": "stream",
     "text": [
      "WARNING : Aspect ratio value outside of the range in Roskam's book, value clipped\n",
      "WARNING : Aspect ratio value outside of the range in Roskam's book, value clipped\n",
      "WARNING : Ratio of span on fuselage depth outside of the range in Roskam's book, value clipped\n",
      "WARNING : Taper ratio outside of the range in Roskam's book, value clipped\n",
      "WARNING : Area ratio value outside of the range in Roskam's book, value clipped\n",
      "WARNING : Ratio of span on fuselage depth outside of the range in Roskam's book, value clipped\n",
      "WARNING : Taper ratio outside of the range in Roskam's book, value clipped\n",
      "WARNING : Area ratio value outside of the range in Roskam's book, value clipped\n",
      "INFO    : Entering mission computation\n",
      "d:\\enguyen\\fuel-cell-general-aviation\\venv1\\lib\\site-packages\\openmdao\\vectors\\vector.py:630: VisibleDeprecationWarning: Creating an ndarray from ragged nested sequences (which is a list-or-tuple of lists-or-tuples-or ndarrays with different lengths or shapes) is deprecated. If you meant to do this, you must specify 'dtype=object' when creating the ndarray.\n",
      "  value = np.asarray(val)\n",
      "INFO    : Entering mission computation\n",
      "INFO    : Entering mission computation\n",
      "D:\\enguyen\\fuel-cell-general-aviation\\src\\fastga\\models\\loops\\wing_area_component\\wing_area_loop_geom_simple.py:80: UserWarning: Fuel type 0.000000 does not exist, replaced by type 1!\n",
      "  warnings.warn(\"Fuel type %f does not exist, replaced by type 1!\" % fuel_type)\n",
      "INFO    : Looping on wing area with new value equal to 15.321485\n",
      "d:\\enguyen\\fuel-cell-general-aviation\\venv1\\lib\\site-packages\\scipy\\optimize\\minpack.py:175: RuntimeWarning: The iteration is not making good progress, as measured by the \n",
      "  improvement from the last five Jacobian evaluations.\n",
      "  warnings.warn(msg, RuntimeWarning)\n"
     ]
    },
    {
     "name": "stdout",
     "output_type": "stream",
     "text": [
      "NL: NLBGS 7 ; 83753.2154 0.00772840102\n"
     ]
    },
    {
     "name": "stderr",
     "output_type": "stream",
     "text": [
      "WARNING : Aspect ratio value outside of the range in Roskam's book, value clipped\n",
      "WARNING : Aspect ratio value outside of the range in Roskam's book, value clipped\n",
      "WARNING : Ratio of span on fuselage depth outside of the range in Roskam's book, value clipped\n",
      "WARNING : Taper ratio outside of the range in Roskam's book, value clipped\n",
      "WARNING : Area ratio value outside of the range in Roskam's book, value clipped\n",
      "WARNING : Ratio of span on fuselage depth outside of the range in Roskam's book, value clipped\n",
      "WARNING : Taper ratio outside of the range in Roskam's book, value clipped\n",
      "WARNING : Area ratio value outside of the range in Roskam's book, value clipped\n",
      "INFO    : Entering mission computation\n",
      "d:\\enguyen\\fuel-cell-general-aviation\\venv1\\lib\\site-packages\\openmdao\\vectors\\vector.py:630: VisibleDeprecationWarning: Creating an ndarray from ragged nested sequences (which is a list-or-tuple of lists-or-tuples-or ndarrays with different lengths or shapes) is deprecated. If you meant to do this, you must specify 'dtype=object' when creating the ndarray.\n",
      "  value = np.asarray(val)\n",
      "INFO    : Entering mission computation\n",
      "INFO    : Entering mission computation\n",
      "D:\\enguyen\\fuel-cell-general-aviation\\src\\fastga\\models\\loops\\wing_area_component\\wing_area_loop_geom_simple.py:80: UserWarning: Fuel type 0.000000 does not exist, replaced by type 1!\n",
      "  warnings.warn(\"Fuel type %f does not exist, replaced by type 1!\" % fuel_type)\n",
      "INFO    : Looping on wing area with new value equal to 15.287633\n",
      "d:\\enguyen\\fuel-cell-general-aviation\\venv1\\lib\\site-packages\\scipy\\optimize\\minpack.py:175: RuntimeWarning: The iteration is not making good progress, as measured by the \n",
      "  improvement from the last five Jacobian evaluations.\n",
      "  warnings.warn(msg, RuntimeWarning)\n"
     ]
    },
    {
     "name": "stdout",
     "output_type": "stream",
     "text": [
      "NL: NLBGS 8 ; 118236.046 0.0109103343\n"
     ]
    },
    {
     "name": "stderr",
     "output_type": "stream",
     "text": [
      "WARNING : Aspect ratio value outside of the range in Roskam's book, value clipped\n",
      "WARNING : Aspect ratio value outside of the range in Roskam's book, value clipped\n",
      "WARNING : Ratio of span on fuselage depth outside of the range in Roskam's book, value clipped\n",
      "WARNING : Taper ratio outside of the range in Roskam's book, value clipped\n",
      "WARNING : Area ratio value outside of the range in Roskam's book, value clipped\n",
      "WARNING : Ratio of span on fuselage depth outside of the range in Roskam's book, value clipped\n",
      "WARNING : Taper ratio outside of the range in Roskam's book, value clipped\n",
      "WARNING : Area ratio value outside of the range in Roskam's book, value clipped\n",
      "INFO    : Entering mission computation\n",
      "d:\\enguyen\\fuel-cell-general-aviation\\venv1\\lib\\site-packages\\openmdao\\vectors\\vector.py:630: VisibleDeprecationWarning: Creating an ndarray from ragged nested sequences (which is a list-or-tuple of lists-or-tuples-or ndarrays with different lengths or shapes) is deprecated. If you meant to do this, you must specify 'dtype=object' when creating the ndarray.\n",
      "  value = np.asarray(val)\n",
      "INFO    : Entering mission computation\n",
      "D:\\enguyen\\fuel-cell-general-aviation\\src\\fastga\\models\\loops\\wing_area_component\\wing_area_loop_geom_simple.py:80: UserWarning: Fuel type 0.000000 does not exist, replaced by type 1!\n",
      "  warnings.warn(\"Fuel type %f does not exist, replaced by type 1!\" % fuel_type)\n",
      "INFO    : Looping on wing area with new value equal to 15.251093\n",
      "d:\\enguyen\\fuel-cell-general-aviation\\venv1\\lib\\site-packages\\scipy\\optimize\\minpack.py:175: RuntimeWarning: The iteration is not making good progress, as measured by the \n",
      "  improvement from the last five Jacobian evaluations.\n",
      "  warnings.warn(msg, RuntimeWarning)\n"
     ]
    },
    {
     "name": "stdout",
     "output_type": "stream",
     "text": [
      "NL: NLBGS 9 ; 21621.6833 0.00199515969\n"
     ]
    },
    {
     "name": "stderr",
     "output_type": "stream",
     "text": [
      "WARNING : Aspect ratio value outside of the range in Roskam's book, value clipped\n",
      "WARNING : Aspect ratio value outside of the range in Roskam's book, value clipped\n",
      "WARNING : Ratio of span on fuselage depth outside of the range in Roskam's book, value clipped\n",
      "WARNING : Taper ratio outside of the range in Roskam's book, value clipped\n",
      "WARNING : Area ratio value outside of the range in Roskam's book, value clipped\n",
      "WARNING : Ratio of span on fuselage depth outside of the range in Roskam's book, value clipped\n",
      "WARNING : Taper ratio outside of the range in Roskam's book, value clipped\n",
      "WARNING : Area ratio value outside of the range in Roskam's book, value clipped\n",
      "INFO    : Entering mission computation\n",
      "d:\\enguyen\\fuel-cell-general-aviation\\venv1\\lib\\site-packages\\openmdao\\vectors\\vector.py:630: VisibleDeprecationWarning: Creating an ndarray from ragged nested sequences (which is a list-or-tuple of lists-or-tuples-or ndarrays with different lengths or shapes) is deprecated. If you meant to do this, you must specify 'dtype=object' when creating the ndarray.\n",
      "  value = np.asarray(val)\n",
      "INFO    : Entering mission computation\n",
      "INFO    : Entering mission computation\n",
      "D:\\enguyen\\fuel-cell-general-aviation\\src\\fastga\\models\\loops\\wing_area_component\\wing_area_loop_geom_simple.py:80: UserWarning: Fuel type 0.000000 does not exist, replaced by type 1!\n",
      "  warnings.warn(\"Fuel type %f does not exist, replaced by type 1!\" % fuel_type)\n",
      "INFO    : Looping on wing area with new value equal to 15.224345\n",
      "d:\\enguyen\\fuel-cell-general-aviation\\venv1\\lib\\site-packages\\scipy\\optimize\\minpack.py:175: RuntimeWarning: The iteration is not making good progress, as measured by the \n",
      "  improvement from the last five Jacobian evaluations.\n",
      "  warnings.warn(msg, RuntimeWarning)\n"
     ]
    },
    {
     "name": "stdout",
     "output_type": "stream",
     "text": [
      "NL: NLBGS 10 ; 11392.392 0.00105124291\n"
     ]
    },
    {
     "name": "stderr",
     "output_type": "stream",
     "text": [
      "WARNING : Aspect ratio value outside of the range in Roskam's book, value clipped\n",
      "WARNING : Aspect ratio value outside of the range in Roskam's book, value clipped\n",
      "WARNING : Ratio of span on fuselage depth outside of the range in Roskam's book, value clipped\n",
      "WARNING : Taper ratio outside of the range in Roskam's book, value clipped\n",
      "WARNING : Area ratio value outside of the range in Roskam's book, value clipped\n",
      "WARNING : Ratio of span on fuselage depth outside of the range in Roskam's book, value clipped\n",
      "WARNING : Taper ratio outside of the range in Roskam's book, value clipped\n",
      "WARNING : Area ratio value outside of the range in Roskam's book, value clipped\n",
      "INFO    : Entering mission computation\n",
      "d:\\enguyen\\fuel-cell-general-aviation\\venv1\\lib\\site-packages\\openmdao\\vectors\\vector.py:630: VisibleDeprecationWarning: Creating an ndarray from ragged nested sequences (which is a list-or-tuple of lists-or-tuples-or ndarrays with different lengths or shapes) is deprecated. If you meant to do this, you must specify 'dtype=object' when creating the ndarray.\n",
      "  value = np.asarray(val)\n",
      "INFO    : Entering mission computation\n",
      "INFO    : Entering mission computation\n",
      "D:\\enguyen\\fuel-cell-general-aviation\\src\\fastga\\models\\loops\\wing_area_component\\wing_area_loop_geom_simple.py:80: UserWarning: Fuel type 0.000000 does not exist, replaced by type 1!\n",
      "  warnings.warn(\"Fuel type %f does not exist, replaced by type 1!\" % fuel_type)\n",
      "INFO    : Looping on wing area with new value equal to 15.215658\n"
     ]
    },
    {
     "name": "stdout",
     "output_type": "stream",
     "text": [
      "NL: NLBGS 11 ; 10806.1952 0.000997151088\n",
      "NL: NLBGS Converged\n"
     ]
    },
    {
     "name": "stderr",
     "output_type": "stream",
     "text": [
      "WARNING : Variable \"data:propulsion:fuel_type\" out of bound: value [0.] is under lower limit ( 1.0 ) in file D:\\enguyen\\fuel-cell-general-aviation\\src\\fastga\\models\\propulsion\\fuel_propulsion\\basicIC_engine\\openmdao.py\n",
      "INFO    : Computation finished after 112.54 seconds\n",
      "INFO    : Problem outputs written in d:\\enguyen\\fuel-cell-general-aviation\\src\\fastga\\notebooks\\fc_integration_test\\workdir\\problem_outputs_sr22_dep.xml\n"
     ]
    }
   ],
   "source": [
    "eval_problem = api_cs25.evaluate_problem(CONFIGURATION_FILE, overwrite=True)"
   ]
  },
  {
   "cell_type": "markdown",
   "metadata": {},
   "source": [
    "Let's save these results. We will use them in the next workbook, that shows some post-processing utilities."
   ]
  },
  {
   "cell_type": "code",
   "execution_count": 5,
   "metadata": {},
   "outputs": [
    {
     "data": {
      "text/plain": [
       "'workdir\\\\problem_outputs_fuel_cell_150NM_mda.xml'"
      ]
     },
     "execution_count": 5,
     "metadata": {},
     "output_type": "execute_result"
    }
   ],
   "source": [
    "OUTPUT_FILE = pth.join(WORK_FOLDER_PATH, \"problem_outputs_sr22_dep.xml\")\n",
    "FuelCell_OUTPUT_FILE = pth.join(WORK_FOLDER_PATH, \"problem_outputs_fuel_cell_150NM_mda.xml\")\n",
    "shutil.copy(OUTPUT_FILE, FuelCell_OUTPUT_FILE)"
   ]
  },
  {
   "cell_type": "markdown",
   "metadata": {},
   "source": [
    "The `variable-viewer` provides a way to inspect the content of the XML file. The dropdown lists above the table allow to filter the displayed variable."
   ]
  },
  {
   "cell_type": "code",
   "execution_count": 6,
   "metadata": {},
   "outputs": [
    {
     "data": {
      "application/vnd.jupyter.widget-view+json": {
       "model_id": "2d323e4bd616422382a5aa3e7758e3a7",
       "version_major": 2,
       "version_minor": 0
      },
      "text/plain": [
       "VBox(children=(HBox(children=(Button(description='Load', icon='upload', style=ButtonStyle(), tooltip='Load the…"
      ]
     },
     "metadata": {},
     "output_type": "display_data"
    }
   ],
   "source": [
    "api_cs25.variable_viewer(OUTPUT_FILE)"
   ]
  }
 ],
 "metadata": {
  "kernelspec": {
   "display_name": "Python 3 (ipykernel)",
   "language": "python",
   "name": "python3"
  },
  "language_info": {
   "codemirror_mode": {
    "name": "ipython",
    "version": 3
   },
   "file_extension": ".py",
   "mimetype": "text/x-python",
   "name": "python",
   "nbconvert_exporter": "python",
   "pygments_lexer": "ipython3",
   "version": "3.9.9"
  }
 },
 "nbformat": 4,
 "nbformat_minor": 4
}
