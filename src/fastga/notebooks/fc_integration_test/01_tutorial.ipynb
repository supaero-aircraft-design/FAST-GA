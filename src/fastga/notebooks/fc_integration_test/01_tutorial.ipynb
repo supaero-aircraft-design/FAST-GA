{
 "cells": [
  {
   "cell_type": "markdown",
   "metadata": {},
   "source": [
    "<div class=\"row\">\n",
    "  <div class=\"column\">\n",
    "    <img src=\"./img/logo-onera.png\" width=\"200\">\n",
    "  </div>\n",
    "  <div class=\"column\">\n",
    "    <img src=\"./img/logo-ISAE_SUPAERO.png\" width=\"200\">\n",
    "  </div>\n",
    "</div>"
   ]
  },
  {
   "cell_type": "markdown",
   "metadata": {},
   "source": [
    "# FAST-OAD-GA Tutorial"
   ]
  },
  {
   "cell_type": "markdown",
   "metadata": {},
   "source": [
    "FAST-OAD-GA is an add-on package for [FAST-OAD framework](https://github.com/fast-aircraft-design/FAST-OAD) for performing rapid Overall Aircraft Design in the category General Aviation (GA). The computational core of FAST-OAD being based on the  [OpenMDAO framework](https://openmdao.org/)."
   ]
  },
  {
   "cell_type": "markdown",
   "metadata": {},
   "source": [
    "## 1. Setting up and analyzing the initial problem"
   ]
  },
  {
   "cell_type": "markdown",
   "metadata": {},
   "source": [
    "To organize our work, we propose to use two user folders `data/` and `workdir/`. For instance, in `data/` we store a XML file which describes the Beechcraft Duchess. In `workdir/`, we store files generated or modified by FAST-OAD."
   ]
  },
  {
   "cell_type": "code",
   "execution_count": 1,
   "metadata": {},
   "outputs": [
    {
     "data": {
      "text/html": [
       "<style>.container { width:95% !important; }</style>"
      ],
      "text/plain": [
       "<IPython.core.display.HTML object>"
      ]
     },
     "metadata": {},
     "output_type": "display_data"
    }
   ],
   "source": [
    "import os.path as pth\n",
    "import os\n",
    "import openmdao.api as om\n",
    "from fastoad import api as api_cs25\n",
    "from fastga.command import api as api_cs23\n",
    "import logging\n",
    "from fastoad.gui import VariableViewer\n",
    "import shutil\n",
    "\n",
    "# Define relative path\n",
    "DATA_FOLDER_PATH = \"data\"\n",
    "WORK_FOLDER_PATH = \"workdir\"\n",
    "\n",
    "\n",
    "# Define files\n",
    "CONFIGURATION_FILE = pth.join(WORK_FOLDER_PATH, \"oad_process_da42.yml\")\n",
    "SOURCE_FILE = pth.join(DATA_FOLDER_PATH, \"problem_inputs_sr22_FC.xml\")\n",
    "INPUT_FILE = pth.join(WORK_FOLDER_PATH, 'problem_inputs_da42.xml')\n",
    "\n",
    "# For having log messages on screen\n",
    "logging.basicConfig(level=logging.INFO, format=\"%(levelname)-8s: %(message)s\")\n",
    "\n",
    "# For using all screen width\n",
    "from IPython.core.display import display, HTML\n",
    "\n",
    "display(HTML(\"<style>.container { width:95% !important; }</style>\"))"
   ]
  },
  {
   "cell_type": "markdown",
   "metadata": {},
   "source": [
    "We can use FAST to generate an input file by reading the problem described in the configuration file. If corresponding variables are found in the SOURCE_FILE, their value is replaced as default value."
   ]
  },
  {
   "cell_type": "code",
   "execution_count": null,
   "metadata": {},
   "outputs": [],
   "source": [
    "api_cs25.generate_inputs(CONFIGURATION_FILE, pth.join(DATA_FOLDER_PATH, 'problem_inputs_sr22_FC.xml'), overwrite=True)"
   ]
  },
  {
   "cell_type": "markdown",
   "metadata": {},
   "source": [
    "You can now checkout the generated [input file](./workdir/problem_inputs.xml).\n",
    "The values in this file will be considered by FAST-OAD when executing a computational process and can be modified by the user through the variable viewer:"
   ]
  },
  {
   "cell_type": "code",
   "execution_count": null,
   "metadata": {},
   "outputs": [],
   "source": [
    "api_cs25.variable_viewer(INPUT_FILE)"
   ]
  },
  {
   "cell_type": "markdown",
   "metadata": {},
   "source": [
    "Another useful feature is to list the modules of the model defined in the configuration file:"
   ]
  },
  {
   "cell_type": "code",
   "execution_count": null,
   "metadata": {},
   "outputs": [],
   "source": [
    "api_cs25.list_modules(CONFIGURATION_FILE)"
   ]
  },
  {
   "cell_type": "markdown",
   "metadata": {},
   "source": [
    "Another useful feature is the [N2 diagram](http://openmdao.org/twodocs/versions/latest/basic_guide/make_n2.html) visualization available in OpenMDAO to see the structure of the model:"
   ]
  },
  {
   "cell_type": "code",
   "execution_count": null,
   "metadata": {},
   "outputs": [],
   "source": [
    "N2_FILE = pth.join(WORK_FOLDER_PATH, \"n2.html\")\n",
    "api_cs25.write_n2(CONFIGURATION_FILE, N2_FILE, overwrite=True)\n",
    "from IPython.display import IFrame\n",
    "\n",
    "IFrame(src=N2_FILE, width=\"100%\", height=\"500px\")"
   ]
  },
  {
   "cell_type": "markdown",
   "metadata": {},
   "source": [
    "Alternatively, you can create a [WhatsOpt](https://github.com/OneraHub/WhatsOpt-Doc#whatsopt-documentation) account to generate the XDSM of the problem. If your account is created, you may uncomment next lines and run them (this should take ~ 1 min):"
   ]
  },
  {
   "cell_type": "code",
   "execution_count": null,
   "metadata": {},
   "outputs": [],
   "source": [
    "XDSM_FILE = pth.join(WORK_FOLDER_PATH, \"xdsm.html\")\n",
    "api_cs25.write_xdsm(CONFIGURATION_FILE, XDSM_FILE, overwrite=True)\n",
    "from IPython.display import IFrame\n",
    "\n",
    "IFrame(src=XDSM_FILE, width=\"100%\", height=\"500px\")"
   ]
  },
  {
   "cell_type": "markdown",
   "metadata": {},
   "source": [
    "## 2. Running your first MDA"
   ]
  },
  {
   "cell_type": "markdown",
   "metadata": {},
   "source": [
    "### Fuel cell aircraft\n",
    "Here we run an MDA, that is solving the multidisciplinary couplings using the different nested solvers in the model, without running the optimization problem even if it is defined in the configuration file."
   ]
  },
  {
   "cell_type": "code",
   "execution_count": 2,
   "metadata": {},
   "outputs": [
    {
     "name": "stderr",
     "output_type": "stream",
     "text": [
      "INFO    : Loading FAST-OAD plugin bundled\n",
      "INFO    : Loading bundles from fastoad.models\n",
      "INFO    : Installed bundle fastoad.models.performances.mission.mission_definition.mission_builder (ID 13 )\n",
      "INFO    : Installed bundle fastoad.models.performances.mission.routes (ID 23 )\n",
      "INFO    : Installed bundle fastoad.models.performances.mission.openmdao.mission (ID 18 )\n",
      "INFO    : Installed bundle fastoad.models.performances.mission.segments.hold (ID 27 )\n",
      "INFO    : Installed bundle fastoad.models.performances.__init__ (ID 34 )\n",
      "INFO    : Installed bundle fastoad.models.performances.mission.base (ID 10 )\n",
      "INFO    : Installed bundle fastoad.models.__init__ (ID 35 )\n",
      "INFO    : Installed bundle fastoad.models.performances.mission.segments.speed_change (ID 28 )\n",
      "INFO    : Installed bundle fastoad.models.performances.mission.openmdao.link_mtow (ID 17 )\n",
      "INFO    : Installed bundle fastoad.models.performances.mission.mission_definition.schema (ID 15 )\n",
      "INFO    : Installed bundle fastoad.models.performances.mission.openmdao.mission_wrapper (ID 19 )\n",
      "INFO    : Installed bundle fastoad.models.performances.mission.segments.altitude_change (ID 24 )\n",
      "INFO    : Installed bundle fastoad.models.performances.mission.mission_definition.resources.__init__ (ID 14 )\n",
      "INFO    : Installed bundle fastoad.models.performances.mission.segments.taxi (ID 29 )\n",
      "INFO    : Installed bundle fastoad.models.performances.mission.util (ID 32 )\n",
      "INFO    : Installed bundle fastoad.models.performances.mission.openmdao.resources.__init__ (ID 20 )\n",
      "INFO    : Installed bundle fastoad.models.performances.mission.segments.__init__ (ID 31 )\n",
      "INFO    : Installed bundle fastoad.models.performances.mission.mission_definition.exceptions (ID 12 )\n",
      "INFO    : Installed bundle fastoad.models.performances.mission.mission_definition.__init__ (ID 16 )\n",
      "INFO    : Installed bundle fastoad.models.performances.mission.segments.base (ID 25 )\n",
      "INFO    : Installed bundle fastoad.models.performances.mission.polar (ID 22 )\n",
      "INFO    : Installed bundle fastoad.models.performances.mission.segments.transition (ID 30 )\n",
      "INFO    : Installed bundle fastoad.models.performances.mission.exceptions (ID 11 )\n",
      "INFO    : Installed bundle fastoad.models.performances.mission.openmdao.__init__ (ID 21 )\n",
      "INFO    : Installed bundle fastoad.models.performances.mission.segments.cruise (ID 26 )\n",
      "INFO    : Installed bundle fastoad.models.performances.mission.__init__ (ID 33 )\n",
      "INFO    : Loaded variable descriptions in fastoad.models\n",
      "INFO    : Loading FAST-OAD plugin cs23\n",
      "INFO    : Loading bundles from fastga.models\n",
      "INFO    : Loaded variable descriptions in fastga.models.aerodynamics\n",
      "INFO    : Loaded variable descriptions in fastga.models.aerodynamics\n",
      "INFO    : Loaded variable descriptions in fastga.models.aerodynamics\n",
      "INFO    : Loaded variable descriptions in fastga.models.aerodynamics\n",
      "INFO    : Loaded variable descriptions in fastga.models.aerodynamics\n",
      "INFO    : Loaded variable descriptions in fastga.models.geometry\n",
      "INFO    : Loaded variable descriptions in fastga.models.geometry\n",
      "INFO    : Loaded variable descriptions in fastga.models.handling_qualities\n",
      "INFO    : Loaded variable descriptions in fastga.models.handling_qualities\n",
      "INFO    : Loaded variable descriptions in fastga.models.loops\n",
      "INFO    : Loaded variable descriptions in fastga.models.loops\n",
      "INFO    : Loaded variable descriptions in fastga.models.weight.cg\n",
      "INFO    : Loaded variable descriptions in fastga.models.weight.mass_breakdown\n",
      "INFO    : Loaded variable descriptions in fastga.models.weight.mass_breakdown\n",
      "INFO    : Loaded variable descriptions in fastga.models.weight.mass_breakdown\n",
      "INFO    : Loaded variable descriptions in fastga.models.weight.mass_breakdown\n",
      "INFO    : Installed bundle fastga.models.aerodynamics.external.openvsp.compute_aero_slipstream (ID 75 )\n",
      "INFO    : Installed bundle fastga.models.performances.mission.mission_components.__init__ (ID 218 )\n",
      "INFO    : Installed bundle fastga.models.propulsion.fuel_propulsion.basicIC_engine.exceptions (ID 259 )\n",
      "INFO    : Installed bundle fastga.models.performances.mission_vector.mission.no_dep_effect (ID 240 )\n",
      "INFO    : Installed bundle fastga.models.aerodynamics.aero_center (ID 39 )\n",
      "INFO    : Installed bundle fastga.models.aerodynamics.external.openvsp.compute_aero (ID 74 )\n",
      "INFO    : Installed bundle fastga.models.performances.mission.takeoff (ID 221 )\n",
      "INFO    : Installed bundle fastga.models.aerodynamics.external.openvsp.openvsp3201.__init__ (ID 77 )\n",
      "INFO    : Installed bundle fastga.models.propulsion.fuel_propulsion.basicIC_engine.openmdao (ID 260 )\n",
      "INFO    : Installed bundle fastga.models.performances.mission_vector.mission.performance_per_phase (ID 241 )\n",
      "INFO    : Installed bundle fastga.models.aerodynamics.airfoil_folder.__init__ (ID 40 )\n",
      "INFO    : Installed bundle fastga.models.aerodynamics.external.openvsp.openvsp (ID 76 )\n",
      "INFO    : Installed bundle fastga.models.geometry.geom_components.propeller.components.__init__ (ID 123 )\n",
      "INFO    : Installed bundle fastga.models.performances.mission_vector.mission.propulsion_via_id (ID 242 )\n",
      "INFO    : Installed bundle fastga.models.geometry.geom_components.propeller.compute_propeller (ID 124 )\n",
      "INFO    : Installed bundle fastga.models.propulsion.hybrid_propulsion.basicHE_engine.exceptions (ID 282 )\n",
      "INFO    : Installed bundle fastga.models.aerodynamics.components.airfoil_lift_curve_slope (ID 41 )\n",
      "INFO    : Installed bundle fastga.models.aerodynamics.external.openvsp.resources.__init__ (ID 78 )\n",
      "INFO    : Installed bundle fastga.models.aerodynamics.components.cd0 (ID 42 )\n",
      "INFO    : Installed bundle fastga.models.geometry.geom_components.propeller.constants (ID 125 )\n",
      "INFO    : Installed bundle fastga.models.performances.mission_vector.mission.reserve_energy (ID 243 )\n",
      "INFO    : Installed bundle fastga.models.propulsion.hybrid_propulsion.basicHE_engine.openmdao (ID 283 )\n",
      "INFO    : Installed bundle fastga.models.weight_fuel_cell.cg.cg_components.ratio_aft_fuel_cell (ID 393 )\n",
      "INFO    : Installed bundle fastga.models.geometry.geom_components.propeller.__init__ (ID 126 )\n",
      "INFO    : Installed bundle fastga.models.performances.mission_vector.mission.sizing_energy (ID 244 )\n",
      "INFO    : Installed bundle fastga.models.aerodynamics.external.openvsp.__init__ (ID 79 )\n",
      "INFO    : Installed bundle fastga.models.weight.cg.cg_components.b_propulsion.b1_engine_cg (ID 298 )\n",
      "INFO    : Installed bundle fastga.models.aerodynamics.components.cd0_fuselage (ID 43 )\n",
      "INFO    : Installed bundle fastga.models.geometry.geometry (ID 98 )\n",
      "INFO    : Installed bundle fastga.models.performances.mission_vector.mission.thrust_taxi (ID 245 )\n",
      "INFO    : Installed bundle fastga.models.weight.cg.cg_components.b_propulsion.b2_fuel_lines_cg (ID 299 )\n",
      "INFO    : Installed bundle fastga.models.weight_fuel_cell.cg.__init__ (ID 395 )\n",
      "INFO    : Installed bundle fastga.models.aerodynamics.external.propeller_code.compute_propeller_aero (ID 80 )\n",
      "INFO    : Installed bundle fastga.models.geometry.geom_components.vt.components.compute_vt_chords (ID 127 )\n",
      "INFO    : Installed bundle fastga.models.aerodynamics.components.cd0_ht (ID 44 )\n",
      "INFO    : Installed bundle fastga.models.geometry.geom_components.vt.components.compute_vt_distance (ID 128 )\n",
      "INFO    : Installed bundle fastga.models.performances.mission_vector.mission.update_mass (ID 246 )\n",
      "INFO    : Installed bundle fastga.models.weight.cg.cg_components.b_propulsion.b3_tank_cg (ID 300 )\n",
      "INFO    : Installed bundle fastga.models.geometry.geom_components.vt.components.compute_vt_mac (ID 129 )\n",
      "INFO    : Installed bundle fastga.models.aerodynamics.components.cd0_lg (ID 45 )\n",
      "INFO    : Installed bundle fastga.models.geometry.geom_components.vt.components.compute_vt_sweep (ID 130 )\n",
      "INFO    : Installed bundle fastga.models.performances.mission.mission_HE (ID 219 )\n",
      "INFO    : Installed bundle fastga.models.geometry.geom_components.fuselage.constants (ID 104 )\n",
      "INFO    : Installed bundle fastga.models.geometry.geom_components.vt.components.compute_vt_wet_area (ID 131 )\n",
      "INFO    : Installed bundle fastga.models.performances.mission_vector.mission.__init__ (ID 247 )\n",
      "INFO    : Installed bundle fastga.models.weight.cg.cg_components.b_propulsion.b_cg (ID 301 )\n",
      "INFO    : Installed bundle fastga.models.geometry.geom_components.fuselage.compute_fuselage (ID 103 )\n",
      "INFO    : Installed bundle fastga.models.geometry.geom_components.vt.components.__init__ (ID 132 )\n",
      "INFO    : Installed bundle fastga.models.weight.cg.cg_components.b_propulsion.__init__ (ID 302 )\n",
      "INFO    : Installed bundle fastga.models.aerodynamics.components.cd0_nacelle (ID 46 )\n",
      "INFO    : Installed bundle fastga.models.geometry.geom_components.compute_total_area (ID 99 )\n",
      "INFO    : Installed bundle fastga.models.performances.mission_vector.mission_vector (ID 248 )\n",
      "INFO    : Installed bundle fastga.models.weight_fuel_cell.cg.cg_components.__init__ (ID 394 )\n",
      "INFO    : Installed bundle fastga.models.aerodynamics.external.propeller_code.compute_propeller_coefficient_map (ID 81 )\n",
      "INFO    : Installed bundle fastga.models.geometry.geom_components.fuselage.components.compute_fuselage_dimensions (ID 100 )\n",
      "INFO    : Installed bundle fastga.models.geometry.geom_components.vt.compute_vertical_tail (ID 133 )\n",
      "INFO    : Installed bundle fastga.models.aerodynamics.components.cd0_other (ID 47 )\n",
      "INFO    : Installed bundle fastga.models.geometry.geom_components.fuselage.components.compute_fuselage_wet_area (ID 101 )\n",
      "INFO    : Installed bundle fastga.models.performances.mission_vector.to_csv (ID 249 )\n",
      "INFO    : Installed bundle fastga.models.weight.cg.cg_components.constants (ID 303 )\n",
      "INFO    : Installed bundle fastga.models.aerodynamics.components.cd0_total (ID 49 )\n",
      "INFO    : Installed bundle fastga.models.geometry.geom_components.fuselage.components.__init__ (ID 102 )\n",
      "INFO    : Installed bundle fastga.models.propulsion.fuel_propulsion.basicTurbo_prop_map.unitary_tests.test_basicTP_engine_mapped (ID 276 )\n",
      "INFO    : Installed bundle fastga.models.weight_fuel_cell.mass_breakdown.b_propulsion.b10_bop_weight (ID 396 )\n",
      "INFO    : Installed bundle fastga.models.aerodynamics.components.cd0_other_fc (ID 48 )\n",
      "INFO    : Installed bundle fastga.models.performances.mission_vector.__init__ (ID 250 )\n",
      "INFO    : Installed bundle fastga.models.geometry.geom_components.vt.constants (ID 134 )\n",
      "INFO    : Installed bundle fastga.models.propulsion.fuel_propulsion.basicTurbo_prop_map.unitary_tests.__init__ (ID 277 )\n",
      "INFO    : Installed bundle fastga.models.geometry.geom_components.fuselage.__init__ (ID 105 )\n",
      "INFO    : Installed bundle fastga.models.geometry.geom_components.vt.__init__ (ID 135 )\n",
      "INFO    : Installed bundle fastga.models.propulsion.fuel_propulsion.basicTurbo_prop_map.__init__ (ID 278 )\n",
      "INFO    : Installed bundle fastga.models.weight_fuel_cell.mass_breakdown.b_propulsion.b11_inverter_weight (ID 397 )\n",
      "INFO    : Installed bundle fastga.models.geometry.geom_components.ht.compute_horizontal_tail (ID 113 )\n",
      "INFO    : Installed bundle fastga.models.aerodynamics.components.cd0_vt (ID 50 )\n",
      "INFO    : Installed bundle fastga.models.geometry.geom_components.ht.components.compute_ht_chords (ID 106 )\n",
      "INFO    : Installed bundle fastga.models.geometry.geom_components.wing.components.compute_wing_b50 (ID 136 )\n",
      "INFO    : Installed bundle fastga.models.performances.mission.resources.__init__ (ID 220 )\n",
      "INFO    : Installed bundle fastga.models.propulsion.hybrid_propulsion.base (ID 280 )\n",
      "INFO    : Installed bundle fastga.models.aerodynamics.constants (ID 73 )\n",
      "INFO    : Installed bundle fastga.models.geometry.geom_components.ht.components.compute_ht_distance (ID 107 )\n",
      "INFO    : Installed bundle fastga.models.aerodynamics.components.cd0_wing (ID 51 )\n",
      "INFO    : Installed bundle fastga.models.geometry.geom_components.ht.components.compute_ht_efficiency (ID 108 )\n",
      "INFO    : Installed bundle fastga.models.propulsion.fuel_propulsion.__init__ (ID 279 )\n",
      "INFO    : Installed bundle fastga.models.geometry.geom_components.ht.components.compute_ht_mac (ID 109 )\n",
      "INFO    : Installed bundle fastga.models.aerodynamics.components.clalpha_vt (ID 52 )\n",
      "INFO    : Installed bundle fastga.models.geometry.geom_components.ht.components.compute_ht_sweep (ID 110 )\n",
      "INFO    : Installed bundle fastga.models.weight.mass_breakdown.a_airframe.a1_wing_weight (ID 322 )\n",
      "INFO    : Installed bundle fastga.models.geometry.geom_components.ht.components.compute_ht_wet_area (ID 111 )\n",
      "INFO    : Installed bundle fastga.models.propulsion.hybrid_propulsion.basicHE_engine.basicHE_engine (ID 281 )\n",
      "INFO    : Installed bundle fastga.models.weight.mass_breakdown.a_airframe.a1_wing_weight_analytical (ID 323 )\n",
      "INFO    : Installed bundle fastga.models.weight.mass_breakdown.a_airframe.wing_components.update_wing_mass (ID 354 )\n",
      "INFO    : Installed bundle fastga.models.weight.mass_breakdown.b_propulsion.sum (ID 362 )\n",
      "INFO    : Installed bundle fastga.models.weight.mass_breakdown.a_airframe.wing_components.__init__ (ID 355 )\n",
      "INFO    : Installed bundle fastga.models.weight_fuel_cell.mass_breakdown.b_propulsion.b7_propeller_weight (ID 406 )\n",
      "INFO    : Installed bundle fastga.models.handling_qualities.tail_sizing.update_ht_area (ID 164 )\n",
      "INFO    : Installed bundle fastga.models.weight.cg.cg_components.c_systems.c1_power_systems_cg (ID 304 )\n",
      "INFO    : Installed bundle fastga.models.weight.mass_breakdown.a_airframe.__init__ (ID 356 )\n",
      "INFO    : Installed bundle fastga.models.weight.mass_breakdown.b_propulsion.__init__ (ID 363 )\n",
      "INFO    : Installed bundle fastga.models.aerodynamics.external.propeller_code.propeller_core (ID 82 )\n",
      "INFO    : Installed bundle fastga.models.weight.cg.cg_components.c_systems.c2_life_support_systems_cg (ID 305 )\n",
      "INFO    : Installed bundle fastga.models.aerodynamics.external.vlm.vlm (ID 85 )\n",
      "INFO    : Installed bundle fastga.models.weight.cg.cg_components.c_systems.c3_navigation_systems_cg (ID 306 )\n",
      "INFO    : Installed bundle fastga.models.weight.mass_breakdown.b_propulsion.b1_2_oil_weight (ID 357 )\n",
      "INFO    : Installed bundle fastga.models.handling_qualities.tail_sizing.compute_to_rotation_limit (ID 162 )\n",
      "INFO    : Installed bundle fastga.models.weight.cg.cg_components.c_systems.c4_recording_systems_cg (ID 307 )\n",
      "INFO    : Installed bundle fastga.models.weight.mass_breakdown.constants (ID 364 )\n",
      "INFO    : Installed bundle fastga.models.weight.mass_breakdown.mass_breakdown (ID 376 )\n",
      "INFO    : Installed bundle fastga.models.weight_fuel_cell.mass_breakdown.b_propulsion.b8_battery_weight (ID 407 )\n",
      "INFO    : Installed bundle fastga.models.aerodynamics.external.propeller_code.__init__ (ID 83 )\n",
      "INFO    : Installed bundle fastga.models.weight.cg.cg_components.c_systems.__init__ (ID 308 )\n",
      "INFO    : Installed bundle fastga.models.handling_qualities.tail_sizing.constants (ID 163 )\n",
      "INFO    : Installed bundle fastga.models.aerodynamics.external.vlm.compute_aero (ID 84 )\n",
      "INFO    : Installed bundle fastga.models.geometry.geom_components.wing.components.compute_wing_l1_l4 (ID 137 )\n",
      "INFO    : Installed bundle fastga.models.weight.cg.cg_components.d_furniture.d2_passenger_seats_cg (ID 309 )\n",
      "INFO    : Installed bundle fastga.models.geometry.geom_components.wing.components.compute_wing_l2_l3 (ID 138 )\n",
      "INFO    : Installed bundle fastga.models.weight_fuel_cell.mass_breakdown.b_propulsion.b9_fuel_cells_weight (ID 408 )\n",
      "INFO    : Installed bundle fastga.models.geometry.geom_components.wing.components.compute_wing_mac (ID 139 )\n",
      "INFO    : Installed bundle fastga.models.aerodynamics.external.vlm.__init__ (ID 86 )\n",
      "INFO    : Installed bundle fastga.models.geometry.geom_components.wing.components.compute_wing_sweep (ID 140 )\n",
      "INFO    : Installed bundle fastga.models.weight_fuel_cell.mass_breakdown.b_propulsion.constants (ID 409 )\n",
      "INFO    : Installed bundle fastga.models.geometry.geom_components.wing.components.compute_wing_toc (ID 141 )\n",
      "INFO    : Installed bundle fastga.models.handling_qualities.tail_sizing.update_tail_areas (ID 165 )\n",
      "INFO    : Installed bundle fastga.models.aerodynamics.load_factor (ID 93 )\n",
      "INFO    : Installed bundle fastga.models.geometry.geom_components.wing.components.compute_wing_wet_area (ID 142 )\n",
      "INFO    : Installed bundle fastga.models.geometry.geom_components.wing.components.compute_wing_x (ID 143 )\n",
      "INFO    : Installed bundle fastga.models.aerodynamics.aerodynamics (ID 36 )\n",
      "INFO    : Installed bundle fastga.models.aerodynamics.external.xfoil.resources.__init__ (ID 87 )\n",
      "INFO    : Installed bundle fastga.models.geometry.geom_components.wing.components.compute_wing_y (ID 144 )\n",
      "INFO    : Installed bundle fastga.models.weight.cg.cg_components.d_furniture.__init__ (ID 310 )\n",
      "INFO    : Installed bundle fastga.models.weight_fuel_cell.mass_breakdown.b_propulsion.sum (ID 410 )\n",
      "INFO    : Installed bundle fastga.models.geometry.geom_components.wing.components.__init__ (ID 145 )\n",
      "INFO    : Installed bundle fastga.models.aerodynamics.external.xfoil.xfoil699.__init__ (ID 88 )\n",
      "INFO    : Installed bundle fastga.models.weight_fuel_cell.mass_breakdown.b_propulsion.__init__ (ID 411 )\n",
      "INFO    : Installed bundle fastga.models.geometry.geom_components.wing.compute_wing (ID 146 )\n",
      "INFO    : Installed bundle fastga.models.geometry.geom_components.wing.constants (ID 147 )\n",
      "INFO    : Installed bundle fastga.models.weight_fuel_cell.mass_breakdown.constants (ID 412 )\n",
      "INFO    : Installed bundle fastga.models.aerodynamics.unitary_tests.dummy_engines (ID 94 )\n",
      "INFO    : Installed bundle fastga.models.geometry.geom_components.__init__ (ID 152 )\n",
      "INFO    : Installed bundle fastga.models.weight.mass_breakdown.c_systems.c1_power_systems_weight (ID 365 )\n",
      "INFO    : Installed bundle fastga.models.weight_fuel_cell.__init__ (ID 414 )\n",
      "INFO    : Installed bundle fastga.models.geometry.constants (ID 97 )\n",
      "INFO    : Installed bundle fastga.models.geometry.geom_components.wing.__init__ (ID 148 )\n",
      "INFO    : Installed bundle fastga.models.weight.mass_breakdown.b_propulsion.b1_engine_weight (ID 358 )\n",
      "INFO    : Installed bundle fastga.models.weight.mass_breakdown.c_systems.c2_life_support_systems_weight (ID 366 )\n",
      "INFO    : Installed bundle fastga.models.weight_fuel_cell.mass_breakdown.__init__ (ID 413 )\n",
      "INFO    : Installed bundle fastga.models.aerodynamics.external.xfoil.xfoil_group (ID 89 )\n",
      "INFO    : Installed bundle fastga.models.aerodynamics.__init__ (ID 96 )\n",
      "INFO    : Installed bundle fastga.models.weight.mass_breakdown.b_propulsion.b2_fuel_lines_weight (ID 359 )\n",
      "INFO    : Installed bundle fastga.models.weight.mass_breakdown.c_systems.c3_avionics_systems_weight (ID 367 )\n",
      "INFO    : Installed bundle fastga.models.aerodynamics.aerodynamics_high_speed (ID 37 )\n",
      "INFO    : Installed bundle fastga.models.aerodynamics.unitary_tests.__init__ (ID 95 )\n",
      "INFO    : Installed bundle fastga.models.geometry.geom_components.wing_tank.compute_mfw_advanced (ID 149 )\n",
      "INFO    : Installed bundle fastga.models.weight.cg.cg_components.global_cg (ID 311 )\n",
      "INFO    : Installed bundle fastga.models.weight.mass_breakdown.b_propulsion.b3_unusable_fuel_weight (ID 360 )\n",
      "INFO    : Installed bundle fastga.models.weight.mass_breakdown.c_systems.c4_recording_systems_weight (ID 368 )\n",
      "INFO    : Installed bundle fastga.models.__init__ (ID 415 )\n",
      "INFO    : Installed bundle fastga.models.aerodynamics.external.xfoil.xfoil_polar (ID 90 )\n",
      "INFO    : Installed bundle fastga.models.geometry.geom_components.wing_tank.compute_mfw_simple (ID 150 )\n",
      "INFO    : Installed bundle fastga.models.aerodynamics.external.__init__ (ID 92 )\n",
      "INFO    : Installed bundle fastga.models.geometry.profiles.get_profile (ID 153 )\n",
      "INFO    : Installed bundle fastga.models.aerodynamics.aerodynamics_low_speed (ID 38 )\n",
      "INFO    : Installed bundle fastga.models.aerodynamics.external.xfoil.__init__ (ID 91 )\n",
      "INFO    : Installed bundle fastga.models.handling_qualities.tail_sizing.update_vt_area (ID 166 )\n",
      "INFO    : Installed bundle fastga.models.weight.mass_breakdown.b_propulsion.constants (ID 361 )\n",
      "INFO    : Installed bundle fastga.models.weight.mass_breakdown.c_systems.constants (ID 369 )\n",
      "INFO    : Installed bundle fastga.models.geometry.geom_components.wing_tank.__init__ (ID 151 )\n",
      "INFO    : Installed bundle fastga.models.aerodynamics.components.compute_cl_extreme (ID 53 )\n",
      "INFO    : Installed bundle fastga.models.loops.wing_area_component.wing_area_loop_cl_simple (ID 203 )\n",
      "INFO    : Installed bundle fastga.models.weight.mass_breakdown.a_airframe.a2_fuselage_weight (ID 324 )\n",
      "INFO    : Installed bundle fastga.models.geometry.geom_components.ht.components.__init__ (ID 112 )\n",
      "INFO    : Installed bundle fastga.models.weight.mass_breakdown.a_airframe.a2_fuselage_weight_analytical (ID 325 )\n",
      "INFO    : Installed bundle fastga.models.weight_fuel_cell.cg.cg_components.b_propulsion.b3_tank_cg (ID 387 )\n",
      "INFO    : Installed bundle fastga.models.aerodynamics.components.compute_cl_extreme_htp (ID 54 )\n",
      "INFO    : Installed bundle fastga.models.loops.wing_area_component.wing_area_loop_geom_adv (ID 204 )\n",
      "INFO    : Installed bundle fastga.models.aerodynamics.components.compute_cl_extreme_wing (ID 55 )\n",
      "INFO    : Installed bundle fastga.models.weight.mass_breakdown.a_airframe.a3_tail_weight (ID 326 )\n",
      "INFO    : Installed bundle fastga.models.loops.wing_area_component.update_wing_area (ID 201 )\n",
      "INFO    : Installed bundle fastga.models.weight.mass_breakdown.a_airframe.a4_flight_control_weight (ID 327 )\n",
      "INFO    : Installed bundle fastga.models.loops.wing_area_component.wing_area_loop_geom_simple (ID 205 )\n",
      "INFO    : Installed bundle fastga.models.weight.mass_breakdown.a_airframe.a5_landing_gear_weight (ID 328 )\n",
      "INFO    : Installed bundle fastga.models.aerodynamics.components.compute_cm_alpha_fus (ID 56 )\n",
      "INFO    : Installed bundle fastga.models.geometry.geom_components.ht.constants (ID 114 )\n",
      "INFO    : Installed bundle fastga.models.options (ID 208 )\n",
      "INFO    : Installed bundle fastga.models.aerodynamics.components.compute_cnbeta_fuselage (ID 57 )\n",
      "INFO    : Installed bundle fastga.models.geometry.geom_components.nacelle.compute_nacelle_dimension (ID 118 )\n",
      "INFO    : Installed bundle fastga.models.weight.mass_breakdown.a_airframe.a7_paint_weight (ID 329 )\n",
      "INFO    : Installed bundle fastga.models.weight_fuel_cell.cg.cg_components.b_propulsion.b4_battery_cg (ID 388 )\n",
      "INFO    : Installed bundle fastga.models.aerodynamics.components.compute_effective_efficiency_prop (ID 59 )\n",
      "INFO    : Installed bundle fastga.models.loops.wing_area_component.__init__ (ID 206 )\n",
      "INFO    : Installed bundle fastga.models.weight.cg.cg_components.loadcase (ID 312 )\n",
      "INFO    : Installed bundle fastga.models.weight.mass_breakdown.a_airframe.fuselage_components.compute_additional_bending_material_mass_h (ID 331 )\n",
      "INFO    : Installed bundle fastga.models.geometry.geom_components.ht.__init__ (ID 115 )\n",
      "INFO    : Installed bundle fastga.models.weight.mass_breakdown.c_systems.sum (ID 370 )\n",
      "INFO    : Installed bundle fastga.models.aerodynamics.components.compute_cy_rudder (ID 58 )\n",
      "INFO    : Installed bundle fastga.models.loops.__init__ (ID 207 )\n",
      "INFO    : Installed bundle fastga.models.weight.cg.cg_components.max_cg_ratio (ID 313 )\n",
      "INFO    : Installed bundle fastga.models.weight.mass_breakdown.a_airframe.constants (ID 330 )\n",
      "INFO    : Installed bundle fastga.models.aerodynamics.components.compute_equilibrated_polar (ID 60 )\n",
      "INFO    : Installed bundle fastga.models.performances.mission.constants (ID 209 )\n",
      "INFO    : Installed bundle fastga.models.weight.mass_breakdown.a_airframe.fuselage_components.compute_additional_bending_material_mass_v (ID 332 )\n",
      "INFO    : Installed bundle fastga.models.weight.mass_breakdown.c_systems.__init__ (ID 371 )\n",
      "INFO    : Installed bundle fastga.models.aerodynamics.components.compute_non_equilibrated_polar (ID 62 )\n",
      "INFO    : Installed bundle fastga.models.geometry.geom_components.landing_gears.compute_lg (ID 116 )\n",
      "INFO    : Installed bundle fastga.models.weight.mass_breakdown.a_airframe.fuselage_components.compute_bulkhead_mass (ID 333 )\n",
      "INFO    : Installed bundle fastga.models.weight.cg.cg_components.payload (ID 314 )\n",
      "INFO    : Installed bundle fastga.models.weight.mass_breakdown.a_airframe.fuselage_components.compute_cone_mass (ID 334 )\n",
      "INFO    : Installed bundle fastga.models.aerodynamics.components.compute_L_D_max (ID 61 )\n",
      "INFO    : Installed bundle fastga.models.geometry.geom_components.landing_gears.__init__ (ID 117 )\n",
      "INFO    : Installed bundle fastga.models.performances.mission.dynamic_equilibrium (ID 210 )\n",
      "INFO    : Installed bundle fastga.models.propulsion.fuel_propulsion.basicTurbo_prop.unitary_tests.test_basicTP_engine (ID 269 )\n",
      "INFO    : Installed bundle fastga.models.weight.cg.cg_components.__init__ (ID 316 )\n",
      "INFO    : Installed bundle fastga.models.weight.mass_breakdown.a_airframe.fuselage_components.compute_doors_mass (ID 335 )\n",
      "INFO    : Installed bundle fastga.models.propulsion.fuel_propulsion.basicTurbo_prop_map.basicTP_engine_mapped (ID 273 )\n",
      "INFO    : Installed bundle fastga.models.weight.mass_breakdown.a_airframe.fuselage_components.compute_engine_support_mass (ID 336 )\n",
      "INFO    : Installed bundle fastga.models.geometry.geom_components.nacelle.compute_nacelle_position (ID 119 )\n",
      "INFO    : Installed bundle fastga.models.propulsion.fuel_propulsion.basicTurbo_prop.resources.__init__ (ID 268 )\n",
      "INFO    : Installed bundle fastga.models.weight.mass_breakdown.a_airframe.fuselage_components.compute_floor_mass (ID 337 )\n",
      "INFO    : Installed bundle fastga.models.aerodynamics.components.compute_reynolds (ID 63 )\n",
      "INFO    : Installed bundle fastga.models.propulsion.fuel_propulsion.basicTurbo_prop.unitary_tests.__init__ (ID 270 )\n",
      "INFO    : Installed bundle fastga.models.weight.mass_breakdown.d_furniture.d2_passenger_seats_weight (ID 373 )\n",
      "INFO    : Installed bundle fastga.models.weight.mass_breakdown.a_airframe.fuselage_components.compute_insulation_mass (ID 338 )\n",
      "INFO    : Installed bundle fastga.models.performances.mission_vector.full_mission (ID 225 )\n",
      "INFO    : Installed bundle fastga.models.propulsion.fuel_propulsion.basicTurbo_prop.__init__ (ID 271 )\n",
      "INFO    : Installed bundle fastga.models.weight.mass_breakdown.a_airframe.fuselage_components.compute_nlg_hatch_mass (ID 339 )\n",
      "INFO    : Installed bundle fastga.models.weight_fuel_cell.cg.cg_components.b_propulsion.b5_fuel_cell_cg (ID 389 )\n",
      "INFO    : Installed bundle fastga.models.aerodynamics.components.compute_vn (ID 64 )\n",
      "INFO    : Installed bundle fastga.models.geometry.geom_components.nacelle.__init__ (ID 120 )\n",
      "INFO    : Installed bundle fastga.models.load_analysis.wing.structural_loads (ID 194 )\n",
      "INFO    : Installed bundle fastga.models.performances.mission.mission (ID 211 )\n",
      "INFO    : Installed bundle fastga.models.performances.mission_vector.mission.compute_time_step (ID 235 )\n",
      "INFO    : Installed bundle fastga.models.weight.mass_breakdown.a_airframe.fuselage_components.compute_shell_mass (ID 340 )\n",
      "INFO    : Installed bundle fastga.models.weight.mass_breakdown.d_furniture.constants (ID 372 )\n",
      "INFO    : Installed bundle fastga.models.load_analysis.__init__ (ID 196 )\n",
      "INFO    : Installed bundle fastga.models.performances.mission_vector.initialization.initialize_airspeed (ID 227 )\n",
      "INFO    : Installed bundle fastga.models.weight.mass_breakdown.a_airframe.fuselage_components.compute_windows_mass (ID 341 )\n",
      "INFO    : Installed bundle fastga.models.aerodynamics.components.elevator_aero (ID 65 )\n",
      "INFO    : Installed bundle fastga.models.loops.constants (ID 197 )\n",
      "INFO    : Installed bundle fastga.models.performances.mission_vector.initialization.initialize_airspeed_derivatives (ID 228 )\n",
      "INFO    : Installed bundle fastga.models.propulsion.fuel_propulsion.basicTurbo_prop_map.basicTP_engine_constructor (ID 272 )\n",
      "INFO    : Installed bundle fastga.models.weight.cg.cg_components.a_airframe.a1_wing_cg (ID 292 )\n",
      "INFO    : Installed bundle fastga.models.weight.mass_breakdown.a_airframe.fuselage_components.compute_wing_fuselage_connection_mass (ID 342 )\n",
      "INFO    : Installed bundle fastga.models.weight_fuel_cell.cg.cg_components.b_propulsion.b6_h2_storage_cg (ID 390 )\n",
      "INFO    : Installed bundle fastga.models.loops.update_wing_area_group (ID 199 )\n",
      "INFO    : Installed bundle fastga.models.performances.mission_vector.initialization.initialize_altitude (ID 229 )\n",
      "INFO    : Installed bundle fastga.models.weight.cg.cg_components.a_airframe.a2_fuselage_cg (ID 293 )\n",
      "INFO    : Installed bundle fastga.models.weight.mass_breakdown.a_airframe.fuselage_components.update_fuselage_mass (ID 343 )\n",
      "INFO    : Installed bundle fastga.models.weight.mass_breakdown.d_furniture.sum (ID 374 )\n",
      "INFO    : Installed bundle fastga.models.aerodynamics.components.figure_digitization (ID 66 )\n",
      "INFO    : Installed bundle fastga.models.performances.mission_vector.initialization.initialize_cg (ID 230 )\n",
      "INFO    : Installed bundle fastga.models.weight.cg.cg_components.a_airframe.a4_flight_control_cg (ID 295 )\n",
      "INFO    : Installed bundle fastga.models.weight.mass_breakdown.a_airframe.fuselage_components.__init__ (ID 344 )\n",
      "INFO    : Installed bundle fastga.models.weight.mass_breakdown.unitary_tests.dummy_engines (ID 378 )\n",
      "INFO    : Installed bundle fastga.models.loops.unitary_tests.__init__ (ID 198 )\n",
      "INFO    : Installed bundle fastga.models.performances.mission.mission_builder_prep (ID 212 )\n",
      "INFO    : Installed bundle fastga.models.performances.mission_vector.initialization.initialize_gamma (ID 231 )\n",
      "INFO    : Installed bundle fastga.models.weight.mass_breakdown.a_airframe.wing_components.compute_lower_flange (ID 346 )\n",
      "INFO    : Installed bundle fastga.models.weight.mass_breakdown.d_furniture.__init__ (ID 375 )\n",
      "INFO    : Installed bundle fastga.models.aerodynamics.components.high_lift_aero (ID 67 )\n",
      "INFO    : Installed bundle fastga.models.performances.mission_vector.initialization.initialize_horizontal_speed (ID 232 )\n",
      "INFO    : Installed bundle fastga.models.weight.cg.cg_components.a_airframe.a3_tail_cg (ID 294 )\n",
      "INFO    : Installed bundle fastga.models.performances.mission_vector.initialization.initialize_time_and_distance (ID 233 )\n",
      "INFO    : Installed bundle fastga.models.weight.cg.cg_components.a_airframe.a5_landing_gear_cg (ID 296 )\n",
      "INFO    : Installed bundle fastga.models.aerodynamics.components.hinge_moments_elevator (ID 68 )\n",
      "INFO    : Installed bundle fastga.models.geometry.geom_components.propeller.components.compute_propeller_installation_effect (ID 121 )\n",
      "INFO    : Installed bundle fastga.models.loops.update_wing_position (ID 200 )\n",
      "INFO    : Installed bundle fastga.models.performances.mission.mission_components.climb (ID 213 )\n",
      "INFO    : Installed bundle fastga.models.performances.mission_vector.initialization.__init__ (ID 234 )\n",
      "INFO    : Installed bundle fastga.models.weight.mass_breakdown.a_airframe.sum (ID 345 )\n",
      "INFO    : Installed bundle fastga.models.loops.wing_area_component.wing_area_cl_equilibrium (ID 202 )\n",
      "INFO    : Installed bundle fastga.models.weight.cg.cg_components.ratio_aft (ID 315 )\n",
      "INFO    : Installed bundle fastga.models.weight_fuel_cell.cg.cg_components.b_propulsion.b_cg (ID 391 )\n",
      "INFO    : Installed bundle fastga.models.aerodynamics.components.mach_interpolation (ID 69 )\n",
      "INFO    : Installed bundle fastga.models.performances.mission.mission_components.cruise (ID 214 )\n",
      "INFO    : Installed bundle fastga.models.propulsion.fuel_propulsion.basicTurbo_prop_map.exceptions (ID 274 )\n",
      "INFO    : Installed bundle fastga.models.weight.cg.cg_components.a_airframe.__init__ (ID 297 )\n",
      "INFO    : Installed bundle fastga.models.weight.cg.cg_variation (ID 317 )\n",
      "INFO    : Installed bundle fastga.models.weight.mass_breakdown.a_airframe.wing_components.compute_misc_mass (ID 347 )\n",
      "INFO    : Installed bundle fastga.models.performances.mission_vector.mission.dep_equilibrium (ID 236 )\n",
      "INFO    : Installed bundle fastga.models.propulsion.fuel_propulsion.basicTurbo_prop_map.openmdao (ID 275 )\n",
      "INFO    : Installed bundle fastga.models.aerodynamics.compute_polar (ID 72 )\n",
      "INFO    : Installed bundle fastga.models.geometry.geom_components.propeller.components.compute_propeller_position (ID 122 )\n",
      "INFO    : Installed bundle fastga.models.performances.mission.mission_components.descent (ID 215 )\n",
      "INFO    : Installed bundle fastga.models.weight.mass_breakdown.a_airframe.wing_components.compute_primary_mass (ID 348 )\n",
      "INFO    : Installed bundle fastga.models.aerodynamics.components.resources.__init__ (ID 70 )\n",
      "INFO    : Installed bundle fastga.models.performances.mission_vector.mission.energy_consumption_preparation (ID 237 )\n",
      "INFO    : Installed bundle fastga.models.weight.mass_breakdown.a_airframe.wing_components.compute_ribs_mass (ID 349 )\n",
      "INFO    : Installed bundle fastga.models.performances.mission.mission_components.reserve (ID 216 )\n",
      "INFO    : Installed bundle fastga.models.weight.cg.__init__ (ID 320 )\n",
      "INFO    : Installed bundle fastga.models.weight.mass_breakdown.a_airframe.wing_components.compute_secondary_mass (ID 350 )\n",
      "INFO    : Installed bundle fastga.models.aerodynamics.components.__init__ (ID 71 )\n",
      "INFO    : Installed bundle fastga.models.performances.mission_vector.mission.equilibrium (ID 238 )\n",
      "INFO    : Installed bundle fastga.models.weight.mass_breakdown.a_airframe.wing_components.compute_skin_mass (ID 351 )\n",
      "INFO    : Installed bundle fastga.models.weight.mass_breakdown.payload (ID 377 )\n",
      "INFO    : Installed bundle fastga.models.weight.mass_breakdown.a_airframe.wing_components.compute_upper_flange (ID 352 )\n",
      "INFO    : Installed bundle fastga.models.performances.mission_vector.mission.mission_core (ID 239 )\n",
      "INFO    : Installed bundle fastga.models.performances.mission.mission_components.taxi (ID 217 )\n",
      "INFO    : Installed bundle fastga.models.weight.mass_breakdown.a_airframe.wing_components.compute_web_mass (ID 353 )\n",
      "INFO    : Installed bundle fastga.models.weight_fuel_cell.cg.cg_components.b_propulsion.__init__ (ID 392 )\n",
      "INFO    : Installed bundle fastga.models.handling_qualities.compute_static_margin (ID 159 )\n",
      "INFO    : Installed bundle fastga.models.handling_qualities.tail_sizing.__init__ (ID 167 )\n",
      "INFO    : Installed bundle fastga.models.performances.payload_range.payload_range (ID 251 )\n",
      "INFO    : Installed bundle fastga.models.weight_fuel_cell.mass_breakdown.b_propulsion.b12_h2_storage_weight (ID 398 )\n",
      "INFO    : Installed bundle fastga.models.performances.unitary_tests.__init__ (ID 254 )\n",
      "INFO    : Installed bundle fastga.models.handling_qualities.tail_sizing.compute_balked_landing_limit (ID 161 )\n",
      "INFO    : Installed bundle fastga.models.performances.payload_range.__init__ (ID 252 )\n",
      "INFO    : Installed bundle fastga.models.geometry.profiles.profile (ID 154 )\n",
      "INFO    : Installed bundle fastga.models.hybrid_powertrain.components.compute_batteries (ID 171 )\n",
      "INFO    : Installed bundle fastga.models.geometry.profiles.__init__ (ID 155 )\n",
      "INFO    : Installed bundle fastga.models.handling_qualities.handling_qualities (ID 160 )\n",
      "INFO    : Installed bundle fastga.models.propulsion.fuel_propulsion.basicIC_engine.__init__ (ID 264 )\n",
      "INFO    : Installed bundle fastga.models.weight.cg.unitary_tests.dummy_engines (ID 318 )\n",
      "INFO    : Installed bundle fastga.models.hybrid_powertrain.components.compute_bop (ID 172 )\n",
      "INFO    : Installed bundle fastga.models.load_analysis.unitary_tests.dummy_engines (ID 188 )\n",
      "INFO    : Installed bundle fastga.models.propulsion.fuel_propulsion.basicIC_engine.unitary_tests.test_basicIC_engine (ID 262 )\n",
      "INFO    : Installed bundle fastga.models.weight.cg.unitary_tests.__init__ (ID 319 )\n",
      "INFO    : Installed bundle fastga.models.weight.mass_breakdown.unitary_tests.__init__ (ID 379 )\n",
      "INFO    : Installed bundle fastga.models.hybrid_powertrain.components.compute_compressor (ID 173 )\n",
      "INFO    : Installed bundle fastga.models.propulsion.fuel_propulsion.basicIC_engine.resources.__init__ (ID 261 )\n",
      "INFO    : Installed bundle fastga.models.handling_qualities.unitary_tests.__init__ (ID 169 )\n",
      "INFO    : Installed bundle fastga.models.hybrid_powertrain.components.compute_electric_motor (ID 174 )\n",
      "INFO    : Installed bundle fastga.models.weight.constants (ID 321 )\n",
      "INFO    : Installed bundle fastga.models.weight.mass_breakdown.update_mlw_and_mzfw (ID 380 )\n",
      "INFO    : Installed bundle fastga.models.hybrid_powertrain.components.compute_fuel_cells (ID 175 )\n",
      "INFO    : Installed bundle fastga.models.load_analysis.wing.aerodynamic_loads (ID 190 )\n",
      "INFO    : Installed bundle fastga.models.propulsion.fuel_propulsion.basicTurbo_prop.basicTP_engine (ID 265 )\n",
      "INFO    : Installed bundle fastga.models.propulsion.hybrid_propulsion.basicHE_engine.__init__ (ID 287 )\n",
      "INFO    : Installed bundle fastga.models.load_analysis.wing.constants (ID 192 )\n",
      "INFO    : Installed bundle fastga.models.propulsion.hybrid_propulsion.basicHE_engine.unitary_tests.test_basicHE_engine (ID 285 )\n",
      "INFO    : Installed bundle fastga.models.weight_fuel_cell.mass_breakdown.b_propulsion.b1_2_oil_weight (ID 399 )\n",
      "INFO    : Installed bundle fastga.models.geometry.unitary_tests.dummy_engines (ID 156 )\n",
      "INFO    : Installed bundle fastga.models.handling_qualities.__init__ (ID 170 )\n",
      "INFO    : Installed bundle fastga.models.hybrid_powertrain.components.compute_h2_storage (ID 176 )\n",
      "INFO    : Installed bundle fastga.models.load_analysis.wing.aerostructural_loads (ID 191 )\n",
      "INFO    : Installed bundle fastga.models.propulsion.hybrid_propulsion.basicHE_engine.resources.__init__ (ID 284 )\n",
      "INFO    : Installed bundle fastga.models.geometry.unitary_tests.__init__ (ID 157 )\n",
      "INFO    : Installed bundle fastga.models.load_analysis.wing.loads (ID 193 )\n",
      "INFO    : Installed bundle fastga.models.propulsion.fuel_propulsion.basicIC_engine.unitary_tests.__init__ (ID 263 )\n",
      "INFO    : Installed bundle fastga.models.load_analysis.unitary_tests.__init__ (ID 189 )\n",
      "INFO    : Installed bundle fastga.models.weight_fuel_cell.cg.cg_components.b_propulsion.b2_fuel_lines_cg (ID 386 )\n",
      "INFO    : Installed bundle fastga.models.hybrid_powertrain.components.compute_hex (ID 177 )\n",
      "INFO    : Installed bundle fastga.models.load_analysis.wing.__init__ (ID 195 )\n",
      "INFO    : Installed bundle fastga.models.propulsion.propulsion (ID 289 )\n",
      "INFO    : Installed bundle fastga.models.weight.mass_breakdown.__init__ (ID 382 )\n",
      "INFO    : Installed bundle fastga.models.weight_fuel_cell.mass_breakdown.b_propulsion.b1_ICengine_weight (ID 400 )\n",
      "INFO    : Installed bundle fastga.models.hybrid_powertrain.components.compute_intakes (ID 178 )\n",
      "INFO    : Installed bundle fastga.models.performances.mission.__init__ (ID 223 )\n",
      "INFO    : Installed bundle fastga.models.propulsion.hybrid_propulsion.__init__ (ID 288 )\n",
      "INFO    : Installed bundle fastga.models.performances.mission.takeoff_HE (ID 222 )\n",
      "INFO    : Installed bundle fastga.models.weight_fuel_cell.mass_breakdown.b_propulsion.b2_fuel_lines_weight (ID 401 )\n",
      "INFO    : Installed bundle fastga.models.geometry.__init__ (ID 158 )\n",
      "INFO    : Installed bundle fastga.models.handling_qualities.unitary_tests.dummy_engines (ID 168 )\n",
      "INFO    : Installed bundle fastga.models.hybrid_powertrain.components.compute_inverter (ID 179 )\n",
      "INFO    : Installed bundle fastga.models.propulsion.__init__ (ID 290 )\n",
      "INFO    : Installed bundle fastga.models.performances.unitary_tests.dummy_engines (ID 253 )\n",
      "INFO    : Installed bundle fastga.models.performances.mission_vector.constants (ID 224 )\n",
      "INFO    : Installed bundle fastga.models.performances.__init__ (ID 255 )\n",
      "INFO    : Installed bundle fastga.models.hybrid_powertrain.components.resources.battery (ID 180 )\n",
      "INFO    : Installed bundle fastga.models.performances.mission_vector.initialization.initialize (ID 226 )\n",
      "INFO    : Installed bundle fastga.models.weight_fuel_cell.mass_breakdown.b_propulsion.b3_unusable_fuel_weight (ID 402 )\n",
      "INFO    : Installed bundle fastga.models.hybrid_powertrain.components.resources.constants (ID 181 )\n",
      "INFO    : Installed bundle fastga.models.propulsion.hybrid_propulsion.basicHE_engine.unitary_tests.__init__ (ID 286 )\n",
      "INFO    : Installed bundle fastga.models.weight.mass_breakdown.update_mtow (ID 381 )\n",
      "INFO    : Installed bundle fastga.models.hybrid_powertrain.components.resources.fuel_cell (ID 182 )\n",
      "INFO    : Installed bundle fastga.models.weight.weight (ID 383 )\n",
      "INFO    : Installed bundle fastga.models.propulsion.dict (ID 256 )\n",
      "INFO    : Installed bundle fastga.models.propulsion.fuel_propulsion.basicTurbo_prop.exceptions (ID 266 )\n",
      "INFO    : Installed bundle fastga.models.weight_fuel_cell.mass_breakdown.b_propulsion.b4_Eengine_weight (ID 403 )\n",
      "INFO    : Installed bundle fastga.models.hybrid_powertrain.components.resources.h2_storage (ID 183 )\n",
      "INFO    : Installed bundle fastga.models.propulsion.fuel_propulsion.basicIC_engine.basicIC_engine (ID 258 )\n",
      "INFO    : Installed bundle fastga.models.propulsion.fuel_propulsion.base (ID 257 )\n",
      "INFO    : Installed bundle fastga.models.weight.cg.cg (ID 291 )\n",
      "INFO    : Installed bundle fastga.models.hybrid_powertrain.components.resources.__init__ (ID 184 )\n",
      "INFO    : Installed bundle fastga.models.weight.__init__ (ID 384 )\n",
      "INFO    : Installed bundle fastga.models.weight_fuel_cell.cg.cg_components.b_propulsion.b1_engine_cg (ID 385 )\n",
      "INFO    : Installed bundle fastga.models.weight_fuel_cell.mass_breakdown.b_propulsion.b5_cables_weight (ID 404 )\n",
      "INFO    : Installed bundle fastga.models.hybrid_powertrain.__init__ (ID 187 )\n",
      "INFO    : Installed bundle fastga.models.hybrid_powertrain.components.__init__ (ID 185 )\n",
      "INFO    : Installed bundle fastga.models.propulsion.fuel_propulsion.basicTurbo_prop.openmdao (ID 267 )\n",
      "INFO    : Installed bundle fastga.models.weight_fuel_cell.mass_breakdown.b_propulsion.b6_power_electronics_weight (ID 405 )\n",
      "INFO    : Installed bundle fastga.models.hybrid_powertrain.compute_hybrid_powertrain (ID 186 )\n",
      "WARNING : Failed to import module fastga.models.geometry.unitary_tests\n",
      "WARNING : Failed to import module fastga.models.load_analysis.unitary_tests\n",
      "WARNING : Failed to import module fastga.models.handling_qualities.unitary_tests\n",
      "WARNING : Failed to import module fastga.models.propulsion.fuel_propulsion.basicTurbo_prop.unitary_tests\n",
      "WARNING : Failed to import module fastga.models.loops.unitary_tests\n",
      "WARNING : Failed to import module fastga.models.aerodynamics.unitary_tests\n",
      "WARNING : Failed to import module fastga.models.propulsion.fuel_propulsion.basicIC_engine.unitary_tests\n",
      "WARNING : Failed to import module fastga.models.performances.unitary_tests\n",
      "WARNING : Failed to import module fastga.models.propulsion.fuel_propulsion.basicTurbo_prop_map.unitary_tests\n",
      "WARNING : Failed to import module fastga.models.weight.cg.unitary_tests\n",
      "WARNING : Failed to import module fastga.models.weight.mass_breakdown.unitary_tests\n",
      "WARNING : Failed to import module fastga.models.propulsion.hybrid_propulsion.basicHE_engine.unitary_tests\n",
      "WARNING : Failed to import module fastga.models.hybrid_powertrain\n",
      "INFO    : Loaded variable descriptions in fastga.models\n"
     ]
    },
    {
     "name": "stdout",
     "output_type": "stream",
     "text": [
      "\n",
      "===============\n",
      "aircraft_sizing\n",
      "===============\n"
     ]
    },
    {
     "name": "stderr",
     "output_type": "stream",
     "text": [
      "WARNING : Chord ratio value outside of the range in Roskam's book, value clipped\n",
      "WARNING : Aspect ratio value outside of the range in Roskam's book, value clipped\n",
      "WARNING : Chord ratio value outside of the range in Roskam's book, value clipped\n",
      "WARNING : Chord ratio value outside of the range in Roskam's book, value clipped\n",
      "WARNING : Chord ratio value outside of the range in Roskam's book, value clipped\n",
      "WARNING : Aspect ratio value outside of the range in Roskam's book, value clipped\n",
      "WARNING : Chord ratio value outside of the range in Roskam's book, value clipped\n",
      "WARNING : Chord ratio value outside of the range in Roskam's book, value clipped\n",
      "WARNING : Chord ratio value outside of the range in Roskam's book, value clipped\n",
      "INFO    : Entering mission computation\n",
      "INFO    : Entering mission computation\n",
      "INFO    : Entering mission computation\n",
      "INFO    : Looping on wing area with new value equal to 11.242109\n"
     ]
    },
    {
     "name": "stdout",
     "output_type": "stream",
     "text": [
      "NL: NLBGS 1 ; 13406455.2 1\n"
     ]
    },
    {
     "name": "stderr",
     "output_type": "stream",
     "text": [
      "WARNING : Chord ratio value outside of the range in Roskam's book, value clipped\n",
      "WARNING : Aspect ratio value outside of the range in Roskam's book, value clipped\n",
      "WARNING : Chord ratio value outside of the range in Roskam's book, value clipped\n",
      "WARNING : Chord ratio value outside of the range in Roskam's book, value clipped\n",
      "WARNING : Chord ratio value outside of the range in Roskam's book, value clipped\n",
      "WARNING : Aspect ratio value outside of the range in Roskam's book, value clipped\n",
      "WARNING : Chord ratio value outside of the range in Roskam's book, value clipped\n",
      "WARNING : Chord ratio value outside of the range in Roskam's book, value clipped\n",
      "WARNING : Chord ratio value outside of the range in Roskam's book, value clipped\n",
      "INFO    : Entering mission computation\n",
      "INFO    : Entering mission computation\n",
      "INFO    : Entering mission computation\n",
      "INFO    : Looping on wing area with new value equal to 10.782490\n"
     ]
    },
    {
     "name": "stdout",
     "output_type": "stream",
     "text": [
      "NL: NLBGS 2 ; 5879250.83 0.438538803\n"
     ]
    },
    {
     "name": "stderr",
     "output_type": "stream",
     "text": [
      "WARNING : Chord ratio value outside of the range in Roskam's book, value clipped\n",
      "WARNING : Aspect ratio value outside of the range in Roskam's book, value clipped\n",
      "WARNING : Chord ratio value outside of the range in Roskam's book, value clipped\n",
      "WARNING : Chord ratio value outside of the range in Roskam's book, value clipped\n",
      "WARNING : Chord ratio value outside of the range in Roskam's book, value clipped\n",
      "WARNING : Aspect ratio value outside of the range in Roskam's book, value clipped\n",
      "WARNING : Chord ratio value outside of the range in Roskam's book, value clipped\n",
      "WARNING : Chord ratio value outside of the range in Roskam's book, value clipped\n",
      "WARNING : Chord ratio value outside of the range in Roskam's book, value clipped\n",
      "INFO    : Entering mission computation\n",
      "INFO    : Entering mission computation\n",
      "INFO    : Entering mission computation\n",
      "INFO    : Looping on wing area with new value equal to 12.259382\n"
     ]
    },
    {
     "name": "stdout",
     "output_type": "stream",
     "text": [
      "NL: NLBGS 3 ; 1276383.8 0.0952066585\n"
     ]
    },
    {
     "name": "stderr",
     "output_type": "stream",
     "text": [
      "WARNING : Chord ratio value outside of the range in Roskam's book, value clipped\n",
      "WARNING : Aspect ratio value outside of the range in Roskam's book, value clipped\n",
      "WARNING : Chord ratio value outside of the range in Roskam's book, value clipped\n",
      "WARNING : Chord ratio value outside of the range in Roskam's book, value clipped\n",
      "WARNING : Chord ratio value outside of the range in Roskam's book, value clipped\n",
      "WARNING : Aspect ratio value outside of the range in Roskam's book, value clipped\n",
      "WARNING : Chord ratio value outside of the range in Roskam's book, value clipped\n",
      "WARNING : Chord ratio value outside of the range in Roskam's book, value clipped\n",
      "WARNING : Chord ratio value outside of the range in Roskam's book, value clipped\n",
      "INFO    : Entering mission computation\n",
      "INFO    : Entering mission computation\n",
      "INFO    : Entering mission computation\n",
      "INFO    : Looping on wing area with new value equal to 12.512917\n"
     ]
    },
    {
     "name": "stdout",
     "output_type": "stream",
     "text": [
      "NL: NLBGS 4 ; 1233919.9 0.0920392359\n"
     ]
    },
    {
     "name": "stderr",
     "output_type": "stream",
     "text": [
      "WARNING : Chord ratio value outside of the range in Roskam's book, value clipped\n",
      "WARNING : Aspect ratio value outside of the range in Roskam's book, value clipped\n",
      "WARNING : Chord ratio value outside of the range in Roskam's book, value clipped\n",
      "WARNING : Chord ratio value outside of the range in Roskam's book, value clipped\n",
      "WARNING : Chord ratio value outside of the range in Roskam's book, value clipped\n",
      "WARNING : Aspect ratio value outside of the range in Roskam's book, value clipped\n",
      "WARNING : Chord ratio value outside of the range in Roskam's book, value clipped\n",
      "WARNING : Chord ratio value outside of the range in Roskam's book, value clipped\n",
      "WARNING : Chord ratio value outside of the range in Roskam's book, value clipped\n",
      "INFO    : Entering mission computation\n",
      "INFO    : Entering mission computation\n",
      "INFO    : Entering mission computation\n",
      "INFO    : Looping on wing area with new value equal to 12.747706\n"
     ]
    },
    {
     "name": "stdout",
     "output_type": "stream",
     "text": [
      "NL: NLBGS 5 ; 854733.874 0.0637553969\n"
     ]
    },
    {
     "name": "stderr",
     "output_type": "stream",
     "text": [
      "WARNING : Chord ratio value outside of the range in Roskam's book, value clipped\n",
      "WARNING : Aspect ratio value outside of the range in Roskam's book, value clipped\n",
      "WARNING : Chord ratio value outside of the range in Roskam's book, value clipped\n",
      "WARNING : Chord ratio value outside of the range in Roskam's book, value clipped\n",
      "WARNING : Chord ratio value outside of the range in Roskam's book, value clipped\n",
      "WARNING : Aspect ratio value outside of the range in Roskam's book, value clipped\n",
      "WARNING : Chord ratio value outside of the range in Roskam's book, value clipped\n",
      "WARNING : Chord ratio value outside of the range in Roskam's book, value clipped\n",
      "WARNING : Chord ratio value outside of the range in Roskam's book, value clipped\n",
      "INFO    : Entering mission computation\n",
      "INFO    : Entering mission computation\n",
      "INFO    : Entering mission computation\n",
      "INFO    : Looping on wing area with new value equal to 12.843258\n"
     ]
    },
    {
     "name": "stdout",
     "output_type": "stream",
     "text": [
      "NL: NLBGS 6 ; 182694.051 0.0136273197\n"
     ]
    },
    {
     "name": "stderr",
     "output_type": "stream",
     "text": [
      "WARNING : Chord ratio value outside of the range in Roskam's book, value clipped\n",
      "WARNING : Aspect ratio value outside of the range in Roskam's book, value clipped\n",
      "WARNING : Chord ratio value outside of the range in Roskam's book, value clipped\n",
      "WARNING : Chord ratio value outside of the range in Roskam's book, value clipped\n",
      "WARNING : Chord ratio value outside of the range in Roskam's book, value clipped\n",
      "WARNING : Aspect ratio value outside of the range in Roskam's book, value clipped\n",
      "WARNING : Chord ratio value outside of the range in Roskam's book, value clipped\n",
      "WARNING : Chord ratio value outside of the range in Roskam's book, value clipped\n",
      "WARNING : Chord ratio value outside of the range in Roskam's book, value clipped\n",
      "INFO    : Entering mission computation\n",
      "INFO    : Entering mission computation\n",
      "INFO    : Entering mission computation\n",
      "INFO    : Looping on wing area with new value equal to 12.893304\n"
     ]
    },
    {
     "name": "stdout",
     "output_type": "stream",
     "text": [
      "NL: NLBGS 7 ; 59353.5506 0.0044272367\n"
     ]
    },
    {
     "name": "stderr",
     "output_type": "stream",
     "text": [
      "WARNING : Chord ratio value outside of the range in Roskam's book, value clipped\n",
      "WARNING : Aspect ratio value outside of the range in Roskam's book, value clipped\n",
      "WARNING : Chord ratio value outside of the range in Roskam's book, value clipped\n",
      "WARNING : Chord ratio value outside of the range in Roskam's book, value clipped\n",
      "WARNING : Chord ratio value outside of the range in Roskam's book, value clipped\n",
      "WARNING : Aspect ratio value outside of the range in Roskam's book, value clipped\n",
      "WARNING : Chord ratio value outside of the range in Roskam's book, value clipped\n",
      "WARNING : Chord ratio value outside of the range in Roskam's book, value clipped\n",
      "WARNING : Chord ratio value outside of the range in Roskam's book, value clipped\n",
      "INFO    : Entering mission computation\n",
      "INFO    : Entering mission computation\n",
      "INFO    : Entering mission computation\n",
      "INFO    : Looping on wing area with new value equal to 12.915488\n"
     ]
    },
    {
     "name": "stdout",
     "output_type": "stream",
     "text": [
      "NL: NLBGS 8 ; 22361.7383 0.00166798292\n"
     ]
    },
    {
     "name": "stderr",
     "output_type": "stream",
     "text": [
      "WARNING : Chord ratio value outside of the range in Roskam's book, value clipped\n",
      "WARNING : Aspect ratio value outside of the range in Roskam's book, value clipped\n",
      "WARNING : Chord ratio value outside of the range in Roskam's book, value clipped\n",
      "WARNING : Chord ratio value outside of the range in Roskam's book, value clipped\n",
      "WARNING : Chord ratio value outside of the range in Roskam's book, value clipped\n",
      "WARNING : Aspect ratio value outside of the range in Roskam's book, value clipped\n",
      "WARNING : Chord ratio value outside of the range in Roskam's book, value clipped\n",
      "WARNING : Chord ratio value outside of the range in Roskam's book, value clipped\n",
      "WARNING : Chord ratio value outside of the range in Roskam's book, value clipped\n",
      "INFO    : Entering mission computation\n",
      "INFO    : Entering mission computation\n",
      "INFO    : Entering mission computation\n",
      "INFO    : Looping on wing area with new value equal to 12.926004\n"
     ]
    },
    {
     "name": "stdout",
     "output_type": "stream",
     "text": [
      "NL: NLBGS 9 ; 12110.7341 0.000903350953\n",
      "NL: NLBGS Converged\n"
     ]
    },
    {
     "name": "stderr",
     "output_type": "stream",
     "text": [
      "INFO    : Computation finished after 125.74 seconds\n",
      "INFO    : Problem outputs written in d:\\enguyen\\fuel-cell-general-aviation\\src\\fastga\\notebooks\\fc_integration_test\\workdir\\problem_outputs_da42.xml\n"
     ]
    }
   ],
   "source": [
    "eval_problem = api_cs25.evaluate_problem(CONFIGURATION_FILE, overwrite=True)"
   ]
  },
  {
   "cell_type": "markdown",
   "metadata": {},
   "source": [
    "Let's save these results. We will use them in the next workbook, that shows some post-processing utilities."
   ]
  },
  {
   "cell_type": "code",
   "execution_count": null,
   "metadata": {},
   "outputs": [],
   "source": [
    "OUTPUT_FILE = pth.join(WORK_FOLDER_PATH, \"problem_outputs.xml\")\n",
    "FuelCell_OUTPUT_FILE = pth.join(WORK_FOLDER_PATH, \"problem_outputs_fuel_cell_150NM_mda.xml\")\n",
    "shutil.copy(OUTPUT_FILE, FuelCell_OUTPUT_FILE)"
   ]
  },
  {
   "cell_type": "markdown",
   "metadata": {},
   "source": [
    "The `variable-viewer` provides a way to inspect the content of the XML file. The dropdown lists above the table allow to filter the displayed variable."
   ]
  },
  {
   "cell_type": "code",
   "execution_count": null,
   "metadata": {},
   "outputs": [],
   "source": [
    "api_cs25.variable_viewer(OUTPUT_FILE)"
   ]
  }
 ],
 "metadata": {
  "kernelspec": {
   "display_name": "Python 3 (ipykernel)",
   "language": "python",
   "name": "python3"
  },
  "language_info": {
   "codemirror_mode": {
    "name": "ipython",
    "version": 3
   },
   "file_extension": ".py",
   "mimetype": "text/x-python",
   "name": "python",
   "nbconvert_exporter": "python",
   "pygments_lexer": "ipython3",
   "version": "3.9.9"
  }
 },
 "nbformat": 4,
 "nbformat_minor": 4
}
